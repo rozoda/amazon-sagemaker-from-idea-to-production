{
 "cells": [
  {
   "cell_type": "markdown",
   "id": "e6b39bb5-1408-45ab-af98-fa786ce6d55f",
   "metadata": {},
   "source": [
    "# Step 2: Add SageMaker processing and training jobs\n",
    "In this step you move data processing and model training into [SageMaker Docker containers](https://docs.aws.amazon.com/sagemaker/latest/dg/docker-containers.html) and use [SageMaker Python SDK](https://sagemaker.readthedocs.io/en/stable/index.html) to interact with SageMaker.\n",
    "\n",
    "![](img/six-steps-2.png)\n",
    "\n",
    "SageMaker makes use of Docker containers to enable developers to process data, train and deploy models. Containers allow developers and data scientists to package software into standardized units that run consistently on any platform that supports Docker. Containers ensure that code, runtime, system tools, system libraries, and settings are all in the same place, isolating them from the execution environment. It guarantees a consistent runtime experience regardless of where a container is being run.\n",
    "\n",
    "SageMaker also provides pre-build containers with popular data processing frameworks and ML algorithms. All SageMaker built-in algorithms are delivered as Docker containers."
   ]
  },
  {
   "cell_type": "markdown",
   "id": "ffd00ea7",
   "metadata": {},
   "source": [
    "<div class=\"alert alert-info\"> Make sure you using <code>Python 3</code> kernel in JupyterLab for this notebook.</div>"
   ]
  },
  {
   "cell_type": "code",
   "execution_count": 2,
   "id": "f6e4e390-2278-4a1c-8886-13d67507c818",
   "metadata": {
    "tags": []
   },
   "outputs": [
    {
     "name": "stdout",
     "output_type": "stream",
     "text": [
      "sagemaker.config INFO - Not applying SDK defaults from location: /etc/xdg/sagemaker/config.yaml\n",
      "sagemaker.config INFO - Fetched defaults config from location: /home/sagemaker-user/.config/sagemaker/config.yaml\n"
     ]
    },
    {
     "data": {
      "text/plain": [
       "'2.226.1'"
      ]
     },
     "execution_count": 2,
     "metadata": {},
     "output_type": "execute_result"
    }
   ],
   "source": [
    "import time\n",
    "import boto3\n",
    "import botocore\n",
    "import numpy as np  \n",
    "import pandas as pd  \n",
    "import sagemaker\n",
    "import os\n",
    "import mlflow\n",
    "from time import gmtime, strftime, sleep\n",
    "from sagemaker.processing import FrameworkProcessor, ProcessingInput, ProcessingOutput\n",
    "from sagemaker.sklearn.estimator import SKLearn\n",
    "from sklearn.metrics import roc_auc_score\n",
    "from mlflow import MlflowClient\n",
    "\n",
    "sagemaker.__version__"
   ]
  },
  {
   "cell_type": "code",
   "execution_count": 1,
   "id": "1c357f9a-0df7-4358-a231-62aaaeec605f",
   "metadata": {
    "tags": []
   },
   "outputs": [
    {
     "name": "stdout",
     "output_type": "stream",
     "text": [
      "Stored variables and their in-db values:\n",
      "bucket_name                         -> 'sagemaker-us-east-1-446490546198'\n",
      "bucket_prefix                       -> 'mlops-pk/xgboost'\n",
      "dataset_file_local_path             -> 'data/bank-additional/bank-additional-full.csv'\n",
      "domain_id                           -> 'd-fkrqwhxrpnws'\n",
      "initialized                         -> True\n",
      "mlflow_arn                          -> 'arn:aws:sagemaker:us-east-1:446490546198:mlflow-t\n",
      "mlflow_name                         -> 'mlflow-d-fkrqwhxrpnws-20-05-26-15'\n",
      "region                              -> 'us-east-1'\n",
      "sm_role                             -> 'arn:aws:iam::446490546198:role/service-role/Amazo\n",
      "space_name                          -> 'jupyter'\n",
      "user_profile_name                   -> 'default-20240919T173153'\n"
     ]
    }
   ],
   "source": [
    "%store -r \n",
    "\n",
    "%store\n",
    "\n",
    "try:\n",
    "    initialized\n",
    "except NameError:\n",
    "    print(\"+++++++++++++++++++++++++++++++++++++++++++++++++\")\n",
    "    print(\"[ERROR] YOU HAVE TO RUN 00-start-here notebook   \")\n",
    "    print(\"+++++++++++++++++++++++++++++++++++++++++++++++++\")"
   ]
  },
  {
   "cell_type": "code",
   "execution_count": 4,
   "id": "5214e551-4800-47c2-9eae-337f4fc5ed7f",
   "metadata": {
    "tags": []
   },
   "outputs": [],
   "source": [
    "session = sagemaker.Session()\n",
    "sm = session.sagemaker_client"
   ]
  },
  {
   "cell_type": "markdown",
   "id": "d5beedac-1847-47eb-b294-5eac2ecaa7ef",
   "metadata": {},
   "source": [
    "## Prepare an MLflow experiment\n",
    "Re-use the existing experiment we created in the previous notebook. You're going to track new runs in the same experiment.\n",
    "You can also create a new experiment to track runs in this notebook – in this case just uncomment the following code cell."
   ]
  },
  {
   "cell_type": "code",
   "execution_count": 5,
   "id": "2d71279f-dca1-4c0f-b073-00f0b5ebf0e5",
   "metadata": {},
   "outputs": [],
   "source": [
    "experiment_suffix = strftime('%d-%H-%M-%S', gmtime())\n",
    "registered_model_name = f\"from-idea-to-prod-job-model-{experiment_suffix}\""
   ]
  },
  {
   "cell_type": "code",
   "execution_count": 6,
   "id": "9e798262-7ee3-45e8-86b0-da6ff1cf9a61",
   "metadata": {
    "tags": []
   },
   "outputs": [],
   "source": [
    "# Uncomment code block (Cmd + /) if you would like to create a new experiment\n",
    "\n",
    "# experiment_name = f\"from-idea-to-prod-experiment-{experiment_suffix}\""
   ]
  },
  {
   "cell_type": "code",
   "execution_count": 7,
   "id": "c2737ea1-3774-456b-9601-c6b173736340",
   "metadata": {},
   "outputs": [],
   "source": [
    "mlflow.set_tracking_uri(mlflow_arn)\n",
    "experiment = mlflow.set_experiment(experiment_name=experiment_name)"
   ]
  },
  {
   "cell_type": "markdown",
   "id": "2b39c88c-6aed-47b4-8048-a27f35444e10",
   "metadata": {},
   "source": [
    "## Process data with SageMaker processing jobs\n",
    "Use [SageMaker Processing](https://docs.aws.amazon.com/sagemaker/latest/dg/processing-job.html) by simply providing a Python data preprocessing script and choosing a [SageMaker SDK processor](https://sagemaker.readthedocs.io/en/stable/amazon_sagemaker_processing.html) class.\n",
    "You must upload the input data to S3 and specify an S3 location for output data. SageMaker Processing automatically loads the input data from S3 and uploads transformed data back to S3 when the job is complete. The processing container image can either be an Amazon SageMaker built-in image or a custom image that you provide. The underlying infrastructure for a Processing job is fully managed by Amazon SageMaker. Cluster resources are provisioned for the duration of your job, and cleaned up when a job completes.\n",
    "\n",
    "![](img/sagemaker-processing.png)"
   ]
  },
  {
   "cell_type": "markdown",
   "id": "31b4f1fe-ef68-4151-8d7d-28269e39b68a",
   "metadata": {},
   "source": [
    "Your input data must be stored in an Amazon S3 bucket. Alternatively, you can use [Amazon Athena](https://sagemaker.readthedocs.io/en/stable/api/utility/inputs.html#sagemaker.dataset_definition.inputs.AthenaDatasetDefinition) or [Amazon Redshift](https://sagemaker.readthedocs.io/en/stable/api/utility/inputs.html#sagemaker.dataset_definition.inputs.AthenaDatasetDefinition) as input sources.\n",
    "\n",
    "Upload the input dataset to an Amazon S3 bucket:"
   ]
  },
  {
   "cell_type": "code",
   "execution_count": 8,
   "id": "01ba50c3-8428-4756-9a2c-8b6f8d19a52b",
   "metadata": {
    "tags": []
   },
   "outputs": [
    {
     "name": "stdout",
     "output_type": "stream",
     "text": [
      "Stored 'input_s3_url' (str)\n"
     ]
    }
   ],
   "source": [
    "input_s3_url = session.upload_data(\n",
    "    path=\"data/bank-additional/bank-additional-full.csv\",\n",
    "    bucket=bucket_name,\n",
    "    key_prefix=f\"{bucket_prefix}/input\"\n",
    ")\n",
    "\n",
    "%store input_s3_url"
   ]
  },
  {
   "cell_type": "code",
   "execution_count": 9,
   "id": "118099a1-e789-435e-a309-4dd9043f219d",
   "metadata": {
    "tags": []
   },
   "outputs": [],
   "source": [
    "# !aws s3 ls {bucket_name}/{bucket_prefix} --recursive"
   ]
  },
  {
   "cell_type": "markdown",
   "id": "8172a970-448a-4684-81b0-dc01978112d1",
   "metadata": {},
   "source": [
    "### Run processing script in a SageMaker Framework container\n",
    "You start with running your data processing script in a SageMaker pre-built managed container."
   ]
  },
  {
   "cell_type": "markdown",
   "id": "7babd5da-715d-47e7-9a5e-fa88296e8af7",
   "metadata": {},
   "source": [
    "<div class=\"alert alert-info\"> Since you're using MLflow in the processing script, you need to provide a <code>requirements.txt</code> so that the container installs mlflow and MLflow SageMaker plugin before running the processing script.</div>"
   ]
  },
  {
   "cell_type": "code",
   "execution_count": 10,
   "id": "06f231dc-e97c-4cf7-b81a-8f415ac77c14",
   "metadata": {},
   "outputs": [],
   "source": [
    "dependencies_dir=\"./processing/requirements/\"\n",
    "%mkdir -p processing\n",
    "%mkdir -p {dependencies_dir}"
   ]
  },
  {
   "cell_type": "code",
   "execution_count": 11,
   "id": "0f08051e-8c64-42d7-9b74-24db11146e0d",
   "metadata": {},
   "outputs": [
    {
     "name": "stdout",
     "output_type": "stream",
     "text": [
      "Writing ./processing/requirements/requirements.txt\n"
     ]
    }
   ],
   "source": [
    "%%writefile {dependencies_dir}requirements.txt\n",
    "mlflow==2.13.2\n",
    "sagemaker-mlflow==0.1.0"
   ]
  },
  {
   "cell_type": "markdown",
   "id": "a547ea17-c14a-41b4-a0d8-26164cf24615",
   "metadata": {},
   "source": [
    "Create a Python script by moving the data processing code from the step 1 notebook to a .py file and adding experiment tracking with MLflow:"
   ]
  },
  {
   "cell_type": "code",
   "execution_count": 12,
   "id": "25f6f89d-c9fa-4432-bf3e-5cc21aeb2e6f",
   "metadata": {
    "tags": []
   },
   "outputs": [
    {
     "name": "stdout",
     "output_type": "stream",
     "text": [
      "Writing processing/preprocessing.py\n"
     ]
    }
   ],
   "source": [
    "%%writefile processing/preprocessing.py\n",
    "\n",
    "from sklearn.preprocessing import MinMaxScaler, LabelEncoder\n",
    "import pandas as pd\n",
    "import numpy as np\n",
    "import argparse\n",
    "import os\n",
    "\n",
    "from time import gmtime, strftime, sleep\n",
    "import traceback\n",
    "\n",
    "import mlflow\n",
    "\n",
    "user_profile_name = os.getenv('USER')\n",
    "\n",
    "def _parse_args():\n",
    "    \n",
    "    parser = argparse.ArgumentParser()\n",
    "    # Data, model, and output directories\n",
    "    # model_dir is always passed in from SageMaker. By default this is a S3 path under the default bucket.\n",
    "    parser.add_argument('--filepath', type=str, default='/opt/ml/processing/input/')\n",
    "    parser.add_argument('--filename', type=str, default='bank-additional-full.csv')\n",
    "    parser.add_argument('--outputpath', type=str, default='/opt/ml/processing/output/')\n",
    "    \n",
    "    return parser.parse_known_args()\n",
    "\n",
    "def process_data(df_data):\n",
    "    # Indicator variable to capture when pdays takes a value of 999\n",
    "    df_data[\"no_previous_contact\"] = np.where(df_data[\"pdays\"] == 999, 1, 0)\n",
    "\n",
    "    # Indicator for individuals not actively employed\n",
    "    df_data[\"not_working\"] = np.where(\n",
    "        np.in1d(df_data[\"job\"], [\"student\", \"retired\", \"unemployed\"]), 1, 0\n",
    "    )\n",
    "\n",
    "    # remove unnecessary data\n",
    "    df_model_data = df_data.drop(\n",
    "        [\"duration\", \"emp.var.rate\", \"cons.price.idx\", \"cons.conf.idx\", \"euribor3m\", \"nr.employed\"],\n",
    "        axis=1,\n",
    "    )\n",
    "\n",
    "    bins = [18, 30, 40, 50, 60, 70, 90]\n",
    "    labels = ['18-29', '30-39', '40-49', '50-59', '60-69', '70-plus']\n",
    "\n",
    "    df_model_data['age_range'] = pd.cut(df_model_data.age, bins, labels=labels, include_lowest=True)\n",
    "    df_model_data = pd.concat([df_model_data, pd.get_dummies(df_model_data['age_range'], prefix='age', dtype=int)], axis=1)\n",
    "    df_model_data.drop('age', axis=1, inplace=True)\n",
    "    df_model_data.drop('age_range', axis=1, inplace=True)\n",
    "\n",
    "    scaled_features = ['pdays', 'previous', 'campaign']\n",
    "    df_model_data[scaled_features] = MinMaxScaler().fit_transform(df_model_data[scaled_features])\n",
    "\n",
    "    df_model_data = pd.get_dummies(df_model_data, dtype=int)  # Convert categorical variables to sets of indicators\n",
    "\n",
    "    # Replace \"y_no\" and \"y_yes\" with a single label column, and bring it to the front:\n",
    "    df_model_data = pd.concat(\n",
    "        [\n",
    "            df_model_data[\"y_yes\"].rename(target_col),\n",
    "            df_model_data.drop([\"y_no\", \"y_yes\"], axis=1),\n",
    "        ],\n",
    "        axis=1,\n",
    "    )\n",
    "    \n",
    "    return df_model_data\n",
    "\n",
    "if __name__==\"__main__\":\n",
    "    # Process arguments\n",
    "    args, _ = _parse_args()\n",
    "    \n",
    "    target_col = \"y\"\n",
    "\n",
    "    # Set the Tracking Server URI using the ARN of the Tracking Server you created\n",
    "    mlflow.set_tracking_uri(os.environ['MLFLOW_TRACKING_ARN'])\n",
    "    \n",
    "    # Enable autologging in MLflow\n",
    "    mlflow.autolog()\n",
    "\n",
    "    # Use the active run_id to log \n",
    "    with mlflow.start_run(run_id=os.environ['MLFLOW_RUN_ID']) as run:\n",
    "        # process data\n",
    "        df_model_data = process_data(pd.read_csv(os.path.join(args.filepath, args.filename), sep=\";\"))\n",
    "    \n",
    "        # Shuffle and splitting dataset\n",
    "        train_data, validation_data, test_data = np.split(\n",
    "            df_model_data.sample(frac=1, random_state=1729),\n",
    "            [int(0.7 * len(df_model_data)), int(0.9 * len(df_model_data))],\n",
    "        )\n",
    "    \n",
    "        print(f\"Data split > train:{train_data.shape} | validation:{validation_data.shape} | test:{test_data.shape}\")\n",
    "        mlflow.log_params(\n",
    "            {\n",
    "                \"train\": train_data.shape,\n",
    "                \"validate\": validation_data.shape,\n",
    "                \"test\": test_data.shape\n",
    "            }\n",
    "        )\n",
    "\n",
    "        mlflow.set_tags(\n",
    "            {\n",
    "                'mlflow.user':user_profile_name,\n",
    "                'mlflow.source.type':'JOB'\n",
    "            }\n",
    "        )\n",
    "        \n",
    "        # Save datasets locally\n",
    "        train_data.to_csv(os.path.join(args.outputpath, 'train/train.csv'), index=False, header=False)\n",
    "        validation_data.to_csv(os.path.join(args.outputpath, 'validation/validation.csv'), index=False, header=False)\n",
    "        test_data[target_col].to_csv(os.path.join(args.outputpath, 'test/test_y.csv'), index=False, header=False)\n",
    "        test_data.drop([target_col], axis=1).to_csv(os.path.join(args.outputpath, 'test/test_x.csv'), index=False, header=False)\n",
    "        \n",
    "        # Save the baseline dataset for model monitoring\n",
    "        df_model_data.drop([target_col], axis=1).to_csv(os.path.join(args.outputpath, 'baseline/baseline.csv'), index=False, header=False)\n",
    "\n",
    "        mlflow.log_artifact(local_path=os.path.join(args.outputpath, 'baseline/baseline.csv'))\n",
    "    \n",
    "    print(\"## Processing complete. Exiting.\")"
   ]
  },
  {
   "cell_type": "markdown",
   "id": "317a90ba-5610-43fb-a39c-6eae4e2b6691",
   "metadata": {},
   "source": [
    "The processing script contains a statement to save the whole dataset without the header and the label column as a baseline dataset. You need the data baseline later on in the model monitoring notebook."
   ]
  },
  {
   "cell_type": "markdown",
   "id": "70ee5a09-46fd-4d7a-9037-9b6247a1f21d",
   "metadata": {},
   "source": [
    "Set the Amazon S3 paths:"
   ]
  },
  {
   "cell_type": "code",
   "execution_count": 13,
   "id": "54fa1abd-c0ae-4e55-901c-7250c227ccbb",
   "metadata": {
    "tags": []
   },
   "outputs": [],
   "source": [
    "train_s3_url = f\"s3://{bucket_name}/{bucket_prefix}/train\"\n",
    "validation_s3_url = f\"s3://{bucket_name}/{bucket_prefix}/validation\"\n",
    "test_s3_url = f\"s3://{bucket_name}/{bucket_prefix}/test\"\n",
    "baseline_s3_url = f\"s3://{bucket_name}/{bucket_prefix}/baseline\""
   ]
  },
  {
   "cell_type": "code",
   "execution_count": 14,
   "id": "ed6a2d8e-acde-48a8-9f12-a1cd0d703a41",
   "metadata": {
    "tags": []
   },
   "outputs": [
    {
     "name": "stdout",
     "output_type": "stream",
     "text": [
      "Stored 'train_s3_url' (str)\n",
      "Stored 'validation_s3_url' (str)\n",
      "Stored 'test_s3_url' (str)\n",
      "Stored 'baseline_s3_url' (str)\n"
     ]
    }
   ],
   "source": [
    "%store train_s3_url\n",
    "%store validation_s3_url\n",
    "%store test_s3_url\n",
    "%store baseline_s3_url"
   ]
  },
  {
   "cell_type": "markdown",
   "id": "03762d62-0f9c-4766-8f5e-d554bfc8437c",
   "metadata": {},
   "source": [
    "Set the framework version and type and number of compute instances:"
   ]
  },
  {
   "cell_type": "code",
   "execution_count": 15,
   "id": "b93215af-1524-43d0-b08b-ab265936ec2a",
   "metadata": {
    "tags": []
   },
   "outputs": [],
   "source": [
    "skprocessor_framework_version = \"1.2-1\"\n",
    "processing_instance_type = \"ml.m5.large\"\n",
    "processing_instance_count = 1"
   ]
  },
  {
   "cell_type": "markdown",
   "id": "b730b8ee-f2fe-4612-870a-edb0e0ffc276",
   "metadata": {},
   "source": [
    "#### Create a experiment run\n",
    "Create a new run in your experiment to track parameters, configuration, inputs, and outputs of the processing job."
   ]
  },
  {
   "cell_type": "code",
   "execution_count": 16,
   "id": "41e28192-db7d-4a93-8c55-de2abd6fedf6",
   "metadata": {
    "tags": []
   },
   "outputs": [],
   "source": [
    "run_suffix = strftime('%d-%H-%M-%S', gmtime())\n",
    "run_name = f\"container-processing-{run_suffix}\"\n",
    "\n",
    "run_id = mlflow.start_run(\n",
    "    run_name=run_name,\n",
    "    description=\"feature-engineering in the notebook 02 with a processing job\").info.run_id"
   ]
  },
  {
   "cell_type": "markdown",
   "id": "d365adc2-890e-4983-aa86-0109e1f94465",
   "metadata": {},
   "source": [
    "#### Create a processor and set inputs and outputs\n",
    "Instantiate a [`FrameworkProcessor`](https://docs.aws.amazon.com/sagemaker/latest/dg/processing-job-frameworks.html) object before starting the SageMaker processing job. You specify the instance type to use in the job, as well as how many instances for distributed processing.\n",
    "\n",
    "Note how SageMaker maps your data to the local paths on the processing container's EBS volume:\n",
    "\n",
    "![](img/data-processing.png)"
   ]
  },
  {
   "cell_type": "code",
   "execution_count": 17,
   "id": "1503fe76-cd04-4e5a-86a1-ea3cbb45f09d",
   "metadata": {
    "tags": []
   },
   "outputs": [],
   "source": [
    "sklearn_processor = FrameworkProcessor(\n",
    "    estimator_cls=SKLearn,\n",
    "    framework_version=skprocessor_framework_version,\n",
    "    role=sm_role,\n",
    "    instance_type=processing_instance_type,\n",
    "    instance_count=processing_instance_count,\n",
    "    base_job_name='from-idea-to-prod-processing',\n",
    "    sagemaker_session=session,\n",
    "    env={\n",
    "        'MLFLOW_TRACKING_ARN': mlflow_arn,\n",
    "        'MLFLOW_RUN_ID': run_id,\n",
    "        'USER': user_profile_name\n",
    "    }\n",
    ")\n",
    "\n",
    "processing_inputs = [\n",
    "        ProcessingInput(\n",
    "            source=input_s3_url, \n",
    "            destination=\"/opt/ml/processing/input\",\n",
    "            s3_input_mode=\"File\",\n",
    "            s3_data_distribution_type=\"ShardedByS3Key\"\n",
    "        ),\n",
    "        ProcessingInput(\n",
    "            input_name=\"processor\",\n",
    "            source=dependencies_dir,\n",
    "            destination=\"/opt/ml/processing/input/code/requirements/\",\n",
    "        ),\n",
    "    ]\n",
    "\n",
    "processing_outputs = [\n",
    "        ProcessingOutput(\n",
    "            output_name=\"train_data\", \n",
    "            source=\"/opt/ml/processing/output/train\",\n",
    "            destination=train_s3_url,\n",
    "        ),\n",
    "        ProcessingOutput(\n",
    "            output_name=\"validation_data\", \n",
    "            source=\"/opt/ml/processing/output/validation\", \n",
    "            destination=validation_s3_url\n",
    "        ),\n",
    "        ProcessingOutput(\n",
    "            output_name=\"test_data\", \n",
    "            source=\"/opt/ml/processing/output/test\", \n",
    "            destination=test_s3_url\n",
    "        ),\n",
    "        ProcessingOutput(\n",
    "            output_name=\"baseline_data\", \n",
    "            source=\"/opt/ml/processing/output/baseline\", \n",
    "            destination=baseline_s3_url\n",
    "        ),\n",
    "    ]"
   ]
  },
  {
   "cell_type": "markdown",
   "id": "bedef440-c13a-4d23-90af-ef747aeef8bc",
   "metadata": {},
   "source": [
    "#### Start the SageMaker processing job\n",
    "\n",
    "<img src=\"data:image/svg+xml;base64,Cjxzdmcgd2lkdGg9IjgwMCIgaGVpZ2h0PSIxMjUiIHZpZXdCb3g9IjAgMCA4MDAgMTI1IiB4bWxucz0iaHR0cDovL3d3dy53My5vcmcvMjAwMC9zdmciPgogICAgPGRlZnM+CiAgICAgICAgPGxpbmVhckdyYWRpZW50IGlkPSJmYWRlR3JhZGllbnQiIHgxPSIwIiB4Mj0iMSI+CiAgICAgICAgICAgIDxzdG9wIG9mZnNldD0iMCUiIHN0b3AtY29sb3I9IiNGMEYwRjAiLz4KICAgICAgICAgICAgPHN0b3Agb2Zmc2V0PSIxMDAlIiBzdG9wLWNvbG9yPSIjRjBGMEYwIiBzdG9wLW9wYWNpdHk9IjAiLz4KICAgICAgICA8L2xpbmVhckdyYWRpZW50PgogICAgICAgIDxtYXNrIGlkPSJmYWRlTWFzayI+CiAgICAgICAgICAgIDxyZWN0IHg9IjAiIHk9IjAiIHdpZHRoPSI3NTAiIGhlaWdodD0iMTI1IiBmaWxsPSJ3aGl0ZSIvPgogICAgICAgICAgICA8cmVjdCB4PSI3NTAiIHk9IjAiIHdpZHRoPSI1MCIgaGVpZ2h0PSIxMjUiIGZpbGw9InVybCgjZmFkZUdyYWRpZW50KSIvPgogICAgICAgIDwvbWFzaz4KICAgIDwvZGVmcz4KICAgIDxwYXRoIGQ9Ik0zLDUwIEE1MCw1MCAwIDAgMSA1MywzIEw3OTcsMyBMNzk3LDk3IEw5Nyw5NyBMNTAsMTE1IEwzLDk3IFoiIGZpbGw9IiNGMEYwRjAiIHN0cm9rZT0iI0UwRTBFMCIgc3Ryb2tlLXdpZHRoPSIxIiBtYXNrPSJ1cmwoI2ZhZGVNYXNrKSIvPgogICAgPGNpcmNsZSBjeD0iNTAiIGN5PSI1MCIgcj0iMzAiIGZpbGw9IiM1N2M0ZjgiIHN0cm9rZT0iIzU3YzRmOCIgc3Ryb2tlLXdpZHRoPSIxIi8+CiAgICA8Y2lyY2xlIGN4PSI1MCIgY3k9IjUwIiByPSIyNSIgZmlsbD0iI0YwRjBGMCIvPgogICAgPGxpbmUgeDE9IjUwIiB5MT0iNTAiIHgyPSI1MCIgeTI9IjMwIiBzdHJva2U9IiM1N2M0ZjgiIHN0cm9rZS13aWR0aD0iMyIgc3Ryb2tlLWxpbmVjYXA9InJvdW5kIi8+CiAgICA8bGluZSB4MT0iNTAiIHkxPSI1MCIgeDI9IjY1IiB5Mj0iNTAiIHN0cm9rZT0iIzU3YzRmOCIgc3Ryb2tlLXdpZHRoPSIzIiBzdHJva2UtbGluZWNhcD0icm91bmQiLz4KICAgIDx0ZXh0IHg9IjEwMCIgeT0iMzQiIGZvbnQtZmFtaWx5PSJBcmlhbCwgc2Fucy1zZXJpZiIgZm9udC1zaXplPSIxNCIgZmlsbD0iIzMzMzMzMyI+VGhlIG5leHQgY2VsbCBtYXkgdGFrZSBhIGZldyBtaW51dGVzIHRvIHJ1bi48L3RleHQ+Cjwvc3ZnPgo=\" alt=\"Time alert open medium\"/>"
   ]
  },
  {
   "cell_type": "code",
   "execution_count": 18,
   "id": "bab839f9-6194-4467-b9d9-b207c15eb729",
   "metadata": {
    "tags": []
   },
   "outputs": [
    {
     "name": "stderr",
     "output_type": "stream",
     "text": [
      "INFO:sagemaker:Creating processing-job with name from-idea-to-prod-processing-2024-07-23-13-46-06-633\n"
     ]
    },
    {
     "name": "stdout",
     "output_type": "stream",
     "text": [
      "..............\u001b[34mFound existing installation: typing 3.7.4.3\u001b[0m\n",
      "\u001b[34mUninstalling typing-3.7.4.3:\n",
      "  Successfully uninstalled typing-3.7.4.3\u001b[0m\n",
      "\u001b[34mCollecting mlflow==2.13.2 (from -r requirements.txt (line 1))\n",
      "  Downloading mlflow-2.13.2-py3-none-any.whl.metadata (29 kB)\u001b[0m\n",
      "\u001b[34mCollecting sagemaker-mlflow==0.1.0 (from -r requirements.txt (line 2))\n",
      "  Downloading sagemaker_mlflow-0.1.0-py3-none-any.whl.metadata (3.3 kB)\u001b[0m\n",
      "\u001b[34mRequirement already satisfied: Flask<4 in /miniconda3/lib/python3.8/site-packages (from mlflow==2.13.2->-r requirements.txt (line 1)) (1.1.1)\u001b[0m\n",
      "\u001b[34mCollecting alembic!=1.10.0,<2 (from mlflow==2.13.2->-r requirements.txt (line 1))\n",
      "  Downloading alembic-1.13.2-py3-none-any.whl.metadata (7.4 kB)\u001b[0m\n",
      "\u001b[34mCollecting cachetools<6,>=5.0.0 (from mlflow==2.13.2->-r requirements.txt (line 1))\n",
      "  Downloading cachetools-5.4.0-py3-none-any.whl.metadata (5.3 kB)\u001b[0m\n",
      "\u001b[34mRequirement already satisfied: click<9,>=7.0 in /miniconda3/lib/python3.8/site-packages (from mlflow==2.13.2->-r requirements.txt (line 1)) (8.1.7)\u001b[0m\n",
      "\u001b[34mCollecting cloudpickle<4 (from mlflow==2.13.2->-r requirements.txt (line 1))\n",
      "  Downloading cloudpickle-3.0.0-py3-none-any.whl.metadata (7.0 kB)\u001b[0m\n",
      "\u001b[34mCollecting docker<8,>=4.0.0 (from mlflow==2.13.2->-r requirements.txt (line 1))\n",
      "  Downloading docker-7.1.0-py3-none-any.whl.metadata (3.8 kB)\u001b[0m\n",
      "\u001b[34mCollecting entrypoints<1 (from mlflow==2.13.2->-r requirements.txt (line 1))\n",
      "  Downloading entrypoints-0.4-py3-none-any.whl.metadata (2.6 kB)\u001b[0m\n",
      "\u001b[34mCollecting gitpython<4,>=3.1.9 (from mlflow==2.13.2->-r requirements.txt (line 1))\n",
      "  Downloading GitPython-3.1.43-py3-none-any.whl.metadata (13 kB)\u001b[0m\n",
      "\u001b[34mCollecting graphene<4 (from mlflow==2.13.2->-r requirements.txt (line 1))\n",
      "  Downloading graphene-3.3-py2.py3-none-any.whl.metadata (7.7 kB)\u001b[0m\n",
      "\u001b[34mCollecting importlib-metadata!=4.7.0,<8,>=3.7.0 (from mlflow==2.13.2->-r requirements.txt (line 1))\n",
      "  Downloading importlib_metadata-7.2.1-py3-none-any.whl.metadata (4.6 kB)\u001b[0m\n",
      "\u001b[34mCollecting markdown<4,>=3.3 (from mlflow==2.13.2->-r requirements.txt (line 1))\n",
      "  Downloading Markdown-3.6-py3-none-any.whl.metadata (7.0 kB)\u001b[0m\n",
      "\u001b[34mCollecting matplotlib<4 (from mlflow==2.13.2->-r requirements.txt (line 1))\n",
      "  Downloading matplotlib-3.7.5-cp38-cp38-manylinux_2_12_x86_64.manylinux2010_x86_64.whl.metadata (5.7 kB)\u001b[0m\n",
      "\u001b[34mRequirement already satisfied: numpy<2 in /miniconda3/lib/python3.8/site-packages (from mlflow==2.13.2->-r requirements.txt (line 1)) (1.24.1)\u001b[0m\n",
      "\u001b[34mCollecting opentelemetry-api<3,>=1.0.0 (from mlflow==2.13.2->-r requirements.txt (line 1))\n",
      "  Downloading opentelemetry_api-1.25.0-py3-none-any.whl.metadata (1.4 kB)\u001b[0m\n",
      "\u001b[34mCollecting opentelemetry-sdk<3,>=1.0.0 (from mlflow==2.13.2->-r requirements.txt (line 1))\n",
      "  Downloading opentelemetry_sdk-1.25.0-py3-none-any.whl.metadata (1.4 kB)\u001b[0m\n",
      "\u001b[34mCollecting packaging<25 (from mlflow==2.13.2->-r requirements.txt (line 1))\n",
      "  Downloading packaging-24.1-py3-none-any.whl.metadata (3.2 kB)\u001b[0m\n",
      "\u001b[34mRequirement already satisfied: pandas<3 in /miniconda3/lib/python3.8/site-packages (from mlflow==2.13.2->-r requirements.txt (line 1)) (1.1.3)\u001b[0m\n",
      "\u001b[34mRequirement already satisfied: protobuf<5,>=3.12.0 in /miniconda3/lib/python3.8/site-packages (from mlflow==2.13.2->-r requirements.txt (line 1)) (3.20.2)\u001b[0m\n",
      "\u001b[34mRequirement already satisfied: pyarrow<16,>=4.0.0 in /miniconda3/lib/python3.8/site-packages (from mlflow==2.13.2->-r requirements.txt (line 1)) (14.0.1)\u001b[0m\n",
      "\u001b[34mRequirement already satisfied: pytz<2025 in /miniconda3/lib/python3.8/site-packages (from mlflow==2.13.2->-r requirements.txt (line 1)) (2024.1)\u001b[0m\n",
      "\u001b[34mCollecting pyyaml<7,>=5.1 (from mlflow==2.13.2->-r requirements.txt (line 1))\n",
      "  Downloading PyYAML-6.0.1-cp38-cp38-manylinux_2_17_x86_64.manylinux2014_x86_64.whl.metadata (2.1 kB)\u001b[0m\n",
      "\u001b[34mCollecting querystring-parser<2 (from mlflow==2.13.2->-r requirements.txt (line 1))\n",
      "  Downloading querystring_parser-1.2.4-py2.py3-none-any.whl.metadata (559 bytes)\u001b[0m\n",
      "\u001b[34mRequirement already satisfied: requests<3,>=2.17.3 in /miniconda3/lib/python3.8/site-packages (from mlflow==2.13.2->-r requirements.txt (line 1)) (2.32.2)\u001b[0m\n",
      "\u001b[34mRequirement already satisfied: scikit-learn<2 in /miniconda3/lib/python3.8/site-packages (from mlflow==2.13.2->-r requirements.txt (line 1)) (1.2.1)\u001b[0m\n",
      "\u001b[34mRequirement already satisfied: scipy<2 in /miniconda3/lib/python3.8/site-packages (from mlflow==2.13.2->-r requirements.txt (line 1)) (1.8.0)\u001b[0m\n",
      "\u001b[34mCollecting sqlalchemy<3,>=1.4.0 (from mlflow==2.13.2->-r requirements.txt (line 1))\n",
      "  Downloading SQLAlchemy-2.0.31-cp38-cp38-manylinux_2_17_x86_64.manylinux2014_x86_64.whl.metadata (9.6 kB)\u001b[0m\n",
      "\u001b[34mCollecting sqlparse<1,>=0.4.0 (from mlflow==2.13.2->-r requirements.txt (line 1))\n",
      "  Downloading sqlparse-0.5.1-py3-none-any.whl.metadata (3.9 kB)\u001b[0m\n",
      "\u001b[34mRequirement already satisfied: Jinja2<4,>=2.11 in /miniconda3/lib/python3.8/site-packages (from mlflow==2.13.2->-r requirements.txt (line 1)) (3.0.3)\u001b[0m\n",
      "\u001b[34mRequirement already satisfied: gunicorn<23 in /miniconda3/lib/python3.8/site-packages (from mlflow==2.13.2->-r requirements.txt (line 1)) (20.0.4)\u001b[0m\n",
      "\u001b[34mCollecting boto3>=1.34 (from sagemaker-mlflow==0.1.0->-r requirements.txt (line 2))\n",
      "  Downloading boto3-1.34.146-py3-none-any.whl.metadata (6.6 kB)\u001b[0m\n",
      "\u001b[34mCollecting Mako (from alembic!=1.10.0,<2->mlflow==2.13.2->-r requirements.txt (line 1))\n",
      "  Downloading Mako-1.3.5-py3-none-any.whl.metadata (2.9 kB)\u001b[0m\n",
      "\u001b[34mCollecting typing-extensions>=4 (from alembic!=1.10.0,<2->mlflow==2.13.2->-r requirements.txt (line 1))\n",
      "  Downloading typing_extensions-4.12.2-py3-none-any.whl.metadata (3.0 kB)\u001b[0m\n",
      "\u001b[34mCollecting importlib-resources (from alembic!=1.10.0,<2->mlflow==2.13.2->-r requirements.txt (line 1))\n",
      "  Downloading importlib_resources-6.4.0-py3-none-any.whl.metadata (3.9 kB)\u001b[0m\n",
      "\u001b[34mCollecting botocore<1.35.0,>=1.34.146 (from boto3>=1.34->sagemaker-mlflow==0.1.0->-r requirements.txt (line 2))\n",
      "  Downloading botocore-1.34.146-py3-none-any.whl.metadata (5.7 kB)\u001b[0m\n",
      "\u001b[34mRequirement already satisfied: jmespath<2.0.0,>=0.7.1 in /miniconda3/lib/python3.8/site-packages (from boto3>=1.34->sagemaker-mlflow==0.1.0->-r requirements.txt (line 2)) (1.0.1)\u001b[0m\n",
      "\u001b[34mCollecting s3transfer<0.11.0,>=0.10.0 (from boto3>=1.34->sagemaker-mlflow==0.1.0->-r requirements.txt (line 2))\n",
      "  Downloading s3transfer-0.10.2-py3-none-any.whl.metadata (1.7 kB)\u001b[0m\n",
      "\u001b[34mRequirement already satisfied: urllib3>=1.26.0 in /miniconda3/lib/python3.8/site-packages (from docker<8,>=4.0.0->mlflow==2.13.2->-r requirements.txt (line 1)) (1.26.18)\u001b[0m\n",
      "\u001b[34mRequirement already satisfied: Werkzeug>=0.15 in /miniconda3/lib/python3.8/site-packages (from Flask<4->mlflow==2.13.2->-r requirements.txt (line 1)) (2.0.3)\u001b[0m\n",
      "\u001b[34mRequirement already satisfied: itsdangerous>=0.24 in /miniconda3/lib/python3.8/site-packages (from Flask<4->mlflow==2.13.2->-r requirements.txt (line 1)) (2.0.1)\u001b[0m\n",
      "\u001b[34mCollecting gitdb<5,>=4.0.1 (from gitpython<4,>=3.1.9->mlflow==2.13.2->-r requirements.txt (line 1))\n",
      "  Downloading gitdb-4.0.11-py3-none-any.whl.metadata (1.2 kB)\u001b[0m\n",
      "\u001b[34mCollecting graphql-core<3.3,>=3.1 (from graphene<4->mlflow==2.13.2->-r requirements.txt (line 1))\n",
      "  Downloading graphql_core-3.2.3-py3-none-any.whl.metadata (10 kB)\u001b[0m\n",
      "\u001b[34mCollecting graphql-relay<3.3,>=3.1 (from graphene<4->mlflow==2.13.2->-r requirements.txt (line 1))\n",
      "  Downloading graphql_relay-3.2.0-py3-none-any.whl.metadata (12 kB)\u001b[0m\n",
      "\u001b[34mCollecting aniso8601<10,>=8 (from graphene<4->mlflow==2.13.2->-r requirements.txt (line 1))\n",
      "  Downloading aniso8601-9.0.1-py2.py3-none-any.whl.metadata (23 kB)\u001b[0m\n",
      "\u001b[34mRequirement already satisfied: setuptools>=3.0 in /miniconda3/lib/python3.8/site-packages (from gunicorn<23->mlflow==2.13.2->-r requirements.txt (line 1)) (65.5.1)\u001b[0m\n",
      "\u001b[34mCollecting zipp>=0.5 (from importlib-metadata!=4.7.0,<8,>=3.7.0->mlflow==2.13.2->-r requirements.txt (line 1))\n",
      "  Downloading zipp-3.19.2-py3-none-any.whl.metadata (3.6 kB)\u001b[0m\n",
      "\u001b[34mRequirement already satisfied: MarkupSafe>=2.0 in /miniconda3/lib/python3.8/site-packages (from Jinja2<4,>=2.11->mlflow==2.13.2->-r requirements.txt (line 1)) (2.1.1)\u001b[0m\n",
      "\u001b[34mCollecting contourpy>=1.0.1 (from matplotlib<4->mlflow==2.13.2->-r requirements.txt (line 1))\n",
      "  Downloading contourpy-1.1.1-cp38-cp38-manylinux_2_17_x86_64.manylinux2014_x86_64.whl.metadata (5.9 kB)\u001b[0m\n",
      "\u001b[34mCollecting cycler>=0.10 (from matplotlib<4->mlflow==2.13.2->-r requirements.txt (line 1))\n",
      "  Downloading cycler-0.12.1-py3-none-any.whl.metadata (3.8 kB)\u001b[0m\n",
      "\u001b[34mCollecting fonttools>=4.22.0 (from matplotlib<4->mlflow==2.13.2->-r requirements.txt (line 1))\n",
      "  Downloading fonttools-4.53.1-cp38-cp38-manylinux_2_17_x86_64.manylinux2014_x86_64.whl.metadata (162 kB)\n",
      "     ━━━━━━━━━━━━━━━━━━━━━━━━━━━━━━━━━━━━━━ 162.6/162.6 kB 22.0 MB/s eta 0:00:00\u001b[0m\n",
      "\u001b[34mCollecting kiwisolver>=1.0.1 (from matplotlib<4->mlflow==2.13.2->-r requirements.txt (line 1))\n",
      "  Downloading kiwisolver-1.4.5-cp38-cp38-manylinux_2_5_x86_64.manylinux1_x86_64.whl.metadata (6.4 kB)\u001b[0m\n",
      "\u001b[34mRequirement already satisfied: pillow>=6.2.0 in /miniconda3/lib/python3.8/site-packages (from matplotlib<4->mlflow==2.13.2->-r requirements.txt (line 1)) (10.3.0)\u001b[0m\n",
      "\u001b[34mCollecting pyparsing>=2.3.1 (from matplotlib<4->mlflow==2.13.2->-r requirements.txt (line 1))\n",
      "  Downloading pyparsing-3.1.2-py3-none-any.whl.metadata (5.1 kB)\u001b[0m\n",
      "\u001b[34mRequirement already satisfied: python-dateutil>=2.7 in /miniconda3/lib/python3.8/site-packages (from matplotlib<4->mlflow==2.13.2->-r requirements.txt (line 1)) (2.8.1)\u001b[0m\n",
      "\u001b[34mCollecting deprecated>=1.2.6 (from opentelemetry-api<3,>=1.0.0->mlflow==2.13.2->-r requirements.txt (line 1))\n",
      "  Downloading Deprecated-1.2.14-py2.py3-none-any.whl.metadata (5.4 kB)\u001b[0m\n",
      "\u001b[34mCollecting importlib-metadata!=4.7.0,<8,>=3.7.0 (from mlflow==2.13.2->-r requirements.txt (line 1))\n",
      "  Downloading importlib_metadata-7.1.0-py3-none-any.whl.metadata (4.7 kB)\u001b[0m\n",
      "\u001b[34mCollecting opentelemetry-semantic-conventions==0.46b0 (from opentelemetry-sdk<3,>=1.0.0->mlflow==2.13.2->-r requirements.txt (line 1))\n",
      "  Downloading opentelemetry_semantic_conventions-0.46b0-py3-none-any.whl.metadata (2.3 kB)\u001b[0m\n",
      "\u001b[34mRequirement already satisfied: six in /miniconda3/lib/python3.8/site-packages (from querystring-parser<2->mlflow==2.13.2->-r requirements.txt (line 1)) (1.15.0)\u001b[0m\n",
      "\u001b[34mRequirement already satisfied: charset-normalizer<4,>=2 in /miniconda3/lib/python3.8/site-packages (from requests<3,>=2.17.3->mlflow==2.13.2->-r requirements.txt (line 1)) (2.0.4)\u001b[0m\n",
      "\u001b[34mRequirement already satisfied: idna<4,>=2.5 in /miniconda3/lib/python3.8/site-packages (from requests<3,>=2.17.3->mlflow==2.13.2->-r requirements.txt (line 1)) (3.7)\u001b[0m\n",
      "\u001b[34mRequirement already satisfied: certifi>=2017.4.17 in /miniconda3/lib/python3.8/site-packages (from requests<3,>=2.17.3->mlflow==2.13.2->-r requirements.txt (line 1)) (2023.7.22)\u001b[0m\n",
      "\u001b[34mRequirement already satisfied: joblib>=1.1.1 in /miniconda3/lib/python3.8/site-packages (from scikit-learn<2->mlflow==2.13.2->-r requirements.txt (line 1)) (1.4.2)\u001b[0m\n",
      "\u001b[34mRequirement already satisfied: threadpoolctl>=2.0.0 in /miniconda3/lib/python3.8/site-packages (from scikit-learn<2->mlflow==2.13.2->-r requirements.txt (line 1)) (3.5.0)\u001b[0m\n",
      "\u001b[34mRequirement already satisfied: greenlet!=0.4.17 in /miniconda3/lib/python3.8/site-packages (from sqlalchemy<3,>=1.4.0->mlflow==2.13.2->-r requirements.txt (line 1)) (3.0.3)\u001b[0m\n",
      "\u001b[34mCollecting wrapt<2,>=1.10 (from deprecated>=1.2.6->opentelemetry-api<3,>=1.0.0->mlflow==2.13.2->-r requirements.txt (line 1))\n",
      "  Downloading wrapt-1.16.0-cp38-cp38-manylinux_2_5_x86_64.manylinux1_x86_64.manylinux_2_17_x86_64.manylinux2014_x86_64.whl.metadata (6.6 kB)\u001b[0m\n",
      "\u001b[34mCollecting smmap<6,>=3.0.1 (from gitdb<5,>=4.0.1->gitpython<4,>=3.1.9->mlflow==2.13.2->-r requirements.txt (line 1))\n",
      "  Downloading smmap-5.0.1-py3-none-any.whl.metadata (4.3 kB)\u001b[0m\n",
      "\u001b[34mDownloading mlflow-2.13.2-py3-none-any.whl (25.0 MB)\n",
      "   ━━━━━━━━━━━━━━━━━━━━━━━━━━━━━━━━━━━━━━━━ 25.0/25.0 MB 61.3 MB/s eta 0:00:00\u001b[0m\n",
      "\u001b[34mDownloading sagemaker_mlflow-0.1.0-py3-none-any.whl (24 kB)\u001b[0m\n",
      "\u001b[34mDownloading alembic-1.13.2-py3-none-any.whl (232 kB)\n",
      "   ━━━━━━━━━━━━━━━━━━━━━━━━━━━━━━━━━━━━━━━━ 233.0/233.0 kB 27.2 MB/s eta 0:00:00\u001b[0m\n",
      "\u001b[34mDownloading boto3-1.34.146-py3-none-any.whl (139 kB)\n",
      "   ━━━━━━━━━━━━━━━━━━━━━━━━━━━━━━━━━━━━━━━━ 139.2/139.2 kB 23.2 MB/s eta 0:00:00\u001b[0m\n",
      "\u001b[34mDownloading cachetools-5.4.0-py3-none-any.whl (9.5 kB)\u001b[0m\n",
      "\u001b[34mDownloading cloudpickle-3.0.0-py3-none-any.whl (20 kB)\u001b[0m\n",
      "\u001b[34mDownloading docker-7.1.0-py3-none-any.whl (147 kB)\n",
      "   ━━━━━━━━━━━━━━━━━━━━━━━━━━━━━━━━━━━━━━━━ 147.8/147.8 kB 25.4 MB/s eta 0:00:00\u001b[0m\n",
      "\u001b[34mDownloading entrypoints-0.4-py3-none-any.whl (5.3 kB)\u001b[0m\n",
      "\u001b[34mDownloading GitPython-3.1.43-py3-none-any.whl (207 kB)\n",
      "   ━━━━━━━━━━━━━━━━━━━━━━━━━━━━━━━━━━━━━━━━ 207.3/207.3 kB 30.6 MB/s eta 0:00:00\u001b[0m\n",
      "\u001b[34mDownloading graphene-3.3-py2.py3-none-any.whl (128 kB)\n",
      "   ━━━━━━━━━━━━━━━━━━━━━━━━━━━━━━━━━━━━━━━━ 128.2/128.2 kB 22.7 MB/s eta 0:00:00\u001b[0m\n",
      "\u001b[34mDownloading Markdown-3.6-py3-none-any.whl (105 kB)\n",
      "   ━━━━━━━━━━━━━━━━━━━━━━━━━━━━━━━━━━━━━━━━ 105.4/105.4 kB 19.2 MB/s eta 0:00:00\u001b[0m\n",
      "\u001b[34mDownloading matplotlib-3.7.5-cp38-cp38-manylinux_2_12_x86_64.manylinux2010_x86_64.whl (9.2 MB)\n",
      "   ━━━━━━━━━━━━━━━━━━━━━━━━━━━━━━━━━━━━━━━━ 9.2/9.2 MB 105.8 MB/s eta 0:00:00\u001b[0m\n",
      "\u001b[34mDownloading opentelemetry_api-1.25.0-py3-none-any.whl (59 kB)\n",
      "   ━━━━━━━━━━━━━━━━━━━━━━━━━━━━━━━━━━━━━━━━ 59.9/59.9 kB 525.6 kB/s eta 0:00:00\u001b[0m\n",
      "\u001b[34mDownloading importlib_metadata-7.1.0-py3-none-any.whl (24 kB)\u001b[0m\n",
      "\u001b[34mDownloading opentelemetry_sdk-1.25.0-py3-none-any.whl (107 kB)\n",
      "   ━━━━━━━━━━━━━━━━━━━━━━━━━━━━━━━━━━━━━━━━ 107.0/107.0 kB 14.9 MB/s eta 0:00:00\u001b[0m\n",
      "\u001b[34mDownloading opentelemetry_semantic_conventions-0.46b0-py3-none-any.whl (130 kB)\n",
      "   ━━━━━━━━━━━━━━━━━━━━━━━━━━━━━━━━━━━━━━━━ 130.5/130.5 kB 12.9 MB/s eta 0:00:00\u001b[0m\n",
      "\u001b[34mDownloading packaging-24.1-py3-none-any.whl (53 kB)\n",
      "   ━━━━━━━━━━━━━━━━━━━━━━━━━━━━━━━━━━━━━━━━ 54.0/54.0 kB 8.0 MB/s eta 0:00:00\u001b[0m\n",
      "\u001b[34mDownloading PyYAML-6.0.1-cp38-cp38-manylinux_2_17_x86_64.manylinux2014_x86_64.whl (736 kB)\n",
      "   ━━━━━━━━━━━━━━━━━━━━━━━━━━━━━━━━━━━━━━━━ 736.6/736.6 kB 56.5 MB/s eta 0:00:00\u001b[0m\n",
      "\u001b[34mDownloading querystring_parser-1.2.4-py2.py3-none-any.whl (7.9 kB)\u001b[0m\n",
      "\u001b[34mDownloading SQLAlchemy-2.0.31-cp38-cp38-manylinux_2_17_x86_64.manylinux2014_x86_64.whl (3.1 MB)\n",
      "   ━━━━━━━━━━━━━━━━━━━━━━━━━━━━━━━━━━━━━━━━ 3.1/3.1 MB 72.4 MB/s eta 0:00:00\u001b[0m\n",
      "\u001b[34mDownloading sqlparse-0.5.1-py3-none-any.whl (44 kB)\n",
      "   ━━━━━━━━━━━━━━━━━━━━━━━━━━━━━━━━━━━━━━━━ 44.2/44.2 kB 5.3 MB/s eta 0:00:00\u001b[0m\n",
      "\u001b[34mDownloading aniso8601-9.0.1-py2.py3-none-any.whl (52 kB)\n",
      "   ━━━━━━━━━━━━━━━━━━━━━━━━━━━━━━━━━━━━━━━━ 52.8/52.8 kB 7.5 MB/s eta 0:00:00\u001b[0m\n",
      "\u001b[34mDownloading botocore-1.34.146-py3-none-any.whl (12.4 MB)\u001b[0m\n",
      "\u001b[34m   ━━━━━━━━━━━━━━━━━━━━━━━━━━━━━━━━━━━━━━━━ 12.4/12.4 MB 95.6 MB/s eta 0:00:00\u001b[0m\n",
      "\u001b[34mDownloading contourpy-1.1.1-cp38-cp38-manylinux_2_17_x86_64.manylinux2014_x86_64.whl (301 kB)\n",
      "   ━━━━━━━━━━━━━━━━━━━━━━━━━━━━━━━━━━━━━━━━ 301.1/301.1 kB 35.2 MB/s eta 0:00:00\u001b[0m\n",
      "\u001b[34mDownloading cycler-0.12.1-py3-none-any.whl (8.3 kB)\u001b[0m\n",
      "\u001b[34mDownloading Deprecated-1.2.14-py2.py3-none-any.whl (9.6 kB)\u001b[0m\n",
      "\u001b[34mDownloading fonttools-4.53.1-cp38-cp38-manylinux_2_17_x86_64.manylinux2014_x86_64.whl (4.7 MB)\n",
      "   ━━━━━━━━━━━━━━━━━━━━━━━━━━━━━━━━━━━━━━━━ 4.7/4.7 MB 90.7 MB/s eta 0:00:00\u001b[0m\n",
      "\u001b[34mDownloading gitdb-4.0.11-py3-none-any.whl (62 kB)\n",
      "   ━━━━━━━━━━━━━━━━━━━━━━━━━━━━━━━━━━━━━━━━ 62.7/62.7 kB 10.2 MB/s eta 0:00:00\u001b[0m\n",
      "\u001b[34mDownloading graphql_core-3.2.3-py3-none-any.whl (202 kB)\n",
      "   ━━━━━━━━━━━━━━━━━━━━━━━━━━━━━━━━━━━━━━━━ 202.9/202.9 kB 4.4 MB/s eta 0:00:00\u001b[0m\n",
      "\u001b[34mDownloading graphql_relay-3.2.0-py3-none-any.whl (16 kB)\u001b[0m\n",
      "\u001b[34mDownloading importlib_resources-6.4.0-py3-none-any.whl (38 kB)\u001b[0m\n",
      "\u001b[34mDownloading kiwisolver-1.4.5-cp38-cp38-manylinux_2_5_x86_64.manylinux1_x86_64.whl (1.2 MB)\n",
      "   ━━━━━━━━━━━━━━━━━━━━━━━━━━━━━━━━━━━━━━━━ 1.2/1.2 MB 75.5 MB/s eta 0:00:00\u001b[0m\n",
      "\u001b[34mDownloading pyparsing-3.1.2-py3-none-any.whl (103 kB)\n",
      "   ━━━━━━━━━━━━━━━━━━━━━━━━━━━━━━━━━━━━━━━━ 103.2/103.2 kB 19.5 MB/s eta 0:00:00\u001b[0m\n",
      "\u001b[34mDownloading s3transfer-0.10.2-py3-none-any.whl (82 kB)\n",
      "   ━━━━━━━━━━━━━━━━━━━━━━━━━━━━━━━━━━━━━━━━ 82.7/82.7 kB 16.6 MB/s eta 0:00:00\u001b[0m\n",
      "\u001b[34mDownloading typing_extensions-4.12.2-py3-none-any.whl (37 kB)\u001b[0m\n",
      "\u001b[34mDownloading zipp-3.19.2-py3-none-any.whl (9.0 kB)\u001b[0m\n",
      "\u001b[34mDownloading Mako-1.3.5-py3-none-any.whl (78 kB)\n",
      "   ━━━━━━━━━━━━━━━━━━━━━━━━━━━━━━━━━━━━━━━━ 78.6/78.6 kB 14.7 MB/s eta 0:00:00\u001b[0m\n",
      "\u001b[34mDownloading smmap-5.0.1-py3-none-any.whl (24 kB)\u001b[0m\n",
      "\u001b[34mDownloading wrapt-1.16.0-cp38-cp38-manylinux_2_5_x86_64.manylinux1_x86_64.manylinux_2_17_x86_64.manylinux2014_x86_64.whl (83 kB)\n",
      "   ━━━━━━━━━━━━━━━━━━━━━━━━━━━━━━━━━━━━━━━━ 83.4/83.4 kB 8.5 MB/s eta 0:00:00\u001b[0m\n",
      "\u001b[34mInstalling collected packages: aniso8601, zipp, wrapt, typing-extensions, sqlparse, smmap, querystring-parser, pyyaml, pyparsing, packaging, Mako, kiwisolver, graphql-core, fonttools, entrypoints, cycler, contourpy, cloudpickle, cachetools, sqlalchemy, importlib-resources, importlib-metadata, graphql-relay, gitdb, docker, deprecated, botocore, s3transfer, opentelemetry-api, matplotlib, markdown, graphene, gitpython, alembic, opentelemetry-semantic-conventions, boto3, opentelemetry-sdk, mlflow, sagemaker-mlflow\u001b[0m\n",
      "\u001b[34m  Attempting uninstall: botocore\n",
      "    Found existing installation: botocore 1.31.85\n",
      "    Uninstalling botocore-1.31.85:\u001b[0m\n",
      "\u001b[34m      Successfully uninstalled botocore-1.31.85\n",
      "  Attempting uninstall: s3transfer\n",
      "    Found existing installation: s3transfer 0.7.0\n",
      "    Uninstalling s3transfer-0.7.0:\n",
      "      Successfully uninstalled s3transfer-0.7.0\u001b[0m\n",
      "\u001b[34m  Attempting uninstall: boto3\n",
      "    Found existing installation: boto3 1.28.57\n",
      "    Uninstalling boto3-1.28.57:\n",
      "      Successfully uninstalled boto3-1.28.57\u001b[0m\n",
      "\u001b[34mERROR: pip's dependency resolver does not currently take into account all the packages that are installed. This behaviour is the source of the following dependency conflicts.\u001b[0m\n",
      "\u001b[34msagemaker-containers 2.8.6.post2 requires typing, which is not installed.\u001b[0m\n",
      "\u001b[34msagemaker-sklearn-container 2.0 requires boto3==1.28.57, but you have boto3 1.34.146 which is incompatible.\u001b[0m\n",
      "\u001b[34msagemaker-sklearn-container 2.0 requires botocore<1.32.0,>=1.31.57, but you have botocore 1.34.146 which is incompatible.\u001b[0m\n",
      "\u001b[34mSuccessfully installed Mako-1.3.5 alembic-1.13.2 aniso8601-9.0.1 boto3-1.34.146 botocore-1.34.146 cachetools-5.4.0 cloudpickle-3.0.0 contourpy-1.1.1 cycler-0.12.1 deprecated-1.2.14 docker-7.1.0 entrypoints-0.4 fonttools-4.53.1 gitdb-4.0.11 gitpython-3.1.43 graphene-3.3 graphql-core-3.2.3 graphql-relay-3.2.0 importlib-metadata-7.1.0 importlib-resources-6.4.0 kiwisolver-1.4.5 markdown-3.6 matplotlib-3.7.5 mlflow-2.13.2 opentelemetry-api-1.25.0 opentelemetry-sdk-1.25.0 opentelemetry-semantic-conventions-0.46b0 packaging-24.1 pyparsing-3.1.2 pyyaml-6.0.1 querystring-parser-1.2.4 s3transfer-0.10.2 sagemaker-mlflow-0.1.0 smmap-5.0.1 sqlalchemy-2.0.31 sqlparse-0.5.1 typing-extensions-4.12.2 wrapt-1.16.0 zipp-3.19.2\u001b[0m\n",
      "\u001b[34m2024/07/23 13:48:49 INFO mlflow.tracking.fluent: Autologging successfully enabled for sklearn.\u001b[0m\n",
      "\u001b[34mData split > train:(28831, 65) | validation:(8238, 65) | test:(4119, 65)\u001b[0m\n",
      "\u001b[34m## Processing complete. Exiting.\u001b[0m\n",
      "\n"
     ]
    }
   ],
   "source": [
    "sklearn_processor.run(\n",
    "    inputs=processing_inputs,\n",
    "    outputs=processing_outputs,\n",
    "    code='processing/preprocessing.py',\n",
    "    dependencies=[f'{dependencies_dir}requirements.txt'],\n",
    "    wait=True,\n",
    "    # arguments = ['arg1', 'arg2'],\n",
    ")\n",
    "\n",
    "mlflow.set_tags(\n",
    "    {\n",
    "        'mlflow.source.name':f'https://{region}.console.aws.amazon.com/sagemaker/home?region={region}#/processing-jobs/{sklearn_processor.latest_job.name}',\n",
    "    }\n",
    ")\n",
    "\n",
    "mlflow.end_run()"
   ]
  },
  {
   "cell_type": "markdown",
   "id": "9d9c8e0b",
   "metadata": {},
   "source": [
    "<img src=\"data:image/svg+xml;base64,Cjxzdmcgd2lkdGg9IjgwMCIgaGVpZ2h0PSI1MCIgdmlld0JveD0iMCAwIDgwMCA1MCIgeG1sbnM9Imh0dHA6Ly93d3cudzMub3JnLzIwMDAvc3ZnIj4KICAgIDxkZWZzPgogICAgICAgIDxsaW5lYXJHcmFkaWVudCBpZD0iZmFkZUdyYWRpZW50IiB4MT0iMCIgeDI9IjEiPgogICAgICAgICAgICA8c3RvcCBvZmZzZXQ9IjAlIiBzdG9wLWNvbG9yPSIjRjBGMEYwIi8+CiAgICAgICAgICAgIDxzdG9wIG9mZnNldD0iMTAwJSIgc3RvcC1jb2xvcj0iI0YwRjBGMCIgc3RvcC1vcGFjaXR5PSIwIi8+CiAgICAgICAgPC9saW5lYXJHcmFkaWVudD4KICAgICAgICA8bWFzayBpZD0iZmFkZU1hc2siPgogICAgICAgICAgICA8cmVjdCB4PSIwIiB5PSIwIiB3aWR0aD0iNzUwIiBoZWlnaHQ9IjUwIiBmaWxsPSJ3aGl0ZSIvPgogICAgICAgICAgICA8cmVjdCB4PSI3NTAiIHk9IjAiIHdpZHRoPSI1MCIgaGVpZ2h0PSI1MCIgZmlsbD0idXJsKCNmYWRlR3JhZGllbnQpIi8+CiAgICAgICAgPC9tYXNrPgogICAgPC9kZWZzPgogICAgPHBhdGggZD0iTTI1LDUwIFEwLDUwIDAsMjUgTDUwLDMgTDk3LDI1IEw3OTcsMjUgTDc5Nyw1MCBMMjUsNTAgWiIgZmlsbD0iI0YwRjBGMCIgc3Ryb2tlPSIjRTBFMEUwIiBzdHJva2Utd2lkdGg9IjEiIG1hc2s9InVybCgjZmFkZU1hc2spIi8+Cjwvc3ZnPgo=\" alt=\"Time alert close\"/>"
   ]
  },
  {
   "cell_type": "code",
   "execution_count": 19,
   "id": "d665ecf7-d836-40db-960e-ad8075c1ced4",
   "metadata": {
    "tags": []
   },
   "outputs": [
    {
     "name": "stdout",
     "output_type": "stream",
     "text": [
      "from-idea-to-prod-processing-2024-07-23-13-46-06-633 completed\n"
     ]
    }
   ],
   "source": [
    "# If you set wait to False in the previous code cell, wait until the job completes\n",
    "while sm.describe_processing_job(\n",
    "        ProcessingJobName=sklearn_processor._current_job_name\n",
    "    )[\"ProcessingJobStatus\"] != \"Completed\":\n",
    "    time.sleep(10)\n",
    "    print(f\"Wait until {sklearn_processor._current_job_name} completed\")\n",
    "else:\n",
    "    print(f\"{sklearn_processor._current_job_name} completed\")"
   ]
  },
  {
   "cell_type": "markdown",
   "id": "795e7281-d03b-42ba-8ef4-b0b30f9de0fd",
   "metadata": {},
   "source": [
    "To wait for job completion you can also use `boto3` [waiters](https://boto3.amazonaws.com/v1/documentation/api/latest/reference/services/sagemaker.html#waiters). For example:\n",
    "\n",
    "```python\n",
    "waiter = session.sagemaker_client.get_waiter('processing_job_completed_or_stopped')\n",
    "waiter.wait(ProcessingJobName=sklearn_processor._current_job_name)\n",
    "```"
   ]
  },
  {
   "cell_type": "code",
   "execution_count": 20,
   "id": "ad2ceb4b-ece3-40c6-8674-ce7b8db70a4b",
   "metadata": {
    "tags": []
   },
   "outputs": [],
   "source": [
    "# list the uploaded files\n",
    "# !aws s3 ls {bucket_name}/{bucket_prefix} --recursive"
   ]
  },
  {
   "cell_type": "markdown",
   "id": "68297752",
   "metadata": {},
   "source": [
    "### Run processing script locally and remotely as a SageMaker job\n",
    "You an use [SageMaker Python SDK decorator `@remote`](https://sagemaker.readthedocs.io/en/stable/remote_function/sagemaker.remote_function.html) to run you local code in the notebook as a SageMaker processing job – called the \"Remote Function\". This is an even easier way to run your Python code at scale using SageMaker distributed processing and training.\n",
    "\n",
    "Refer to the [documentation](https://docs.aws.amazon.com/sagemaker/latest/dg/train-remote-decorator.html) in the Amazon SageMaker developer guide.\n",
    "\n",
    "In the following section you run the data processing code as a SageMaker job using `@remote` decorator."
   ]
  },
  {
   "cell_type": "markdown",
   "id": "a8e427a9-69b3-4c85-8ba3-ab0d12faf0f2",
   "metadata": {},
   "source": [
    "#### Step 1: Develop and test you code locally\n",
    "First, you implement and test your code locally in the notebook to verify the correctness of code and environment."
   ]
  },
  {
   "cell_type": "code",
   "execution_count": 21,
   "id": "8d9b7032-835c-4abb-8269-7a66204120e2",
   "metadata": {
    "tags": []
   },
   "outputs": [],
   "source": [
    "# Load the dataset in to DataFrame\n",
    "file_name = \"bank-additional-full.csv\"\n",
    "input_path = \"./data/bank-additional\" \n",
    "df_data = pd.read_csv(os.path.join(input_path, file_name), sep=\";\")"
   ]
  },
  {
   "cell_type": "code",
   "execution_count": 22,
   "id": "5ab225a2-6cb0-43c7-a043-a2d0a0ba5335",
   "metadata": {
    "tags": []
   },
   "outputs": [],
   "source": [
    "from sklearn.preprocessing import MinMaxScaler, LabelEncoder\n",
    "\n",
    "# define a local function\n",
    "def preprocess(\n",
    "    df_data,\n",
    "    tracking_server_arn=mlflow_arn,\n",
    "    experiment_name=None,\n",
    "    run_id=None,\n",
    "):\n",
    "    import mlflow\n",
    "    from time import gmtime, strftime\n",
    "\n",
    "    try:\n",
    "        # Set the Tracking Server URI using the ARN of the Tracking Server you created\n",
    "        mlflow.set_tracking_uri(tracking_server_arn)\n",
    "        \n",
    "        # Enable autologging in MLflow\n",
    "        mlflow.autolog()\n",
    "    \n",
    "        suffix = strftime('%d-%H-%M-%S', gmtime())\n",
    "        mlflow.set_experiment(experiment_name=experiment_name if experiment_name else f\"preprocess-{suffix}\")\n",
    "        run = mlflow.start_run(run_id=run_id) if run_id else mlflow.start_run(run_name=f\"local-processing-{suffix}\", nested=True)\n",
    "    \n",
    "        target_col = \"y\"\n",
    "        \n",
    "        # Indicator variable to capture when pdays takes a value of 999\n",
    "        df_data[\"no_previous_contact\"] = np.where(df_data[\"pdays\"] == 999, 1, 0)\n",
    "    \n",
    "        # Indicator for individuals not actively employed\n",
    "        df_data[\"not_working\"] = np.where(\n",
    "            np.in1d(df_data[\"job\"], [\"student\", \"retired\", \"unemployed\"]), 1, 0\n",
    "        )\n",
    "    \n",
    "        # remove unnecessary data\n",
    "        df_model_data = df_data.drop(\n",
    "            [\"duration\", \"emp.var.rate\", \"cons.price.idx\", \"cons.conf.idx\", \"euribor3m\", \"nr.employed\"],\n",
    "            axis=1,\n",
    "        )\n",
    "    \n",
    "        bins = [18, 30, 40, 50, 60, 70, 90]\n",
    "        labels = ['18-29', '30-39', '40-49', '50-59', '60-69', '70-plus']\n",
    "    \n",
    "        df_model_data['age_range'] = pd.cut(df_model_data.age, bins, labels=labels, include_lowest=True)\n",
    "        df_model_data = pd.concat([df_model_data, pd.get_dummies(df_model_data['age_range'], prefix='age', dtype=int)], axis=1)\n",
    "        df_model_data.drop('age', axis=1, inplace=True)\n",
    "        df_model_data.drop('age_range', axis=1, inplace=True)\n",
    "    \n",
    "        scaled_features = ['pdays', 'previous', 'campaign']\n",
    "        df_model_data[scaled_features] = MinMaxScaler().fit_transform(df_model_data[scaled_features])\n",
    "    \n",
    "        df_model_data = pd.get_dummies(df_model_data, dtype=int)  # Convert categorical variables to sets of indicators\n",
    "    \n",
    "        # Replace \"y_no\" and \"y_yes\" with a single label column, and bring it to the front:\n",
    "        df_model_data = pd.concat(\n",
    "            [\n",
    "                df_model_data[\"y_yes\"].rename(target_col),\n",
    "                df_model_data.drop([\"y_no\", \"y_yes\"], axis=1),\n",
    "            ],\n",
    "            axis=1,\n",
    "        )\n",
    "    \n",
    "        # Shuffle and splitting dataset\n",
    "        train_data, validation_data, test_data = np.split(\n",
    "            df_model_data.sample(frac=1, random_state=1729),\n",
    "            [int(0.7 * len(df_model_data)), int(0.9 * len(df_model_data))],\n",
    "        )\n",
    "    \n",
    "        print(f\"Data split > train:{train_data.shape} | validation:{validation_data.shape} | test:{test_data.shape}\")\n",
    "\n",
    "        mlflow.log_params(\n",
    "            {\n",
    "                \"train\": train_data.shape,\n",
    "                \"validate\": validation_data.shape,\n",
    "                \"test\": test_data.shape\n",
    "            }\n",
    "        )\n",
    "        \n",
    "        baseline_data = df_model_data.drop([target_col], axis=1)\n",
    "        \n",
    "        print(\"## Processing complete. Exiting.\")\n",
    "        \n",
    "        return train_data, validation_data, test_data, baseline_data\n",
    "\n",
    "    except Exception as e:\n",
    "        print(f\"Exception in processing script: {e}\")\n",
    "        raise e\n",
    "    finally:\n",
    "        mlflow.end_run()"
   ]
  },
  {
   "cell_type": "code",
   "execution_count": 23,
   "id": "7d186016-1e10-46bc-9b2e-4ede2d86e8d5",
   "metadata": {
    "tags": []
   },
   "outputs": [
    {
     "name": "stderr",
     "output_type": "stream",
     "text": [
      "2024/07/23 13:53:58 INFO mlflow.tracking.fluent: Autologging successfully enabled for sklearn.\n",
      "2024/07/23 13:53:58 WARNING mlflow.spark: With Pyspark >= 3.2, PYSPARK_PIN_THREAD environment variable must be set to false for Spark datasource autologging to work.\n",
      "2024/07/23 13:53:58 INFO mlflow.tracking.fluent: Autologging successfully enabled for pyspark.\n",
      "/opt/conda/lib/python3.10/site-packages/numpy/core/fromnumeric.py:59: FutureWarning: 'DataFrame.swapaxes' is deprecated and will be removed in a future version. Please use 'DataFrame.transpose' instead.\n",
      "  return bound(*args, **kwds)\n"
     ]
    },
    {
     "name": "stdout",
     "output_type": "stream",
     "text": [
      "Data split > train:(28831, 65) | validation:(8238, 65) | test:(4119, 65)\n",
      "## Processing complete. Exiting.\n"
     ]
    }
   ],
   "source": [
    "# Call the function locally\n",
    "train_data, validation_data, test_data, baseline_data = preprocess(df_data, experiment_name=experiment_name)"
   ]
  },
  {
   "cell_type": "code",
   "execution_count": 24,
   "id": "14fd3745-80dd-45d1-beee-f24b78717c41",
   "metadata": {
    "tags": []
   },
   "outputs": [
    {
     "data": {
      "text/html": [
       "<div>\n",
       "<style scoped>\n",
       "    .dataframe tbody tr th:only-of-type {\n",
       "        vertical-align: middle;\n",
       "    }\n",
       "\n",
       "    .dataframe tbody tr th {\n",
       "        vertical-align: top;\n",
       "    }\n",
       "\n",
       "    .dataframe thead th {\n",
       "        text-align: right;\n",
       "    }\n",
       "</style>\n",
       "<table border=\"1\" class=\"dataframe\">\n",
       "  <thead>\n",
       "    <tr style=\"text-align: right;\">\n",
       "      <th></th>\n",
       "      <th>y</th>\n",
       "      <th>campaign</th>\n",
       "      <th>pdays</th>\n",
       "      <th>previous</th>\n",
       "      <th>no_previous_contact</th>\n",
       "      <th>not_working</th>\n",
       "      <th>age_18-29</th>\n",
       "      <th>age_30-39</th>\n",
       "      <th>age_40-49</th>\n",
       "      <th>age_50-59</th>\n",
       "      <th>...</th>\n",
       "      <th>month_oct</th>\n",
       "      <th>month_sep</th>\n",
       "      <th>day_of_week_fri</th>\n",
       "      <th>day_of_week_mon</th>\n",
       "      <th>day_of_week_thu</th>\n",
       "      <th>day_of_week_tue</th>\n",
       "      <th>day_of_week_wed</th>\n",
       "      <th>poutcome_failure</th>\n",
       "      <th>poutcome_nonexistent</th>\n",
       "      <th>poutcome_success</th>\n",
       "    </tr>\n",
       "  </thead>\n",
       "  <tbody>\n",
       "    <tr>\n",
       "      <th>40949</th>\n",
       "      <td>0</td>\n",
       "      <td>0.036364</td>\n",
       "      <td>1.0</td>\n",
       "      <td>0.0</td>\n",
       "      <td>1</td>\n",
       "      <td>0</td>\n",
       "      <td>0</td>\n",
       "      <td>0</td>\n",
       "      <td>0</td>\n",
       "      <td>1</td>\n",
       "      <td>...</td>\n",
       "      <td>1</td>\n",
       "      <td>0</td>\n",
       "      <td>0</td>\n",
       "      <td>0</td>\n",
       "      <td>1</td>\n",
       "      <td>0</td>\n",
       "      <td>0</td>\n",
       "      <td>0</td>\n",
       "      <td>1</td>\n",
       "      <td>0</td>\n",
       "    </tr>\n",
       "    <tr>\n",
       "      <th>9332</th>\n",
       "      <td>0</td>\n",
       "      <td>0.018182</td>\n",
       "      <td>1.0</td>\n",
       "      <td>0.0</td>\n",
       "      <td>1</td>\n",
       "      <td>0</td>\n",
       "      <td>0</td>\n",
       "      <td>0</td>\n",
       "      <td>0</td>\n",
       "      <td>1</td>\n",
       "      <td>...</td>\n",
       "      <td>0</td>\n",
       "      <td>0</td>\n",
       "      <td>1</td>\n",
       "      <td>0</td>\n",
       "      <td>0</td>\n",
       "      <td>0</td>\n",
       "      <td>0</td>\n",
       "      <td>0</td>\n",
       "      <td>1</td>\n",
       "      <td>0</td>\n",
       "    </tr>\n",
       "    <tr>\n",
       "      <th>32286</th>\n",
       "      <td>0</td>\n",
       "      <td>0.018182</td>\n",
       "      <td>1.0</td>\n",
       "      <td>0.0</td>\n",
       "      <td>1</td>\n",
       "      <td>0</td>\n",
       "      <td>0</td>\n",
       "      <td>1</td>\n",
       "      <td>0</td>\n",
       "      <td>0</td>\n",
       "      <td>...</td>\n",
       "      <td>0</td>\n",
       "      <td>0</td>\n",
       "      <td>1</td>\n",
       "      <td>0</td>\n",
       "      <td>0</td>\n",
       "      <td>0</td>\n",
       "      <td>0</td>\n",
       "      <td>0</td>\n",
       "      <td>1</td>\n",
       "      <td>0</td>\n",
       "    </tr>\n",
       "    <tr>\n",
       "      <th>3925</th>\n",
       "      <td>0</td>\n",
       "      <td>0.036364</td>\n",
       "      <td>1.0</td>\n",
       "      <td>0.0</td>\n",
       "      <td>1</td>\n",
       "      <td>0</td>\n",
       "      <td>0</td>\n",
       "      <td>0</td>\n",
       "      <td>1</td>\n",
       "      <td>0</td>\n",
       "      <td>...</td>\n",
       "      <td>0</td>\n",
       "      <td>0</td>\n",
       "      <td>0</td>\n",
       "      <td>1</td>\n",
       "      <td>0</td>\n",
       "      <td>0</td>\n",
       "      <td>0</td>\n",
       "      <td>0</td>\n",
       "      <td>1</td>\n",
       "      <td>0</td>\n",
       "    </tr>\n",
       "    <tr>\n",
       "      <th>9406</th>\n",
       "      <td>0</td>\n",
       "      <td>0.018182</td>\n",
       "      <td>1.0</td>\n",
       "      <td>0.0</td>\n",
       "      <td>1</td>\n",
       "      <td>0</td>\n",
       "      <td>0</td>\n",
       "      <td>1</td>\n",
       "      <td>0</td>\n",
       "      <td>0</td>\n",
       "      <td>...</td>\n",
       "      <td>0</td>\n",
       "      <td>0</td>\n",
       "      <td>1</td>\n",
       "      <td>0</td>\n",
       "      <td>0</td>\n",
       "      <td>0</td>\n",
       "      <td>0</td>\n",
       "      <td>0</td>\n",
       "      <td>1</td>\n",
       "      <td>0</td>\n",
       "    </tr>\n",
       "  </tbody>\n",
       "</table>\n",
       "<p>5 rows × 65 columns</p>\n",
       "</div>"
      ],
      "text/plain": [
       "       y  campaign  pdays  previous  no_previous_contact  not_working  \\\n",
       "40949  0  0.036364    1.0       0.0                    1            0   \n",
       "9332   0  0.018182    1.0       0.0                    1            0   \n",
       "32286  0  0.018182    1.0       0.0                    1            0   \n",
       "3925   0  0.036364    1.0       0.0                    1            0   \n",
       "9406   0  0.018182    1.0       0.0                    1            0   \n",
       "\n",
       "       age_18-29  age_30-39  age_40-49  age_50-59  ...  month_oct  month_sep  \\\n",
       "40949          0          0          0          1  ...          1          0   \n",
       "9332           0          0          0          1  ...          0          0   \n",
       "32286          0          1          0          0  ...          0          0   \n",
       "3925           0          0          1          0  ...          0          0   \n",
       "9406           0          1          0          0  ...          0          0   \n",
       "\n",
       "       day_of_week_fri  day_of_week_mon  day_of_week_thu  day_of_week_tue  \\\n",
       "40949                0                0                1                0   \n",
       "9332                 1                0                0                0   \n",
       "32286                1                0                0                0   \n",
       "3925                 0                1                0                0   \n",
       "9406                 1                0                0                0   \n",
       "\n",
       "       day_of_week_wed  poutcome_failure  poutcome_nonexistent  \\\n",
       "40949                0                 0                     1   \n",
       "9332                 0                 0                     1   \n",
       "32286                0                 0                     1   \n",
       "3925                 0                 0                     1   \n",
       "9406                 0                 0                     1   \n",
       "\n",
       "       poutcome_success  \n",
       "40949                 0  \n",
       "9332                  0  \n",
       "32286                 0  \n",
       "3925                  0  \n",
       "9406                  0  \n",
       "\n",
       "[5 rows x 65 columns]"
      ]
     },
     "execution_count": 24,
     "metadata": {},
     "output_type": "execute_result"
    }
   ],
   "source": [
    "# see the processed data\n",
    "train_data.head()"
   ]
  },
  {
   "cell_type": "markdown",
   "id": "eeff9ac0-798e-4e7e-8c1b-db9a86735e13",
   "metadata": {},
   "source": [
    "#### Step 2: Execute the function remotely using RemoteExecutor\n",
    "You can use [`RemoteExecutor`](https://sagemaker.readthedocs.io/en/stable/remote_function/sagemaker.remote_function.html#remoteexecutor) SageMaker Python SDK class to run the local function remotely as a SageMaker job. You can run multiple jobs in paralle using `max_parallel_jobs` parameter to control the max number of parallel jobs."
   ]
  },
  {
   "cell_type": "code",
   "execution_count": 25,
   "id": "5fed14c2-cea6-478c-ac96-c8310b674b9c",
   "metadata": {
    "tags": []
   },
   "outputs": [],
   "source": [
    "from sagemaker.remote_function import remote, RemoteExecutor"
   ]
  },
  {
   "cell_type": "code",
   "execution_count": 26,
   "id": "72264ace-992a-42f7-9edc-6d16c063fee3",
   "metadata": {
    "tags": []
   },
   "outputs": [],
   "source": [
    "s3_root_uri = f\"s3://{bucket_name}/{bucket_prefix}\""
   ]
  },
  {
   "cell_type": "code",
   "execution_count": 27,
   "id": "9b7b1c58-b5da-4fda-b9a5-7bc7f9e05ebe",
   "metadata": {
    "tags": []
   },
   "outputs": [
    {
     "name": "stdout",
     "output_type": "stream",
     "text": [
      "sagemaker.config INFO - Applied value from config key = SageMaker.PythonSDK.Modules.RemoteFunction.IncludeLocalWorkDir\n",
      "sagemaker.config INFO - Applied value from config key = SageMaker.PythonSDK.Modules.RemoteFunction.CustomFileFilter.IgnoreNamePatterns\n"
     ]
    },
    {
     "name": "stderr",
     "output_type": "stream",
     "text": [
      "2024-07-23 13:54:08,585 sagemaker.remote_function INFO     Serializing function code to s3://sagemaker-us-east-1-398333718380/from-idea-to-prod/xgboost/preprocess-2024-07-23-13-54-08-585/function\n",
      "2024-07-23 13:54:08,659 sagemaker.remote_function INFO     Serializing function arguments to s3://sagemaker-us-east-1-398333718380/from-idea-to-prod/xgboost/preprocess-2024-07-23-13-54-08-585/arguments\n",
      "2024-07-23 13:54:09,175 sagemaker.remote_function INFO     Copied user workspace to '/tmp/tmp447vpvs8/temp_workspace/sagemaker_remote_function_workspace'\n",
      "2024-07-23 13:54:09,179 sagemaker.remote_function INFO     Copied dependencies file at './processing/requirements/requirements.txt' to '/tmp/tmp447vpvs8/temp_workspace/sagemaker_remote_function_workspace/requirements.txt'\n",
      "2024-07-23 13:54:11,682 sagemaker.remote_function INFO     Successfully created workdir archive at '/tmp/tmp447vpvs8/workspace.zip'\n",
      "2024-07-23 13:54:12,280 sagemaker.remote_function INFO     Successfully uploaded workdir to 's3://sagemaker-us-east-1-398333718380/from-idea-to-prod/xgboost/preprocess-2024-07-23-13-54-08-585/sm_rf_user_ws/workspace.zip'\n",
      "2024-07-23 13:54:12,298 sagemaker.remote_function INFO     Creating job: preprocess-2024-07-23-13-54-08-585\n"
     ]
    }
   ],
   "source": [
    "# this code will start a SageMaker job to execute prerpocess script\n",
    "with RemoteExecutor(dependencies=f\"{dependencies_dir}requirements.txt\",\n",
    "                    s3_root_uri=s3_root_uri, instance_type=processing_instance_type) as e:\n",
    "    future = e.submit(preprocess, df_data)                 "
   ]
  },
  {
   "cell_type": "code",
   "execution_count": 28,
   "id": "c4b90a53-40c4-499c-84f1-985a23011aec",
   "metadata": {
    "tags": []
   },
   "outputs": [
    {
     "name": "stdout",
     "output_type": "stream",
     "text": [
      "2024-07-23 13:57:54 Starting - Preparing the instances for training\n",
      "2024-07-23 13:57:54 Downloading - Downloading the training image\n",
      "2024-07-23 13:57:54 Training - Training image download completed. Training in progress.\n",
      "2024-07-23 13:57:54 Uploading - Uploading generated training model\n",
      "2024-07-23 13:57:54 Completed - Training job completed\u001b[34mINFO: CONDA_PKGS_DIRS is set to '/opt/ml/sagemaker/warmpoolcache/sm_remotefunction_user_dependencies_cache/conda/pkgs'\u001b[0m\n",
      "\u001b[34mINFO: PIP_CACHE_DIR is set to '/opt/ml/sagemaker/warmpoolcache/sm_remotefunction_user_dependencies_cache/pip'\u001b[0m\n",
      "\u001b[34mINFO: Bootstraping runtime environment.\u001b[0m\n",
      "\u001b[34m2024-07-23 13:57:19,759 sagemaker.remote_function INFO     The job is running on non-root user: sagemaker-user. Adding write permissions to the following job output directories: ['/opt/ml/output', '/opt/ml/model', '/tmp'].\u001b[0m\n",
      "\u001b[34m2024-07-23 13:57:19,759 sagemaker.remote_function INFO     Executing 'sudo chmod -R 777 /opt/ml/output /opt/ml/model /tmp'.\u001b[0m\n",
      "\u001b[34m2024-07-23 13:57:20,092 sagemaker.remote_function INFO     Successfully unpacked workspace archive at '/home/sagemaker-user'.\u001b[0m\n",
      "\u001b[34m2024-07-23 13:57:20,093 sagemaker.remote_function INFO     '/home/sagemaker-user/sagemaker_remote_function_workspace/pre_exec.sh' does not exist. Assuming no pre-execution commands to run\u001b[0m\n",
      "\u001b[34m2024-07-23 13:57:20,093 sagemaker.remote_function INFO     Running command: '/opt/conda/bin/python -m pip install -r /home/sagemaker-user/sagemaker_remote_function_workspace/requirements.txt -U' in the dir: '/home/sagemaker-user' \u001b[0m\n",
      "\u001b[34m2024-07-23 13:57:20,640 sagemaker.remote_function INFO     Collecting mlflow==2.13.2 (from -r /home/sagemaker-user/sagemaker_remote_function_workspace/requirements.txt (line 1))\u001b[0m\n",
      "\u001b[34m2024-07-23 13:57:20,659 sagemaker.remote_function INFO       Downloading mlflow-2.13.2-py3-none-any.whl.metadata (29 kB)\u001b[0m\n",
      "\u001b[34m2024-07-23 13:57:20,670 sagemaker.remote_function INFO     Collecting sagemaker-mlflow==0.1.0 (from -r /home/sagemaker-user/sagemaker_remote_function_workspace/requirements.txt (line 2))\u001b[0m\n",
      "\u001b[34m2024-07-23 13:57:20,674 sagemaker.remote_function INFO       Downloading sagemaker_mlflow-0.1.0-py3-none-any.whl.metadata (3.3 kB)\u001b[0m\n",
      "\u001b[34m2024-07-23 13:57:20,732 sagemaker.remote_function INFO     Requirement already satisfied: Flask<4 in /opt/conda/lib/python3.10/site-packages (from mlflow==2.13.2->-r /home/sagemaker-user/sagemaker_remote_function_workspace/requirements.txt (line 1)) (3.0.3)\u001b[0m\n",
      "\u001b[34m2024-07-23 13:57:20,777 sagemaker.remote_function INFO     Collecting alembic!=1.10.0,<2 (from mlflow==2.13.2->-r /home/sagemaker-user/sagemaker_remote_function_workspace/requirements.txt (line 1))\u001b[0m\n",
      "\u001b[34m2024-07-23 13:57:20,781 sagemaker.remote_function INFO       Downloading alembic-1.13.2-py3-none-any.whl.metadata (7.4 kB)\u001b[0m\n",
      "\u001b[34m2024-07-23 13:57:20,783 sagemaker.remote_function INFO     Requirement already satisfied: cachetools<6,>=5.0.0 in /opt/conda/lib/python3.10/site-packages (from mlflow==2.13.2->-r /home/sagemaker-user/sagemaker_remote_function_workspace/requirements.txt (line 1)) (5.3.3)\u001b[0m\n",
      "\u001b[34m2024-07-23 13:57:20,784 sagemaker.remote_function INFO     Requirement already satisfied: click<9,>=7.0 in /opt/conda/lib/python3.10/site-packages (from mlflow==2.13.2->-r /home/sagemaker-user/sagemaker_remote_function_workspace/requirements.txt (line 1)) (8.1.7)\u001b[0m\n",
      "\u001b[34m2024-07-23 13:57:20,784 sagemaker.remote_function INFO     Requirement already satisfied: cloudpickle<4 in /opt/conda/lib/python3.10/site-packages (from mlflow==2.13.2->-r /home/sagemaker-user/sagemaker_remote_function_workspace/requirements.txt (line 1)) (2.2.1)\u001b[0m\n",
      "\u001b[34m2024-07-23 13:57:20,785 sagemaker.remote_function INFO     Requirement already satisfied: docker<8,>=4.0.0 in /opt/conda/lib/python3.10/site-packages (from mlflow==2.13.2->-r /home/sagemaker-user/sagemaker_remote_function_workspace/requirements.txt (line 1)) (7.1.0)\u001b[0m\n",
      "\u001b[34m2024-07-23 13:57:20,786 sagemaker.remote_function INFO     Requirement already satisfied: entrypoints<1 in /opt/conda/lib/python3.10/site-packages (from mlflow==2.13.2->-r /home/sagemaker-user/sagemaker_remote_function_workspace/requirements.txt (line 1)) (0.4)\u001b[0m\n",
      "\u001b[34m2024-07-23 13:57:20,787 sagemaker.remote_function INFO     Requirement already satisfied: gitpython<4,>=3.1.9 in /opt/conda/lib/python3.10/site-packages (from mlflow==2.13.2->-r /home/sagemaker-user/sagemaker_remote_function_workspace/requirements.txt (line 1)) (3.1.43)\u001b[0m\n",
      "\u001b[34m2024-07-23 13:57:20,808 sagemaker.remote_function INFO     Collecting graphene<4 (from mlflow==2.13.2->-r /home/sagemaker-user/sagemaker_remote_function_workspace/requirements.txt (line 1))\u001b[0m\n",
      "\u001b[34m2024-07-23 13:57:20,811 sagemaker.remote_function INFO       Downloading graphene-3.3-py2.py3-none-any.whl.metadata (7.7 kB)\u001b[0m\n",
      "\u001b[34m2024-07-23 13:57:20,812 sagemaker.remote_function INFO     Requirement already satisfied: importlib-metadata!=4.7.0,<8,>=3.7.0 in /opt/conda/lib/python3.10/site-packages (from mlflow==2.13.2->-r /home/sagemaker-user/sagemaker_remote_function_workspace/requirements.txt (line 1)) (6.10.0)\u001b[0m\n",
      "\u001b[34m2024-07-23 13:57:20,813 sagemaker.remote_function INFO     Requirement already satisfied: markdown<4,>=3.3 in /opt/conda/lib/python3.10/site-packages (from mlflow==2.13.2->-r /home/sagemaker-user/sagemaker_remote_function_workspace/requirements.txt (line 1)) (3.6)\u001b[0m\n",
      "\u001b[34m2024-07-23 13:57:20,814 sagemaker.remote_function INFO     Requirement already satisfied: matplotlib<4 in /opt/conda/lib/python3.10/site-packages (from mlflow==2.13.2->-r /home/sagemaker-user/sagemaker_remote_function_workspace/requirements.txt (line 1)) (3.8.4)\u001b[0m\n",
      "\u001b[34m2024-07-23 13:57:20,815 sagemaker.remote_function INFO     Requirement already satisfied: numpy<2 in /opt/conda/lib/python3.10/site-packages (from mlflow==2.13.2->-r /home/sagemaker-user/sagemaker_remote_function_workspace/requirements.txt (line 1)) (1.26.4)\u001b[0m\n",
      "\u001b[34m2024-07-23 13:57:20,841 sagemaker.remote_function INFO     Collecting opentelemetry-api<3,>=1.0.0 (from mlflow==2.13.2->-r /home/sagemaker-user/sagemaker_remote_function_workspace/requirements.txt (line 1))\u001b[0m\n",
      "\u001b[34m2024-07-23 13:57:20,845 sagemaker.remote_function INFO       Downloading opentelemetry_api-1.25.0-py3-none-any.whl.metadata (1.4 kB)\u001b[0m\n",
      "\u001b[34m2024-07-23 13:57:20,873 sagemaker.remote_function INFO     Collecting opentelemetry-sdk<3,>=1.0.0 (from mlflow==2.13.2->-r /home/sagemaker-user/sagemaker_remote_function_workspace/requirements.txt (line 1))\u001b[0m\n",
      "\u001b[34m2024-07-23 13:57:20,876 sagemaker.remote_function INFO       Downloading opentelemetry_sdk-1.25.0-py3-none-any.whl.metadata (1.4 kB)\u001b[0m\n",
      "\u001b[34m2024-07-23 13:57:20,877 sagemaker.remote_function INFO     Requirement already satisfied: packaging<25 in /opt/conda/lib/python3.10/site-packages (from mlflow==2.13.2->-r /home/sagemaker-user/sagemaker_remote_function_workspace/requirements.txt (line 1)) (23.2)\u001b[0m\n",
      "\u001b[34m2024-07-23 13:57:20,878 sagemaker.remote_function INFO     Requirement already satisfied: pandas<3 in /opt/conda/lib/python3.10/site-packages (from mlflow==2.13.2->-r /home/sagemaker-user/sagemaker_remote_function_workspace/requirements.txt (line 1)) (2.1.4)\u001b[0m\n",
      "\u001b[34m2024-07-23 13:57:20,879 sagemaker.remote_function INFO     Requirement already satisfied: protobuf<5,>=3.12.0 in /opt/conda/lib/python3.10/site-packages (from mlflow==2.13.2->-r /home/sagemaker-user/sagemaker_remote_function_workspace/requirements.txt (line 1)) (4.24.4)\u001b[0m\n",
      "\u001b[34m2024-07-23 13:57:20,880 sagemaker.remote_function INFO     Requirement already satisfied: pyarrow<16,>=4.0.0 in /opt/conda/lib/python3.10/site-packages (from mlflow==2.13.2->-r /home/sagemaker-user/sagemaker_remote_function_workspace/requirements.txt (line 1)) (15.0.0)\u001b[0m\n",
      "\u001b[34m2024-07-23 13:57:20,881 sagemaker.remote_function INFO     Requirement already satisfied: pytz<2025 in /opt/conda/lib/python3.10/site-packages (from mlflow==2.13.2->-r /home/sagemaker-user/sagemaker_remote_function_workspace/requirements.txt (line 1)) (2023.3)\u001b[0m\n",
      "\u001b[34m2024-07-23 13:57:20,881 sagemaker.remote_function INFO     Requirement already satisfied: pyyaml<7,>=5.1 in /opt/conda/lib/python3.10/site-packages (from mlflow==2.13.2->-r /home/sagemaker-user/sagemaker_remote_function_workspace/requirements.txt (line 1)) (6.0.1)\u001b[0m\n",
      "\u001b[34m2024-07-23 13:57:20,891 sagemaker.remote_function INFO     Collecting querystring-parser<2 (from mlflow==2.13.2->-r /home/sagemaker-user/sagemaker_remote_function_workspace/requirements.txt (line 1))\u001b[0m\n",
      "\u001b[34m2024-07-23 13:57:20,894 sagemaker.remote_function INFO       Downloading querystring_parser-1.2.4-py2.py3-none-any.whl.metadata (559 bytes)\u001b[0m\n",
      "\u001b[34m2024-07-23 13:57:20,895 sagemaker.remote_function INFO     Requirement already satisfied: requests<3,>=2.17.3 in /opt/conda/lib/python3.10/site-packages (from mlflow==2.13.2->-r /home/sagemaker-user/sagemaker_remote_function_workspace/requirements.txt (line 1)) (2.32.3)\u001b[0m\n",
      "\u001b[34m2024-07-23 13:57:20,896 sagemaker.remote_function INFO     Requirement already satisfied: scikit-learn<2 in /opt/conda/lib/python3.10/site-packages (from mlflow==2.13.2->-r /home/sagemaker-user/sagemaker_remote_function_workspace/requirements.txt (line 1)) (1.4.2)\u001b[0m\n",
      "\u001b[34m2024-07-23 13:57:20,897 sagemaker.remote_function INFO     Requirement already satisfied: scipy<2 in /opt/conda/lib/python3.10/site-packages (from mlflow==2.13.2->-r /home/sagemaker-user/sagemaker_remote_function_workspace/requirements.txt (line 1)) (1.11.4)\u001b[0m\n",
      "\u001b[34m2024-07-23 13:57:20,898 sagemaker.remote_function INFO     Requirement already satisfied: sqlalchemy<3,>=1.4.0 in /opt/conda/lib/python3.10/site-packages (from mlflow==2.13.2->-r /home/sagemaker-user/sagemaker_remote_function_workspace/requirements.txt (line 1)) (2.0.30)\u001b[0m\n",
      "\u001b[34m2024-07-23 13:57:20,899 sagemaker.remote_function INFO     Requirement already satisfied: sqlparse<1,>=0.4.0 in /opt/conda/lib/python3.10/site-packages (from mlflow==2.13.2->-r /home/sagemaker-user/sagemaker_remote_function_workspace/requirements.txt (line 1)) (0.5.0)\u001b[0m\n",
      "\u001b[34m2024-07-23 13:57:20,900 sagemaker.remote_function INFO     Requirement already satisfied: Jinja2<4,>=2.11 in /opt/conda/lib/python3.10/site-packages (from mlflow==2.13.2->-r /home/sagemaker-user/sagemaker_remote_function_workspace/requirements.txt (line 1)) (3.1.4)\u001b[0m\n",
      "\u001b[34m2024-07-23 13:57:20,924 sagemaker.remote_function INFO     Collecting gunicorn<23 (from mlflow==2.13.2->-r /home/sagemaker-user/sagemaker_remote_function_workspace/requirements.txt (line 1))\u001b[0m\n",
      "\u001b[34m2024-07-23 13:57:20,927 sagemaker.remote_function INFO       Downloading gunicorn-22.0.0-py3-none-any.whl.metadata (4.4 kB)\u001b[0m\n",
      "\u001b[34m2024-07-23 13:57:20,939 sagemaker.remote_function INFO     Requirement already satisfied: boto3>=1.34 in /opt/conda/lib/python3.10/site-packages (from sagemaker-mlflow==0.1.0->-r /home/sagemaker-user/sagemaker_remote_function_workspace/requirements.txt (line 2)) (1.34.131)\u001b[0m\n",
      "\u001b[34m2024-07-23 13:57:20,972 sagemaker.remote_function INFO     Collecting Mako (from alembic!=1.10.0,<2->mlflow==2.13.2->-r /home/sagemaker-user/sagemaker_remote_function_workspace/requirements.txt (line 1))\u001b[0m\n",
      "\u001b[34m2024-07-23 13:57:20,975 sagemaker.remote_function INFO       Downloading Mako-1.3.5-py3-none-any.whl.metadata (2.9 kB)\u001b[0m\n",
      "\u001b[34m2024-07-23 13:57:20,976 sagemaker.remote_function INFO     Requirement already satisfied: typing-extensions>=4 in /opt/conda/lib/python3.10/site-packages (from alembic!=1.10.0,<2->mlflow==2.13.2->-r /home/sagemaker-user/sagemaker_remote_function_workspace/requirements.txt (line 1)) (4.12.2)\u001b[0m\n",
      "\u001b[34m2024-07-23 13:57:20,981 sagemaker.remote_function INFO     Requirement already satisfied: botocore<1.35.0,>=1.34.131 in /opt/conda/lib/python3.10/site-packages (from boto3>=1.34->sagemaker-mlflow==0.1.0->-r /home/sagemaker-user/sagemaker_remote_function_workspace/requirements.txt (line 2)) (1.34.131)\u001b[0m\n",
      "\u001b[34m2024-07-23 13:57:20,982 sagemaker.remote_function INFO     Requirement already satisfied: jmespath<2.0.0,>=0.7.1 in /opt/conda/lib/python3.10/site-packages (from boto3>=1.34->sagemaker-mlflow==0.1.0->-r /home/sagemaker-user/sagemaker_remote_function_workspace/requirements.txt (line 2)) (1.0.1)\u001b[0m\n",
      "\u001b[34m2024-07-23 13:57:20,983 sagemaker.remote_function INFO     Requirement already satisfied: s3transfer<0.11.0,>=0.10.0 in /opt/conda/lib/python3.10/site-packages (from boto3>=1.34->sagemaker-mlflow==0.1.0->-r /home/sagemaker-user/sagemaker_remote_function_workspace/requirements.txt (line 2)) (0.10.2)\u001b[0m\n",
      "\u001b[34m2024-07-23 13:57:20,999 sagemaker.remote_function INFO     Requirement already satisfied: urllib3>=1.26.0 in /opt/conda/lib/python3.10/site-packages (from docker<8,>=4.0.0->mlflow==2.13.2->-r /home/sagemaker-user/sagemaker_remote_function_workspace/requirements.txt (line 1)) (1.26.19)\u001b[0m\n",
      "\u001b[34m2024-07-23 13:57:21,008 sagemaker.remote_function INFO     Requirement already satisfied: Werkzeug>=3.0.0 in /opt/conda/lib/python3.10/site-packages (from Flask<4->mlflow==2.13.2->-r /home/sagemaker-user/sagemaker_remote_function_workspace/requirements.txt (line 1)) (3.0.3)\u001b[0m\n",
      "\u001b[34m2024-07-23 13:57:21,009 sagemaker.remote_function INFO     Requirement already satisfied: itsdangerous>=2.1.2 in /opt/conda/lib/python3.10/site-packages (from Flask<4->mlflow==2.13.2->-r /home/sagemaker-user/sagemaker_remote_function_workspace/requirements.txt (line 1)) (2.2.0)\u001b[0m\n",
      "\u001b[34m2024-07-23 13:57:21,010 sagemaker.remote_function INFO     Requirement already satisfied: blinker>=1.6.2 in /opt/conda/lib/python3.10/site-packages (from Flask<4->mlflow==2.13.2->-r /home/sagemaker-user/sagemaker_remote_function_workspace/requirements.txt (line 1)) (1.8.2)\u001b[0m\n",
      "\u001b[34m2024-07-23 13:57:21,029 sagemaker.remote_function INFO     Requirement already satisfied: gitdb<5,>=4.0.1 in /opt/conda/lib/python3.10/site-packages (from gitpython<4,>=3.1.9->mlflow==2.13.2->-r /home/sagemaker-user/sagemaker_remote_function_workspace/requirements.txt (line 1)) (4.0.11)\u001b[0m\n",
      "\u001b[34m2024-07-23 13:57:21,079 sagemaker.remote_function INFO     Collecting graphql-core<3.3,>=3.1 (from graphene<4->mlflow==2.13.2->-r /home/sagemaker-user/sagemaker_remote_function_workspace/requirements.txt (line 1))\u001b[0m\n",
      "\u001b[34m2024-07-23 13:57:21,082 sagemaker.remote_function INFO       Downloading graphql_core-3.2.3-py3-none-any.whl.metadata (10 kB)\u001b[0m\n",
      "\u001b[34m2024-07-23 13:57:21,097 sagemaker.remote_function INFO     Collecting graphql-relay<3.3,>=3.1 (from graphene<4->mlflow==2.13.2->-r /home/sagemaker-user/sagemaker_remote_function_workspace/requirements.txt (line 1))\u001b[0m\n",
      "\u001b[34m2024-07-23 13:57:21,100 sagemaker.remote_function INFO       Downloading graphql_relay-3.2.0-py3-none-any.whl.metadata (12 kB)\u001b[0m\n",
      "\u001b[34m2024-07-23 13:57:21,116 sagemaker.remote_function INFO     Collecting aniso8601<10,>=8 (from graphene<4->mlflow==2.13.2->-r /home/sagemaker-user/sagemaker_remote_function_workspace/requirements.txt (line 1))\u001b[0m\n",
      "\u001b[34m2024-07-23 13:57:21,123 sagemaker.remote_function INFO       Downloading aniso8601-9.0.1-py2.py3-none-any.whl.metadata (23 kB)\u001b[0m\n",
      "\u001b[34m2024-07-23 13:57:21,172 sagemaker.remote_function INFO     Requirement already satisfied: zipp>=0.5 in /opt/conda/lib/python3.10/site-packages (from importlib-metadata!=4.7.0,<8,>=3.7.0->mlflow==2.13.2->-r /home/sagemaker-user/sagemaker_remote_function_workspace/requirements.txt (line 1)) (3.19.2)\u001b[0m\n",
      "\u001b[34m2024-07-23 13:57:21,176 sagemaker.remote_function INFO     Requirement already satisfied: MarkupSafe>=2.0 in /opt/conda/lib/python3.10/site-packages (from Jinja2<4,>=2.11->mlflow==2.13.2->-r /home/sagemaker-user/sagemaker_remote_function_workspace/requirements.txt (line 1)) (2.1.5)\u001b[0m\n",
      "\u001b[34m2024-07-23 13:57:21,194 sagemaker.remote_function INFO     Requirement already satisfied: contourpy>=1.0.1 in /opt/conda/lib/python3.10/site-packages (from matplotlib<4->mlflow==2.13.2->-r /home/sagemaker-user/sagemaker_remote_function_workspace/requirements.txt (line 1)) (1.2.1)\u001b[0m\n",
      "\u001b[34m2024-07-23 13:57:21,195 sagemaker.remote_function INFO     Requirement already satisfied: cycler>=0.10 in /opt/conda/lib/python3.10/site-packages (from matplotlib<4->mlflow==2.13.2->-r /home/sagemaker-user/sagemaker_remote_function_workspace/requirements.txt (line 1)) (0.12.1)\u001b[0m\n",
      "\u001b[34m2024-07-23 13:57:21,196 sagemaker.remote_function INFO     Requirement already satisfied: fonttools>=4.22.0 in /opt/conda/lib/python3.10/site-packages (from matplotlib<4->mlflow==2.13.2->-r /home/sagemaker-user/sagemaker_remote_function_workspace/requirements.txt (line 1)) (4.53.0)\u001b[0m\n",
      "\u001b[34m2024-07-23 13:57:21,197 sagemaker.remote_function INFO     Requirement already satisfied: kiwisolver>=1.3.1 in /opt/conda/lib/python3.10/site-packages (from matplotlib<4->mlflow==2.13.2->-r /home/sagemaker-user/sagemaker_remote_function_workspace/requirements.txt (line 1)) (1.4.5)\u001b[0m\n",
      "\u001b[34m2024-07-23 13:57:21,198 sagemaker.remote_function INFO     Requirement already satisfied: pillow>=8 in /opt/conda/lib/python3.10/site-packages (from matplotlib<4->mlflow==2.13.2->-r /home/sagemaker-user/sagemaker_remote_function_workspace/requirements.txt (line 1)) (10.3.0)\u001b[0m\n",
      "\u001b[34m2024-07-23 13:57:21,199 sagemaker.remote_function INFO     Requirement already satisfied: pyparsing>=2.3.1 in /opt/conda/lib/python3.10/site-packages (from matplotlib<4->mlflow==2.13.2->-r /home/sagemaker-user/sagemaker_remote_function_workspace/requirements.txt (line 1)) (3.1.2)\u001b[0m\n",
      "\u001b[34m2024-07-23 13:57:21,200 sagemaker.remote_function INFO     Requirement already satisfied: python-dateutil>=2.7 in /opt/conda/lib/python3.10/site-packages (from matplotlib<4->mlflow==2.13.2->-r /home/sagemaker-user/sagemaker_remote_function_workspace/requirements.txt (line 1)) (2.9.0)\u001b[0m\n",
      "\u001b[34m2024-07-23 13:57:21,225 sagemaker.remote_function INFO     Collecting deprecated>=1.2.6 (from opentelemetry-api<3,>=1.0.0->mlflow==2.13.2->-r /home/sagemaker-user/sagemaker_remote_function_workspace/requirements.txt (line 1))\u001b[0m\n",
      "\u001b[34m2024-07-23 13:57:21,229 sagemaker.remote_function INFO       Downloading Deprecated-1.2.14-py2.py3-none-any.whl.metadata (5.4 kB)\u001b[0m\n",
      "\u001b[34m2024-07-23 13:57:21,257 sagemaker.remote_function INFO     Collecting opentelemetry-semantic-conventions==0.46b0 (from opentelemetry-sdk<3,>=1.0.0->mlflow==2.13.2->-r /home/sagemaker-user/sagemaker_remote_function_workspace/requirements.txt (line 1))\u001b[0m\n",
      "\u001b[34m2024-07-23 13:57:21,260 sagemaker.remote_function INFO       Downloading opentelemetry_semantic_conventions-0.46b0-py3-none-any.whl.metadata (2.3 kB)\u001b[0m\n",
      "\u001b[34m2024-07-23 13:57:21,343 sagemaker.remote_function INFO     Requirement already satisfied: tzdata>=2022.1 in /opt/conda/lib/python3.10/site-packages (from pandas<3->mlflow==2.13.2->-r /home/sagemaker-user/sagemaker_remote_function_workspace/requirements.txt (line 1)) (2024.1)\u001b[0m\n",
      "\u001b[34m2024-07-23 13:57:21,360 sagemaker.remote_function INFO     Requirement already satisfied: six in /opt/conda/lib/python3.10/site-packages (from querystring-parser<2->mlflow==2.13.2->-r /home/sagemaker-user/sagemaker_remote_function_workspace/requirements.txt (line 1)) (1.16.0)\u001b[0m\n",
      "\u001b[34m2024-07-23 13:57:21,369 sagemaker.remote_function INFO     Requirement already satisfied: charset-normalizer<4,>=2 in /opt/conda/lib/python3.10/site-packages (from requests<3,>=2.17.3->mlflow==2.13.2->-r /home/sagemaker-user/sagemaker_remote_function_workspace/requirements.txt (line 1)) (3.3.2)\u001b[0m\n",
      "\u001b[34m2024-07-23 13:57:21,369 sagemaker.remote_function INFO     Requirement already satisfied: idna<4,>=2.5 in /opt/conda/lib/python3.10/site-packages (from requests<3,>=2.17.3->mlflow==2.13.2->-r /home/sagemaker-user/sagemaker_remote_function_workspace/requirements.txt (line 1)) (3.7)\u001b[0m\n",
      "\u001b[34m2024-07-23 13:57:21,370 sagemaker.remote_function INFO     Requirement already satisfied: certifi>=2017.4.17 in /opt/conda/lib/python3.10/site-packages (from requests<3,>=2.17.3->mlflow==2.13.2->-r /home/sagemaker-user/sagemaker_remote_function_workspace/requirements.txt (line 1)) (2024.6.2)\u001b[0m\n",
      "\u001b[34m2024-07-23 13:57:21,405 sagemaker.remote_function INFO     Requirement already satisfied: joblib>=1.2.0 in /opt/conda/lib/python3.10/site-packages (from scikit-learn<2->mlflow==2.13.2->-r /home/sagemaker-user/sagemaker_remote_function_workspace/requirements.txt (line 1)) (1.4.2)\u001b[0m\n",
      "\u001b[34m2024-07-23 13:57:21,406 sagemaker.remote_function INFO     Requirement already satisfied: threadpoolctl>=2.0.0 in /opt/conda/lib/python3.10/site-packages (from scikit-learn<2->mlflow==2.13.2->-r /home/sagemaker-user/sagemaker_remote_function_workspace/requirements.txt (line 1)) (3.5.0)\u001b[0m\n",
      "\u001b[34m2024-07-23 13:57:21,471 sagemaker.remote_function INFO     Requirement already satisfied: greenlet!=0.4.17 in /opt/conda/lib/python3.10/site-packages (from sqlalchemy<3,>=1.4.0->mlflow==2.13.2->-r /home/sagemaker-user/sagemaker_remote_function_workspace/requirements.txt (line 1)) (3.0.3)\u001b[0m\n",
      "\u001b[34m2024-07-23 13:57:21,540 sagemaker.remote_function INFO     Requirement already satisfied: wrapt<2,>=1.10 in /opt/conda/lib/python3.10/site-packages (from deprecated>=1.2.6->opentelemetry-api<3,>=1.0.0->mlflow==2.13.2->-r /home/sagemaker-user/sagemaker_remote_function_workspace/requirements.txt (line 1)) (1.14.1)\u001b[0m\n",
      "\u001b[34m2024-07-23 13:57:21,584 sagemaker.remote_function INFO     Requirement already satisfied: smmap<6,>=3.0.1 in /opt/conda/lib/python3.10/site-packages (from gitdb<5,>=4.0.1->gitpython<4,>=3.1.9->mlflow==2.13.2->-r /home/sagemaker-user/sagemaker_remote_function_workspace/requirements.txt (line 1)) (5.0.0)\u001b[0m\n",
      "\u001b[34m2024-07-23 13:57:21,782 sagemaker.remote_function INFO     Downloading mlflow-2.13.2-py3-none-any.whl (25.0 MB)\u001b[0m\n",
      "\u001b[34m2024-07-23 13:57:21,930 sagemaker.remote_function INFO        ━━━━━━━━━━━━━━━━━━━━━━━━━━━━━━━━━━━━━━━━ 25.0/25.0 MB 191.8 MB/s eta 0:00:00\u001b[0m\n",
      "\u001b[34m2024-07-23 13:57:21,935 sagemaker.remote_function INFO     Downloading sagemaker_mlflow-0.1.0-py3-none-any.whl (24 kB)\u001b[0m\n",
      "\u001b[34m2024-07-23 13:57:21,940 sagemaker.remote_function INFO     Downloading alembic-1.13.2-py3-none-any.whl (232 kB)\u001b[0m\n",
      "\u001b[34m2024-07-23 13:57:21,943 sagemaker.remote_function INFO        ━━━━━━━━━━━━━━━━━━━━━━━━━━━━━━━━━━━━━━━ 233.0/233.0 kB 318.4 MB/s eta 0:00:00\u001b[0m\n",
      "\u001b[34m2024-07-23 13:57:21,948 sagemaker.remote_function INFO     Downloading graphene-3.3-py2.py3-none-any.whl (128 kB)\u001b[0m\n",
      "\u001b[34m2024-07-23 13:57:21,951 sagemaker.remote_function INFO        ━━━━━━━━━━━━━━━━━━━━━━━━━━━━━━━━━━━━━━━ 128.2/128.2 kB 292.0 MB/s eta 0:00:00\u001b[0m\n",
      "\u001b[34m2024-07-23 13:57:21,954 sagemaker.remote_function INFO     Downloading gunicorn-22.0.0-py3-none-any.whl (84 kB)\u001b[0m\n",
      "\u001b[34m2024-07-23 13:57:21,956 sagemaker.remote_function INFO        ━━━━━━━━━━━━━━━━━━━━━━━━━━━━━━━━━━━━━━━━ 84.4/84.4 kB 283.7 MB/s eta 0:00:00\u001b[0m\n",
      "\u001b[34m2024-07-23 13:57:21,960 sagemaker.remote_function INFO     Downloading opentelemetry_api-1.25.0-py3-none-any.whl (59 kB)\u001b[0m\n",
      "\u001b[34m2024-07-23 13:57:21,963 sagemaker.remote_function INFO        ━━━━━━━━━━━━━━━━━━━━━━━━━━━━━━━━━━━━━━━━ 59.9/59.9 kB 278.3 MB/s eta 0:00:00\u001b[0m\n",
      "\u001b[34m2024-07-23 13:57:21,966 sagemaker.remote_function INFO     Downloading opentelemetry_sdk-1.25.0-py3-none-any.whl (107 kB)\u001b[0m\n",
      "\u001b[34m2024-07-23 13:57:21,969 sagemaker.remote_function INFO        ━━━━━━━━━━━━━━━━━━━━━━━━━━━━━━━━━━━━━━━ 107.0/107.0 kB 247.0 MB/s eta 0:00:00\u001b[0m\n",
      "\u001b[34m2024-07-23 13:57:21,973 sagemaker.remote_function INFO     Downloading opentelemetry_semantic_conventions-0.46b0-py3-none-any.whl (130 kB)\u001b[0m\n",
      "\u001b[34m2024-07-23 13:57:21,976 sagemaker.remote_function INFO        ━━━━━━━━━━━━━━━━━━━━━━━━━━━━━━━━━━━━━━━ 130.5/130.5 kB 311.8 MB/s eta 0:00:00\u001b[0m\n",
      "\u001b[34m2024-07-23 13:57:21,979 sagemaker.remote_function INFO     Downloading querystring_parser-1.2.4-py2.py3-none-any.whl (7.9 kB)\u001b[0m\n",
      "\u001b[34m2024-07-23 13:57:21,982 sagemaker.remote_function INFO     Downloading aniso8601-9.0.1-py2.py3-none-any.whl (52 kB)\u001b[0m\n",
      "\u001b[34m2024-07-23 13:57:21,984 sagemaker.remote_function INFO        ━━━━━━━━━━━━━━━━━━━━━━━━━━━━━━━━━━━━━━━━ 52.8/52.8 kB 255.4 MB/s eta 0:00:00\u001b[0m\n",
      "\u001b[34m2024-07-23 13:57:21,987 sagemaker.remote_function INFO     Downloading Deprecated-1.2.14-py2.py3-none-any.whl (9.6 kB)\u001b[0m\n",
      "\u001b[34m2024-07-23 13:57:21,992 sagemaker.remote_function INFO     Downloading graphql_core-3.2.3-py3-none-any.whl (202 kB)\u001b[0m\n",
      "\u001b[34m2024-07-23 13:57:21,995 sagemaker.remote_function INFO        ━━━━━━━━━━━━━━━━━━━━━━━━━━━━━━━━━━━━━━━ 202.9/202.9 kB 328.5 MB/s eta 0:00:00\u001b[0m\n",
      "\u001b[34m2024-07-23 13:57:21,998 sagemaker.remote_function INFO     Downloading graphql_relay-3.2.0-py3-none-any.whl (16 kB)\u001b[0m\n",
      "\u001b[34m2024-07-23 13:57:22,004 sagemaker.remote_function INFO     Downloading Mako-1.3.5-py3-none-any.whl (78 kB)\u001b[0m\n",
      "\u001b[34m2024-07-23 13:57:22,006 sagemaker.remote_function INFO        ━━━━━━━━━━━━━━━━━━━━━━━━━━━━━━━━━━━━━━━━ 78.6/78.6 kB 280.0 MB/s eta 0:00:00\u001b[0m\n",
      "\u001b[34m2024-07-23 13:57:25,461 sagemaker.remote_function INFO     Installing collected packages: aniso8601, querystring-parser, Mako, gunicorn, graphql-core, deprecated, opentelemetry-api, graphql-relay, alembic, opentelemetry-semantic-conventions, graphene, opentelemetry-sdk, mlflow, sagemaker-mlflow\u001b[0m\n",
      "\u001b[34m2024-07-23 13:57:27,603 sagemaker.remote_function INFO     Successfully installed Mako-1.3.5 alembic-1.13.2 aniso8601-9.0.1 deprecated-1.2.14 graphene-3.3 graphql-core-3.2.3 graphql-relay-3.2.0 gunicorn-22.0.0 mlflow-2.13.2 opentelemetry-api-1.25.0 opentelemetry-sdk-1.25.0 opentelemetry-semantic-conventions-0.46b0 querystring-parser-1.2.4 sagemaker-mlflow-0.1.0\u001b[0m\n",
      "\u001b[34m2024-07-23 13:57:27,861 sagemaker.remote_function WARNING  WARNING: The directory '/opt/ml/sagemaker/warmpoolcache/sm_remotefunction_user_dependencies_cache/pip' or its parent directory is not owned or is not writable by the current user. The cache has been disabled. Check the permissions and owner of that directory. If executing pip with sudo, you should use sudo's -H flag.\u001b[0m\n",
      "\u001b[34m2024-07-23 13:57:27,861 sagemaker.remote_function INFO     Command /opt/conda/bin/python -m pip install -r /home/sagemaker-user/sagemaker_remote_function_workspace/requirements.txt -U ran successfully\u001b[0m\n",
      "\u001b[34msagemaker.config INFO - Not applying SDK defaults from location: /etc/xdg/sagemaker/config.yaml\u001b[0m\n",
      "\u001b[34msagemaker.config INFO - Not applying SDK defaults from location: /home/sagemaker-user/.config/sagemaker/config.yaml\u001b[0m\n",
      "\u001b[34m2024-07-23 13:57:29,267 sagemaker.remote_function WARNING  Inconsistent sagemaker versions found: sagemaker python sdk version found in the container is '2.224.1' which does not match the '2.226.1' on the local client. Please make sure that the sagemaker version used in the training container is the same as the local sagemaker version in case of unexpected behaviors.\u001b[0m\n",
      "\u001b[34mINFO: Changing workspace to sagemaker_remote_function_workspace.\u001b[0m\n",
      "\u001b[34mINFO: No conda env provided. Invoking remote function\u001b[0m\n",
      "\u001b[34msagemaker.config INFO - Not applying SDK defaults from location: /etc/xdg/sagemaker/config.yaml\u001b[0m\n",
      "\u001b[34msagemaker.config INFO - Not applying SDK defaults from location: /home/sagemaker-user/.config/sagemaker/config.yaml\u001b[0m\n",
      "\u001b[34m2024-07-23 13:57:30,815 sagemaker.remote_function INFO     Deserializing function code from s3://sagemaker-us-east-1-398333718380/from-idea-to-prod/xgboost/preprocess-2024-07-23-13-54-08-585/function\u001b[0m\n",
      "\u001b[34m2024-07-23 13:57:31,337 sagemaker.remote_function INFO     Deserializing function arguments from s3://sagemaker-us-east-1-398333718380/from-idea-to-prod/xgboost/preprocess-2024-07-23-13-54-08-585/arguments\u001b[0m\n",
      "\u001b[34m2024-07-23 13:57:31,907 sagemaker.remote_function INFO     Resolving pipeline variables\u001b[0m\n",
      "\u001b[34m2024-07-23 13:57:31,907 sagemaker.remote_function INFO     Invoking the function\u001b[0m\n",
      "\u001b[34m2024/07/23 13:57:32 INFO mlflow.tracking.fluent: Autologging successfully enabled for sklearn.\u001b[0m\n",
      "\u001b[34m2024/07/23 13:57:33 INFO mlflow.tracking.fluent: Experiment with name 'preprocess-23-13-57-32' does not exist. Creating a new experiment.\u001b[0m\n",
      "\u001b[34m/opt/conda/lib/python3.10/site-packages/numpy/core/fromnumeric.py:59: FutureWarning: 'DataFrame.swapaxes' is deprecated and will be removed in a future version. Please use 'DataFrame.transpose' instead.\n",
      "  return bound(*args, **kwds)\u001b[0m\n",
      "\u001b[34m2024-07-23 13:57:33,688 sagemaker.remote_function INFO     Serializing the function return and uploading to s3://sagemaker-us-east-1-398333718380/from-idea-to-prod/xgboost/preprocess-2024-07-23-13-54-08-585/results\u001b[0m\n",
      "\u001b[34mData split > train:(28831, 65) | validation:(8238, 65) | test:(4119, 65)\u001b[0m\n",
      "\u001b[34m## Processing complete. Exiting.\u001b[0m\n",
      "Training seconds: 175\n",
      "Billable seconds: 175\n"
     ]
    }
   ],
   "source": [
    "train_data, validation_data, test_data, baseline_data = future.result()"
   ]
  },
  {
   "cell_type": "code",
   "execution_count": 29,
   "id": "f472ed5c-2e54-4002-9fd5-818497ec8d5b",
   "metadata": {
    "tags": []
   },
   "outputs": [
    {
     "data": {
      "text/html": [
       "<div>\n",
       "<style scoped>\n",
       "    .dataframe tbody tr th:only-of-type {\n",
       "        vertical-align: middle;\n",
       "    }\n",
       "\n",
       "    .dataframe tbody tr th {\n",
       "        vertical-align: top;\n",
       "    }\n",
       "\n",
       "    .dataframe thead th {\n",
       "        text-align: right;\n",
       "    }\n",
       "</style>\n",
       "<table border=\"1\" class=\"dataframe\">\n",
       "  <thead>\n",
       "    <tr style=\"text-align: right;\">\n",
       "      <th></th>\n",
       "      <th>y</th>\n",
       "      <th>campaign</th>\n",
       "      <th>pdays</th>\n",
       "      <th>previous</th>\n",
       "      <th>no_previous_contact</th>\n",
       "      <th>not_working</th>\n",
       "      <th>age_18-29</th>\n",
       "      <th>age_30-39</th>\n",
       "      <th>age_40-49</th>\n",
       "      <th>age_50-59</th>\n",
       "      <th>...</th>\n",
       "      <th>month_oct</th>\n",
       "      <th>month_sep</th>\n",
       "      <th>day_of_week_fri</th>\n",
       "      <th>day_of_week_mon</th>\n",
       "      <th>day_of_week_thu</th>\n",
       "      <th>day_of_week_tue</th>\n",
       "      <th>day_of_week_wed</th>\n",
       "      <th>poutcome_failure</th>\n",
       "      <th>poutcome_nonexistent</th>\n",
       "      <th>poutcome_success</th>\n",
       "    </tr>\n",
       "  </thead>\n",
       "  <tbody>\n",
       "    <tr>\n",
       "      <th>40949</th>\n",
       "      <td>0</td>\n",
       "      <td>0.036364</td>\n",
       "      <td>1.0</td>\n",
       "      <td>0.0</td>\n",
       "      <td>1</td>\n",
       "      <td>0</td>\n",
       "      <td>0</td>\n",
       "      <td>0</td>\n",
       "      <td>0</td>\n",
       "      <td>1</td>\n",
       "      <td>...</td>\n",
       "      <td>1</td>\n",
       "      <td>0</td>\n",
       "      <td>0</td>\n",
       "      <td>0</td>\n",
       "      <td>1</td>\n",
       "      <td>0</td>\n",
       "      <td>0</td>\n",
       "      <td>0</td>\n",
       "      <td>1</td>\n",
       "      <td>0</td>\n",
       "    </tr>\n",
       "    <tr>\n",
       "      <th>9332</th>\n",
       "      <td>0</td>\n",
       "      <td>0.018182</td>\n",
       "      <td>1.0</td>\n",
       "      <td>0.0</td>\n",
       "      <td>1</td>\n",
       "      <td>0</td>\n",
       "      <td>0</td>\n",
       "      <td>0</td>\n",
       "      <td>0</td>\n",
       "      <td>1</td>\n",
       "      <td>...</td>\n",
       "      <td>0</td>\n",
       "      <td>0</td>\n",
       "      <td>1</td>\n",
       "      <td>0</td>\n",
       "      <td>0</td>\n",
       "      <td>0</td>\n",
       "      <td>0</td>\n",
       "      <td>0</td>\n",
       "      <td>1</td>\n",
       "      <td>0</td>\n",
       "    </tr>\n",
       "    <tr>\n",
       "      <th>32286</th>\n",
       "      <td>0</td>\n",
       "      <td>0.018182</td>\n",
       "      <td>1.0</td>\n",
       "      <td>0.0</td>\n",
       "      <td>1</td>\n",
       "      <td>0</td>\n",
       "      <td>0</td>\n",
       "      <td>1</td>\n",
       "      <td>0</td>\n",
       "      <td>0</td>\n",
       "      <td>...</td>\n",
       "      <td>0</td>\n",
       "      <td>0</td>\n",
       "      <td>1</td>\n",
       "      <td>0</td>\n",
       "      <td>0</td>\n",
       "      <td>0</td>\n",
       "      <td>0</td>\n",
       "      <td>0</td>\n",
       "      <td>1</td>\n",
       "      <td>0</td>\n",
       "    </tr>\n",
       "    <tr>\n",
       "      <th>3925</th>\n",
       "      <td>0</td>\n",
       "      <td>0.036364</td>\n",
       "      <td>1.0</td>\n",
       "      <td>0.0</td>\n",
       "      <td>1</td>\n",
       "      <td>0</td>\n",
       "      <td>0</td>\n",
       "      <td>0</td>\n",
       "      <td>1</td>\n",
       "      <td>0</td>\n",
       "      <td>...</td>\n",
       "      <td>0</td>\n",
       "      <td>0</td>\n",
       "      <td>0</td>\n",
       "      <td>1</td>\n",
       "      <td>0</td>\n",
       "      <td>0</td>\n",
       "      <td>0</td>\n",
       "      <td>0</td>\n",
       "      <td>1</td>\n",
       "      <td>0</td>\n",
       "    </tr>\n",
       "    <tr>\n",
       "      <th>9406</th>\n",
       "      <td>0</td>\n",
       "      <td>0.018182</td>\n",
       "      <td>1.0</td>\n",
       "      <td>0.0</td>\n",
       "      <td>1</td>\n",
       "      <td>0</td>\n",
       "      <td>0</td>\n",
       "      <td>1</td>\n",
       "      <td>0</td>\n",
       "      <td>0</td>\n",
       "      <td>...</td>\n",
       "      <td>0</td>\n",
       "      <td>0</td>\n",
       "      <td>1</td>\n",
       "      <td>0</td>\n",
       "      <td>0</td>\n",
       "      <td>0</td>\n",
       "      <td>0</td>\n",
       "      <td>0</td>\n",
       "      <td>1</td>\n",
       "      <td>0</td>\n",
       "    </tr>\n",
       "  </tbody>\n",
       "</table>\n",
       "<p>5 rows × 65 columns</p>\n",
       "</div>"
      ],
      "text/plain": [
       "       y  campaign  pdays  previous  no_previous_contact  not_working  \\\n",
       "40949  0  0.036364    1.0       0.0                    1            0   \n",
       "9332   0  0.018182    1.0       0.0                    1            0   \n",
       "32286  0  0.018182    1.0       0.0                    1            0   \n",
       "3925   0  0.036364    1.0       0.0                    1            0   \n",
       "9406   0  0.018182    1.0       0.0                    1            0   \n",
       "\n",
       "       age_18-29  age_30-39  age_40-49  age_50-59  ...  month_oct  month_sep  \\\n",
       "40949          0          0          0          1  ...          1          0   \n",
       "9332           0          0          0          1  ...          0          0   \n",
       "32286          0          1          0          0  ...          0          0   \n",
       "3925           0          0          1          0  ...          0          0   \n",
       "9406           0          1          0          0  ...          0          0   \n",
       "\n",
       "       day_of_week_fri  day_of_week_mon  day_of_week_thu  day_of_week_tue  \\\n",
       "40949                0                0                1                0   \n",
       "9332                 1                0                0                0   \n",
       "32286                1                0                0                0   \n",
       "3925                 0                1                0                0   \n",
       "9406                 1                0                0                0   \n",
       "\n",
       "       day_of_week_wed  poutcome_failure  poutcome_nonexistent  \\\n",
       "40949                0                 0                     1   \n",
       "9332                 0                 0                     1   \n",
       "32286                0                 0                     1   \n",
       "3925                 0                 0                     1   \n",
       "9406                 0                 0                     1   \n",
       "\n",
       "       poutcome_success  \n",
       "40949                 0  \n",
       "9332                  0  \n",
       "32286                 0  \n",
       "3925                  0  \n",
       "9406                  0  \n",
       "\n",
       "[5 rows x 65 columns]"
      ]
     },
     "execution_count": 29,
     "metadata": {},
     "output_type": "execute_result"
    }
   ],
   "source": [
    "# see the processed data\n",
    "train_data.head()"
   ]
  },
  {
   "cell_type": "markdown",
   "id": "704ef0e0",
   "metadata": {},
   "source": [
    "#### Step 3: Run code with @remote decorator\n",
    "Now you can apply `@remote` to the function once the local and remote test runs successfully. \n",
    "You can also set default settings for remote functions via a [configuration file](https://docs.aws.amazon.com/sagemaker/latest/dg/train-remote-decorator-config.html). The configuration file is used when invoking a function with `@remote` decorator or `RemoteExecutor` API. You're going to use SageMaker configuration files in the notebook 3 to configure SageMaker pipelines."
   ]
  },
  {
   "cell_type": "code",
   "execution_count": 30,
   "id": "31015e89-8d1a-4ceb-9a16-6e72aa874fc6",
   "metadata": {
    "tags": []
   },
   "outputs": [
    {
     "name": "stderr",
     "output_type": "stream",
     "text": [
      "INFO:sagemaker.telemetry.telemetry_logging:SageMaker Python SDK will collect telemetry to help us better understand our user's needs, diagnose issues, and deliver additional features.\n",
      "To opt out of telemetry, please disable via TelemetryOptOut parameter in SDK defaults config. For more information, refer to https://sagemaker.readthedocs.io/en/stable/overview.html#configuring-and-using-defaults-with-the-sagemaker-python-sdk.\n"
     ]
    },
    {
     "name": "stdout",
     "output_type": "stream",
     "text": [
      "sagemaker.config INFO - Applied value from config key = SageMaker.PythonSDK.Modules.RemoteFunction.IncludeLocalWorkDir\n",
      "sagemaker.config INFO - Applied value from config key = SageMaker.PythonSDK.Modules.RemoteFunction.CustomFileFilter.IgnoreNamePatterns\n"
     ]
    }
   ],
   "source": [
    "@remote(dependencies=f\"{dependencies_dir}requirements.txt\",\n",
    "        s3_root_uri=s3_root_uri, instance_type=processing_instance_type)\n",
    "def preprocess(\n",
    "    df_data,\n",
    "    tracking_server_arn=mlflow_arn,\n",
    "    experiment_name=None,\n",
    "    run_id=None,\n",
    "):\n",
    "    import mlflow\n",
    "    from time import gmtime, strftime\n",
    "\n",
    "    try:\n",
    "        # Set the Tracking Server URI using the ARN of the Tracking Server you created\n",
    "        mlflow.set_tracking_uri(tracking_server_arn)\n",
    "        \n",
    "        # Enable autologging in MLflow\n",
    "        mlflow.autolog()\n",
    "    \n",
    "        suffix = strftime('%d-%H-%M-%S', gmtime())\n",
    "        mlflow.set_experiment(experiment_name=experiment_name if experiment_name else f\"preprocess-{suffix}\")\n",
    "        run = mlflow.start_run(run_id=run_id) if run_id else mlflow.start_run(run_name=f\"remote-processing-{suffix}\", nested=True)\n",
    "    \n",
    "        target_col = \"y\"\n",
    "        \n",
    "        # Indicator variable to capture when pdays takes a value of 999\n",
    "        df_data[\"no_previous_contact\"] = np.where(df_data[\"pdays\"] == 999, 1, 0)\n",
    "    \n",
    "        # Indicator for individuals not actively employed\n",
    "        df_data[\"not_working\"] = np.where(\n",
    "            np.in1d(df_data[\"job\"], [\"student\", \"retired\", \"unemployed\"]), 1, 0\n",
    "        )\n",
    "    \n",
    "        # remove unnecessary data\n",
    "        df_model_data = df_data.drop(\n",
    "            [\"duration\", \"emp.var.rate\", \"cons.price.idx\", \"cons.conf.idx\", \"euribor3m\", \"nr.employed\"],\n",
    "            axis=1,\n",
    "        )\n",
    "    \n",
    "        bins = [18, 30, 40, 50, 60, 70, 90]\n",
    "        labels = ['18-29', '30-39', '40-49', '50-59', '60-69', '70-plus']\n",
    "    \n",
    "        df_model_data['age_range'] = pd.cut(df_model_data.age, bins, labels=labels, include_lowest=True)\n",
    "        df_model_data = pd.concat([df_model_data, pd.get_dummies(df_model_data['age_range'], prefix='age', dtype=int)], axis=1)\n",
    "        df_model_data.drop('age', axis=1, inplace=True)\n",
    "        df_model_data.drop('age_range', axis=1, inplace=True)\n",
    "    \n",
    "        scaled_features = ['pdays', 'previous', 'campaign']\n",
    "        df_model_data[scaled_features] = MinMaxScaler().fit_transform(df_model_data[scaled_features])\n",
    "    \n",
    "        df_model_data = pd.get_dummies(df_model_data, dtype=int)  # Convert categorical variables to sets of indicators\n",
    "    \n",
    "        # Replace \"y_no\" and \"y_yes\" with a single label column, and bring it to the front:\n",
    "        df_model_data = pd.concat(\n",
    "            [\n",
    "                df_model_data[\"y_yes\"].rename(target_col),\n",
    "                df_model_data.drop([\"y_no\", \"y_yes\"], axis=1),\n",
    "            ],\n",
    "            axis=1,\n",
    "        )\n",
    "    \n",
    "        # Shuffle and splitting dataset\n",
    "        train_data, validation_data, test_data = np.split(\n",
    "            df_model_data.sample(frac=1, random_state=1729),\n",
    "            [int(0.7 * len(df_model_data)), int(0.9 * len(df_model_data))],\n",
    "        )\n",
    "    \n",
    "        print(f\"Data split > train:{train_data.shape} | validation:{validation_data.shape} | test:{test_data.shape}\")\n",
    "\n",
    "        mlflow.log_params(\n",
    "            {\n",
    "                \"train\": train_data.shape,\n",
    "                \"validate\": validation_data.shape,\n",
    "                \"test\": test_data.shape\n",
    "            }\n",
    "        )\n",
    "        \n",
    "        baseline_data = df_model_data.drop([target_col], axis=1)\n",
    "        \n",
    "        print(\"## Processing complete. Exiting.\")\n",
    "        \n",
    "        return train_data, validation_data, test_data, baseline_data\n",
    "\n",
    "    except Exception as e:\n",
    "        print(f\"Exception in processing script: {e}\")\n",
    "        raise e\n",
    "    finally:\n",
    "        mlflow.end_run()\n",
    "    return train_data, validation_data, test_data, baseline_data"
   ]
  },
  {
   "cell_type": "code",
   "execution_count": 31,
   "id": "6f15213c-d877-4033-b5bf-7ab63624b308",
   "metadata": {
    "tags": []
   },
   "outputs": [
    {
     "name": "stderr",
     "output_type": "stream",
     "text": [
      "2024-07-23 13:58:37,050 sagemaker.remote_function INFO     Serializing function code to s3://sagemaker-us-east-1-398333718380/from-idea-to-prod/xgboost/preprocess-2024-07-23-13-58-37-050/function\n",
      "2024-07-23 13:58:37,175 sagemaker.remote_function INFO     Serializing function arguments to s3://sagemaker-us-east-1-398333718380/from-idea-to-prod/xgboost/preprocess-2024-07-23-13-58-37-050/arguments\n",
      "2024-07-23 13:58:37,683 sagemaker.remote_function INFO     Copied user workspace to '/tmp/tmptnb936md/temp_workspace/sagemaker_remote_function_workspace'\n",
      "2024-07-23 13:58:37,685 sagemaker.remote_function INFO     Copied dependencies file at './processing/requirements/requirements.txt' to '/tmp/tmptnb936md/temp_workspace/sagemaker_remote_function_workspace/requirements.txt'\n",
      "2024-07-23 13:58:40,378 sagemaker.remote_function INFO     Successfully created workdir archive at '/tmp/tmptnb936md/workspace.zip'\n",
      "2024-07-23 13:58:40,964 sagemaker.remote_function INFO     Successfully uploaded workdir to 's3://sagemaker-us-east-1-398333718380/from-idea-to-prod/xgboost/preprocess-2024-07-23-13-58-37-050/sm_rf_user_ws/workspace.zip'\n",
      "2024-07-23 13:58:40,983 sagemaker.remote_function INFO     Creating job: preprocess-2024-07-23-13-58-37-050\n"
     ]
    },
    {
     "name": "stdout",
     "output_type": "stream",
     "text": [
      "2024-07-23 13:58:41 Starting - Starting the training job...\n",
      "2024-07-23 13:58:56 Starting - Preparing the instances for training...\n",
      "2024-07-23 13:59:20 Downloading - Downloading input data...\n",
      "2024-07-23 13:59:46 Downloading - Downloading the training image.........\n",
      "2024-07-23 14:01:32 Training - Training image download completed. Training in progress.\u001b[34mINFO: CONDA_PKGS_DIRS is set to '/opt/ml/sagemaker/warmpoolcache/sm_remotefunction_user_dependencies_cache/conda/pkgs'\u001b[0m\n",
      "\u001b[34mINFO: PIP_CACHE_DIR is set to '/opt/ml/sagemaker/warmpoolcache/sm_remotefunction_user_dependencies_cache/pip'\u001b[0m\n",
      "\u001b[34mINFO: Bootstraping runtime environment.\u001b[0m\n",
      "\u001b[34m2024-07-23 14:01:36,767 sagemaker.remote_function INFO     The job is running on non-root user: sagemaker-user. Adding write permissions to the following job output directories: ['/opt/ml/output', '/opt/ml/model', '/tmp'].\u001b[0m\n",
      "\u001b[34m2024-07-23 14:01:36,767 sagemaker.remote_function INFO     Executing 'sudo chmod -R 777 /opt/ml/output /opt/ml/model /tmp'.\u001b[0m\n",
      "\u001b[34m2024-07-23 14:01:37,085 sagemaker.remote_function INFO     Successfully unpacked workspace archive at '/home/sagemaker-user'.\u001b[0m\n",
      "\u001b[34m2024-07-23 14:01:37,085 sagemaker.remote_function INFO     '/home/sagemaker-user/sagemaker_remote_function_workspace/pre_exec.sh' does not exist. Assuming no pre-execution commands to run\u001b[0m\n",
      "\u001b[34m2024-07-23 14:01:37,085 sagemaker.remote_function INFO     Running command: '/opt/conda/bin/python -m pip install -r /home/sagemaker-user/sagemaker_remote_function_workspace/requirements.txt -U' in the dir: '/home/sagemaker-user' \u001b[0m\n",
      "\u001b[34m2024-07-23 14:01:37,632 sagemaker.remote_function INFO     Collecting mlflow==2.13.2 (from -r /home/sagemaker-user/sagemaker_remote_function_workspace/requirements.txt (line 1))\u001b[0m\n",
      "\u001b[34m2024-07-23 14:01:37,652 sagemaker.remote_function INFO       Downloading mlflow-2.13.2-py3-none-any.whl.metadata (29 kB)\u001b[0m\n",
      "\u001b[34m2024-07-23 14:01:37,666 sagemaker.remote_function INFO     Collecting sagemaker-mlflow==0.1.0 (from -r /home/sagemaker-user/sagemaker_remote_function_workspace/requirements.txt (line 2))\u001b[0m\n",
      "\u001b[34m2024-07-23 14:01:37,672 sagemaker.remote_function INFO       Downloading sagemaker_mlflow-0.1.0-py3-none-any.whl.metadata (3.3 kB)\u001b[0m\n",
      "\u001b[34m2024-07-23 14:01:37,730 sagemaker.remote_function INFO     Requirement already satisfied: Flask<4 in /opt/conda/lib/python3.10/site-packages (from mlflow==2.13.2->-r /home/sagemaker-user/sagemaker_remote_function_workspace/requirements.txt (line 1)) (3.0.3)\u001b[0m\n",
      "\u001b[34m2024-07-23 14:01:37,776 sagemaker.remote_function INFO     Collecting alembic!=1.10.0,<2 (from mlflow==2.13.2->-r /home/sagemaker-user/sagemaker_remote_function_workspace/requirements.txt (line 1))\u001b[0m\n",
      "\u001b[34m2024-07-23 14:01:37,779 sagemaker.remote_function INFO       Downloading alembic-1.13.2-py3-none-any.whl.metadata (7.4 kB)\u001b[0m\n",
      "\u001b[34m2024-07-23 14:01:37,781 sagemaker.remote_function INFO     Requirement already satisfied: cachetools<6,>=5.0.0 in /opt/conda/lib/python3.10/site-packages (from mlflow==2.13.2->-r /home/sagemaker-user/sagemaker_remote_function_workspace/requirements.txt (line 1)) (5.3.3)\u001b[0m\n",
      "\u001b[34m2024-07-23 14:01:37,782 sagemaker.remote_function INFO     Requirement already satisfied: click<9,>=7.0 in /opt/conda/lib/python3.10/site-packages (from mlflow==2.13.2->-r /home/sagemaker-user/sagemaker_remote_function_workspace/requirements.txt (line 1)) (8.1.7)\u001b[0m\n",
      "\u001b[34m2024-07-23 14:01:37,783 sagemaker.remote_function INFO     Requirement already satisfied: cloudpickle<4 in /opt/conda/lib/python3.10/site-packages (from mlflow==2.13.2->-r /home/sagemaker-user/sagemaker_remote_function_workspace/requirements.txt (line 1)) (2.2.1)\u001b[0m\n",
      "\u001b[34m2024-07-23 14:01:37,784 sagemaker.remote_function INFO     Requirement already satisfied: docker<8,>=4.0.0 in /opt/conda/lib/python3.10/site-packages (from mlflow==2.13.2->-r /home/sagemaker-user/sagemaker_remote_function_workspace/requirements.txt (line 1)) (7.1.0)\u001b[0m\n",
      "\u001b[34m2024-07-23 14:01:37,784 sagemaker.remote_function INFO     Requirement already satisfied: entrypoints<1 in /opt/conda/lib/python3.10/site-packages (from mlflow==2.13.2->-r /home/sagemaker-user/sagemaker_remote_function_workspace/requirements.txt (line 1)) (0.4)\u001b[0m\n",
      "\u001b[34m2024-07-23 14:01:37,785 sagemaker.remote_function INFO     Requirement already satisfied: gitpython<4,>=3.1.9 in /opt/conda/lib/python3.10/site-packages (from mlflow==2.13.2->-r /home/sagemaker-user/sagemaker_remote_function_workspace/requirements.txt (line 1)) (3.1.43)\u001b[0m\n",
      "\u001b[34m2024-07-23 14:01:37,807 sagemaker.remote_function INFO     Collecting graphene<4 (from mlflow==2.13.2->-r /home/sagemaker-user/sagemaker_remote_function_workspace/requirements.txt (line 1))\u001b[0m\n",
      "\u001b[34m2024-07-23 14:01:37,811 sagemaker.remote_function INFO       Downloading graphene-3.3-py2.py3-none-any.whl.metadata (7.7 kB)\u001b[0m\n",
      "\u001b[34m2024-07-23 14:01:37,812 sagemaker.remote_function INFO     Requirement already satisfied: importlib-metadata!=4.7.0,<8,>=3.7.0 in /opt/conda/lib/python3.10/site-packages (from mlflow==2.13.2->-r /home/sagemaker-user/sagemaker_remote_function_workspace/requirements.txt (line 1)) (6.10.0)\u001b[0m\n",
      "\u001b[34m2024-07-23 14:01:37,813 sagemaker.remote_function INFO     Requirement already satisfied: markdown<4,>=3.3 in /opt/conda/lib/python3.10/site-packages (from mlflow==2.13.2->-r /home/sagemaker-user/sagemaker_remote_function_workspace/requirements.txt (line 1)) (3.6)\u001b[0m\n",
      "\u001b[34m2024-07-23 14:01:37,814 sagemaker.remote_function INFO     Requirement already satisfied: matplotlib<4 in /opt/conda/lib/python3.10/site-packages (from mlflow==2.13.2->-r /home/sagemaker-user/sagemaker_remote_function_workspace/requirements.txt (line 1)) (3.8.4)\u001b[0m\n",
      "\u001b[34m2024-07-23 14:01:37,815 sagemaker.remote_function INFO     Requirement already satisfied: numpy<2 in /opt/conda/lib/python3.10/site-packages (from mlflow==2.13.2->-r /home/sagemaker-user/sagemaker_remote_function_workspace/requirements.txt (line 1)) (1.26.4)\u001b[0m\n",
      "\u001b[34m2024-07-23 14:01:37,842 sagemaker.remote_function INFO     Collecting opentelemetry-api<3,>=1.0.0 (from mlflow==2.13.2->-r /home/sagemaker-user/sagemaker_remote_function_workspace/requirements.txt (line 1))\u001b[0m\n",
      "\u001b[34m2024-07-23 14:01:37,846 sagemaker.remote_function INFO       Downloading opentelemetry_api-1.25.0-py3-none-any.whl.metadata (1.4 kB)\u001b[0m\n",
      "\u001b[34m2024-07-23 14:01:37,875 sagemaker.remote_function INFO     Collecting opentelemetry-sdk<3,>=1.0.0 (from mlflow==2.13.2->-r /home/sagemaker-user/sagemaker_remote_function_workspace/requirements.txt (line 1))\u001b[0m\n",
      "\u001b[34m2024-07-23 14:01:37,878 sagemaker.remote_function INFO       Downloading opentelemetry_sdk-1.25.0-py3-none-any.whl.metadata (1.4 kB)\u001b[0m\n",
      "\u001b[34m2024-07-23 14:01:37,879 sagemaker.remote_function INFO     Requirement already satisfied: packaging<25 in /opt/conda/lib/python3.10/site-packages (from mlflow==2.13.2->-r /home/sagemaker-user/sagemaker_remote_function_workspace/requirements.txt (line 1)) (23.2)\u001b[0m\n",
      "\u001b[34m2024-07-23 14:01:37,880 sagemaker.remote_function INFO     Requirement already satisfied: pandas<3 in /opt/conda/lib/python3.10/site-packages (from mlflow==2.13.2->-r /home/sagemaker-user/sagemaker_remote_function_workspace/requirements.txt (line 1)) (2.1.4)\u001b[0m\n",
      "\u001b[34m2024-07-23 14:01:37,881 sagemaker.remote_function INFO     Requirement already satisfied: protobuf<5,>=3.12.0 in /opt/conda/lib/python3.10/site-packages (from mlflow==2.13.2->-r /home/sagemaker-user/sagemaker_remote_function_workspace/requirements.txt (line 1)) (4.24.4)\u001b[0m\n",
      "\u001b[34m2024-07-23 14:01:37,882 sagemaker.remote_function INFO     Requirement already satisfied: pyarrow<16,>=4.0.0 in /opt/conda/lib/python3.10/site-packages (from mlflow==2.13.2->-r /home/sagemaker-user/sagemaker_remote_function_workspace/requirements.txt (line 1)) (15.0.0)\u001b[0m\n",
      "\u001b[34m2024-07-23 14:01:37,883 sagemaker.remote_function INFO     Requirement already satisfied: pytz<2025 in /opt/conda/lib/python3.10/site-packages (from mlflow==2.13.2->-r /home/sagemaker-user/sagemaker_remote_function_workspace/requirements.txt (line 1)) (2023.3)\u001b[0m\n",
      "\u001b[34m2024-07-23 14:01:37,883 sagemaker.remote_function INFO     Requirement already satisfied: pyyaml<7,>=5.1 in /opt/conda/lib/python3.10/site-packages (from mlflow==2.13.2->-r /home/sagemaker-user/sagemaker_remote_function_workspace/requirements.txt (line 1)) (6.0.1)\u001b[0m\n",
      "\u001b[34m2024-07-23 14:01:37,894 sagemaker.remote_function INFO     Collecting querystring-parser<2 (from mlflow==2.13.2->-r /home/sagemaker-user/sagemaker_remote_function_workspace/requirements.txt (line 1))\u001b[0m\n",
      "\u001b[34m2024-07-23 14:01:37,897 sagemaker.remote_function INFO       Downloading querystring_parser-1.2.4-py2.py3-none-any.whl.metadata (559 bytes)\u001b[0m\n",
      "\u001b[34m2024-07-23 14:01:37,898 sagemaker.remote_function INFO     Requirement already satisfied: requests<3,>=2.17.3 in /opt/conda/lib/python3.10/site-packages (from mlflow==2.13.2->-r /home/sagemaker-user/sagemaker_remote_function_workspace/requirements.txt (line 1)) (2.32.3)\u001b[0m\n",
      "\u001b[34m2024-07-23 14:01:37,899 sagemaker.remote_function INFO     Requirement already satisfied: scikit-learn<2 in /opt/conda/lib/python3.10/site-packages (from mlflow==2.13.2->-r /home/sagemaker-user/sagemaker_remote_function_workspace/requirements.txt (line 1)) (1.4.2)\u001b[0m\n",
      "\u001b[34m2024-07-23 14:01:37,899 sagemaker.remote_function INFO     Requirement already satisfied: scipy<2 in /opt/conda/lib/python3.10/site-packages (from mlflow==2.13.2->-r /home/sagemaker-user/sagemaker_remote_function_workspace/requirements.txt (line 1)) (1.11.4)\u001b[0m\n",
      "\u001b[34m2024-07-23 14:01:37,900 sagemaker.remote_function INFO     Requirement already satisfied: sqlalchemy<3,>=1.4.0 in /opt/conda/lib/python3.10/site-packages (from mlflow==2.13.2->-r /home/sagemaker-user/sagemaker_remote_function_workspace/requirements.txt (line 1)) (2.0.30)\u001b[0m\n",
      "\u001b[34m2024-07-23 14:01:37,901 sagemaker.remote_function INFO     Requirement already satisfied: sqlparse<1,>=0.4.0 in /opt/conda/lib/python3.10/site-packages (from mlflow==2.13.2->-r /home/sagemaker-user/sagemaker_remote_function_workspace/requirements.txt (line 1)) (0.5.0)\u001b[0m\n",
      "\u001b[34m2024-07-23 14:01:37,903 sagemaker.remote_function INFO     Requirement already satisfied: Jinja2<4,>=2.11 in /opt/conda/lib/python3.10/site-packages (from mlflow==2.13.2->-r /home/sagemaker-user/sagemaker_remote_function_workspace/requirements.txt (line 1)) (3.1.4)\u001b[0m\n",
      "\u001b[34m2024-07-23 14:01:37,927 sagemaker.remote_function INFO     Collecting gunicorn<23 (from mlflow==2.13.2->-r /home/sagemaker-user/sagemaker_remote_function_workspace/requirements.txt (line 1))\u001b[0m\n",
      "\u001b[34m2024-07-23 14:01:37,931 sagemaker.remote_function INFO       Downloading gunicorn-22.0.0-py3-none-any.whl.metadata (4.4 kB)\u001b[0m\n",
      "\u001b[34m2024-07-23 14:01:37,944 sagemaker.remote_function INFO     Requirement already satisfied: boto3>=1.34 in /opt/conda/lib/python3.10/site-packages (from sagemaker-mlflow==0.1.0->-r /home/sagemaker-user/sagemaker_remote_function_workspace/requirements.txt (line 2)) (1.34.131)\u001b[0m\n",
      "\u001b[34m2024-07-23 14:01:37,979 sagemaker.remote_function INFO     Collecting Mako (from alembic!=1.10.0,<2->mlflow==2.13.2->-r /home/sagemaker-user/sagemaker_remote_function_workspace/requirements.txt (line 1))\u001b[0m\n",
      "\u001b[34m2024-07-23 14:01:37,982 sagemaker.remote_function INFO       Downloading Mako-1.3.5-py3-none-any.whl.metadata (2.9 kB)\u001b[0m\n",
      "\u001b[34m2024-07-23 14:01:37,984 sagemaker.remote_function INFO     Requirement already satisfied: typing-extensions>=4 in /opt/conda/lib/python3.10/site-packages (from alembic!=1.10.0,<2->mlflow==2.13.2->-r /home/sagemaker-user/sagemaker_remote_function_workspace/requirements.txt (line 1)) (4.12.2)\u001b[0m\n",
      "\u001b[34m2024-07-23 14:01:37,989 sagemaker.remote_function INFO     Requirement already satisfied: botocore<1.35.0,>=1.34.131 in /opt/conda/lib/python3.10/site-packages (from boto3>=1.34->sagemaker-mlflow==0.1.0->-r /home/sagemaker-user/sagemaker_remote_function_workspace/requirements.txt (line 2)) (1.34.131)\u001b[0m\n",
      "\u001b[34m2024-07-23 14:01:37,990 sagemaker.remote_function INFO     Requirement already satisfied: jmespath<2.0.0,>=0.7.1 in /opt/conda/lib/python3.10/site-packages (from boto3>=1.34->sagemaker-mlflow==0.1.0->-r /home/sagemaker-user/sagemaker_remote_function_workspace/requirements.txt (line 2)) (1.0.1)\u001b[0m\n",
      "\u001b[34m2024-07-23 14:01:37,991 sagemaker.remote_function INFO     Requirement already satisfied: s3transfer<0.11.0,>=0.10.0 in /opt/conda/lib/python3.10/site-packages (from boto3>=1.34->sagemaker-mlflow==0.1.0->-r /home/sagemaker-user/sagemaker_remote_function_workspace/requirements.txt (line 2)) (0.10.2)\u001b[0m\n",
      "\u001b[34m2024-07-23 14:01:38,007 sagemaker.remote_function INFO     Requirement already satisfied: urllib3>=1.26.0 in /opt/conda/lib/python3.10/site-packages (from docker<8,>=4.0.0->mlflow==2.13.2->-r /home/sagemaker-user/sagemaker_remote_function_workspace/requirements.txt (line 1)) (1.26.19)\u001b[0m\n",
      "\u001b[34m2024-07-23 14:01:38,016 sagemaker.remote_function INFO     Requirement already satisfied: Werkzeug>=3.0.0 in /opt/conda/lib/python3.10/site-packages (from Flask<4->mlflow==2.13.2->-r /home/sagemaker-user/sagemaker_remote_function_workspace/requirements.txt (line 1)) (3.0.3)\u001b[0m\n",
      "\u001b[34m2024-07-23 14:01:38,017 sagemaker.remote_function INFO     Requirement already satisfied: itsdangerous>=2.1.2 in /opt/conda/lib/python3.10/site-packages (from Flask<4->mlflow==2.13.2->-r /home/sagemaker-user/sagemaker_remote_function_workspace/requirements.txt (line 1)) (2.2.0)\u001b[0m\n",
      "\u001b[34m2024-07-23 14:01:38,018 sagemaker.remote_function INFO     Requirement already satisfied: blinker>=1.6.2 in /opt/conda/lib/python3.10/site-packages (from Flask<4->mlflow==2.13.2->-r /home/sagemaker-user/sagemaker_remote_function_workspace/requirements.txt (line 1)) (1.8.2)\u001b[0m\n",
      "\u001b[34m2024-07-23 14:01:38,037 sagemaker.remote_function INFO     Requirement already satisfied: gitdb<5,>=4.0.1 in /opt/conda/lib/python3.10/site-packages (from gitpython<4,>=3.1.9->mlflow==2.13.2->-r /home/sagemaker-user/sagemaker_remote_function_workspace/requirements.txt (line 1)) (4.0.11)\u001b[0m\n",
      "\u001b[34m2024-07-23 14:01:38,089 sagemaker.remote_function INFO     Collecting graphql-core<3.3,>=3.1 (from graphene<4->mlflow==2.13.2->-r /home/sagemaker-user/sagemaker_remote_function_workspace/requirements.txt (line 1))\u001b[0m\n",
      "\u001b[34m2024-07-23 14:01:38,094 sagemaker.remote_function INFO       Downloading graphql_core-3.2.3-py3-none-any.whl.metadata (10 kB)\u001b[0m\n",
      "\u001b[34m2024-07-23 14:01:38,110 sagemaker.remote_function INFO     Collecting graphql-relay<3.3,>=3.1 (from graphene<4->mlflow==2.13.2->-r /home/sagemaker-user/sagemaker_remote_function_workspace/requirements.txt (line 1))\u001b[0m\n",
      "\u001b[34m2024-07-23 14:01:38,114 sagemaker.remote_function INFO       Downloading graphql_relay-3.2.0-py3-none-any.whl.metadata (12 kB)\u001b[0m\n",
      "\u001b[34m2024-07-23 14:01:38,134 sagemaker.remote_function INFO     Collecting aniso8601<10,>=8 (from graphene<4->mlflow==2.13.2->-r /home/sagemaker-user/sagemaker_remote_function_workspace/requirements.txt (line 1))\u001b[0m\n",
      "\u001b[34m2024-07-23 14:01:38,137 sagemaker.remote_function INFO       Downloading aniso8601-9.0.1-py2.py3-none-any.whl.metadata (23 kB)\u001b[0m\n",
      "\u001b[34m2024-07-23 14:01:38,191 sagemaker.remote_function INFO     Requirement already satisfied: zipp>=0.5 in /opt/conda/lib/python3.10/site-packages (from importlib-metadata!=4.7.0,<8,>=3.7.0->mlflow==2.13.2->-r /home/sagemaker-user/sagemaker_remote_function_workspace/requirements.txt (line 1)) (3.19.2)\u001b[0m\n",
      "\u001b[34m2024-07-23 14:01:38,196 sagemaker.remote_function INFO     Requirement already satisfied: MarkupSafe>=2.0 in /opt/conda/lib/python3.10/site-packages (from Jinja2<4,>=2.11->mlflow==2.13.2->-r /home/sagemaker-user/sagemaker_remote_function_workspace/requirements.txt (line 1)) (2.1.5)\u001b[0m\n",
      "\u001b[34m2024-07-23 14:01:38,215 sagemaker.remote_function INFO     Requirement already satisfied: contourpy>=1.0.1 in /opt/conda/lib/python3.10/site-packages (from matplotlib<4->mlflow==2.13.2->-r /home/sagemaker-user/sagemaker_remote_function_workspace/requirements.txt (line 1)) (1.2.1)\u001b[0m\n",
      "\u001b[34m2024-07-23 14:01:38,216 sagemaker.remote_function INFO     Requirement already satisfied: cycler>=0.10 in /opt/conda/lib/python3.10/site-packages (from matplotlib<4->mlflow==2.13.2->-r /home/sagemaker-user/sagemaker_remote_function_workspace/requirements.txt (line 1)) (0.12.1)\u001b[0m\n",
      "\u001b[34m2024-07-23 14:01:38,217 sagemaker.remote_function INFO     Requirement already satisfied: fonttools>=4.22.0 in /opt/conda/lib/python3.10/site-packages (from matplotlib<4->mlflow==2.13.2->-r /home/sagemaker-user/sagemaker_remote_function_workspace/requirements.txt (line 1)) (4.53.0)\u001b[0m\n",
      "\u001b[34m2024-07-23 14:01:38,218 sagemaker.remote_function INFO     Requirement already satisfied: kiwisolver>=1.3.1 in /opt/conda/lib/python3.10/site-packages (from matplotlib<4->mlflow==2.13.2->-r /home/sagemaker-user/sagemaker_remote_function_workspace/requirements.txt (line 1)) (1.4.5)\u001b[0m\n",
      "\u001b[34m2024-07-23 14:01:38,219 sagemaker.remote_function INFO     Requirement already satisfied: pillow>=8 in /opt/conda/lib/python3.10/site-packages (from matplotlib<4->mlflow==2.13.2->-r /home/sagemaker-user/sagemaker_remote_function_workspace/requirements.txt (line 1)) (10.3.0)\u001b[0m\n",
      "\u001b[34m2024-07-23 14:01:38,220 sagemaker.remote_function INFO     Requirement already satisfied: pyparsing>=2.3.1 in /opt/conda/lib/python3.10/site-packages (from matplotlib<4->mlflow==2.13.2->-r /home/sagemaker-user/sagemaker_remote_function_workspace/requirements.txt (line 1)) (3.1.2)\u001b[0m\n",
      "\u001b[34m2024-07-23 14:01:38,221 sagemaker.remote_function INFO     Requirement already satisfied: python-dateutil>=2.7 in /opt/conda/lib/python3.10/site-packages (from matplotlib<4->mlflow==2.13.2->-r /home/sagemaker-user/sagemaker_remote_function_workspace/requirements.txt (line 1)) (2.9.0)\u001b[0m\n",
      "\u001b[34m2024-07-23 14:01:38,247 sagemaker.remote_function INFO     Collecting deprecated>=1.2.6 (from opentelemetry-api<3,>=1.0.0->mlflow==2.13.2->-r /home/sagemaker-user/sagemaker_remote_function_workspace/requirements.txt (line 1))\u001b[0m\n",
      "\u001b[34m2024-07-23 14:01:38,251 sagemaker.remote_function INFO       Downloading Deprecated-1.2.14-py2.py3-none-any.whl.metadata (5.4 kB)\u001b[0m\n",
      "\u001b[34m2024-07-23 14:01:38,283 sagemaker.remote_function INFO     Collecting opentelemetry-semantic-conventions==0.46b0 (from opentelemetry-sdk<3,>=1.0.0->mlflow==2.13.2->-r /home/sagemaker-user/sagemaker_remote_function_workspace/requirements.txt (line 1))\u001b[0m\n",
      "\u001b[34m2024-07-23 14:01:38,286 sagemaker.remote_function INFO       Downloading opentelemetry_semantic_conventions-0.46b0-py3-none-any.whl.metadata (2.3 kB)\u001b[0m\n",
      "\u001b[34m2024-07-23 14:01:38,369 sagemaker.remote_function INFO     Requirement already satisfied: tzdata>=2022.1 in /opt/conda/lib/python3.10/site-packages (from pandas<3->mlflow==2.13.2->-r /home/sagemaker-user/sagemaker_remote_function_workspace/requirements.txt (line 1)) (2024.1)\u001b[0m\n",
      "\u001b[34m2024-07-23 14:01:38,392 sagemaker.remote_function INFO     Requirement already satisfied: six in /opt/conda/lib/python3.10/site-packages (from querystring-parser<2->mlflow==2.13.2->-r /home/sagemaker-user/sagemaker_remote_function_workspace/requirements.txt (line 1)) (1.16.0)\u001b[0m\n",
      "\u001b[34m2024-07-23 14:01:38,401 sagemaker.remote_function INFO     Requirement already satisfied: charset-normalizer<4,>=2 in /opt/conda/lib/python3.10/site-packages (from requests<3,>=2.17.3->mlflow==2.13.2->-r /home/sagemaker-user/sagemaker_remote_function_workspace/requirements.txt (line 1)) (3.3.2)\u001b[0m\n",
      "\u001b[34m2024-07-23 14:01:38,402 sagemaker.remote_function INFO     Requirement already satisfied: idna<4,>=2.5 in /opt/conda/lib/python3.10/site-packages (from requests<3,>=2.17.3->mlflow==2.13.2->-r /home/sagemaker-user/sagemaker_remote_function_workspace/requirements.txt (line 1)) (3.7)\u001b[0m\n",
      "\u001b[34m2024-07-23 14:01:38,403 sagemaker.remote_function INFO     Requirement already satisfied: certifi>=2017.4.17 in /opt/conda/lib/python3.10/site-packages (from requests<3,>=2.17.3->mlflow==2.13.2->-r /home/sagemaker-user/sagemaker_remote_function_workspace/requirements.txt (line 1)) (2024.6.2)\u001b[0m\n",
      "\u001b[34m2024-07-23 14:01:38,438 sagemaker.remote_function INFO     Requirement already satisfied: joblib>=1.2.0 in /opt/conda/lib/python3.10/site-packages (from scikit-learn<2->mlflow==2.13.2->-r /home/sagemaker-user/sagemaker_remote_function_workspace/requirements.txt (line 1)) (1.4.2)\u001b[0m\n",
      "\u001b[34m2024-07-23 14:01:38,439 sagemaker.remote_function INFO     Requirement already satisfied: threadpoolctl>=2.0.0 in /opt/conda/lib/python3.10/site-packages (from scikit-learn<2->mlflow==2.13.2->-r /home/sagemaker-user/sagemaker_remote_function_workspace/requirements.txt (line 1)) (3.5.0)\u001b[0m\n",
      "\u001b[34m2024-07-23 14:01:38,506 sagemaker.remote_function INFO     Requirement already satisfied: greenlet!=0.4.17 in /opt/conda/lib/python3.10/site-packages (from sqlalchemy<3,>=1.4.0->mlflow==2.13.2->-r /home/sagemaker-user/sagemaker_remote_function_workspace/requirements.txt (line 1)) (3.0.3)\u001b[0m\n",
      "\u001b[34m2024-07-23 14:01:38,577 sagemaker.remote_function INFO     Requirement already satisfied: wrapt<2,>=1.10 in /opt/conda/lib/python3.10/site-packages (from deprecated>=1.2.6->opentelemetry-api<3,>=1.0.0->mlflow==2.13.2->-r /home/sagemaker-user/sagemaker_remote_function_workspace/requirements.txt (line 1)) (1.14.1)\u001b[0m\n",
      "\u001b[34m2024-07-23 14:01:38,623 sagemaker.remote_function INFO     Requirement already satisfied: smmap<6,>=3.0.1 in /opt/conda/lib/python3.10/site-packages (from gitdb<5,>=4.0.1->gitpython<4,>=3.1.9->mlflow==2.13.2->-r /home/sagemaker-user/sagemaker_remote_function_workspace/requirements.txt (line 1)) (5.0.0)\u001b[0m\n",
      "\u001b[34m2024-07-23 14:01:38,826 sagemaker.remote_function INFO     Downloading mlflow-2.13.2-py3-none-any.whl (25.0 MB)\u001b[0m\n",
      "\u001b[34m2024-07-23 14:01:38,975 sagemaker.remote_function INFO        ━━━━━━━━━━━━━━━━━━━━━━━━━━━━━━━━━━━━━━━━ 25.0/25.0 MB 176.2 MB/s eta 0:00:00\u001b[0m\n",
      "\u001b[34m2024-07-23 14:01:38,979 sagemaker.remote_function INFO     Downloading sagemaker_mlflow-0.1.0-py3-none-any.whl (24 kB)\u001b[0m\n",
      "\u001b[34m2024-07-23 14:01:38,982 sagemaker.remote_function INFO     Downloading alembic-1.13.2-py3-none-any.whl (232 kB)\u001b[0m\n",
      "\u001b[34m2024-07-23 14:01:38,985 sagemaker.remote_function INFO        ━━━━━━━━━━━━━━━━━━━━━━━━━━━━━━━━━━━━━━━ 233.0/233.0 kB 342.8 MB/s eta 0:00:00\u001b[0m\n",
      "\u001b[34m2024-07-23 14:01:38,988 sagemaker.remote_function INFO     Downloading graphene-3.3-py2.py3-none-any.whl (128 kB)\u001b[0m\n",
      "\u001b[34m2024-07-23 14:01:38,991 sagemaker.remote_function INFO        ━━━━━━━━━━━━━━━━━━━━━━━━━━━━━━━━━━━━━━━ 128.2/128.2 kB 328.2 MB/s eta 0:00:00\u001b[0m\n",
      "\u001b[34m2024-07-23 14:01:38,994 sagemaker.remote_function INFO     Downloading gunicorn-22.0.0-py3-none-any.whl (84 kB)\u001b[0m\n",
      "\u001b[34m2024-07-23 14:01:38,997 sagemaker.remote_function INFO        ━━━━━━━━━━━━━━━━━━━━━━━━━━━━━━━━━━━━━━━━ 84.4/84.4 kB 295.3 MB/s eta 0:00:00\u001b[0m\n",
      "\u001b[34m2024-07-23 14:01:38,999 sagemaker.remote_function INFO     Downloading opentelemetry_api-1.25.0-py3-none-any.whl (59 kB)\u001b[0m\n",
      "\u001b[34m2024-07-23 14:01:39,002 sagemaker.remote_function INFO        ━━━━━━━━━━━━━━━━━━━━━━━━━━━━━━━━━━━━━━━━ 59.9/59.9 kB 248.7 MB/s eta 0:00:00\u001b[0m\n",
      "\u001b[34m2024-07-23 14:01:39,005 sagemaker.remote_function INFO     Downloading opentelemetry_sdk-1.25.0-py3-none-any.whl (107 kB)\u001b[0m\n",
      "\u001b[34m2024-07-23 14:01:39,008 sagemaker.remote_function INFO        ━━━━━━━━━━━━━━━━━━━━━━━━━━━━━━━━━━━━━━━ 107.0/107.0 kB 320.5 MB/s eta 0:00:00\u001b[0m\n",
      "\u001b[34m2024-07-23 14:01:39,011 sagemaker.remote_function INFO     Downloading opentelemetry_semantic_conventions-0.46b0-py3-none-any.whl (130 kB)\u001b[0m\n",
      "\u001b[34m2024-07-23 14:01:39,014 sagemaker.remote_function INFO        ━━━━━━━━━━━━━━━━━━━━━━━━━━━━━━━━━━━━━━━ 130.5/130.5 kB 301.9 MB/s eta 0:00:00\u001b[0m\n",
      "\u001b[34m2024-07-23 14:01:39,017 sagemaker.remote_function INFO     Downloading querystring_parser-1.2.4-py2.py3-none-any.whl (7.9 kB)\u001b[0m\n",
      "\u001b[34m2024-07-23 14:01:39,020 sagemaker.remote_function INFO     Downloading aniso8601-9.0.1-py2.py3-none-any.whl (52 kB)\u001b[0m\n",
      "\u001b[34m2024-07-23 14:01:39,022 sagemaker.remote_function INFO        ━━━━━━━━━━━━━━━━━━━━━━━━━━━━━━━━━━━━━━━━ 52.8/52.8 kB 227.2 MB/s eta 0:00:00\u001b[0m\n",
      "\u001b[34m2024-07-23 14:01:39,025 sagemaker.remote_function INFO     Downloading Deprecated-1.2.14-py2.py3-none-any.whl (9.6 kB)\u001b[0m\n",
      "\u001b[34m2024-07-23 14:01:39,028 sagemaker.remote_function INFO     Downloading graphql_core-3.2.3-py3-none-any.whl (202 kB)\u001b[0m\n",
      "\u001b[34m2024-07-23 14:01:39,031 sagemaker.remote_function INFO        ━━━━━━━━━━━━━━━━━━━━━━━━━━━━━━━━━━━━━━━ 202.9/202.9 kB 308.9 MB/s eta 0:00:00\u001b[0m\n",
      "\u001b[34m2024-07-23 14:01:39,034 sagemaker.remote_function INFO     Downloading graphql_relay-3.2.0-py3-none-any.whl (16 kB)\u001b[0m\n",
      "\u001b[34m2024-07-23 14:01:39,037 sagemaker.remote_function INFO     Downloading Mako-1.3.5-py3-none-any.whl (78 kB)\u001b[0m\n",
      "\u001b[34m2024-07-23 14:01:39,040 sagemaker.remote_function INFO        ━━━━━━━━━━━━━━━━━━━━━━━━━━━━━━━━━━━━━━━━ 78.6/78.6 kB 305.6 MB/s eta 0:00:00\u001b[0m\n",
      "\u001b[34m2024-07-23 14:01:42,543 sagemaker.remote_function INFO     Installing collected packages: aniso8601, querystring-parser, Mako, gunicorn, graphql-core, deprecated, opentelemetry-api, graphql-relay, alembic, opentelemetry-semantic-conventions, graphene, opentelemetry-sdk, mlflow, sagemaker-mlflow\u001b[0m\n",
      "\u001b[34m2024-07-23 14:01:44,718 sagemaker.remote_function INFO     Successfully installed Mako-1.3.5 alembic-1.13.2 aniso8601-9.0.1 deprecated-1.2.14 graphene-3.3 graphql-core-3.2.3 graphql-relay-3.2.0 gunicorn-22.0.0 mlflow-2.13.2 opentelemetry-api-1.25.0 opentelemetry-sdk-1.25.0 opentelemetry-semantic-conventions-0.46b0 querystring-parser-1.2.4 sagemaker-mlflow-0.1.0\u001b[0m\n",
      "\u001b[34m2024-07-23 14:01:45,123 sagemaker.remote_function WARNING  WARNING: The directory '/opt/ml/sagemaker/warmpoolcache/sm_remotefunction_user_dependencies_cache/pip' or its parent directory is not owned or is not writable by the current user. The cache has been disabled. Check the permissions and owner of that directory. If executing pip with sudo, you should use sudo's -H flag.\u001b[0m\n",
      "\u001b[34m2024-07-23 14:01:45,123 sagemaker.remote_function INFO     Command /opt/conda/bin/python -m pip install -r /home/sagemaker-user/sagemaker_remote_function_workspace/requirements.txt -U ran successfully\u001b[0m\n",
      "\u001b[34msagemaker.config INFO - Not applying SDK defaults from location: /etc/xdg/sagemaker/config.yaml\u001b[0m\n",
      "\u001b[34msagemaker.config INFO - Not applying SDK defaults from location: /home/sagemaker-user/.config/sagemaker/config.yaml\u001b[0m\n",
      "\u001b[34m2024-07-23 14:01:46,585 sagemaker.remote_function WARNING  Inconsistent sagemaker versions found: sagemaker python sdk version found in the container is '2.224.1' which does not match the '2.226.1' on the local client. Please make sure that the sagemaker version used in the training container is the same as the local sagemaker version in case of unexpected behaviors.\u001b[0m\n",
      "\u001b[34mINFO: Changing workspace to sagemaker_remote_function_workspace.\u001b[0m\n",
      "\u001b[34mINFO: No conda env provided. Invoking remote function\u001b[0m\n",
      "\u001b[34msagemaker.config INFO - Not applying SDK defaults from location: /etc/xdg/sagemaker/config.yaml\u001b[0m\n",
      "\u001b[34msagemaker.config INFO - Not applying SDK defaults from location: /home/sagemaker-user/.config/sagemaker/config.yaml\u001b[0m\n",
      "\u001b[34m2024-07-23 14:01:48,236 sagemaker.remote_function INFO     Deserializing function code from s3://sagemaker-us-east-1-398333718380/from-idea-to-prod/xgboost/preprocess-2024-07-23-13-58-37-050/function\u001b[0m\n",
      "\u001b[34m2024-07-23 14:01:48,855 sagemaker.remote_function INFO     Deserializing function arguments from s3://sagemaker-us-east-1-398333718380/from-idea-to-prod/xgboost/preprocess-2024-07-23-13-58-37-050/arguments\u001b[0m\n",
      "\u001b[34m2024-07-23 14:01:49,291 sagemaker.remote_function INFO     Resolving pipeline variables\u001b[0m\n",
      "\u001b[34m2024-07-23 14:01:49,291 sagemaker.remote_function INFO     Invoking the function\u001b[0m\n",
      "\u001b[34m2024/07/23 14:01:50 INFO mlflow.tracking.fluent: Autologging successfully enabled for sklearn.\u001b[0m\n",
      "\u001b[34m/opt/conda/lib/python3.10/site-packages/numpy/core/fromnumeric.py:59: FutureWarning: 'DataFrame.swapaxes' is deprecated and will be removed in a future version. Please use 'DataFrame.transpose' instead.\n",
      "  return bound(*args, **kwds)\u001b[0m\n",
      "\u001b[34m2024-07-23 14:01:50,968 sagemaker.remote_function INFO     Serializing the function return and uploading to s3://sagemaker-us-east-1-398333718380/from-idea-to-prod/xgboost/preprocess-2024-07-23-13-58-37-050/results\u001b[0m\n",
      "\u001b[34mData split > train:(28831, 65) | validation:(8238, 65) | test:(4119, 65)\u001b[0m\n",
      "\u001b[34m## Processing complete. Exiting.\u001b[0m\n",
      "\n",
      "2024-07-23 14:02:10 Uploading - Uploading generated training model\n",
      "2024-07-23 14:02:10 Completed - Training job completed\n",
      "Training seconds: 170\n",
      "Billable seconds: 170\n"
     ]
    }
   ],
   "source": [
    "# This call creates and run a SageMaker job\n",
    "# This will also create a new experiment in MLflow\n",
    "train_data, validation_data, test_data, baseline_data = preprocess(df_data, experiment_name=experiment_name)"
   ]
  },
  {
   "cell_type": "code",
   "execution_count": 32,
   "id": "efb425ed-1006-45a9-a28d-217b4ee8a77d",
   "metadata": {
    "editable": true,
    "slideshow": {
     "slide_type": ""
    },
    "tags": [
     "parameters"
    ]
   },
   "outputs": [
    {
     "data": {
      "text/html": [
       "<div>\n",
       "<style scoped>\n",
       "    .dataframe tbody tr th:only-of-type {\n",
       "        vertical-align: middle;\n",
       "    }\n",
       "\n",
       "    .dataframe tbody tr th {\n",
       "        vertical-align: top;\n",
       "    }\n",
       "\n",
       "    .dataframe thead th {\n",
       "        text-align: right;\n",
       "    }\n",
       "</style>\n",
       "<table border=\"1\" class=\"dataframe\">\n",
       "  <thead>\n",
       "    <tr style=\"text-align: right;\">\n",
       "      <th></th>\n",
       "      <th>y</th>\n",
       "      <th>campaign</th>\n",
       "      <th>pdays</th>\n",
       "      <th>previous</th>\n",
       "      <th>no_previous_contact</th>\n",
       "      <th>not_working</th>\n",
       "      <th>age_18-29</th>\n",
       "      <th>age_30-39</th>\n",
       "      <th>age_40-49</th>\n",
       "      <th>age_50-59</th>\n",
       "      <th>...</th>\n",
       "      <th>month_oct</th>\n",
       "      <th>month_sep</th>\n",
       "      <th>day_of_week_fri</th>\n",
       "      <th>day_of_week_mon</th>\n",
       "      <th>day_of_week_thu</th>\n",
       "      <th>day_of_week_tue</th>\n",
       "      <th>day_of_week_wed</th>\n",
       "      <th>poutcome_failure</th>\n",
       "      <th>poutcome_nonexistent</th>\n",
       "      <th>poutcome_success</th>\n",
       "    </tr>\n",
       "  </thead>\n",
       "  <tbody>\n",
       "    <tr>\n",
       "      <th>40949</th>\n",
       "      <td>0</td>\n",
       "      <td>0.036364</td>\n",
       "      <td>1.0</td>\n",
       "      <td>0.0</td>\n",
       "      <td>1</td>\n",
       "      <td>0</td>\n",
       "      <td>0</td>\n",
       "      <td>0</td>\n",
       "      <td>0</td>\n",
       "      <td>1</td>\n",
       "      <td>...</td>\n",
       "      <td>1</td>\n",
       "      <td>0</td>\n",
       "      <td>0</td>\n",
       "      <td>0</td>\n",
       "      <td>1</td>\n",
       "      <td>0</td>\n",
       "      <td>0</td>\n",
       "      <td>0</td>\n",
       "      <td>1</td>\n",
       "      <td>0</td>\n",
       "    </tr>\n",
       "    <tr>\n",
       "      <th>9332</th>\n",
       "      <td>0</td>\n",
       "      <td>0.018182</td>\n",
       "      <td>1.0</td>\n",
       "      <td>0.0</td>\n",
       "      <td>1</td>\n",
       "      <td>0</td>\n",
       "      <td>0</td>\n",
       "      <td>0</td>\n",
       "      <td>0</td>\n",
       "      <td>1</td>\n",
       "      <td>...</td>\n",
       "      <td>0</td>\n",
       "      <td>0</td>\n",
       "      <td>1</td>\n",
       "      <td>0</td>\n",
       "      <td>0</td>\n",
       "      <td>0</td>\n",
       "      <td>0</td>\n",
       "      <td>0</td>\n",
       "      <td>1</td>\n",
       "      <td>0</td>\n",
       "    </tr>\n",
       "    <tr>\n",
       "      <th>32286</th>\n",
       "      <td>0</td>\n",
       "      <td>0.018182</td>\n",
       "      <td>1.0</td>\n",
       "      <td>0.0</td>\n",
       "      <td>1</td>\n",
       "      <td>0</td>\n",
       "      <td>0</td>\n",
       "      <td>1</td>\n",
       "      <td>0</td>\n",
       "      <td>0</td>\n",
       "      <td>...</td>\n",
       "      <td>0</td>\n",
       "      <td>0</td>\n",
       "      <td>1</td>\n",
       "      <td>0</td>\n",
       "      <td>0</td>\n",
       "      <td>0</td>\n",
       "      <td>0</td>\n",
       "      <td>0</td>\n",
       "      <td>1</td>\n",
       "      <td>0</td>\n",
       "    </tr>\n",
       "    <tr>\n",
       "      <th>3925</th>\n",
       "      <td>0</td>\n",
       "      <td>0.036364</td>\n",
       "      <td>1.0</td>\n",
       "      <td>0.0</td>\n",
       "      <td>1</td>\n",
       "      <td>0</td>\n",
       "      <td>0</td>\n",
       "      <td>0</td>\n",
       "      <td>1</td>\n",
       "      <td>0</td>\n",
       "      <td>...</td>\n",
       "      <td>0</td>\n",
       "      <td>0</td>\n",
       "      <td>0</td>\n",
       "      <td>1</td>\n",
       "      <td>0</td>\n",
       "      <td>0</td>\n",
       "      <td>0</td>\n",
       "      <td>0</td>\n",
       "      <td>1</td>\n",
       "      <td>0</td>\n",
       "    </tr>\n",
       "    <tr>\n",
       "      <th>9406</th>\n",
       "      <td>0</td>\n",
       "      <td>0.018182</td>\n",
       "      <td>1.0</td>\n",
       "      <td>0.0</td>\n",
       "      <td>1</td>\n",
       "      <td>0</td>\n",
       "      <td>0</td>\n",
       "      <td>1</td>\n",
       "      <td>0</td>\n",
       "      <td>0</td>\n",
       "      <td>...</td>\n",
       "      <td>0</td>\n",
       "      <td>0</td>\n",
       "      <td>1</td>\n",
       "      <td>0</td>\n",
       "      <td>0</td>\n",
       "      <td>0</td>\n",
       "      <td>0</td>\n",
       "      <td>0</td>\n",
       "      <td>1</td>\n",
       "      <td>0</td>\n",
       "    </tr>\n",
       "  </tbody>\n",
       "</table>\n",
       "<p>5 rows × 65 columns</p>\n",
       "</div>"
      ],
      "text/plain": [
       "       y  campaign  pdays  previous  no_previous_contact  not_working  \\\n",
       "40949  0  0.036364    1.0       0.0                    1            0   \n",
       "9332   0  0.018182    1.0       0.0                    1            0   \n",
       "32286  0  0.018182    1.0       0.0                    1            0   \n",
       "3925   0  0.036364    1.0       0.0                    1            0   \n",
       "9406   0  0.018182    1.0       0.0                    1            0   \n",
       "\n",
       "       age_18-29  age_30-39  age_40-49  age_50-59  ...  month_oct  month_sep  \\\n",
       "40949          0          0          0          1  ...          1          0   \n",
       "9332           0          0          0          1  ...          0          0   \n",
       "32286          0          1          0          0  ...          0          0   \n",
       "3925           0          0          1          0  ...          0          0   \n",
       "9406           0          1          0          0  ...          0          0   \n",
       "\n",
       "       day_of_week_fri  day_of_week_mon  day_of_week_thu  day_of_week_tue  \\\n",
       "40949                0                0                1                0   \n",
       "9332                 1                0                0                0   \n",
       "32286                1                0                0                0   \n",
       "3925                 0                1                0                0   \n",
       "9406                 1                0                0                0   \n",
       "\n",
       "       day_of_week_wed  poutcome_failure  poutcome_nonexistent  \\\n",
       "40949                0                 0                     1   \n",
       "9332                 0                 0                     1   \n",
       "32286                0                 0                     1   \n",
       "3925                 0                 0                     1   \n",
       "9406                 0                 0                     1   \n",
       "\n",
       "       poutcome_success  \n",
       "40949                 0  \n",
       "9332                  0  \n",
       "32286                 0  \n",
       "3925                  0  \n",
       "9406                  0  \n",
       "\n",
       "[5 rows x 65 columns]"
      ]
     },
     "execution_count": 32,
     "metadata": {},
     "output_type": "execute_result"
    }
   ],
   "source": [
    "# see the processed data\n",
    "train_data.head()"
   ]
  },
  {
   "cell_type": "markdown",
   "id": "8ff0d818-61da-43f2-aa66-4f8ee0af24db",
   "metadata": {},
   "source": [
    "For more examples of remote functions see SageMaker [example notebooks](https://docs.aws.amazon.com/sagemaker/latest/dg/train-remote-decorator-examples.html)."
   ]
  },
  {
   "cell_type": "markdown",
   "id": "1d25d03a-e988-4a73-acdd-874718d03a74",
   "metadata": {},
   "source": [
    "## Model training with SageMaker training jobs\n",
    "Follow the same approach and now run the model training as a [SageMaker training job](https://sagemaker.readthedocs.io/en/stable/overview.html#using-estimators) with a built-in framework container in a script mode. The script mode means that you provide a script to run in one of the SageMaker pre-defined managed containers. With this approach you can focus on developing code while using standard running environments provided by SageMaker. You can also first run your code locally in a Docker container in the Studio JupyterLab space and then move to SageMaker remote jobs."
   ]
  },
  {
   "cell_type": "code",
   "execution_count": 33,
   "id": "9f5e3c3f-9aa5-4532-8022-95513b5002ff",
   "metadata": {},
   "outputs": [],
   "source": [
    "!mkdir -p ./training/\n",
    "!sudo rm -rf ./training-local/\n",
    "!mkdir -p ./training-local/"
   ]
  },
  {
   "cell_type": "markdown",
   "id": "17694eb0-63b7-4240-8a1f-8a694e233ea0",
   "metadata": {},
   "source": [
    "### Develop a traning script\n",
    "Prepare a training script using XGBoost framework."
   ]
  },
  {
   "cell_type": "code",
   "execution_count": 34,
   "id": "75077d49-daeb-45c5-97a2-fdb15137712d",
   "metadata": {},
   "outputs": [
    {
     "name": "stdout",
     "output_type": "stream",
     "text": [
      "Writing ./training/train.py\n"
     ]
    }
   ],
   "source": [
    "%%writefile ./training/train.py\n",
    "\n",
    "import argparse\n",
    "import json\n",
    "import logging\n",
    "import os\n",
    "import pandas as pd\n",
    "import pickle as pkl\n",
    "\n",
    "from sagemaker_containers import entry_point\n",
    "from sagemaker_xgboost_container.data_utils import get_dmatrix\n",
    "from sagemaker_xgboost_container import distributed\n",
    "\n",
    "from sklearn.metrics import roc_auc_score\n",
    "\n",
    "import xgboost as xgb\n",
    "import mlflow\n",
    "\n",
    "from time import gmtime, strftime\n",
    "\n",
    "suffix = strftime('%d-%H-%M-%S', gmtime())\n",
    "\n",
    "user_profile_name = os.getenv('USER', 'sagemaker')\n",
    "experiment_name = os.getenv('MLFLOW_EXPERIMENT_NAME')\n",
    "region = os.getenv('REGION')\n",
    "\n",
    "mlflow.set_tracking_uri(os.getenv('MLFLOW_TRACKING_ARN'))\n",
    "mlflow.set_experiment(experiment_name=experiment_name if experiment_name else f\"train-{suffix}\")\n",
    "\n",
    "def _xgb_train(params, dtrain, dval, evals, num_boost_round, model_dir, is_master):\n",
    "    \"\"\"Run xgb train on arguments given with rabit initialized.\n",
    "\n",
    "    This is our rabit execution function.\n",
    "\n",
    "    :param args_dict: Argument dictionary used to run xgb.train().\n",
    "    :param is_master: True if current node is master host in distributed training,\n",
    "                        or is running single node training job.\n",
    "                        Note that rabit_run includes this argument.\n",
    "    \"\"\"\n",
    "    booster = xgb.train(\n",
    "        params=params,\n",
    "        dtrain=dtrain,\n",
    "        evals=evals,\n",
    "        num_boost_round=num_boost_round\n",
    "    )\n",
    "\n",
    "    val_auc = roc_auc_score(dval.get_label(), booster.predict(dval))\n",
    "    train_auc = roc_auc_score(dtrain.get_label(), booster.predict(dtrain))\n",
    "    mlflow.log_params(params)\n",
    "    mlflow.log_metrics({\"validation_auc\":val_auc, \"train_auc\":train_auc})\n",
    "    # emit training metrics - SageMaker collects them from the log stream\n",
    "    print(f\"[0]#011train-auc:{train_auc}#011validation-auc:{val_auc}\")\n",
    "    \n",
    "    if is_master:\n",
    "        model_location = model_dir + '/xgboost-model'\n",
    "        pkl.dump(booster, open(model_location, 'wb'))\n",
    "        print(\"Stored trained model at {}\".format(model_location))\n",
    "\n",
    "\n",
    "if __name__ == '__main__':\n",
    "    parser = argparse.ArgumentParser()\n",
    "    \n",
    "    # Hyperparameters are described here.\n",
    "    parser.add_argument('--max_depth', type=int)\n",
    "    parser.add_argument('--eta', type=float)\n",
    "    parser.add_argument('--alpha', type=float)\n",
    "    parser.add_argument('--gamma', type=int)\n",
    "    parser.add_argument('--min_child_weight', type=float)\n",
    "    parser.add_argument('--subsample', type=float)\n",
    "    parser.add_argument('--colsample_bytree', type=float)\n",
    "    parser.add_argument('--verbosity', type=int)\n",
    "    parser.add_argument('--objective', type=str)\n",
    "    parser.add_argument('--num_round', type=int)\n",
    "    parser.add_argument('--early_stopping_rounds', type=int)\n",
    "    parser.add_argument('--tree_method', type=str, default=\"auto\")\n",
    "    parser.add_argument('--predictor', type=str, default=\"auto\")\n",
    "\n",
    "    # Sagemaker specific arguments. Defaults are set in the environment variables.\n",
    "    parser.add_argument('--output_data_dir', type=str, default=os.environ.get('SM_OUTPUT_DATA_DIR'))\n",
    "    parser.add_argument('--model_dir', type=str, default=os.environ.get('SM_MODEL_DIR'))\n",
    "    parser.add_argument('--train', type=str, default=os.environ.get('SM_CHANNEL_TRAIN'))\n",
    "    parser.add_argument('--validation', type=str, default=os.environ.get('SM_CHANNEL_VALIDATION'))\n",
    "    parser.add_argument('--sm_hosts', type=str, default=os.environ.get('SM_HOSTS'))\n",
    "    parser.add_argument('--sm_current_host', type=str, default=os.environ.get('SM_CURRENT_HOST'))\n",
    "    parser.add_argument('--sm_training_env', type=str, default=os.environ.get('SM_TRAINING_ENV'))\n",
    "    \n",
    "    print(\"main function\")\n",
    "    args, _ = parser.parse_known_args()\n",
    "\n",
    "    # Get SageMaker host information from runtime environment variables\n",
    "    sm_hosts = json.loads(args.sm_hosts)\n",
    "    sm_current_host = args.sm_current_host\n",
    "    dtrain = get_dmatrix(args.train, 'CSV')\n",
    "    dval = get_dmatrix(args.validation, 'CSV')\n",
    "\n",
    "    watchlist = [(dtrain, 'train'), (dval, 'validation')] if dval is not None else [(dtrain, 'train')]\n",
    "\n",
    "    # get SageMaker enviroment setup\n",
    "    sm_training_env = json.loads(args.sm_training_env)\n",
    "    \n",
    "    # enable auto logging\n",
    "    mlflow.xgboost.autolog(log_model_signatures=False, log_datasets=False)\n",
    "\n",
    "    train_hp = {\n",
    "        'max_depth': args.max_depth,\n",
    "        'eta': args.eta,\n",
    "        'gamma': args.gamma,\n",
    "        'min_child_weight': args.min_child_weight,\n",
    "        'subsample': args.subsample,\n",
    "        'verbosity': args.verbosity,\n",
    "        'objective': args.objective,\n",
    "        'tree_method': args.tree_method,\n",
    "        'predictor': args.predictor,\n",
    "    }\n",
    "\n",
    "    xgb_train_args = dict(\n",
    "        params=train_hp,\n",
    "        dtrain=dtrain,\n",
    "        dval=dval,\n",
    "        evals=watchlist,\n",
    "        num_boost_round=args.num_round,\n",
    "        model_dir=args.model_dir)\n",
    "\n",
    "    with mlflow.start_run(\n",
    "        run_name=f\"container-training-{suffix}\",\n",
    "        description=\"xgboost running in SageMaker container in script mode\"\n",
    "    ) as run:\n",
    "\n",
    "        mlflow.set_tags(\n",
    "            {\n",
    "                'mlflow.user':user_profile_name,\n",
    "                'mlflow.source.type':'JOB',\n",
    "                'mlflow.source.name': f\"https://{region}.console.aws.amazon.com/sagemaker/home?region={region}#/jobs/{sm_training_env['job_name']}\" if sm_training_env['current_host'] != 'sagemaker-local' else sm_training_env['current_host']\n",
    "            }\n",
    "        )\n",
    "    \n",
    "        if len(sm_hosts) > 1:\n",
    "            # Wait until all hosts are able to find each other\n",
    "            entry_point._wait_hostname_resolution()\n",
    "    \n",
    "            # Execute training function after initializing rabit.\n",
    "            distributed.rabit_run(\n",
    "                exec_fun=_xgb_train,\n",
    "                args=xgb_train_args,\n",
    "                include_in_training=(dtrain is not None),\n",
    "                hosts=sm_hosts,\n",
    "                current_host=sm_current_host,\n",
    "                update_rabit_args=True\n",
    "            )\n",
    "        else:\n",
    "            # If single node training, call training method directly.\n",
    "            if dtrain:\n",
    "                xgb_train_args['is_master'] = True\n",
    "                _xgb_train(**xgb_train_args)\n",
    "            else:\n",
    "                raise ValueError(\"Training channel must have data to train model.\")\n",
    "\n",
    "# Return model object\n",
    "def model_fn(model_dir):\n",
    "    \"\"\"Deserialize and return fitted model.\n",
    "\n",
    "    Note that this should have the same name as the serialized model in the _xgb_train method\n",
    "    \"\"\"\n",
    "    model_file = 'xgboost-model'\n",
    "    booster = pkl.load(open(os.path.join(model_dir, model_file), 'rb'))\n",
    "    return booster"
   ]
  },
  {
   "cell_type": "markdown",
   "id": "f0df4bc0-227e-4fb8-8df3-c583cc3a8025",
   "metadata": {},
   "source": [
    "As before for the processing job, for the training job you prepare a requirement file to be to installed the MLflow dependencies."
   ]
  },
  {
   "cell_type": "code",
   "execution_count": 35,
   "id": "0254f9ce-4f60-4ac4-aa14-94c3e214f6ef",
   "metadata": {},
   "outputs": [
    {
     "name": "stdout",
     "output_type": "stream",
     "text": [
      "Writing ./training/requirements.txt\n"
     ]
    }
   ],
   "source": [
    "%%writefile ./training/requirements.txt\n",
    "mlflow==2.13.2\n",
    "sagemaker-mlflow==0.1.0"
   ]
  },
  {
   "cell_type": "markdown",
   "id": "599bf719-0736-48d4-90c9-b669ba1470ec",
   "metadata": {},
   "source": [
    "### Prepare data\n",
    "Define the data input channels for the training job. Set _train_ and _validation_ channels via the SageMaker SDK [`TrainingInput`](https://sagemaker.readthedocs.io/en/stable/api/utility/inputs.html#sagemaker.inputs.TrainingInput) class:"
   ]
  },
  {
   "cell_type": "code",
   "execution_count": 36,
   "id": "195881a7-985b-4b64-a370-c56e5cc638d4",
   "metadata": {},
   "outputs": [],
   "source": [
    "s3_input_train = sagemaker.inputs.TrainingInput(train_s3_url, content_type='csv')\n",
    "s3_input_validation = sagemaker.inputs.TrainingInput(validation_s3_url, content_type='csv')\n",
    "\n",
    "training_inputs = {'train': s3_input_train, 'validation': s3_input_validation}"
   ]
  },
  {
   "cell_type": "code",
   "execution_count": 37,
   "id": "86c9a303-928a-4053-9002-cd618cffa6dd",
   "metadata": {
    "tags": []
   },
   "outputs": [
    {
     "name": "stdout",
     "output_type": "stream",
     "text": [
      "Stored 'output_s3_url' (str)\n"
     ]
    }
   ],
   "source": [
    "train_instance_count = 1\n",
    "train_instance_type = \"ml.m5.xlarge\"\n",
    "\n",
    "# Define where the training job stores the model artifact\n",
    "output_s3_url = f\"s3://{bucket_name}/{bucket_prefix}/output\"\n",
    "\n",
    "%store output_s3_url"
   ]
  },
  {
   "cell_type": "markdown",
   "id": "f0821c99-fbbd-4209-a97e-8f552dd9b5dd",
   "metadata": {},
   "source": [
    "### Run training in local mode\n",
    "Running SageMaker in Local model is a convenient way to quickly iterate over your training script to ensure it works as intended. First install the `sagemaker[local]` extras from the sagemaker SDK.\n",
    "\n",
    "<div class=\"alert alert-info\">Make sure you installed Docker in the notebook 00.</div>"
   ]
  },
  {
   "cell_type": "code",
   "execution_count": 38,
   "id": "cf3b9a8c-cb68-41b6-8d10-e102d28dd568",
   "metadata": {},
   "outputs": [
    {
     "name": "stdout",
     "output_type": "stream",
     "text": [
      "\u001b[31mERROR: Could not install packages due to an OSError: [Errno 2] No such file or directory: '/opt/conda/lib/python3.10/site-packages/pytz-2023.3.dist-info/METADATA'\n",
      "\u001b[0m\u001b[31m\n",
      "\u001b[0mNote: you may need to restart the kernel to use updated packages.\n"
     ]
    }
   ],
   "source": [
    "%pip install -q sagemaker[local]"
   ]
  },
  {
   "cell_type": "markdown",
   "id": "dcc7462f-56e0-4ad4-ad57-e5703fdec7a7",
   "metadata": {},
   "source": [
    "Copy the training script to a different folder, e.g. `./training-local/` with the intention to test our script in the container locally. By doing so, you can develop your scripts fast and without need to spin up the SageMaker managed infrastructure – saving time and costs."
   ]
  },
  {
   "cell_type": "code",
   "execution_count": 39,
   "id": "3c8e32f3-15e9-416d-8ef2-45e5cd5f6f25",
   "metadata": {},
   "outputs": [],
   "source": [
    "%cp -rf ./training/* ./training-local"
   ]
  },
  {
   "cell_type": "markdown",
   "id": "3c180ce2-8481-49ab-bcd3-06a34e36f20b",
   "metadata": {},
   "source": [
    "Prepare hyperparameters and MLflow settings in environment variables:"
   ]
  },
  {
   "cell_type": "code",
   "execution_count": 40,
   "id": "8af85fd6-49ed-4c56-a3fb-a50c8dc6aeb4",
   "metadata": {},
   "outputs": [],
   "source": [
    "hyperparams = {\n",
    "    'num_round': 50,\n",
    "    'max_depth': 3,\n",
    "    'eta': 0.5,\n",
    "    'alpha': 2.5,\n",
    "    'objective': 'binary:logistic',\n",
    "    'eval_metric': 'auc',\n",
    "    'subsample': 0.8,\n",
    "    'colsample_bytree': 0.8,\n",
    "    'min_child_weight': 3,\n",
    "    'early_stopping_rounds': 10,\n",
    "    'verbosity': 1\n",
    "}\n",
    "\n",
    "env_variables = {\n",
    "    'MLFLOW_TRACKING_ARN': mlflow_arn,\n",
    "    'MLFLOW_EXPERIMENT_NAME': experiment_name,\n",
    "    'USER': user_profile_name,\n",
    "    'REGION': region,\n",
    "}"
   ]
  },
  {
   "cell_type": "markdown",
   "id": "0378bca5-26f8-4023-9601-d00795268013",
   "metadata": {},
   "source": [
    "You use the same code to run a training job as a SageMaker managed job, but set the `sagemaker_session` parameter to `LocalSession` and `instance_type` to 'local':"
   ]
  },
  {
   "cell_type": "code",
   "execution_count": 41,
   "id": "04220e95-01e3-4ceb-a54d-5e4e9133aaa1",
   "metadata": {},
   "outputs": [
    {
     "name": "stderr",
     "output_type": "stream",
     "text": [
      "INFO:sagemaker.image_uris:Ignoring unnecessary Python version: py3.\n",
      "INFO:sagemaker.image_uris:Ignoring unnecessary instance type: local.\n"
     ]
    }
   ],
   "source": [
    "from sagemaker.xgboost.estimator import XGBoost\n",
    "from sagemaker.local import LocalSession\n",
    "\n",
    "LOCAL_SESSION = LocalSession()\n",
    "LOCAL_SESSION.config = {'local': {'local_code': True}}  # Ensure full code locality, see: https://sagemaker.readthedocs.io/en/stable/overview.html#local-mode\n",
    "\n",
    "xgb_script_mode_local = XGBoost(\n",
    "    entry_point='train.py',\n",
    "    source_dir='./training-local',\n",
    "    framework_version=\"1.7-1\",  # Note: framework_version is mandatory\n",
    "    hyperparameters=hyperparams,\n",
    "    role=sm_role,\n",
    "    instance_count=train_instance_count,\n",
    "    instance_type='local',\n",
    "    output_path=output_s3_url,\n",
    "    base_job_name=\"from-idea-to-prod-training\",\n",
    "    environment=env_variables,\n",
    "    sagemaker_session=LOCAL_SESSION,\n",
    ")"
   ]
  },
  {
   "cell_type": "markdown",
   "id": "ce167be7-7c8c-4e00-a316-d2aff4c10e52",
   "metadata": {},
   "source": [
    "<div style=\"border: 4px solid coral; text-align: center; margin: auto;\">\n",
    "First run of the training locally might take some time as the XGBoost container pulled locally.\n",
    "</div>"
   ]
  },
  {
   "cell_type": "code",
   "execution_count": 42,
   "id": "690f37c1-97bd-474c-a257-47ac5a7733d2",
   "metadata": {},
   "outputs": [
    {
     "name": "stderr",
     "output_type": "stream",
     "text": [
      "INFO:sagemaker:Creating training-job with name: from-idea-to-prod-training-2024-07-23-14-08-27-507\n",
      "INFO:sagemaker.telemetry.telemetry_logging:SageMaker Python SDK will collect telemetry to help us better understand our user's needs, diagnose issues, and deliver additional features.\n",
      "To opt out of telemetry, please disable via TelemetryOptOut parameter in SDK defaults config. For more information, refer to https://sagemaker.readthedocs.io/en/stable/overview.html#configuring-and-using-defaults-with-the-sagemaker-python-sdk.\n",
      "INFO:sagemaker.local.image:'Docker Compose' found using Docker CLI.\n",
      "INFO:sagemaker.local.local_session:Starting training job\n",
      "WARNING:sagemaker.local.image:Using the short-lived AWS credentials found in session. They might expire while running.\n",
      "INFO:sagemaker.local.image:docker compose file: \n",
      "services:\n",
      "  sagemaker-local:\n",
      "    command: train\n",
      "    container_name: jucruvdmr3-sagemaker-local\n",
      "    environment:\n",
      "    - '[Masked]'\n",
      "    - '[Masked]'\n",
      "    - '[Masked]'\n",
      "    - '[Masked]'\n",
      "    - '[Masked]'\n",
      "    - '[Masked]'\n",
      "    - '[Masked]'\n",
      "    - '[Masked]'\n",
      "    - '[Masked]'\n",
      "    - '[Masked]'\n",
      "    - '[Masked]'\n",
      "    image: 683313688378.dkr.ecr.us-east-1.amazonaws.com/sagemaker-xgboost:1.7-1\n",
      "    network_mode: sagemaker\n",
      "    stdin_open: true\n",
      "    tty: true\n",
      "    volumes:\n",
      "    - /home/sagemaker-user/tmp/tmp2yg9pp2g/sagemaker-local/output/data:/opt/ml/output/data\n",
      "    - /home/sagemaker-user/tmp/tmp2yg9pp2g/sagemaker-local/input:/opt/ml/input\n",
      "    - /home/sagemaker-user/tmp/tmp2yg9pp2g/sagemaker-local/output:/opt/ml/output\n",
      "    - /home/sagemaker-user/tmp/tmp2yg9pp2g/model:/opt/ml/model\n",
      "    - /opt/ml/metadata:/opt/ml/metadata\n",
      "    - /home/sagemaker-user/tmp/tmpoda2mszl:/opt/ml/input/data/train\n",
      "    - /home/sagemaker-user/tmp/tmpf31dmbzm:/opt/ml/input/data/validation\n",
      "    - /home/sagemaker-user/amazon-sagemaker-from-idea-to-production/training-local:/opt/ml/code\n",
      "    - /home/sagemaker-user/tmp/tmp2yg9pp2g/shared:/opt/ml/shared\n",
      "version: '2.3'\n",
      "\n",
      "WARNING! Your password will be stored unencrypted in /home/sagemaker-user/.docker/config.json.\n",
      "Configure a credential helper to remove this warning. See\n",
      "https://docs.docker.com/engine/reference/commandline/login/#credentials-store\n",
      "\n",
      "INFO:sagemaker.local.image:docker command: docker pull 683313688378.dkr.ecr.us-east-1.amazonaws.com/sagemaker-xgboost:1.7-1\n"
     ]
    },
    {
     "name": "stdout",
     "output_type": "stream",
     "text": [
      "Login Succeeded\n"
     ]
    },
    {
     "name": "stderr",
     "output_type": "stream",
     "text": [
      "INFO:sagemaker.local.image:image pulled: 683313688378.dkr.ecr.us-east-1.amazonaws.com/sagemaker-xgboost:1.7-1\n",
      "INFO:sagemaker.local.image:docker command: docker compose -f /home/sagemaker-user/tmp/tmp2yg9pp2g/docker-compose.yaml up --build --abort-on-container-exit\n"
     ]
    },
    {
     "name": "stdout",
     "output_type": "stream",
     "text": [
      "time=\"2024-07-23T14:10:11Z\" level=warning msg=\"/home/sagemaker-user/tmp/tmp2yg9pp2g/docker-compose.yaml: the attribute `version` is obsolete, it will be ignored, please remove it to avoid potential confusion\"\n",
      " Container jucruvdmr3-sagemaker-local  Creating\n",
      " Container jucruvdmr3-sagemaker-local  Created\n",
      "Attaching to jucruvdmr3-sagemaker-local\n",
      "jucruvdmr3-sagemaker-local  | [2024-07-23 14:10:13.576 default:1 INFO utils.py:28] RULE_JOB_STOP_SIGNAL_FILENAME: None\n",
      "jucruvdmr3-sagemaker-local  | [2024-07-23 14:10:13.603 default:1 INFO profiler_config_parser.py:111] Unable to find config at /opt/ml/input/config/profilerconfig.json. Profiler is disabled.\n",
      "jucruvdmr3-sagemaker-local  | [2024-07-23:14:10:14:INFO] Imported framework sagemaker_xgboost_container.training\n",
      "jucruvdmr3-sagemaker-local  | [2024-07-23:14:10:14:INFO] No GPUs detected (normal if no gpus installed)\n",
      "jucruvdmr3-sagemaker-local  | [2024-07-23:14:10:14:INFO] Invoking user training script.\n",
      "jucruvdmr3-sagemaker-local  | [2024-07-23:14:10:14:INFO] Module train does not provide a setup.py. \n",
      "jucruvdmr3-sagemaker-local  | Generating setup.py\n",
      "jucruvdmr3-sagemaker-local  | [2024-07-23:14:10:14:INFO] Generating setup.cfg\n",
      "jucruvdmr3-sagemaker-local  | [2024-07-23:14:10:14:INFO] Generating MANIFEST.in\n",
      "jucruvdmr3-sagemaker-local  | [2024-07-23:14:10:14:INFO] Installing module with the following command:\n",
      "jucruvdmr3-sagemaker-local  | /miniconda3/bin/python3 -m pip install . -r requirements.txt\n",
      "jucruvdmr3-sagemaker-local  | Processing /opt/ml/code\n",
      "jucruvdmr3-sagemaker-local  |   Preparing metadata (setup.py) ... \u001b[?25ldone\n",
      "jucruvdmr3-sagemaker-local  | \u001b[?25hCollecting mlflow==2.13.2 (from -r requirements.txt (line 1))\n",
      "jucruvdmr3-sagemaker-local  |   Downloading mlflow-2.13.2-py3-none-any.whl.metadata (29 kB)\n",
      "jucruvdmr3-sagemaker-local  | Collecting sagemaker-mlflow==0.1.0 (from -r requirements.txt (line 2))\n",
      "jucruvdmr3-sagemaker-local  |   Downloading sagemaker_mlflow-0.1.0-py3-none-any.whl.metadata (3.3 kB)\n",
      "jucruvdmr3-sagemaker-local  | Requirement already satisfied: Flask<4 in /miniconda3/lib/python3.8/site-packages (from mlflow==2.13.2->-r requirements.txt (line 1)) (1.1.1)\n",
      "jucruvdmr3-sagemaker-local  | Collecting alembic!=1.10.0,<2 (from mlflow==2.13.2->-r requirements.txt (line 1))\n",
      "jucruvdmr3-sagemaker-local  |   Downloading alembic-1.13.2-py3-none-any.whl.metadata (7.4 kB)\n",
      "jucruvdmr3-sagemaker-local  | Collecting cachetools<6,>=5.0.0 (from mlflow==2.13.2->-r requirements.txt (line 1))\n",
      "jucruvdmr3-sagemaker-local  |   Downloading cachetools-5.4.0-py3-none-any.whl.metadata (5.3 kB)\n",
      "jucruvdmr3-sagemaker-local  | Requirement already satisfied: click<9,>=7.0 in /miniconda3/lib/python3.8/site-packages (from mlflow==2.13.2->-r requirements.txt (line 1)) (8.1.7)\n",
      "jucruvdmr3-sagemaker-local  | Requirement already satisfied: cloudpickle<4 in /miniconda3/lib/python3.8/site-packages (from mlflow==2.13.2->-r requirements.txt (line 1)) (3.0.0)\n",
      "jucruvdmr3-sagemaker-local  | Collecting docker<8,>=4.0.0 (from mlflow==2.13.2->-r requirements.txt (line 1))\n",
      "jucruvdmr3-sagemaker-local  |   Downloading docker-7.1.0-py3-none-any.whl.metadata (3.8 kB)\n",
      "jucruvdmr3-sagemaker-local  | Collecting entrypoints<1 (from mlflow==2.13.2->-r requirements.txt (line 1))\n",
      "jucruvdmr3-sagemaker-local  |   Downloading entrypoints-0.4-py3-none-any.whl.metadata (2.6 kB)\n",
      "jucruvdmr3-sagemaker-local  | Collecting gitpython<4,>=3.1.9 (from mlflow==2.13.2->-r requirements.txt (line 1))\n",
      "jucruvdmr3-sagemaker-local  |   Downloading GitPython-3.1.43-py3-none-any.whl.metadata (13 kB)\n",
      "jucruvdmr3-sagemaker-local  | Collecting graphene<4 (from mlflow==2.13.2->-r requirements.txt (line 1))\n",
      "jucruvdmr3-sagemaker-local  |   Downloading graphene-3.3-py2.py3-none-any.whl.metadata (7.7 kB)\n",
      "jucruvdmr3-sagemaker-local  | Requirement already satisfied: importlib-metadata!=4.7.0,<8,>=3.7.0 in /miniconda3/lib/python3.8/site-packages (from mlflow==2.13.2->-r requirements.txt (line 1)) (7.1.0)\n",
      "jucruvdmr3-sagemaker-local  | Collecting markdown<4,>=3.3 (from mlflow==2.13.2->-r requirements.txt (line 1))\n",
      "jucruvdmr3-sagemaker-local  |   Downloading Markdown-3.6-py3-none-any.whl.metadata (7.0 kB)\n",
      "jucruvdmr3-sagemaker-local  | Requirement already satisfied: matplotlib<4 in /miniconda3/lib/python3.8/site-packages (from mlflow==2.13.2->-r requirements.txt (line 1)) (3.4.1)\n",
      "jucruvdmr3-sagemaker-local  | Requirement already satisfied: numpy<2 in /miniconda3/lib/python3.8/site-packages (from mlflow==2.13.2->-r requirements.txt (line 1)) (1.24.1)\n",
      "jucruvdmr3-sagemaker-local  | Collecting opentelemetry-api<3,>=1.0.0 (from mlflow==2.13.2->-r requirements.txt (line 1))\n",
      "jucruvdmr3-sagemaker-local  |   Downloading opentelemetry_api-1.25.0-py3-none-any.whl.metadata (1.4 kB)\n",
      "jucruvdmr3-sagemaker-local  | Collecting opentelemetry-sdk<3,>=1.0.0 (from mlflow==2.13.2->-r requirements.txt (line 1))\n",
      "jucruvdmr3-sagemaker-local  |   Downloading opentelemetry_sdk-1.25.0-py3-none-any.whl.metadata (1.4 kB)\n",
      "jucruvdmr3-sagemaker-local  | Requirement already satisfied: packaging<25 in /miniconda3/lib/python3.8/site-packages (from mlflow==2.13.2->-r requirements.txt (line 1)) (24.0)\n",
      "jucruvdmr3-sagemaker-local  | Requirement already satisfied: pandas<3 in /miniconda3/lib/python3.8/site-packages (from mlflow==2.13.2->-r requirements.txt (line 1)) (1.2.4)\n",
      "jucruvdmr3-sagemaker-local  | Requirement already satisfied: protobuf<5,>=3.12.0 in /miniconda3/lib/python3.8/site-packages (from mlflow==2.13.2->-r requirements.txt (line 1)) (3.20.1)\n",
      "jucruvdmr3-sagemaker-local  | Requirement already satisfied: pyarrow<16,>=4.0.0 in /miniconda3/lib/python3.8/site-packages (from mlflow==2.13.2->-r requirements.txt (line 1)) (14.0.1)\n",
      "jucruvdmr3-sagemaker-local  | Requirement already satisfied: pytz<2025 in /miniconda3/lib/python3.8/site-packages (from mlflow==2.13.2->-r requirements.txt (line 1)) (2024.1)\n",
      "jucruvdmr3-sagemaker-local  | Requirement already satisfied: pyyaml<7,>=5.1 in /miniconda3/lib/python3.8/site-packages (from mlflow==2.13.2->-r requirements.txt (line 1)) (5.4.1)\n",
      "jucruvdmr3-sagemaker-local  | Collecting querystring-parser<2 (from mlflow==2.13.2->-r requirements.txt (line 1))\n",
      "jucruvdmr3-sagemaker-local  |   Downloading querystring_parser-1.2.4-py2.py3-none-any.whl.metadata (559 bytes)\n",
      "jucruvdmr3-sagemaker-local  | Requirement already satisfied: requests<3,>=2.17.3 in /miniconda3/lib/python3.8/site-packages (from mlflow==2.13.2->-r requirements.txt (line 1)) (2.27.0)\n",
      "jucruvdmr3-sagemaker-local  | Requirement already satisfied: scikit-learn<2 in /miniconda3/lib/python3.8/site-packages (from mlflow==2.13.2->-r requirements.txt (line 1)) (0.24.1)\n",
      "jucruvdmr3-sagemaker-local  | Requirement already satisfied: scipy<2 in /miniconda3/lib/python3.8/site-packages (from mlflow==2.13.2->-r requirements.txt (line 1)) (1.8.0)\n",
      "jucruvdmr3-sagemaker-local  | Collecting sqlalchemy<3,>=1.4.0 (from mlflow==2.13.2->-r requirements.txt (line 1))\n",
      "jucruvdmr3-sagemaker-local  |   Downloading SQLAlchemy-2.0.31-cp38-cp38-manylinux_2_17_x86_64.manylinux2014_x86_64.whl.metadata (9.6 kB)\n",
      "jucruvdmr3-sagemaker-local  | Collecting sqlparse<1,>=0.4.0 (from mlflow==2.13.2->-r requirements.txt (line 1))\n",
      "jucruvdmr3-sagemaker-local  |   Downloading sqlparse-0.5.1-py3-none-any.whl.metadata (3.9 kB)\n",
      "jucruvdmr3-sagemaker-local  | Requirement already satisfied: Jinja2<4,>=2.11 in /miniconda3/lib/python3.8/site-packages (from mlflow==2.13.2->-r requirements.txt (line 1)) (2.11.3)\n",
      "jucruvdmr3-sagemaker-local  | Requirement already satisfied: gunicorn<23 in /miniconda3/lib/python3.8/site-packages (from mlflow==2.13.2->-r requirements.txt (line 1)) (19.10.0)\n",
      "jucruvdmr3-sagemaker-local  | Collecting boto3>=1.34 (from sagemaker-mlflow==0.1.0->-r requirements.txt (line 2))\n",
      "jucruvdmr3-sagemaker-local  |   Downloading boto3-1.34.146-py3-none-any.whl.metadata (6.6 kB)\n",
      "jucruvdmr3-sagemaker-local  | Collecting Mako (from alembic!=1.10.0,<2->mlflow==2.13.2->-r requirements.txt (line 1))\n",
      "jucruvdmr3-sagemaker-local  |   Downloading Mako-1.3.5-py3-none-any.whl.metadata (2.9 kB)\n",
      "jucruvdmr3-sagemaker-local  | Collecting typing-extensions>=4 (from alembic!=1.10.0,<2->mlflow==2.13.2->-r requirements.txt (line 1))\n",
      "jucruvdmr3-sagemaker-local  |   Downloading typing_extensions-4.12.2-py3-none-any.whl.metadata (3.0 kB)\n",
      "jucruvdmr3-sagemaker-local  | Collecting importlib-resources (from alembic!=1.10.0,<2->mlflow==2.13.2->-r requirements.txt (line 1))\n",
      "jucruvdmr3-sagemaker-local  |   Downloading importlib_resources-6.4.0-py3-none-any.whl.metadata (3.9 kB)\n",
      "jucruvdmr3-sagemaker-local  | Collecting botocore<1.35.0,>=1.34.146 (from boto3>=1.34->sagemaker-mlflow==0.1.0->-r requirements.txt (line 2))\n",
      "jucruvdmr3-sagemaker-local  |   Downloading botocore-1.34.146-py3-none-any.whl.metadata (5.7 kB)\n",
      "jucruvdmr3-sagemaker-local  | Requirement already satisfied: jmespath<2.0.0,>=0.7.1 in /miniconda3/lib/python3.8/site-packages (from boto3>=1.34->sagemaker-mlflow==0.1.0->-r requirements.txt (line 2)) (0.10.0)\n",
      "jucruvdmr3-sagemaker-local  | Collecting s3transfer<0.11.0,>=0.10.0 (from boto3>=1.34->sagemaker-mlflow==0.1.0->-r requirements.txt (line 2))\n",
      "jucruvdmr3-sagemaker-local  |   Downloading s3transfer-0.10.2-py3-none-any.whl.metadata (1.7 kB)\n",
      "jucruvdmr3-sagemaker-local  | Requirement already satisfied: urllib3>=1.26.0 in /miniconda3/lib/python3.8/site-packages (from docker<8,>=4.0.0->mlflow==2.13.2->-r requirements.txt (line 1)) (1.26.5)\n",
      "jucruvdmr3-sagemaker-local  | Requirement already satisfied: Werkzeug>=0.15 in /miniconda3/lib/python3.8/site-packages (from Flask<4->mlflow==2.13.2->-r requirements.txt (line 1)) (0.15.6)\n",
      "jucruvdmr3-sagemaker-local  | Requirement already satisfied: itsdangerous>=0.24 in /miniconda3/lib/python3.8/site-packages (from Flask<4->mlflow==2.13.2->-r requirements.txt (line 1)) (2.0.1)\n",
      "jucruvdmr3-sagemaker-local  | Collecting gitdb<5,>=4.0.1 (from gitpython<4,>=3.1.9->mlflow==2.13.2->-r requirements.txt (line 1))\n",
      "jucruvdmr3-sagemaker-local  |   Downloading gitdb-4.0.11-py3-none-any.whl.metadata (1.2 kB)\n",
      "jucruvdmr3-sagemaker-local  | Collecting graphql-core<3.3,>=3.1 (from graphene<4->mlflow==2.13.2->-r requirements.txt (line 1))\n",
      "jucruvdmr3-sagemaker-local  |   Downloading graphql_core-3.2.3-py3-none-any.whl.metadata (10 kB)\n",
      "jucruvdmr3-sagemaker-local  | Collecting graphql-relay<3.3,>=3.1 (from graphene<4->mlflow==2.13.2->-r requirements.txt (line 1))\n",
      "jucruvdmr3-sagemaker-local  |   Downloading graphql_relay-3.2.0-py3-none-any.whl.metadata (12 kB)\n",
      "jucruvdmr3-sagemaker-local  | Collecting aniso8601<10,>=8 (from graphene<4->mlflow==2.13.2->-r requirements.txt (line 1))\n",
      "jucruvdmr3-sagemaker-local  |   Downloading aniso8601-9.0.1-py2.py3-none-any.whl.metadata (23 kB)\n",
      "jucruvdmr3-sagemaker-local  | Requirement already satisfied: zipp>=0.5 in /miniconda3/lib/python3.8/site-packages (from importlib-metadata!=4.7.0,<8,>=3.7.0->mlflow==2.13.2->-r requirements.txt (line 1)) (3.18.2)\n",
      "jucruvdmr3-sagemaker-local  | Requirement already satisfied: MarkupSafe>=0.23 in /miniconda3/lib/python3.8/site-packages (from Jinja2<4,>=2.11->mlflow==2.13.2->-r requirements.txt (line 1)) (1.1.1)\n",
      "jucruvdmr3-sagemaker-local  | Requirement already satisfied: cycler>=0.10 in /miniconda3/lib/python3.8/site-packages (from matplotlib<4->mlflow==2.13.2->-r requirements.txt (line 1)) (0.12.1)\n",
      "jucruvdmr3-sagemaker-local  | Requirement already satisfied: kiwisolver>=1.0.1 in /miniconda3/lib/python3.8/site-packages (from matplotlib<4->mlflow==2.13.2->-r requirements.txt (line 1)) (1.4.5)\n",
      "jucruvdmr3-sagemaker-local  | Requirement already satisfied: pillow>=6.2.0 in /miniconda3/lib/python3.8/site-packages (from matplotlib<4->mlflow==2.13.2->-r requirements.txt (line 1)) (9.1.1)\n",
      "jucruvdmr3-sagemaker-local  | Requirement already satisfied: pyparsing>=2.2.1 in /miniconda3/lib/python3.8/site-packages (from matplotlib<4->mlflow==2.13.2->-r requirements.txt (line 1)) (3.1.2)\n",
      "jucruvdmr3-sagemaker-local  | Requirement already satisfied: python-dateutil>=2.7 in /miniconda3/lib/python3.8/site-packages (from matplotlib<4->mlflow==2.13.2->-r requirements.txt (line 1)) (2.8.1)\n",
      "jucruvdmr3-sagemaker-local  | Collecting deprecated>=1.2.6 (from opentelemetry-api<3,>=1.0.0->mlflow==2.13.2->-r requirements.txt (line 1))\n",
      "jucruvdmr3-sagemaker-local  |   Downloading Deprecated-1.2.14-py2.py3-none-any.whl.metadata (5.4 kB)\n",
      "jucruvdmr3-sagemaker-local  | Collecting opentelemetry-semantic-conventions==0.46b0 (from opentelemetry-sdk<3,>=1.0.0->mlflow==2.13.2->-r requirements.txt (line 1))\n",
      "jucruvdmr3-sagemaker-local  |   Downloading opentelemetry_semantic_conventions-0.46b0-py3-none-any.whl.metadata (2.3 kB)\n",
      "jucruvdmr3-sagemaker-local  | Requirement already satisfied: six in /miniconda3/lib/python3.8/site-packages (from querystring-parser<2->mlflow==2.13.2->-r requirements.txt (line 1)) (1.16.0)\n",
      "jucruvdmr3-sagemaker-local  | Requirement already satisfied: certifi>=2017.4.17 in /miniconda3/lib/python3.8/site-packages (from requests<3,>=2.17.3->mlflow==2.13.2->-r requirements.txt (line 1)) (2023.7.22)\n",
      "jucruvdmr3-sagemaker-local  | Requirement already satisfied: charset-normalizer~=2.0.0 in /miniconda3/lib/python3.8/site-packages (from requests<3,>=2.17.3->mlflow==2.13.2->-r requirements.txt (line 1)) (2.0.12)\n",
      "jucruvdmr3-sagemaker-local  | Requirement already satisfied: idna<4,>=2.5 in /miniconda3/lib/python3.8/site-packages (from requests<3,>=2.17.3->mlflow==2.13.2->-r requirements.txt (line 1)) (3.7)\n",
      "jucruvdmr3-sagemaker-local  | Requirement already satisfied: joblib>=0.11 in /miniconda3/lib/python3.8/site-packages (from scikit-learn<2->mlflow==2.13.2->-r requirements.txt (line 1)) (1.4.2)\n",
      "jucruvdmr3-sagemaker-local  | Requirement already satisfied: threadpoolctl>=2.0.0 in /miniconda3/lib/python3.8/site-packages (from scikit-learn<2->mlflow==2.13.2->-r requirements.txt (line 1)) (3.5.0)\n",
      "jucruvdmr3-sagemaker-local  | Requirement already satisfied: greenlet!=0.4.17 in /miniconda3/lib/python3.8/site-packages (from sqlalchemy<3,>=1.4.0->mlflow==2.13.2->-r requirements.txt (line 1)) (3.0.3)\n",
      "jucruvdmr3-sagemaker-local  | Collecting wrapt<2,>=1.10 (from deprecated>=1.2.6->opentelemetry-api<3,>=1.0.0->mlflow==2.13.2->-r requirements.txt (line 1))\n",
      "jucruvdmr3-sagemaker-local  |   Downloading wrapt-1.16.0-cp38-cp38-manylinux_2_5_x86_64.manylinux1_x86_64.manylinux_2_17_x86_64.manylinux2014_x86_64.whl.metadata (6.6 kB)\n",
      "jucruvdmr3-sagemaker-local  | Collecting smmap<6,>=3.0.1 (from gitdb<5,>=4.0.1->gitpython<4,>=3.1.9->mlflow==2.13.2->-r requirements.txt (line 1))\n",
      "jucruvdmr3-sagemaker-local  |   Downloading smmap-5.0.1-py3-none-any.whl.metadata (4.3 kB)\n",
      "jucruvdmr3-sagemaker-local  | Downloading mlflow-2.13.2-py3-none-any.whl (25.0 MB)\n",
      "\u001b[2K   \u001b[90m━━━━━━━━━━━━━━━━━━━━━━━━━━━━━━━━━━━━━━━━\u001b[0m \u001b[32m25.0/25.0 MB\u001b[0m \u001b[31m75.9 MB/s\u001b[0m eta \u001b[36m0:00:00\u001b[0m:00:01\u001b[0m00:01\u001b[0m\u001b[0m\n",
      "jucruvdmr3-sagemaker-local  | \u001b[?25hDownloading sagemaker_mlflow-0.1.0-py3-none-any.whl (24 kB)\n",
      "jucruvdmr3-sagemaker-local  | Downloading alembic-1.13.2-py3-none-any.whl (232 kB)\n",
      "\u001b[2K   \u001b[90m━━━━━━━━━━━━━━━━━━━━━━━━━━━━━━━━━━━━━━━━\u001b[0m \u001b[32m233.0/233.0 kB\u001b[0m \u001b[31m36.1 MB/s\u001b[0m eta \u001b[36m0:00:00\u001b[0mm eta \u001b[36m-:--:--\u001b[0m\n",
      "jucruvdmr3-sagemaker-local  | \u001b[?25hDownloading boto3-1.34.146-py3-none-any.whl (139 kB)\n",
      "\u001b[2K   \u001b[90m━━━━━━━━━━━━━━━━━━━━━━━━━━━━━━━━━━━━━━━━\u001b[0m \u001b[32m139.2/139.2 kB\u001b[0m \u001b[31m23.1 MB/s\u001b[0m eta \u001b[36m0:00:00\u001b[0mm eta \u001b[36m-:--:--\u001b[0m\n",
      "jucruvdmr3-sagemaker-local  | \u001b[?25hDownloading cachetools-5.4.0-py3-none-any.whl (9.5 kB)\n",
      "jucruvdmr3-sagemaker-local  | Downloading docker-7.1.0-py3-none-any.whl (147 kB)\n",
      "\u001b[2K   \u001b[90m━━━━━━━━━━━━━━━━━━━━━━━━━━━━━━━━━━━━━━━━\u001b[0m \u001b[32m147.8/147.8 kB\u001b[0m \u001b[31m22.6 MB/s\u001b[0m eta \u001b[36m0:00:00\u001b[0mm eta \u001b[36m-:--:--\u001b[0m\n",
      "jucruvdmr3-sagemaker-local  | \u001b[?25hDownloading entrypoints-0.4-py3-none-any.whl (5.3 kB)\n",
      "jucruvdmr3-sagemaker-local  | Downloading GitPython-3.1.43-py3-none-any.whl (207 kB)\n",
      "\u001b[2K   \u001b[90m━━━━━━━━━━━━━━━━━━━━━━━━━━━━━━━━━━━━━━━━\u001b[0m \u001b[32m207.3/207.3 kB\u001b[0m \u001b[31m29.5 MB/s\u001b[0m eta \u001b[36m0:00:00\u001b[0mm eta \u001b[36m-:--:--\u001b[0m\n",
      "jucruvdmr3-sagemaker-local  | \u001b[?25hDownloading graphene-3.3-py2.py3-none-any.whl (128 kB)\n",
      "\u001b[2K   \u001b[90m━━━━━━━━━━━━━━━━━━━━━━━━━━━━━━━━━━━━━━━━\u001b[0m \u001b[32m128.2/128.2 kB\u001b[0m \u001b[31m21.1 MB/s\u001b[0m eta \u001b[36m0:00:00\u001b[0mm eta \u001b[36m-:--:--\u001b[0m\n",
      "jucruvdmr3-sagemaker-local  | \u001b[?25hDownloading Markdown-3.6-py3-none-any.whl (105 kB)\n",
      "\u001b[2K   \u001b[90m━━━━━━━━━━━━━━━━━━━━━━━━━━━━━━━━━━━━━━━━\u001b[0m \u001b[32m105.4/105.4 kB\u001b[0m \u001b[31m20.4 MB/s\u001b[0m eta \u001b[36m0:00:00\u001b[0mm eta \u001b[36m-:--:--\u001b[0m\n",
      "jucruvdmr3-sagemaker-local  | \u001b[?25hDownloading opentelemetry_api-1.25.0-py3-none-any.whl (59 kB)\n",
      "\u001b[2K   \u001b[90m━━━━━━━━━━━━━━━━━━━━━━━━━━━━━━━━━━━━━━━━\u001b[0m \u001b[32m59.9/59.9 kB\u001b[0m \u001b[31m11.0 MB/s\u001b[0m eta \u001b[36m0:00:00\u001b[0m0m eta \u001b[36m-:--:--\u001b[0m\n",
      "jucruvdmr3-sagemaker-local  | \u001b[?25hDownloading opentelemetry_sdk-1.25.0-py3-none-any.whl (107 kB)\n",
      "\u001b[2K   \u001b[90m━━━━━━━━━━━━━━━━━━━━━━━━━━━━━━━━━━━━━━━━\u001b[0m \u001b[32m107.0/107.0 kB\u001b[0m \u001b[31m19.8 MB/s\u001b[0m eta \u001b[36m0:00:00\u001b[0mm eta \u001b[36m-:--:--\u001b[0m\n",
      "jucruvdmr3-sagemaker-local  | \u001b[?25hDownloading opentelemetry_semantic_conventions-0.46b0-py3-none-any.whl (130 kB)\n",
      "\u001b[2K   \u001b[90m━━━━━━━━━━━━━━━━━━━━━━━━━━━━━━━━━━━━━━━━\u001b[0m \u001b[32m130.5/130.5 kB\u001b[0m \u001b[31m22.8 MB/s\u001b[0m eta \u001b[36m0:00:00\u001b[0mm eta \u001b[36m-:--:--\u001b[0m\n",
      "jucruvdmr3-sagemaker-local  | \u001b[?25hDownloading querystring_parser-1.2.4-py2.py3-none-any.whl (7.9 kB)\n",
      "jucruvdmr3-sagemaker-local  | Downloading SQLAlchemy-2.0.31-cp38-cp38-manylinux_2_17_x86_64.manylinux2014_x86_64.whl (3.1 MB)\n",
      "\u001b[2K   \u001b[90m━━━━━━━━━━━━━━━━━━━━━━━━━━━━━━━━━━━━━━━━\u001b[0m \u001b[32m3.1/3.1 MB\u001b[0m \u001b[31m100.5 MB/s\u001b[0m eta \u001b[36m0:00:00\u001b[0m0m eta \u001b[36m-:--:--\u001b[0m\n",
      "jucruvdmr3-sagemaker-local  | \u001b[?25hDownloading sqlparse-0.5.1-py3-none-any.whl (44 kB)\n",
      "\u001b[2K   \u001b[90m━━━━━━━━━━━━━━━━━━━━━━━━━━━━━━━━━━━━━━━━\u001b[0m \u001b[32m44.2/44.2 kB\u001b[0m \u001b[31m8.4 MB/s\u001b[0m eta \u001b[36m0:00:00\u001b[0m[0m eta \u001b[36m-:--:--\u001b[0m\n",
      "jucruvdmr3-sagemaker-local  | \u001b[?25hDownloading aniso8601-9.0.1-py2.py3-none-any.whl (52 kB)\n",
      "\u001b[2K   \u001b[90m━━━━━━━━━━━━━━━━━━━━━━━━━━━━━━━━━━━━━━━━\u001b[0m \u001b[32m52.8/52.8 kB\u001b[0m \u001b[31m7.3 MB/s\u001b[0m eta \u001b[36m0:00:00\u001b[0m[0m eta \u001b[36m-:--:--\u001b[0m\n",
      "jucruvdmr3-sagemaker-local  | \u001b[?25hDownloading botocore-1.34.146-py3-none-any.whl (12.4 MB)\n",
      "\u001b[2K   \u001b[90m━━━━━━━━━━━━━━━━━━━━━━━━━━━━━━━━━━━━━━━━\u001b[0m \u001b[32m12.4/12.4 MB\u001b[0m \u001b[31m88.4 MB/s\u001b[0m eta \u001b[36m0:00:00\u001b[0m:00:01\u001b[0m0:01\u001b[0m-\u001b[0m\n",
      "jucruvdmr3-sagemaker-local  | \u001b[?25hDownloading Deprecated-1.2.14-py2.py3-none-any.whl (9.6 kB)\n",
      "jucruvdmr3-sagemaker-local  | Downloading gitdb-4.0.11-py3-none-any.whl (62 kB)\n",
      "\u001b[2K   \u001b[90m━━━━━━━━━━━━━━━━━━━━━━━━━━━━━━━━━━━━━━━━\u001b[0m \u001b[32m62.7/62.7 kB\u001b[0m \u001b[31m10.1 MB/s\u001b[0m eta \u001b[36m0:00:00\u001b[0m0m eta \u001b[36m-:--:--\u001b[0m\n",
      "jucruvdmr3-sagemaker-local  | \u001b[?25hDownloading graphql_core-3.2.3-py3-none-any.whl (202 kB)\n",
      "\u001b[2K   \u001b[90m━━━━━━━━━━━━━━━━━━━━━━━━━━━━━━━━━━━━━━━━\u001b[0m \u001b[32m202.9/202.9 kB\u001b[0m \u001b[31m31.7 MB/s\u001b[0m eta \u001b[36m0:00:00\u001b[0mm eta \u001b[36m-:--:--\u001b[0m\n",
      "jucruvdmr3-sagemaker-local  | \u001b[?25hDownloading graphql_relay-3.2.0-py3-none-any.whl (16 kB)\n",
      "jucruvdmr3-sagemaker-local  | Downloading s3transfer-0.10.2-py3-none-any.whl (82 kB)\n",
      "\u001b[2K   \u001b[90m━━━━━━━━━━━━━━━━━━━━━━━━━━━━━━━━━━━━━━━━\u001b[0m \u001b[32m82.7/82.7 kB\u001b[0m \u001b[31m12.9 MB/s\u001b[0m eta \u001b[36m0:00:00\u001b[0m0m eta \u001b[36m-:--:--\u001b[0m\n",
      "jucruvdmr3-sagemaker-local  | \u001b[?25hDownloading typing_extensions-4.12.2-py3-none-any.whl (37 kB)\n",
      "jucruvdmr3-sagemaker-local  | Downloading importlib_resources-6.4.0-py3-none-any.whl (38 kB)\n",
      "jucruvdmr3-sagemaker-local  | Downloading Mako-1.3.5-py3-none-any.whl (78 kB)\n",
      "\u001b[2K   \u001b[90m━━━━━━━━━━━━━━━━━━━━━━━━━━━━━━━━━━━━━━━━\u001b[0m \u001b[32m78.6/78.6 kB\u001b[0m \u001b[31m6.5 MB/s\u001b[0m eta \u001b[36m0:00:00\u001b[0m[0m eta \u001b[36m-:--:--\u001b[0m\n",
      "jucruvdmr3-sagemaker-local  | \u001b[?25hDownloading smmap-5.0.1-py3-none-any.whl (24 kB)\n",
      "jucruvdmr3-sagemaker-local  | Downloading wrapt-1.16.0-cp38-cp38-manylinux_2_5_x86_64.manylinux1_x86_64.manylinux_2_17_x86_64.manylinux2014_x86_64.whl (83 kB)\n",
      "\u001b[2K   \u001b[90m━━━━━━━━━━━━━━━━━━━━━━━━━━━━━━━━━━━━━━━━\u001b[0m \u001b[32m83.4/83.4 kB\u001b[0m \u001b[31m7.2 MB/s\u001b[0m eta \u001b[36m0:00:00\u001b[0m[0m eta \u001b[36m-:--:--\u001b[0m\n",
      "jucruvdmr3-sagemaker-local  | \u001b[?25hBuilding wheels for collected packages: train\n",
      "jucruvdmr3-sagemaker-local  |   Building wheel for train (setup.py) ... \u001b[?25ldone\n",
      "jucruvdmr3-sagemaker-local  | \u001b[?25h  Created wheel for train: filename=train-1.0.0-py2.py3-none-any.whl size=7211 sha256=e0adde31660a68ee5b9914e0da47f49ef7743516aeca868cbc026e83c54ddc0e\n",
      "jucruvdmr3-sagemaker-local  |   Stored in directory: /home/model-server/tmp/pip-ephem-wheel-cache-ykq7ukbw/wheels/f3/75/57/158162e9eab7af12b5c338c279b3a81f103b89d74eeb911c00\n",
      "jucruvdmr3-sagemaker-local  | Successfully built train\n",
      "jucruvdmr3-sagemaker-local  | Installing collected packages: train, aniso8601, wrapt, typing-extensions, sqlparse, smmap, querystring-parser, Mako, importlib-resources, graphql-core, entrypoints, cachetools, sqlalchemy, markdown, graphql-relay, gitdb, docker, deprecated, botocore, s3transfer, opentelemetry-api, graphene, gitpython, alembic, opentelemetry-semantic-conventions, boto3, opentelemetry-sdk, mlflow, sagemaker-mlflow\n",
      "jucruvdmr3-sagemaker-local  |   Attempting uninstall: botocore\n",
      "jucruvdmr3-sagemaker-local  |     Found existing installation: botocore 1.20.52\n",
      "jucruvdmr3-sagemaker-local  |     Uninstalling botocore-1.20.52:\n",
      "jucruvdmr3-sagemaker-local  |       Successfully uninstalled botocore-1.20.52\n",
      "jucruvdmr3-sagemaker-local  |   Attempting uninstall: s3transfer\n",
      "jucruvdmr3-sagemaker-local  |     Found existing installation: s3transfer 0.3.7\n",
      "jucruvdmr3-sagemaker-local  |     Uninstalling s3transfer-0.3.7:\n",
      "jucruvdmr3-sagemaker-local  |       Successfully uninstalled s3transfer-0.3.7\n",
      "jucruvdmr3-sagemaker-local  |   Attempting uninstall: boto3\n",
      "jucruvdmr3-sagemaker-local  |     Found existing installation: boto3 1.17.52\n",
      "jucruvdmr3-sagemaker-local  |     Uninstalling boto3-1.17.52:\n",
      "jucruvdmr3-sagemaker-local  |       Successfully uninstalled boto3-1.17.52\n",
      "jucruvdmr3-sagemaker-local  | \u001b[31mERROR: pip's dependency resolver does not currently take into account all the packages that are installed. This behaviour is the source of the following dependency conflicts.\n",
      "jucruvdmr3-sagemaker-local  | sagemaker-containers 2.8.6.post2 requires typing, which is not installed.\n",
      "jucruvdmr3-sagemaker-local  | sagemaker-xgboost-container 2.0 requires boto3==1.17.52, but you have boto3 1.34.146 which is incompatible.\n",
      "jucruvdmr3-sagemaker-local  | sagemaker-xgboost-container 2.0 requires botocore==1.20.52, but you have botocore 1.34.146 which is incompatible.\u001b[0m\u001b[31m\n",
      "jucruvdmr3-sagemaker-local  | \u001b[0mSuccessfully installed Mako-1.3.5 alembic-1.13.2 aniso8601-9.0.1 boto3-1.34.146 botocore-1.34.146 cachetools-5.4.0 deprecated-1.2.14 docker-7.1.0 entrypoints-0.4 gitdb-4.0.11 gitpython-3.1.43 graphene-3.3 graphql-core-3.2.3 graphql-relay-3.2.0 importlib-resources-6.4.0 markdown-3.6 mlflow-2.13.2 opentelemetry-api-1.25.0 opentelemetry-sdk-1.25.0 opentelemetry-semantic-conventions-0.46b0 querystring-parser-1.2.4 s3transfer-0.10.2 sagemaker-mlflow-0.1.0 smmap-5.0.1 sqlalchemy-2.0.31 sqlparse-0.5.1 train-1.0.0 typing-extensions-4.12.2 wrapt-1.16.0\n",
      "jucruvdmr3-sagemaker-local  | \u001b[33mWARNING: Running pip as the 'root' user can result in broken permissions and conflicting behaviour with the system package manager. It is recommended to use a virtual environment instead: https://pip.pypa.io/warnings/venv\u001b[0m\u001b[33m\n",
      "jucruvdmr3-sagemaker-local  | \u001b[0m[2024-07-23:14:10:27:INFO] No GPUs detected (normal if no gpus installed)\n",
      "jucruvdmr3-sagemaker-local  | [2024-07-23:14:10:27:INFO] Invoking user script\n",
      "jucruvdmr3-sagemaker-local  | \n",
      "jucruvdmr3-sagemaker-local  | Training Env:\n",
      "jucruvdmr3-sagemaker-local  | \n",
      "jucruvdmr3-sagemaker-local  | {\n",
      "jucruvdmr3-sagemaker-local  |     \"additional_framework_parameters\": {},\n",
      "jucruvdmr3-sagemaker-local  |     \"channel_input_dirs\": {\n",
      "jucruvdmr3-sagemaker-local  |         \"train\": \"/opt/ml/input/data/train\",\n",
      "jucruvdmr3-sagemaker-local  |         \"validation\": \"/opt/ml/input/data/validation\"\n",
      "jucruvdmr3-sagemaker-local  |     },\n",
      "jucruvdmr3-sagemaker-local  |     \"current_host\": \"sagemaker-local\",\n",
      "jucruvdmr3-sagemaker-local  |     \"framework_module\": \"sagemaker_xgboost_container.training:main\",\n",
      "jucruvdmr3-sagemaker-local  |     \"hosts\": [\n",
      "jucruvdmr3-sagemaker-local  |         \"sagemaker-local\"\n",
      "jucruvdmr3-sagemaker-local  |     ],\n",
      "jucruvdmr3-sagemaker-local  |     \"hyperparameters\": {\n",
      "jucruvdmr3-sagemaker-local  |         \"num_round\": 50,\n",
      "jucruvdmr3-sagemaker-local  |         \"max_depth\": 3,\n",
      "jucruvdmr3-sagemaker-local  |         \"eta\": 0.5,\n",
      "jucruvdmr3-sagemaker-local  |         \"alpha\": 2.5,\n",
      "jucruvdmr3-sagemaker-local  |         \"objective\": \"binary:logistic\",\n",
      "jucruvdmr3-sagemaker-local  |         \"eval_metric\": \"auc\",\n",
      "jucruvdmr3-sagemaker-local  |         \"subsample\": 0.8,\n",
      "jucruvdmr3-sagemaker-local  |         \"colsample_bytree\": 0.8,\n",
      "jucruvdmr3-sagemaker-local  |         \"min_child_weight\": 3,\n",
      "jucruvdmr3-sagemaker-local  |         \"early_stopping_rounds\": 10,\n",
      "jucruvdmr3-sagemaker-local  |         \"verbosity\": 1\n",
      "jucruvdmr3-sagemaker-local  |     },\n",
      "jucruvdmr3-sagemaker-local  |     \"input_config_dir\": \"/opt/ml/input/config\",\n",
      "jucruvdmr3-sagemaker-local  |     \"input_data_config\": {\n",
      "jucruvdmr3-sagemaker-local  |         \"train\": {\n",
      "jucruvdmr3-sagemaker-local  |             \"TrainingInputMode\": \"File\",\n",
      "jucruvdmr3-sagemaker-local  |             \"ContentType\": \"csv\"\n",
      "jucruvdmr3-sagemaker-local  |         },\n",
      "jucruvdmr3-sagemaker-local  |         \"validation\": {\n",
      "jucruvdmr3-sagemaker-local  |             \"TrainingInputMode\": \"File\",\n",
      "jucruvdmr3-sagemaker-local  |             \"ContentType\": \"csv\"\n",
      "jucruvdmr3-sagemaker-local  |         }\n",
      "jucruvdmr3-sagemaker-local  |     },\n",
      "jucruvdmr3-sagemaker-local  |     \"input_dir\": \"/opt/ml/input\",\n",
      "jucruvdmr3-sagemaker-local  |     \"is_master\": true,\n",
      "jucruvdmr3-sagemaker-local  |     \"job_name\": \"from-idea-to-prod-training-2024-07-23-14-08-27-507\",\n",
      "jucruvdmr3-sagemaker-local  |     \"log_level\": 20,\n",
      "jucruvdmr3-sagemaker-local  |     \"master_hostname\": \"sagemaker-local\",\n",
      "jucruvdmr3-sagemaker-local  |     \"model_dir\": \"/opt/ml/model\",\n",
      "jucruvdmr3-sagemaker-local  |     \"module_dir\": \"/opt/ml/code\",\n",
      "jucruvdmr3-sagemaker-local  |     \"module_name\": \"train\",\n",
      "jucruvdmr3-sagemaker-local  |     \"network_interface_name\": \"eth0\",\n",
      "jucruvdmr3-sagemaker-local  |     \"num_cpus\": 2,\n",
      "jucruvdmr3-sagemaker-local  |     \"num_gpus\": 0,\n",
      "jucruvdmr3-sagemaker-local  |     \"output_data_dir\": \"/opt/ml/output/data\",\n",
      "jucruvdmr3-sagemaker-local  |     \"output_dir\": \"/opt/ml/output\",\n",
      "jucruvdmr3-sagemaker-local  |     \"output_intermediate_dir\": \"/opt/ml/output/intermediate\",\n",
      "jucruvdmr3-sagemaker-local  |     \"resource_config\": {\n",
      "jucruvdmr3-sagemaker-local  |         \"current_host\": \"sagemaker-local\",\n",
      "jucruvdmr3-sagemaker-local  |         \"hosts\": [\n",
      "jucruvdmr3-sagemaker-local  |             \"sagemaker-local\"\n",
      "jucruvdmr3-sagemaker-local  |         ]\n",
      "jucruvdmr3-sagemaker-local  |     },\n",
      "jucruvdmr3-sagemaker-local  |     \"user_entry_point\": \"train.py\"\n",
      "jucruvdmr3-sagemaker-local  | }\n",
      "jucruvdmr3-sagemaker-local  | \n",
      "jucruvdmr3-sagemaker-local  | Environment variables:\n",
      "jucruvdmr3-sagemaker-local  | \n",
      "jucruvdmr3-sagemaker-local  | SM_HOSTS=[\"sagemaker-local\"]\n",
      "jucruvdmr3-sagemaker-local  | SM_NETWORK_INTERFACE_NAME=eth0\n",
      "jucruvdmr3-sagemaker-local  | SM_HPS={\"alpha\":2.5,\"colsample_bytree\":0.8,\"early_stopping_rounds\":10,\"eta\":0.5,\"eval_metric\":\"auc\",\"max_depth\":3,\"min_child_weight\":3,\"num_round\":50,\"objective\":\"binary:logistic\",\"subsample\":0.8,\"verbosity\":1}\n",
      "jucruvdmr3-sagemaker-local  | SM_USER_ENTRY_POINT=train.py\n",
      "jucruvdmr3-sagemaker-local  | SM_FRAMEWORK_PARAMS={}\n",
      "jucruvdmr3-sagemaker-local  | SM_RESOURCE_CONFIG={\"current_host\":\"sagemaker-local\",\"hosts\":[\"sagemaker-local\"]}\n",
      "jucruvdmr3-sagemaker-local  | SM_INPUT_DATA_CONFIG={\"train\":{\"ContentType\":\"csv\",\"TrainingInputMode\":\"File\"},\"validation\":{\"ContentType\":\"csv\",\"TrainingInputMode\":\"File\"}}\n",
      "jucruvdmr3-sagemaker-local  | SM_OUTPUT_DATA_DIR=/opt/ml/output/data\n",
      "jucruvdmr3-sagemaker-local  | SM_CHANNELS=[\"train\",\"validation\"]\n",
      "jucruvdmr3-sagemaker-local  | SM_CURRENT_HOST=sagemaker-local\n",
      "jucruvdmr3-sagemaker-local  | SM_MODULE_NAME=train\n",
      "jucruvdmr3-sagemaker-local  | SM_LOG_LEVEL=20\n",
      "jucruvdmr3-sagemaker-local  | SM_FRAMEWORK_MODULE=sagemaker_xgboost_container.training:main\n",
      "jucruvdmr3-sagemaker-local  | SM_INPUT_DIR=/opt/ml/input\n",
      "jucruvdmr3-sagemaker-local  | SM_INPUT_CONFIG_DIR=/opt/ml/input/config\n",
      "jucruvdmr3-sagemaker-local  | SM_OUTPUT_DIR=/opt/ml/output\n",
      "jucruvdmr3-sagemaker-local  | SM_NUM_CPUS=2\n",
      "jucruvdmr3-sagemaker-local  | SM_NUM_GPUS=0\n",
      "jucruvdmr3-sagemaker-local  | SM_MODEL_DIR=/opt/ml/model\n",
      "jucruvdmr3-sagemaker-local  | SM_MODULE_DIR=/opt/ml/code\n",
      "jucruvdmr3-sagemaker-local  | SM_TRAINING_ENV={\"additional_framework_parameters\":{},\"channel_input_dirs\":{\"train\":\"/opt/ml/input/data/train\",\"validation\":\"/opt/ml/input/data/validation\"},\"current_host\":\"sagemaker-local\",\"framework_module\":\"sagemaker_xgboost_container.training:main\",\"hosts\":[\"sagemaker-local\"],\"hyperparameters\":{\"alpha\":2.5,\"colsample_bytree\":0.8,\"early_stopping_rounds\":10,\"eta\":0.5,\"eval_metric\":\"auc\",\"max_depth\":3,\"min_child_weight\":3,\"num_round\":50,\"objective\":\"binary:logistic\",\"subsample\":0.8,\"verbosity\":1},\"input_config_dir\":\"/opt/ml/input/config\",\"input_data_config\":{\"train\":{\"ContentType\":\"csv\",\"TrainingInputMode\":\"File\"},\"validation\":{\"ContentType\":\"csv\",\"TrainingInputMode\":\"File\"}},\"input_dir\":\"/opt/ml/input\",\"is_master\":true,\"job_name\":\"from-idea-to-prod-training-2024-07-23-14-08-27-507\",\"log_level\":20,\"master_hostname\":\"sagemaker-local\",\"model_dir\":\"/opt/ml/model\",\"module_dir\":\"/opt/ml/code\",\"module_name\":\"train\",\"network_interface_name\":\"eth0\",\"num_cpus\":2,\"num_gpus\":0,\"output_data_dir\":\"/opt/ml/output/data\",\"output_dir\":\"/opt/ml/output\",\"output_intermediate_dir\":\"/opt/ml/output/intermediate\",\"resource_config\":{\"current_host\":\"sagemaker-local\",\"hosts\":[\"sagemaker-local\"]},\"user_entry_point\":\"train.py\"}\n",
      "jucruvdmr3-sagemaker-local  | SM_USER_ARGS=[\"--alpha\",\"2.5\",\"--colsample_bytree\",\"0.8\",\"--early_stopping_rounds\",\"10\",\"--eta\",\"0.5\",\"--eval_metric\",\"auc\",\"--max_depth\",\"3\",\"--min_child_weight\",\"3\",\"--num_round\",\"50\",\"--objective\",\"binary:logistic\",\"--subsample\",\"0.8\",\"--verbosity\",\"1\"]\n",
      "jucruvdmr3-sagemaker-local  | SM_OUTPUT_INTERMEDIATE_DIR=/opt/ml/output/intermediate\n",
      "jucruvdmr3-sagemaker-local  | SM_CHANNEL_TRAIN=/opt/ml/input/data/train\n",
      "jucruvdmr3-sagemaker-local  | SM_CHANNEL_VALIDATION=/opt/ml/input/data/validation\n",
      "jucruvdmr3-sagemaker-local  | SM_HP_NUM_ROUND=50\n",
      "jucruvdmr3-sagemaker-local  | SM_HP_MAX_DEPTH=3\n",
      "jucruvdmr3-sagemaker-local  | SM_HP_ETA=0.5\n",
      "jucruvdmr3-sagemaker-local  | SM_HP_ALPHA=2.5\n",
      "jucruvdmr3-sagemaker-local  | SM_HP_OBJECTIVE=binary:logistic\n",
      "jucruvdmr3-sagemaker-local  | SM_HP_EVAL_METRIC=auc\n",
      "jucruvdmr3-sagemaker-local  | SM_HP_SUBSAMPLE=0.8\n",
      "jucruvdmr3-sagemaker-local  | SM_HP_COLSAMPLE_BYTREE=0.8\n",
      "jucruvdmr3-sagemaker-local  | SM_HP_MIN_CHILD_WEIGHT=3\n",
      "jucruvdmr3-sagemaker-local  | SM_HP_EARLY_STOPPING_ROUNDS=10\n",
      "jucruvdmr3-sagemaker-local  | SM_HP_VERBOSITY=1\n",
      "jucruvdmr3-sagemaker-local  | PYTHONPATH=/miniconda3/bin:/:/miniconda3/lib/python/site-packages/xgboost/dmlc-core/tracker:/miniconda3/lib/python38.zip:/miniconda3/lib/python3.8:/miniconda3/lib/python3.8/lib-dynload:/miniconda3/lib/python3.8/site-packages\n",
      "jucruvdmr3-sagemaker-local  | \n",
      "jucruvdmr3-sagemaker-local  | Invoking script with the following command:\n",
      "jucruvdmr3-sagemaker-local  | \n",
      "jucruvdmr3-sagemaker-local  | /miniconda3/bin/python3 -m train --alpha 2.5 --colsample_bytree 0.8 --early_stopping_rounds 10 --eta 0.5 --eval_metric auc --max_depth 3 --min_child_weight 3 --num_round 50 --objective binary:logistic --subsample 0.8 --verbosity 1\n",
      "jucruvdmr3-sagemaker-local  | \n",
      "jucruvdmr3-sagemaker-local  | \n",
      "jucruvdmr3-sagemaker-local  | main function\n",
      "jucruvdmr3-sagemaker-local  | [0]\ttrain-logloss:0.44387\tvalidation-logloss:0.44671\n",
      "jucruvdmr3-sagemaker-local  | [1]\ttrain-logloss:0.35789\tvalidation-logloss:0.36252\n",
      "jucruvdmr3-sagemaker-local  | [2]\ttrain-logloss:0.32255\tvalidation-logloss:0.32864\n",
      "jucruvdmr3-sagemaker-local  | [3]\ttrain-logloss:0.30619\tvalidation-logloss:0.31322\n",
      "jucruvdmr3-sagemaker-local  | [4]\ttrain-logloss:0.29760\tvalidation-logloss:0.30483\n",
      "jucruvdmr3-sagemaker-local  | [5]\ttrain-logloss:0.29343\tvalidation-logloss:0.30150\n",
      "jucruvdmr3-sagemaker-local  | [6]\ttrain-logloss:0.28994\tvalidation-logloss:0.29853\n",
      "jucruvdmr3-sagemaker-local  | [7]\ttrain-logloss:0.28793\tvalidation-logloss:0.29670\n",
      "jucruvdmr3-sagemaker-local  | [8]\ttrain-logloss:0.28620\tvalidation-logloss:0.29567\n",
      "jucruvdmr3-sagemaker-local  | [9]\ttrain-logloss:0.28522\tvalidation-logloss:0.29516\n",
      "jucruvdmr3-sagemaker-local  | [10]\ttrain-logloss:0.28427\tvalidation-logloss:0.29393\n",
      "jucruvdmr3-sagemaker-local  | [11]\ttrain-logloss:0.28353\tvalidation-logloss:0.29396\n",
      "jucruvdmr3-sagemaker-local  | [12]\ttrain-logloss:0.28299\tvalidation-logloss:0.29370\n",
      "jucruvdmr3-sagemaker-local  | [13]\ttrain-logloss:0.28253\tvalidation-logloss:0.29331\n",
      "jucruvdmr3-sagemaker-local  | [14]\ttrain-logloss:0.28215\tvalidation-logloss:0.29326\n",
      "jucruvdmr3-sagemaker-local  | [15]\ttrain-logloss:0.28176\tvalidation-logloss:0.29319\n",
      "jucruvdmr3-sagemaker-local  | [16]\ttrain-logloss:0.28156\tvalidation-logloss:0.29297\n",
      "jucruvdmr3-sagemaker-local  | [17]\ttrain-logloss:0.28127\tvalidation-logloss:0.29318\n",
      "jucruvdmr3-sagemaker-local  | [18]\ttrain-logloss:0.28028\tvalidation-logloss:0.29204\n",
      "jucruvdmr3-sagemaker-local  | [19]\ttrain-logloss:0.27996\tvalidation-logloss:0.29233\n",
      "jucruvdmr3-sagemaker-local  | [20]\ttrain-logloss:0.27957\tvalidation-logloss:0.29257\n",
      "jucruvdmr3-sagemaker-local  | [21]\ttrain-logloss:0.27938\tvalidation-logloss:0.29292\n",
      "jucruvdmr3-sagemaker-local  | [22]\ttrain-logloss:0.27894\tvalidation-logloss:0.29271\n",
      "jucruvdmr3-sagemaker-local  | [23]\ttrain-logloss:0.27882\tvalidation-logloss:0.29265\n",
      "jucruvdmr3-sagemaker-local  | [24]\ttrain-logloss:0.27860\tvalidation-logloss:0.29263\n",
      "jucruvdmr3-sagemaker-local  | [25]\ttrain-logloss:0.27806\tvalidation-logloss:0.29179\n",
      "jucruvdmr3-sagemaker-local  | [26]\ttrain-logloss:0.27794\tvalidation-logloss:0.29215\n",
      "jucruvdmr3-sagemaker-local  | [27]\ttrain-logloss:0.27774\tvalidation-logloss:0.29236\n",
      "jucruvdmr3-sagemaker-local  | [28]\ttrain-logloss:0.27714\tvalidation-logloss:0.29165\n",
      "jucruvdmr3-sagemaker-local  | [29]\ttrain-logloss:0.27698\tvalidation-logloss:0.29162\n",
      "jucruvdmr3-sagemaker-local  | [30]\ttrain-logloss:0.27676\tvalidation-logloss:0.29149\n",
      "jucruvdmr3-sagemaker-local  | [31]\ttrain-logloss:0.27656\tvalidation-logloss:0.29189\n",
      "jucruvdmr3-sagemaker-local  | [32]\ttrain-logloss:0.27636\tvalidation-logloss:0.29187\n",
      "jucruvdmr3-sagemaker-local  | [33]\ttrain-logloss:0.27618\tvalidation-logloss:0.29207\n",
      "jucruvdmr3-sagemaker-local  | [34]\ttrain-logloss:0.27596\tvalidation-logloss:0.29197\n",
      "jucruvdmr3-sagemaker-local  | [35]\ttrain-logloss:0.27573\tvalidation-logloss:0.29178\n",
      "jucruvdmr3-sagemaker-local  | [36]\ttrain-logloss:0.27540\tvalidation-logloss:0.29191\n",
      "jucruvdmr3-sagemaker-local  | [37]\ttrain-logloss:0.27525\tvalidation-logloss:0.29201\n",
      "jucruvdmr3-sagemaker-local  | [38]\ttrain-logloss:0.27490\tvalidation-logloss:0.29191\n",
      "jucruvdmr3-sagemaker-local  | [39]\ttrain-logloss:0.27476\tvalidation-logloss:0.29201\n",
      "jucruvdmr3-sagemaker-local  | [40]\ttrain-logloss:0.27444\tvalidation-logloss:0.29193\n",
      "jucruvdmr3-sagemaker-local  | [41]\ttrain-logloss:0.27423\tvalidation-logloss:0.29211\n",
      "jucruvdmr3-sagemaker-local  | [42]\ttrain-logloss:0.27416\tvalidation-logloss:0.29228\n",
      "jucruvdmr3-sagemaker-local  | [43]\ttrain-logloss:0.27395\tvalidation-logloss:0.29213\n",
      "jucruvdmr3-sagemaker-local  | [44]\ttrain-logloss:0.27377\tvalidation-logloss:0.29212\n",
      "jucruvdmr3-sagemaker-local  | [45]\ttrain-logloss:0.27360\tvalidation-logloss:0.29211\n",
      "jucruvdmr3-sagemaker-local  | [46]\ttrain-logloss:0.27335\tvalidation-logloss:0.29220\n",
      "jucruvdmr3-sagemaker-local  | [47]\ttrain-logloss:0.27313\tvalidation-logloss:0.29250\n",
      "jucruvdmr3-sagemaker-local  | [48]\ttrain-logloss:0.27281\tvalidation-logloss:0.29228\n",
      "jucruvdmr3-sagemaker-local  | [49]\ttrain-logloss:0.27261\tvalidation-logloss:0.29248\n",
      "jucruvdmr3-sagemaker-local  | 2024/07/23 14:10:35 WARNING mlflow.utils.environment: Encountered an unexpected error while inferring pip requirements (model URI: /home/model-server/tmp/tmpoxm1xc2x/model, flavor: xgboost). Fall back to return ['xgboost==1.7.4']. Set logging level to DEBUG to see the full traceback. \n",
      "jucruvdmr3-sagemaker-local  | 2024/07/23 14:10:35 WARNING mlflow.utils.autologging_utils: MLflow autologging encountered a warning: \"/miniconda3/lib/python3.8/site-packages/_distutils_hack/__init__.py:26: UserWarning: Setuptools is replacing distutils.\"\n",
      "jucruvdmr3-sagemaker-local  | [0]#011train-auc:0.7986270378851712#011validation-auc:0.7667290504425037\n",
      "jucruvdmr3-sagemaker-local  | Stored trained model at /opt/ml/model/xgboost-model\n"
     ]
    },
    {
     "name": "stderr",
     "output_type": "stream",
     "text": [
      "INFO:root:creating /home/sagemaker-user/tmp/tmp2yg9pp2g/artifacts/output/data\n",
      "INFO:root:copying /home/sagemaker-user/tmp/tmp2yg9pp2g/model/xgboost-model -> /home/sagemaker-user/tmp/tmp2yg9pp2g/artifacts/model\n",
      "INFO:sagemaker.local.image:===== Job Complete =====\n"
     ]
    },
    {
     "name": "stdout",
     "output_type": "stream",
     "text": [
      "\u001b[Kjucruvdmr3-sagemaker-local exited with code 0\n",
      "Aborting on container exit...\n",
      " Container jucruvdmr3-sagemaker-local  Stopping\n",
      " Container jucruvdmr3-sagemaker-local  Stopped\n"
     ]
    }
   ],
   "source": [
    "xgb_script_mode_local.fit(\n",
    "    training_inputs,\n",
    "    wait=True,\n",
    "    logs=True,\n",
    ")"
   ]
  },
  {
   "cell_type": "markdown",
   "id": "69bdacd1-dfcf-48e6-8391-e9f1f1e53b44",
   "metadata": {},
   "source": [
    "After training is done, you can see results, metrics, and the model in the MLflow experiment. Let's construct a link to the corresponding MLflow experiment and run."
   ]
  },
  {
   "cell_type": "code",
   "execution_count": 43,
   "id": "c328b5b6-6177-4926-ac19-77d6471f073c",
   "metadata": {},
   "outputs": [],
   "source": [
    "# get the last run in MLflow\n",
    "last_run_id = mlflow.search_runs(\n",
    "    experiment_ids=[mlflow.get_experiment_by_name(experiment_name).experiment_id], \n",
    "    max_results=1, \n",
    "    order_by=[\"attributes.start_time DESC\"]\n",
    ")['run_id'][0]\n",
    "\n",
    "# get the presigned url to open the MLflow UI\n",
    "presigned_url = sm.create_presigned_mlflow_tracking_server_url(\n",
    "    TrackingServerName=mlflow_name,\n",
    "    ExpiresInSeconds=60,\n",
    "    SessionExpirationDurationInSeconds=1800\n",
    ")['AuthorizedUrl']\n",
    "\n",
    "mlflow_run_link = f\"{presigned_url.split('/auth')[0]}/#/experiments/1/runs/{last_run_id}\""
   ]
  },
  {
   "cell_type": "code",
   "execution_count": 44,
   "id": "3bbd4869-b0a9-4c1b-acba-5c623eebf517",
   "metadata": {},
   "outputs": [
    {
     "data": {
      "application/javascript": [
       "window.open(\"https://t-dcdj2fb0e5br.us-east-1.experiments.sagemaker.aws/auth?authToken=eyJhbGciOiJIUzI1NiJ9.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.F0xZCA1u05r16bSWdP_NX6riv3YhEOgIOrVXhR-Sj0M\");"
      ],
      "text/plain": [
       "<IPython.core.display.Javascript object>"
      ]
     },
     "metadata": {},
     "output_type": "display_data"
    }
   ],
   "source": [
    "from IPython.display import Javascript\n",
    "\n",
    "# first open the MLflow UI - you can close a new opened window\n",
    "display(Javascript('window.open(\"{}\");'.format(presigned_url)))"
   ]
  },
  {
   "cell_type": "code",
   "execution_count": 45,
   "id": "46dde6fb-b9d6-4152-9344-83ff4c204e9a",
   "metadata": {},
   "outputs": [
    {
     "data": {
      "application/javascript": [
       "window.open(\"https://t-dcdj2fb0e5br.us-east-1.experiments.sagemaker.aws/#/experiments/1/runs/bbe10c9f9268481cad20fac299144f20\");"
      ],
      "text/plain": [
       "<IPython.core.display.Javascript object>"
      ]
     },
     "metadata": {},
     "output_type": "display_data"
    }
   ],
   "source": [
    "# second open the run page in the MLflow UI\n",
    "display(Javascript('window.open(\"{}\");'.format(mlflow_run_link)))"
   ]
  },
  {
   "cell_type": "markdown",
   "id": "8a36532f-6634-4693-b71e-79fd6934a45c",
   "metadata": {},
   "source": [
    "### Run training as a SageMaker training job\n",
    "Use the same code to run the training script remotely on SageMaker managed infrastructure. Remove the `LocalSession` and change the `instance_type` from `local` to a desired compute instance."
   ]
  },
  {
   "cell_type": "code",
   "execution_count": 46,
   "id": "8296c20a-8756-49d6-82a9-8bb9efa48604",
   "metadata": {},
   "outputs": [
    {
     "name": "stderr",
     "output_type": "stream",
     "text": [
      "INFO:sagemaker.image_uris:Ignoring unnecessary Python version: py3.\n",
      "INFO:sagemaker.image_uris:Ignoring unnecessary instance type: ml.m5.xlarge.\n"
     ]
    }
   ],
   "source": [
    "xgb_script_mode_managed = XGBoost(\n",
    "    entry_point='train.py',\n",
    "    source_dir='./training',\n",
    "    framework_version=\"1.7-1\",  \n",
    "    hyperparameters=hyperparams,\n",
    "    role=sm_role,\n",
    "    instance_count=train_instance_count,\n",
    "    instance_type=train_instance_type,\n",
    "    output_path=output_s3_url,\n",
    "    base_job_name=\"from-idea-to-prod-training\",\n",
    "    environment=env_variables,\n",
    ")"
   ]
  },
  {
   "cell_type": "markdown",
   "id": "6bb10f5c-77e4-48ed-b98e-eb17e018592d",
   "metadata": {},
   "source": [
    "<img src=\"data:image/svg+xml;base64,Cjxzdmcgd2lkdGg9IjgwMCIgaGVpZ2h0PSIxMjUiIHZpZXdCb3g9IjAgMCA4MDAgMTI1IiB4bWxucz0iaHR0cDovL3d3dy53My5vcmcvMjAwMC9zdmciPgogICAgPGRlZnM+CiAgICAgICAgPGxpbmVhckdyYWRpZW50IGlkPSJmYWRlR3JhZGllbnQiIHgxPSIwIiB4Mj0iMSI+CiAgICAgICAgICAgIDxzdG9wIG9mZnNldD0iMCUiIHN0b3AtY29sb3I9IiNGMEYwRjAiLz4KICAgICAgICAgICAgPHN0b3Agb2Zmc2V0PSIxMDAlIiBzdG9wLWNvbG9yPSIjRjBGMEYwIiBzdG9wLW9wYWNpdHk9IjAiLz4KICAgICAgICA8L2xpbmVhckdyYWRpZW50PgogICAgICAgIDxtYXNrIGlkPSJmYWRlTWFzayI+CiAgICAgICAgICAgIDxyZWN0IHg9IjAiIHk9IjAiIHdpZHRoPSI3NTAiIGhlaWdodD0iMTI1IiBmaWxsPSJ3aGl0ZSIvPgogICAgICAgICAgICA8cmVjdCB4PSI3NTAiIHk9IjAiIHdpZHRoPSI1MCIgaGVpZ2h0PSIxMjUiIGZpbGw9InVybCgjZmFkZUdyYWRpZW50KSIvPgogICAgICAgIDwvbWFzaz4KICAgIDwvZGVmcz4KICAgIDxwYXRoIGQ9Ik0zLDUwIEE1MCw1MCAwIDAgMSA1MywzIEw3OTcsMyBMNzk3LDk3IEw5Nyw5NyBMNTAsMTE1IEwzLDk3IFoiIGZpbGw9IiNGMEYwRjAiIHN0cm9rZT0iI0UwRTBFMCIgc3Ryb2tlLXdpZHRoPSIxIiBtYXNrPSJ1cmwoI2ZhZGVNYXNrKSIvPgogICAgPGNpcmNsZSBjeD0iNTAiIGN5PSI1MCIgcj0iMzAiIGZpbGw9IiM1N2M0ZjgiIHN0cm9rZT0iIzU3YzRmOCIgc3Ryb2tlLXdpZHRoPSIxIi8+CiAgICA8Y2lyY2xlIGN4PSI1MCIgY3k9IjUwIiByPSIyNSIgZmlsbD0iI0YwRjBGMCIvPgogICAgPGxpbmUgeDE9IjUwIiB5MT0iNTAiIHgyPSI1MCIgeTI9IjMwIiBzdHJva2U9IiM1N2M0ZjgiIHN0cm9rZS13aWR0aD0iMyIgc3Ryb2tlLWxpbmVjYXA9InJvdW5kIi8+CiAgICA8bGluZSB4MT0iNTAiIHkxPSI1MCIgeDI9IjY1IiB5Mj0iNTAiIHN0cm9rZT0iIzU3YzRmOCIgc3Ryb2tlLXdpZHRoPSIzIiBzdHJva2UtbGluZWNhcD0icm91bmQiLz4KICAgIDx0ZXh0IHg9IjEwMCIgeT0iMzQiIGZvbnQtZmFtaWx5PSJBcmlhbCwgc2Fucy1zZXJpZiIgZm9udC1zaXplPSIxNCIgZmlsbD0iIzMzMzMzMyI+VGhlIG5leHQgY2VsbCBtYXkgdGFrZSBhIGZldyBtaW51dGVzIHRvIHJ1bi48L3RleHQ+Cjwvc3ZnPgo=\" alt=\"Time alert open medium\"/>"
   ]
  },
  {
   "cell_type": "code",
   "execution_count": 47,
   "id": "b01160c9-5168-4775-af31-58d73f4d5a01",
   "metadata": {},
   "outputs": [
    {
     "name": "stderr",
     "output_type": "stream",
     "text": [
      "INFO:sagemaker:Creating training-job with name: from-idea-to-prod-training-2024-07-23-14-11-48-394\n"
     ]
    },
    {
     "name": "stdout",
     "output_type": "stream",
     "text": [
      "\n",
      "2024-07-23 14:11:49 Starting - Starting the training job...\n",
      "2024-07-23 14:12:11 Starting - Preparing the instances for training....\n",
      "2024-07-23 14:12:39 Downloading - Downloading input data......\n",
      "2024-07-23 14:13:14 Downloading - Downloading the training image.......\n",
      "2024-07-23 14:13:55 Training - Training image download completed. Training in progress......\n",
      "2024-07-23 14:14:25 Uploading - Uploading generated training model..\n",
      "2024-07-23 14:14:39 Completed - Training job completed\n"
     ]
    }
   ],
   "source": [
    "xgb_script_mode_managed.fit(\n",
    "    training_inputs,\n",
    "    wait=True,\n",
    "    logs=False,\n",
    ")"
   ]
  },
  {
   "cell_type": "markdown",
   "id": "ba82c386-2793-4742-9327-a1dc571c6537",
   "metadata": {},
   "source": [
    "<img src=\"data:image/svg+xml;base64,Cjxzdmcgd2lkdGg9IjgwMCIgaGVpZ2h0PSI1MCIgdmlld0JveD0iMCAwIDgwMCA1MCIgeG1sbnM9Imh0dHA6Ly93d3cudzMub3JnLzIwMDAvc3ZnIj4KICAgIDxkZWZzPgogICAgICAgIDxsaW5lYXJHcmFkaWVudCBpZD0iZmFkZUdyYWRpZW50IiB4MT0iMCIgeDI9IjEiPgogICAgICAgICAgICA8c3RvcCBvZmZzZXQ9IjAlIiBzdG9wLWNvbG9yPSIjRjBGMEYwIi8+CiAgICAgICAgICAgIDxzdG9wIG9mZnNldD0iMTAwJSIgc3RvcC1jb2xvcj0iI0YwRjBGMCIgc3RvcC1vcGFjaXR5PSIwIi8+CiAgICAgICAgPC9saW5lYXJHcmFkaWVudD4KICAgICAgICA8bWFzayBpZD0iZmFkZU1hc2siPgogICAgICAgICAgICA8cmVjdCB4PSIwIiB5PSIwIiB3aWR0aD0iNzUwIiBoZWlnaHQ9IjUwIiBmaWxsPSJ3aGl0ZSIvPgogICAgICAgICAgICA8cmVjdCB4PSI3NTAiIHk9IjAiIHdpZHRoPSI1MCIgaGVpZ2h0PSI1MCIgZmlsbD0idXJsKCNmYWRlR3JhZGllbnQpIi8+CiAgICAgICAgPC9tYXNrPgogICAgPC9kZWZzPgogICAgPHBhdGggZD0iTTI1LDUwIFEwLDUwIDAsMjUgTDUwLDMgTDk3LDI1IEw3OTcsMjUgTDc5Nyw1MCBMMjUsNTAgWiIgZmlsbD0iI0YwRjBGMCIgc3Ryb2tlPSIjRTBFMEUwIiBzdHJva2Utd2lkdGg9IjEiIG1hc2s9InVybCgjZmFkZU1hc2spIi8+Cjwvc3ZnPgo=\" alt=\"Time alert close\"/>"
   ]
  },
  {
   "cell_type": "code",
   "execution_count": 48,
   "id": "b9289440-fa13-4bfd-a2e4-8756a37c6329",
   "metadata": {},
   "outputs": [
    {
     "name": "stderr",
     "output_type": "stream",
     "text": [
      "WARNING:sagemaker.analytics:Warning: No metrics called train:mae found\n",
      "WARNING:sagemaker.analytics:Warning: No metrics called validation:aucpr found\n",
      "WARNING:sagemaker.analytics:Warning: No metrics called validation:f1_binary found\n",
      "WARNING:sagemaker.analytics:Warning: No metrics called train:merror found\n",
      "WARNING:sagemaker.analytics:Warning: No metrics called train:gamma-nloglik found\n",
      "WARNING:sagemaker.analytics:Warning: No metrics called validation:mae found\n",
      "WARNING:sagemaker.analytics:Warning: No metrics called train:mlogloss found\n",
      "WARNING:sagemaker.analytics:Warning: No metrics called train:cox-nloglik found\n",
      "WARNING:sagemaker.analytics:Warning: No metrics called validation:f1 found\n",
      "WARNING:sagemaker.analytics:Warning: No metrics called validation:cox-nloglik found\n",
      "WARNING:sagemaker.analytics:Warning: No metrics called train:accuracy found\n",
      "WARNING:sagemaker.analytics:Warning: No metrics called train:mse found\n",
      "WARNING:sagemaker.analytics:Warning: No metrics called validation:poisson-nloglik found\n",
      "WARNING:sagemaker.analytics:Warning: No metrics called train:tweedie-nloglik found\n",
      "WARNING:sagemaker.analytics:Warning: No metrics called train:error found\n",
      "WARNING:sagemaker.analytics:Warning: No metrics called train:ndcg found\n",
      "WARNING:sagemaker.analytics:Warning: No metrics called validation:map found\n",
      "WARNING:sagemaker.analytics:Warning: No metrics called train:f1_binary found\n",
      "WARNING:sagemaker.analytics:Warning: No metrics called validation:gamma-deviance found\n",
      "WARNING:sagemaker.analytics:Warning: No metrics called validation:error found\n",
      "WARNING:sagemaker.analytics:Warning: No metrics called validation:merror found\n",
      "WARNING:sagemaker.analytics:Warning: No metrics called train:poisson-nloglik found\n",
      "WARNING:sagemaker.analytics:Warning: No metrics called train:rmse found\n",
      "WARNING:sagemaker.analytics:Warning: No metrics called validation:accuracy found\n",
      "WARNING:sagemaker.analytics:Warning: No metrics called train:aucpr found\n",
      "WARNING:sagemaker.analytics:Warning: No metrics called validation:tweedie-nloglik found\n",
      "WARNING:sagemaker.analytics:Warning: No metrics called validation:rmse found\n",
      "WARNING:sagemaker.analytics:Warning: No metrics called train:gamma-deviance found\n",
      "WARNING:sagemaker.analytics:Warning: No metrics called validation:mse found\n",
      "WARNING:sagemaker.analytics:Warning: No metrics called validation:ndcg found\n",
      "WARNING:sagemaker.analytics:Warning: No metrics called train:f1 found\n",
      "WARNING:sagemaker.analytics:Warning: No metrics called validation:r2 found\n",
      "WARNING:sagemaker.analytics:Warning: No metrics called validation:mlogloss found\n",
      "WARNING:sagemaker.analytics:Warning: No metrics called train:map found\n",
      "WARNING:sagemaker.analytics:Warning: No metrics called validation:gamma-nloglik found\n"
     ]
    },
    {
     "data": {
      "text/html": [
       "<div>\n",
       "<style scoped>\n",
       "    .dataframe tbody tr th:only-of-type {\n",
       "        vertical-align: middle;\n",
       "    }\n",
       "\n",
       "    .dataframe tbody tr th {\n",
       "        vertical-align: top;\n",
       "    }\n",
       "\n",
       "    .dataframe thead th {\n",
       "        text-align: right;\n",
       "    }\n",
       "</style>\n",
       "<table border=\"1\" class=\"dataframe\">\n",
       "  <thead>\n",
       "    <tr style=\"text-align: right;\">\n",
       "      <th></th>\n",
       "      <th>timestamp</th>\n",
       "      <th>metric_name</th>\n",
       "      <th>value</th>\n",
       "    </tr>\n",
       "  </thead>\n",
       "  <tbody>\n",
       "    <tr>\n",
       "      <th>0</th>\n",
       "      <td>0.0</td>\n",
       "      <td>validation:logloss</td>\n",
       "      <td>0.292480</td>\n",
       "    </tr>\n",
       "    <tr>\n",
       "      <th>1</th>\n",
       "      <td>0.0</td>\n",
       "      <td>validation:auc</td>\n",
       "      <td>0.766729</td>\n",
       "    </tr>\n",
       "    <tr>\n",
       "      <th>2</th>\n",
       "      <td>0.0</td>\n",
       "      <td>train:auc</td>\n",
       "      <td>0.798627</td>\n",
       "    </tr>\n",
       "    <tr>\n",
       "      <th>3</th>\n",
       "      <td>0.0</td>\n",
       "      <td>train:logloss</td>\n",
       "      <td>0.272610</td>\n",
       "    </tr>\n",
       "  </tbody>\n",
       "</table>\n",
       "</div>"
      ],
      "text/plain": [
       "   timestamp         metric_name     value\n",
       "0        0.0  validation:logloss  0.292480\n",
       "1        0.0      validation:auc  0.766729\n",
       "2        0.0           train:auc  0.798627\n",
       "3        0.0       train:logloss  0.272610"
      ]
     },
     "execution_count": 48,
     "metadata": {},
     "output_type": "execute_result"
    }
   ],
   "source": [
    "# Collect the emitted metrics from the log stream\n",
    "xgb_script_mode_managed.training_job_analytics.dataframe()"
   ]
  },
  {
   "cell_type": "markdown",
   "id": "2c22bca8-2bfe-4735-87ba-334e994f5ee7",
   "metadata": {},
   "source": [
    "You can see all job details in the SageMaker console:"
   ]
  },
  {
   "cell_type": "code",
   "execution_count": 50,
   "id": "d397d128-7273-4d3b-98fe-ed79210e0d60",
   "metadata": {},
   "outputs": [
    {
     "data": {
      "text/html": [
       "<b>See the SageMaker <a target=\"top\" href=\"https://us-east-1.console.aws.amazon.com/sagemaker/home?region=us-east-1#/jobs/from-idea-to-prod-training-2024-07-23-14-11-48-394\">training job</a></b>"
      ],
      "text/plain": [
       "<IPython.core.display.HTML object>"
      ]
     },
     "metadata": {},
     "output_type": "display_data"
    }
   ],
   "source": [
    "from IPython.display import HTML\n",
    "\n",
    "# Show the training job link\n",
    "display(\n",
    "    HTML('<b>See the SageMaker <a target=\"top\" href=\"https://{}.console.aws.amazon.com/sagemaker/home?region={}#/jobs/{}\">training job</a></b>'.format(\n",
    "            region, region, xgb_script_mode_managed.latest_training_job.name))\n",
    ")"
   ]
  },
  {
   "cell_type": "markdown",
   "id": "cee49eb6-f42c-47d2-9738-01da2f2c7669",
   "metadata": {},
   "source": [
    "Click on the link ^^^ above ^^^ to open the SageMaker console with the training job details."
   ]
  },
  {
   "cell_type": "markdown",
   "id": "8c6d7df7-fec8-474b-a111-1f5ced4d53c6",
   "metadata": {},
   "source": [
    "### Register the model in the MLflow model registry\n",
    "Now register the trained model in the MLflow model registry. The model is also automatically registered in the SageMaker model registry."
   ]
  },
  {
   "cell_type": "code",
   "execution_count": 51,
   "id": "a1d1343b-d6b3-4012-96a0-6636c81ef02e",
   "metadata": {},
   "outputs": [
    {
     "name": "stderr",
     "output_type": "stream",
     "text": [
      "Successfully registered model 'from-idea-to-prod-job-model-23-13-44-39'.\n",
      "2024/07/23 14:16:27 INFO mlflow.store.model_registry.abstract_store: Waiting up to 300 seconds for model version to finish creation. Model name: from-idea-to-prod-job-model-23-13-44-39, version 1\n",
      "Created version '1' of model 'from-idea-to-prod-job-model-23-13-44-39'.\n"
     ]
    }
   ],
   "source": [
    "# get the last run in MLflow\n",
    "last_run_id = mlflow.search_runs(\n",
    "    experiment_ids=[mlflow.get_experiment_by_name(experiment_name).experiment_id], \n",
    "    max_results=1, \n",
    "    order_by=[\"attributes.start_time DESC\"]\n",
    ")['run_id'][0]\n",
    "\n",
    "# construct the model URI\n",
    "model_uri = f\"runs:/{last_run_id}/model\"\n",
    "\n",
    "# register the model\n",
    "registered_model_version = mlflow.register_model(model_uri, registered_model_name)"
   ]
  },
  {
   "cell_type": "markdown",
   "id": "00f495df-8985-4d11-ae67-1fa82382afe0",
   "metadata": {},
   "source": [
    "You can also see the model metrics from the MLflow registered model:"
   ]
  },
  {
   "cell_type": "code",
   "execution_count": 52,
   "id": "85df1eba-5cdb-4875-a909-5a9c33a122c7",
   "metadata": {},
   "outputs": [
    {
     "data": {
      "text/plain": [
       "{'train-logloss': 0.27260887596264183,\n",
       " 'validation-logloss': 0.292477089757779,\n",
       " 'validation_auc': 0.7667290504425037,\n",
       " 'train_auc': 0.7986270378851712}"
      ]
     },
     "execution_count": 52,
     "metadata": {},
     "output_type": "execute_result"
    }
   ],
   "source": [
    "mlflow.get_run(registered_model_version.run_id).data.metrics"
   ]
  },
  {
   "cell_type": "markdown",
   "id": "fc870dab-1d90-4855-b1c7-4c58cff64a43",
   "metadata": {},
   "source": [
    "### Train with SageMaker built-in algorithms\n",
    "Instead of developing your own script, you can use one of the SageMaker [build-in algorithms](https://docs.aws.amazon.com/sagemaker/latest/dg/algos.html). In this section you're going to use the [XGBoost](https://docs.aws.amazon.com/sagemaker/latest/dg/xgboost.html) algorithm. You don't need to provide your own training script. You only need to instantiate an [Estimator](https://sagemaker.readthedocs.io/en/stable/api/training/estimators.html) object, set algorithm's [hyperparameters](https://docs.aws.amazon.com/sagemaker/latest/dg/xgboost_hyperparameters.html), and call `fit()` method of the estimator."
   ]
  },
  {
   "cell_type": "code",
   "execution_count": 53,
   "id": "dfbeec6d-419d-4d88-a3f6-194440dd0124",
   "metadata": {
    "tags": []
   },
   "outputs": [
    {
     "name": "stderr",
     "output_type": "stream",
     "text": [
      "INFO:sagemaker.image_uris:Ignoring unnecessary instance type: None.\n"
     ]
    },
    {
     "name": "stdout",
     "output_type": "stream",
     "text": [
      "683313688378.dkr.ecr.us-east-1.amazonaws.com/sagemaker-xgboost:1.7-1\n"
     ]
    }
   ],
   "source": [
    "# get training container uri\n",
    "training_image = sagemaker.image_uris.retrieve(\"xgboost\", region=region, version=\"1.7-1\")\n",
    "\n",
    "print(training_image)"
   ]
  },
  {
   "cell_type": "code",
   "execution_count": 54,
   "id": "db1a89cc-c841-4e5d-99b3-d4fe5b6435cc",
   "metadata": {
    "tags": []
   },
   "outputs": [],
   "source": [
    "# Instantiate an XGBoost estimator object\n",
    "estimator = sagemaker.estimator.Estimator(\n",
    "    image_uri=training_image,  # XGBoost algorithm container\n",
    "    instance_type=train_instance_type,  # type of training instance\n",
    "    instance_count=train_instance_count,  # number of instances to be used\n",
    "    role=sm_role,  # IAM execution role to be used\n",
    "    max_run=20 * 60,  # Maximum allowed active runtime\n",
    "    # use_spot_instances=True,  # Use spot instances to reduce cost\n",
    "    # max_wait=30 * 60,  # Maximum clock time (including spot delays)\n",
    "    output_path=output_s3_url, # S3 location for saving the training result\n",
    "    sagemaker_session=session, # Session object which manages interactions with SageMaker API and AWS services\n",
    "    base_job_name=\"from-idea-to-prod-training\", # Prefix for training job name\n",
    ")\n",
    "\n",
    "# define its hyperparameters\n",
    "estimator.set_hyperparameters(\n",
    "    num_round=50, # the number of rounds to run the training\n",
    "    max_depth=3, # maximum depth of a tree\n",
    "    eta=0.5, # step size shrinkage used in updates to prevent overfitting\n",
    "    alpha=2.5, # L1 regularization term on weights\n",
    "    objective=\"binary:logistic\",\n",
    "    eval_metric=\"auc\", # evaluation metrics for validation data\n",
    "    subsample=0.8, # subsample ratio of the training instance\n",
    "    colsample_bytree=0.8, # subsample ratio of columns when constructing each tree\n",
    "    min_child_weight=3, # minimum sum of instance weight (hessian) needed in a child\n",
    "    early_stopping_rounds=10, # the model trains until the validation score stops improving\n",
    "    verbosity=1, # verbosity of printing messages\n",
    ")"
   ]
  },
  {
   "cell_type": "code",
   "execution_count": 55,
   "id": "c8ee39d9-70d8-4f97-b749-9cc5b09e70c8",
   "metadata": {},
   "outputs": [
    {
     "data": {
      "text/plain": [
       "{'num_round': 50,\n",
       " 'max_depth': 3,\n",
       " 'eta': 0.5,\n",
       " 'alpha': 2.5,\n",
       " 'objective': 'binary:logistic',\n",
       " 'eval_metric': 'auc',\n",
       " 'subsample': 0.8,\n",
       " 'colsample_bytree': 0.8,\n",
       " 'min_child_weight': 3,\n",
       " 'early_stopping_rounds': 10,\n",
       " 'verbosity': 1}"
      ]
     },
     "execution_count": 55,
     "metadata": {},
     "output_type": "execute_result"
    }
   ],
   "source": [
    "estimator.hyperparameters()"
   ]
  },
  {
   "cell_type": "code",
   "execution_count": 56,
   "id": "5f7886c8-7bdd-4659-b045-8fac4b2755e1",
   "metadata": {},
   "outputs": [],
   "source": [
    "# helper function to load XGBoost model into xgboost.Booster\n",
    "def load_model(model_data_s3_uri):\n",
    "    import xgboost as xgb\n",
    "    import tarfile\n",
    "    import pickle as pkl\n",
    "\n",
    "    model_file = \"./xgboost-model.tar.gz\"\n",
    "    bucket, key = model_data_s3_uri.replace(\"s3://\", \"\").split(\"/\", 1)\n",
    "    boto3.client(\"s3\").download_file(bucket, key, model_file)\n",
    "    \n",
    "    with tarfile.open(model_file, \"r:gz\") as t:\n",
    "        t.extractall(path=\".\")\n",
    "    \n",
    "    # Load model\n",
    "    model = xgb.Booster()\n",
    "    model.load_model(\"xgboost-model\")\n",
    "\n",
    "    return model"
   ]
  },
  {
   "cell_type": "markdown",
   "id": "a3022218-4f87-4e59-8f58-9bab2a44bb96",
   "metadata": {},
   "source": [
    "Run the training:"
   ]
  },
  {
   "cell_type": "markdown",
   "id": "2ca5a53b",
   "metadata": {},
   "source": [
    "<img src=\"data:image/svg+xml;base64,Cjxzdmcgd2lkdGg9IjgwMCIgaGVpZ2h0PSIxMjUiIHZpZXdCb3g9IjAgMCA4MDAgMTI1IiB4bWxucz0iaHR0cDovL3d3dy53My5vcmcvMjAwMC9zdmciPgogICAgPGRlZnM+CiAgICAgICAgPGxpbmVhckdyYWRpZW50IGlkPSJmYWRlR3JhZGllbnQiIHgxPSIwIiB4Mj0iMSI+CiAgICAgICAgICAgIDxzdG9wIG9mZnNldD0iMCUiIHN0b3AtY29sb3I9IiNGMEYwRjAiLz4KICAgICAgICAgICAgPHN0b3Agb2Zmc2V0PSIxMDAlIiBzdG9wLWNvbG9yPSIjRjBGMEYwIiBzdG9wLW9wYWNpdHk9IjAiLz4KICAgICAgICA8L2xpbmVhckdyYWRpZW50PgogICAgICAgIDxtYXNrIGlkPSJmYWRlTWFzayI+CiAgICAgICAgICAgIDxyZWN0IHg9IjAiIHk9IjAiIHdpZHRoPSI3NTAiIGhlaWdodD0iMTI1IiBmaWxsPSJ3aGl0ZSIvPgogICAgICAgICAgICA8cmVjdCB4PSI3NTAiIHk9IjAiIHdpZHRoPSI1MCIgaGVpZ2h0PSIxMjUiIGZpbGw9InVybCgjZmFkZUdyYWRpZW50KSIvPgogICAgICAgIDwvbWFzaz4KICAgIDwvZGVmcz4KICAgIDxwYXRoIGQ9Ik0zLDUwIEE1MCw1MCAwIDAgMSA1MywzIEw3OTcsMyBMNzk3LDk3IEw5Nyw5NyBMNTAsMTE1IEwzLDk3IFoiIGZpbGw9IiNGMEYwRjAiIHN0cm9rZT0iI0UwRTBFMCIgc3Ryb2tlLXdpZHRoPSIxIiBtYXNrPSJ1cmwoI2ZhZGVNYXNrKSIvPgogICAgPGNpcmNsZSBjeD0iNTAiIGN5PSI1MCIgcj0iMzAiIGZpbGw9IiM1N2M0ZjgiIHN0cm9rZT0iIzU3YzRmOCIgc3Ryb2tlLXdpZHRoPSIxIi8+CiAgICA8Y2lyY2xlIGN4PSI1MCIgY3k9IjUwIiByPSIyNSIgZmlsbD0iI0YwRjBGMCIvPgogICAgPGxpbmUgeDE9IjUwIiB5MT0iNTAiIHgyPSI1MCIgeTI9IjMwIiBzdHJva2U9IiM1N2M0ZjgiIHN0cm9rZS13aWR0aD0iMyIgc3Ryb2tlLWxpbmVjYXA9InJvdW5kIi8+CiAgICA8bGluZSB4MT0iNTAiIHkxPSI1MCIgeDI9IjY1IiB5Mj0iNTAiIHN0cm9rZT0iIzU3YzRmOCIgc3Ryb2tlLXdpZHRoPSIzIiBzdHJva2UtbGluZWNhcD0icm91bmQiLz4KICAgIDx0ZXh0IHg9IjEwMCIgeT0iMzQiIGZvbnQtZmFtaWx5PSJBcmlhbCwgc2Fucy1zZXJpZiIgZm9udC1zaXplPSIxNCIgZmlsbD0iIzMzMzMzMyI+VGhlIG5leHQgY2VsbCBtYXkgdGFrZSBhIGZldyBtaW51dGVzIHRvIHJ1bi48L3RleHQ+Cjwvc3ZnPgo=\" alt=\"Time alert open medium\"/>"
   ]
  },
  {
   "cell_type": "code",
   "execution_count": 57,
   "id": "287da7a9-c0ca-479e-8677-24176d91f95f",
   "metadata": {
    "tags": []
   },
   "outputs": [
    {
     "name": "stderr",
     "output_type": "stream",
     "text": [
      "INFO:sagemaker:Creating training-job with name: from-idea-to-prod-training-2024-07-23-14-16-44-284\n"
     ]
    },
    {
     "name": "stdout",
     "output_type": "stream",
     "text": [
      "\n",
      "2024-07-23 14:16:46 Starting - Starting the training job..\n",
      "2024-07-23 14:17:01 Starting - Preparing the instances for training.....\n",
      "2024-07-23 14:17:32 Downloading - Downloading input data....\n",
      "2024-07-23 14:17:58 Downloading - Downloading the training image.........\n",
      "2024-07-23 14:18:49 Training - Training image download completed. Training in progress...\n",
      "2024-07-23 14:19:04 Uploading - Uploading generated training model..\n",
      "2024-07-23 14:19:18 Completed - Training job completed\n"
     ]
    },
    {
     "name": "stderr",
     "output_type": "stream",
     "text": [
      "WARNING:sagemaker.analytics:Warning: No metrics called train:mae found\n",
      "WARNING:sagemaker.analytics:Warning: No metrics called validation:aucpr found\n",
      "WARNING:sagemaker.analytics:Warning: No metrics called validation:f1_binary found\n",
      "WARNING:sagemaker.analytics:Warning: No metrics called validation:mae found\n",
      "WARNING:sagemaker.analytics:Warning: No metrics called validation:logloss found\n",
      "WARNING:sagemaker.analytics:Warning: No metrics called validation:f1 found\n",
      "WARNING:sagemaker.analytics:Warning: No metrics called train:accuracy found\n",
      "WARNING:sagemaker.analytics:Warning: No metrics called train:mse found\n",
      "WARNING:sagemaker.analytics:Warning: No metrics called validation:recall found\n",
      "WARNING:sagemaker.analytics:Warning: No metrics called validation:poisson-nloglik found\n",
      "WARNING:sagemaker.analytics:Warning: No metrics called validation:precision found\n",
      "WARNING:sagemaker.analytics:Warning: No metrics called train:error found\n",
      "WARNING:sagemaker.analytics:Warning: No metrics called train:ndcg found\n",
      "WARNING:sagemaker.analytics:Warning: No metrics called validation:map found\n",
      "WARNING:sagemaker.analytics:Warning: No metrics called train:f1_binary found\n",
      "WARNING:sagemaker.analytics:Warning: No metrics called validation:error found\n",
      "WARNING:sagemaker.analytics:Warning: No metrics called train:poisson-nloglik found\n",
      "WARNING:sagemaker.analytics:Warning: No metrics called train:rmse found\n",
      "WARNING:sagemaker.analytics:Warning: No metrics called train:logloss found\n",
      "WARNING:sagemaker.analytics:Warning: No metrics called validation:accuracy found\n",
      "WARNING:sagemaker.analytics:Warning: No metrics called train:aucpr found\n",
      "WARNING:sagemaker.analytics:Warning: No metrics called validation:balanced_accuracy found\n",
      "WARNING:sagemaker.analytics:Warning: No metrics called validation:rmse found\n",
      "WARNING:sagemaker.analytics:Warning: No metrics called validation:mse found\n",
      "WARNING:sagemaker.analytics:Warning: No metrics called validation:ndcg found\n",
      "WARNING:sagemaker.analytics:Warning: No metrics called train:f1 found\n",
      "WARNING:sagemaker.analytics:Warning: No metrics called train:map found\n",
      "2024/07/23 14:19:23 INFO mlflow.tracking.fluent: Autologging successfully enabled for xgboost.\n",
      "2024/07/23 14:19:32 WARNING mlflow.utils.environment: Encountered an unexpected error while inferring pip requirements (model URI: /tmp/tmp4ie3_0lr/model, flavor: xgboost). Fall back to return ['xgboost==1.7.6']. Set logging level to DEBUG to see the full traceback. \n",
      "/opt/conda/lib/python3.10/site-packages/_distutils_hack/__init__.py:26: UserWarning: Setuptools is replacing distutils.\n",
      "  warnings.warn(\"Setuptools is replacing distutils.\")\n"
     ]
    }
   ],
   "source": [
    "mlflow.set_experiment(experiment_name=experiment_name)\n",
    "with mlflow.start_run(\n",
    "    run_name=f\"container-training-{strftime('%d-%H-%M-%S', gmtime())}\",\n",
    "    description=\"training in the notebook 02 with a training job\") as run:\n",
    "    mlflow.log_params(estimator.hyperparameters())\n",
    "        \n",
    "    estimator.fit(\n",
    "        training_inputs,\n",
    "        wait=True,\n",
    "        logs=False,\n",
    "    ) \n",
    "    \n",
    "    mlflow.set_tags(\n",
    "        {\n",
    "            'mlflow.user':user_profile_name,\n",
    "            'mlflow.source.name':f'https://{region}.console.aws.amazon.com/sagemaker/home?region={region}#/jobs/{estimator.latest_training_job.name}',\n",
    "            'mlflow.source.type':'JOB'\n",
    "        }\n",
    "    )\n",
    "    mlflow.log_param(\"training job name\", estimator.latest_training_job.name)\n",
    "    mlflow.log_metrics({i['metric_name'].replace(':', '_'):i['value'] for i in estimator.training_job_analytics.dataframe().iloc})\n",
    "    mlflow.xgboost.log_model(load_model(estimator.model_data), artifact_path=\"model\")"
   ]
  },
  {
   "cell_type": "markdown",
   "id": "acf59a4c",
   "metadata": {},
   "source": [
    "<img src=\"data:image/svg+xml;base64,Cjxzdmcgd2lkdGg9IjgwMCIgaGVpZ2h0PSI1MCIgdmlld0JveD0iMCAwIDgwMCA1MCIgeG1sbnM9Imh0dHA6Ly93d3cudzMub3JnLzIwMDAvc3ZnIj4KICAgIDxkZWZzPgogICAgICAgIDxsaW5lYXJHcmFkaWVudCBpZD0iZmFkZUdyYWRpZW50IiB4MT0iMCIgeDI9IjEiPgogICAgICAgICAgICA8c3RvcCBvZmZzZXQ9IjAlIiBzdG9wLWNvbG9yPSIjRjBGMEYwIi8+CiAgICAgICAgICAgIDxzdG9wIG9mZnNldD0iMTAwJSIgc3RvcC1jb2xvcj0iI0YwRjBGMCIgc3RvcC1vcGFjaXR5PSIwIi8+CiAgICAgICAgPC9saW5lYXJHcmFkaWVudD4KICAgICAgICA8bWFzayBpZD0iZmFkZU1hc2siPgogICAgICAgICAgICA8cmVjdCB4PSIwIiB5PSIwIiB3aWR0aD0iNzUwIiBoZWlnaHQ9IjUwIiBmaWxsPSJ3aGl0ZSIvPgogICAgICAgICAgICA8cmVjdCB4PSI3NTAiIHk9IjAiIHdpZHRoPSI1MCIgaGVpZ2h0PSI1MCIgZmlsbD0idXJsKCNmYWRlR3JhZGllbnQpIi8+CiAgICAgICAgPC9tYXNrPgogICAgPC9kZWZzPgogICAgPHBhdGggZD0iTTI1LDUwIFEwLDUwIDAsMjUgTDUwLDMgTDk3LDI1IEw3OTcsMjUgTDc5Nyw1MCBMMjUsNTAgWiIgZmlsbD0iI0YwRjBGMCIgc3Ryb2tlPSIjRTBFMEUwIiBzdHJva2Utd2lkdGg9IjEiIG1hc2s9InVybCgjZmFkZU1hc2spIi8+Cjwvc3ZnPgo=\" alt=\"Time alert close\"/>"
   ]
  },
  {
   "cell_type": "markdown",
   "id": "f96001de-6461-4e1d-b4a1-fa6208a2d0db",
   "metadata": {},
   "source": [
    "See now the details of the training job by clicking on the link constructed by the cell below:"
   ]
  },
  {
   "cell_type": "code",
   "execution_count": 59,
   "id": "a2209bbe-0a9d-4306-863b-df16c3cafa97",
   "metadata": {},
   "outputs": [
    {
     "data": {
      "text/html": [
       "<b>See the SageMaker <a target=\"top\" href=\"https://us-east-1.console.aws.amazon.com/sagemaker/home?region=us-east-1#/jobs/from-idea-to-prod-training-2024-07-23-14-16-44-284\">training job</a></b>"
      ],
      "text/plain": [
       "<IPython.core.display.HTML object>"
      ]
     },
     "metadata": {},
     "output_type": "display_data"
    }
   ],
   "source": [
    "from IPython.display import HTML\n",
    "\n",
    "# Show the training job link\n",
    "display(\n",
    "    HTML('<b>See the SageMaker <a target=\"top\" href=\"https://{}.console.aws.amazon.com/sagemaker/home?region={}#/jobs/{}\">training job</a></b>'.format(\n",
    "            region, region, estimator.latest_training_job.name))\n",
    ")"
   ]
  },
  {
   "cell_type": "markdown",
   "id": "5283ce86-6630-4b0a-a341-48cda396d18f",
   "metadata": {},
   "source": [
    "### Output model performance from the estimator"
   ]
  },
  {
   "cell_type": "code",
   "execution_count": 60,
   "id": "052e9640-3a0b-4a30-a897-ecd2ee102ca4",
   "metadata": {
    "tags": []
   },
   "outputs": [],
   "source": [
    "if estimator._current_job_name:\n",
    "    training_job_name = estimator._current_job_name"
   ]
  },
  {
   "cell_type": "code",
   "execution_count": 61,
   "id": "a69d7a0c-8cbe-4fd1-af44-9677107b5229",
   "metadata": {
    "tags": []
   },
   "outputs": [
    {
     "name": "stdout",
     "output_type": "stream",
     "text": [
      "Train-auc:0.7880, Validate-auc:0.7716\n"
     ]
    }
   ],
   "source": [
    "metrics = None\n",
    "while not metrics:\n",
    "    metrics = sm.describe_training_job(\n",
    "        TrainingJobName=training_job_name\n",
    "        ).get(\"FinalMetricDataList\")\n",
    "\n",
    "    if not metrics:\n",
    "        print(f\"Training job {training_job_name} hasn't finished yet!\")\n",
    "        time.sleep(10)\n",
    "    \n",
    "train_auc = float([m['Value'] for m in metrics if m['MetricName'] == 'train:auc'][0])\n",
    "validate_auc = float([m['Value'] for m in metrics if m['MetricName'] == 'validation:auc'][0])\n",
    "\n",
    "print(f\"Train-auc:{train_auc:.4f}, Validate-auc:{validate_auc:.4f}\")"
   ]
  },
  {
   "cell_type": "code",
   "execution_count": 62,
   "id": "e83a2509-8e2c-4e1c-874f-215745be46e2",
   "metadata": {
    "tags": []
   },
   "outputs": [
    {
     "name": "stdout",
     "output_type": "stream",
     "text": [
      "Stored 'training_job_name' (str)\n"
     ]
    }
   ],
   "source": [
    "%store training_job_name"
   ]
  },
  {
   "cell_type": "code",
   "execution_count": 63,
   "id": "05a41f7a-4f7e-413b-9f5f-a7557bf4060a",
   "metadata": {
    "tags": []
   },
   "outputs": [
    {
     "data": {
      "text/plain": [
       "'s3://sagemaker-us-east-1-398333718380/from-idea-to-prod/xgboost/output/from-idea-to-prod-training-2024-07-23-14-16-44-284/output/model.tar.gz'"
      ]
     },
     "execution_count": 63,
     "metadata": {},
     "output_type": "execute_result"
    }
   ],
   "source": [
    "# Print the S3 path to the model artifact:\n",
    "estimator.model_data"
   ]
  },
  {
   "cell_type": "markdown",
   "id": "4525ff7c-527d-4cd3-8708-83d516e47a02",
   "metadata": {},
   "source": [
    "### Optional: Reduce training job startup time with warm pools\n",
    "\n",
    "<div class=\"alert alert-info\">This section is optional – you don't need it for the further course of the workshop. <b>Do not run this section in an AWS-provisioned workshop account</b>.</div>\n",
    "\n",
    "Instead of using each time a new ephemeral computation cluster to train your models, you can keep your model training hardware instances warm after every job for a specified period. Refer to [Reduce ML Model Training Job startup time by up to 8x using SageMaker Training Managed Warm Pools](https://aws.amazon.com/about-aws/whats-new/2022/09/reduce-ml-model-training-job-startup-time-8x-sagemaker-training-managed-warm-pools/) for more details. If you opt to use warm pools, you are billed for the instances and EBS volumes for the duration of the keep-alive period. \n",
    "Refer to [ Train Using SageMaker Managed Warm Pools](https://docs.aws.amazon.com/sagemaker/latest/dg/train-warm-pools.html) in the Amazon SageMaker Developer Guide for details on training API."
   ]
  },
  {
   "cell_type": "markdown",
   "id": "a7af5386",
   "metadata": {},
   "source": [
    "<div style=\"border: 4px solid coral; text-align: center; margin: auto;\">\n",
    "    <p style=\" text-align: center; margin: auto;\">To use warm pool feature you must have a corresponding warm pool quota for a required instance type set to value greater than 0.\n",
    "    <br>\n",
    "    <br>\n",
    "    Do not run this section in an AWS provisioned workshop account as the warm pool quota is set to 0.\n",
    "    The following section checks the quota value for the training instance type.\n",
    "    </p>\n",
    "</div>"
   ]
  },
  {
   "cell_type": "code",
   "execution_count": 64,
   "id": "909030b3-4db3-4229-a1ce-5ee453e4b88e",
   "metadata": {
    "tags": []
   },
   "outputs": [],
   "source": [
    "def check_quota(quota_code, min_v):\n",
    "    r = quotas_client.get_service_quota(\n",
    "        ServiceCode=\"sagemaker\",\n",
    "        QuotaCode=quota_code,\n",
    "    )\n",
    "    \n",
    "    q = r[\"Quota\"][\"Value\"]\n",
    "    n = r[\"Quota\"][\"QuotaName\"]\n",
    "\n",
    "    if q < min_v:\n",
    "        print (\n",
    "            f\"WARNING: Your quota {q} for {n} is less than required value of {min_v}\"\n",
    "        )\n",
    "    else:\n",
    "        print(\n",
    "            f\"SUCCESS: Your quota {q} for {n} is equal or more than required value of {min_v}\"\n",
    "        )"
   ]
  },
  {
   "cell_type": "code",
   "execution_count": 65,
   "id": "60632a28-8cc2-45ca-8e21-dbb8ea38f4b7",
   "metadata": {
    "tags": []
   },
   "outputs": [
    {
     "name": "stdout",
     "output_type": "stream",
     "text": [
      "WARNING: Your quota 0.0 for ml.m5.xlarge for training warm pool usage is less than required value of 1\n"
     ]
    }
   ],
   "source": [
    "quotas_client = boto3.client(\"service-quotas\")\n",
    "                      \n",
    "quotas = {\n",
    "    \"ml.m5.large\": [\"L-2DD73636\", 1],\n",
    "    \"ml.m5.xlarge\": [\"L-0BEF44E8\", 1],\n",
    "    \"ml.m5.2xlarge\": [\"L-1686EE8B\", 1],\n",
    "}\n",
    "     \n",
    "check_quota(quotas[train_instance_type][0], quotas[train_instance_type][1])"
   ]
  },
  {
   "cell_type": "markdown",
   "id": "bd3f1e66",
   "metadata": {},
   "source": [
    "#### Train with SageMaker warm pools\n",
    "Let's use this feature and run XGBoost training using warm pools.\n",
    "Notice the matching attributes of a training job to re-use the provisioned infrastructure from a previous job: [Matching criteria](https://docs.aws.amazon.com/sagemaker/latest/dg/train-warm-pools.html#train-warm-pools-matching-criteria)\n",
    "\n",
    "To create a warm pool you need to set `KeepAlivePeriodInSeconds` parameter in `Estimator` configuration to value greater than 0."
   ]
  },
  {
   "cell_type": "code",
   "execution_count": 66,
   "id": "0e13412d",
   "metadata": {
    "tags": []
   },
   "outputs": [],
   "source": [
    "# Instantiate an XGBoost estimator object\n",
    "warm_pool_estimator = sagemaker.estimator.Estimator(\n",
    "    image_uri=training_image,  # XGBoost algorithm container\n",
    "    instance_type=train_instance_type,  # type of training instance\n",
    "    instance_count=train_instance_count,  # number of instances to be used\n",
    "    role=sm_role,  # IAM execution role to be used\n",
    "    max_run=20 * 60,  # Maximum allowed active runtime\n",
    "    # use_spot_instances=True,  # Use spot instances to reduce cost\n",
    "    # max_wait=30 * 60,  # Maximum clock time (including spot delays)\n",
    "    output_path=output_s3_url, # S3 location for saving the training result\n",
    "    sagemaker_session=session, # Session object which manages interactions with SageMaker API and AWS services\n",
    "    base_job_name=\"from-idea-to-prod-training\", # Prefix for training job name\n",
    "    keep_alive_period_in_seconds=1800, # use the warm pool feature\n",
    ")"
   ]
  },
  {
   "cell_type": "code",
   "execution_count": 67,
   "id": "c0a7a049",
   "metadata": {
    "tags": []
   },
   "outputs": [],
   "source": [
    "training_inputs = {'train': s3_input_train, 'validation': s3_input_validation}"
   ]
  },
  {
   "cell_type": "markdown",
   "id": "5688fd05",
   "metadata": {},
   "source": [
    "Run a training job by calling `estimator.fit()` several consequent times with different hyperparameters. The initial training job \"cold-starts\" as SageMaker provisions required compute infrastructure for it. When this job completes, the infrastructure kept alive for the period `KeepAlivePeriodInSeconds`. The warm pool stays `Available` until it either identifies a matching training job for reuse or it exceeds the specified `KeepAlivePeriodInSeconds` and is terminated."
   ]
  },
  {
   "cell_type": "markdown",
   "id": "1035d322-d47d-4357-bbb8-ac85f8558b48",
   "metadata": {},
   "source": [
    "Follow job executions in the SageMaker console by clicking on the link constructed by the following cell:"
   ]
  },
  {
   "cell_type": "code",
   "execution_count": 69,
   "id": "c4df95f5-6a58-4871-83b1-678d2e427787",
   "metadata": {},
   "outputs": [
    {
     "data": {
      "text/html": [
       "<b>See SageMaker <a target=\"top\" href=\"https://us-east-1.console.aws.amazon.com/sagemaker/home?region=us-east-1#/jobs/\">training jobs</a></b>"
      ],
      "text/plain": [
       "<IPython.core.display.HTML object>"
      ]
     },
     "metadata": {},
     "output_type": "display_data"
    }
   ],
   "source": [
    "# Show the training jobs link\n",
    "display(\n",
    "    HTML('<b>See SageMaker <a target=\"top\" href=\"https://{}.console.aws.amazon.com/sagemaker/home?region={}#/jobs/\">training jobs</a></b>'.format(\n",
    "            region, region))\n",
    ")"
   ]
  },
  {
   "cell_type": "code",
   "execution_count": 68,
   "id": "628ca868",
   "metadata": {
    "tags": []
   },
   "outputs": [
    {
     "name": "stderr",
     "output_type": "stream",
     "text": [
      "2024/07/23 14:20:18 INFO mlflow.tracking.fluent: Experiment with name 'from-idea-to-prod-warm-pools-23-14-20-18' does not exist. Creating a new experiment.\n"
     ]
    },
    {
     "name": "stdout",
     "output_type": "stream",
     "text": [
      "Fit estimator with max_depth=2\n"
     ]
    },
    {
     "name": "stderr",
     "output_type": "stream",
     "text": [
      "INFO:sagemaker:Creating training-job with name: from-idea-to-prod-training-2024-07-23-14-20-19-267\n"
     ]
    },
    {
     "name": "stdout",
     "output_type": "stream",
     "text": [
      "\n",
      "2024-07-23 14:20:21 Starting - Starting the training job..\n",
      "2024-07-23 14:20:36 Starting - Preparing the instances for training.....\n",
      "2024-07-23 14:21:07 Downloading - Downloading input data.....\n",
      "2024-07-23 14:21:37 Downloading - Downloading the training image........\n",
      "2024-07-23 14:22:23 Training - Training image download completed. Training in progress...\n",
      "2024-07-23 14:22:38 Uploading - Uploading generated training model.\n",
      "2024-07-23 14:22:51 Completed - Training job completed"
     ]
    },
    {
     "name": "stderr",
     "output_type": "stream",
     "text": [
      "WARNING:sagemaker.analytics:Warning: No metrics called train:mae found\n",
      "WARNING:sagemaker.analytics:Warning: No metrics called validation:aucpr found\n",
      "WARNING:sagemaker.analytics:Warning: No metrics called validation:f1_binary found\n",
      "WARNING:sagemaker.analytics:Warning: No metrics called validation:mae found\n"
     ]
    },
    {
     "name": "stdout",
     "output_type": "stream",
     "text": [
      "\n"
     ]
    },
    {
     "name": "stderr",
     "output_type": "stream",
     "text": [
      "WARNING:sagemaker.analytics:Warning: No metrics called validation:logloss found\n",
      "WARNING:sagemaker.analytics:Warning: No metrics called validation:f1 found\n",
      "WARNING:sagemaker.analytics:Warning: No metrics called train:accuracy found\n",
      "WARNING:sagemaker.analytics:Warning: No metrics called train:mse found\n",
      "WARNING:sagemaker.analytics:Warning: No metrics called validation:recall found\n",
      "WARNING:sagemaker.analytics:Warning: No metrics called validation:poisson-nloglik found\n",
      "WARNING:sagemaker.analytics:Warning: No metrics called validation:precision found\n",
      "WARNING:sagemaker.analytics:Warning: No metrics called train:error found\n",
      "WARNING:sagemaker.analytics:Warning: No metrics called train:ndcg found\n",
      "WARNING:sagemaker.analytics:Warning: No metrics called validation:map found\n",
      "WARNING:sagemaker.analytics:Warning: No metrics called train:f1_binary found\n",
      "WARNING:sagemaker.analytics:Warning: No metrics called validation:error found\n",
      "WARNING:sagemaker.analytics:Warning: No metrics called train:poisson-nloglik found\n",
      "WARNING:sagemaker.analytics:Warning: No metrics called train:rmse found\n",
      "WARNING:sagemaker.analytics:Warning: No metrics called train:logloss found\n",
      "WARNING:sagemaker.analytics:Warning: No metrics called validation:accuracy found\n",
      "WARNING:sagemaker.analytics:Warning: No metrics called train:aucpr found\n",
      "WARNING:sagemaker.analytics:Warning: No metrics called validation:balanced_accuracy found\n",
      "WARNING:sagemaker.analytics:Warning: No metrics called validation:rmse found\n",
      "WARNING:sagemaker.analytics:Warning: No metrics called validation:mse found\n",
      "WARNING:sagemaker.analytics:Warning: No metrics called validation:ndcg found\n",
      "WARNING:sagemaker.analytics:Warning: No metrics called train:f1 found\n",
      "WARNING:sagemaker.analytics:Warning: No metrics called train:map found\n"
     ]
    },
    {
     "name": "stdout",
     "output_type": "stream",
     "text": [
      "Fit estimator with max_depth=3\n"
     ]
    },
    {
     "name": "stderr",
     "output_type": "stream",
     "text": [
      "INFO:sagemaker:Creating training-job with name: from-idea-to-prod-training-2024-07-23-14-22-53-031\n"
     ]
    },
    {
     "name": "stdout",
     "output_type": "stream",
     "text": [
      "\n",
      "2024-07-23 14:22:55 Starting - Starting the training job..\n",
      "2024-07-23 14:23:11 Starting - Preparing the instances for training...\n",
      "2024-07-23 14:23:34 Downloading - Downloading input data....\n",
      "2024-07-23 14:23:59 Downloading - Downloading the training image.........\n",
      "2024-07-23 14:24:50 Training - Training image download completed. Training in progress...\n",
      "2024-07-23 14:25:05 Uploading - Uploading generated training model..\n",
      "2024-07-23 14:25:19 Completed - Instances not retained as a result of warmpool resource limits being exceeded"
     ]
    },
    {
     "name": "stderr",
     "output_type": "stream",
     "text": [
      "WARNING:sagemaker.analytics:Warning: No metrics called train:mae found\n",
      "WARNING:sagemaker.analytics:Warning: No metrics called validation:aucpr found\n",
      "WARNING:sagemaker.analytics:Warning: No metrics called validation:f1_binary found\n",
      "WARNING:sagemaker.analytics:Warning: No metrics called validation:mae found\n",
      "WARNING:sagemaker.analytics:Warning: No metrics called validation:logloss found\n",
      "WARNING:sagemaker.analytics:Warning: No metrics called validation:f1 found\n",
      "WARNING:sagemaker.analytics:Warning: No metrics called train:accuracy found\n",
      "WARNING:sagemaker.analytics:Warning: No metrics called train:mse found\n",
      "WARNING:sagemaker.analytics:Warning: No metrics called validation:recall found\n",
      "WARNING:sagemaker.analytics:Warning: No metrics called validation:poisson-nloglik found\n"
     ]
    },
    {
     "name": "stdout",
     "output_type": "stream",
     "text": [
      "\n"
     ]
    },
    {
     "name": "stderr",
     "output_type": "stream",
     "text": [
      "WARNING:sagemaker.analytics:Warning: No metrics called validation:precision found\n",
      "WARNING:sagemaker.analytics:Warning: No metrics called train:error found\n",
      "WARNING:sagemaker.analytics:Warning: No metrics called train:ndcg found\n",
      "WARNING:sagemaker.analytics:Warning: No metrics called validation:map found\n",
      "WARNING:sagemaker.analytics:Warning: No metrics called train:f1_binary found\n",
      "WARNING:sagemaker.analytics:Warning: No metrics called validation:error found\n",
      "WARNING:sagemaker.analytics:Warning: No metrics called train:poisson-nloglik found\n",
      "WARNING:sagemaker.analytics:Warning: No metrics called train:rmse found\n",
      "WARNING:sagemaker.analytics:Warning: No metrics called train:logloss found\n",
      "WARNING:sagemaker.analytics:Warning: No metrics called validation:accuracy found\n",
      "WARNING:sagemaker.analytics:Warning: No metrics called train:aucpr found\n",
      "WARNING:sagemaker.analytics:Warning: No metrics called validation:balanced_accuracy found\n",
      "WARNING:sagemaker.analytics:Warning: No metrics called validation:rmse found\n",
      "WARNING:sagemaker.analytics:Warning: No metrics called validation:mse found\n",
      "WARNING:sagemaker.analytics:Warning: No metrics called validation:ndcg found\n",
      "WARNING:sagemaker.analytics:Warning: No metrics called train:f1 found\n",
      "WARNING:sagemaker.analytics:Warning: No metrics called train:map found\n"
     ]
    },
    {
     "name": "stdout",
     "output_type": "stream",
     "text": [
      "Fit estimator with max_depth=5\n"
     ]
    },
    {
     "name": "stderr",
     "output_type": "stream",
     "text": [
      "INFO:sagemaker:Creating training-job with name: from-idea-to-prod-training-2024-07-23-14-25-21-790\n"
     ]
    },
    {
     "name": "stdout",
     "output_type": "stream",
     "text": [
      "\n",
      "2024-07-23 14:25:24 Starting - Starting the training job..\n",
      "2024-07-23 14:25:39 Starting - Preparing the instances for training....\n",
      "2024-07-23 14:26:07 Downloading - Downloading input data....\n",
      "2024-07-23 14:26:32 Downloading - Downloading the training image.........\n",
      "2024-07-23 14:27:23 Training - Training image download completed. Training in progress...\n",
      "2024-07-23 14:27:38 Uploading - Uploading generated training model..\n",
      "2024-07-23 14:27:52 Completed - Training job completed"
     ]
    },
    {
     "name": "stderr",
     "output_type": "stream",
     "text": [
      "WARNING:sagemaker.analytics:Warning: No metrics called train:mae found\n",
      "WARNING:sagemaker.analytics:Warning: No metrics called validation:aucpr found\n",
      "WARNING:sagemaker.analytics:Warning: No metrics called validation:f1_binary found\n"
     ]
    },
    {
     "name": "stdout",
     "output_type": "stream",
     "text": [
      "\n"
     ]
    },
    {
     "name": "stderr",
     "output_type": "stream",
     "text": [
      "WARNING:sagemaker.analytics:Warning: No metrics called validation:mae found\n",
      "WARNING:sagemaker.analytics:Warning: No metrics called validation:logloss found\n",
      "WARNING:sagemaker.analytics:Warning: No metrics called validation:f1 found\n",
      "WARNING:sagemaker.analytics:Warning: No metrics called train:accuracy found\n",
      "WARNING:sagemaker.analytics:Warning: No metrics called train:mse found\n",
      "WARNING:sagemaker.analytics:Warning: No metrics called validation:recall found\n",
      "WARNING:sagemaker.analytics:Warning: No metrics called validation:poisson-nloglik found\n",
      "WARNING:sagemaker.analytics:Warning: No metrics called validation:precision found\n",
      "WARNING:sagemaker.analytics:Warning: No metrics called train:error found\n",
      "WARNING:sagemaker.analytics:Warning: No metrics called train:ndcg found\n",
      "WARNING:sagemaker.analytics:Warning: No metrics called validation:map found\n",
      "WARNING:sagemaker.analytics:Warning: No metrics called train:f1_binary found\n",
      "WARNING:sagemaker.analytics:Warning: No metrics called validation:error found\n",
      "WARNING:sagemaker.analytics:Warning: No metrics called train:poisson-nloglik found\n",
      "WARNING:sagemaker.analytics:Warning: No metrics called train:rmse found\n",
      "WARNING:sagemaker.analytics:Warning: No metrics called train:logloss found\n",
      "WARNING:sagemaker.analytics:Warning: No metrics called validation:accuracy found\n",
      "WARNING:sagemaker.analytics:Warning: No metrics called train:aucpr found\n",
      "WARNING:sagemaker.analytics:Warning: No metrics called validation:balanced_accuracy found\n",
      "WARNING:sagemaker.analytics:Warning: No metrics called validation:rmse found\n",
      "WARNING:sagemaker.analytics:Warning: No metrics called validation:mse found\n",
      "WARNING:sagemaker.analytics:Warning: No metrics called validation:ndcg found\n",
      "WARNING:sagemaker.analytics:Warning: No metrics called train:f1 found\n",
      "WARNING:sagemaker.analytics:Warning: No metrics called train:map found\n"
     ]
    },
    {
     "name": "stdout",
     "output_type": "stream",
     "text": [
      "Fit estimator with max_depth=10\n"
     ]
    },
    {
     "name": "stderr",
     "output_type": "stream",
     "text": [
      "INFO:sagemaker:Creating training-job with name: from-idea-to-prod-training-2024-07-23-14-27-55-621\n"
     ]
    },
    {
     "name": "stdout",
     "output_type": "stream",
     "text": [
      "\n",
      "2024-07-23 14:28:01 Starting - Starting the training job..\n",
      "2024-07-23 14:28:16 Starting - Preparing the instances for training....\n",
      "2024-07-23 14:28:37 Downloading - Downloading input data...\n",
      "2024-07-23 14:28:58 Downloading - Downloading the training image..........\n",
      "2024-07-23 14:29:54 Training - Training image download completed. Training in progress...\n",
      "2024-07-23 14:30:09 Uploading - Uploading generated training model.\n",
      "2024-07-23 14:30:22 Completed - Instances not retained as a result of warmpool resource limits being exceeded"
     ]
    },
    {
     "name": "stderr",
     "output_type": "stream",
     "text": [
      "WARNING:sagemaker.analytics:Warning: No metrics called train:mae found\n",
      "WARNING:sagemaker.analytics:Warning: No metrics called validation:aucpr found\n",
      "WARNING:sagemaker.analytics:Warning: No metrics called validation:f1_binary found\n",
      "WARNING:sagemaker.analytics:Warning: No metrics called validation:mae found\n",
      "WARNING:sagemaker.analytics:Warning: No metrics called validation:logloss found\n",
      "WARNING:sagemaker.analytics:Warning: No metrics called validation:f1 found\n",
      "WARNING:sagemaker.analytics:Warning: No metrics called train:accuracy found\n"
     ]
    },
    {
     "name": "stdout",
     "output_type": "stream",
     "text": [
      "\n"
     ]
    },
    {
     "name": "stderr",
     "output_type": "stream",
     "text": [
      "WARNING:sagemaker.analytics:Warning: No metrics called train:mse found\n",
      "WARNING:sagemaker.analytics:Warning: No metrics called validation:recall found\n",
      "WARNING:sagemaker.analytics:Warning: No metrics called validation:poisson-nloglik found\n",
      "WARNING:sagemaker.analytics:Warning: No metrics called validation:precision found\n",
      "WARNING:sagemaker.analytics:Warning: No metrics called train:error found\n",
      "WARNING:sagemaker.analytics:Warning: No metrics called train:ndcg found\n",
      "WARNING:sagemaker.analytics:Warning: No metrics called validation:map found\n",
      "WARNING:sagemaker.analytics:Warning: No metrics called train:f1_binary found\n",
      "WARNING:sagemaker.analytics:Warning: No metrics called validation:error found\n",
      "WARNING:sagemaker.analytics:Warning: No metrics called train:poisson-nloglik found\n",
      "WARNING:sagemaker.analytics:Warning: No metrics called train:rmse found\n",
      "WARNING:sagemaker.analytics:Warning: No metrics called train:logloss found\n",
      "WARNING:sagemaker.analytics:Warning: No metrics called validation:accuracy found\n",
      "WARNING:sagemaker.analytics:Warning: No metrics called train:aucpr found\n",
      "WARNING:sagemaker.analytics:Warning: No metrics called validation:balanced_accuracy found\n",
      "WARNING:sagemaker.analytics:Warning: No metrics called validation:rmse found\n",
      "WARNING:sagemaker.analytics:Warning: No metrics called validation:mse found\n",
      "WARNING:sagemaker.analytics:Warning: No metrics called validation:ndcg found\n",
      "WARNING:sagemaker.analytics:Warning: No metrics called train:f1 found\n",
      "WARNING:sagemaker.analytics:Warning: No metrics called train:map found\n"
     ]
    },
    {
     "name": "stdout",
     "output_type": "stream",
     "text": [
      "Fit estimator with max_depth=20\n"
     ]
    },
    {
     "name": "stderr",
     "output_type": "stream",
     "text": [
      "INFO:sagemaker:Creating training-job with name: from-idea-to-prod-training-2024-07-23-14-30-24-432\n"
     ]
    },
    {
     "name": "stdout",
     "output_type": "stream",
     "text": [
      "\n",
      "2024-07-23 14:30:27 Starting - Starting the training job.\n",
      "2024-07-23 14:30:40 Starting - Preparing the instances for training...\n",
      "2024-07-23 14:31:01 Downloading - Downloading input data....\n",
      "2024-07-23 14:31:26 Downloading - Downloading the training image..........\n",
      "2024-07-23 14:32:17 Training - Training image download completed. Training in progress...\n",
      "2024-07-23 14:32:32 Uploading - Uploading generated training model.\n",
      "2024-07-23 14:32:46 Completed - Instances not retained as a result of warmpool resource limits being exceeded"
     ]
    },
    {
     "name": "stderr",
     "output_type": "stream",
     "text": [
      "WARNING:sagemaker.analytics:Warning: No metrics called train:mae found\n",
      "WARNING:sagemaker.analytics:Warning: No metrics called validation:aucpr found\n",
      "WARNING:sagemaker.analytics:Warning: No metrics called validation:f1_binary found\n",
      "WARNING:sagemaker.analytics:Warning: No metrics called validation:mae found\n",
      "WARNING:sagemaker.analytics:Warning: No metrics called validation:logloss found\n",
      "WARNING:sagemaker.analytics:Warning: No metrics called validation:f1 found\n",
      "WARNING:sagemaker.analytics:Warning: No metrics called train:accuracy found\n"
     ]
    },
    {
     "name": "stdout",
     "output_type": "stream",
     "text": [
      "\n"
     ]
    },
    {
     "name": "stderr",
     "output_type": "stream",
     "text": [
      "WARNING:sagemaker.analytics:Warning: No metrics called train:mse found\n",
      "WARNING:sagemaker.analytics:Warning: No metrics called validation:recall found\n",
      "WARNING:sagemaker.analytics:Warning: No metrics called validation:poisson-nloglik found\n",
      "WARNING:sagemaker.analytics:Warning: No metrics called validation:precision found\n",
      "WARNING:sagemaker.analytics:Warning: No metrics called train:error found\n",
      "WARNING:sagemaker.analytics:Warning: No metrics called train:ndcg found\n",
      "WARNING:sagemaker.analytics:Warning: No metrics called validation:map found\n",
      "WARNING:sagemaker.analytics:Warning: No metrics called train:f1_binary found\n",
      "WARNING:sagemaker.analytics:Warning: No metrics called validation:error found\n",
      "WARNING:sagemaker.analytics:Warning: No metrics called train:poisson-nloglik found\n",
      "WARNING:sagemaker.analytics:Warning: No metrics called train:rmse found\n",
      "WARNING:sagemaker.analytics:Warning: No metrics called train:logloss found\n",
      "WARNING:sagemaker.analytics:Warning: No metrics called validation:accuracy found\n",
      "WARNING:sagemaker.analytics:Warning: No metrics called train:aucpr found\n",
      "WARNING:sagemaker.analytics:Warning: No metrics called validation:balanced_accuracy found\n",
      "WARNING:sagemaker.analytics:Warning: No metrics called validation:rmse found\n",
      "WARNING:sagemaker.analytics:Warning: No metrics called validation:mse found\n",
      "WARNING:sagemaker.analytics:Warning: No metrics called validation:ndcg found\n",
      "WARNING:sagemaker.analytics:Warning: No metrics called train:f1 found\n",
      "WARNING:sagemaker.analytics:Warning: No metrics called train:map found\n"
     ]
    }
   ],
   "source": [
    "# Start a new experiment to log execution times for each estimator fit\n",
    "suffix = strftime('%d-%H-%M-%S', gmtime())\n",
    "mlflow.set_experiment(experiment_name=f\"from-idea-to-prod-warm-pools-{suffix}\")\n",
    "\n",
    "with mlflow.start_run(\n",
    "    run_name=f\"container-warm-pools-{suffix}\",\n",
    "    description=\"warm pools experiment in the notebook 02\") as parent_run:\n",
    "    # run the training job five times\n",
    "    for i, d in enumerate([2, 3, 5, 10, 20]):\n",
    "        print(f\"Fit estimator with max_depth={d}\")\n",
    "    \n",
    "        warm_pool_estimator.set_hyperparameters(\n",
    "            num_round=50, # the number of rounds to run the training\n",
    "            max_depth=d, # maximum depth of a tree\n",
    "            objective=\"binary:logistic\",\n",
    "            eval_metric=\"auc\", # evaluation metrics for validation data\n",
    "            early_stopping_rounds=10, # the model trains until the validation score stops improving\n",
    "        )\n",
    "\n",
    "        with mlflow.start_run(\n",
    "            run_name=f\"max_depth={d}\",\n",
    "            description=f\"Fit estimator with max_depth={d}\",\n",
    "            nested=True) as child_run:\n",
    "            mlflow.log_params(warm_pool_estimator.hyperparameters())\n",
    "            \n",
    "            warm_pool_estimator.fit(\n",
    "                training_inputs,\n",
    "                wait=True,\n",
    "                logs=False,\n",
    "            )\n",
    "            \n",
    "            mlflow.log_metrics({i['metric_name'].replace(':', '_'):i['value'] for i in warm_pool_estimator.training_job_analytics.dataframe().iloc})"
   ]
  },
  {
   "cell_type": "markdown",
   "id": "a248adc4-3d60-4d5c-9b25-923b51473de0",
   "metadata": {},
   "source": [
    "You can validate that a warm pool used for this training job by going to the [SageMaker training job console](https://console.aws.amazon.com/sagemaker/home?#/jobs) and inspect the training job list:\n",
    "\n",
    "![](img/warm-pools-training-jobs.png)\n",
    "\n",
    "The first training job should take about several minutes, but all subsequent jobs reuse the same compute instance and completed in several seconds. You can also see the warm pool status and time left.\n",
    "\n",
    "You can also open an MLflow experiment list and select an `from-idea-to-prod-warm-pools-<timestamp>` experiment. The logged run duration shows that the first training took about 2 min and all consequent runs less than 40 sec:\n",
    "\n",
    "![](img/warm-pools-mlflow.png)"
   ]
  },
  {
   "cell_type": "markdown",
   "id": "1aa43bd9-7cab-48da-b128-635b90c49971",
   "metadata": {},
   "source": [
    "## Deploy and test the model\n",
    "All training jobs saved a model package in the specified location on Amazon S3.\n",
    "\n",
    "You can deploy the model as a [real-time endpoint](https://docs.aws.amazon.com/sagemaker/latest/dg/realtime-endpoints.html), which is just one [function call](https://sagemaker.readthedocs.io/en/stable/api/training/estimators.html#sagemaker.estimator.Estimator.deploy), or create a [batch transform](https://docs.aws.amazon.com/sagemaker/latest/dg/batch-transform.html) to predict a label for a large dataset. You can also deploy model to an endpoint from the MLflow model registry by using the [ModelBuilder](https://docs.aws.amazon.com/sagemaker/latest/dg/how-it-works-modelbuilder-creation.html) class."
   ]
  },
  {
   "cell_type": "markdown",
   "id": "4358692a-a75a-4d57-9236-5932fc45edc4",
   "metadata": {},
   "source": [
    "### Get the test data\n",
    "Download the prepared test dataset from S3 to the notebook:"
   ]
  },
  {
   "cell_type": "code",
   "execution_count": 70,
   "id": "4aee60dd-7238-48cb-8ae7-9765f517c889",
   "metadata": {},
   "outputs": [
    {
     "name": "stdout",
     "output_type": "stream",
     "text": [
      "download: s3://sagemaker-us-east-1-398333718380/from-idea-to-prod/xgboost/test/test_x.csv to tmp/test_x.csv\n",
      "download: s3://sagemaker-us-east-1-398333718380/from-idea-to-prod/xgboost/test/test_y.csv to tmp/test_y.csv\n"
     ]
    }
   ],
   "source": [
    "!aws s3 cp $test_s3_url/test_x.csv tmp/test_x.csv\n",
    "!aws s3 cp $test_s3_url/test_y.csv tmp/test_y.csv"
   ]
  },
  {
   "cell_type": "markdown",
   "id": "b9b27d32-470e-4eed-9eba-3681938f46cb",
   "metadata": {},
   "source": [
    "### Local inference in the notebook\n",
    "First run inference locally using a registered model from the MLflow model registry."
   ]
  },
  {
   "cell_type": "code",
   "execution_count": 71,
   "id": "7dc5608f-46a2-4e40-8b2e-7ce20502c981",
   "metadata": {},
   "outputs": [
    {
     "data": {
      "application/vnd.jupyter.widget-view+json": {
       "model_id": "cceb7896bf474b24a8db7ddb6b4ac3c2",
       "version_major": 2,
       "version_minor": 0
      },
      "text/plain": [
       "Downloading artifacts:   0%|          | 0/9 [00:00<?, ?it/s]"
      ]
     },
     "metadata": {},
     "output_type": "display_data"
    }
   ],
   "source": [
    "# get the model from the MLflow model registry\n",
    "model_uri = registered_model_version.source\n",
    "model = mlflow.xgboost.load_model(model_uri)"
   ]
  },
  {
   "cell_type": "code",
   "execution_count": 72,
   "id": "352679e2-d7f9-47ec-bac3-d0c83e45b1f8",
   "metadata": {},
   "outputs": [
    {
     "data": {
      "text/plain": [
       "array([0.05130996, 0.08552201, 0.1908226 , ..., 0.03958577, 0.02797481,\n",
       "       0.03786173])"
      ]
     },
     "execution_count": 72,
     "metadata": {},
     "output_type": "execute_result"
    }
   ],
   "source": [
    "import xgboost as xgb\n",
    "from numpy import loadtxt\n",
    "\n",
    "test_x = loadtxt(\"tmp/test_x.csv\", delimiter=\",\")\n",
    "test_y = loadtxt(\"tmp/test_y.csv\", delimiter=\",\")\n",
    "\n",
    "dtest = xgb.DMatrix(test_x)\n",
    "\n",
    "predictions = np.array(model.predict(dtest), dtype=float).squeeze()\n",
    "predictions"
   ]
  },
  {
   "cell_type": "code",
   "execution_count": 73,
   "id": "0de499c2-03a7-498e-ba5b-a97e6e2508bd",
   "metadata": {},
   "outputs": [
    {
     "data": {
      "text/html": [
       "<div>\n",
       "<style scoped>\n",
       "    .dataframe tbody tr th:only-of-type {\n",
       "        vertical-align: middle;\n",
       "    }\n",
       "\n",
       "    .dataframe tbody tr th {\n",
       "        vertical-align: top;\n",
       "    }\n",
       "\n",
       "    .dataframe thead th {\n",
       "        text-align: right;\n",
       "    }\n",
       "</style>\n",
       "<table border=\"1\" class=\"dataframe\">\n",
       "  <thead>\n",
       "    <tr style=\"text-align: right;\">\n",
       "      <th>predictions</th>\n",
       "      <th>0.0</th>\n",
       "      <th>1.0</th>\n",
       "    </tr>\n",
       "    <tr>\n",
       "      <th>actuals</th>\n",
       "      <th></th>\n",
       "      <th></th>\n",
       "    </tr>\n",
       "  </thead>\n",
       "  <tbody>\n",
       "    <tr>\n",
       "      <th>0.0</th>\n",
       "      <td>3581</td>\n",
       "      <td>55</td>\n",
       "    </tr>\n",
       "    <tr>\n",
       "      <th>1.0</th>\n",
       "      <td>384</td>\n",
       "      <td>99</td>\n",
       "    </tr>\n",
       "  </tbody>\n",
       "</table>\n",
       "</div>"
      ],
      "text/plain": [
       "predictions   0.0  1.0\n",
       "actuals               \n",
       "0.0          3581   55\n",
       "1.0           384   99"
      ]
     },
     "execution_count": 73,
     "metadata": {},
     "output_type": "execute_result"
    }
   ],
   "source": [
    "pd.crosstab(\n",
    "    index=test_y,\n",
    "    columns=np.round(predictions), \n",
    "    rownames=['actuals'], \n",
    "    colnames=['predictions']\n",
    ")"
   ]
  },
  {
   "cell_type": "markdown",
   "id": "d2b02426-0b29-4b42-a182-7e62ba951767",
   "metadata": {},
   "source": [
    "### Real-time inference with a SageMaker endpoint\n",
    "To test real-time inference you create a [SageMaker endpoint](https://docs.aws.amazon.com/sagemaker/latest/dg/realtime-endpoints.html) using the MLflow model and the [ModelBuilder](https://docs.aws.amazon.com/sagemaker/latest/dg/how-it-works-modelbuilder-creation.html) Python SDK class."
   ]
  },
  {
   "cell_type": "markdown",
   "id": "483bdcfd-4e6a-420d-921e-61cad7048573",
   "metadata": {},
   "source": [
    "#### Build the deployable model"
   ]
  },
  {
   "cell_type": "code",
   "execution_count": 74,
   "id": "a32e4dd0-15ee-41de-bbca-a906206cde8f",
   "metadata": {},
   "outputs": [],
   "source": [
    "from sagemaker.serve import (\n",
    "    CustomPayloadTranslator,\n",
    "    InferenceSpec,\n",
    "    ModelBuilder,\n",
    "    SchemaBuilder,\n",
    "    Mode\n",
    ")\n",
    "from pathlib import Path"
   ]
  },
  {
   "cell_type": "code",
   "execution_count": 75,
   "id": "c543b396-93f1-4dfe-9a3d-5fe2f1c16108",
   "metadata": {},
   "outputs": [
    {
     "data": {
      "application/vnd.jupyter.widget-view+json": {
       "model_id": "5ec6dc46ad384e5f802f97048633e408",
       "version_major": 2,
       "version_minor": 0
      },
      "text/plain": [
       "Downloading artifacts:   0%|          | 0/9 [00:00<?, ?it/s]"
      ]
     },
     "metadata": {},
     "output_type": "display_data"
    },
    {
     "name": "stderr",
     "output_type": "stream",
     "text": [
      "INFO:sagemaker.image_uris:Ignoring unnecessary instance type: None.\n",
      "ModelBuilder: INFO:     Either inference spec or model is provided. ModelBuilder is not handling MLflow model input\n",
      "ModelBuilder: INFO:     Skipping auto detection as the image uri is provided 683313688378.dkr.ecr.us-east-1.amazonaws.com/sagemaker-xgboost:1.7-1\n",
      "ModelBuilder: DEBUG:     Packaging provided requirements.txt from artifact-dir/model/requirements.txt\n",
      "ModelBuilder: DEBUG:     Uploading the model resources to bucket=sagemaker-us-east-1-398333718380, key_prefix=sagemaker-xgboost-2024-07-23-14-35-35-650.\n",
      "Uploading model artifacts: 100%|██████████████████| 2185703/2185703 [00:00<00:00, 4175351.90bytes/s]\n",
      "ModelBuilder: DEBUG:     Model resources uploaded to: s3://sagemaker-us-east-1-398333718380/sagemaker-xgboost-2024-07-23-14-35-35-650/serve.tar.gz\n"
     ]
    }
   ],
   "source": [
    "# download the model artifact to the notebook\n",
    "artifact_path = Path(\"artifact-dir\")\n",
    "artifact_path.mkdir(exist_ok=True)\n",
    "artifact_dir = artifact_path.as_posix()\n",
    "mlflow.tracking.artifact_utils._download_artifact_from_uri(\n",
    "    registered_model_version.source,\n",
    "    output_path=artifact_dir,\n",
    ")\n",
    "\n",
    "# create a custom inference spec class\n",
    "class MyXGBoostModel(InferenceSpec):\n",
    "    def invoke(self, input_object: object, model: object):\n",
    "        import xgboost as xgb\n",
    "        input_converted = xgb.DMatrix(input_object)\n",
    "        output = model.predict(input_converted)\n",
    "        return output\n",
    "\n",
    "    def load(self, model_dir: str):\n",
    "        model = mlflow.xgboost.load_model(model_dir)\n",
    "        return model\n",
    "\n",
    "# create a model builder\n",
    "model_builder = ModelBuilder(\n",
    "    mode=Mode.SAGEMAKER_ENDPOINT,\n",
    "    model_path=\"./artifact-dir/model\",\n",
    "    inference_spec=MyXGBoostModel(),\n",
    "    schema_builder=SchemaBuilder(sample_input=test_x, sample_output=test_y),  \n",
    "    role_arn=sm_role,\n",
    "    image_uri=sagemaker.image_uris.retrieve(\"xgboost\", region, version=\"1.7-1\"),\n",
    "    dependencies={\n",
    "        \"requirements\": \"./artifact-dir/model/requirements.txt\"\n",
    "    },\n",
    ")\n",
    "\n",
    "# create a deployable model\n",
    "deployable_model = model_builder.build()"
   ]
  },
  {
   "cell_type": "markdown",
   "id": "17c01d22-f9e2-451b-85cd-1bfa33ed5003",
   "metadata": {},
   "source": [
    "#### Deploy"
   ]
  },
  {
   "cell_type": "code",
   "execution_count": 76,
   "id": "06b2389a-bfc0-4ef3-b2b9-a139a8b9e994",
   "metadata": {},
   "outputs": [
    {
     "name": "stderr",
     "output_type": "stream",
     "text": [
      "ModelBuilder: INFO:     ModelBuilder will collect telemetry to help us better understand our user's needs, diagnose issues, and deliver additional features. To opt out of telemetry, please disable via TelemetryOptOut in intelligent defaults. See https://sagemaker.readthedocs.io/en/stable/overview.html#configuring-and-using-defaults-with-the-sagemaker-python-sdk for more info.\n",
      "INFO:sagemaker:Creating model with name: sagemaker-xgboost-2024-07-23-14-35-38-137\n",
      "INFO:sagemaker:Creating endpoint-config with name from-idea-to-prod-endpoint-23-14-35-37\n",
      "INFO:sagemaker:Creating endpoint with name from-idea-to-prod-endpoint-23-14-35-37\n",
      "ModelBuilder: DEBUG:     ModelBuilder metrics emitted.\n"
     ]
    }
   ],
   "source": [
    "# Deploy the model as a real-time endpoint\n",
    "endpoint_name = f\"from-idea-to-prod-endpoint-{strftime('%d-%H-%M-%S', gmtime())}\"\n",
    "\n",
    "predictor = deployable_model.deploy(\n",
    "    initial_instance_count=1, \n",
    "    instance_type=\"ml.m5.large\",\n",
    "    endpoint_name=endpoint_name,\n",
    "    wait=False,\n",
    ")"
   ]
  },
  {
   "cell_type": "markdown",
   "id": "b97c0686-b9a5-4f21-9cb9-453b73dc14f6",
   "metadata": {},
   "source": [
    "<img src=\"data:image/svg+xml;base64,Cjxzdmcgd2lkdGg9IjgwMCIgaGVpZ2h0PSIxMjUiIHZpZXdCb3g9IjAgMCA4MDAgMTI1IiB4bWxucz0iaHR0cDovL3d3dy53My5vcmcvMjAwMC9zdmciPgogICAgPGRlZnM+CiAgICAgICAgPGxpbmVhckdyYWRpZW50IGlkPSJmYWRlR3JhZGllbnQiIHgxPSIwIiB4Mj0iMSI+CiAgICAgICAgICAgIDxzdG9wIG9mZnNldD0iMCUiIHN0b3AtY29sb3I9IiNGMEYwRjAiLz4KICAgICAgICAgICAgPHN0b3Agb2Zmc2V0PSIxMDAlIiBzdG9wLWNvbG9yPSIjRjBGMEYwIiBzdG9wLW9wYWNpdHk9IjAiLz4KICAgICAgICA8L2xpbmVhckdyYWRpZW50PgogICAgICAgIDxtYXNrIGlkPSJmYWRlTWFzayI+CiAgICAgICAgICAgIDxyZWN0IHg9IjAiIHk9IjAiIHdpZHRoPSI3NTAiIGhlaWdodD0iMTI1IiBmaWxsPSJ3aGl0ZSIvPgogICAgICAgICAgICA8cmVjdCB4PSI3NTAiIHk9IjAiIHdpZHRoPSI1MCIgaGVpZ2h0PSIxMjUiIGZpbGw9InVybCgjZmFkZUdyYWRpZW50KSIvPgogICAgICAgIDwvbWFzaz4KICAgIDwvZGVmcz4KICAgIDxwYXRoIGQ9Ik0zLDUwIEE1MCw1MCAwIDAgMSA1MywzIEw3OTcsMyBMNzk3LDk3IEw5Nyw5NyBMNTAsMTE1IEwzLDk3IFoiIGZpbGw9IiNGMEYwRjAiIHN0cm9rZT0iI0UwRTBFMCIgc3Ryb2tlLXdpZHRoPSIxIiBtYXNrPSJ1cmwoI2ZhZGVNYXNrKSIvPgogICAgPGNpcmNsZSBjeD0iNTAiIGN5PSI1MCIgcj0iMzAiIGZpbGw9IiM1N2M0ZjgiIHN0cm9rZT0iIzU3YzRmOCIgc3Ryb2tlLXdpZHRoPSIxIi8+CiAgICA8Y2lyY2xlIGN4PSI1MCIgY3k9IjUwIiByPSIyNSIgZmlsbD0iI0YwRjBGMCIvPgogICAgPGxpbmUgeDE9IjUwIiB5MT0iNTAiIHgyPSI1MCIgeTI9IjMwIiBzdHJva2U9IiM1N2M0ZjgiIHN0cm9rZS13aWR0aD0iMyIgc3Ryb2tlLWxpbmVjYXA9InJvdW5kIi8+CiAgICA8bGluZSB4MT0iNTAiIHkxPSI1MCIgeDI9IjY1IiB5Mj0iNTAiIHN0cm9rZT0iIzU3YzRmOCIgc3Ryb2tlLXdpZHRoPSIzIiBzdHJva2UtbGluZWNhcD0icm91bmQiLz4KICAgIDx0ZXh0IHg9IjEwMCIgeT0iMzQiIGZvbnQtZmFtaWx5PSJBcmlhbCwgc2Fucy1zZXJpZiIgZm9udC1zaXplPSIxNCIgZmlsbD0iIzMzMzMzMyI+VGhlIG5leHQgY2VsbCBtYXkgdGFrZSBhIGZldyBtaW51dGVzIHRvIHJ1bi48L3RleHQ+Cjwvc3ZnPgo=\" alt=\"Time alert open medium\"/>"
   ]
  },
  {
   "cell_type": "code",
   "execution_count": 77,
   "id": "6c7297a4-27c0-490b-bf1b-f2ba1a147dcb",
   "metadata": {},
   "outputs": [],
   "source": [
    "# Wait until the endpoint has the status InService\n",
    "waiter = session.sagemaker_client.get_waiter('endpoint_in_service')\n",
    "waiter.wait(EndpointName=endpoint_name)"
   ]
  },
  {
   "cell_type": "markdown",
   "id": "95420ff1-d8cb-41b5-87bf-e011ca1c5f49",
   "metadata": {},
   "source": [
    "<img src=\"data:image/svg+xml;base64,Cjxzdmcgd2lkdGg9IjgwMCIgaGVpZ2h0PSI1MCIgdmlld0JveD0iMCAwIDgwMCA1MCIgeG1sbnM9Imh0dHA6Ly93d3cudzMub3JnLzIwMDAvc3ZnIj4KICAgIDxkZWZzPgogICAgICAgIDxsaW5lYXJHcmFkaWVudCBpZD0iZmFkZUdyYWRpZW50IiB4MT0iMCIgeDI9IjEiPgogICAgICAgICAgICA8c3RvcCBvZmZzZXQ9IjAlIiBzdG9wLWNvbG9yPSIjRjBGMEYwIi8+CiAgICAgICAgICAgIDxzdG9wIG9mZnNldD0iMTAwJSIgc3RvcC1jb2xvcj0iI0YwRjBGMCIgc3RvcC1vcGFjaXR5PSIwIi8+CiAgICAgICAgPC9saW5lYXJHcmFkaWVudD4KICAgICAgICA8bWFzayBpZD0iZmFkZU1hc2siPgogICAgICAgICAgICA8cmVjdCB4PSIwIiB5PSIwIiB3aWR0aD0iNzUwIiBoZWlnaHQ9IjUwIiBmaWxsPSJ3aGl0ZSIvPgogICAgICAgICAgICA8cmVjdCB4PSI3NTAiIHk9IjAiIHdpZHRoPSI1MCIgaGVpZ2h0PSI1MCIgZmlsbD0idXJsKCNmYWRlR3JhZGllbnQpIi8+CiAgICAgICAgPC9tYXNrPgogICAgPC9kZWZzPgogICAgPHBhdGggZD0iTTI1LDUwIFEwLDUwIDAsMjUgTDUwLDMgTDk3LDI1IEw3OTcsMjUgTDc5Nyw1MCBMMjUsNTAgWiIgZmlsbD0iI0YwRjBGMCIgc3Ryb2tlPSIjRTBFMEUwIiBzdHJva2Utd2lkdGg9IjEiIG1hc2s9InVybCgjZmFkZU1hc2spIi8+Cjwvc3ZnPgo=\" alt=\"Time alert close\"/>"
   ]
  },
  {
   "cell_type": "markdown",
   "id": "9faf03e3-8324-4843-9168-8f582557bf9b",
   "metadata": {},
   "source": [
    "You can see the deployed endpoint in the SageMaker console – click on the link constructed by the cell below:"
   ]
  },
  {
   "cell_type": "code",
   "execution_count": 78,
   "id": "5d02df64-4d54-4f7a-9419-3cf577b321e4",
   "metadata": {},
   "outputs": [
    {
     "data": {
      "text/html": [
       "<b>See the SageMaker <a target=\"top\" href=\"https://us-east-1.console.aws.amazon.com/sagemaker/home?region=us-east-1#/endpoints/from-idea-to-prod-endpoint-23-14-35-37\">inference endpoint</a></b>"
      ],
      "text/plain": [
       "<IPython.core.display.HTML object>"
      ]
     },
     "metadata": {},
     "output_type": "display_data"
    }
   ],
   "source": [
    "# Show the inference endpoint link\n",
    "display(\n",
    "    HTML('<b>See the SageMaker <a target=\"top\" href=\"https://{}.console.aws.amazon.com/sagemaker/home?region={}#/endpoints/{}\">inference endpoint</a></b>'.format(\n",
    "            region, region, endpoint_name))\n",
    ")"
   ]
  },
  {
   "cell_type": "markdown",
   "id": "3bad12e8-264b-4558-aa50-8280a6d828e8",
   "metadata": {},
   "source": [
    "#### Predict"
   ]
  },
  {
   "cell_type": "code",
   "execution_count": 79,
   "id": "a6141539-44b4-4c42-830d-1862c2ee21a9",
   "metadata": {},
   "outputs": [],
   "source": [
    "predictions = predictor.predict(test_x)"
   ]
  },
  {
   "cell_type": "code",
   "execution_count": 80,
   "id": "ce470852-0bb6-4868-a061-05022614e953",
   "metadata": {},
   "outputs": [
    {
     "data": {
      "text/plain": [
       "array([0.05130996, 0.08552201, 0.1908226 , ..., 0.03958577, 0.02797481,\n",
       "       0.03786173], dtype=float32)"
      ]
     },
     "execution_count": 80,
     "metadata": {},
     "output_type": "execute_result"
    }
   ],
   "source": [
    "predictions"
   ]
  },
  {
   "cell_type": "code",
   "execution_count": 81,
   "id": "d09c904e-3f27-472b-8e17-4d5daa4d0b4e",
   "metadata": {},
   "outputs": [
    {
     "data": {
      "text/html": [
       "<div>\n",
       "<style scoped>\n",
       "    .dataframe tbody tr th:only-of-type {\n",
       "        vertical-align: middle;\n",
       "    }\n",
       "\n",
       "    .dataframe tbody tr th {\n",
       "        vertical-align: top;\n",
       "    }\n",
       "\n",
       "    .dataframe thead th {\n",
       "        text-align: right;\n",
       "    }\n",
       "</style>\n",
       "<table border=\"1\" class=\"dataframe\">\n",
       "  <thead>\n",
       "    <tr style=\"text-align: right;\">\n",
       "      <th>predictions</th>\n",
       "      <th>0.0</th>\n",
       "      <th>1.0</th>\n",
       "    </tr>\n",
       "    <tr>\n",
       "      <th>actuals</th>\n",
       "      <th></th>\n",
       "      <th></th>\n",
       "    </tr>\n",
       "  </thead>\n",
       "  <tbody>\n",
       "    <tr>\n",
       "      <th>0.0</th>\n",
       "      <td>3581</td>\n",
       "      <td>55</td>\n",
       "    </tr>\n",
       "    <tr>\n",
       "      <th>1.0</th>\n",
       "      <td>384</td>\n",
       "      <td>99</td>\n",
       "    </tr>\n",
       "  </tbody>\n",
       "</table>\n",
       "</div>"
      ],
      "text/plain": [
       "predictions   0.0  1.0\n",
       "actuals               \n",
       "0.0          3581   55\n",
       "1.0           384   99"
      ]
     },
     "execution_count": 81,
     "metadata": {},
     "output_type": "execute_result"
    }
   ],
   "source": [
    "pd.crosstab(\n",
    "    index=test_y,\n",
    "    columns=np.round(predictions), \n",
    "    rownames=['actuals'], \n",
    "    colnames=['predictions']\n",
    ")"
   ]
  },
  {
   "cell_type": "code",
   "execution_count": 82,
   "id": "16ffa17b-1077-47ce-b284-9514977a9607",
   "metadata": {},
   "outputs": [
    {
     "name": "stdout",
     "output_type": "stream",
     "text": [
      "Test-auc: 0.7681\n"
     ]
    }
   ],
   "source": [
    "test_auc = roc_auc_score(test_y, predictions)\n",
    "print(f\"Test-auc: {test_auc:.4f}\")"
   ]
  },
  {
   "cell_type": "markdown",
   "id": "cfd3f1ac-aab7-4f23-a02e-0c9b2e3bcbfb",
   "metadata": {},
   "source": [
    "#### Save charts to the MLflow run\n",
    "You can use the [`mlflow.log_figure()`](https://mlflow.org/docs/latest/python_api/mlflow.html#mlflow.log_figure) logging method to save [matplotlib](https://matplotlib.org/3.3.4/api/_as_gen/matplotlib.figure.Figure.html) or [plotly](https://plotly.com/python-api-reference/generated/plotly.graph_objects.Figure.html) figures to a run."
   ]
  },
  {
   "cell_type": "code",
   "execution_count": 83,
   "id": "098d3f32-ef0f-41da-a432-0b6e7cc1d359",
   "metadata": {},
   "outputs": [],
   "source": [
    "from sklearn import metrics\n",
    "from sklearn.metrics import RocCurveDisplay\n",
    "import matplotlib.pyplot as plt\n",
    "\n",
    "def plot_confusion_matrix(\n",
    "    cm, class_names, title=\"Confusion matrix\", cmap=plt.cm.Blues, normalize=False\n",
    "):\n",
    "    if normalize:\n",
    "        cm = cm.astype(\"float\") / cm.sum(axis=1)[:, np.newaxis]\n",
    "\n",
    "    fig, ax = plt.subplots()\n",
    "    im = ax.imshow(cm, interpolation=\"nearest\", cmap=cmap)\n",
    "    ax.figure.colorbar(im, ax=ax)\n",
    "    ax.set(\n",
    "        xticks=np.arange(cm.shape[1]),\n",
    "        yticks=np.arange(cm.shape[0]),\n",
    "        ylim=(cm.shape[0] - 0.5, -0.5),\n",
    "        xticklabels=class_names,\n",
    "        yticklabels=class_names,\n",
    "        title=title,\n",
    "        ylabel=\"Ground truth label\",\n",
    "        xlabel=\"Predicted label\",\n",
    "    )\n",
    "\n",
    "    # Rotate the tick labels and set their alignment.\n",
    "    plt.setp(ax.get_xticklabels(), rotation=30, ha=\"right\", rotation_mode=\"anchor\")\n",
    "\n",
    "    # Loop over data dimensions and create text annotations.\n",
    "    fmt = \".2f\"\n",
    "    thresh = cm.max() / 2.0\n",
    "    for i in range(cm.shape[0]):\n",
    "        for j in range(cm.shape[1]):\n",
    "            ax.text(\n",
    "                j,\n",
    "                i,\n",
    "                format(cm[i, j], fmt),\n",
    "                ha=\"center\",\n",
    "                va=\"center\",\n",
    "                color=\"white\" if cm[i, j] > thresh else \"black\",\n",
    "            )\n",
    "    fig.tight_layout()\n",
    "    return ax, fig"
   ]
  },
  {
   "cell_type": "code",
   "execution_count": 84,
   "id": "914f414a-6494-4642-a35c-c4c80f05e764",
   "metadata": {},
   "outputs": [
    {
     "data": {
      "image/png": "[encoded data removed]",
      "text/plain": [
       "<Figure size 640x480 with 2 Axes>"
      ]
     },
     "metadata": {},
     "output_type": "display_data"
    }
   ],
   "source": [
    "class_names = [\"no\", \"yes\"]\n",
    "confusion_matrix = metrics.confusion_matrix(test_y, np.round(predictions))\n",
    "ax, fig = plot_confusion_matrix(confusion_matrix, class_names)"
   ]
  },
  {
   "cell_type": "code",
   "execution_count": 85,
   "id": "4f19151b-a487-41ae-a7a8-6352762383e4",
   "metadata": {},
   "outputs": [
    {
     "name": "stdout",
     "output_type": "stream",
     "text": [
      "Log confusion matrix to the model from-idea-to-prod-job-model-23-13-44-39 version 1\n"
     ]
    }
   ],
   "source": [
    "print(f\"Log confusion matrix to the model {registered_model_version.name} version {registered_model_version.version}\")\n",
    "mlflow.set_experiment(experiment_name)\n",
    "with mlflow.start_run(run_id=registered_model_version.run_id):\n",
    "    mlflow.log_figure(fig, \"confusion_matrix.png\")"
   ]
  },
  {
   "cell_type": "code",
   "execution_count": 86,
   "id": "9a19f3d4-70f7-4e39-869e-bb0e11e205eb",
   "metadata": {},
   "outputs": [],
   "source": [
    "# get the presigned url to open the MLflow UI\n",
    "presigned_url = sm.create_presigned_mlflow_tracking_server_url(\n",
    "    TrackingServerName=mlflow_name,\n",
    "    ExpiresInSeconds=60,\n",
    "    SessionExpirationDurationInSeconds=1800\n",
    ")['AuthorizedUrl']\n",
    "\n",
    "mlflow_run_link = f\"{presigned_url.split('/auth')[0]}/#/experiments/1/runs/{registered_model_version.run_id}/artifacts\""
   ]
  },
  {
   "cell_type": "code",
   "execution_count": 87,
   "id": "202b1bea-2a65-46bb-a601-9fa815e08175",
   "metadata": {},
   "outputs": [
    {
     "data": {
      "application/javascript": [
       "window.open(\"https://t-dcdj2fb0e5br.us-east-1.experiments.sagemaker.aws/auth?authToken=eyJhbGciOiJIUzI1NiJ9.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.GWW103IcF6gEmoP1fSaJ_oU6hiNeSC-OHQd6npDFK4s\");"
      ],
      "text/plain": [
       "<IPython.core.display.Javascript object>"
      ]
     },
     "metadata": {},
     "output_type": "display_data"
    }
   ],
   "source": [
    "# first open the MLflow UI - you can close a new opened window\n",
    "display(Javascript('window.open(\"{}\");'.format(presigned_url)))"
   ]
  },
  {
   "cell_type": "code",
   "execution_count": 88,
   "id": "fe867b2f-734c-4fb7-94f7-e9925950f06e",
   "metadata": {},
   "outputs": [
    {
     "data": {
      "application/javascript": [
       "window.open(\"https://t-dcdj2fb0e5br.us-east-1.experiments.sagemaker.aws/#/experiments/1/runs/eafe3a658b1e4efa8ebc50cb75ddf885/artifacts\");"
      ],
      "text/plain": [
       "<IPython.core.display.Javascript object>"
      ]
     },
     "metadata": {},
     "output_type": "display_data"
    }
   ],
   "source": [
    "# second open the run page in the MLflow UI\n",
    "display(Javascript('window.open(\"{}\");'.format(mlflow_run_link)))"
   ]
  },
  {
   "cell_type": "markdown",
   "id": "a6b32433-7af8-4796-9848-58b90f7cac00",
   "metadata": {},
   "source": [
    "#### Optional: deploy an endpoint from the estimator\n",
    "<div class=\"alert alert-info\">This section is optional – you don't need it for the further course of the workshop.</div>\n",
    "\n",
    "You can also deploy the model from the trained estimator by using [`deploy()`](https://sagemaker.readthedocs.io/en/stable/api/training/estimators.html#sagemaker.estimator.Estimator.deploy) method of the estimator. This section shows how to do this."
   ]
  },
  {
   "cell_type": "code",
   "execution_count": 97,
   "id": "feb0d417-99e8-480d-baa4-7ab18d9b5427",
   "metadata": {
    "tags": []
   },
   "outputs": [
    {
     "name": "stderr",
     "output_type": "stream",
     "text": [
      "INFO:sagemaker:Creating model with name: from-idea-to-prod-training-2024-07-22-16-03-15-418\n",
      "INFO:sagemaker:Creating endpoint-config with name from-idea-to-prod-endpoint-estimator-22-16-03-15\n",
      "INFO:sagemaker:Creating endpoint with name from-idea-to-prod-endpoint-estimator-22-16-03-15\n"
     ]
    },
    {
     "name": "stdout",
     "output_type": "stream",
     "text": [
      "-------!"
     ]
    }
   ],
   "source": [
    "# create a real-time endpoint from the trained estimator\n",
    "endpoint_name_from_estimator = f\"from-idea-to-prod-endpoint-estimator-{strftime('%d-%H-%M-%S', gmtime())}\"\n",
    "\n",
    "predictor_from_estimator = estimator.deploy(\n",
    "    initial_instance_count=1,\n",
    "    instance_type=\"ml.m5.large\",\n",
    "    wait=True,  # Remember, predictor.predict() won't work until deployment finishes!\n",
    "    # Turn on data capture, in case you want to experiment with monitoring:\n",
    "    data_capture_config=sagemaker.model_monitor.DataCaptureConfig(\n",
    "        enable_capture=True,\n",
    "        sampling_percentage=100,\n",
    "        destination_s3_uri=f\"s3://{bucket_name}/{bucket_prefix}/data-capture\",\n",
    "    ),\n",
    "    endpoint_name=endpoint_name_from_estimator,\n",
    "    serializer=sagemaker.serializers.CSVSerializer(),\n",
    "    deserializer=sagemaker.deserializers.CSVDeserializer(),\n",
    ")"
   ]
  },
  {
   "cell_type": "code",
   "execution_count": 98,
   "id": "cbfeb79b-014e-4784-a7bd-52f88b9957db",
   "metadata": {
    "tags": []
   },
   "outputs": [],
   "source": [
    "# load test data as CSV files\n",
    "test_x = pd.read_csv(\"tmp/test_x.csv\", header=None)\n",
    "test_y = pd.read_csv(\"tmp/test_y.csv\", names=['y'])"
   ]
  },
  {
   "cell_type": "code",
   "execution_count": 99,
   "id": "b5d420ff-2e3e-466a-b8e4-91a2f407f26d",
   "metadata": {
    "tags": []
   },
   "outputs": [
    {
     "data": {
      "text/plain": [
       "array([0.05938949, 0.07139037, 0.18536061, ..., 0.04092945, 0.0345034 ,\n",
       "       0.03125406])"
      ]
     },
     "execution_count": 99,
     "metadata": {},
     "output_type": "execute_result"
    }
   ],
   "source": [
    "# Predict using the real-time endpoint predictor\n",
    "predictions = np.array(predictor_from_estimator.predict(test_x.values), dtype=float).squeeze()\n",
    "predictions"
   ]
  },
  {
   "cell_type": "code",
   "execution_count": 100,
   "id": "ce21400a-6cbd-4817-869d-89e289fa165b",
   "metadata": {
    "tags": []
   },
   "outputs": [
    {
     "data": {
      "text/html": [
       "<div>\n",
       "<style scoped>\n",
       "    .dataframe tbody tr th:only-of-type {\n",
       "        vertical-align: middle;\n",
       "    }\n",
       "\n",
       "    .dataframe tbody tr th {\n",
       "        vertical-align: top;\n",
       "    }\n",
       "\n",
       "    .dataframe thead th {\n",
       "        text-align: right;\n",
       "    }\n",
       "</style>\n",
       "<table border=\"1\" class=\"dataframe\">\n",
       "  <thead>\n",
       "    <tr style=\"text-align: right;\">\n",
       "      <th></th>\n",
       "      <th>y_pred</th>\n",
       "      <th>0</th>\n",
       "      <th>1</th>\n",
       "      <th>2</th>\n",
       "      <th>3</th>\n",
       "      <th>4</th>\n",
       "      <th>5</th>\n",
       "      <th>6</th>\n",
       "      <th>7</th>\n",
       "      <th>8</th>\n",
       "      <th>...</th>\n",
       "      <th>54</th>\n",
       "      <th>55</th>\n",
       "      <th>56</th>\n",
       "      <th>57</th>\n",
       "      <th>58</th>\n",
       "      <th>59</th>\n",
       "      <th>60</th>\n",
       "      <th>61</th>\n",
       "      <th>62</th>\n",
       "      <th>63</th>\n",
       "    </tr>\n",
       "  </thead>\n",
       "  <tbody>\n",
       "    <tr>\n",
       "      <th>0</th>\n",
       "      <td>0.059389</td>\n",
       "      <td>0.000000</td>\n",
       "      <td>1.0</td>\n",
       "      <td>0.000000</td>\n",
       "      <td>1</td>\n",
       "      <td>0</td>\n",
       "      <td>1</td>\n",
       "      <td>0</td>\n",
       "      <td>0</td>\n",
       "      <td>0</td>\n",
       "      <td>...</td>\n",
       "      <td>0</td>\n",
       "      <td>0</td>\n",
       "      <td>0</td>\n",
       "      <td>1</td>\n",
       "      <td>0</td>\n",
       "      <td>0</td>\n",
       "      <td>0</td>\n",
       "      <td>0</td>\n",
       "      <td>1</td>\n",
       "      <td>0</td>\n",
       "    </tr>\n",
       "    <tr>\n",
       "      <th>1</th>\n",
       "      <td>0.071390</td>\n",
       "      <td>0.036364</td>\n",
       "      <td>1.0</td>\n",
       "      <td>0.000000</td>\n",
       "      <td>1</td>\n",
       "      <td>0</td>\n",
       "      <td>1</td>\n",
       "      <td>0</td>\n",
       "      <td>0</td>\n",
       "      <td>0</td>\n",
       "      <td>...</td>\n",
       "      <td>0</td>\n",
       "      <td>0</td>\n",
       "      <td>0</td>\n",
       "      <td>0</td>\n",
       "      <td>0</td>\n",
       "      <td>1</td>\n",
       "      <td>0</td>\n",
       "      <td>0</td>\n",
       "      <td>1</td>\n",
       "      <td>0</td>\n",
       "    </tr>\n",
       "    <tr>\n",
       "      <th>2</th>\n",
       "      <td>0.185361</td>\n",
       "      <td>0.000000</td>\n",
       "      <td>1.0</td>\n",
       "      <td>0.000000</td>\n",
       "      <td>1</td>\n",
       "      <td>0</td>\n",
       "      <td>0</td>\n",
       "      <td>1</td>\n",
       "      <td>0</td>\n",
       "      <td>0</td>\n",
       "      <td>...</td>\n",
       "      <td>0</td>\n",
       "      <td>0</td>\n",
       "      <td>0</td>\n",
       "      <td>1</td>\n",
       "      <td>0</td>\n",
       "      <td>0</td>\n",
       "      <td>0</td>\n",
       "      <td>0</td>\n",
       "      <td>1</td>\n",
       "      <td>0</td>\n",
       "    </tr>\n",
       "    <tr>\n",
       "      <th>3</th>\n",
       "      <td>0.240570</td>\n",
       "      <td>0.000000</td>\n",
       "      <td>1.0</td>\n",
       "      <td>0.142857</td>\n",
       "      <td>1</td>\n",
       "      <td>0</td>\n",
       "      <td>0</td>\n",
       "      <td>1</td>\n",
       "      <td>0</td>\n",
       "      <td>0</td>\n",
       "      <td>...</td>\n",
       "      <td>0</td>\n",
       "      <td>0</td>\n",
       "      <td>0</td>\n",
       "      <td>1</td>\n",
       "      <td>0</td>\n",
       "      <td>0</td>\n",
       "      <td>0</td>\n",
       "      <td>1</td>\n",
       "      <td>0</td>\n",
       "      <td>0</td>\n",
       "    </tr>\n",
       "    <tr>\n",
       "      <th>4</th>\n",
       "      <td>0.040983</td>\n",
       "      <td>0.000000</td>\n",
       "      <td>1.0</td>\n",
       "      <td>0.000000</td>\n",
       "      <td>1</td>\n",
       "      <td>0</td>\n",
       "      <td>0</td>\n",
       "      <td>1</td>\n",
       "      <td>0</td>\n",
       "      <td>0</td>\n",
       "      <td>...</td>\n",
       "      <td>0</td>\n",
       "      <td>0</td>\n",
       "      <td>0</td>\n",
       "      <td>0</td>\n",
       "      <td>0</td>\n",
       "      <td>1</td>\n",
       "      <td>0</td>\n",
       "      <td>0</td>\n",
       "      <td>1</td>\n",
       "      <td>0</td>\n",
       "    </tr>\n",
       "  </tbody>\n",
       "</table>\n",
       "<p>5 rows × 65 columns</p>\n",
       "</div>"
      ],
      "text/plain": [
       "     y_pred         0    1         2  3  4  5  6  7  8  ...  54  55  56  57  \\\n",
       "0  0.059389  0.000000  1.0  0.000000  1  0  1  0  0  0  ...   0   0   0   1   \n",
       "1  0.071390  0.036364  1.0  0.000000  1  0  1  0  0  0  ...   0   0   0   0   \n",
       "2  0.185361  0.000000  1.0  0.000000  1  0  0  1  0  0  ...   0   0   0   1   \n",
       "3  0.240570  0.000000  1.0  0.142857  1  0  0  1  0  0  ...   0   0   0   1   \n",
       "4  0.040983  0.000000  1.0  0.000000  1  0  0  1  0  0  ...   0   0   0   0   \n",
       "\n",
       "   58  59  60  61  62  63  \n",
       "0   0   0   0   0   1   0  \n",
       "1   0   1   0   0   1   0  \n",
       "2   0   0   0   0   1   0  \n",
       "3   0   0   0   1   0   0  \n",
       "4   0   1   0   0   1   0  \n",
       "\n",
       "[5 rows x 65 columns]"
      ]
     },
     "execution_count": 100,
     "metadata": {},
     "output_type": "execute_result"
    }
   ],
   "source": [
    "test_results = pd.concat(\n",
    "    [\n",
    "        pd.Series(predictions, name=\"y_pred\", index=test_x.index),\n",
    "        test_x,\n",
    "    ],\n",
    "    axis=1,\n",
    ")\n",
    "test_results.head()"
   ]
  },
  {
   "cell_type": "code",
   "execution_count": 101,
   "id": "91b8ef37-c50d-465d-bf54-2b104ace6fe7",
   "metadata": {
    "tags": []
   },
   "outputs": [
    {
     "data": {
      "text/html": [
       "<div>\n",
       "<style scoped>\n",
       "    .dataframe tbody tr th:only-of-type {\n",
       "        vertical-align: middle;\n",
       "    }\n",
       "\n",
       "    .dataframe tbody tr th {\n",
       "        vertical-align: top;\n",
       "    }\n",
       "\n",
       "    .dataframe thead th {\n",
       "        text-align: right;\n",
       "    }\n",
       "</style>\n",
       "<table border=\"1\" class=\"dataframe\">\n",
       "  <thead>\n",
       "    <tr style=\"text-align: right;\">\n",
       "      <th>predictions</th>\n",
       "      <th>0.0</th>\n",
       "      <th>1.0</th>\n",
       "    </tr>\n",
       "    <tr>\n",
       "      <th>actuals</th>\n",
       "      <th></th>\n",
       "      <th></th>\n",
       "    </tr>\n",
       "  </thead>\n",
       "  <tbody>\n",
       "    <tr>\n",
       "      <th>0</th>\n",
       "      <td>3583</td>\n",
       "      <td>53</td>\n",
       "    </tr>\n",
       "    <tr>\n",
       "      <th>1</th>\n",
       "      <td>383</td>\n",
       "      <td>100</td>\n",
       "    </tr>\n",
       "  </tbody>\n",
       "</table>\n",
       "</div>"
      ],
      "text/plain": [
       "predictions   0.0  1.0\n",
       "actuals               \n",
       "0            3583   53\n",
       "1             383  100"
      ]
     },
     "execution_count": 101,
     "metadata": {},
     "output_type": "execute_result"
    }
   ],
   "source": [
    "pd.crosstab(\n",
    "    index=test_y['y'].values,\n",
    "    columns=np.round(predictions), \n",
    "    rownames=['actuals'], \n",
    "    colnames=['predictions']\n",
    ")"
   ]
  },
  {
   "cell_type": "code",
   "execution_count": 102,
   "id": "f994e5e0-b83f-4c39-b9fe-9e0c74b2b4f6",
   "metadata": {
    "tags": []
   },
   "outputs": [
    {
     "name": "stdout",
     "output_type": "stream",
     "text": [
      "Test-auc: 0.7702\n"
     ]
    }
   ],
   "source": [
    "test_auc = roc_auc_score(test_y, test_results[\"y_pred\"])\n",
    "print(f\"Test-auc: {test_auc:.4f}\")"
   ]
  },
  {
   "cell_type": "code",
   "execution_count": 103,
   "id": "e3b0b514-0a8c-4fb3-96f8-e211ba282073",
   "metadata": {},
   "outputs": [
    {
     "name": "stderr",
     "output_type": "stream",
     "text": [
      "INFO:sagemaker:Deleting endpoint configuration with name: from-idea-to-prod-endpoint-estimator-22-16-03-15\n",
      "INFO:sagemaker:Deleting endpoint with name: from-idea-to-prod-endpoint-estimator-22-16-03-15\n"
     ]
    }
   ],
   "source": [
    "# delete the endpoint to avoid cost\n",
    "predictor_from_estimator.delete_endpoint(delete_endpoint_config=True)"
   ]
  },
  {
   "cell_type": "markdown",
   "id": "f2b56d63-c998-4ef1-ada2-e85ed1987e1e",
   "metadata": {},
   "source": [
    "## Batch transform\n",
    "If you want to run off-line predictions on a large dataset or don't need a real-time endpoint, you can use SageMaker [batch-transform](https://docs.aws.amazon.com/sagemaker/latest/dg/batch-transform.html). This section demonstrates how to use [SageMaker batch transform](https://docs.aws.amazon.com/sagemaker/latest/dg/batch-transform.html)."
   ]
  },
  {
   "cell_type": "code",
   "execution_count": 96,
   "id": "bff1abd7-4ef7-4f27-a23a-1a254e823fa1",
   "metadata": {
    "tags": []
   },
   "outputs": [],
   "source": [
    "transform_s3_url = f\"s3://{bucket_name}/{bucket_prefix}/transform\"\n",
    "model_name = f\"from-idea-to-prod-transform-{strftime('%d-%H-%M-%S', gmtime())}\""
   ]
  },
  {
   "cell_type": "markdown",
   "id": "7efc15f6-aa75-429f-9aed-c42572a06e7f",
   "metadata": {},
   "source": [
    "<div class=\"alert alert-info\"> 💡 To create a transformer, use either <b>option 1</b> or <b>option 2</b>\n",
    "</div>"
   ]
  },
  {
   "cell_type": "markdown",
   "id": "cc425f73-03f6-481d-a337-d4f457a26ff6",
   "metadata": {},
   "source": [
    "### Option 1: create a batch transformer from the trained estimator\n",
    "You can use [`EstimatorBase.transformer()`](https://sagemaker.readthedocs.io/en/stable/api/training/estimators.html#sagemaker.estimator.EstimatorBase.transformer) to create a transformer for an estimator:"
   ]
  },
  {
   "cell_type": "code",
   "execution_count": 97,
   "id": "4a6d7f94-b194-4b9a-9430-a1d5b1ec055b",
   "metadata": {
    "tags": []
   },
   "outputs": [
    {
     "name": "stderr",
     "output_type": "stream",
     "text": [
      "INFO:sagemaker:Creating model with name: from-idea-to-prod-transform-23-15-08-07\n"
     ]
    }
   ],
   "source": [
    "transformer = estimator.transformer(\n",
    "    instance_count=1,\n",
    "    instance_type=train_instance_type,\n",
    "    accept=\"text/csv\",\n",
    "    role=sm_role,\n",
    "    output_path=transform_s3_url,\n",
    "    model_name=model_name,\n",
    ")"
   ]
  },
  {
   "cell_type": "markdown",
   "id": "d00e05ab-c043-40fa-90dd-24d6850b7130",
   "metadata": {},
   "source": [
    "<div style=\"border: 4px solid coral; text-align: center; margin: auto;\">\n",
    "    <p style=\" text-align: center; margin: auto;\">Skip the Option 2 and go to the section <b>Run transform job</b>.\n",
    "    </p>\n",
    "</div>"
   ]
  },
  {
   "cell_type": "markdown",
   "id": "e49bf855-4b34-4ddb-ada6-736b2122ee18",
   "metadata": {},
   "source": [
    "### Option 2: load a model from a training job\n",
    "Alternatively, you can load a model from a model artifact produced by a training job. You create a transformer with that model."
   ]
  },
  {
   "cell_type": "code",
   "execution_count": 90,
   "id": "e971d76c-8e06-4b94-9b25-6eaec8703622",
   "metadata": {
    "tags": []
   },
   "outputs": [
    {
     "name": "stderr",
     "output_type": "stream",
     "text": [
      "INFO:sagemaker:Creating model with name: from-idea-to-prod-transform-23-15-00-28\n"
     ]
    }
   ],
   "source": [
    "model = session.create_model_from_job(\n",
    "    training_job_name=training_job_name, \n",
    "    name=model_name,\n",
    ")"
   ]
  },
  {
   "cell_type": "code",
   "execution_count": 91,
   "id": "50993f97-dce2-4084-a1de-22658fc8b669",
   "metadata": {
    "tags": []
   },
   "outputs": [],
   "source": [
    "transformer = sagemaker.transformer.Transformer(\n",
    "    model_name=model,\n",
    "    instance_count=1,\n",
    "    instance_type=train_instance_type,\n",
    "    accept=\"text/csv\",\n",
    "    assemble_with=\"Line\",\n",
    "    output_path=transform_s3_url,\n",
    "    base_transform_job_name=\"from-idea-to-prod-trasform\",\n",
    "    sagemaker_session=session,\n",
    ")"
   ]
  },
  {
   "cell_type": "markdown",
   "id": "60af22db-848d-44e8-987e-c22aedbd5354",
   "metadata": {},
   "source": [
    "### Run transform job\n",
    "\n",
    "<img src=\"data:image/svg+xml;base64,Cjxzdmcgd2lkdGg9IjgwMCIgaGVpZ2h0PSIxMjUiIHZpZXdCb3g9IjAgMCA4MDAgMTI1IiB4bWxucz0iaHR0cDovL3d3dy53My5vcmcvMjAwMC9zdmciPgogICAgPGRlZnM+CiAgICAgICAgPGxpbmVhckdyYWRpZW50IGlkPSJmYWRlR3JhZGllbnQiIHgxPSIwIiB4Mj0iMSI+CiAgICAgICAgICAgIDxzdG9wIG9mZnNldD0iMCUiIHN0b3AtY29sb3I9IiNGMEYwRjAiLz4KICAgICAgICAgICAgPHN0b3Agb2Zmc2V0PSIxMDAlIiBzdG9wLWNvbG9yPSIjRjBGMEYwIiBzdG9wLW9wYWNpdHk9IjAiLz4KICAgICAgICA8L2xpbmVhckdyYWRpZW50PgogICAgICAgIDxtYXNrIGlkPSJmYWRlTWFzayI+CiAgICAgICAgICAgIDxyZWN0IHg9IjAiIHk9IjAiIHdpZHRoPSI3NTAiIGhlaWdodD0iMTI1IiBmaWxsPSJ3aGl0ZSIvPgogICAgICAgICAgICA8cmVjdCB4PSI3NTAiIHk9IjAiIHdpZHRoPSI1MCIgaGVpZ2h0PSIxMjUiIGZpbGw9InVybCgjZmFkZUdyYWRpZW50KSIvPgogICAgICAgIDwvbWFzaz4KICAgIDwvZGVmcz4KICAgIDxwYXRoIGQ9Ik0zLDUwIEE1MCw1MCAwIDAgMSA1MywzIEw3OTcsMyBMNzk3LDk3IEw5Nyw5NyBMNTAsMTE1IEwzLDk3IFoiIGZpbGw9IiNGMEYwRjAiIHN0cm9rZT0iI0UwRTBFMCIgc3Ryb2tlLXdpZHRoPSIxIiBtYXNrPSJ1cmwoI2ZhZGVNYXNrKSIvPgogICAgPGNpcmNsZSBjeD0iNTAiIGN5PSI1MCIgcj0iMzAiIGZpbGw9IiM1N2M0ZjgiIHN0cm9rZT0iIzU3YzRmOCIgc3Ryb2tlLXdpZHRoPSIxIi8+CiAgICA8Y2lyY2xlIGN4PSI1MCIgY3k9IjUwIiByPSIyNSIgZmlsbD0iI0YwRjBGMCIvPgogICAgPGxpbmUgeDE9IjUwIiB5MT0iNTAiIHgyPSI1MCIgeTI9IjMwIiBzdHJva2U9IiM1N2M0ZjgiIHN0cm9rZS13aWR0aD0iMyIgc3Ryb2tlLWxpbmVjYXA9InJvdW5kIi8+CiAgICA8bGluZSB4MT0iNTAiIHkxPSI1MCIgeDI9IjY1IiB5Mj0iNTAiIHN0cm9rZT0iIzU3YzRmOCIgc3Ryb2tlLXdpZHRoPSIzIiBzdHJva2UtbGluZWNhcD0icm91bmQiLz4KICAgIDx0ZXh0IHg9IjEwMCIgeT0iMzQiIGZvbnQtZmFtaWx5PSJBcmlhbCwgc2Fucy1zZXJpZiIgZm9udC1zaXplPSIxNCIgZmlsbD0iIzMzMzMzMyI+VGhlIG5leHQgY2VsbCBtYXkgdGFrZSBhIGZldyBtaW51dGVzIHRvIHJ1bi48L3RleHQ+Cjwvc3ZnPgo=\" alt=\"Time alert open medium\"/>"
   ]
  },
  {
   "cell_type": "code",
   "execution_count": 98,
   "id": "4b50377c-0196-41a3-9c8c-70ee2266c160",
   "metadata": {
    "tags": []
   },
   "outputs": [
    {
     "name": "stderr",
     "output_type": "stream",
     "text": [
      "INFO:sagemaker:Creating transform job with name: from-idea-to-prod-transform-23-15-08-23\n"
     ]
    },
    {
     "name": "stdout",
     "output_type": "stream",
     "text": [
      "..................................\u001b[34m[2024-07-23:15:14:00:INFO] No GPUs detected (normal if no gpus installed)\u001b[0m\n",
      "\u001b[34m[2024-07-23:15:14:00:INFO] No GPUs detected (normal if no gpus installed)\u001b[0m\n",
      "\u001b[34m[2024-07-23:15:14:00:INFO] nginx config: \u001b[0m\n",
      "\u001b[34mworker_processes auto;\u001b[0m\n",
      "\u001b[34mdaemon off;\u001b[0m\n",
      "\u001b[34mpid /tmp/nginx.pid;\u001b[0m\n",
      "\u001b[34merror_log  /dev/stderr;\u001b[0m\n",
      "\u001b[34mworker_rlimit_nofile 4096;\u001b[0m\n",
      "\u001b[34mevents {\n",
      "  worker_connections 2048;\u001b[0m\n",
      "\u001b[35m[2024-07-23:15:14:00:INFO] No GPUs detected (normal if no gpus installed)\u001b[0m\n",
      "\u001b[35m[2024-07-23:15:14:00:INFO] No GPUs detected (normal if no gpus installed)\u001b[0m\n",
      "\u001b[35m[2024-07-23:15:14:00:INFO] nginx config: \u001b[0m\n",
      "\u001b[35mworker_processes auto;\u001b[0m\n",
      "\u001b[35mdaemon off;\u001b[0m\n",
      "\u001b[35mpid /tmp/nginx.pid;\u001b[0m\n",
      "\u001b[35merror_log  /dev/stderr;\u001b[0m\n",
      "\u001b[35mworker_rlimit_nofile 4096;\u001b[0m\n",
      "\u001b[35mevents {\n",
      "  worker_connections 2048;\u001b[0m\n",
      "\u001b[34m}\u001b[0m\n",
      "\u001b[34mhttp {\n",
      "  include /etc/nginx/mime.types;\n",
      "  default_type application/octet-stream;\n",
      "  access_log /dev/stdout combined;\n",
      "  upstream gunicorn {\n",
      "    server unix:/tmp/gunicorn.sock;\n",
      "  }\n",
      "  server {\n",
      "    listen 8080 deferred;\n",
      "    client_max_body_size 0;\n",
      "    keepalive_timeout 3;\n",
      "    location ~ ^/(ping|invocations|execution-parameters) {\n",
      "      proxy_set_header X-Forwarded-For $proxy_add_x_forwarded_for;\n",
      "      proxy_set_header Host $http_host;\n",
      "      proxy_redirect off;\n",
      "      proxy_read_timeout 60s;\n",
      "      proxy_pass http://gunicorn;\n",
      "    }\n",
      "    location / {\n",
      "      return 404 \"{}\";\n",
      "    }\n",
      "  }\u001b[0m\n",
      "\u001b[34m}\u001b[0m\n",
      "\u001b[34m[2024-07-23 15:14:00 +0000] [19] [INFO] Starting gunicorn 19.10.0\u001b[0m\n",
      "\u001b[34m[2024-07-23 15:14:00 +0000] [19] [INFO] Listening at: unix:/tmp/gunicorn.sock (19)\u001b[0m\n",
      "\u001b[34m[2024-07-23 15:14:00 +0000] [19] [INFO] Using worker: gevent\u001b[0m\n",
      "\u001b[34m/miniconda3/lib/python3.8/os.py:1023: RuntimeWarning: line buffering (buffering=1) isn't supported in binary mode, the default buffer size will be used\n",
      "  return io.open(fd, *args, **kwargs)\u001b[0m\n",
      "\u001b[34m[2024-07-23 15:14:00 +0000] [25] [INFO] Booting worker with pid: 25\u001b[0m\n",
      "\u001b[34m[2024-07-23 15:14:00 +0000] [26] [INFO] Booting worker with pid: 26\u001b[0m\n",
      "\u001b[34m[2024-07-23 15:14:00 +0000] [27] [INFO] Booting worker with pid: 27\u001b[0m\n",
      "\u001b[34m[2024-07-23 15:14:00 +0000] [28] [INFO] Booting worker with pid: 28\u001b[0m\n",
      "\u001b[35m}\u001b[0m\n",
      "\u001b[35mhttp {\n",
      "  include /etc/nginx/mime.types;\n",
      "  default_type application/octet-stream;\n",
      "  access_log /dev/stdout combined;\n",
      "  upstream gunicorn {\n",
      "    server unix:/tmp/gunicorn.sock;\n",
      "  }\n",
      "  server {\n",
      "    listen 8080 deferred;\n",
      "    client_max_body_size 0;\n",
      "    keepalive_timeout 3;\n",
      "    location ~ ^/(ping|invocations|execution-parameters) {\n",
      "      proxy_set_header X-Forwarded-For $proxy_add_x_forwarded_for;\n",
      "      proxy_set_header Host $http_host;\n",
      "      proxy_redirect off;\n",
      "      proxy_read_timeout 60s;\n",
      "      proxy_pass http://gunicorn;\n",
      "    }\n",
      "    location / {\n",
      "      return 404 \"{}\";\n",
      "    }\n",
      "  }\u001b[0m\n",
      "\u001b[35m}\u001b[0m\n",
      "\u001b[35m[2024-07-23 15:14:00 +0000] [19] [INFO] Starting gunicorn 19.10.0\u001b[0m\n",
      "\u001b[35m[2024-07-23 15:14:00 +0000] [19] [INFO] Listening at: unix:/tmp/gunicorn.sock (19)\u001b[0m\n",
      "\u001b[35m[2024-07-23 15:14:00 +0000] [19] [INFO] Using worker: gevent\u001b[0m\n",
      "\u001b[35m/miniconda3/lib/python3.8/os.py:1023: RuntimeWarning: line buffering (buffering=1) isn't supported in binary mode, the default buffer size will be used\n",
      "  return io.open(fd, *args, **kwargs)\u001b[0m\n",
      "\u001b[35m[2024-07-23 15:14:00 +0000] [25] [INFO] Booting worker with pid: 25\u001b[0m\n",
      "\u001b[35m[2024-07-23 15:14:00 +0000] [26] [INFO] Booting worker with pid: 26\u001b[0m\n",
      "\u001b[35m[2024-07-23 15:14:00 +0000] [27] [INFO] Booting worker with pid: 27\u001b[0m\n",
      "\u001b[35m[2024-07-23 15:14:00 +0000] [28] [INFO] Booting worker with pid: 28\u001b[0m\n",
      "\u001b[34m[2024-07-23:15:14:02:INFO] No GPUs detected (normal if no gpus installed)\u001b[0m\n",
      "\u001b[34m[2024-07-23:15:14:02:INFO] Loading the model from /opt/ml/model/xgboost-model\u001b[0m\n",
      "\u001b[34m[2024-07-23:15:14:02:INFO] Model objective : binary:logistic\u001b[0m\n",
      "\u001b[35m[2024-07-23:15:14:02:INFO] No GPUs detected (normal if no gpus installed)\u001b[0m\n",
      "\u001b[35m[2024-07-23:15:14:02:INFO] Loading the model from /opt/ml/model/xgboost-model\u001b[0m\n",
      "\u001b[35m[2024-07-23:15:14:02:INFO] Model objective : binary:logistic\u001b[0m\n",
      "\u001b[34m[2024-07-23:15:14:02:INFO] No GPUs detected (normal if no gpus installed)\u001b[0m\n",
      "\u001b[34m[2024-07-23:15:14:02:INFO] Loading the model from /opt/ml/model/xgboost-model\u001b[0m\n",
      "\u001b[34m[2024-07-23:15:14:02:INFO] Model objective : binary:logistic\u001b[0m\n",
      "\u001b[34m[2024-07-23:15:14:02:INFO] No GPUs detected (normal if no gpus installed)\u001b[0m\n",
      "\u001b[34m[2024-07-23:15:14:02:INFO] Loading the model from /opt/ml/model/xgboost-model\u001b[0m\n",
      "\u001b[34m[2024-07-23:15:14:02:INFO] Model objective : binary:logistic\u001b[0m\n",
      "\u001b[34m[2024-07-23:15:14:02:INFO] No GPUs detected (normal if no gpus installed)\u001b[0m\n",
      "\u001b[34m[2024-07-23:15:14:02:INFO] Loading the model from /opt/ml/model/xgboost-model\u001b[0m\n",
      "\u001b[34m[2024-07-23:15:14:02:INFO] Model objective : binary:logistic\u001b[0m\n",
      "\u001b[35m[2024-07-23:15:14:02:INFO] No GPUs detected (normal if no gpus installed)\u001b[0m\n",
      "\u001b[35m[2024-07-23:15:14:02:INFO] Loading the model from /opt/ml/model/xgboost-model\u001b[0m\n",
      "\u001b[35m[2024-07-23:15:14:02:INFO] Model objective : binary:logistic\u001b[0m\n",
      "\u001b[35m[2024-07-23:15:14:02:INFO] No GPUs detected (normal if no gpus installed)\u001b[0m\n",
      "\u001b[35m[2024-07-23:15:14:02:INFO] Loading the model from /opt/ml/model/xgboost-model\u001b[0m\n",
      "\u001b[35m[2024-07-23:15:14:02:INFO] Model objective : binary:logistic\u001b[0m\n",
      "\u001b[35m[2024-07-23:15:14:02:INFO] No GPUs detected (normal if no gpus installed)\u001b[0m\n",
      "\u001b[35m[2024-07-23:15:14:02:INFO] Loading the model from /opt/ml/model/xgboost-model\u001b[0m\n",
      "\u001b[35m[2024-07-23:15:14:02:INFO] Model objective : binary:logistic\u001b[0m\n",
      "\u001b[34m[2024-07-23:15:14:05:INFO] No GPUs detected (normal if no gpus installed)\u001b[0m\n",
      "\u001b[34m169.254.255.130 - - [23/Jul/2024:15:14:05 +0000] \"GET /ping HTTP/1.1\" 200 0 \"-\" \"Go-http-client/1.1\"\u001b[0m\n",
      "\u001b[35m[2024-07-23:15:14:05:INFO] No GPUs detected (normal if no gpus installed)\u001b[0m\n",
      "\u001b[35m169.254.255.130 - - [23/Jul/2024:15:14:05 +0000] \"GET /ping HTTP/1.1\" 200 0 \"-\" \"Go-http-client/1.1\"\u001b[0m\n",
      "\u001b[34m[2024-07-23:15:14:05:INFO] No GPUs detected (normal if no gpus installed)\u001b[0m\n",
      "\u001b[34m169.254.255.130 - - [23/Jul/2024:15:14:05 +0000] \"GET /execution-parameters HTTP/1.1\" 200 84 \"-\" \"Go-http-client/1.1\"\u001b[0m\n",
      "\u001b[34m[2024-07-23:15:14:05:INFO] Determined delimiter of CSV input is ','\u001b[0m\n",
      "\u001b[35m[2024-07-23:15:14:05:INFO] No GPUs detected (normal if no gpus installed)\u001b[0m\n",
      "\u001b[35m169.254.255.130 - - [23/Jul/2024:15:14:05 +0000] \"GET /execution-parameters HTTP/1.1\" 200 84 \"-\" \"Go-http-client/1.1\"\u001b[0m\n",
      "\u001b[35m[2024-07-23:15:14:05:INFO] Determined delimiter of CSV input is ','\u001b[0m\n",
      "\u001b[34m/miniconda3/lib/python3.8/site-packages/xgboost/core.py:122: UserWarning: ntree_limit is deprecated, use `iteration_range` or model slicing instead.\n",
      "  warnings.warn(\u001b[0m\n",
      "\u001b[34m169.254.255.130 - - [23/Jul/2024:15:14:05 +0000] \"POST /invocations HTTP/1.1\" 200 82323 \"-\" \"Go-http-client/1.1\"\u001b[0m\n",
      "\u001b[35m/miniconda3/lib/python3.8/site-packages/xgboost/core.py:122: UserWarning: ntree_limit is deprecated, use `iteration_range` or model slicing instead.\n",
      "  warnings.warn(\u001b[0m\n",
      "\u001b[35m169.254.255.130 - - [23/Jul/2024:15:14:05 +0000] \"POST /invocations HTTP/1.1\" 200 82323 \"-\" \"Go-http-client/1.1\"\u001b[0m\n",
      "\u001b[32m2024-07-23T15:14:05.232:[sagemaker logs]: MaxConcurrentTransforms=4, MaxPayloadInMB=6, BatchStrategy=MULTI_RECORD\u001b[0m\n",
      "\n"
     ]
    }
   ],
   "source": [
    "transform_job_name = f\"from-idea-to-prod-transform-{strftime('%d-%H-%M-%S', gmtime())}\"\n",
    "\n",
    "transformer.transform(    \n",
    "    data=f\"{test_s3_url}/test_x.csv\",\n",
    "    content_type=\"text/csv\",\n",
    "    split_type=\"Line\", \n",
    "    job_name=transform_job_name,\n",
    "    wait=True,\n",
    ")"
   ]
  },
  {
   "cell_type": "markdown",
   "id": "edcfde81",
   "metadata": {},
   "source": [
    "<img src=\"data:image/svg+xml;base64,Cjxzdmcgd2lkdGg9IjgwMCIgaGVpZ2h0PSI1MCIgdmlld0JveD0iMCAwIDgwMCA1MCIgeG1sbnM9Imh0dHA6Ly93d3cudzMub3JnLzIwMDAvc3ZnIj4KICAgIDxkZWZzPgogICAgICAgIDxsaW5lYXJHcmFkaWVudCBpZD0iZmFkZUdyYWRpZW50IiB4MT0iMCIgeDI9IjEiPgogICAgICAgICAgICA8c3RvcCBvZmZzZXQ9IjAlIiBzdG9wLWNvbG9yPSIjRjBGMEYwIi8+CiAgICAgICAgICAgIDxzdG9wIG9mZnNldD0iMTAwJSIgc3RvcC1jb2xvcj0iI0YwRjBGMCIgc3RvcC1vcGFjaXR5PSIwIi8+CiAgICAgICAgPC9saW5lYXJHcmFkaWVudD4KICAgICAgICA8bWFzayBpZD0iZmFkZU1hc2siPgogICAgICAgICAgICA8cmVjdCB4PSIwIiB5PSIwIiB3aWR0aD0iNzUwIiBoZWlnaHQ9IjUwIiBmaWxsPSJ3aGl0ZSIvPgogICAgICAgICAgICA8cmVjdCB4PSI3NTAiIHk9IjAiIHdpZHRoPSI1MCIgaGVpZ2h0PSI1MCIgZmlsbD0idXJsKCNmYWRlR3JhZGllbnQpIi8+CiAgICAgICAgPC9tYXNrPgogICAgPC9kZWZzPgogICAgPHBhdGggZD0iTTI1LDUwIFEwLDUwIDAsMjUgTDUwLDMgTDk3LDI1IEw3OTcsMjUgTDc5Nyw1MCBMMjUsNTAgWiIgZmlsbD0iI0YwRjBGMCIgc3Ryb2tlPSIjRTBFMEUwIiBzdHJva2Utd2lkdGg9IjEiIG1hc2s9InVybCgjZmFkZU1hc2spIi8+Cjwvc3ZnPgo=\" alt=\"Time alert close\"/>"
   ]
  },
  {
   "cell_type": "code",
   "execution_count": 99,
   "id": "1f11a902-1306-430f-8925-2ddd17741609",
   "metadata": {
    "tags": []
   },
   "outputs": [],
   "source": [
    "while sm.describe_transform_job(\n",
    "        TransformJobName=transformer._current_job_name\n",
    "    )[\"TransformJobStatus\"] != \"Completed\":\n",
    "    time.sleep(10)\n",
    "    print(f\"Wait until {transformer._current_job_name} completed\")"
   ]
  },
  {
   "cell_type": "code",
   "execution_count": 100,
   "id": "29c80898-b328-4413-bee2-34faf29f5f22",
   "metadata": {
    "tags": []
   },
   "outputs": [
    {
     "data": {
      "text/plain": [
       "'s3://sagemaker-us-east-1-398333718380/from-idea-to-prod/xgboost/transform'"
      ]
     },
     "execution_count": 100,
     "metadata": {},
     "output_type": "execute_result"
    }
   ],
   "source": [
    "transformer.output_path"
   ]
  },
  {
   "cell_type": "markdown",
   "id": "672524d0-d056-4a1d-b80a-b4e4822c8290",
   "metadata": {},
   "source": [
    "### Evaluate predictions"
   ]
  },
  {
   "cell_type": "code",
   "execution_count": 101,
   "id": "cc287aa8-de90-4de3-b59c-d7fc0e9aad2f",
   "metadata": {
    "tags": []
   },
   "outputs": [
    {
     "name": "stdout",
     "output_type": "stream",
     "text": [
      "2024-07-23 15:14:06      82323 test_x.csv.out\n"
     ]
    }
   ],
   "source": [
    "!aws s3 ls {transformer.output_path}/"
   ]
  },
  {
   "cell_type": "code",
   "execution_count": 102,
   "id": "ec638017-8bc3-498a-8b0d-26b5e85c0cde",
   "metadata": {
    "tags": []
   },
   "outputs": [
    {
     "name": "stdout",
     "output_type": "stream",
     "text": [
      "download: s3://sagemaker-us-east-1-398333718380/from-idea-to-prod/xgboost/transform/test_x.csv.out to tmp/predictions.csv\n",
      "download: s3://sagemaker-us-east-1-398333718380/from-idea-to-prod/xgboost/test/test_y.csv to tmp/test_y.csv\n"
     ]
    }
   ],
   "source": [
    "!aws s3 cp {transformer.output_path}/test_x.csv.out tmp/predictions.csv\n",
    "!aws s3 cp $test_s3_url/test_y.csv tmp/test_y.csv"
   ]
  },
  {
   "cell_type": "code",
   "execution_count": 103,
   "id": "4d5e4e16-4739-437c-8237-2083aae150be",
   "metadata": {
    "tags": []
   },
   "outputs": [],
   "source": [
    "predictions = pd.read_csv(\"tmp/predictions.csv\", names=[\"y_prob\"])\n",
    "test_y = pd.read_csv(\"tmp/test_y.csv\", names=['y'])"
   ]
  },
  {
   "cell_type": "markdown",
   "id": "54f1497b-2723-4e37-a1e0-75117dcc91af",
   "metadata": {},
   "source": [
    "#### Crosstab"
   ]
  },
  {
   "cell_type": "code",
   "execution_count": 104,
   "id": "5f5e150c-1bf7-414c-af9d-54ed108117aa",
   "metadata": {
    "tags": []
   },
   "outputs": [
    {
     "data": {
      "text/html": [
       "<div>\n",
       "<style scoped>\n",
       "    .dataframe tbody tr th:only-of-type {\n",
       "        vertical-align: middle;\n",
       "    }\n",
       "\n",
       "    .dataframe tbody tr th {\n",
       "        vertical-align: top;\n",
       "    }\n",
       "\n",
       "    .dataframe thead th {\n",
       "        text-align: right;\n",
       "    }\n",
       "</style>\n",
       "<table border=\"1\" class=\"dataframe\">\n",
       "  <thead>\n",
       "    <tr style=\"text-align: right;\">\n",
       "      <th>predictions</th>\n",
       "      <th>0.0</th>\n",
       "      <th>1.0</th>\n",
       "    </tr>\n",
       "    <tr>\n",
       "      <th>actuals</th>\n",
       "      <th></th>\n",
       "      <th></th>\n",
       "    </tr>\n",
       "  </thead>\n",
       "  <tbody>\n",
       "    <tr>\n",
       "      <th>0</th>\n",
       "      <td>3583</td>\n",
       "      <td>53</td>\n",
       "    </tr>\n",
       "    <tr>\n",
       "      <th>1</th>\n",
       "      <td>383</td>\n",
       "      <td>100</td>\n",
       "    </tr>\n",
       "  </tbody>\n",
       "</table>\n",
       "</div>"
      ],
      "text/plain": [
       "predictions   0.0  1.0\n",
       "actuals               \n",
       "0            3583   53\n",
       "1             383  100"
      ]
     },
     "execution_count": 104,
     "metadata": {},
     "output_type": "execute_result"
    }
   ],
   "source": [
    "pd.crosstab(\n",
    "    index=test_y['y'].values,\n",
    "    columns=np.array(np.round(predictions), dtype=float).squeeze(), \n",
    "    rownames=['actuals'], \n",
    "    colnames=['predictions']\n",
    ")"
   ]
  },
  {
   "cell_type": "code",
   "execution_count": 105,
   "id": "bd11aa9b-9bcc-4e70-a508-93f02781fa73",
   "metadata": {
    "tags": []
   },
   "outputs": [
    {
     "name": "stdout",
     "output_type": "stream",
     "text": [
      "Test-auc: 0.7702\n"
     ]
    }
   ],
   "source": [
    "test_auc = roc_auc_score(test_y, predictions)\n",
    "print(f\"Test-auc: {test_auc:.4f}\")"
   ]
  },
  {
   "cell_type": "markdown",
   "id": "9d358952-5b3a-4690-b118-1677bd80fd5c",
   "metadata": {},
   "source": [
    "#### ROC curve"
   ]
  },
  {
   "cell_type": "code",
   "execution_count": 106,
   "id": "eabaa6a7-08a2-4e21-95e2-17fea4c6e692",
   "metadata": {
    "tags": []
   },
   "outputs": [
    {
     "data": {
      "image/png": "[encoded data removed]",
      "text/plain": [
       "<Figure size 640x480 with 1 Axes>"
      ]
     },
     "metadata": {},
     "output_type": "display_data"
    }
   ],
   "source": [
    "fpr, tpr, thresholds = metrics.roc_curve(test_y, predictions)\n",
    "roc_auc = metrics.auc(fpr, tpr)\n",
    "roc_display = metrics.RocCurveDisplay(fpr=fpr, tpr=tpr, roc_auc=roc_auc,estimator_name='Holdout/Test Data - ROC curve')\n",
    "roc_display.plot()\n",
    "plt.show()"
   ]
  },
  {
   "cell_type": "markdown",
   "id": "34c19463-4fb0-43bd-bb33-9f3a174c060e",
   "metadata": {},
   "source": [
    "#### Confusion matrix"
   ]
  },
  {
   "cell_type": "code",
   "execution_count": 111,
   "id": "449ffe9b-1b7d-44d9-a9ce-c8d68c97de7e",
   "metadata": {
    "tags": []
   },
   "outputs": [
    {
     "data": {
      "image/png": "[encoded data removed]",
      "text/plain": [
       "<Figure size 640x480 with 2 Axes>"
      ]
     },
     "metadata": {},
     "output_type": "display_data"
    }
   ],
   "source": [
    "class_names = [\"no\", \"yes\"]\n",
    "confusion_matrix = metrics.confusion_matrix(test_y, np.round(predictions))\n",
    "ax, fig = plot_confusion_matrix(confusion_matrix, class_names)"
   ]
  },
  {
   "cell_type": "markdown",
   "id": "b90e2e7f-69fa-409b-a36f-341842d50146",
   "metadata": {},
   "source": [
    "#### Precision-recall curve"
   ]
  },
  {
   "cell_type": "code",
   "execution_count": 110,
   "id": "c36302d4-5855-43cd-9d47-e5f2d50bfaf5",
   "metadata": {
    "tags": []
   },
   "outputs": [
    {
     "data": {
      "image/png": "[encoded data removed]",
      "text/plain": [
       "<Figure size 640x480 with 1 Axes>"
      ]
     },
     "metadata": {},
     "output_type": "display_data"
    }
   ],
   "source": [
    "from sklearn.metrics import precision_recall_curve\n",
    "from sklearn.metrics import PrecisionRecallDisplay\n",
    "\n",
    "prec, recall, _ = precision_recall_curve(test_y, predictions)\n",
    "average_precision= metrics.average_precision_score(test_y, predictions)\n",
    "pr_display = PrecisionRecallDisplay(precision=prec, recall=recall, average_precision=average_precision, estimator_name='Holdout/Test Data - AUPRC curve')\n",
    "pr_display.plot()\n",
    "plt.show()"
   ]
  },
  {
   "cell_type": "markdown",
   "id": "de6ee7d6-e8d7-40aa-bae6-8db6edbcc10d",
   "metadata": {},
   "source": [
    "## Explore experiments and model registry with the MLflow UI\n",
    "You can see all logged metrics, parameters, and artifacts in the MLflow UI. To launch the MLflow UI, choose **MLflow** in the **Application** pane of the Studio UI, select your MLflow server and choose **Open MLflow**:\n",
    "\n",
    "![](img/mlflow-open.png)\n",
    "\n",
    "In the MLflow UI you can browse experiments, runs, and registered models:\n",
    "\n",
    "![](img/experiment-mlflow-2.png)\n",
    "\n",
    "![](img/models-mlflow-2.png)\n",
    "\n",
    "![](img/model-fig-mlflow.png)"
   ]
  },
  {
   "cell_type": "markdown",
   "id": "6949ec51-5f38-4432-9a5d-ed4e5350644f",
   "metadata": {},
   "source": [
    "---"
   ]
  },
  {
   "cell_type": "markdown",
   "id": "9d8a7389-9af4-4a0b-8ea7-376db0c2ed02",
   "metadata": {},
   "source": [
    "## Optional: Hyperparameter optimization (HPO)\n",
    "<div class=\"alert alert-info\">This section is optional – you don't need it for the further course of the workshop. You can move to the <b>Clean-up</b> section.</div>\n",
    "\n",
    "[Amazon SageMaker automatic model tuning](https://docs.aws.amazon.com/sagemaker/latest/dg/automatic-model-tuning.html), also called hyperparameter optimization (HPO), finds the best performing model against a defined objective metric by running many training jobs on the dataset using the algorithm and ranges of hyperparameters that you specify. SageMaker HPO supports random search, bayesian optimization, and [hyperband](https://docs.aws.amazon.com/sagemaker/latest/dg/automatic-model-tuning-how-it-works.html) as tuning strategies."
   ]
  },
  {
   "cell_type": "code",
   "execution_count": 112,
   "id": "543f54c4-11b1-418d-aab9-0fa52ae88835",
   "metadata": {},
   "outputs": [
    {
     "name": "stderr",
     "output_type": "stream",
     "text": [
      "2024/07/23 15:18:43 INFO mlflow.tracking.fluent: Experiment with name 'from-idea-to-prod-hpo-23-15-18-43' does not exist. Creating a new experiment.\n"
     ]
    },
    {
     "data": {
      "text/plain": [
       "<Experiment: artifact_location='s3://sagemaker-studio-398333718380-e44b6ca0/mlflow/d-wxmppmljqkj5/9', creation_time=1721747923985, experiment_id='9', last_update_time=1721747923985, lifecycle_stage='active', name='from-idea-to-prod-hpo-23-15-18-43', tags={}>"
      ]
     },
     "execution_count": 112,
     "metadata": {},
     "output_type": "execute_result"
    }
   ],
   "source": [
    "suffix = strftime('%d-%H-%M-%S', gmtime())\n",
    "hpo_experiment_name = f\"from-idea-to-prod-hpo-{suffix}\"\n",
    "registered_hpo_model_name = f\"from-idea-to-prod-hpo-model-{suffix}\"\n",
    "\n",
    "mlflow.set_experiment(hpo_experiment_name)"
   ]
  },
  {
   "cell_type": "code",
   "execution_count": 113,
   "id": "5230ec51-bab2-40ca-a5ce-3a31590d47a5",
   "metadata": {
    "tags": []
   },
   "outputs": [],
   "source": [
    "# import required HPO objects\n",
    "from sagemaker.tuner import (\n",
    "    CategoricalParameter,\n",
    "    ContinuousParameter,\n",
    "    HyperparameterTuner,\n",
    "    IntegerParameter,\n",
    ")"
   ]
  },
  {
   "cell_type": "code",
   "execution_count": 114,
   "id": "531a6e93-5f57-43d1-851f-e6574b0d53ca",
   "metadata": {},
   "outputs": [
    {
     "name": "stderr",
     "output_type": "stream",
     "text": [
      "INFO:sagemaker.image_uris:Ignoring unnecessary Python version: py3.\n",
      "INFO:sagemaker.image_uris:Ignoring unnecessary instance type: ml.m5.xlarge.\n"
     ]
    }
   ],
   "source": [
    "# set up hyperparameter ranges\n",
    "hp_ranges = {\n",
    "    \"min_child_weight\": ContinuousParameter(1, 10),\n",
    "    \"max_depth\": IntegerParameter(1, 10),\n",
    "    \"alpha\": ContinuousParameter(0, 5),\n",
    "    \"eta\": ContinuousParameter(0, 1),\n",
    "    \"colsample_bytree\": ContinuousParameter(0, 1),\n",
    "}\n",
    "\n",
    "# set up the objective metric\n",
    "objective = \"validation:auc\"\n",
    "\n",
    "# set up the estimator in script mode\n",
    "hpo_estimator = XGBoost(\n",
    "    entry_point='train.py',\n",
    "    source_dir='./training',\n",
    "    framework_version=\"1.7-1\",  \n",
    "    hyperparameters=hyperparams,\n",
    "    role=sm_role,\n",
    "    instance_count=train_instance_count,\n",
    "    instance_type=train_instance_type,\n",
    "    output_path=output_s3_url,\n",
    "    base_job_name=\"from-idea-to-prod-training\",\n",
    "    environment={\n",
    "        'MLFLOW_TRACKING_ARN': mlflow_arn,\n",
    "        'MLFLOW_EXPERIMENT_NAME': hpo_experiment_name,\n",
    "        'USER': user_profile_name,\n",
    "        'REGION': region,\n",
    "    }\n",
    ")\n",
    "\n",
    "# instantiate a HPO object\n",
    "tuner = HyperparameterTuner(\n",
    "    estimator=hpo_estimator,  # the SageMaker estimator object\n",
    "    hyperparameter_ranges=hp_ranges,  # the range of hyperparameters\n",
    "    max_jobs=10,  # total number of HPO jobs\n",
    "    max_parallel_jobs=3,  # how many HPO jobs can run in parallel\n",
    "    strategy=\"Bayesian\",  # the internal optimization strategy of HPO\n",
    "    objective_metric_name=objective,  # the objective metric to be used for HPO\n",
    "    objective_type=\"Maximize\",  # maximize or minimize the objective metric\n",
    "    base_tuning_job_name=\"from-idea-to-prod-hpo\",\n",
    "    early_stopping_type=\"Auto\",\n",
    ")"
   ]
  },
  {
   "cell_type": "markdown",
   "id": "7aab138e-5629-4a9d-830a-efb425a375bb",
   "metadata": {},
   "source": [
    "### Run the HPO\n",
    "Now run the HPO job. It takes about 10 minutes to complete."
   ]
  },
  {
   "cell_type": "markdown",
   "id": "9752f3de",
   "metadata": {},
   "source": [
    "<img src=\"data:image/svg+xml;base64,Cjxzdmcgd2lkdGg9IjgwMCIgaGVpZ2h0PSIxMjUiIHZpZXdCb3g9IjAgMCA4MDAgMTI1IiB4bWxucz0iaHR0cDovL3d3dy53My5vcmcvMjAwMC9zdmciPgogICAgPGRlZnM+CiAgICAgICAgPGxpbmVhckdyYWRpZW50IGlkPSJmYWRlR3JhZGllbnQiIHgxPSIwIiB4Mj0iMSI+CiAgICAgICAgICAgIDxzdG9wIG9mZnNldD0iMCUiIHN0b3AtY29sb3I9IiNGMEYwRjAiLz4KICAgICAgICAgICAgPHN0b3Agb2Zmc2V0PSIxMDAlIiBzdG9wLWNvbG9yPSIjRjBGMEYwIiBzdG9wLW9wYWNpdHk9IjAiLz4KICAgICAgICA8L2xpbmVhckdyYWRpZW50PgogICAgICAgIDxtYXNrIGlkPSJmYWRlTWFzayI+CiAgICAgICAgICAgIDxyZWN0IHg9IjAiIHk9IjAiIHdpZHRoPSI3NTAiIGhlaWdodD0iMTI1IiBmaWxsPSJ3aGl0ZSIvPgogICAgICAgICAgICA8cmVjdCB4PSI3NTAiIHk9IjAiIHdpZHRoPSI1MCIgaGVpZ2h0PSIxMjUiIGZpbGw9InVybCgjZmFkZUdyYWRpZW50KSIvPgogICAgICAgIDwvbWFzaz4KICAgIDwvZGVmcz4KICAgIDxwYXRoIGQ9Ik0zLDUwIEE1MCw1MCAwIDAgMSA1MywzIEw3OTcsMyBMNzk3LDk3IEw5Nyw5NyBMNTAsMTE1IEwzLDk3IFoiIGZpbGw9IiNGMEYwRjAiIHN0cm9rZT0iI0UwRTBFMCIgc3Ryb2tlLXdpZHRoPSIxIiBtYXNrPSJ1cmwoI2ZhZGVNYXNrKSIvPgogICAgPGNpcmNsZSBjeD0iNTAiIGN5PSI1MCIgcj0iMzAiIGZpbGw9IiM1N2M0ZjgiIHN0cm9rZT0iIzU3YzRmOCIgc3Ryb2tlLXdpZHRoPSIxIi8+CiAgICA8Y2lyY2xlIGN4PSI1MCIgY3k9IjUwIiByPSIyNSIgZmlsbD0iI0YwRjBGMCIvPgogICAgPGxpbmUgeDE9IjUwIiB5MT0iNTAiIHgyPSI1MCIgeTI9IjMwIiBzdHJva2U9IiM1N2M0ZjgiIHN0cm9rZS13aWR0aD0iMyIgc3Ryb2tlLWxpbmVjYXA9InJvdW5kIi8+CiAgICA8bGluZSB4MT0iNTAiIHkxPSI1MCIgeDI9IjY1IiB5Mj0iNTAiIHN0cm9rZT0iIzU3YzRmOCIgc3Ryb2tlLXdpZHRoPSIzIiBzdHJva2UtbGluZWNhcD0icm91bmQiLz4KICAgIDx0ZXh0IHg9IjEwMCIgeT0iMzQiIGZvbnQtZmFtaWx5PSJBcmlhbCwgc2Fucy1zZXJpZiIgZm9udC1zaXplPSIxNCIgZmlsbD0iIzMzMzMzMyI+VGhlIG5leHQgY2VsbCBtYXkgdGFrZSBhIGZldyBtaW51dGVzIHRvIHJ1bi4gUGxlYXNlIGJlIHBhdGllbnQuPC90ZXh0PgogICAgPHRleHQgeD0iMTAwIiB5PSI1NiIgZm9udC1mYW1pbHk9IkFyaWFsLCBzYW5zLXNlcmlmIiBmb250LXNpemU9IjE0IiBmaWxsPSIjMzMzMzMzIj5Zb3UgY2FuIHNhZmVseSBpZ25vcmUgdGhlIHdhcm5pbmcgbWVzc2FnZXMuPC90ZXh0Pgo8L3N2Zz4K\" alt=\"Time alert open medium\"/>"
   ]
  },
  {
   "cell_type": "code",
   "execution_count": null,
   "id": "612a815f-c9f9-4e8e-9afb-ffd3b98a0f4b",
   "metadata": {
    "tags": []
   },
   "outputs": [
    {
     "name": "stderr",
     "output_type": "stream",
     "text": [
      "WARNING:sagemaker.estimator:No finished training job found associated with this estimator. Please make sure this estimator is only used for building workflow config\n",
      "INFO:sagemaker:Creating hyperparameter tuning job with name: from-idea-to-prod-hp-240723-1518\n"
     ]
    },
    {
     "name": "stdout",
     "output_type": "stream",
     "text": [
      "..............................."
     ]
    }
   ],
   "source": [
    "tuner.fit(\n",
    "    {\"train\": s3_input_train, \"validation\": s3_input_validation},\n",
    ")"
   ]
  },
  {
   "cell_type": "markdown",
   "id": "0697a30f",
   "metadata": {},
   "source": [
    "<img src=\"data:image/svg+xml;base64,Cjxzdmcgd2lkdGg9IjgwMCIgaGVpZ2h0PSI1MCIgdmlld0JveD0iMCAwIDgwMCA1MCIgeG1sbnM9Imh0dHA6Ly93d3cudzMub3JnLzIwMDAvc3ZnIj4KICAgIDxkZWZzPgogICAgICAgIDxsaW5lYXJHcmFkaWVudCBpZD0iZmFkZUdyYWRpZW50IiB4MT0iMCIgeDI9IjEiPgogICAgICAgICAgICA8c3RvcCBvZmZzZXQ9IjAlIiBzdG9wLWNvbG9yPSIjRjBGMEYwIi8+CiAgICAgICAgICAgIDxzdG9wIG9mZnNldD0iMTAwJSIgc3RvcC1jb2xvcj0iI0YwRjBGMCIgc3RvcC1vcGFjaXR5PSIwIi8+CiAgICAgICAgPC9saW5lYXJHcmFkaWVudD4KICAgICAgICA8bWFzayBpZD0iZmFkZU1hc2siPgogICAgICAgICAgICA8cmVjdCB4PSIwIiB5PSIwIiB3aWR0aD0iNzUwIiBoZWlnaHQ9IjUwIiBmaWxsPSJ3aGl0ZSIvPgogICAgICAgICAgICA8cmVjdCB4PSI3NTAiIHk9IjAiIHdpZHRoPSI1MCIgaGVpZ2h0PSI1MCIgZmlsbD0idXJsKCNmYWRlR3JhZGllbnQpIi8+CiAgICAgICAgPC9tYXNrPgogICAgPC9kZWZzPgogICAgPHBhdGggZD0iTTI1LDUwIFEwLDUwIDAsMjUgTDUwLDMgTDk3LDI1IEw3OTcsMjUgTDc5Nyw1MCBMMjUsNTAgWiIgZmlsbD0iI0YwRjBGMCIgc3Ryb2tlPSIjRTBFMEUwIiBzdHJva2Utd2lkdGg9IjEiIG1hc2s9InVybCgjZmFkZU1hc2spIi8+Cjwvc3ZnPgo=\" alt=\"Time alert close\"/>"
   ]
  },
  {
   "cell_type": "code",
   "execution_count": null,
   "id": "9eb7ee04-eee8-4e23-9e63-ad29cbbcf2d5",
   "metadata": {},
   "outputs": [],
   "source": [
    "tuner.describe()['HyperParameterTuningJobStatus']"
   ]
  },
  {
   "cell_type": "markdown",
   "id": "9b4a7395-f35b-4bca-8b4e-73f51bfad4cd",
   "metadata": {},
   "source": [
    "To see the details on the HPO job in the SageMaker console click on the link constructed by the cell below:"
   ]
  },
  {
   "cell_type": "code",
   "execution_count": 117,
   "id": "2fe934e6-a68a-47e6-9bba-64f1a35af835",
   "metadata": {},
   "outputs": [
    {
     "data": {
      "text/html": [
       "<b>See the SageMaker <a target=\"top\" href=\"https://us-east-1.console.aws.amazon.com/sagemaker/home?region=us-east-1#/hyper-tuning-jobs/from-idea-to-prod-hp-240723-1518\">HPO job</a></b>"
      ],
      "text/plain": [
       "<IPython.core.display.HTML object>"
      ]
     },
     "metadata": {},
     "output_type": "display_data"
    }
   ],
   "source": [
    "# Show the HPO job\n",
    "display(\n",
    "    HTML('<b>See the SageMaker <a target=\"top\" href=\"https://{}.console.aws.amazon.com/sagemaker/home?region={}#/hyper-tuning-jobs/{}\">HPO job</a></b>'.format(\n",
    "            region, region, tuner.latest_tuning_job.job_name))\n",
    ")"
   ]
  },
  {
   "cell_type": "markdown",
   "id": "24453c3a-e309-403a-8b32-a7735c726f95",
   "metadata": {},
   "source": [
    "### See HPO results\n",
    "Now get the results and see the best training job."
   ]
  },
  {
   "cell_type": "code",
   "execution_count": 118,
   "id": "c2b0e7b2-cc3e-4900-8fa5-5550c5332633",
   "metadata": {},
   "outputs": [],
   "source": [
    "best_training_job = tuner.describe()['BestTrainingJob']"
   ]
  },
  {
   "cell_type": "code",
   "execution_count": 122,
   "id": "6c290b58-bf22-4ace-809b-b60c81e8af38",
   "metadata": {},
   "outputs": [
    {
     "data": {
      "text/plain": [
       "{'TrainingJobName': 'from-idea-to-prod-hp-240723-1518-005-d7bd1bea',\n",
       " 'TrainingJobArn': 'arn:aws:sagemaker:us-east-1:398333718380:training-job/from-idea-to-prod-hp-240723-1518-005-d7bd1bea',\n",
       " 'CreationTime': datetime.datetime(2024, 7, 23, 15, 22, 5, tzinfo=tzlocal()),\n",
       " 'TrainingStartTime': datetime.datetime(2024, 7, 23, 15, 22, 10, tzinfo=tzlocal()),\n",
       " 'TrainingEndTime': datetime.datetime(2024, 7, 23, 15, 22, 55, tzinfo=tzlocal()),\n",
       " 'TrainingJobStatus': 'Completed',\n",
       " 'TunedHyperParameters': {'alpha': '1.9411349623447722',\n",
       "  'colsample_bytree': '0.9719145844174029',\n",
       "  'eta': '0.5900080886835951',\n",
       "  'max_depth': '3',\n",
       "  'min_child_weight': '6.942252273864162'},\n",
       " 'FinalHyperParameterTuningJobObjectiveMetric': {'MetricName': 'validation:auc',\n",
       "  'Value': 0.7686470150947571},\n",
       " 'ObjectiveStatus': 'Succeeded'}"
      ]
     },
     "execution_count": 122,
     "metadata": {},
     "output_type": "execute_result"
    }
   ],
   "source": [
    "best_training_job"
   ]
  },
  {
   "cell_type": "markdown",
   "id": "386f87b9-2834-4f32-aa2f-d196c73fd093",
   "metadata": {},
   "source": [
    "### Register the best HPO model in the model registry\n",
    "Register the best HPO model with the hyperparameters, metrics, and model artifacts in the MLflow model registry."
   ]
  },
  {
   "cell_type": "code",
   "execution_count": 142,
   "id": "1cb264d9-b41d-4a70-b4a4-12d88e463dd0",
   "metadata": {},
   "outputs": [],
   "source": [
    "# find the run with the best HPO model\n",
    "best_hpo_model_run_id = mlflow.search_runs(\n",
    "    experiment_ids=[mlflow.get_experiment_by_name(hpo_experiment_name).experiment_id], \n",
    "    filter_string=f\"tags.mlflow.source.name LIKE '%{best_training_job['TrainingJobArn'].split('/')[-1]}%'\",\n",
    ")['run_id'][0]"
   ]
  },
  {
   "cell_type": "code",
   "execution_count": 143,
   "id": "2366d8af-2f98-40db-84ad-6b50f0e4456e",
   "metadata": {},
   "outputs": [
    {
     "data": {
      "text/plain": [
       "'dca26c9b57644181a7c29f448dcdf2f8'"
      ]
     },
     "execution_count": 143,
     "metadata": {},
     "output_type": "execute_result"
    }
   ],
   "source": [
    "best_hpo_model_run_id"
   ]
  },
  {
   "cell_type": "code",
   "execution_count": 144,
   "id": "261651e4-077a-487f-a7f8-4d283ea0d249",
   "metadata": {},
   "outputs": [
    {
     "name": "stderr",
     "output_type": "stream",
     "text": [
      "Registered model 'from-idea-to-prod-hpo-model-23-15-18-43' already exists. Creating a new version of this model...\n",
      "2024/07/23 15:58:10 INFO mlflow.store.model_registry.abstract_store: Waiting up to 300 seconds for model version to finish creation. Model name: from-idea-to-prod-hpo-model-23-15-18-43, version 2\n",
      "Created version '2' of model 'from-idea-to-prod-hpo-model-23-15-18-43'.\n"
     ]
    }
   ],
   "source": [
    "# Register the model\n",
    "model_uri = f\"runs:/{best_hpo_model_run_id}/model\"\n",
    "registered_hpo_model_version = mlflow.register_model(model_uri, registered_hpo_model_name)"
   ]
  },
  {
   "cell_type": "markdown",
   "id": "2abee438-8068-46e4-bd0f-60a2bb50f4f4",
   "metadata": {},
   "source": [
    "As the next step you need to deploy the best HPO model and test it. You can choose one of the following options below."
   ]
  },
  {
   "cell_type": "markdown",
   "id": "b7a94832-b635-41a1-9403-6e4b12cfdfbb",
   "metadata": {},
   "source": [
    "### Run local inference with the best HPO model"
   ]
  },
  {
   "cell_type": "code",
   "execution_count": 145,
   "id": "1e44ed71-3a44-434d-8073-3e660485ad8c",
   "metadata": {},
   "outputs": [
    {
     "data": {
      "application/vnd.jupyter.widget-view+json": {
       "model_id": "7ce7605c554d4de98dee0568064dd638",
       "version_major": 2,
       "version_minor": 0
      },
      "text/plain": [
       "Downloading artifacts:   0%|          | 0/9 [00:00<?, ?it/s]"
      ]
     },
     "metadata": {},
     "output_type": "display_data"
    },
    {
     "data": {
      "text/plain": [
       "array([0.04267826, 0.08499952, 0.15696459, ..., 0.03439572, 0.04623231,\n",
       "       0.04456939])"
      ]
     },
     "execution_count": 145,
     "metadata": {},
     "output_type": "execute_result"
    }
   ],
   "source": [
    "# get the model from the MLflow model registry\n",
    "model_uri = registered_hpo_model_version.source\n",
    "model = mlflow.xgboost.load_model(model_uri)\n",
    "\n",
    "# load data\n",
    "test_x = loadtxt(\"tmp/test_x.csv\", delimiter=\",\")\n",
    "test_y = loadtxt(\"tmp/test_y.csv\", delimiter=\",\")\n",
    "\n",
    "# predict\n",
    "dtest = xgb.DMatrix(test_x)\n",
    "\n",
    "predictions = np.array(model.predict(dtest), dtype=float).squeeze()\n",
    "predictions"
   ]
  },
  {
   "cell_type": "code",
   "execution_count": 146,
   "id": "16362190-042e-4515-af23-4a44c24e3d82",
   "metadata": {},
   "outputs": [
    {
     "data": {
      "text/html": [
       "<div>\n",
       "<style scoped>\n",
       "    .dataframe tbody tr th:only-of-type {\n",
       "        vertical-align: middle;\n",
       "    }\n",
       "\n",
       "    .dataframe tbody tr th {\n",
       "        vertical-align: top;\n",
       "    }\n",
       "\n",
       "    .dataframe thead th {\n",
       "        text-align: right;\n",
       "    }\n",
       "</style>\n",
       "<table border=\"1\" class=\"dataframe\">\n",
       "  <thead>\n",
       "    <tr style=\"text-align: right;\">\n",
       "      <th>predictions</th>\n",
       "      <th>0.0</th>\n",
       "      <th>1.0</th>\n",
       "    </tr>\n",
       "    <tr>\n",
       "      <th>actuals</th>\n",
       "      <th></th>\n",
       "      <th></th>\n",
       "    </tr>\n",
       "  </thead>\n",
       "  <tbody>\n",
       "    <tr>\n",
       "      <th>0.0</th>\n",
       "      <td>3587</td>\n",
       "      <td>49</td>\n",
       "    </tr>\n",
       "    <tr>\n",
       "      <th>1.0</th>\n",
       "      <td>387</td>\n",
       "      <td>96</td>\n",
       "    </tr>\n",
       "  </tbody>\n",
       "</table>\n",
       "</div>"
      ],
      "text/plain": [
       "predictions   0.0  1.0\n",
       "actuals               \n",
       "0.0          3587   49\n",
       "1.0           387   96"
      ]
     },
     "execution_count": 146,
     "metadata": {},
     "output_type": "execute_result"
    }
   ],
   "source": [
    "pd.crosstab(\n",
    "    index=test_y,\n",
    "    columns=np.round(predictions), \n",
    "    rownames=['actuals'], \n",
    "    colnames=['predictions']\n",
    ")"
   ]
  },
  {
   "cell_type": "code",
   "execution_count": 147,
   "id": "e7bba99e-e648-4b73-9a26-5d5052f16f9e",
   "metadata": {},
   "outputs": [
    {
     "name": "stdout",
     "output_type": "stream",
     "text": [
      "Test-auc: 0.7706\n"
     ]
    }
   ],
   "source": [
    "test_auc = roc_auc_score(test_y, predictions)\n",
    "print(f\"Test-auc: {test_auc:.4f}\")"
   ]
  },
  {
   "cell_type": "markdown",
   "id": "9edd93b6-5a44-4998-8403-6d142b82ff95",
   "metadata": {},
   "source": [
    "There is only a small improvements for the model metrics. It can indicate, that the XGBoost model is already at it's limit. You might want to explore other model types to improve the prediction accuracy for this use case."
   ]
  },
  {
   "cell_type": "markdown",
   "id": "64fd8435-9c7e-4b4f-87b2-13ee830d19e3",
   "metadata": {},
   "source": [
    "---"
   ]
  },
  {
   "cell_type": "markdown",
   "id": "f5493780-c392-4432-a34b-75f27ce984a5",
   "metadata": {},
   "source": [
    "## Clean-up\n",
    "To avoid charges, remove the hosted endpoint you created."
   ]
  },
  {
   "cell_type": "code",
   "execution_count": 148,
   "id": "2de13080-5527-4de4-aacb-3eb50af0f92f",
   "metadata": {
    "tags": []
   },
   "outputs": [
    {
     "name": "stderr",
     "output_type": "stream",
     "text": [
      "INFO:sagemaker:Deleting endpoint configuration with name: from-idea-to-prod-endpoint-23-14-35-37\n",
      "INFO:sagemaker:Deleting endpoint with name: from-idea-to-prod-endpoint-23-14-35-37\n"
     ]
    }
   ],
   "source": [
    "predictor.delete_endpoint(delete_endpoint_config=True)"
   ]
  },
  {
   "cell_type": "markdown",
   "id": "34f720e0-e8d5-4cb5-93a6-6a4f2dafd523",
   "metadata": {},
   "source": [
    "## Continue with the step 3\n",
    "open the step 3 [notebook](03-sagemaker-pipeline.ipynb)."
   ]
  },
  {
   "cell_type": "markdown",
   "id": "62b623d7-4b16-4c6f-96a8-ad92a77b1601",
   "metadata": {},
   "source": [
    "## Further development ideas for your real-world projects\n",
    "- [Manage experiments](https://docs.aws.amazon.com/sagemaker/latest/dg/mlflow.html)\n",
    "- Use [Amazon SageMaker Data Wrangler](https://docs.aws.amazon.com/sagemaker/latest/dg/data-wrangler.html) for creating a no-code or low-code visual data processing and feature engineering flow.\n",
    "- Try no-code [SageMaker Canvas](https://docs.aws.amazon.com/sagemaker/latest/dg/canvas.html) on your data to perform analysis and use automated ML to build models and generate predictions"
   ]
  },
  {
   "cell_type": "markdown",
   "id": "6ba1fc9d-7a52-4d2f-b51e-0f9422119389",
   "metadata": {},
   "source": [
    "## Additional resources\n",
    "- [Using Docker containers with SageMaker](https://docs.aws.amazon.com/sagemaker/latest/dg/docker-containers.html)\n",
    "- [How to create and use a custom SageMaker container: SageMaker hands-on workshop](https://sagemaker-workshop.com/custom/containers.html)\n",
    "- [Amazon SageMaker Immersion Day](https://catalog.us-east-1.prod.workshops.aws/workshops/63069e26-921c-4ce1-9cc7-dd882ff62575/en-US)\n",
    "- [Targeting Direct Marketing with Amazon SageMaker XGBoost](https://github.com/aws-samples/amazon-sagemaker-immersion-day/blob/master/processing_xgboost.ipynb)\n",
    "- [Train a Machine Learning Model](https://aws.amazon.com/getting-started/hands-on/machine-learning-tutorial-train-a-model/)\n",
    "- [Deploy a Machine Learning Model to a Real-Time Inference Endpoint](https://aws.amazon.com/getting-started/hands-on/machine-learning-tutorial-deploy-model-to-real-time-inference-endpoint/)\n",
    "- [Amazon SageMaker 101 Workshop](https://catalog.us-east-1.prod.workshops.aws/workshops/0c6b8a23-b837-4e0f-b2e2-4a3ffd7d645b/en-US)\n",
    "- [Amazon SageMaker 101 Workshop code repository](https://github.com/aws-samples/sagemaker-101-workshop)\n",
    "- [Amazon SageMaker with XGBoost and Hyperparameter Tuning for Direct Marketing predictions](https://github.com/aws-samples/sagemaker-101-workshop/blob/main/builtin_algorithm_hpo_tabular/SageMaker%20XGBoost%20HPO.ipynb)"
   ]
  },
  {
   "cell_type": "markdown",
   "id": "2d7b222f-ee83-4c87-9019-cebcc7e56627",
   "metadata": {},
   "source": [
    "# Shutdown kernel"
   ]
  },
  {
   "cell_type": "code",
   "execution_count": null,
   "id": "ae0b1f02-44b8-4749-a5e2-ce415fff7f78",
   "metadata": {},
   "outputs": [],
   "source": [
    "%%html\n",
    "\n",
    "<p><b>Shutting down your kernel for this notebook to release resources.</b></p>\n",
    "<button class=\"sm-command-button\" data-commandlinker-command=\"kernelmenu:shutdown\" style=\"display:none;\">Shutdown Kernel</button>\n",
    "        \n",
    "<script>\n",
    "try {\n",
    "    els = document.getElementsByClassName(\"sm-command-button\");\n",
    "    els[0].click();\n",
    "}\n",
    "catch(err) {\n",
    "    // NoOp\n",
    "}    \n",
    "</script>"
   ]
  },
  {
   "cell_type": "code",
   "execution_count": null,
   "id": "725f9d18-a550-46f6-9de8-9aeeed8171fd",
   "metadata": {},
   "outputs": [],
   "source": []
  }
 ],
 "metadata": {
  "availableInstances": [
   {
    "_defaultOrder": 0,
    "_isFastLaunch": true,
    "category": "General purpose",
    "gpuNum": 0,
    "hideHardwareSpecs": false,
    "memoryGiB": 4,
    "name": "ml.t3.medium",
    "vcpuNum": 2
   },
   {
    "_defaultOrder": 1,
    "_isFastLaunch": false,
    "category": "General purpose",
    "gpuNum": 0,
    "hideHardwareSpecs": false,
    "memoryGiB": 8,
    "name": "ml.t3.large",
    "vcpuNum": 2
   },
   {
    "_defaultOrder": 2,
    "_isFastLaunch": false,
    "category": "General purpose",
    "gpuNum": 0,
    "hideHardwareSpecs": false,
    "memoryGiB": 16,
    "name": "ml.t3.xlarge",
    "vcpuNum": 4
   },
   {
    "_defaultOrder": 3,
    "_isFastLaunch": false,
    "category": "General purpose",
    "gpuNum": 0,
    "hideHardwareSpecs": false,
    "memoryGiB": 32,
    "name": "ml.t3.2xlarge",
    "vcpuNum": 8
   },
   {
    "_defaultOrder": 4,
    "_isFastLaunch": true,
    "category": "General purpose",
    "gpuNum": 0,
    "hideHardwareSpecs": false,
    "memoryGiB": 8,
    "name": "ml.m5.large",
    "vcpuNum": 2
   },
   {
    "_defaultOrder": 5,
    "_isFastLaunch": false,
    "category": "General purpose",
    "gpuNum": 0,
    "hideHardwareSpecs": false,
    "memoryGiB": 16,
    "name": "ml.m5.xlarge",
    "vcpuNum": 4
   },
   {
    "_defaultOrder": 6,
    "_isFastLaunch": false,
    "category": "General purpose",
    "gpuNum": 0,
    "hideHardwareSpecs": false,
    "memoryGiB": 32,
    "name": "ml.m5.2xlarge",
    "vcpuNum": 8
   },
   {
    "_defaultOrder": 7,
    "_isFastLaunch": false,
    "category": "General purpose",
    "gpuNum": 0,
    "hideHardwareSpecs": false,
    "memoryGiB": 64,
    "name": "ml.m5.4xlarge",
    "vcpuNum": 16
   },
   {
    "_defaultOrder": 8,
    "_isFastLaunch": false,
    "category": "General purpose",
    "gpuNum": 0,
    "hideHardwareSpecs": false,
    "memoryGiB": 128,
    "name": "ml.m5.8xlarge",
    "vcpuNum": 32
   },
   {
    "_defaultOrder": 9,
    "_isFastLaunch": false,
    "category": "General purpose",
    "gpuNum": 0,
    "hideHardwareSpecs": false,
    "memoryGiB": 192,
    "name": "ml.m5.12xlarge",
    "vcpuNum": 48
   },
   {
    "_defaultOrder": 10,
    "_isFastLaunch": false,
    "category": "General purpose",
    "gpuNum": 0,
    "hideHardwareSpecs": false,
    "memoryGiB": 256,
    "name": "ml.m5.16xlarge",
    "vcpuNum": 64
   },
   {
    "_defaultOrder": 11,
    "_isFastLaunch": false,
    "category": "General purpose",
    "gpuNum": 0,
    "hideHardwareSpecs": false,
    "memoryGiB": 384,
    "name": "ml.m5.24xlarge",
    "vcpuNum": 96
   },
   {
    "_defaultOrder": 12,
    "_isFastLaunch": false,
    "category": "General purpose",
    "gpuNum": 0,
    "hideHardwareSpecs": false,
    "memoryGiB": 8,
    "name": "ml.m5d.large",
    "vcpuNum": 2
   },
   {
    "_defaultOrder": 13,
    "_isFastLaunch": false,
    "category": "General purpose",
    "gpuNum": 0,
    "hideHardwareSpecs": false,
    "memoryGiB": 16,
    "name": "ml.m5d.xlarge",
    "vcpuNum": 4
   },
   {
    "_defaultOrder": 14,
    "_isFastLaunch": false,
    "category": "General purpose",
    "gpuNum": 0,
    "hideHardwareSpecs": false,
    "memoryGiB": 32,
    "name": "ml.m5d.2xlarge",
    "vcpuNum": 8
   },
   {
    "_defaultOrder": 15,
    "_isFastLaunch": false,
    "category": "General purpose",
    "gpuNum": 0,
    "hideHardwareSpecs": false,
    "memoryGiB": 64,
    "name": "ml.m5d.4xlarge",
    "vcpuNum": 16
   },
   {
    "_defaultOrder": 16,
    "_isFastLaunch": false,
    "category": "General purpose",
    "gpuNum": 0,
    "hideHardwareSpecs": false,
    "memoryGiB": 128,
    "name": "ml.m5d.8xlarge",
    "vcpuNum": 32
   },
   {
    "_defaultOrder": 17,
    "_isFastLaunch": false,
    "category": "General purpose",
    "gpuNum": 0,
    "hideHardwareSpecs": false,
    "memoryGiB": 192,
    "name": "ml.m5d.12xlarge",
    "vcpuNum": 48
   },
   {
    "_defaultOrder": 18,
    "_isFastLaunch": false,
    "category": "General purpose",
    "gpuNum": 0,
    "hideHardwareSpecs": false,
    "memoryGiB": 256,
    "name": "ml.m5d.16xlarge",
    "vcpuNum": 64
   },
   {
    "_defaultOrder": 19,
    "_isFastLaunch": false,
    "category": "General purpose",
    "gpuNum": 0,
    "hideHardwareSpecs": false,
    "memoryGiB": 384,
    "name": "ml.m5d.24xlarge",
    "vcpuNum": 96
   },
   {
    "_defaultOrder": 20,
    "_isFastLaunch": false,
    "category": "General purpose",
    "gpuNum": 0,
    "hideHardwareSpecs": true,
    "memoryGiB": 0,
    "name": "ml.geospatial.interactive",
    "supportedImageNames": [
     "sagemaker-geospatial-v1-0"
    ],
    "vcpuNum": 0
   },
   {
    "_defaultOrder": 21,
    "_isFastLaunch": true,
    "category": "Compute optimized",
    "gpuNum": 0,
    "hideHardwareSpecs": false,
    "memoryGiB": 4,
    "name": "ml.c5.large",
    "vcpuNum": 2
   },
   {
    "_defaultOrder": 22,
    "_isFastLaunch": false,
    "category": "Compute optimized",
    "gpuNum": 0,
    "hideHardwareSpecs": false,
    "memoryGiB": 8,
    "name": "ml.c5.xlarge",
    "vcpuNum": 4
   },
   {
    "_defaultOrder": 23,
    "_isFastLaunch": false,
    "category": "Compute optimized",
    "gpuNum": 0,
    "hideHardwareSpecs": false,
    "memoryGiB": 16,
    "name": "ml.c5.2xlarge",
    "vcpuNum": 8
   },
   {
    "_defaultOrder": 24,
    "_isFastLaunch": false,
    "category": "Compute optimized",
    "gpuNum": 0,
    "hideHardwareSpecs": false,
    "memoryGiB": 32,
    "name": "ml.c5.4xlarge",
    "vcpuNum": 16
   },
   {
    "_defaultOrder": 25,
    "_isFastLaunch": false,
    "category": "Compute optimized",
    "gpuNum": 0,
    "hideHardwareSpecs": false,
    "memoryGiB": 72,
    "name": "ml.c5.9xlarge",
    "vcpuNum": 36
   },
   {
    "_defaultOrder": 26,
    "_isFastLaunch": false,
    "category": "Compute optimized",
    "gpuNum": 0,
    "hideHardwareSpecs": false,
    "memoryGiB": 96,
    "name": "ml.c5.12xlarge",
    "vcpuNum": 48
   },
   {
    "_defaultOrder": 27,
    "_isFastLaunch": false,
    "category": "Compute optimized",
    "gpuNum": 0,
    "hideHardwareSpecs": false,
    "memoryGiB": 144,
    "name": "ml.c5.18xlarge",
    "vcpuNum": 72
   },
   {
    "_defaultOrder": 28,
    "_isFastLaunch": false,
    "category": "Compute optimized",
    "gpuNum": 0,
    "hideHardwareSpecs": false,
    "memoryGiB": 192,
    "name": "ml.c5.24xlarge",
    "vcpuNum": 96
   },
   {
    "_defaultOrder": 29,
    "_isFastLaunch": true,
    "category": "Accelerated computing",
    "gpuNum": 1,
    "hideHardwareSpecs": false,
    "memoryGiB": 16,
    "name": "ml.g4dn.xlarge",
    "vcpuNum": 4
   },
   {
    "_defaultOrder": 30,
    "_isFastLaunch": false,
    "category": "Accelerated computing",
    "gpuNum": 1,
    "hideHardwareSpecs": false,
    "memoryGiB": 32,
    "name": "ml.g4dn.2xlarge",
    "vcpuNum": 8
   },
   {
    "_defaultOrder": 31,
    "_isFastLaunch": false,
    "category": "Accelerated computing",
    "gpuNum": 1,
    "hideHardwareSpecs": false,
    "memoryGiB": 64,
    "name": "ml.g4dn.4xlarge",
    "vcpuNum": 16
   },
   {
    "_defaultOrder": 32,
    "_isFastLaunch": false,
    "category": "Accelerated computing",
    "gpuNum": 1,
    "hideHardwareSpecs": false,
    "memoryGiB": 128,
    "name": "ml.g4dn.8xlarge",
    "vcpuNum": 32
   },
   {
    "_defaultOrder": 33,
    "_isFastLaunch": false,
    "category": "Accelerated computing",
    "gpuNum": 4,
    "hideHardwareSpecs": false,
    "memoryGiB": 192,
    "name": "ml.g4dn.12xlarge",
    "vcpuNum": 48
   },
   {
    "_defaultOrder": 34,
    "_isFastLaunch": false,
    "category": "Accelerated computing",
    "gpuNum": 1,
    "hideHardwareSpecs": false,
    "memoryGiB": 256,
    "name": "ml.g4dn.16xlarge",
    "vcpuNum": 64
   },
   {
    "_defaultOrder": 35,
    "_isFastLaunch": false,
    "category": "Accelerated computing",
    "gpuNum": 1,
    "hideHardwareSpecs": false,
    "memoryGiB": 61,
    "name": "ml.p3.2xlarge",
    "vcpuNum": 8
   },
   {
    "_defaultOrder": 36,
    "_isFastLaunch": false,
    "category": "Accelerated computing",
    "gpuNum": 4,
    "hideHardwareSpecs": false,
    "memoryGiB": 244,
    "name": "ml.p3.8xlarge",
    "vcpuNum": 32
   },
   {
    "_defaultOrder": 37,
    "_isFastLaunch": false,
    "category": "Accelerated computing",
    "gpuNum": 8,
    "hideHardwareSpecs": false,
    "memoryGiB": 488,
    "name": "ml.p3.16xlarge",
    "vcpuNum": 64
   },
   {
    "_defaultOrder": 38,
    "_isFastLaunch": false,
    "category": "Accelerated computing",
    "gpuNum": 8,
    "hideHardwareSpecs": false,
    "memoryGiB": 768,
    "name": "ml.p3dn.24xlarge",
    "vcpuNum": 96
   },
   {
    "_defaultOrder": 39,
    "_isFastLaunch": false,
    "category": "Memory Optimized",
    "gpuNum": 0,
    "hideHardwareSpecs": false,
    "memoryGiB": 16,
    "name": "ml.r5.large",
    "vcpuNum": 2
   },
   {
    "_defaultOrder": 40,
    "_isFastLaunch": false,
    "category": "Memory Optimized",
    "gpuNum": 0,
    "hideHardwareSpecs": false,
    "memoryGiB": 32,
    "name": "ml.r5.xlarge",
    "vcpuNum": 4
   },
   {
    "_defaultOrder": 41,
    "_isFastLaunch": false,
    "category": "Memory Optimized",
    "gpuNum": 0,
    "hideHardwareSpecs": false,
    "memoryGiB": 64,
    "name": "ml.r5.2xlarge",
    "vcpuNum": 8
   },
   {
    "_defaultOrder": 42,
    "_isFastLaunch": false,
    "category": "Memory Optimized",
    "gpuNum": 0,
    "hideHardwareSpecs": false,
    "memoryGiB": 128,
    "name": "ml.r5.4xlarge",
    "vcpuNum": 16
   },
   {
    "_defaultOrder": 43,
    "_isFastLaunch": false,
    "category": "Memory Optimized",
    "gpuNum": 0,
    "hideHardwareSpecs": false,
    "memoryGiB": 256,
    "name": "ml.r5.8xlarge",
    "vcpuNum": 32
   },
   {
    "_defaultOrder": 44,
    "_isFastLaunch": false,
    "category": "Memory Optimized",
    "gpuNum": 0,
    "hideHardwareSpecs": false,
    "memoryGiB": 384,
    "name": "ml.r5.12xlarge",
    "vcpuNum": 48
   },
   {
    "_defaultOrder": 45,
    "_isFastLaunch": false,
    "category": "Memory Optimized",
    "gpuNum": 0,
    "hideHardwareSpecs": false,
    "memoryGiB": 512,
    "name": "ml.r5.16xlarge",
    "vcpuNum": 64
   },
   {
    "_defaultOrder": 46,
    "_isFastLaunch": false,
    "category": "Memory Optimized",
    "gpuNum": 0,
    "hideHardwareSpecs": false,
    "memoryGiB": 768,
    "name": "ml.r5.24xlarge",
    "vcpuNum": 96
   },
   {
    "_defaultOrder": 47,
    "_isFastLaunch": false,
    "category": "Accelerated computing",
    "gpuNum": 1,
    "hideHardwareSpecs": false,
    "memoryGiB": 16,
    "name": "ml.g5.xlarge",
    "vcpuNum": 4
   },
   {
    "_defaultOrder": 48,
    "_isFastLaunch": false,
    "category": "Accelerated computing",
    "gpuNum": 1,
    "hideHardwareSpecs": false,
    "memoryGiB": 32,
    "name": "ml.g5.2xlarge",
    "vcpuNum": 8
   },
   {
    "_defaultOrder": 49,
    "_isFastLaunch": false,
    "category": "Accelerated computing",
    "gpuNum": 1,
    "hideHardwareSpecs": false,
    "memoryGiB": 64,
    "name": "ml.g5.4xlarge",
    "vcpuNum": 16
   },
   {
    "_defaultOrder": 50,
    "_isFastLaunch": false,
    "category": "Accelerated computing",
    "gpuNum": 1,
    "hideHardwareSpecs": false,
    "memoryGiB": 128,
    "name": "ml.g5.8xlarge",
    "vcpuNum": 32
   },
   {
    "_defaultOrder": 51,
    "_isFastLaunch": false,
    "category": "Accelerated computing",
    "gpuNum": 1,
    "hideHardwareSpecs": false,
    "memoryGiB": 256,
    "name": "ml.g5.16xlarge",
    "vcpuNum": 64
   },
   {
    "_defaultOrder": 52,
    "_isFastLaunch": false,
    "category": "Accelerated computing",
    "gpuNum": 4,
    "hideHardwareSpecs": false,
    "memoryGiB": 192,
    "name": "ml.g5.12xlarge",
    "vcpuNum": 48
   },
   {
    "_defaultOrder": 53,
    "_isFastLaunch": false,
    "category": "Accelerated computing",
    "gpuNum": 4,
    "hideHardwareSpecs": false,
    "memoryGiB": 384,
    "name": "ml.g5.24xlarge",
    "vcpuNum": 96
   },
   {
    "_defaultOrder": 54,
    "_isFastLaunch": false,
    "category": "Accelerated computing",
    "gpuNum": 8,
    "hideHardwareSpecs": false,
    "memoryGiB": 768,
    "name": "ml.g5.48xlarge",
    "vcpuNum": 192
   },
   {
    "_defaultOrder": 55,
    "_isFastLaunch": false,
    "category": "Accelerated computing",
    "gpuNum": 8,
    "hideHardwareSpecs": false,
    "memoryGiB": 1152,
    "name": "ml.p4d.24xlarge",
    "vcpuNum": 96
   },
   {
    "_defaultOrder": 56,
    "_isFastLaunch": false,
    "category": "Accelerated computing",
    "gpuNum": 8,
    "hideHardwareSpecs": false,
    "memoryGiB": 1152,
    "name": "ml.p4de.24xlarge",
    "vcpuNum": 96
   },
   {
    "_defaultOrder": 57,
    "_isFastLaunch": false,
    "category": "Accelerated computing",
    "gpuNum": 0,
    "hideHardwareSpecs": false,
    "memoryGiB": 32,
    "name": "ml.trn1.2xlarge",
    "vcpuNum": 8
   },
   {
    "_defaultOrder": 58,
    "_isFastLaunch": false,
    "category": "Accelerated computing",
    "gpuNum": 0,
    "hideHardwareSpecs": false,
    "memoryGiB": 512,
    "name": "ml.trn1.32xlarge",
    "vcpuNum": 128
   },
   {
    "_defaultOrder": 59,
    "_isFastLaunch": false,
    "category": "Accelerated computing",
    "gpuNum": 0,
    "hideHardwareSpecs": false,
    "memoryGiB": 512,
    "name": "ml.trn1n.32xlarge",
    "vcpuNum": 128
   }
  ],
  "instance_type": "ml.t3.medium",
  "kernelspec": {
   "display_name": "Python 3 (ipykernel)",
   "language": "python",
   "name": "python3"
  },
  "language_info": {
   "codemirror_mode": {
    "name": "ipython",
    "version": 3
   },
   "file_extension": ".py",
   "mimetype": "text/x-python",
   "name": "python",
   "nbconvert_exporter": "python",
   "pygments_lexer": "ipython3",
   "version": "3.11.9"
  }
 },
 "nbformat": 4,
 "nbformat_minor": 5
}

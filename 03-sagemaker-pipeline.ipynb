{
 "cells": [
  {
   "cell_type": "markdown",
   "id": "575c15ae-ffe0-4d93-84d8-bf96278c0372",
   "metadata": {
    "tags": []
   },
   "source": [
    "# Step 3: Add an ML pipeline\n",
    "\n",
    "In this step you automate our end-to-end ML workflow using [Amazon SageMaker Pipelines](https://aws.amazon.com/sagemaker/pipelines/) and [Amazon SageMaker Model Registry](https://docs.aws.amazon.com/sagemaker/latest/dg/model-registry.html). You make feature engineering re-usable, repeatable, and scaleable using [Amazon SageMaker Feature Store](https://aws.amazon.com/sagemaker/feature-store/).\n",
    "\n",
    "![](img/six-steps-3.png)\n",
    "\n",
    "<div class=\"alert alert-info\"> Make sure you using <code>Python 3</code> kernel in JupyterLab for this notebook.</div>"
   ]
  },
  {
   "cell_type": "markdown",
   "id": "401790be-c212-4cb1-b265-4fb0e739836a",
   "metadata": {},
   "source": [
    "<img src=\"data:image/svg+xml;base64,Cjxzdmcgd2lkdGg9IjgwMCIgaGVpZ2h0PSIxMjUiIHZpZXdCb3g9IjAgMCA4MDAgMTI1IiB4bWxucz0iaHR0cDovL3d3dy53My5vcmcvMjAwMC9zdmciPgogICAgPGRlZnM+CiAgICAgICAgPGxpbmVhckdyYWRpZW50IGlkPSJmYWRlR3JhZGllbnQiIHgxPSIwIiB4Mj0iMSI+CiAgICAgICAgICAgIDxzdG9wIG9mZnNldD0iMCUiIHN0b3AtY29sb3I9IiNGMEYwRjAiLz4KICAgICAgICAgICAgPHN0b3Agb2Zmc2V0PSIxMDAlIiBzdG9wLWNvbG9yPSIjRjBGMEYwIiBzdG9wLW9wYWNpdHk9IjAiLz4KICAgICAgICA8L2xpbmVhckdyYWRpZW50PgogICAgICAgIDxtYXNrIGlkPSJmYWRlTWFzayI+CiAgICAgICAgICAgIDxyZWN0IHg9IjAiIHk9IjAiIHdpZHRoPSI3NTAiIGhlaWdodD0iMTI1IiBmaWxsPSJ3aGl0ZSIvPgogICAgICAgICAgICA8cmVjdCB4PSI3NTAiIHk9IjAiIHdpZHRoPSI1MCIgaGVpZ2h0PSIxMjUiIGZpbGw9InVybCgjZmFkZUdyYWRpZW50KSIvPgogICAgICAgIDwvbWFzaz4KICAgIDwvZGVmcz4KICAgIDxwYXRoIGQ9Ik0zLDUwIEE1MCw1MCAwIDAgMSA1MywzIEw3OTcsMyBMNzk3LDk3IEw5Nyw5NyBMNTAsMTE1IEwzLDk3IFoiIGZpbGw9IiNGMEYwRjAiIHN0cm9rZT0iI0UwRTBFMCIgc3Ryb2tlLXdpZHRoPSIxIiBtYXNrPSJ1cmwoI2ZhZGVNYXNrKSIvPgogICAgPGNpcmNsZSBjeD0iNTAiIGN5PSI1MCIgcj0iMzAiIGZpbGw9IiM1N2M0ZjgiIHN0cm9rZT0iIzU3YzRmOCIgc3Ryb2tlLXdpZHRoPSIxIi8+CiAgICA8Y2lyY2xlIGN4PSI1MCIgY3k9IjUwIiByPSIyNSIgZmlsbD0iI0YwRjBGMCIvPgogICAgPGxpbmUgeDE9IjUwIiB5MT0iNTAiIHgyPSI1MCIgeTI9IjMwIiBzdHJva2U9IiM1N2M0ZjgiIHN0cm9rZS13aWR0aD0iMyIgc3Ryb2tlLWxpbmVjYXA9InJvdW5kIi8+CiAgICA8bGluZSB4MT0iNTAiIHkxPSI1MCIgeDI9IjY1IiB5Mj0iNTAiIHN0cm9rZT0iIzU3YzRmOCIgc3Ryb2tlLXdpZHRoPSIzIiBzdHJva2UtbGluZWNhcD0icm91bmQiLz4KICAgIDx0ZXh0IHg9IjEwMCIgeT0iMzQiIGZvbnQtZmFtaWx5PSJBcmlhbCwgc2Fucy1zZXJpZiIgZm9udC1zaXplPSIxNCIgZmlsbD0iIzMzMzMzMyI+VGhlIG5leHQgY2VsbCBtYXkgdGFrZSBhIGZldyBtaW51dGVzIHRvIHJ1bi4gUGxlYXNlIGJlIHBhdGllbnQuPC90ZXh0PgogICAgPHRleHQgeD0iMTAwIiB5PSI1NiIgZm9udC1mYW1pbHk9IkFyaWFsLCBzYW5zLXNlcmlmIiBmb250LXNpemU9IjE0IiBmaWxsPSIjMzMzMzMzIj5Zb3UgY2FuIHNhZmVseSBpZ25vcmUgdGhlIHdhcm5pbmcgbWVzc2FnZXMuPC90ZXh0Pgo8L3N2Zz4K\" alt=\"Time alert open medium\"/>"
   ]
  },
  {
   "cell_type": "code",
   "execution_count": 1,
   "id": "573dc870-cf00-4083-b9d9-d274dc39d89a",
   "metadata": {
    "tags": []
   },
   "outputs": [
    {
     "name": "stdout",
     "output_type": "stream",
     "text": [
      "Collecting sagemaker[feature-processor]\n",
      "  Using cached sagemaker-2.232.1-py3-none-any.whl.metadata (16 kB)\n",
      "Collecting attrs<24,>=23.1.0 (from sagemaker[feature-processor])\n",
      "  Downloading attrs-23.2.0-py3-none-any.whl.metadata (9.5 kB)\n",
      "Collecting boto3<2.0,>=1.34.142 (from sagemaker[feature-processor])\n",
      "  Using cached boto3-1.35.23-py3-none-any.whl.metadata (6.6 kB)\n",
      "Collecting cloudpickle==2.2.1 (from sagemaker[feature-processor])\n",
      "  Downloading cloudpickle-2.2.1-py3-none-any.whl.metadata (6.9 kB)\n",
      "Collecting docker (from sagemaker[feature-processor])\n",
      "  Downloading docker-7.1.0-py3-none-any.whl.metadata (3.8 kB)\n",
      "Collecting google-pasta (from sagemaker[feature-processor])\n",
      "  Downloading google_pasta-0.2.0-py3-none-any.whl.metadata (814 bytes)\n",
      "Collecting importlib-metadata<7.0,>=1.4.0 (from sagemaker[feature-processor])\n",
      "  Downloading importlib_metadata-6.11.0-py3-none-any.whl.metadata (4.9 kB)\n",
      "Collecting jsonschema (from sagemaker[feature-processor])\n",
      "  Downloading jsonschema-4.23.0-py3-none-any.whl.metadata (7.9 kB)\n",
      "Collecting numpy<2.0,>=1.9.0 (from sagemaker[feature-processor])\n",
      "  Downloading numpy-1.26.4-cp311-cp311-manylinux_2_17_x86_64.manylinux2014_x86_64.whl.metadata (61 kB)\n",
      "Collecting packaging>=20.0 (from sagemaker[feature-processor])\n",
      "  Downloading packaging-24.1-py3-none-any.whl.metadata (3.2 kB)\n",
      "Collecting pandas (from sagemaker[feature-processor])\n",
      "  Downloading pandas-2.2.3-cp311-cp311-manylinux_2_17_x86_64.manylinux2014_x86_64.whl.metadata (89 kB)\n",
      "Collecting pathos (from sagemaker[feature-processor])\n",
      "  Downloading pathos-0.3.2-py3-none-any.whl.metadata (11 kB)\n",
      "Collecting platformdirs (from sagemaker[feature-processor])\n",
      "  Using cached platformdirs-4.3.6-py3-none-any.whl.metadata (11 kB)\n",
      "Collecting protobuf<5.0,>=3.12 (from sagemaker[feature-processor])\n",
      "  Downloading protobuf-4.25.5-cp37-abi3-manylinux2014_x86_64.whl.metadata (541 bytes)\n",
      "Collecting psutil (from sagemaker[feature-processor])\n",
      "  Downloading psutil-6.0.0-cp36-abi3-manylinux_2_12_x86_64.manylinux2010_x86_64.manylinux_2_17_x86_64.manylinux2014_x86_64.whl.metadata (21 kB)\n",
      "Collecting pyyaml~=6.0 (from sagemaker[feature-processor])\n",
      "  Downloading PyYAML-6.0.2-cp311-cp311-manylinux_2_17_x86_64.manylinux2014_x86_64.whl.metadata (2.1 kB)\n",
      "Collecting requests (from sagemaker[feature-processor])\n",
      "  Downloading requests-2.32.3-py3-none-any.whl.metadata (4.6 kB)\n",
      "Collecting sagemaker-core<2.0.0,>=1.0.0 (from sagemaker[feature-processor])\n",
      "  Downloading sagemaker_core-1.0.6-py3-none-any.whl.metadata (4.9 kB)\n",
      "Collecting schema (from sagemaker[feature-processor])\n",
      "  Downloading schema-0.7.7-py2.py3-none-any.whl.metadata (34 kB)\n",
      "Collecting smdebug-rulesconfig==1.0.1 (from sagemaker[feature-processor])\n",
      "  Downloading smdebug_rulesconfig-1.0.1-py2.py3-none-any.whl.metadata (943 bytes)\n",
      "Collecting tblib<4,>=1.7.0 (from sagemaker[feature-processor])\n",
      "  Downloading tblib-3.0.0-py3-none-any.whl.metadata (25 kB)\n",
      "Collecting tqdm (from sagemaker[feature-processor])\n",
      "  Downloading tqdm-4.66.5-py3-none-any.whl.metadata (57 kB)\n",
      "Collecting urllib3<3.0.0,>=1.26.8 (from sagemaker[feature-processor])\n",
      "  Downloading urllib3-2.2.3-py3-none-any.whl.metadata (6.5 kB)\n",
      "Collecting pyspark==3.3.1 (from sagemaker[feature-processor])\n",
      "  Downloading pyspark-3.3.1.tar.gz (281.4 MB)\n",
      "\u001b[2K     \u001b[90m━━━━━━━━━━━━━━━━━━━━━━━━━━━━━━━━━━━━━\u001b[0m \u001b[32m281.4/281.4 MB\u001b[0m \u001b[31m121.3 MB/s\u001b[0m eta \u001b[36m0:00:00\u001b[0m00:01\u001b[0m00:01\u001b[0m\n",
      "\u001b[?25h  Preparing metadata (setup.py) ... \u001b[?25ldone\n",
      "\u001b[?25hCollecting sagemaker-feature-store-pyspark-3-3 (from sagemaker[feature-processor])\n",
      "  Downloading sagemaker_feature_store_pyspark_3.3-1.1.2.tar.gz (55.5 MB)\n",
      "\u001b[2K     \u001b[90m━━━━━━━━━━━━━━━━━━━━━━━━━━━━━━━━━━━━━━━\u001b[0m \u001b[32m55.5/55.5 MB\u001b[0m \u001b[31m148.2 MB/s\u001b[0m eta \u001b[36m0:00:00\u001b[0m00:01\u001b[0m\n",
      "\u001b[?25h  Preparing metadata (setup.py) ... \u001b[?25ldone\n",
      "\u001b[?25hCollecting py4j==0.10.9.5 (from pyspark==3.3.1->sagemaker[feature-processor])\n",
      "  Downloading py4j-0.10.9.5-py2.py3-none-any.whl.metadata (1.5 kB)\n",
      "Collecting botocore<1.36.0,>=1.35.23 (from boto3<2.0,>=1.34.142->sagemaker[feature-processor])\n",
      "  Using cached botocore-1.35.23-py3-none-any.whl.metadata (5.7 kB)\n",
      "Collecting jmespath<2.0.0,>=0.7.1 (from boto3<2.0,>=1.34.142->sagemaker[feature-processor])\n",
      "  Downloading jmespath-1.0.1-py3-none-any.whl.metadata (7.6 kB)\n",
      "Collecting s3transfer<0.11.0,>=0.10.0 (from boto3<2.0,>=1.34.142->sagemaker[feature-processor])\n",
      "  Downloading s3transfer-0.10.2-py3-none-any.whl.metadata (1.7 kB)\n",
      "Collecting zipp>=0.5 (from importlib-metadata<7.0,>=1.4.0->sagemaker[feature-processor])\n",
      "  Downloading zipp-3.20.2-py3-none-any.whl.metadata (3.7 kB)\n",
      "Collecting pydantic<3.0.0,>=1.7.0 (from sagemaker-core<2.0.0,>=1.0.0->sagemaker[feature-processor])\n",
      "  Downloading pydantic-2.9.2-py3-none-any.whl.metadata (149 kB)\n",
      "Collecting rich<14.0.0,>=13.0.0 (from sagemaker-core<2.0.0,>=1.0.0->sagemaker[feature-processor])\n",
      "  Downloading rich-13.8.1-py3-none-any.whl.metadata (18 kB)\n",
      "Collecting mock<5.0,>4.0 (from sagemaker-core<2.0.0,>=1.0.0->sagemaker[feature-processor])\n",
      "  Using cached mock-4.0.3-py3-none-any.whl.metadata (2.8 kB)\n",
      "Collecting jsonschema-specifications>=2023.03.6 (from jsonschema->sagemaker[feature-processor])\n",
      "  Downloading jsonschema_specifications-2023.12.1-py3-none-any.whl.metadata (3.0 kB)\n",
      "Collecting referencing>=0.28.4 (from jsonschema->sagemaker[feature-processor])\n",
      "  Downloading referencing-0.35.1-py3-none-any.whl.metadata (2.8 kB)\n",
      "Collecting rpds-py>=0.7.1 (from jsonschema->sagemaker[feature-processor])\n",
      "  Downloading rpds_py-0.20.0-cp311-cp311-manylinux_2_17_x86_64.manylinux2014_x86_64.whl.metadata (4.2 kB)\n",
      "Collecting charset-normalizer<4,>=2 (from requests->sagemaker[feature-processor])\n",
      "  Downloading charset_normalizer-3.3.2-cp311-cp311-manylinux_2_17_x86_64.manylinux2014_x86_64.whl.metadata (33 kB)\n",
      "Collecting idna<4,>=2.5 (from requests->sagemaker[feature-processor])\n",
      "  Downloading idna-3.10-py3-none-any.whl.metadata (10 kB)\n",
      "Collecting certifi>=2017.4.17 (from requests->sagemaker[feature-processor])\n",
      "  Downloading certifi-2024.8.30-py3-none-any.whl.metadata (2.2 kB)\n",
      "Collecting six (from google-pasta->sagemaker[feature-processor])\n",
      "  Downloading six-1.16.0-py2.py3-none-any.whl.metadata (1.8 kB)\n",
      "Collecting python-dateutil>=2.8.2 (from pandas->sagemaker[feature-processor])\n",
      "  Downloading python_dateutil-2.9.0.post0-py2.py3-none-any.whl.metadata (8.4 kB)\n",
      "Collecting pytz>=2020.1 (from pandas->sagemaker[feature-processor])\n",
      "  Downloading pytz-2024.2-py2.py3-none-any.whl.metadata (22 kB)\n",
      "Collecting tzdata>=2022.7 (from pandas->sagemaker[feature-processor])\n",
      "  Downloading tzdata-2024.1-py2.py3-none-any.whl.metadata (1.4 kB)\n",
      "Collecting ppft>=1.7.6.8 (from pathos->sagemaker[feature-processor])\n",
      "  Downloading ppft-1.7.6.8-py3-none-any.whl.metadata (12 kB)\n",
      "Collecting dill>=0.3.8 (from pathos->sagemaker[feature-processor])\n",
      "  Downloading dill-0.3.8-py3-none-any.whl.metadata (10 kB)\n",
      "Collecting pox>=0.3.4 (from pathos->sagemaker[feature-processor])\n",
      "  Downloading pox-0.3.4-py3-none-any.whl.metadata (8.0 kB)\n",
      "Collecting multiprocess>=0.70.16 (from pathos->sagemaker[feature-processor])\n",
      "  Downloading multiprocess-0.70.16-py311-none-any.whl.metadata (7.2 kB)\n",
      "Collecting annotated-types>=0.6.0 (from pydantic<3.0.0,>=1.7.0->sagemaker-core<2.0.0,>=1.0.0->sagemaker[feature-processor])\n",
      "  Downloading annotated_types-0.7.0-py3-none-any.whl.metadata (15 kB)\n",
      "Collecting pydantic-core==2.23.4 (from pydantic<3.0.0,>=1.7.0->sagemaker-core<2.0.0,>=1.0.0->sagemaker[feature-processor])\n",
      "  Downloading pydantic_core-2.23.4-cp311-cp311-manylinux_2_17_x86_64.manylinux2014_x86_64.whl.metadata (6.6 kB)\n",
      "Collecting typing-extensions>=4.6.1 (from pydantic<3.0.0,>=1.7.0->sagemaker-core<2.0.0,>=1.0.0->sagemaker[feature-processor])\n",
      "  Downloading typing_extensions-4.12.2-py3-none-any.whl.metadata (3.0 kB)\n",
      "Collecting markdown-it-py>=2.2.0 (from rich<14.0.0,>=13.0.0->sagemaker-core<2.0.0,>=1.0.0->sagemaker[feature-processor])\n",
      "  Downloading markdown_it_py-3.0.0-py3-none-any.whl.metadata (6.9 kB)\n",
      "Collecting pygments<3.0.0,>=2.13.0 (from rich<14.0.0,>=13.0.0->sagemaker-core<2.0.0,>=1.0.0->sagemaker[feature-processor])\n",
      "  Downloading pygments-2.18.0-py3-none-any.whl.metadata (2.5 kB)\n",
      "Collecting mdurl~=0.1 (from markdown-it-py>=2.2.0->rich<14.0.0,>=13.0.0->sagemaker-core<2.0.0,>=1.0.0->sagemaker[feature-processor])\n",
      "  Downloading mdurl-0.1.2-py3-none-any.whl.metadata (1.6 kB)\n",
      "Downloading cloudpickle-2.2.1-py3-none-any.whl (25 kB)\n",
      "Downloading smdebug_rulesconfig-1.0.1-py2.py3-none-any.whl (20 kB)\n",
      "Downloading py4j-0.10.9.5-py2.py3-none-any.whl (199 kB)\n",
      "Downloading attrs-23.2.0-py3-none-any.whl (60 kB)\n",
      "Using cached boto3-1.35.23-py3-none-any.whl (139 kB)\n",
      "Downloading importlib_metadata-6.11.0-py3-none-any.whl (23 kB)\n",
      "Downloading numpy-1.26.4-cp311-cp311-manylinux_2_17_x86_64.manylinux2014_x86_64.whl (18.3 MB)\n",
      "\u001b[2K   \u001b[90m━━━━━━━━━━━━━━━━━━━━━━━━━━━━━━━━━━━━━━━━\u001b[0m \u001b[32m18.3/18.3 MB\u001b[0m \u001b[31m155.5 MB/s\u001b[0m eta \u001b[36m0:00:00\u001b[0m\n",
      "\u001b[?25hDownloading packaging-24.1-py3-none-any.whl (53 kB)\n",
      "Downloading protobuf-4.25.5-cp37-abi3-manylinux2014_x86_64.whl (294 kB)\n",
      "Downloading PyYAML-6.0.2-cp311-cp311-manylinux_2_17_x86_64.manylinux2014_x86_64.whl (762 kB)\n",
      "\u001b[2K   \u001b[90m━━━━━━━━━━━━━━━━━━━━━━━━━━━━━━━━━━━━━━━━\u001b[0m \u001b[32m763.0/763.0 kB\u001b[0m \u001b[31m67.2 MB/s\u001b[0m eta \u001b[36m0:00:00\u001b[0m\n",
      "\u001b[?25hDownloading sagemaker_core-1.0.6-py3-none-any.whl (383 kB)\n",
      "Downloading jsonschema-4.23.0-py3-none-any.whl (88 kB)\n",
      "Using cached platformdirs-4.3.6-py3-none-any.whl (18 kB)\n",
      "Downloading tblib-3.0.0-py3-none-any.whl (12 kB)\n",
      "Downloading urllib3-2.2.3-py3-none-any.whl (126 kB)\n",
      "Downloading docker-7.1.0-py3-none-any.whl (147 kB)\n",
      "Downloading requests-2.32.3-py3-none-any.whl (64 kB)\n",
      "Downloading google_pasta-0.2.0-py3-none-any.whl (57 kB)\n",
      "Downloading pandas-2.2.3-cp311-cp311-manylinux_2_17_x86_64.manylinux2014_x86_64.whl (13.1 MB)\n",
      "\u001b[2K   \u001b[90m━━━━━━━━━━━━━━━━━━━━━━━━━━━━━━━━━━━━━━━━\u001b[0m \u001b[32m13.1/13.1 MB\u001b[0m \u001b[31m144.7 MB/s\u001b[0m eta \u001b[36m0:00:00\u001b[0m\n",
      "\u001b[?25hDownloading pathos-0.3.2-py3-none-any.whl (82 kB)\n",
      "Downloading psutil-6.0.0-cp36-abi3-manylinux_2_12_x86_64.manylinux2010_x86_64.manylinux_2_17_x86_64.manylinux2014_x86_64.whl (290 kB)\n",
      "Using cached sagemaker-2.232.1-py3-none-any.whl (1.6 MB)\n",
      "Downloading schema-0.7.7-py2.py3-none-any.whl (18 kB)\n",
      "Downloading tqdm-4.66.5-py3-none-any.whl (78 kB)\n",
      "Using cached botocore-1.35.23-py3-none-any.whl (12.6 MB)\n",
      "Downloading certifi-2024.8.30-py3-none-any.whl (167 kB)\n",
      "Downloading charset_normalizer-3.3.2-cp311-cp311-manylinux_2_17_x86_64.manylinux2014_x86_64.whl (140 kB)\n",
      "Downloading dill-0.3.8-py3-none-any.whl (116 kB)\n",
      "Downloading idna-3.10-py3-none-any.whl (70 kB)\n",
      "Downloading jmespath-1.0.1-py3-none-any.whl (20 kB)\n",
      "Downloading jsonschema_specifications-2023.12.1-py3-none-any.whl (18 kB)\n",
      "Using cached mock-4.0.3-py3-none-any.whl (28 kB)\n",
      "Downloading multiprocess-0.70.16-py311-none-any.whl (143 kB)\n",
      "Downloading pox-0.3.4-py3-none-any.whl (29 kB)\n",
      "Downloading ppft-1.7.6.8-py3-none-any.whl (56 kB)\n",
      "Downloading pydantic-2.9.2-py3-none-any.whl (434 kB)\n",
      "Downloading pydantic_core-2.23.4-cp311-cp311-manylinux_2_17_x86_64.manylinux2014_x86_64.whl (2.1 MB)\n",
      "\u001b[2K   \u001b[90m━━━━━━━━━━━━━━━━━━━━━━━━━━━━━━━━━━━━━━━━\u001b[0m \u001b[32m2.1/2.1 MB\u001b[0m \u001b[31m49.4 MB/s\u001b[0m eta \u001b[36m0:00:00\u001b[0m\n",
      "\u001b[?25hDownloading python_dateutil-2.9.0.post0-py2.py3-none-any.whl (229 kB)\n",
      "Downloading pytz-2024.2-py2.py3-none-any.whl (508 kB)\n",
      "Downloading referencing-0.35.1-py3-none-any.whl (26 kB)\n",
      "Downloading rich-13.8.1-py3-none-any.whl (241 kB)\n",
      "Downloading rpds_py-0.20.0-cp311-cp311-manylinux_2_17_x86_64.manylinux2014_x86_64.whl (354 kB)\n",
      "Downloading s3transfer-0.10.2-py3-none-any.whl (82 kB)\n",
      "Downloading six-1.16.0-py2.py3-none-any.whl (11 kB)\n",
      "Downloading tzdata-2024.1-py2.py3-none-any.whl (345 kB)\n",
      "Downloading zipp-3.20.2-py3-none-any.whl (9.2 kB)\n",
      "Downloading annotated_types-0.7.0-py3-none-any.whl (13 kB)\n",
      "Downloading markdown_it_py-3.0.0-py3-none-any.whl (87 kB)\n",
      "Downloading pygments-2.18.0-py3-none-any.whl (1.2 MB)\n",
      "\u001b[2K   \u001b[90m━━━━━━━━━━━━━━━━━━━━━━━━━━━━━━━━━━━━━━━━\u001b[0m \u001b[32m1.2/1.2 MB\u001b[0m \u001b[31m60.3 MB/s\u001b[0m eta \u001b[36m0:00:00\u001b[0m\n",
      "\u001b[?25hDownloading typing_extensions-4.12.2-py3-none-any.whl (37 kB)\n",
      "Downloading mdurl-0.1.2-py3-none-any.whl (10.0 kB)\n",
      "Building wheels for collected packages: pyspark, sagemaker-feature-store-pyspark-3-3\n",
      "  Building wheel for pyspark (setup.py) ... \u001b[?25ldone\n",
      "\u001b[?25h  Created wheel for pyspark: filename=pyspark-3.3.1-py2.py3-none-any.whl size=281845495 sha256=d59635c8287d17e5b16a7ebca549dfbea1a09f86f81367190b8d12a46b5ad0f4\n",
      "  Stored in directory: /home/sagemaker-user/.cache/pip/wheels/f8/b2/6a/477d856abe8174d27566a3c99972c3c8c03252407675cc7021\n",
      "  Building wheel for sagemaker-feature-store-pyspark-3-3 (setup.py) ... \u001b[?25ldone\n",
      "\u001b[?25h  Created wheel for sagemaker-feature-store-pyspark-3-3: filename=sagemaker_feature_store_pyspark_3.3-1.1.2-py3-none-any.whl size=55519484 sha256=15b116abe7e21ec3a9d92e83ca81d31ce5e865cb6033b48c46d182bfc7c96290\n",
      "  Stored in directory: /home/sagemaker-user/.cache/pip/wheels/34/2e/bf/ce3c4572ab9c586e6c115e1531769781bac82ecf9720ecfa3c\n",
      "Successfully built pyspark sagemaker-feature-store-pyspark-3-3\n",
      "Installing collected packages: schema, sagemaker-feature-store-pyspark-3-3, pytz, py4j, zipp, urllib3, tzdata, typing-extensions, tqdm, tblib, smdebug-rulesconfig, six, rpds-py, pyyaml, pyspark, pygments, psutil, protobuf, ppft, pox, platformdirs, packaging, numpy, mock, mdurl, jmespath, idna, dill, cloudpickle, charset-normalizer, certifi, attrs, annotated-types, requests, referencing, python-dateutil, pydantic-core, multiprocess, markdown-it-py, importlib-metadata, google-pasta, rich, pydantic, pathos, pandas, jsonschema-specifications, docker, botocore, s3transfer, jsonschema, boto3, sagemaker-core, sagemaker\n",
      "  Attempting uninstall: schema\n",
      "    Found existing installation: schema 0.7.7\n",
      "    Uninstalling schema-0.7.7:\n",
      "      Successfully uninstalled schema-0.7.7\n",
      "  Attempting uninstall: pytz\n",
      "    Found existing installation: pytz 2023.3\n",
      "    Uninstalling pytz-2023.3:\n",
      "      Successfully uninstalled pytz-2023.3\n",
      "  Attempting uninstall: py4j\n",
      "    Found existing installation: py4j 0.10.9.7\n",
      "    Uninstalling py4j-0.10.9.7:\n",
      "      Successfully uninstalled py4j-0.10.9.7\n",
      "  Attempting uninstall: zipp\n",
      "    Found existing installation: zipp 3.20.0\n",
      "    Uninstalling zipp-3.20.0:\n",
      "      Successfully uninstalled zipp-3.20.0\n",
      "  Attempting uninstall: urllib3\n",
      "    Found existing installation: urllib3 1.26.19\n",
      "    Uninstalling urllib3-1.26.19:\n",
      "      Successfully uninstalled urllib3-1.26.19\n",
      "  Attempting uninstall: tzdata\n",
      "    Found existing installation: tzdata 2024.1\n",
      "    Uninstalling tzdata-2024.1:\n",
      "      Successfully uninstalled tzdata-2024.1\n",
      "  Attempting uninstall: typing-extensions\n",
      "    Found existing installation: typing_extensions 4.12.2\n",
      "    Uninstalling typing_extensions-4.12.2:\n",
      "      Successfully uninstalled typing_extensions-4.12.2\n",
      "  Attempting uninstall: tqdm\n",
      "    Found existing installation: tqdm 4.66.5\n",
      "    Uninstalling tqdm-4.66.5:\n",
      "      Successfully uninstalled tqdm-4.66.5\n",
      "  Attempting uninstall: tblib\n",
      "    Found existing installation: tblib 2.0.0\n",
      "    Uninstalling tblib-2.0.0:\n",
      "      Successfully uninstalled tblib-2.0.0\n",
      "  Attempting uninstall: smdebug-rulesconfig\n",
      "    Found existing installation: smdebug-rulesconfig 1.0.1\n",
      "    Uninstalling smdebug-rulesconfig-1.0.1:\n",
      "      Successfully uninstalled smdebug-rulesconfig-1.0.1\n",
      "  Attempting uninstall: six\n",
      "    Found existing installation: six 1.16.0\n",
      "    Uninstalling six-1.16.0:\n",
      "      Successfully uninstalled six-1.16.0\n",
      "  Attempting uninstall: rpds-py\n",
      "    Found existing installation: rpds-py 0.20.0\n",
      "    Uninstalling rpds-py-0.20.0:\n",
      "      Successfully uninstalled rpds-py-0.20.0\n",
      "  Attempting uninstall: pyyaml\n",
      "    Found existing installation: PyYAML 6.0.2\n",
      "    Uninstalling PyYAML-6.0.2:\n",
      "      Successfully uninstalled PyYAML-6.0.2\n",
      "  Attempting uninstall: pygments\n",
      "    Found existing installation: Pygments 2.18.0\n",
      "    Uninstalling Pygments-2.18.0:\n",
      "      Successfully uninstalled Pygments-2.18.0\n",
      "  Attempting uninstall: psutil\n",
      "    Found existing installation: psutil 5.9.8\n",
      "    Uninstalling psutil-5.9.8:\n",
      "      Successfully uninstalled psutil-5.9.8\n",
      "  Attempting uninstall: protobuf\n",
      "    Found existing installation: protobuf 4.25.3\n",
      "    Uninstalling protobuf-4.25.3:\n",
      "      Successfully uninstalled protobuf-4.25.3\n",
      "  Attempting uninstall: ppft\n",
      "    Found existing installation: ppft 1.7.6.8\n",
      "    Uninstalling ppft-1.7.6.8:\n",
      "      Successfully uninstalled ppft-1.7.6.8\n",
      "  Attempting uninstall: pox\n",
      "    Found existing installation: pox 0.3.4\n",
      "    Uninstalling pox-0.3.4:\n",
      "      Successfully uninstalled pox-0.3.4\n",
      "  Attempting uninstall: platformdirs\n",
      "    Found existing installation: platformdirs 3.11.0\n",
      "    Uninstalling platformdirs-3.11.0:\n",
      "      Successfully uninstalled platformdirs-3.11.0\n",
      "  Attempting uninstall: packaging\n",
      "    Found existing installation: packaging 24.1\n",
      "    Uninstalling packaging-24.1:\n",
      "      Successfully uninstalled packaging-24.1\n",
      "  Attempting uninstall: numpy\n",
      "    Found existing installation: numpy 1.26.4\n",
      "    Uninstalling numpy-1.26.4:\n",
      "      Successfully uninstalled numpy-1.26.4\n",
      "  Attempting uninstall: mock\n",
      "    Found existing installation: mock 5.1.0\n",
      "    Uninstalling mock-5.1.0:\n",
      "      Successfully uninstalled mock-5.1.0\n",
      "  Attempting uninstall: mdurl\n",
      "    Found existing installation: mdurl 0.1.2\n",
      "    Uninstalling mdurl-0.1.2:\n",
      "      Successfully uninstalled mdurl-0.1.2\n",
      "  Attempting uninstall: jmespath\n",
      "    Found existing installation: jmespath 1.0.1\n",
      "    Uninstalling jmespath-1.0.1:\n",
      "      Successfully uninstalled jmespath-1.0.1\n",
      "  Attempting uninstall: idna\n",
      "    Found existing installation: idna 3.7\n",
      "    Uninstalling idna-3.7:\n",
      "      Successfully uninstalled idna-3.7\n",
      "  Attempting uninstall: dill\n",
      "    Found existing installation: dill 0.3.8\n",
      "    Uninstalling dill-0.3.8:\n",
      "      Successfully uninstalled dill-0.3.8\n",
      "  Attempting uninstall: cloudpickle\n",
      "    Found existing installation: cloudpickle 2.2.1\n",
      "    Uninstalling cloudpickle-2.2.1:\n",
      "      Successfully uninstalled cloudpickle-2.2.1\n",
      "  Attempting uninstall: charset-normalizer\n",
      "    Found existing installation: charset-normalizer 3.3.2\n",
      "    Uninstalling charset-normalizer-3.3.2:\n",
      "      Successfully uninstalled charset-normalizer-3.3.2\n",
      "  Attempting uninstall: certifi\n",
      "    Found existing installation: certifi 2024.7.4\n",
      "    Uninstalling certifi-2024.7.4:\n",
      "      Successfully uninstalled certifi-2024.7.4\n",
      "  Attempting uninstall: attrs\n",
      "    Found existing installation: attrs 23.2.0\n",
      "    Uninstalling attrs-23.2.0:\n",
      "      Successfully uninstalled attrs-23.2.0\n",
      "  Attempting uninstall: annotated-types\n",
      "    Found existing installation: annotated-types 0.7.0\n",
      "    Uninstalling annotated-types-0.7.0:\n",
      "      Successfully uninstalled annotated-types-0.7.0\n",
      "  Attempting uninstall: requests\n",
      "    Found existing installation: requests 2.32.3\n",
      "    Uninstalling requests-2.32.3:\n",
      "      Successfully uninstalled requests-2.32.3\n",
      "  Attempting uninstall: referencing\n",
      "    Found existing installation: referencing 0.35.1\n",
      "    Uninstalling referencing-0.35.1:\n",
      "      Successfully uninstalled referencing-0.35.1\n",
      "  Attempting uninstall: python-dateutil\n",
      "    Found existing installation: python-dateutil 2.9.0\n",
      "    Uninstalling python-dateutil-2.9.0:\n",
      "      Successfully uninstalled python-dateutil-2.9.0\n",
      "  Attempting uninstall: pydantic-core\n",
      "    Found existing installation: pydantic_core 2.18.4\n",
      "    Uninstalling pydantic_core-2.18.4:\n",
      "      Successfully uninstalled pydantic_core-2.18.4\n",
      "  Attempting uninstall: multiprocess\n",
      "    Found existing installation: multiprocess 0.70.16\n",
      "    Uninstalling multiprocess-0.70.16:\n",
      "      Successfully uninstalled multiprocess-0.70.16\n",
      "  Attempting uninstall: markdown-it-py\n",
      "    Found existing installation: markdown-it-py 3.0.0\n",
      "    Uninstalling markdown-it-py-3.0.0:\n",
      "      Successfully uninstalled markdown-it-py-3.0.0\n",
      "  Attempting uninstall: importlib-metadata\n",
      "    Found existing installation: importlib-metadata 6.10.0\n",
      "    Uninstalling importlib-metadata-6.10.0:\n",
      "      Successfully uninstalled importlib-metadata-6.10.0\n",
      "  Attempting uninstall: google-pasta\n",
      "    Found existing installation: google-pasta 0.2.0\n",
      "    Uninstalling google-pasta-0.2.0:\n",
      "      Successfully uninstalled google-pasta-0.2.0\n",
      "  Attempting uninstall: rich\n",
      "    Found existing installation: rich 13.7.1\n",
      "    Uninstalling rich-13.7.1:\n",
      "      Successfully uninstalled rich-13.7.1\n",
      "  Attempting uninstall: pydantic\n",
      "    Found existing installation: pydantic 1.10.17\n",
      "    Uninstalling pydantic-1.10.17:\n",
      "      Successfully uninstalled pydantic-1.10.17\n",
      "  Attempting uninstall: pathos\n",
      "    Found existing installation: pathos 0.3.2\n",
      "    Uninstalling pathos-0.3.2:\n",
      "      Successfully uninstalled pathos-0.3.2\n",
      "  Attempting uninstall: pandas\n",
      "    Found existing installation: pandas 2.2.2\n",
      "    Uninstalling pandas-2.2.2:\n",
      "      Successfully uninstalled pandas-2.2.2\n",
      "  Attempting uninstall: jsonschema-specifications\n",
      "    Found existing installation: jsonschema-specifications 2023.12.1\n",
      "    Uninstalling jsonschema-specifications-2023.12.1:\n",
      "      Successfully uninstalled jsonschema-specifications-2023.12.1\n",
      "  Attempting uninstall: docker\n",
      "    Found existing installation: docker 7.1.0\n",
      "    Uninstalling docker-7.1.0:\n",
      "      Successfully uninstalled docker-7.1.0\n",
      "  Attempting uninstall: botocore\n",
      "    Found existing installation: botocore 1.34.131\n",
      "    Uninstalling botocore-1.34.131:\n",
      "      Successfully uninstalled botocore-1.34.131\n",
      "  Attempting uninstall: s3transfer\n",
      "    Found existing installation: s3transfer 0.10.2\n",
      "    Uninstalling s3transfer-0.10.2:\n",
      "      Successfully uninstalled s3transfer-0.10.2\n",
      "  Attempting uninstall: jsonschema\n",
      "    Found existing installation: jsonschema 4.21.1\n",
      "    Uninstalling jsonschema-4.21.1:\n",
      "      Successfully uninstalled jsonschema-4.21.1\n",
      "  Attempting uninstall: boto3\n",
      "    Found existing installation: boto3 1.34.131\n",
      "    Uninstalling boto3-1.34.131:\n",
      "      Successfully uninstalled boto3-1.34.131\n",
      "  Attempting uninstall: sagemaker\n",
      "    Found existing installation: sagemaker 2.227.0\n",
      "    Uninstalling sagemaker-2.227.0:\n",
      "      Successfully uninstalled sagemaker-2.227.0\n",
      "\u001b[31mERROR: pip's dependency resolver does not currently take into account all the packages that are installed. This behaviour is the source of the following dependency conflicts.\n",
      "autogluon-multimodal 1.1.1 requires nvidia-ml-py3==7.352.0, which is not installed.\n",
      "dash 2.17.1 requires dash-core-components==2.0.0, which is not installed.\n",
      "dash 2.17.1 requires dash-html-components==2.0.0, which is not installed.\n",
      "dash 2.17.1 requires dash-table==5.0.0, which is not installed.\n",
      "jupyter-ai 2.20.0 requires faiss-cpu<=1.8.0, which is not installed.\n",
      "aiobotocore 2.13.2 requires botocore<1.34.132,>=1.34.70, but you have botocore 1.35.23 which is incompatible.\n",
      "amazon-sagemaker-sql-magic 0.1.3 requires sqlparse==0.5.0, but you have sqlparse 0.5.1 which is incompatible.\n",
      "autogluon-common 1.1.1 requires psutil<6,>=5.7.3, but you have psutil 6.0.0 which is incompatible.\n",
      "autogluon-core 1.1.1 requires scikit-learn<1.4.1,>=1.3.0, but you have scikit-learn 1.4.2 which is incompatible.\n",
      "autogluon-features 1.1.1 requires scikit-learn<1.4.1,>=1.3.0, but you have scikit-learn 1.4.2 which is incompatible.\n",
      "autogluon-multimodal 1.1.1 requires jsonschema<4.22,>=4.18, but you have jsonschema 4.23.0 which is incompatible.\n",
      "autogluon-multimodal 1.1.1 requires omegaconf<2.3.0,>=2.1.1, but you have omegaconf 2.3.0 which is incompatible.\n",
      "autogluon-multimodal 1.1.1 requires scikit-learn<1.4.1,>=1.3.0, but you have scikit-learn 1.4.2 which is incompatible.\n",
      "autogluon-tabular 1.1.1 requires scikit-learn<1.4.1,>=1.3.0, but you have scikit-learn 1.4.2 which is incompatible.\n",
      "autogluon-timeseries 1.1.1 requires gluonts==0.15.1, but you have gluonts 0.14.3 which is incompatible.\n",
      "autovizwidget 0.21.0 requires pandas<2.0.0,>=0.20.1, but you have pandas 2.2.3 which is incompatible.\n",
      "hdijupyterutils 0.21.0 requires pandas<2.0.0,>=0.17.1, but you have pandas 2.2.3 which is incompatible.\n",
      "jupyter-scheduler 2.7.1 requires psutil~=5.9, but you have psutil 6.0.0 which is incompatible.\n",
      "jupyter-scheduler 2.7.1 requires pytz==2023.3, but you have pytz 2024.2 which is incompatible.\n",
      "langchain-aws 0.1.16 requires boto3<1.35.0,>=1.34.131, but you have boto3 1.35.23 which is incompatible.\n",
      "langchain-community 0.2.12 requires langchain<0.3.0,>=0.2.13, but you have langchain 0.2.5 which is incompatible.\n",
      "sparkmagic 0.21.0 requires pandas<2.0.0,>=0.17.1, but you have pandas 2.2.3 which is incompatible.\n",
      "virtualenv 20.21.0 requires platformdirs<4,>=2.4, but you have platformdirs 4.3.6 which is incompatible.\u001b[0m\u001b[31m\n",
      "\u001b[0mSuccessfully installed annotated-types-0.7.0 attrs-23.2.0 boto3-1.35.23 botocore-1.35.23 certifi-2024.8.30 charset-normalizer-3.3.2 cloudpickle-2.2.1 dill-0.3.8 docker-7.1.0 google-pasta-0.2.0 idna-3.10 importlib-metadata-6.11.0 jmespath-1.0.1 jsonschema-4.23.0 jsonschema-specifications-2023.12.1 markdown-it-py-3.0.0 mdurl-0.1.2 mock-4.0.3 multiprocess-0.70.16 numpy-1.26.4 packaging-24.1 pandas-2.2.3 pathos-0.3.2 platformdirs-4.3.6 pox-0.3.4 ppft-1.7.6.8 protobuf-4.25.5 psutil-6.0.0 py4j-0.10.9.5 pydantic-2.7.3 pydantic-core-2.23.4 pygments-2.18.0 pyspark-3.3.1 python-dateutil-2.9.0.post0 pytz-2023.3 pyyaml-6.0.2 referencing-0.35.1 requests-2.32.3 rich-13.8.1 rpds-py-0.20.0 s3transfer-0.10.2 sagemaker-2.232.1 sagemaker-core-1.0.6 sagemaker-feature-store-pyspark-3-3-1.1.2 schema-0.7.7 six-1.16.0 smdebug-rulesconfig-1.0.1 tblib-3.0.0 tqdm-4.66.5 typing-extensions-4.12.2 tzdata-2024.1 urllib3-2.2.3 zipp-3.20.2\n",
      "Note: you may need to restart the kernel to use updated packages.\n"
     ]
    }
   ],
   "source": [
    "# To get the Feature Processor module, we need to reinstall the SageMaker python SDK along with extra dependencies\n",
    "%pip install 'sagemaker[feature-processor]' --force-reinstall"
   ]
  },
  {
   "cell_type": "code",
   "execution_count": 2,
   "id": "09cb764a-efe6-4106-baf6-f2b096e14060",
   "metadata": {},
   "outputs": [
    {
     "name": "stdout",
     "output_type": "stream",
     "text": [
      "\u001b[31mERROR: pip's dependency resolver does not currently take into account all the packages that are installed. This behaviour is the source of the following dependency conflicts.\n",
      "jupyter-ai 2.20.0 requires faiss-cpu<=1.8.0, which is not installed.\n",
      "datasets 2.21.0 requires fsspec[http]<=2024.6.1,>=2023.1.0, but you have fsspec 2024.9.0 which is incompatible.\n",
      "jupyter-scheduler 2.7.1 requires fsspec==2023.6.0, but you have fsspec 2024.9.0 which is incompatible.\n",
      "jupyter-scheduler 2.7.1 requires psutil~=5.9, but you have psutil 6.0.0 which is incompatible.\n",
      "boto3 1.35.23 requires botocore<1.36.0,>=1.35.23, but you have botocore 1.34.131 which is incompatible.\u001b[0m\u001b[31m\n",
      "\u001b[0mNote: you may need to restart the kernel to use updated packages.\n"
     ]
    }
   ],
   "source": [
    "%pip install -q s3fs"
   ]
  },
  {
   "cell_type": "markdown",
   "id": "0fd46bfb-a2b3-42d4-a136-616ddcd12be5",
   "metadata": {},
   "source": [
    "<img src=\"data:image/svg+xml;base64,Cjxzdmcgd2lkdGg9IjgwMCIgaGVpZ2h0PSI1MCIgdmlld0JveD0iMCAwIDgwMCA1MCIgeG1sbnM9Imh0dHA6Ly93d3cudzMub3JnLzIwMDAvc3ZnIj4KICAgIDxkZWZzPgogICAgICAgIDxsaW5lYXJHcmFkaWVudCBpZD0iZmFkZUdyYWRpZW50IiB4MT0iMCIgeDI9IjEiPgogICAgICAgICAgICA8c3RvcCBvZmZzZXQ9IjAlIiBzdG9wLWNvbG9yPSIjRjBGMEYwIi8+CiAgICAgICAgICAgIDxzdG9wIG9mZnNldD0iMTAwJSIgc3RvcC1jb2xvcj0iI0YwRjBGMCIgc3RvcC1vcGFjaXR5PSIwIi8+CiAgICAgICAgPC9saW5lYXJHcmFkaWVudD4KICAgICAgICA8bWFzayBpZD0iZmFkZU1hc2siPgogICAgICAgICAgICA8cmVjdCB4PSIwIiB5PSIwIiB3aWR0aD0iNzUwIiBoZWlnaHQ9IjUwIiBmaWxsPSJ3aGl0ZSIvPgogICAgICAgICAgICA8cmVjdCB4PSI3NTAiIHk9IjAiIHdpZHRoPSI1MCIgaGVpZ2h0PSI1MCIgZmlsbD0idXJsKCNmYWRlR3JhZGllbnQpIi8+CiAgICAgICAgPC9tYXNrPgogICAgPC9kZWZzPgogICAgPHBhdGggZD0iTTI1LDUwIFEwLDUwIDAsMjUgTDUwLDMgTDk3LDI1IEw3OTcsMjUgTDc5Nyw1MCBMMjUsNTAgWiIgZmlsbD0iI0YwRjBGMCIgc3Ryb2tlPSIjRTBFMEUwIiBzdHJva2Utd2lkdGg9IjEiIG1hc2s9InVybCgjZmFkZU1hc2spIi8+Cjwvc3ZnPgo=\" alt=\"Time alert close\"/>"
   ]
  },
  {
   "cell_type": "code",
   "execution_count": 3,
   "id": "1cc5659e-ab01-4704-8063-1bdf3ce532ce",
   "metadata": {
    "tags": []
   },
   "outputs": [
    {
     "data": {
      "text/plain": [
       "{'status': 'ok', 'restart': True}"
      ]
     },
     "execution_count": 3,
     "metadata": {},
     "output_type": "execute_result"
    }
   ],
   "source": [
    "# Restart kernel\n",
    "import IPython\n",
    "IPython.Application.instance().kernel.do_shutdown(True)"
   ]
  },
  {
   "cell_type": "code",
   "execution_count": 1,
   "id": "6ca42d3f-7231-44cc-83f4-a54c6a7995f4",
   "metadata": {
    "tags": []
   },
   "outputs": [
    {
     "name": "stdout",
     "output_type": "stream",
     "text": [
      "sagemaker.config INFO - Not applying SDK defaults from location: /etc/xdg/sagemaker/config.yaml\n",
      "sagemaker.config INFO - Not applying SDK defaults from location: /home/sagemaker-user/.config/sagemaker/config.yaml\n"
     ]
    },
    {
     "data": {
      "text/plain": [
       "'2.232.1'"
      ]
     },
     "execution_count": 1,
     "metadata": {},
     "output_type": "execute_result"
    }
   ],
   "source": [
    "import pandas as pd\n",
    "import json\n",
    "import boto3\n",
    "import pathlib\n",
    "import io\n",
    "import sagemaker\n",
    "import mlflow\n",
    "from time import gmtime, strftime, sleep\n",
    "from sagemaker.deserializers import CSVDeserializer\n",
    "from sagemaker.serializers import CSVSerializer\n",
    "\n",
    "from sagemaker.workflow.execution_variables import ExecutionVariables\n",
    "from sagemaker.workflow.pipeline_context import PipelineSession\n",
    "from sagemaker.xgboost.estimator import XGBoost\n",
    "from sagemaker.sklearn.processing import SKLearnProcessor\n",
    "from sagemaker.processing import (\n",
    "    ProcessingInput, \n",
    "    ProcessingOutput, \n",
    "    ScriptProcessor\n",
    ")\n",
    "from sagemaker.inputs import TrainingInput\n",
    "\n",
    "from sagemaker.workflow.pipeline import Pipeline\n",
    "from sagemaker.workflow.steps import (\n",
    "    ProcessingStep, \n",
    "    TrainingStep, \n",
    "    CreateModelStep,\n",
    "    CacheConfig\n",
    ")\n",
    "from sagemaker.workflow.check_job_config import CheckJobConfig\n",
    "from sagemaker.workflow.parameters import (\n",
    "    ParameterInteger, \n",
    "    ParameterFloat, \n",
    "    ParameterString, \n",
    "    ParameterBoolean\n",
    ")\n",
    "from sagemaker.workflow.quality_check_step import (\n",
    "    DataQualityCheckConfig,\n",
    "    ModelQualityCheckConfig,\n",
    "    QualityCheckStep,\n",
    ")\n",
    "from sagemaker.workflow.clarify_check_step import (\n",
    "    ModelBiasCheckConfig, \n",
    "    ClarifyCheckStep, \n",
    "    ModelExplainabilityCheckConfig\n",
    ")\n",
    "from sagemaker import Model\n",
    "from sagemaker.inputs import CreateModelInput\n",
    "from sagemaker.workflow.model_step import ModelStep\n",
    "from sagemaker.workflow.fail_step import FailStep\n",
    "from sagemaker.workflow.conditions import (\n",
    "    ConditionGreaterThan,\n",
    "    ConditionGreaterThanOrEqualTo\n",
    ")\n",
    "from sagemaker.workflow.parallelism_config import ParallelismConfiguration\n",
    "from sagemaker.workflow.properties import PropertyFile\n",
    "from sagemaker.workflow.condition_step import ConditionStep\n",
    "from sagemaker.workflow.functions import (\n",
    "    Join,\n",
    "    JsonGet\n",
    ")\n",
    "from sagemaker.workflow.lambda_step import (\n",
    "    LambdaStep,\n",
    "    LambdaOutput,\n",
    "    LambdaOutputTypeEnum,\n",
    ")\n",
    "from sagemaker.lambda_helper import Lambda\n",
    "\n",
    "from sagemaker.model_metrics import (\n",
    "    MetricsSource, \n",
    "    ModelMetrics, \n",
    "    FileSource\n",
    ")\n",
    "from sagemaker.drift_check_baselines import DriftCheckBaselines\n",
    "from sagemaker.workflow.pipeline_definition_config import PipelineDefinitionConfig \n",
    "from sagemaker.image_uris import retrieve\n",
    "from sagemaker.workflow.function_step import step\n",
    "from sagemaker.workflow.step_outputs import get_step\n",
    "from sagemaker.model_monitor import DatasetFormat, model_monitoring\n",
    "\n",
    "sagemaker.__version__"
   ]
  },
  {
   "cell_type": "code",
   "execution_count": 2,
   "id": "015980fe-d2c9-44d5-aa99-08e49bc50c9f",
   "metadata": {
    "tags": []
   },
   "outputs": [],
   "source": [
    "%load_ext autoreload\n",
    "%autoreload 2"
   ]
  },
  {
   "cell_type": "code",
   "execution_count": 3,
   "id": "313ac5a8-2730-45fd-8bed-1559c422748c",
   "metadata": {
    "tags": []
   },
   "outputs": [
    {
     "name": "stdout",
     "output_type": "stream",
     "text": [
      "Stored variables and their in-db values:\n",
      "bucket_name                         -> 'sagemaker-us-east-1-446490546198'\n",
      "bucket_prefix                       -> 'mlops-pk/xgboost'\n",
      "dataset_file_local_path             -> 'data/bank-additional/bank-additional-full.csv'\n",
      "domain_id                           -> 'd-fkrqwhxrpnws'\n",
      "initialized                         -> True\n",
      "input_s3_url                        -> 's3://sagemaker-us-east-1-446490546198/mlops-pk/xg\n",
      "mlflow_arn                          -> 'arn:aws:sagemaker:us-east-1:446490546198:mlflow-t\n",
      "mlflow_name                         -> 'mlflow-d-fkrqwhxrpnws-20-05-26-15'\n",
      "region                              -> 'us-east-1'\n",
      "sm_role                             -> 'arn:aws:iam::446490546198:role/service-role/Amazo\n",
      "space_name                          -> 'jupyter'\n",
      "user_profile_name                   -> 'default-20240919T173153'\n"
     ]
    }
   ],
   "source": [
    "%store -r \n",
    "\n",
    "%store\n",
    "\n",
    "try:\n",
    "    initialized\n",
    "except NameError:\n",
    "    print(\"+++++++++++++++++++++++++++++++++++++++++++++++++\")\n",
    "    print(\"[ERROR] YOU HAVE TO RUN 00-start-here notebook   \")\n",
    "    print(\"+++++++++++++++++++++++++++++++++++++++++++++++++\")"
   ]
  },
  {
   "cell_type": "markdown",
   "id": "defd6d8b-a230-4bf8-a575-2c6dcff55615",
   "metadata": {},
   "source": [
    "## Set constants"
   ]
  },
  {
   "cell_type": "code",
   "execution_count": 25,
   "id": "152b507e-f512-49c9-9f59-6477133bd118",
   "metadata": {
    "tags": []
   },
   "outputs": [],
   "source": [
    "# Set names of pipeline objects, experiment, and a model\n",
    "project = \"mlops-pk-proj-1\"\n",
    "\n",
    "current_timestamp = strftime('%d-%H-%M-%S', gmtime())\n",
    "\n",
    "registered_model_name = f\"{project}-pipeline-model-{current_timestamp}\"\n",
    "experiment_name = f\"{project}-pipeline-{current_timestamp}\"\n",
    "pipeline_name = f\"{project}-pipeline-{current_timestamp}\"\n",
    "pipeline_model_name = f\"{project}-model-xgb\"\n",
    "model_package_group_name = registered_model_name\n",
    "endpoint_config_name = f\"{project}-endpoint-config\"\n",
    "endpoint_name = f\"{project}-endpoint\"\n",
    "model_approval_status = \"PendingManualApproval\""
   ]
  },
  {
   "cell_type": "code",
   "execution_count": 26,
   "id": "c947da3b-e046-4dea-9897-1717c5bbc3a3",
   "metadata": {
    "tags": []
   },
   "outputs": [],
   "source": [
    "# Set instance types and counts\n",
    "process_instance_type = \"ml.m5.large\"\n",
    "train_instance_type = \"ml.m5.large\""
   ]
  },
  {
   "cell_type": "code",
   "execution_count": 27,
   "id": "0e9be066-8452-4058-b50e-e3027cb466b1",
   "metadata": {
    "tags": []
   },
   "outputs": [],
   "source": [
    "# Set S3 urls for various datasets produced in the pipeline\n",
    "output_s3_prefix = f\"s3://{bucket_name}/{bucket_prefix}\"\n",
    "output_s3_url = f\"{output_s3_prefix}/output\"\n",
    "\n",
    "train_s3_url = f\"{output_s3_prefix}/train\"\n",
    "validation_s3_url = f\"{output_s3_prefix}/validation\"\n",
    "test_s3_url = f\"{output_s3_prefix}/test\"\n",
    "evaluation_s3_url = f\"{output_s3_prefix}/evaluation\"\n",
    "\n",
    "baseline_s3_url = f\"{output_s3_prefix}/baseline\"\n",
    "baseline_results_s3_url = f\"{baseline_s3_url}/results\"\n",
    "\n",
    "prediction_baseline_s3_url = f\"{output_s3_prefix}/prediction_baseline\"\n",
    "prediction_baseline_results_s3_url=f\"{prediction_baseline_s3_url}/results\""
   ]
  },
  {
   "cell_type": "code",
   "execution_count": 28,
   "id": "14c75128-ac7f-4d9c-a8ff-1744a6f24570",
   "metadata": {},
   "outputs": [
    {
     "name": "stderr",
     "output_type": "stream",
     "text": [
      "INFO:sagemaker.image_uris:Ignoring unnecessary instance type: None.\n"
     ]
    }
   ],
   "source": [
    "XGBOOST_IMAGE_URI = sagemaker.image_uris.retrieve(\n",
    "            \"xgboost\", \n",
    "            region=boto3.Session().region_name,\n",
    "            version=\"1.7-1\"\n",
    ")"
   ]
  },
  {
   "cell_type": "code",
   "execution_count": 29,
   "id": "f3d649cf-b64c-4978-b3f5-cf767b7f1870",
   "metadata": {
    "tags": []
   },
   "outputs": [
    {
     "name": "stdout",
     "output_type": "stream",
     "text": [
      "Stored 'train_s3_url' (str)\n",
      "Stored 'validation_s3_url' (str)\n",
      "Stored 'test_s3_url' (str)\n",
      "Stored 'baseline_s3_url' (str)\n",
      "Stored 'pipeline_name' (str)\n",
      "Stored 'model_package_group_name' (str)\n",
      "Stored 'evaluation_s3_url' (str)\n",
      "Stored 'prediction_baseline_s3_url' (str)\n",
      "Stored 'output_s3_url' (str)\n"
     ]
    }
   ],
   "source": [
    "%store train_s3_url\n",
    "%store validation_s3_url\n",
    "%store test_s3_url\n",
    "%store baseline_s3_url\n",
    "%store pipeline_name\n",
    "%store model_package_group_name\n",
    "%store evaluation_s3_url\n",
    "%store prediction_baseline_s3_url\n",
    "%store output_s3_url"
   ]
  },
  {
   "cell_type": "code",
   "execution_count": 30,
   "id": "54b75414-0239-4682-a435-22d646bb16cb",
   "metadata": {
    "tags": []
   },
   "outputs": [
    {
     "name": "stdout",
     "output_type": "stream",
     "text": [
      "Train S3 url: s3://sagemaker-us-east-1-446490546198/mlops-pk/xgboost/train\n",
      "Validation S3 url: s3://sagemaker-us-east-1-446490546198/mlops-pk/xgboost/validation\n",
      "Test S3 url: s3://sagemaker-us-east-1-446490546198/mlops-pk/xgboost/test\n",
      "Data baseline S3 url: s3://sagemaker-us-east-1-446490546198/mlops-pk/xgboost/baseline\n",
      "Evaluation metrics S3 url: s3://sagemaker-us-east-1-446490546198/mlops-pk/xgboost/evaluation\n",
      "Model prediction baseline S3 url: s3://sagemaker-us-east-1-446490546198/mlops-pk/xgboost/prediction_baseline\n"
     ]
    }
   ],
   "source": [
    "print(f\"Train S3 url: {train_s3_url}\")\n",
    "print(f\"Validation S3 url: {validation_s3_url}\")\n",
    "print(f\"Test S3 url: {test_s3_url}\")\n",
    "print(f\"Data baseline S3 url: {baseline_s3_url}\")\n",
    "print(f\"Evaluation metrics S3 url: {evaluation_s3_url}\")\n",
    "print(f\"Model prediction baseline S3 url: {prediction_baseline_s3_url}\")"
   ]
  },
  {
   "cell_type": "markdown",
   "id": "d1786703-1446-4cf4-9215-3903b5eb5bcf",
   "metadata": {},
   "source": [
    "## Define helper functions\n",
    "Define some shorthand functions for better code readability."
   ]
  },
  {
   "cell_type": "code",
   "execution_count": 31,
   "id": "085266d0-0c68-4189-abd2-3031a3bd5e9e",
   "metadata": {},
   "outputs": [],
   "source": [
    "def get_xgb_estimator(\n",
    "    session,\n",
    "    instance_type,\n",
    "    output_s3_url,\n",
    "    base_job_name,\n",
    "):\n",
    "    # Instantiate an XGBoost estimator object\n",
    "    estimator = sagemaker.estimator.Estimator(\n",
    "        image_uri=XGBOOST_IMAGE_URI,\n",
    "        role=sagemaker.get_execution_role(), \n",
    "        instance_type=instance_type,\n",
    "        instance_count=1,\n",
    "        output_path=output_s3_url,\n",
    "        sagemaker_session=session,\n",
    "        base_job_name=base_job_name\n",
    "    )\n",
    "    \n",
    "    # Define algorithm hyperparameters\n",
    "    estimator.set_hyperparameters(\n",
    "        num_round=100, # the number of rounds to run the training\n",
    "        max_depth=3, # maximum depth of a tree\n",
    "        eta=0.5, # step size shrinkage used in updates to prevent overfitting\n",
    "        alpha=2.5, # L1 regularization term on weights\n",
    "        objective=\"binary:logistic\",\n",
    "        eval_metric=\"auc\", # evaluation metrics for validation data\n",
    "        subsample=0.8, # subsample ratio of the training instance\n",
    "        colsample_bytree=0.8, # subsample ratio of columns when constructing each tree\n",
    "        min_child_weight=3, # minimum sum of instance weight (hessian) needed in a child\n",
    "        early_stopping_rounds=10, # the model trains until the validation score stops improving\n",
    "        verbosity=1, # verbosity of printing messages\n",
    "    )\n",
    "\n",
    "    return estimator"
   ]
  },
  {
   "cell_type": "markdown",
   "id": "195eda2d-0a32-42e5-b296-ed9dee23bdd1",
   "metadata": {},
   "source": [
    "## Configure MLflow"
   ]
  },
  {
   "cell_type": "code",
   "execution_count": 32,
   "id": "3eef5b2c-a694-476f-9c94-bb5204a3768b",
   "metadata": {},
   "outputs": [
    {
     "name": "stdout",
     "output_type": "stream",
     "text": [
      "Using server mlflow-d-fkrqwhxrpnws-20-05-26-15\n"
     ]
    }
   ],
   "source": [
    "# Check that the MLflow server is in the status 'Created'\n",
    "sm = boto3.client(\"sagemaker\")\n",
    "\n",
    "while sm.describe_mlflow_tracking_server(TrackingServerName=mlflow_name)['TrackingServerStatus'] != 'Created':\n",
    "    print(f\"The MLflow server {mlflow_name} is not in the status 'Created'\")\n",
    "    sleep(30)\n",
    "else:\n",
    "    print(f\"Using server {mlflow_name}\")"
   ]
  },
  {
   "cell_type": "code",
   "execution_count": 33,
   "id": "d7654f0c-c026-42db-8b3b-cddf2283a977",
   "metadata": {},
   "outputs": [
    {
     "name": "stderr",
     "output_type": "stream",
     "text": [
      "2024/09/24 19:09:43 INFO mlflow.tracking.fluent: Experiment with name 'mlops-pk-proj-1-pipeline-24-19-09-00' does not exist. Creating a new experiment.\n"
     ]
    }
   ],
   "source": [
    "mlflow.set_tracking_uri(mlflow_arn)\n",
    "experiment = mlflow.set_experiment(experiment_name=experiment_name)"
   ]
  },
  {
   "cell_type": "markdown",
   "id": "5ab04e2c-76cc-4f42-9629-0ccf6e47ed13",
   "metadata": {},
   "source": [
    "## Configure defaults for AWS infrastructure\n",
    "You can use YAML configuration file to define the default values that are automatically passed to SageMaker APIs, for example as job parameters. It's especially convenient when you need to provide static parameters for infrastructure settings, such as VPC ids, Security Groups, KMS keys etc, or work with remote functions.\n",
    "\n",
    "Refer to [Configuring and using defaults with the SageMaker Python SDK](https://sagemaker.readthedocs.io/en/stable/overview.html#configuring-and-using-defaults-with-the-sagemaker-python-sdk) documentation for examples and more details.\n",
    "\n",
    "Your SageMaker pipeline will use these `config.yaml` files."
   ]
  },
  {
   "cell_type": "code",
   "execution_count": 34,
   "id": "fd10fbf3-55e1-4268-9d61-d936f4174d0f",
   "metadata": {
    "tags": []
   },
   "outputs": [
    {
     "name": "stdout",
     "output_type": "stream",
     "text": [
      "/etc/xdg/sagemaker/config.yaml\n",
      "/home/sagemaker-user/.config/sagemaker/config.yaml\n"
     ]
    }
   ],
   "source": [
    "# Print default location of configuration files\n",
    "import os\n",
    "from platformdirs import site_config_dir, user_config_dir\n",
    "\n",
    "#Prints the location of the admin config file\n",
    "print(os.path.join(site_config_dir(\"sagemaker\"), \"config.yaml\"))\n",
    "\n",
    "#Prints the location of the user config file\n",
    "print(os.path.join(user_config_dir(\"sagemaker\"), \"config.yaml\"))"
   ]
  },
  {
   "cell_type": "markdown",
   "id": "69ed9188-9c05-4ac8-aaae-da7f4fda3952",
   "metadata": {},
   "source": [
    "The next cell creates a configuration file and sets default values for remote functions. These values are automatically passed to `@step` decorator and you don't need to specify them explicitly. Refer to [Configure your pipeline](https://docs.aws.amazon.com/sagemaker/latest/dg/pipelines-step-decorator-cfg-pipeline.html) in the Developer Guide."
   ]
  },
  {
   "cell_type": "code",
   "execution_count": 18,
   "id": "b33320fa-f008-48d0-adbe-82af13a54708",
   "metadata": {
    "tags": []
   },
   "outputs": [
    {
     "name": "stdout",
     "output_type": "stream",
     "text": [
      "Writing config.yaml\n"
     ]
    }
   ],
   "source": [
    "%%writefile config.yaml\n",
    "\n",
    "SchemaVersion: '1.0'\n",
    "SageMaker:\n",
    "    PythonSDK:\n",
    "        Modules:\n",
    "            RemoteFunction:\n",
    "                InstanceType: ml.m5.xlarge\n",
    "                Dependencies: ./requirements.txt\n",
    "                IncludeLocalWorkDir: true\n",
    "                CustomFileFilter:\n",
    "                    IgnoreNamePatterns: # files or directories to ignore\n",
    "                        - \"*.ipynb\" # all notebook files\n",
    "                        - \"*.md\" # all markdown files\n",
    "                        - \"__pycache__\""
   ]
  },
  {
   "cell_type": "code",
   "execution_count": 35,
   "id": "41475d62-58e2-4f74-8bbc-2d9a6ece2ed1",
   "metadata": {
    "tags": []
   },
   "outputs": [],
   "source": [
    "# copy the configuration file to user config file location\n",
    "%mkdir -p {user_config_dir(\"sagemaker\")}\n",
    "%cp config.yaml {os.path.join(user_config_dir(\"sagemaker\"), \"config.yaml\")}"
   ]
  },
  {
   "cell_type": "markdown",
   "id": "62eac4cf-4875-453f-a788-f7f52c94a37b",
   "metadata": {},
   "source": [
    "## Prepare environment"
   ]
  },
  {
   "cell_type": "code",
   "execution_count": 36,
   "id": "dca8a63a-2c4f-4cbd-9de6-4550b5710817",
   "metadata": {
    "tags": []
   },
   "outputs": [
    {
     "name": "stdout",
     "output_type": "stream",
     "text": [
      "Note: you may need to restart the kernel to use updated packages.\n"
     ]
    }
   ],
   "source": [
    "# Install xgboost for the local testing of the code\n",
    "%pip install -q xgboost"
   ]
  },
  {
   "cell_type": "markdown",
   "id": "70771867-4321-47b7-b6ca-fb103d40f7c4",
   "metadata": {},
   "source": [
    "Create a `requirement.txt` file for the pipeline environment that will be used by your SageMaker pipeline:"
   ]
  },
  {
   "cell_type": "code",
   "execution_count": 17,
   "id": "4b416e96-b3be-43f0-a434-42c05fb1e63b",
   "metadata": {
    "tags": []
   },
   "outputs": [
    {
     "name": "stdout",
     "output_type": "stream",
     "text": [
      "Writing requirements.txt\n"
     ]
    }
   ],
   "source": [
    "%%writefile requirements.txt\n",
    "scikit-learn\n",
    "pandas>=2.0.0\n",
    "s3fs==0.4.2\n",
    "sagemaker\n",
    "xgboost\n",
    "mlflow==2.13.2\n",
    "sagemaker-mlflow==0.1.0"
   ]
  },
  {
   "cell_type": "markdown",
   "id": "626ea883-3bd9-4947-a0c8-7c3a80c1bbca",
   "metadata": {},
   "source": [
    "## A SageMaker pipeline"
   ]
  },
  {
   "cell_type": "markdown",
   "id": "fa00ef9a-a6fe-4415-9847-bcfa97f32c44",
   "metadata": {},
   "source": [
    "### Setup pipeline parameters\n",
    "SageMaker Pipelines supports [parameterization](https://docs.aws.amazon.com/sagemaker/latest/dg/build-and-manage-parameters.html), which allows you to specify input parameters at runtime without changing your pipeline code. You can use the parameter classes available under the [`sagemaker.workflow.parameters`](https://sagemaker.readthedocs.io/en/stable/workflows/pipelines/sagemaker.workflow.pipelines.html#parameters) module.\n",
    "Parameters have a default value, which you can override by specifying parameter values when starting a pipeline execution."
   ]
  },
  {
   "cell_type": "code",
   "execution_count": 37,
   "id": "05f370b6-1ee3-4bc6-ae85-5eef37878196",
   "metadata": {
    "tags": []
   },
   "outputs": [],
   "source": [
    "# Set processing instance type\n",
    "process_instance_type_param = ParameterString(\n",
    "    name=\"ProcessingInstanceType\",\n",
    "    default_value=process_instance_type,\n",
    ")\n",
    "\n",
    "# Set training instance type\n",
    "train_instance_type_param = ParameterString(\n",
    "    name=\"TrainingInstanceType\",\n",
    "    default_value=train_instance_type,\n",
    ")\n",
    "\n",
    "# Set model approval status for the model registry\n",
    "model_approval_status_param = ParameterString(\n",
    "    name=\"ModelApprovalStatus\",\n",
    "    default_value=model_approval_status\n",
    ")\n",
    "\n",
    "# Minimal threshold for model performance on the test dataset\n",
    "test_score_threshold_param = ParameterFloat(\n",
    "    name=\"TestScoreThreshold\",\n",
    "    default_value=0.75\n",
    ")\n",
    "\n",
    "# Parametrize the S3 url for input dataset\n",
    "input_s3_url_param = ParameterString(\n",
    "    name=\"InputDataUrl\",\n",
    "    default_value=input_s3_url,\n",
    ")\n",
    "\n",
    "# Model package group name\n",
    "model_package_group_name_param = ParameterString(\n",
    "    name=\"ModelPackageGroupName\",\n",
    "    default_value=model_package_group_name,\n",
    ")\n",
    "\n",
    "# MLflow tracking server ARN\n",
    "tracking_server_arn_param = ParameterString(\n",
    "    name=\"TrackingServerARN\",\n",
    "    default_value=mlflow_arn,\n",
    ")"
   ]
  },
  {
   "cell_type": "markdown",
   "id": "55a71d7d-f040-498b-b838-e65a88102b5b",
   "metadata": {},
   "source": [
    "### Implement and test the pipeline steps\n",
    "You create a pipeline with the following:\n",
    "| Step | Description |\n",
    "|---|---|\n",
    "| **Data processing** | runs a SageMaker processing job for feature engineering and dataset split|\n",
    "| **Training** | runs a SageMaker training job using XGBoost algorithm |\n",
    "| **Evaluation** | evaluates the performance of the trained model |\n",
    "| **Conditional step** | checks if the performance of the model meets the specified threshold |\n",
    "| **Register model** | registers a version of the model in the SageMaker model registry |\n",
    "\n",
    "To facilitate implementation of your pipeline as code you're going to use two useful features of SageMaker: Subclass compatibility and @step decorator."
   ]
  },
  {
   "cell_type": "markdown",
   "id": "f8e6ec12-39b0-407d-abc2-63ecdb896969",
   "metadata": {},
   "source": [
    "#### Subclass compatibility\n",
    "💡 You can use subclass compatibility for [workflow pipeline job steps](https://sagemaker.readthedocs.io/en/stable/workflows/pipelines/sagemaker.workflow.pipelines.html#steps) to build job abstractions and use exactly the same code to configure the pipeline as the code for running processing, training, transform, and tuning jobs from the previous step notebooks. You need to use [PipelineSession](https://sagemaker.readthedocs.io/en/stable/workflows/pipelines/sagemaker.workflow.pipelines.html#sagemaker.workflow.pipeline_context.PipelineSession) context instead of `sagemaker_session` to capture the run calls such as `processor.run()` or `estimator.fit()` but not run until the pipeline is created and executed."
   ]
  },
  {
   "cell_type": "markdown",
   "id": "48f78d11-5546-4267-921e-017910888b9d",
   "metadata": {},
   "source": [
    "#### @step decorator\n",
    "💡 You can lift-and-shift your existing Python code to SageMaker pipelines. You can also use Python functions to implement an ML workflow using SageMaker Python SDK and test all code locally in the notebook. When you want to create a pipeline, you can use the SageMaker Python SDK [`@step`](https://sagemaker.readthedocs.io/en/stable/workflows/pipelines/sagemaker.workflow.pipelines.html#step-decorator) decorator to convert Python functions into pipeline steps. Refer to the SageMaker [Developer Guide](https://docs.aws.amazon.com/sagemaker/latest/dg/pipelines-step-decorator-create-pipeline.html) for more details and examples.\n",
    "\n",
    "The following code uses Python functions to implement workflow steps, test them locally, and then apply `@step` decorator to re-use the function as a pipeline step.\n",
    "\n",
    "#### Limitations with @step decorator\n",
    "Be aware of the specific [limitations](https://docs.aws.amazon.com/sagemaker/latest/dg/pipelines-step-decorator-limit.html) when you use `@step` decorator for pipeline steps."
   ]
  },
  {
   "cell_type": "markdown",
   "id": "b7e6dcca-fa05-459b-8293-dfb42bd637dc",
   "metadata": {},
   "source": [
    "Start developing and testing steps in the following code cells."
   ]
  },
  {
   "cell_type": "markdown",
   "id": "0f10b118-2985-41a9-b1af-da7111060f68",
   "metadata": {},
   "source": [
    "#### Processing step\n",
    "Re-use the Python function local code from the step 2 [notebook](./02-sagemaker-containers.ipynb) and create a `preprocess` function in the `./pipeline_steps` folder. You're going to use this function to create a pipeline processing step."
   ]
  },
  {
   "cell_type": "code",
   "execution_count": 38,
   "id": "a4541fa1-50b6-4664-9239-b4d78b46f6be",
   "metadata": {},
   "outputs": [],
   "source": [
    "# Python function code is in the local files\n",
    "from pipeline_steps.preprocess import preprocess"
   ]
  },
  {
   "cell_type": "code",
   "execution_count": 20,
   "id": "c9a8b08b-7078-453d-8e43-218123e9752a",
   "metadata": {},
   "outputs": [],
   "source": [
    "# See the function code\n",
    "# !pygmentize pipeline_steps/preprocess.py"
   ]
  },
  {
   "cell_type": "code",
   "execution_count": 39,
   "id": "be2b04a6-63fa-405e-adfd-de67a25a964c",
   "metadata": {},
   "outputs": [
    {
     "name": "stdout",
     "output_type": "stream",
     "text": [
      "2024-09-20 15:28:50    5834924 bank-additional-full.csv\n"
     ]
    }
   ],
   "source": [
    "# check that there is dataset under S3 url\n",
    "!aws s3 ls {input_s3_url}"
   ]
  },
  {
   "cell_type": "code",
   "execution_count": 40,
   "id": "a8c62018-cfcb-453f-aa25-608d639ef713",
   "metadata": {},
   "outputs": [
    {
     "name": "stderr",
     "output_type": "stream",
     "text": [
      "2024/09/24 19:11:26 INFO mlflow.tracking.fluent: Experiment with name 'local-test-24-19-09-00' does not exist. Creating a new experiment.\n",
      "/opt/conda/lib/python3.11/site-packages/mlflow/data/dataset_source_registry.py:150: UserWarning: Failed to determine whether UCVolumeDatasetSource can resolve source information for 's3://sagemaker-us-east-1-446490546198/mlops-pk/xgboost/input/bank-additional-full.csv'. Exception: \n",
      "  return _dataset_source_registry.resolve(\n",
      "/opt/conda/lib/python3.11/site-packages/mlflow/types/utils.py:406: UserWarning: Hint: Inferred schema contains integer column(s). Integer columns in Python cannot represent missing values. If your input data contains missing values at inference time, it will be encoded as floats and will cause a schema enforcement error. The best way to avoid this problem is to infer the model schema based on a realistic data sample (training dataset) that includes missing values. Alternatively, you can declare integer columns as doubles (float64) whenever these columns may have missing values. See `Handling Integers With Missing Values <https://www.mlflow.org/docs/latest/models.html#handling-integers-with-missing-values>`_ for more details.\n",
      "  warnings.warn(\n",
      "/opt/conda/lib/python3.11/site-packages/mlflow/types/utils.py:406: UserWarning: Hint: Inferred schema contains integer column(s). Integer columns in Python cannot represent missing values. If your input data contains missing values at inference time, it will be encoded as floats and will cause a schema enforcement error. The best way to avoid this problem is to infer the model schema based on a realistic data sample (training dataset) that includes missing values. Alternatively, you can declare integer columns as doubles (float64) whenever these columns may have missing values. See `Handling Integers With Missing Values <https://www.mlflow.org/docs/latest/models.html#handling-integers-with-missing-values>`_ for more details.\n",
      "  warnings.warn(\n",
      "/opt/conda/lib/python3.11/site-packages/numpy/core/fromnumeric.py:59: FutureWarning: 'DataFrame.swapaxes' is deprecated and will be removed in a future version. Please use 'DataFrame.transpose' instead.\n",
      "  return bound(*args, **kwds)\n"
     ]
    },
    {
     "name": "stdout",
     "output_type": "stream",
     "text": [
      "## Data split > train:(28831, 65) | validation:(8238, 65) | test:(4119, 65)\n"
     ]
    },
    {
     "name": "stderr",
     "output_type": "stream",
     "text": [
      "2024/09/24 19:11:51 INFO mlflow.tracking._tracking_service.client: 🏃 View run processing-24-19-11-26 at: https://us-east-1.experiments.sagemaker.aws/#/experiments/35/runs/678a900fb521487b8ec66a31c1553ade.\n",
      "2024/09/24 19:11:51 INFO mlflow.tracking._tracking_service.client: 🧪 View experiment at: https://us-east-1.experiments.sagemaker.aws/#/experiments/35.\n"
     ]
    },
    {
     "name": "stdout",
     "output_type": "stream",
     "text": [
      "## Data processing complete. Exiting.\n"
     ]
    },
    {
     "data": {
      "text/plain": [
       "{'train_data': 's3://sagemaker-us-east-1-446490546198/mlops-pk/xgboost/train/train.csv',\n",
       " 'validation_data': 's3://sagemaker-us-east-1-446490546198/mlops-pk/xgboost/validation/validation.csv',\n",
       " 'test_x_data': 's3://sagemaker-us-east-1-446490546198/mlops-pk/xgboost/test/test_x.csv',\n",
       " 'test_y_data': 's3://sagemaker-us-east-1-446490546198/mlops-pk/xgboost/test/test_y.csv',\n",
       " 'baseline_data': 's3://sagemaker-us-east-1-446490546198/mlops-pk/xgboost/baseline/baseline.csv',\n",
       " 'experiment_name': 'local-test-24-19-09-00',\n",
       " 'pipeline_run_id': ''}"
      ]
     },
     "execution_count": 40,
     "metadata": {},
     "output_type": "execute_result"
    }
   ],
   "source": [
    "# You can run your Python code locally and verify the corectness before constructing a pipeline\n",
    "r_preprocess = preprocess(\n",
    "    input_data_s3_path=input_s3_url,\n",
    "    output_s3_prefix=output_s3_prefix,\n",
    "    tracking_server_arn=mlflow_arn,\n",
    "    experiment_name=f\"local-test-{current_timestamp}\"\n",
    ")\n",
    "r_preprocess"
   ]
  },
  {
   "cell_type": "code",
   "execution_count": 41,
   "id": "06a83107-2c15-476e-bce9-a25409c9d567",
   "metadata": {},
   "outputs": [
    {
     "name": "stdout",
     "output_type": "stream",
     "text": [
      "2024-09-24 19:11:51     600465 test_x.csv\n",
      "2024-09-24 19:11:51       8238 test_y.csv\n"
     ]
    }
   ],
   "source": [
    "# check that the function generated output\n",
    "!aws s3 ls {output_s3_prefix}/test/"
   ]
  },
  {
   "cell_type": "markdown",
   "id": "21faa341-c920-47fc-bf79-1453f7982f95",
   "metadata": {},
   "source": [
    "#### Training step\n",
    "First, run a model training remotely as a SageMaker built-in algorithm training job. \n",
    "\n",
    "Second, use the trained model to test the evaluation script as a local Python function.\n",
    "\n",
    "Third, use this Python function to construct an evaluation step in the pipeline."
   ]
  },
  {
   "cell_type": "code",
   "execution_count": 42,
   "id": "46e4707d-7d82-41c4-9e9a-1dcf4e349b66",
   "metadata": {},
   "outputs": [
    {
     "name": "stdout",
     "output_type": "stream",
     "text": [
      "sagemaker.config INFO - Fetched defaults config from location: /home/sagemaker-user/.config/sagemaker/config.yaml\n"
     ]
    }
   ],
   "source": [
    "# use sagemaker.Session() in the estimator to a training job immediately\n",
    "estimator = get_xgb_estimator(\n",
    "    session=sagemaker.Session(),\n",
    "    instance_type=train_instance_type,\n",
    "    output_s3_url=output_s3_url,\n",
    "    base_job_name=f\"{project}-train\",\n",
    ")"
   ]
  },
  {
   "cell_type": "code",
   "execution_count": 43,
   "id": "1fa66a21-2c07-41a1-b1c6-ea5224331949",
   "metadata": {},
   "outputs": [],
   "source": [
    "# Set up the training inputs using the outputs from preprocess function\n",
    "training_inputs = {\n",
    "    \"train\": TrainingInput(\n",
    "        r_preprocess['train_data'],\n",
    "        content_type=\"text/csv\",\n",
    "    ),\n",
    "    \"validation\": TrainingInput(\n",
    "        r_preprocess['validation_data'],\n",
    "        content_type=\"text/csv\",\n",
    "    ),\n",
    "}"
   ]
  },
  {
   "cell_type": "markdown",
   "id": "577ca889-3f9e-44e7-b6b8-9a380cfcfa19",
   "metadata": {},
   "source": [
    "The next code cell fits the estimator. Wait less than 3 minutes until the training job finishes. Note that the code also logs the trained model into MLflow experiment run."
   ]
  },
  {
   "cell_type": "code",
   "execution_count": 44,
   "id": "92e54a4b-f0c6-4fdb-98b7-9f7d6719d3e7",
   "metadata": {},
   "outputs": [
    {
     "name": "stderr",
     "output_type": "stream",
     "text": [
      "INFO:sagemaker:Creating training-job with name: mlops-pk-proj-1-train-2024-09-24-19-13-09-215\n"
     ]
    },
    {
     "name": "stdout",
     "output_type": "stream",
     "text": [
      "2024-09-24 19:13:12 Starting - Starting the training job...\n",
      "2024-09-24 19:13:26 Starting - Preparing the instances for training...\n",
      "2024-09-24 19:14:06 Downloading - Downloading input data......\n",
      "2024-09-24 19:14:51 Downloading - Downloading the training image.....\u001b[34m[2024-09-24 19:15:55.370 ip-10-0-195-255.ec2.internal:6 INFO utils.py:28] RULE_JOB_STOP_SIGNAL_FILENAME: None\u001b[0m\n",
      "\u001b[34m[2024-09-24 19:15:55.404 ip-10-0-195-255.ec2.internal:6 INFO profiler_config_parser.py:111] User has disabled profiler.\u001b[0m\n",
      "\u001b[34m[2024-09-24:19:15:55:INFO] Imported framework sagemaker_xgboost_container.training\u001b[0m\n",
      "\u001b[34m[2024-09-24:19:15:55:INFO] Failed to parse hyperparameter eval_metric value auc to Json.\u001b[0m\n",
      "\u001b[34mReturning the value itself\u001b[0m\n",
      "\u001b[34m[2024-09-24:19:15:55:INFO] Failed to parse hyperparameter objective value binary:logistic to Json.\u001b[0m\n",
      "\u001b[34mReturning the value itself\u001b[0m\n",
      "\u001b[34m[2024-09-24:19:15:55:INFO] No GPUs detected (normal if no gpus installed)\u001b[0m\n",
      "\u001b[34m[2024-09-24:19:15:55:INFO] Running XGBoost Sagemaker in algorithm mode\u001b[0m\n",
      "\u001b[34m[2024-09-24:19:15:55:INFO] Determined 0 GPU(s) available on the instance.\u001b[0m\n",
      "\u001b[34m[2024-09-24:19:15:55:INFO] Determined delimiter of CSV input is ','\u001b[0m\n",
      "\u001b[34m[2024-09-24:19:15:55:INFO] Determined delimiter of CSV input is ','\u001b[0m\n",
      "\u001b[34m[2024-09-24:19:15:55:INFO] File path /opt/ml/input/data/train of input files\u001b[0m\n",
      "\u001b[34m[2024-09-24:19:15:55:INFO] Making smlinks from folder /opt/ml/input/data/train to folder /tmp/sagemaker_xgboost_input_data\u001b[0m\n",
      "\u001b[34m[2024-09-24:19:15:55:INFO] creating symlink between Path /opt/ml/input/data/train/train.csv and destination /tmp/sagemaker_xgboost_input_data/train.csv3307762564531500689\u001b[0m\n",
      "\u001b[34m[2024-09-24:19:15:55:INFO] files path: /tmp/sagemaker_xgboost_input_data\u001b[0m\n",
      "\u001b[34m[2024-09-24:19:15:55:INFO] Determined delimiter of CSV input is ','\u001b[0m\n",
      "\u001b[34m[2024-09-24:19:15:56:INFO] File path /opt/ml/input/data/validation of input files\u001b[0m\n",
      "\u001b[34m[2024-09-24:19:15:56:INFO] Making smlinks from folder /opt/ml/input/data/validation to folder /tmp/sagemaker_xgboost_input_data\u001b[0m\n",
      "\u001b[34m[2024-09-24:19:15:56:INFO] creating symlink between Path /opt/ml/input/data/validation/validation.csv and destination /tmp/sagemaker_xgboost_input_data/validation.csv-8383603662730253075\u001b[0m\n",
      "\u001b[34m[2024-09-24:19:15:56:INFO] files path: /tmp/sagemaker_xgboost_input_data\u001b[0m\n",
      "\u001b[34m[2024-09-24:19:15:56:INFO] Determined delimiter of CSV input is ','\u001b[0m\n",
      "\u001b[34m[2024-09-24:19:15:56:INFO] Single node training.\u001b[0m\n",
      "\u001b[34m[2024-09-24:19:15:56:INFO] Train matrix has 28831 rows and 64 columns\u001b[0m\n",
      "\u001b[34m[2024-09-24:19:15:56:INFO] Validation matrix has 8238 rows\u001b[0m\n",
      "\u001b[34m[2024-09-24 19:15:56.095 ip-10-0-195-255.ec2.internal:6 INFO json_config.py:92] Creating hook from json_config at /opt/ml/input/config/debughookconfig.json.\u001b[0m\n",
      "\u001b[34m[2024-09-24 19:15:56.096 ip-10-0-195-255.ec2.internal:6 INFO hook.py:206] tensorboard_dir has not been set for the hook. SMDebug will not be exporting tensorboard summaries.\u001b[0m\n",
      "\u001b[34m[2024-09-24 19:15:56.096 ip-10-0-195-255.ec2.internal:6 INFO hook.py:259] Saving to /opt/ml/output/tensors\u001b[0m\n",
      "\u001b[34m[2024-09-24 19:15:56.096 ip-10-0-195-255.ec2.internal:6 INFO state_store.py:77] The checkpoint config file /opt/ml/input/config/checkpointconfig.json does not exist.\u001b[0m\n",
      "\u001b[34m[2024-09-24:19:15:56:INFO] Debug hook created from config\u001b[0m\n",
      "\u001b[34m[2024-09-24 19:15:56.231 ip-10-0-195-255.ec2.internal:6 INFO hook.py:427] Monitoring the collections: metrics\u001b[0m\n",
      "\u001b[34m[2024-09-24 19:15:56.235 ip-10-0-195-255.ec2.internal:6 INFO hook.py:491] Hook is writing from the hook with pid: 6\u001b[0m\n",
      "\u001b[34m[0]#011train-auc:0.63880#011validation-auc:0.62376\u001b[0m\n",
      "\u001b[34m[1]#011train-auc:0.72013#011validation-auc:0.71291\u001b[0m\n",
      "\u001b[34m[2]#011train-auc:0.73479#011validation-auc:0.72832\u001b[0m\n",
      "\u001b[34m[3]#011train-auc:0.74419#011validation-auc:0.73829\u001b[0m\n",
      "\u001b[34m[4]#011train-auc:0.75856#011validation-auc:0.75159\u001b[0m\n",
      "\u001b[34m[5]#011train-auc:0.76019#011validation-auc:0.75337\u001b[0m\n",
      "\u001b[34m[6]#011train-auc:0.76525#011validation-auc:0.75821\u001b[0m\n",
      "\u001b[34m[7]#011train-auc:0.76715#011validation-auc:0.76033\u001b[0m\n",
      "\u001b[34m[8]#011train-auc:0.77027#011validation-auc:0.76060\u001b[0m\n",
      "\u001b[34m[9]#011train-auc:0.77197#011validation-auc:0.76328\u001b[0m\n",
      "\u001b[34m[10]#011train-auc:0.77409#011validation-auc:0.76564\u001b[0m\n",
      "\u001b[34m[11]#011train-auc:0.77639#011validation-auc:0.76834\u001b[0m\n",
      "\u001b[34m[12]#011train-auc:0.77704#011validation-auc:0.77035\u001b[0m\n",
      "\u001b[34m[13]#011train-auc:0.77686#011validation-auc:0.77135\u001b[0m\n",
      "\u001b[34m[14]#011train-auc:0.77756#011validation-auc:0.77127\u001b[0m\n",
      "\u001b[34m[15]#011train-auc:0.77805#011validation-auc:0.77105\u001b[0m\n",
      "\u001b[34m[16]#011train-auc:0.77853#011validation-auc:0.77165\u001b[0m\n",
      "\u001b[34m[17]#011train-auc:0.78032#011validation-auc:0.77394\u001b[0m\n",
      "\u001b[34m[18]#011train-auc:0.78127#011validation-auc:0.77441\u001b[0m\n",
      "\u001b[34m[19]#011train-auc:0.78220#011validation-auc:0.77500\u001b[0m\n",
      "\u001b[34m[20]#011train-auc:0.78259#011validation-auc:0.77488\u001b[0m\n",
      "\u001b[34m[21]#011train-auc:0.78302#011validation-auc:0.77450\u001b[0m\n",
      "\u001b[34m[22]#011train-auc:0.78389#011validation-auc:0.77337\u001b[0m\n",
      "\u001b[34m[23]#011train-auc:0.78414#011validation-auc:0.77338\u001b[0m\n",
      "\u001b[34m[24]#011train-auc:0.78504#011validation-auc:0.77257\u001b[0m\n",
      "\u001b[34m[25]#011train-auc:0.78547#011validation-auc:0.77226\u001b[0m\n",
      "\u001b[34m[26]#011train-auc:0.78575#011validation-auc:0.77178\u001b[0m\n",
      "\u001b[34m[27]#011train-auc:0.78623#011validation-auc:0.77138\u001b[0m\n",
      "\u001b[34m[28]#011train-auc:0.78770#011validation-auc:0.77140\u001b[0m\n",
      "\n",
      "2024-09-24 19:16:16 Training - Training image download completed. Training in progress.\n",
      "2024-09-24 19:16:16 Uploading - Uploading generated training model\n",
      "2024-09-24 19:16:16 Completed - Training job completed\n",
      "Training seconds: 130\n",
      "Billable seconds: 130\n"
     ]
    },
    {
     "name": "stderr",
     "output_type": "stream",
     "text": [
      "WARNING:sagemaker.analytics:Warning: No metrics called train:mae found\n",
      "WARNING:sagemaker.analytics:Warning: No metrics called validation:aucpr found\n",
      "WARNING:sagemaker.analytics:Warning: No metrics called validation:f1_binary found\n",
      "WARNING:sagemaker.analytics:Warning: No metrics called validation:mae found\n",
      "WARNING:sagemaker.analytics:Warning: No metrics called validation:logloss found\n",
      "WARNING:sagemaker.analytics:Warning: No metrics called validation:f1 found\n",
      "WARNING:sagemaker.analytics:Warning: No metrics called train:accuracy found\n",
      "WARNING:sagemaker.analytics:Warning: No metrics called train:mse found\n",
      "WARNING:sagemaker.analytics:Warning: No metrics called validation:recall found\n",
      "WARNING:sagemaker.analytics:Warning: No metrics called validation:poisson-nloglik found\n",
      "WARNING:sagemaker.analytics:Warning: No metrics called validation:precision found\n",
      "WARNING:sagemaker.analytics:Warning: No metrics called train:error found\n",
      "WARNING:sagemaker.analytics:Warning: No metrics called train:ndcg found\n",
      "WARNING:sagemaker.analytics:Warning: No metrics called validation:map found\n",
      "WARNING:sagemaker.analytics:Warning: No metrics called train:f1_binary found\n",
      "WARNING:sagemaker.analytics:Warning: No metrics called validation:error found\n",
      "WARNING:sagemaker.analytics:Warning: No metrics called train:poisson-nloglik found\n",
      "WARNING:sagemaker.analytics:Warning: No metrics called train:rmse found\n",
      "WARNING:sagemaker.analytics:Warning: No metrics called train:logloss found\n",
      "WARNING:sagemaker.analytics:Warning: No metrics called validation:accuracy found\n",
      "WARNING:sagemaker.analytics:Warning: No metrics called train:aucpr found\n",
      "WARNING:sagemaker.analytics:Warning: No metrics called validation:balanced_accuracy found\n",
      "WARNING:sagemaker.analytics:Warning: No metrics called validation:rmse found\n",
      "WARNING:sagemaker.analytics:Warning: No metrics called validation:mse found\n",
      "WARNING:sagemaker.analytics:Warning: No metrics called validation:ndcg found\n",
      "WARNING:sagemaker.analytics:Warning: No metrics called train:f1 found\n",
      "WARNING:sagemaker.analytics:Warning: No metrics called train:map found\n",
      "/opt/conda/lib/python3.11/site-packages/xgboost/core.py:160: UserWarning: [19:16:28] WARNING: /home/conda/feedstock_root/build_artifacts/xgboost-split_1713397725960/work/src/c_api/c_api.cc:1240: Saving into deprecated binary model format, please consider using `json` or `ubj`. Model format will default to JSON in XGBoost 2.2 if not specified.\n",
      "  warnings.warn(smsg, UserWarning)\n",
      "2024/09/24 19:16:34 WARNING mlflow.utils.environment: Encountered an unexpected error while inferring pip requirements (model URI: /tmp/tmploik1p70/model, flavor: xgboost). Fall back to return ['xgboost==2.0.3']. Set logging level to DEBUG to see the full traceback. \n",
      "/opt/conda/lib/python3.11/site-packages/_distutils_hack/__init__.py:32: UserWarning: Setuptools is replacing distutils. Support for replacing an already imported distutils is deprecated. In the future, this condition will fail. Register concerns at https://github.com/pypa/setuptools/issues/new?template=distutils-deprecation.yml\n",
      "  warnings.warn(\n",
      "2024/09/24 19:16:35 WARNING mlflow.models.model: Input example should be provided to infer model signature if the model signature is not provided when logging the model.\n",
      "2024/09/24 19:16:35 INFO mlflow.tracking._tracking_service.client: 🏃 View run training-24-19-13-08 at: https://us-east-1.experiments.sagemaker.aws/#/experiments/35/runs/b889a6d66d2545f59362f8b42fcfc3d7.\n",
      "2024/09/24 19:16:35 INFO mlflow.tracking._tracking_service.client: 🧪 View experiment at: https://us-east-1.experiments.sagemaker.aws/#/experiments/35.\n"
     ]
    }
   ],
   "source": [
    "from pipeline_steps.evaluate import load_model\n",
    "\n",
    "# Run the training job\n",
    "mlflow.set_experiment(r_preprocess['experiment_name'])\n",
    "with mlflow.start_run(\n",
    "    run_name=f\"training-{strftime('%d-%H-%M-%S', gmtime())}\",\n",
    "    description=\"training in the notebook 03 with a training job\") as run:\n",
    "    mlflow.log_params(estimator.hyperparameters())\n",
    "    \n",
    "    estimator.fit(training_inputs)\n",
    "\n",
    "    mlflow.log_param(\"training job name\", estimator.latest_training_job.name)\n",
    "    mlflow.log_metrics({i['metric_name'].replace(':', '_'):i['value'] for i in estimator.training_job_analytics.dataframe().iloc})\n",
    "    mlflow.xgboost.log_model(load_model(estimator.model_data), artifact_path=\"xgboost\")"
   ]
  },
  {
   "cell_type": "markdown",
   "id": "b97f365c-94c4-4403-8a8c-b79399b3d665",
   "metadata": {},
   "source": [
    "#### Evaluation step\n",
    "Create a model evaluation script as a local Python function to check if the model performance meets the specified threshold. The Python code is in the file `evaluate.py` in the `./pipeline_steps` folder."
   ]
  },
  {
   "cell_type": "code",
   "execution_count": 45,
   "id": "a0c5075d-3bf8-48c7-abdf-32c023120064",
   "metadata": {},
   "outputs": [],
   "source": [
    "from pipeline_steps.evaluate import evaluate"
   ]
  },
  {
   "cell_type": "code",
   "execution_count": 28,
   "id": "9a36e8dc-c04b-4273-9fd5-b26f7c0e0202",
   "metadata": {},
   "outputs": [],
   "source": [
    "# !pygmentize  pipeline_steps/evaluation.py"
   ]
  },
  {
   "cell_type": "code",
   "execution_count": 46,
   "id": "634d627e-7718-45a9-a90e-b6bba4b5fb90",
   "metadata": {},
   "outputs": [
    {
     "name": "stdout",
     "output_type": "stream",
     "text": [
      "2024-09-24 19:16:12       4962 model.tar.gz\n"
     ]
    }
   ],
   "source": [
    "# check that the training job you've just run created a model file\n",
    "!aws s3 ls {estimator.model_data}"
   ]
  },
  {
   "cell_type": "markdown",
   "id": "dcce46e1-2e13-46ae-9e6c-8a2b8f77b0fa",
   "metadata": {},
   "source": [
    "Now load the trained model in the evaluation script and verify that the script executes correctly. Note the usage of output parameters from the `preprocess` function and the model artifact from the training job."
   ]
  },
  {
   "cell_type": "code",
   "execution_count": 47,
   "id": "3adb9f0f-a475-4dab-8d9c-dca4220978e7",
   "metadata": {},
   "outputs": [
    {
     "name": "stderr",
     "output_type": "stream",
     "text": [
      "2024/09/24 20:27:05 INFO mlflow.tracking._tracking_service.client: 🏃 View run evaluate-24-20-27-03 at: https://us-east-1.experiments.sagemaker.aws/#/experiments/35/runs/4d56d86954a845a68fce2953f1d5f34a.\n",
      "2024/09/24 20:27:05 INFO mlflow.tracking._tracking_service.client: 🧪 View experiment at: https://us-east-1.experiments.sagemaker.aws/#/experiments/35.\n"
     ]
    },
    {
     "data": {
      "text/plain": [
       "{'evaluation_result': {'classification_metrics': {'auc_score': {'value': 0.7701863354037267}}},\n",
       " 'prediction_baseline_data': 's3://sagemaker-us-east-1-446490546198/mlops-pk/xgboost/prediction_baseline/prediction_baseline.csv',\n",
       " 'experiment_name': 'local-test-24-19-09-00',\n",
       " 'pipeline_run_id': ''}"
      ]
     },
     "execution_count": 47,
     "metadata": {},
     "output_type": "execute_result"
    },
    {
     "data": {
      "image/png": "[encoded data removed]",
      "text/plain": [
       "<Figure size 600x400 with 1 Axes>"
      ]
     },
     "metadata": {},
     "output_type": "display_data"
    }
   ],
   "source": [
    "# Run the evaluation code locally\n",
    "r_eval = evaluate(\n",
    "    test_x_data_s3_path=r_preprocess['test_x_data'],\n",
    "    test_y_data_s3_path=r_preprocess['test_y_data'],\n",
    "    model_s3_path=estimator.model_data,\n",
    "    output_s3_prefix=output_s3_prefix,\n",
    "    tracking_server_arn=mlflow_arn,\n",
    "    experiment_name=r_preprocess['experiment_name'],\n",
    ")\n",
    "r_eval"
   ]
  },
  {
   "cell_type": "code",
   "execution_count": 31,
   "id": "4cee22d5-a9ce-4c2e-b9f5-79c191c50d35",
   "metadata": {},
   "outputs": [
    {
     "name": "stdout",
     "output_type": "stream",
     "text": [
      "2024-07-23 08:10:57      62730 prediction_baseline.csv\n"
     ]
    }
   ],
   "source": [
    "# check that the evaluation function generated output\n",
    "!aws s3 ls {output_s3_prefix}/prediction_baseline/"
   ]
  },
  {
   "cell_type": "markdown",
   "id": "c93a5348-9c06-416a-a4b2-0c83e4ea34f4",
   "metadata": {},
   "source": [
    "#### Model registration step\n",
    "The register step creates a SageMaker model and registers a new version of a model in the SageMaker Model Registry within a [model package group](https://docs.aws.amazon.com/sagemaker/latest/dg/model-registry-model-group.html). \n",
    "You implement this step also as a local Python function. The code is provided in the file `register.py` in the `./pipeline_steps` folder."
   ]
  },
  {
   "cell_type": "code",
   "execution_count": 50,
   "id": "06623ea6-4657-4fdd-913e-0f1bdd80c12c",
   "metadata": {},
   "outputs": [],
   "source": [
    "from pipeline_steps.register import register"
   ]
  },
  {
   "cell_type": "code",
   "execution_count": 51,
   "id": "7f6908ae-16ec-4228-8d9d-2b5f4290c413",
   "metadata": {},
   "outputs": [],
   "source": [
    "# !pygmentize  pipeline_steps/register.py"
   ]
  },
  {
   "cell_type": "code",
   "execution_count": 52,
   "id": "421dd3d8-8a0a-46f1-bb59-f4a95e55a1b6",
   "metadata": {},
   "outputs": [
    {
     "name": "stdout",
     "output_type": "stream",
     "text": [
      "\n",
      "2024-09-24 19:16:16 Starting - Preparing the instances for training\n",
      "2024-09-24 19:16:16 Downloading - Downloading the training image\n",
      "2024-09-24 19:16:16 Training - Training image download completed. Training in progress.\n",
      "2024-09-24 19:16:16 Uploading - Uploading generated training model\n",
      "2024-09-24 19:16:16 Completed - Training job completed\n"
     ]
    },
    {
     "name": "stderr",
     "output_type": "stream",
     "text": [
      "2024/09/24 20:30:12 INFO mlflow.tracking._tracking_service.client: 🏃 View run register-24-20-30-00 at: https://us-east-1.experiments.sagemaker.aws/#/experiments/35/runs/d8310b90a9434ad99c82d6fad14b42db.\n",
      "2024/09/24 20:30:12 INFO mlflow.tracking._tracking_service.client: 🧪 View experiment at: https://us-east-1.experiments.sagemaker.aws/#/experiments/35.\n"
     ]
    },
    {
     "data": {
      "text/plain": [
       "{'model_package_arn': 'arn:aws:sagemaker:us-east-1:446490546198:model-package/mlops-pk-proj-1-pipeline-model-24-19-09-00/3',\n",
       " 'model_package_group_name': 'mlops-pk-proj-1-pipeline-model-24-19-09-00',\n",
       " 'pipeline_run_id': ''}"
      ]
     },
     "execution_count": 52,
     "metadata": {},
     "output_type": "execute_result"
    }
   ],
   "source": [
    "# Run the model register code locally\n",
    "r_register = register(\n",
    "    training_job_name=estimator.latest_training_job.name,\n",
    "    model_package_group_name=model_package_group_name,\n",
    "    model_approval_status=model_approval_status,\n",
    "    evaluation_result=r_eval['evaluation_result'],\n",
    "    output_s3_prefix=output_s3_url,\n",
    "    tracking_server_arn=mlflow_arn,\n",
    "    experiment_name=r_preprocess['experiment_name'],\n",
    ")\n",
    "r_register"
   ]
  },
  {
   "cell_type": "code",
   "execution_count": 53,
   "id": "79afbcb0-a145-4662-bcfb-76cd7892c9eb",
   "metadata": {},
   "outputs": [
    {
     "data": {
      "text/plain": [
       "{'ModelPackageGroupName': 'mlops-pk-proj-1-pipeline-model-24-19-09-00',\n",
       " 'ModelPackageVersion': 3,\n",
       " 'ModelPackageArn': 'arn:aws:sagemaker:us-east-1:446490546198:model-package/mlops-pk-proj-1-pipeline-model-24-19-09-00/3',\n",
       " 'CreationTime': datetime.datetime(2024, 9, 24, 20, 30, 11, 277000, tzinfo=tzlocal()),\n",
       " 'InferenceSpecification': {'Containers': [{'Image': '683313688378.dkr.ecr.us-east-1.amazonaws.com/sagemaker-xgboost:1.7-1',\n",
       "    'ImageDigest': 'sha256:f037aa7389a000dc611e723fb227d21a07cf495fd5e7bd8292a260ae101b5546',\n",
       "    'ModelDataUrl': 's3://sagemaker-us-east-1-446490546198/mlops-pk/xgboost/output/mlops-pk-proj-1-train-2024-09-24-19-13-09-215/output/model.tar.gz',\n",
       "    'Environment': {}}],\n",
       "  'SupportedTransformInstanceTypes': ['ml.m5.xlarge', 'ml.m5.large'],\n",
       "  'SupportedRealtimeInferenceInstanceTypes': ['ml.m5.xlarge', 'ml.m5.large'],\n",
       "  'SupportedContentTypes': ['text/csv'],\n",
       "  'SupportedResponseMIMETypes': ['text/csv']},\n",
       " 'ModelPackageStatus': 'Completed',\n",
       " 'ModelPackageStatusDetails': {'ValidationStatuses': [],\n",
       "  'ImageScanStatuses': []},\n",
       " 'CertifyForMarketplace': False,\n",
       " 'ModelApprovalStatus': 'PendingManualApproval',\n",
       " 'CreatedBy': {'UserProfileArn': 'arn:aws:sagemaker:us-east-1:446490546198:user-profile/d-fkrqwhxrpnws/default-20240919T173153',\n",
       "  'UserProfileName': 'default-20240919T173153',\n",
       "  'DomainId': 'd-fkrqwhxrpnws',\n",
       "  'IamIdentity': {'Arn': 'arn:aws:sts::446490546198:assumed-role/AmazonSageMaker-ExecutionRole-20240919T173156/SageMaker',\n",
       "   'PrincipalId': 'AROAWP5HJCALJJYC7YPRQ:SageMaker'}},\n",
       " 'ModelMetrics': {'Bias': {}, 'Explainability': {}},\n",
       " 'Domain': 'MACHINE_LEARNING',\n",
       " 'Task': 'CLASSIFICATION',\n",
       " 'SkipModelValidation': 'None',\n",
       " 'ModelCard': {'ModelCardContent': '{\"training_details\": {\"training_job_details\": {\"training_arn\": \"arn:aws:sagemaker:us-east-1:446490546198:training-job/mlops-pk-proj-1-train-2024-09-24-19-13-09-215\", \"training_datasets\": [], \"training_environment\": {\"container_image\": [\"683313688378.dkr.ecr.us-east-1.amazonaws.com/sagemaker-xgboost:1.7-1\"]}, \"training_metrics\": [{\"name\": \"validation:auc\", \"value\": 0.771399974822998}, {\"name\": \"train:auc\", \"value\": 0.7876999974250793}], \"user_provided_training_metrics\": [], \"hyper_parameters\": [{\"name\": \"alpha\", \"value\": \"2.5\"}, {\"name\": \"colsample_bytree\", \"value\": \"0.8\"}, {\"name\": \"early_stopping_rounds\", \"value\": \"10\"}, {\"name\": \"eta\", \"value\": \"0.5\"}, {\"name\": \"eval_metric\", \"value\": \"auc\"}, {\"name\": \"max_depth\", \"value\": \"3\"}, {\"name\": \"min_child_weight\", \"value\": \"3\"}, {\"name\": \"num_round\", \"value\": \"100\"}, {\"name\": \"objective\", \"value\": \"binary:logistic\"}, {\"name\": \"subsample\", \"value\": \"0.8\"}, {\"name\": \"verbosity\", \"value\": \"1\"}], \"user_provided_hyper_parameters\": []}}}',\n",
       "  'ModelCardStatus': 'Draft'},\n",
       " 'ResponseMetadata': {'RequestId': '19f3ca75-7370-4173-bf82-00c7ae00c4a7',\n",
       "  'HTTPStatusCode': 200,\n",
       "  'HTTPHeaders': {'x-amzn-requestid': '19f3ca75-7370-4173-bf82-00c7ae00c4a7',\n",
       "   'content-type': 'application/x-amz-json-1.1',\n",
       "   'content-length': '2692',\n",
       "   'date': 'Tue, 24 Sep 2024 20:31:09 GMT'},\n",
       "  'RetryAttempts': 0}}"
      ]
     },
     "execution_count": 53,
     "metadata": {},
     "output_type": "execute_result"
    }
   ],
   "source": [
    "# check that a new model version has been registered in the model package group\n",
    "boto3.client('sagemaker').describe_model_package(ModelPackageName=r_register['model_package_arn'])"
   ]
  },
  {
   "cell_type": "markdown",
   "id": "18d66c4f-f26b-4061-ae60-20308990f373",
   "metadata": {},
   "source": [
    "### Construct a pipeline\n",
    "After local testing you can use the same Python code without any changes to construct a pipeline.\n",
    "\n",
    "The next cell creates a pipeline with previously developed and tested steps. Note, that you mix `@step`-decorated functions (preprocess, evaluate, register) and traditional pipeline steps (train) as SageMaker jobs in the same pipeline and pass data between them.\n",
    "\n",
    "You don't need to manually define an ordering of the steps, as SageMaker automatically derives the processing flow based on data dependencies between pipeline's steps. You also don't need to manage transfer of artifacts and datasets from one pipeline's step to another, because SageMaker automatically takes care of the data flow.\n",
    "\n",
    "Note the use of [`PipelineSession`](https://sagemaker.readthedocs.io/en/stable/workflows/pipelines/sagemaker.workflow.pipelines.html#sagemaker.workflow.pipeline_context.PipelineSession) instead of Session in the estimator object for the training step. When constructing a pipeline, a PipelineSession object must be given to the constructor of `Estimator` or `Processor` to start the job at pipeline execution time and not immedeately as with SageMaker `Session`."
   ]
  },
  {
   "cell_type": "code",
   "execution_count": 54,
   "id": "4c163656-a447-4a90-9af1-63c54f07a325",
   "metadata": {},
   "outputs": [
    {
     "name": "stderr",
     "output_type": "stream",
     "text": [
      "/opt/conda/lib/python3.11/site-packages/sagemaker/workflow/pipeline_context.py:332: UserWarning: Running within a PipelineSession, there will be No Wait, No Logs, and No Job being started.\n",
      "  warnings.warn(\n"
     ]
    }
   ],
   "source": [
    "# preprocess data step\n",
    "step_preprocess = step(\n",
    "    preprocess, \n",
    "    instance_type=process_instance_type_param,\n",
    "    name=f\"{project}-preprocess\",\n",
    "    keep_alive_period_in_seconds=3600,\n",
    ")(\n",
    "    input_data_s3_path=input_s3_url_param,\n",
    "    output_s3_prefix=output_s3_prefix,\n",
    "    tracking_server_arn=tracking_server_arn_param,\n",
    "    experiment_name=experiment_name,\n",
    "    pipeline_run_name=ExecutionVariables.PIPELINE_EXECUTION_ID,\n",
    ")\n",
    "\n",
    "cache_config = CacheConfig(\n",
    "        enable_caching=True,\n",
    "        expire_after=\"P30d\" # 30-day\n",
    "    )\n",
    "\n",
    "# train step\n",
    "step_train = TrainingStep(\n",
    "    name=f\"{project}-train\",\n",
    "    step_args=get_xgb_estimator(\n",
    "        session=PipelineSession(),\n",
    "        instance_type=train_instance_type_param,\n",
    "        output_s3_url=output_s3_url,\n",
    "        base_job_name=f\"{project}-train\",\n",
    "    ).fit(\n",
    "        {\n",
    "            \"train\": TrainingInput(\n",
    "                step_preprocess['train_data'],\n",
    "                content_type=\"text/csv\",\n",
    "            ),\n",
    "            \"validation\": TrainingInput(\n",
    "                step_preprocess['validation_data'],\n",
    "                content_type=\"text/csv\",\n",
    "            ),\n",
    "        }\n",
    "    ),\n",
    "    cache_config=cache_config,\n",
    ")    \n",
    "\n",
    "# evaluate step\n",
    "step_evaluate = step(\n",
    "    evaluate,\n",
    "    instance_type=process_instance_type_param,\n",
    "    name=f\"{project}-evaluate\",\n",
    "    keep_alive_period_in_seconds=3600,\n",
    ")(\n",
    "    test_x_data_s3_path=step_preprocess['test_x_data'],\n",
    "    test_y_data_s3_path=step_preprocess['test_y_data'],\n",
    "    model_s3_path=step_train.properties.ModelArtifacts.S3ModelArtifacts,\n",
    "    output_s3_prefix=output_s3_prefix,\n",
    "    tracking_server_arn=tracking_server_arn_param,\n",
    "    experiment_name=step_preprocess['experiment_name'],\n",
    "    pipeline_run_id=step_preprocess['pipeline_run_id'],\n",
    ")\n",
    "\n",
    "# register model step\n",
    "step_register = step(\n",
    "        register,\n",
    "        name=f\"{project}-register\",\n",
    "        keep_alive_period_in_seconds=3600,\n",
    "    )(\n",
    "        training_job_name=step_train.properties.TrainingJobName,\n",
    "        model_package_group_name=model_package_group_name_param,\n",
    "        model_approval_status=model_approval_status_param,\n",
    "        evaluation_result=step_evaluate['evaluation_result'],\n",
    "        output_s3_prefix=output_s3_url,\n",
    "        tracking_server_arn=tracking_server_arn_param,\n",
    "        experiment_name=step_preprocess['experiment_name'],\n",
    "        pipeline_run_id=step_preprocess['pipeline_run_id'],\n",
    "    )\n",
    "\n",
    "# fail the pipeline execution step\n",
    "step_fail = FailStep(\n",
    "    name=f\"{project}-fail\",\n",
    "    error_message=Join(on=\" \", values=[\"Execution failed due to AUC Score < \", test_score_threshold_param]),\n",
    ")\n",
    "\n",
    "# condition to check in the condition step\n",
    "condition_gte = ConditionGreaterThanOrEqualTo(\n",
    "        left=step_evaluate['evaluation_result']['classification_metrics']['auc_score']['value'],  \n",
    "        right=test_score_threshold_param,\n",
    ")\n",
    "\n",
    "# conditional register step\n",
    "step_conditional_register = ConditionStep(\n",
    "    name=f\"{project}-check-metrics\",\n",
    "    conditions=[condition_gte],\n",
    "    if_steps=[step_register],\n",
    "    else_steps=[step_fail],\n",
    ")\n",
    "\n",
    "# Create a pipeline object\n",
    "pipeline = Pipeline(\n",
    "    name=f\"{pipeline_name}\",\n",
    "    parameters=[\n",
    "        input_s3_url_param,\n",
    "        process_instance_type_param,\n",
    "        train_instance_type_param,\n",
    "        model_approval_status_param,\n",
    "        test_score_threshold_param,\n",
    "        model_package_group_name_param,\n",
    "        tracking_server_arn_param,\n",
    "    ],\n",
    "    steps=[step_conditional_register],\n",
    "    pipeline_definition_config=PipelineDefinitionConfig(use_custom_job_prefix=True)\n",
    ")"
   ]
  },
  {
   "cell_type": "markdown",
   "id": "865f8588-bbda-4501-83e3-dee157ff48ee",
   "metadata": {},
   "source": [
    "Note, we added two more steps to the pipeline: Fail step and Condition Step.\n",
    "\n",
    "#### Fail step\n",
    "A Pipelines [FailStep](https://sagemaker.readthedocs.io/en/stable/workflows/pipelines/sagemaker.workflow.pipelines.html#sagemaker.workflow.fail_step.FailStep) stops the pipeline execution if the model performance metric doesn't meet the specified threshold. \n",
    "\n",
    "#### Condition step\n",
    "The condition step checks the model performance score calculated in the evaluation step and conditionally creates a model and registers it in the model registry, or stops and fails the pipeline execution."
   ]
  },
  {
   "cell_type": "markdown",
   "id": "ce14bd92-a3e6-45db-a1c5-8f476038fae8",
   "metadata": {},
   "source": [
    "#### Upsert the pipeline\n",
    "Now create the pipeline. If a pipeline with the same name already exits, SageMaker will update it. \n",
    "\n",
    "You need to pass only the last step to `Pipeline` constructor. The SDK automatically builds a pipeline DAG based on data dependencies between steps. Refer to the [Developer Guide](https://docs.aws.amazon.com/sagemaker/latest/dg/pipelines-step-decorator-create-pipeline.html#pipelines-step-define-delayed) for more details."
   ]
  },
  {
   "cell_type": "code",
   "execution_count": 55,
   "id": "38ea591a-a789-4684-9262-b544ab9294bb",
   "metadata": {},
   "outputs": [
    {
     "name": "stdout",
     "output_type": "stream",
     "text": [
      "sagemaker.config INFO - Applied value from config key = SageMaker.PythonSDK.Modules.RemoteFunction.Dependencies\n",
      "sagemaker.config INFO - Applied value from config key = SageMaker.PythonSDK.Modules.RemoteFunction.IncludeLocalWorkDir\n",
      "sagemaker.config INFO - Applied value from config key = SageMaker.PythonSDK.Modules.RemoteFunction.CustomFileFilter.IgnoreNamePatterns\n",
      "sagemaker.config INFO - Applied value from config key = SageMaker.PythonSDK.Modules.RemoteFunction.InstanceType\n"
     ]
    },
    {
     "name": "stderr",
     "output_type": "stream",
     "text": [
      "2024-09-24 20:58:59,023 sagemaker.remote_function INFO     Uploading serialized function code to s3://sagemaker-us-east-1-446490546198/mlops-pk-proj-1-pipeline-24-19-09-00/mlops-pk-proj-1-register/2024-09-24-20-58-56-116/function\n",
      "2024-09-24 20:58:59,079 sagemaker.remote_function INFO     Uploading serialized function arguments to s3://sagemaker-us-east-1-446490546198/mlops-pk-proj-1-pipeline-24-19-09-00/mlops-pk-proj-1-register/2024-09-24-20-58-56-116/arguments\n",
      "2024-09-24 20:58:59,308 sagemaker.remote_function INFO     Copied dependencies file at './requirements.txt' to '/tmp/tmpeq76_aft/requirements.txt'\n",
      "2024-09-24 20:58:59,330 sagemaker.remote_function INFO     Successfully uploaded dependencies and pre execution scripts to 's3://sagemaker-us-east-1-446490546198/mlops-pk-proj-1-pipeline-24-19-09-00/mlops-pk-proj-1-register/2024-09-24-20-58-56-116/pre_exec_script_and_dependencies'\n",
      "2024-09-24 20:58:59,394 sagemaker.remote_function INFO     Copied user workspace to '/tmp/tmped75bu9k/temp_workspace/sagemaker_remote_function_workspace'\n",
      "2024-09-24 20:59:03,117 sagemaker.remote_function INFO     Successfully created workdir archive at '/tmp/tmped75bu9k/workspace.zip'\n",
      "2024-09-24 20:59:04,336 sagemaker.remote_function INFO     Successfully uploaded workdir to 's3://sagemaker-us-east-1-446490546198/mlops-pk-proj-1-pipeline-24-19-09-00/sm_rf_user_ws/2024-09-24-20-58-56-116/workspace.zip'\n"
     ]
    },
    {
     "name": "stdout",
     "output_type": "stream",
     "text": [
      "sagemaker.config INFO - Applied value from config key = SageMaker.PythonSDK.Modules.RemoteFunction.Dependencies\n",
      "sagemaker.config INFO - Applied value from config key = SageMaker.PythonSDK.Modules.RemoteFunction.IncludeLocalWorkDir\n",
      "sagemaker.config INFO - Applied value from config key = SageMaker.PythonSDK.Modules.RemoteFunction.CustomFileFilter.IgnoreNamePatterns\n"
     ]
    },
    {
     "name": "stderr",
     "output_type": "stream",
     "text": [
      "2024-09-24 20:59:06,363 sagemaker.remote_function INFO     Uploading serialized function code to s3://sagemaker-us-east-1-446490546198/mlops-pk-proj-1-pipeline-24-19-09-00/mlops-pk-proj-1-evaluate/2024-09-24-20-58-56-116/function\n",
      "2024-09-24 20:59:06,452 sagemaker.remote_function INFO     Uploading serialized function arguments to s3://sagemaker-us-east-1-446490546198/mlops-pk-proj-1-pipeline-24-19-09-00/mlops-pk-proj-1-evaluate/2024-09-24-20-58-56-116/arguments\n",
      "2024-09-24 20:59:06,542 sagemaker.remote_function INFO     Copied dependencies file at './requirements.txt' to '/tmp/tmpuwscup_p/requirements.txt'\n",
      "2024-09-24 20:59:06,573 sagemaker.remote_function INFO     Successfully uploaded dependencies and pre execution scripts to 's3://sagemaker-us-east-1-446490546198/mlops-pk-proj-1-pipeline-24-19-09-00/mlops-pk-proj-1-evaluate/2024-09-24-20-58-56-116/pre_exec_script_and_dependencies'\n"
     ]
    },
    {
     "name": "stdout",
     "output_type": "stream",
     "text": [
      "sagemaker.config INFO - Applied value from config key = SageMaker.PythonSDK.Modules.RemoteFunction.Dependencies\n",
      "sagemaker.config INFO - Applied value from config key = SageMaker.PythonSDK.Modules.RemoteFunction.IncludeLocalWorkDir\n",
      "sagemaker.config INFO - Applied value from config key = SageMaker.PythonSDK.Modules.RemoteFunction.CustomFileFilter.IgnoreNamePatterns\n"
     ]
    },
    {
     "name": "stderr",
     "output_type": "stream",
     "text": [
      "2024-09-24 20:59:09,223 sagemaker.remote_function INFO     Uploading serialized function code to s3://sagemaker-us-east-1-446490546198/mlops-pk-proj-1-pipeline-24-19-09-00/mlops-pk-proj-1-preprocess/2024-09-24-20-58-56-116/function\n",
      "2024-09-24 20:59:09,338 sagemaker.remote_function INFO     Uploading serialized function arguments to s3://sagemaker-us-east-1-446490546198/mlops-pk-proj-1-pipeline-24-19-09-00/mlops-pk-proj-1-preprocess/2024-09-24-20-58-56-116/arguments\n",
      "2024-09-24 20:59:09,400 sagemaker.remote_function INFO     Copied dependencies file at './requirements.txt' to '/tmp/tmpgfzvc7p1/requirements.txt'\n",
      "2024-09-24 20:59:09,425 sagemaker.remote_function INFO     Successfully uploaded dependencies and pre execution scripts to 's3://sagemaker-us-east-1-446490546198/mlops-pk-proj-1-pipeline-24-19-09-00/mlops-pk-proj-1-preprocess/2024-09-24-20-58-56-116/pre_exec_script_and_dependencies'\n"
     ]
    },
    {
     "data": {
      "text/plain": [
       "{'PipelineArn': 'arn:aws:sagemaker:us-east-1:446490546198:pipeline/mlops-pk-proj-1-pipeline-24-19-09-00',\n",
       " 'ResponseMetadata': {'RequestId': 'd55b6dbe-9986-4519-9ccd-e364de0b8637',\n",
       "  'HTTPStatusCode': 200,\n",
       "  'HTTPHeaders': {'x-amzn-requestid': 'd55b6dbe-9986-4519-9ccd-e364de0b8637',\n",
       "   'content-type': 'application/x-amz-json-1.1',\n",
       "   'content-length': '104',\n",
       "   'date': 'Tue, 24 Sep 2024 20:59:10 GMT'},\n",
       "  'RetryAttempts': 0}}"
      ]
     },
     "execution_count": 55,
     "metadata": {},
     "output_type": "execute_result"
    }
   ],
   "source": [
    "# Upsert operation serialize the function code, arguments, and other artefacts to S3 where it can be accessed during pipeline's runtime\n",
    "pipeline.upsert(role_arn=sm_role)"
   ]
  },
  {
   "cell_type": "markdown",
   "id": "4a312dae-75ba-4dbb-9266-cf68c11c681f",
   "metadata": {},
   "source": [
    "To see the created pipeline in the Studio UI, click on the link constructed by the code cell below:"
   ]
  },
  {
   "cell_type": "code",
   "execution_count": 56,
   "id": "4c94b5fe-f56c-46f2-a4f4-643af4bab979",
   "metadata": {},
   "outputs": [
    {
     "data": {
      "text/html": [
       "<b>See <a target=\"top\" href=\"https://studio-d-fkrqwhxrpnws.studio.us-east-1.sagemaker.aws/pipelines/mlops-pk-proj-1-pipeline-24-19-09-00/graph\">the pipeline</a> in the Studio UI</b>"
      ],
      "text/plain": [
       "<IPython.core.display.HTML object>"
      ]
     },
     "metadata": {},
     "output_type": "display_data"
    }
   ],
   "source": [
    "from IPython.display import HTML\n",
    "\n",
    "# Show the pipeline link\n",
    "display(\n",
    "    HTML('<b>See <a target=\"top\" href=\"https://studio-{}.studio.{}.sagemaker.aws/pipelines/{}/graph\">the pipeline</a> in the Studio UI</b>'.format(\n",
    "            domain_id, region, pipeline_name))\n",
    ")"
   ]
  },
  {
   "cell_type": "markdown",
   "id": "2f3608ce-fcab-4e89-be8f-07a060675e14",
   "metadata": {
    "tags": []
   },
   "source": [
    "Based on the data dependencies between the pipeline's steps, SageMaker builds the following DAG with the data flow in your pipeline:\n",
    "![](img/pipeline-graph.png)"
   ]
  },
  {
   "cell_type": "markdown",
   "id": "975d83cd-72c0-403c-b9f1-e953f91add9d",
   "metadata": {},
   "source": [
    "### Execute the pipeline\n",
    "The first pipeline execution takes about 17-20 minutes. Note the usage of the `keep_alive_period_in_seconds` parameter in the step definition for the warm pool reuse and `CacheConfig` in the Training step for the caching of step results.\n",
    "A subsequent pipeline execution takes about 7 minutes due to usage of caching and a warm pool."
   ]
  },
  {
   "cell_type": "code",
   "execution_count": 57,
   "id": "92b84443-b4f4-4f89-8fbb-e813e9b9997b",
   "metadata": {
    "tags": []
   },
   "outputs": [
    {
     "data": {
      "text/plain": [
       "{'PipelineArn': 'arn:aws:sagemaker:us-east-1:446490546198:pipeline/mlops-pk-proj-1-pipeline-24-19-09-00',\n",
       " 'PipelineExecutionArn': 'arn:aws:sagemaker:us-east-1:446490546198:pipeline/mlops-pk-proj-1-pipeline-24-19-09-00/execution/vdwyctoig5my',\n",
       " 'PipelineExecutionDisplayName': 'execution-1727211602726',\n",
       " 'PipelineExecutionStatus': 'Executing',\n",
       " 'CreationTime': datetime.datetime(2024, 9, 24, 21, 0, 2, 659000, tzinfo=tzlocal()),\n",
       " 'LastModifiedTime': datetime.datetime(2024, 9, 24, 21, 0, 2, 659000, tzinfo=tzlocal()),\n",
       " 'CreatedBy': {'UserProfileArn': 'arn:aws:sagemaker:us-east-1:446490546198:user-profile/d-fkrqwhxrpnws/default-20240919T173153',\n",
       "  'UserProfileName': 'default-20240919T173153',\n",
       "  'DomainId': 'd-fkrqwhxrpnws',\n",
       "  'IamIdentity': {'Arn': 'arn:aws:sts::446490546198:assumed-role/AmazonSageMaker-ExecutionRole-20240919T173156/SageMaker',\n",
       "   'PrincipalId': 'AROAWP5HJCALJJYC7YPRQ:SageMaker'}},\n",
       " 'LastModifiedBy': {'UserProfileArn': 'arn:aws:sagemaker:us-east-1:446490546198:user-profile/d-fkrqwhxrpnws/default-20240919T173153',\n",
       "  'UserProfileName': 'default-20240919T173153',\n",
       "  'DomainId': 'd-fkrqwhxrpnws',\n",
       "  'IamIdentity': {'Arn': 'arn:aws:sts::446490546198:assumed-role/AmazonSageMaker-ExecutionRole-20240919T173156/SageMaker',\n",
       "   'PrincipalId': 'AROAWP5HJCALJJYC7YPRQ:SageMaker'}},\n",
       " 'ResponseMetadata': {'RequestId': '6c42aee5-b3ac-405c-b962-e0c8004d18c9',\n",
       "  'HTTPStatusCode': 200,\n",
       "  'HTTPHeaders': {'x-amzn-requestid': '6c42aee5-b3ac-405c-b962-e0c8004d18c9',\n",
       "   'content-type': 'application/x-amz-json-1.1',\n",
       "   'content-length': '1137',\n",
       "   'date': 'Tue, 24 Sep 2024 21:00:02 GMT'},\n",
       "  'RetryAttempts': 0}}"
      ]
     },
     "execution_count": 57,
     "metadata": {},
     "output_type": "execute_result"
    }
   ],
   "source": [
    "pipeline_execution = pipeline.start()\n",
    "pipeline_execution.describe()"
   ]
  },
  {
   "cell_type": "code",
   "execution_count": 58,
   "id": "f4c501c9-02ba-4910-a42f-1a2398b401e2",
   "metadata": {
    "tags": []
   },
   "outputs": [
    {
     "data": {
      "text/plain": [
       "[{'StepName': 'mlops-pk-proj-1-preprocess',\n",
       "  'StartTime': datetime.datetime(2024, 9, 24, 21, 0, 3, 997000, tzinfo=tzlocal()),\n",
       "  'StepStatus': 'Executing',\n",
       "  'Metadata': {'TrainingJob': {'Arn': 'arn:aws:sagemaker:us-east-1:446490546198:training-job/preprocess-vdwyctoig5my-rVOybvRJsb'}},\n",
       "  'AttemptCount': 1}]"
      ]
     },
     "execution_count": 58,
     "metadata": {},
     "output_type": "execute_result"
    }
   ],
   "source": [
    "# Uncomment if you would like to wait in the notebook until this execution completes\n",
    "# pipeline_execution.wait() \n",
    "pipeline_execution.list_steps()"
   ]
  },
  {
   "cell_type": "markdown",
   "id": "3c25826e-e7cf-4e27-8662-408bc682a9d6",
   "metadata": {},
   "source": [
    "You can see the pipeline execution in the Studio UI by clicking on the link constructed by the following code cell:"
   ]
  },
  {
   "cell_type": "code",
   "execution_count": 59,
   "id": "06c8c325-7ddd-4c5a-91a7-c6ca7c40d347",
   "metadata": {},
   "outputs": [
    {
     "data": {
      "text/html": [
       "<b>See <a target=\"top\" href=\"https://studio-d-fkrqwhxrpnws.studio.us-east-1.sagemaker.aws/pipelines/mlops-pk-proj-1-pipeline-24-19-09-00/executions/vdwyctoig5my/graph\">the pipeline execution</a> in the Studio UI</b>"
      ],
      "text/plain": [
       "<IPython.core.display.HTML object>"
      ]
     },
     "metadata": {},
     "output_type": "display_data"
    }
   ],
   "source": [
    "# Show the pipeline execution link\n",
    "display(\n",
    "    HTML('<b>See <a target=\"top\" href=\"https://studio-{}.studio.{}.sagemaker.aws/pipelines/{}/executions/{}/graph\">the pipeline execution</a> in the Studio UI</b>'.format(\n",
    "            domain_id, region, pipeline_name, pipeline_execution.describe()['PipelineExecutionArn'].split('/')[-1]))\n",
    ")"
   ]
  },
  {
   "cell_type": "markdown",
   "id": "8c70ee2a-a099-467a-b13c-85fc567f1e4f",
   "metadata": {},
   "source": [
    "To manage pipelines in the Studio UI select **Pipelines** in the navigation menu on the left and then the specific pipeline to see pipeline's executions and all details:\n",
    "\n",
    "![](img/pipelines-pane.png)\n",
    "\n",
    "For each execution you can open an execution graph and see details for each pipeline step:\n",
    "\n",
    "![](img/pipeline-execution-graph.png)\n",
    "\n",
    "You can track pipeline executions, artifacts, datasets, and models in the MLflow UX:\n",
    "\n",
    "![](img/mlflow-pipeline-executions.png)"
   ]
  },
  {
   "cell_type": "markdown",
   "id": "e4a32911-b094-450f-8d4a-450c6448290f",
   "metadata": {},
   "source": [
    "### Understand the pipeline definition"
   ]
  },
  {
   "cell_type": "code",
   "execution_count": 43,
   "id": "81d05813-b615-463b-9b90-67f45c9444cb",
   "metadata": {
    "tags": []
   },
   "outputs": [
    {
     "data": {
      "text/plain": [
       "{'Version': '2020-12-01',\n",
       " 'Metadata': {},\n",
       " 'Parameters': [{'Name': 'InputDataUrl',\n",
       "   'Type': 'String',\n",
       "   'DefaultValue': 's3://sagemaker-us-east-1-398333718380/from-idea-to-prod/xgboost/input/bank-additional-full.csv'},\n",
       "  {'Name': 'ProcessingInstanceType',\n",
       "   'Type': 'String',\n",
       "   'DefaultValue': 'ml.m5.large'},\n",
       "  {'Name': 'TrainingInstanceType',\n",
       "   'Type': 'String',\n",
       "   'DefaultValue': 'ml.m5.large'},\n",
       "  {'Name': 'ModelApprovalStatus',\n",
       "   'Type': 'String',\n",
       "   'DefaultValue': 'PendingManualApproval'},\n",
       "  {'Name': 'TestScoreThreshold', 'Type': 'Float', 'DefaultValue': 0.75},\n",
       "  {'Name': 'ModelPackageGroupName',\n",
       "   'Type': 'String',\n",
       "   'DefaultValue': 'from-idea-to-prod-pipeline-model-23-07-51-02'},\n",
       "  {'Name': 'TrackingServerARN',\n",
       "   'Type': 'String',\n",
       "   'DefaultValue': 'arn:aws:sagemaker:us-east-1:398333718380:mlflow-tracking-server/mlflow-d-wxmppmljqkj5'}],\n",
       " 'PipelineExperimentConfig': {'ExperimentName': {'Get': 'Execution.PipelineName'},\n",
       "  'TrialName': {'Get': 'Execution.PipelineExecutionId'}},\n",
       " 'Steps': [{'Name': 'from-idea-to-prod-check-metrics',\n",
       "   'Type': 'Condition',\n",
       "   'Arguments': {'Conditions': [{'Type': 'GreaterThanOrEqualTo',\n",
       "      'LeftValue': {'Std:JsonGet': {'S3Uri': {'Std:Join': {'On': '/',\n",
       "          'Values': [{'Get': 'Steps.from-idea-to-prod-evaluate.OutputDataConfig.S3OutputPath'},\n",
       "           'results.json']}},\n",
       "        'Path': \"Result['evaluation_result']['classification_metrics']['auc_score']['value']\"}},\n",
       "      'RightValue': {'Get': 'Parameters.TestScoreThreshold'}}],\n",
       "    'IfSteps': [{'Name': 'from-idea-to-prod-register',\n",
       "      'Type': 'Training',\n",
       "      'Arguments': {'TrainingJobName': 'register',\n",
       "       'RoleArn': 'arn:aws:iam::398333718380:role/cfnstudiodomain-SageMakerExecutionRole-8XQVuLUFsn6g',\n",
       "       'StoppingCondition': {'MaxRuntimeInSeconds': 86400},\n",
       "       'RetryStrategy': {'MaximumRetryAttempts': 1},\n",
       "       'InputDataConfig': [{'ChannelName': 'sagemaker_remote_function_bootstrap',\n",
       "         'DataSource': {'S3DataSource': {'S3Uri': 's3://sagemaker-us-east-1-398333718380/from-idea-to-prod-pipeline-23-07-51-02/sagemaker_remote_function_bootstrap',\n",
       "           'S3DataType': 'S3Prefix'}}},\n",
       "        {'ChannelName': 'pre_exec_script_and_dependencies',\n",
       "         'DataSource': {'S3DataSource': {'S3Uri': 's3://sagemaker-us-east-1-398333718380/from-idea-to-prod-pipeline-23-07-51-02/from-idea-to-prod-register/2024-07-23-08-11-27-080/pre_exec_script_and_dependencies',\n",
       "           'S3DataType': 'S3Prefix'}}},\n",
       "        {'ChannelName': '2024-07-23-08-11-27-080',\n",
       "         'DataSource': {'S3DataSource': {'S3Uri': 's3://sagemaker-us-east-1-398333718380/from-idea-to-prod-pipeline-23-07-51-02/sm_rf_user_ws/2024-07-23-08-11-27-080/workspace.zip',\n",
       "           'S3DataType': 'S3Prefix'}}}],\n",
       "       'OutputDataConfig': {'S3OutputPath': {'Std:Join': {'On': '/',\n",
       "          'Values': ['s3://sagemaker-us-east-1-398333718380/from-idea-to-prod-pipeline-23-07-51-02',\n",
       "           {'Get': 'Execution.PipelineExecutionId'},\n",
       "           'from-idea-to-prod-register',\n",
       "           'results']}}},\n",
       "       'AlgorithmSpecification': {'TrainingImage': '885854791233.dkr.ecr.us-east-1.amazonaws.com/sagemaker-distribution-prod@sha256:9e7622bbe2f3ee9dd516797bfe3ed310983b96190eeefbdeeeea69519d3946fe',\n",
       "        'TrainingInputMode': 'File',\n",
       "        'ContainerEntrypoint': ['/bin/bash',\n",
       "         '/opt/ml/input/data/sagemaker_remote_function_bootstrap/job_driver.sh'],\n",
       "        'ContainerArguments': ['--s3_base_uri',\n",
       "         's3://sagemaker-us-east-1-398333718380/from-idea-to-prod-pipeline-23-07-51-02',\n",
       "         '--region',\n",
       "         'us-east-1',\n",
       "         '--client_python_version',\n",
       "         '3.10',\n",
       "         '--client_sagemaker_pysdk_version',\n",
       "         '2.226.1',\n",
       "         '--dependency_settings',\n",
       "         '{\"dependency_file\": \"requirements.txt\"}',\n",
       "         '--pipeline_step_name',\n",
       "         'from-idea-to-prod-register',\n",
       "         '--pipeline_execution_id',\n",
       "         {'Get': 'Execution.PipelineExecutionId'},\n",
       "         '--func_step_s3_dir',\n",
       "         '2024-07-23-08-11-27-080',\n",
       "         '--property_references',\n",
       "         'Execution.PipelineExecutionId',\n",
       "         {'Get': 'Execution.PipelineExecutionId'},\n",
       "         'Steps.from-idea-to-prod-train.TrainingJobName',\n",
       "         {'Std:Join': {'On': '',\n",
       "           'Values': [{'Get': 'Steps.from-idea-to-prod-train.TrainingJobName'}]}},\n",
       "         'Parameters.ModelPackageGroupName',\n",
       "         {'Get': 'Parameters.ModelPackageGroupName'},\n",
       "         'Parameters.ModelApprovalStatus',\n",
       "         {'Get': 'Parameters.ModelApprovalStatus'},\n",
       "         'Steps.from-idea-to-prod-evaluate.OutputDataConfig.S3OutputPath',\n",
       "         {'Std:Join': {'On': '',\n",
       "           'Values': [{'Get': 'Steps.from-idea-to-prod-evaluate.OutputDataConfig.S3OutputPath'}]}},\n",
       "         'Parameters.TrackingServerARN',\n",
       "         {'Get': 'Parameters.TrackingServerARN'},\n",
       "         'Steps.from-idea-to-prod-preprocess.OutputDataConfig.S3OutputPath',\n",
       "         {'Std:Join': {'On': '',\n",
       "           'Values': [{'Get': 'Steps.from-idea-to-prod-preprocess.OutputDataConfig.S3OutputPath'}]}},\n",
       "         'Steps.from-idea-to-prod-preprocess.OutputDataConfig.S3OutputPath',\n",
       "         {'Std:Join': {'On': '',\n",
       "           'Values': [{'Get': 'Steps.from-idea-to-prod-preprocess.OutputDataConfig.S3OutputPath'}]}}]},\n",
       "       'ResourceConfig': {'VolumeSizeInGB': 30,\n",
       "        'InstanceCount': 1,\n",
       "        'InstanceType': 'ml.m5.xlarge',\n",
       "        'KeepAlivePeriodInSeconds': 3600},\n",
       "       'EnableNetworkIsolation': False,\n",
       "       'EnableInterContainerTrafficEncryption': False,\n",
       "       'EnableManagedSpotTraining': False,\n",
       "       'Environment': {'AWS_DEFAULT_REGION': 'us-east-1',\n",
       "        'REMOTE_FUNCTION_SECRET_KEY': 'f7c539b761f8982b933718996bd5b3be95b3c8aeaef54e6c3d863a6e671903f9'}},\n",
       "      'DependsOn': ['from-idea-to-prod-evaluate',\n",
       "       'from-idea-to-prod-preprocess'],\n",
       "      'DisplayName': 'pipeline_steps.register.register',\n",
       "      'Description': '/home/sagemaker-user/amazon-sagemaker-from-idea-to-production/pipeline_steps/register.py'}],\n",
       "    'ElseSteps': [{'Name': 'from-idea-to-prod-fail',\n",
       "      'Type': 'Fail',\n",
       "      'Arguments': {'ErrorMessage': {'Std:Join': {'On': ' ',\n",
       "         'Values': ['Execution failed due to AUC Score < ',\n",
       "          {'Get': 'Parameters.TestScoreThreshold'}]}}}}]},\n",
       "   'DependsOn': ['from-idea-to-prod-evaluate']},\n",
       "  {'Name': 'from-idea-to-prod-evaluate',\n",
       "   'Type': 'Training',\n",
       "   'Arguments': {'TrainingJobName': 'evaluate',\n",
       "    'RoleArn': 'arn:aws:iam::398333718380:role/cfnstudiodomain-SageMakerExecutionRole-8XQVuLUFsn6g',\n",
       "    'StoppingCondition': {'MaxRuntimeInSeconds': 86400},\n",
       "    'RetryStrategy': {'MaximumRetryAttempts': 1},\n",
       "    'InputDataConfig': [{'ChannelName': 'sagemaker_remote_function_bootstrap',\n",
       "      'DataSource': {'S3DataSource': {'S3Uri': 's3://sagemaker-us-east-1-398333718380/from-idea-to-prod-pipeline-23-07-51-02/sagemaker_remote_function_bootstrap',\n",
       "        'S3DataType': 'S3Prefix'}}},\n",
       "     {'ChannelName': 'pre_exec_script_and_dependencies',\n",
       "      'DataSource': {'S3DataSource': {'S3Uri': 's3://sagemaker-us-east-1-398333718380/from-idea-to-prod-pipeline-23-07-51-02/from-idea-to-prod-evaluate/2024-07-23-08-11-27-080/pre_exec_script_and_dependencies',\n",
       "        'S3DataType': 'S3Prefix'}}},\n",
       "     {'ChannelName': '2024-07-23-08-11-27-080',\n",
       "      'DataSource': {'S3DataSource': {'S3Uri': 's3://sagemaker-us-east-1-398333718380/from-idea-to-prod-pipeline-23-07-51-02/sm_rf_user_ws/2024-07-23-08-11-27-080',\n",
       "        'S3DataType': 'S3Prefix'}}}],\n",
       "    'OutputDataConfig': {'S3OutputPath': {'Std:Join': {'On': '/',\n",
       "       'Values': ['s3://sagemaker-us-east-1-398333718380/from-idea-to-prod-pipeline-23-07-51-02',\n",
       "        {'Get': 'Execution.PipelineExecutionId'},\n",
       "        'from-idea-to-prod-evaluate',\n",
       "        'results']}}},\n",
       "    'AlgorithmSpecification': {'TrainingImage': '885854791233.dkr.ecr.us-east-1.amazonaws.com/sagemaker-distribution-prod@sha256:9e7622bbe2f3ee9dd516797bfe3ed310983b96190eeefbdeeeea69519d3946fe',\n",
       "     'TrainingInputMode': 'File',\n",
       "     'ContainerEntrypoint': ['/bin/bash',\n",
       "      '/opt/ml/input/data/sagemaker_remote_function_bootstrap/job_driver.sh'],\n",
       "     'ContainerArguments': ['--s3_base_uri',\n",
       "      's3://sagemaker-us-east-1-398333718380/from-idea-to-prod-pipeline-23-07-51-02',\n",
       "      '--region',\n",
       "      'us-east-1',\n",
       "      '--client_python_version',\n",
       "      '3.10',\n",
       "      '--client_sagemaker_pysdk_version',\n",
       "      '2.226.1',\n",
       "      '--dependency_settings',\n",
       "      '{\"dependency_file\": \"requirements.txt\"}',\n",
       "      '--pipeline_step_name',\n",
       "      'from-idea-to-prod-evaluate',\n",
       "      '--pipeline_execution_id',\n",
       "      {'Get': 'Execution.PipelineExecutionId'},\n",
       "      '--func_step_s3_dir',\n",
       "      '2024-07-23-08-11-27-080',\n",
       "      '--property_references',\n",
       "      'Execution.PipelineExecutionId',\n",
       "      {'Get': 'Execution.PipelineExecutionId'},\n",
       "      'Steps.from-idea-to-prod-preprocess.OutputDataConfig.S3OutputPath',\n",
       "      {'Std:Join': {'On': '',\n",
       "        'Values': [{'Get': 'Steps.from-idea-to-prod-preprocess.OutputDataConfig.S3OutputPath'}]}},\n",
       "      'Steps.from-idea-to-prod-preprocess.OutputDataConfig.S3OutputPath',\n",
       "      {'Std:Join': {'On': '',\n",
       "        'Values': [{'Get': 'Steps.from-idea-to-prod-preprocess.OutputDataConfig.S3OutputPath'}]}},\n",
       "      'Steps.from-idea-to-prod-train.ModelArtifacts.S3ModelArtifacts',\n",
       "      {'Std:Join': {'On': '',\n",
       "        'Values': [{'Get': 'Steps.from-idea-to-prod-train.ModelArtifacts.S3ModelArtifacts'}]}},\n",
       "      'Parameters.TrackingServerARN',\n",
       "      {'Get': 'Parameters.TrackingServerARN'},\n",
       "      'Steps.from-idea-to-prod-preprocess.OutputDataConfig.S3OutputPath',\n",
       "      {'Std:Join': {'On': '',\n",
       "        'Values': [{'Get': 'Steps.from-idea-to-prod-preprocess.OutputDataConfig.S3OutputPath'}]}},\n",
       "      'Steps.from-idea-to-prod-preprocess.OutputDataConfig.S3OutputPath',\n",
       "      {'Std:Join': {'On': '',\n",
       "        'Values': [{'Get': 'Steps.from-idea-to-prod-preprocess.OutputDataConfig.S3OutputPath'}]}},\n",
       "      '--serialize_output_to_json',\n",
       "      'true']},\n",
       "    'ResourceConfig': {'VolumeSizeInGB': 30,\n",
       "     'InstanceCount': 1,\n",
       "     'InstanceType': {'Get': 'Parameters.ProcessingInstanceType'},\n",
       "     'KeepAlivePeriodInSeconds': 3600},\n",
       "    'EnableNetworkIsolation': False,\n",
       "    'EnableInterContainerTrafficEncryption': False,\n",
       "    'EnableManagedSpotTraining': False,\n",
       "    'Environment': {'AWS_DEFAULT_REGION': 'us-east-1',\n",
       "     'REMOTE_FUNCTION_SECRET_KEY': 'f7c539b761f8982b933718996bd5b3be95b3c8aeaef54e6c3d863a6e671903f9'}},\n",
       "   'DependsOn': ['from-idea-to-prod-preprocess'],\n",
       "   'DisplayName': 'pipeline_steps.evaluate.evaluate',\n",
       "   'Description': '/home/sagemaker-user/amazon-sagemaker-from-idea-to-production/pipeline_steps/evaluate.py'},\n",
       "  {'Name': 'from-idea-to-prod-preprocess',\n",
       "   'Type': 'Training',\n",
       "   'Arguments': {'TrainingJobName': 'preprocess',\n",
       "    'RoleArn': 'arn:aws:iam::398333718380:role/cfnstudiodomain-SageMakerExecutionRole-8XQVuLUFsn6g',\n",
       "    'StoppingCondition': {'MaxRuntimeInSeconds': 86400},\n",
       "    'RetryStrategy': {'MaximumRetryAttempts': 1},\n",
       "    'InputDataConfig': [{'ChannelName': 'sagemaker_remote_function_bootstrap',\n",
       "      'DataSource': {'S3DataSource': {'S3Uri': 's3://sagemaker-us-east-1-398333718380/from-idea-to-prod-pipeline-23-07-51-02/sagemaker_remote_function_bootstrap',\n",
       "        'S3DataType': 'S3Prefix'}}},\n",
       "     {'ChannelName': 'pre_exec_script_and_dependencies',\n",
       "      'DataSource': {'S3DataSource': {'S3Uri': 's3://sagemaker-us-east-1-398333718380/from-idea-to-prod-pipeline-23-07-51-02/from-idea-to-prod-preprocess/2024-07-23-08-11-27-080/pre_exec_script_and_dependencies',\n",
       "        'S3DataType': 'S3Prefix'}}},\n",
       "     {'ChannelName': '2024-07-23-08-11-27-080',\n",
       "      'DataSource': {'S3DataSource': {'S3Uri': 's3://sagemaker-us-east-1-398333718380/from-idea-to-prod-pipeline-23-07-51-02/sm_rf_user_ws/2024-07-23-08-11-27-080',\n",
       "        'S3DataType': 'S3Prefix'}}}],\n",
       "    'OutputDataConfig': {'S3OutputPath': {'Std:Join': {'On': '/',\n",
       "       'Values': ['s3://sagemaker-us-east-1-398333718380/from-idea-to-prod-pipeline-23-07-51-02',\n",
       "        {'Get': 'Execution.PipelineExecutionId'},\n",
       "        'from-idea-to-prod-preprocess',\n",
       "        'results']}}},\n",
       "    'AlgorithmSpecification': {'TrainingImage': '885854791233.dkr.ecr.us-east-1.amazonaws.com/sagemaker-distribution-prod@sha256:9e7622bbe2f3ee9dd516797bfe3ed310983b96190eeefbdeeeea69519d3946fe',\n",
       "     'TrainingInputMode': 'File',\n",
       "     'ContainerEntrypoint': ['/bin/bash',\n",
       "      '/opt/ml/input/data/sagemaker_remote_function_bootstrap/job_driver.sh'],\n",
       "     'ContainerArguments': ['--s3_base_uri',\n",
       "      's3://sagemaker-us-east-1-398333718380/from-idea-to-prod-pipeline-23-07-51-02',\n",
       "      '--region',\n",
       "      'us-east-1',\n",
       "      '--client_python_version',\n",
       "      '3.10',\n",
       "      '--client_sagemaker_pysdk_version',\n",
       "      '2.226.1',\n",
       "      '--dependency_settings',\n",
       "      '{\"dependency_file\": \"requirements.txt\"}',\n",
       "      '--pipeline_step_name',\n",
       "      'from-idea-to-prod-preprocess',\n",
       "      '--pipeline_execution_id',\n",
       "      {'Get': 'Execution.PipelineExecutionId'},\n",
       "      '--func_step_s3_dir',\n",
       "      '2024-07-23-08-11-27-080',\n",
       "      '--property_references',\n",
       "      'Execution.PipelineExecutionId',\n",
       "      {'Get': 'Execution.PipelineExecutionId'},\n",
       "      'Parameters.InputDataUrl',\n",
       "      {'Get': 'Parameters.InputDataUrl'},\n",
       "      'Parameters.TrackingServerARN',\n",
       "      {'Get': 'Parameters.TrackingServerARN'},\n",
       "      'Execution.PipelineExecutionId',\n",
       "      {'Get': 'Execution.PipelineExecutionId'},\n",
       "      '--serialize_output_to_json',\n",
       "      'true']},\n",
       "    'ResourceConfig': {'VolumeSizeInGB': 30,\n",
       "     'InstanceCount': 1,\n",
       "     'InstanceType': {'Get': 'Parameters.ProcessingInstanceType'},\n",
       "     'KeepAlivePeriodInSeconds': 3600},\n",
       "    'EnableNetworkIsolation': False,\n",
       "    'EnableInterContainerTrafficEncryption': False,\n",
       "    'EnableManagedSpotTraining': False,\n",
       "    'Environment': {'AWS_DEFAULT_REGION': 'us-east-1',\n",
       "     'REMOTE_FUNCTION_SECRET_KEY': 'f7c539b761f8982b933718996bd5b3be95b3c8aeaef54e6c3d863a6e671903f9'}},\n",
       "   'DisplayName': 'pipeline_steps.preprocess.preprocess',\n",
       "   'Description': '/home/sagemaker-user/amazon-sagemaker-from-idea-to-production/pipeline_steps/preprocess.py'},\n",
       "  {'Name': 'from-idea-to-prod-train',\n",
       "   'Type': 'Training',\n",
       "   'Arguments': {'AlgorithmSpecification': {'TrainingInputMode': 'File',\n",
       "     'TrainingImage': '683313688378.dkr.ecr.us-east-1.amazonaws.com/sagemaker-xgboost:1.7-1'},\n",
       "    'OutputDataConfig': {'S3OutputPath': 's3://sagemaker-us-east-1-398333718380/from-idea-to-prod/xgboost/output'},\n",
       "    'TrainingJobName': 'from-idea-to-prod-train',\n",
       "    'StoppingCondition': {'MaxRuntimeInSeconds': 86400},\n",
       "    'ResourceConfig': {'VolumeSizeInGB': 30,\n",
       "     'InstanceCount': 1,\n",
       "     'InstanceType': {'Get': 'Parameters.TrainingInstanceType'}},\n",
       "    'RoleArn': 'arn:aws:iam::398333718380:role/cfnstudiodomain-SageMakerExecutionRole-8XQVuLUFsn6g',\n",
       "    'InputDataConfig': [{'DataSource': {'S3DataSource': {'S3DataType': 'S3Prefix',\n",
       "        'S3Uri': {'Std:JsonGet': {'S3Uri': {'Std:Join': {'On': '/',\n",
       "            'Values': [{'Get': 'Steps.from-idea-to-prod-preprocess.OutputDataConfig.S3OutputPath'},\n",
       "             'results.json']}},\n",
       "          'Path': \"Result['train_data']\"}},\n",
       "        'S3DataDistributionType': 'FullyReplicated'}},\n",
       "      'ContentType': 'text/csv',\n",
       "      'ChannelName': 'train'},\n",
       "     {'DataSource': {'S3DataSource': {'S3DataType': 'S3Prefix',\n",
       "        'S3Uri': {'Std:JsonGet': {'S3Uri': {'Std:Join': {'On': '/',\n",
       "            'Values': [{'Get': 'Steps.from-idea-to-prod-preprocess.OutputDataConfig.S3OutputPath'},\n",
       "             'results.json']}},\n",
       "          'Path': \"Result['validation_data']\"}},\n",
       "        'S3DataDistributionType': 'FullyReplicated'}},\n",
       "      'ContentType': 'text/csv',\n",
       "      'ChannelName': 'validation'}],\n",
       "    'HyperParameters': {'num_round': '100',\n",
       "     'max_depth': '3',\n",
       "     'eta': '0.5',\n",
       "     'alpha': '2.5',\n",
       "     'objective': 'binary:logistic',\n",
       "     'eval_metric': 'auc',\n",
       "     'subsample': '0.8',\n",
       "     'colsample_bytree': '0.8',\n",
       "     'min_child_weight': '3',\n",
       "     'early_stopping_rounds': '10',\n",
       "     'verbosity': '1'},\n",
       "    'DebugHookConfig': {'S3OutputPath': 's3://sagemaker-us-east-1-398333718380/from-idea-to-prod/xgboost/output',\n",
       "     'CollectionConfigurations': []},\n",
       "    'ProfilerConfig': {'S3OutputPath': 's3://sagemaker-us-east-1-398333718380/from-idea-to-prod/xgboost/output',\n",
       "     'DisableProfiler': False}},\n",
       "   'CacheConfig': {'Enabled': True, 'ExpireAfter': 'P30d'},\n",
       "   'DependsOn': ['from-idea-to-prod-preprocess']}]}"
      ]
     },
     "execution_count": 43,
     "metadata": {},
     "output_type": "execute_result"
    }
   ],
   "source": [
    "pipeline_definition = json.loads(pipeline.describe()['PipelineDefinition'])\n",
    "pipeline_definition"
   ]
  },
  {
   "cell_type": "markdown",
   "id": "f297037d-a04c-463a-9353-c362fcb3677d",
   "metadata": {},
   "source": [
    "Look at and understand the pipeline definition JSON. For example, you can see, how the pipeline paramemters are defined and how are they used.\n",
    "\n",
    "Definition:\n",
    "```json\n",
    "'Parameters': [{'Name': 'ProcessingInstanceType',\n",
    "   'Type': 'String',\n",
    "   'DefaultValue': 'ml.m5.large'},\n",
    "               ...\n",
    "               ]\n",
    "```\n",
    "\n",
    "Parameter substitution:\n",
    "```json\n",
    "'Arguments': {'ProcessingResources': {'ClusterConfig': {'InstanceType':{'Get':'Parameters.ProcessingInstanceType'}\n",
    "```\n",
    "\n",
    "Now find the definition of `preprocess` step:\n",
    "\n",
    "```json\n",
    "{'Name': 'from-idea-to-prod-preprocess',\n",
    "   'Type': 'Training',\n",
    "   'Arguments': {'TrainingJobName': 'preprocess',\n",
    "    'RoleArn': 'arn:aws:iam::906545278380:role/service-role/AmazonSageMaker-ExecutionRole-20240214T222844',\n",
    "    'StoppingCondition': {'MaxRuntimeInSeconds': 86400},\n",
    "    'RetryStrategy': {'MaximumRetryAttempts': 1},\n",
    "    'InputDataConfig': [{'ChannelName': 'sagemaker_remote_function_bootstrap',\n",
    "      'DataSource': {'S3DataSource': {'S3Uri': 's3://sagemaker-us-east-1-906545278380/from-idea-to-prod-pipeline-03-09-21-09/sagemaker_remote_function_bootstrap',\n",
    "        'S3DataType': 'S3Prefix'}}},\n",
    "```\n",
    "\n",
    "You see that SageMaker by default runs your Python script in a container with the same image as the kernel image used for this JupyterLab notebook:\n",
    "\n",
    "```json\n",
    "'AlgorithmSpecification': {'TrainingImage': '885854791233.dkr.ecr.us-east-1.amazonaws.com/sagemaker-distribution-prod@sha256:7c07530831d3d25b27a77b6a77f9801eec01b7b80c69ca1aa2c9eae3df00887d',\n",
    "```\n",
    "\n",
    "If you want to create pipelines by hand, you can work with JSON and follow the [SageMaker Pipeline Definition JSON Schema](https://aws-sagemaker-mlops.github.io/sagemaker-model-building-pipeline-definition-JSON-schema/index.html)."
   ]
  },
  {
   "cell_type": "markdown",
   "id": "dc25fb32-eaab-4b01-8ccc-a79908afce80",
   "metadata": {},
   "source": [
    "## Add a batch transform and quality checks to the pipeline\n",
    "You can integrate additional steps in your model building pipeline to automate all required tasks. In this section you're going to add the following steps:\n",
    "- Quality checks for both data and the model and baseline calculation using [`QualityCheckStep`](https://docs.aws.amazon.com/sagemaker/latest/dg/build-and-manage-steps.html#step-type-quality-check)\n",
    "- Batch transform using [`TransformStep`](https://docs.aws.amazon.com/sagemaker/latest/dg/build-and-manage-steps.html#step-type-transform)\n",
    "\n",
    "For a more detailed example with model quality checks refer to an example notebook [SageMaker Pipelines integration with Model Monitor and Clarify](https://github.com/aws/amazon-sagemaker-examples/blob/main/sagemaker-pipelines/tabular/model-monitor-clarify-pipelines/sagemaker-pipeline-model-monitor-clarify-steps.ipynb).\n",
    "\n",
    "\n",
    "To understand the data and model quality life cycle refer to the Developer Guide [Baseline calculation, drift detection and lifecycle with ClarifyCheck and QualityCheck steps in Amazon SageMaker Model Building Pipelines](https://docs.aws.amazon.com/sagemaker/latest/dg/pipelines-quality-clarify-baseline-lifecycle.html)."
   ]
  },
  {
   "cell_type": "code",
   "execution_count": 44,
   "id": "6848224f-40be-4b84-ba11-78505227444b",
   "metadata": {
    "tags": []
   },
   "outputs": [],
   "source": [
    "from sagemaker.transformer import Transformer\n",
    "from sagemaker.inputs import TransformInput\n",
    "from sagemaker.workflow.steps import TransformStep\n",
    "from sagemaker.inputs import CreateModelInput"
   ]
  },
  {
   "cell_type": "markdown",
   "id": "4156045d-8785-4e39-9e7a-42d86a2a9198",
   "metadata": {},
   "source": [
    "### Quality checks\n",
    "Start with definition of data and model quality check steps for the pipeline. The data and model quality check steps use data from `preprocess` and `evaluate` steps of the pipeline."
   ]
  },
  {
   "cell_type": "code",
   "execution_count": 45,
   "id": "9298f32c-506f-4902-a392-f125d4545d9f",
   "metadata": {},
   "outputs": [
    {
     "name": "stderr",
     "output_type": "stream",
     "text": [
      "INFO:sagemaker.image_uris:Defaulting to the only supported framework/algorithm version: .\n",
      "INFO:sagemaker.image_uris:Ignoring unnecessary instance type: None.\n",
      "INFO:sagemaker.image_uris:Defaulting to the only supported framework/algorithm version: .\n",
      "INFO:sagemaker.image_uris:Ignoring unnecessary instance type: None.\n"
     ]
    }
   ],
   "source": [
    "# Parameters to control data quality check\n",
    "skip_check_data_quality_param = ParameterBoolean(name=\"SkipDataQualityCheck\", default_value=True)\n",
    "register_new_baseline_data_quality_param = ParameterBoolean(\n",
    "    name=\"RegisterNewDataQualityBaseline\", default_value=True\n",
    ")\n",
    "\n",
    "# Parameters to control model quality check\n",
    "skip_check_model_quality_param = ParameterBoolean(name=\"SkipModelQualityCheck\", default_value=True)\n",
    "register_new_baseline_model_quality_param = ParameterBoolean(\n",
    "    name=\"RegisterNewModelQualityBaseline\", default_value=True\n",
    ")\n",
    "\n",
    "# Job configuration for both data and model quality check steps\n",
    "check_job_config = CheckJobConfig(\n",
    "    role=sm_role,\n",
    "    instance_count=1,\n",
    "    instance_type=process_instance_type_param,\n",
    ")\n",
    "\n",
    "# Configuration for data quality check step\n",
    "data_quality_check_config = DataQualityCheckConfig(\n",
    "    baseline_dataset=step_preprocess['baseline_data'],\n",
    "    dataset_format=DatasetFormat.csv(header=False),\n",
    "    output_s3_uri=baseline_results_s3_url,\n",
    ")\n",
    "\n",
    "# Configuration for model quality check step\n",
    "model_quality_check_config = ModelQualityCheckConfig(\n",
    "    baseline_dataset=step_evaluate['prediction_baseline_data'],\n",
    "    dataset_format=DatasetFormat.csv(header=True),\n",
    "    output_s3_uri=prediction_baseline_results_s3_url,\n",
    "    problem_type=\"BinaryClassification\",\n",
    "    inference_attribute= \"prediction\", # The column in the dataset that contains predictions\n",
    "    probability_attribute= \"probability\", # The column in the dataset that contains probabilities\n",
    "    ground_truth_attribute= \"label\", # The column in the dataset that contains ground truth labels\n",
    ")\n",
    "\n",
    "# Data quality check step\n",
    "step_data_quality_check = QualityCheckStep(\n",
    "    name=f\"{project}-data-quality\",\n",
    "    quality_check_config=data_quality_check_config,\n",
    "    check_job_config=check_job_config,\n",
    "    skip_check=skip_check_data_quality_param,\n",
    "    register_new_baseline=register_new_baseline_data_quality_param,\n",
    "    model_package_group_name=model_package_group_name_param,\n",
    "    cache_config=cache_config,\n",
    ")\n",
    "\n",
    "# Model quality check step\n",
    "step_model_quality_check = QualityCheckStep(\n",
    "    name=f\"{project}-model-quality\",\n",
    "    quality_check_config=model_quality_check_config,\n",
    "    check_job_config=check_job_config,\n",
    "    skip_check=skip_check_model_quality_param,\n",
    "    register_new_baseline=register_new_baseline_model_quality_param,\n",
    "    model_package_group_name=model_package_group_name_param,\n",
    "    cache_config=cache_config,\n",
    ")"
   ]
  },
  {
   "cell_type": "markdown",
   "id": "f11f800e-50b9-4406-8441-d30bcc6f2f0a",
   "metadata": {},
   "source": [
    "### Batch transform\n",
    "Add a transform step to the pipeline."
   ]
  },
  {
   "cell_type": "code",
   "execution_count": 46,
   "id": "96a1445b-af06-404a-b824-634553aa9af7",
   "metadata": {},
   "outputs": [],
   "source": [
    "session = PipelineSession()\n",
    "\n",
    "# create model step\n",
    "step_create_model = ModelStep(\n",
    "    name=f\"{project}-model\",\n",
    "    step_args=Model(\n",
    "        image_uri=XGBOOST_IMAGE_URI,        \n",
    "        model_data=step_train.properties.ModelArtifacts.S3ModelArtifacts,\n",
    "        name=f\"from-idea-to-prod-xgboost-model\",\n",
    "        sagemaker_session=session,\n",
    "        role=sm_role,\n",
    "    ).create(instance_type=\"ml.m5.large\"),\n",
    ")\n",
    "\n",
    "# create the transform step\n",
    "step_transform = TransformStep(\n",
    "    name=f\"{project}-transform\", \n",
    "    step_args=Transformer(\n",
    "        model_name=step_create_model.properties.ModelName,\n",
    "        instance_type=train_instance_type_param,\n",
    "        instance_count=1,\n",
    "        accept=\"text/csv\",\n",
    "        assemble_with=\"Line\",\n",
    "        output_path=f\"{output_s3_prefix}/transform\",\n",
    "        sagemaker_session=session,\n",
    "        base_transform_job_name=f\"{project}-transform\",\n",
    "    ).transform(    \n",
    "        data=step_preprocess[\"test_x_data\"],\n",
    "        content_type=\"text/csv\",\n",
    "        split_type=\"Line\", \n",
    "    ),\n",
    "    cache_config=cache_config,\n",
    ")"
   ]
  },
  {
   "cell_type": "markdown",
   "id": "b508a184-33f4-4e5e-ac88-a78aa81de30a",
   "metadata": {},
   "source": [
    "You need to include the generated model and data quality baselines into the model register step."
   ]
  },
  {
   "cell_type": "code",
   "execution_count": 47,
   "id": "8c504c0c-6ead-4ede-b1d9-902a90509e7a",
   "metadata": {},
   "outputs": [],
   "source": [
    "# re-define the register model step to use the calculated model and data quality baselines\n",
    "step_register = step(\n",
    "        register,\n",
    "        name=f\"{project}-register\",\n",
    "        keep_alive_period_in_seconds=3600,\n",
    "    )(\n",
    "        training_job_name=step_train.properties.TrainingJobName,\n",
    "        model_package_group_name=model_package_group_name_param,\n",
    "        model_approval_status=model_approval_status_param,\n",
    "        evaluation_result=step_evaluate['evaluation_result'],\n",
    "        output_s3_prefix=output_s3_url,\n",
    "        tracking_server_arn=tracking_server_arn_param,\n",
    "        model_statistics_s3_path=step_model_quality_check.properties.CalculatedBaselineStatistics,\n",
    "        model_constraints_s3_path=step_model_quality_check.properties.CalculatedBaselineConstraints,\n",
    "        model_data_statistics_s3_path=step_data_quality_check.properties.CalculatedBaselineStatistics,\n",
    "        model_data_constraints_s3_path=step_data_quality_check.properties.CalculatedBaselineConstraints,\n",
    "        experiment_name=step_preprocess['experiment_name'],\n",
    "        pipeline_run_id=step_preprocess['pipeline_run_id'],\n",
    "    )\n",
    "\n",
    "# re-define the conditional register step with the new step_register\n",
    "step_conditional_register = ConditionStep(\n",
    "    name=f\"{project}-check-metrics\",\n",
    "    conditions=[condition_gte],\n",
    "    if_steps=[step_register, step_transform],\n",
    "    else_steps=[step_fail],\n",
    ")"
   ]
  },
  {
   "cell_type": "code",
   "execution_count": 48,
   "id": "9859e755-b0a6-4d26-8cb8-e7dd6c86755f",
   "metadata": {},
   "outputs": [],
   "source": [
    "# create a pipeline object\n",
    "pipeline = Pipeline(\n",
    "    name=f\"{pipeline_name}\",\n",
    "    parameters=[\n",
    "        input_s3_url_param,\n",
    "        process_instance_type_param,\n",
    "        train_instance_type_param,\n",
    "        model_approval_status_param,\n",
    "        test_score_threshold_param,\n",
    "        model_package_group_name_param,\n",
    "        tracking_server_arn_param,\n",
    "        skip_check_data_quality_param,\n",
    "        skip_check_model_quality_param,\n",
    "        register_new_baseline_data_quality_param,\n",
    "        register_new_baseline_model_quality_param,\n",
    "    ],\n",
    "    steps=[step_conditional_register],\n",
    "    pipeline_definition_config=PipelineDefinitionConfig(use_custom_job_prefix=True)\n",
    ")"
   ]
  },
  {
   "cell_type": "code",
   "execution_count": 49,
   "id": "05870f01-a36b-4ae1-b3d8-be0df7f4c25e",
   "metadata": {},
   "outputs": [
    {
     "name": "stdout",
     "output_type": "stream",
     "text": [
      "sagemaker.config INFO - Applied value from config key = SageMaker.PythonSDK.Modules.RemoteFunction.Dependencies\n",
      "sagemaker.config INFO - Applied value from config key = SageMaker.PythonSDK.Modules.RemoteFunction.IncludeLocalWorkDir\n",
      "sagemaker.config INFO - Applied value from config key = SageMaker.PythonSDK.Modules.RemoteFunction.CustomFileFilter.IgnoreNamePatterns\n",
      "sagemaker.config INFO - Applied value from config key = SageMaker.PythonSDK.Modules.RemoteFunction.InstanceType\n"
     ]
    },
    {
     "name": "stderr",
     "output_type": "stream",
     "text": [
      "2024-07-23 08:14:25,752 sagemaker.remote_function INFO     Uploading serialized function code to s3://sagemaker-us-east-1-398333718380/from-idea-to-prod-pipeline-23-07-51-02/from-idea-to-prod-register/2024-07-23-08-14-23-234/function\n",
      "2024-07-23 08:14:25,809 sagemaker.remote_function INFO     Uploading serialized function arguments to s3://sagemaker-us-east-1-398333718380/from-idea-to-prod-pipeline-23-07-51-02/from-idea-to-prod-register/2024-07-23-08-14-23-234/arguments\n",
      "2024-07-23 08:14:26,019 sagemaker.remote_function INFO     Copied dependencies file at './requirements.txt' to '/tmp/tmp1w2fnq_0/requirements.txt'\n",
      "2024-07-23 08:14:26,048 sagemaker.remote_function INFO     Successfully uploaded dependencies and pre execution scripts to 's3://sagemaker-us-east-1-398333718380/from-idea-to-prod-pipeline-23-07-51-02/from-idea-to-prod-register/2024-07-23-08-14-23-234/pre_exec_script_and_dependencies'\n",
      "2024-07-23 08:14:26,097 sagemaker.remote_function INFO     Copied user workspace to '/tmp/tmphfw_xpts/temp_workspace/sagemaker_remote_function_workspace'\n",
      "2024-07-23 08:14:28,239 sagemaker.remote_function INFO     Successfully created workdir archive at '/tmp/tmphfw_xpts/workspace.zip'\n",
      "2024-07-23 08:14:30,826 sagemaker.remote_function INFO     Successfully uploaded workdir to 's3://sagemaker-us-east-1-398333718380/from-idea-to-prod-pipeline-23-07-51-02/sm_rf_user_ws/2024-07-23-08-14-23-234/workspace.zip'\n"
     ]
    },
    {
     "name": "stdout",
     "output_type": "stream",
     "text": [
      "sagemaker.config INFO - Applied value from config key = SageMaker.PythonSDK.Modules.RemoteFunction.Dependencies\n",
      "sagemaker.config INFO - Applied value from config key = SageMaker.PythonSDK.Modules.RemoteFunction.IncludeLocalWorkDir\n",
      "sagemaker.config INFO - Applied value from config key = SageMaker.PythonSDK.Modules.RemoteFunction.CustomFileFilter.IgnoreNamePatterns\n"
     ]
    },
    {
     "name": "stderr",
     "output_type": "stream",
     "text": [
      "2024-07-23 08:14:33,722 sagemaker.remote_function INFO     Uploading serialized function code to s3://sagemaker-us-east-1-398333718380/from-idea-to-prod-pipeline-23-07-51-02/from-idea-to-prod-evaluate/2024-07-23-08-14-23-234/function\n",
      "2024-07-23 08:14:33,777 sagemaker.remote_function INFO     Uploading serialized function arguments to s3://sagemaker-us-east-1-398333718380/from-idea-to-prod-pipeline-23-07-51-02/from-idea-to-prod-evaluate/2024-07-23-08-14-23-234/arguments\n",
      "2024-07-23 08:14:33,852 sagemaker.remote_function INFO     Copied dependencies file at './requirements.txt' to '/tmp/tmp7jazptyl/requirements.txt'\n",
      "2024-07-23 08:14:33,883 sagemaker.remote_function INFO     Successfully uploaded dependencies and pre execution scripts to 's3://sagemaker-us-east-1-398333718380/from-idea-to-prod-pipeline-23-07-51-02/from-idea-to-prod-evaluate/2024-07-23-08-14-23-234/pre_exec_script_and_dependencies'\n"
     ]
    },
    {
     "name": "stdout",
     "output_type": "stream",
     "text": [
      "sagemaker.config INFO - Applied value from config key = SageMaker.PythonSDK.Modules.RemoteFunction.Dependencies\n",
      "sagemaker.config INFO - Applied value from config key = SageMaker.PythonSDK.Modules.RemoteFunction.IncludeLocalWorkDir\n",
      "sagemaker.config INFO - Applied value from config key = SageMaker.PythonSDK.Modules.RemoteFunction.CustomFileFilter.IgnoreNamePatterns\n"
     ]
    },
    {
     "name": "stderr",
     "output_type": "stream",
     "text": [
      "2024-07-23 08:14:36,270 sagemaker.remote_function INFO     Uploading serialized function code to s3://sagemaker-us-east-1-398333718380/from-idea-to-prod-pipeline-23-07-51-02/from-idea-to-prod-preprocess/2024-07-23-08-14-23-234/function\n",
      "2024-07-23 08:14:36,351 sagemaker.remote_function INFO     Uploading serialized function arguments to s3://sagemaker-us-east-1-398333718380/from-idea-to-prod-pipeline-23-07-51-02/from-idea-to-prod-preprocess/2024-07-23-08-14-23-234/arguments\n",
      "2024-07-23 08:14:36,456 sagemaker.remote_function INFO     Copied dependencies file at './requirements.txt' to '/tmp/tmpx3wp96au/requirements.txt'\n",
      "2024-07-23 08:14:36,484 sagemaker.remote_function INFO     Successfully uploaded dependencies and pre execution scripts to 's3://sagemaker-us-east-1-398333718380/from-idea-to-prod-pipeline-23-07-51-02/from-idea-to-prod-preprocess/2024-07-23-08-14-23-234/pre_exec_script_and_dependencies'\n",
      "2024-07-23 08:14:38,369 sagemaker.remote_function INFO     Uploading serialized function code to s3://sagemaker-us-east-1-398333718380/from-idea-to-prod-pipeline-23-07-51-02/from-idea-to-prod-register/2024-07-23-08-14-38-368/function\n",
      "2024-07-23 08:14:38,423 sagemaker.remote_function INFO     Uploading serialized function arguments to s3://sagemaker-us-east-1-398333718380/from-idea-to-prod-pipeline-23-07-51-02/from-idea-to-prod-register/2024-07-23-08-14-38-368/arguments\n",
      "2024-07-23 08:14:38,690 sagemaker.remote_function INFO     Copied dependencies file at './requirements.txt' to '/tmp/tmp301mk562/requirements.txt'\n",
      "2024-07-23 08:14:38,717 sagemaker.remote_function INFO     Successfully uploaded dependencies and pre execution scripts to 's3://sagemaker-us-east-1-398333718380/from-idea-to-prod-pipeline-23-07-51-02/from-idea-to-prod-register/2024-07-23-08-14-38-368/pre_exec_script_and_dependencies'\n",
      "2024-07-23 08:14:38,766 sagemaker.remote_function INFO     Copied user workspace to '/tmp/tmpnt86fltf/temp_workspace/sagemaker_remote_function_workspace'\n",
      "2024-07-23 08:14:40,881 sagemaker.remote_function INFO     Successfully created workdir archive at '/tmp/tmpnt86fltf/workspace.zip'\n",
      "2024-07-23 08:14:41,505 sagemaker.remote_function INFO     Successfully uploaded workdir to 's3://sagemaker-us-east-1-398333718380/from-idea-to-prod-pipeline-23-07-51-02/sm_rf_user_ws/2024-07-23-08-14-38-368/workspace.zip'\n",
      "2024-07-23 08:14:42,299 sagemaker.remote_function INFO     Uploading serialized function code to s3://sagemaker-us-east-1-398333718380/from-idea-to-prod-pipeline-23-07-51-02/from-idea-to-prod-evaluate/2024-07-23-08-14-38-368/function\n",
      "2024-07-23 08:14:42,361 sagemaker.remote_function INFO     Uploading serialized function arguments to s3://sagemaker-us-east-1-398333718380/from-idea-to-prod-pipeline-23-07-51-02/from-idea-to-prod-evaluate/2024-07-23-08-14-38-368/arguments\n",
      "2024-07-23 08:14:42,419 sagemaker.remote_function INFO     Copied dependencies file at './requirements.txt' to '/tmp/tmpne58ijhk/requirements.txt'\n",
      "2024-07-23 08:14:42,455 sagemaker.remote_function INFO     Successfully uploaded dependencies and pre execution scripts to 's3://sagemaker-us-east-1-398333718380/from-idea-to-prod-pipeline-23-07-51-02/from-idea-to-prod-evaluate/2024-07-23-08-14-38-368/pre_exec_script_and_dependencies'\n",
      "2024-07-23 08:14:42,458 sagemaker.remote_function INFO     Uploading serialized function code to s3://sagemaker-us-east-1-398333718380/from-idea-to-prod-pipeline-23-07-51-02/from-idea-to-prod-preprocess/2024-07-23-08-14-38-368/function\n",
      "2024-07-23 08:14:42,533 sagemaker.remote_function INFO     Uploading serialized function arguments to s3://sagemaker-us-east-1-398333718380/from-idea-to-prod-pipeline-23-07-51-02/from-idea-to-prod-preprocess/2024-07-23-08-14-38-368/arguments\n",
      "2024-07-23 08:14:42,626 sagemaker.remote_function INFO     Copied dependencies file at './requirements.txt' to '/tmp/tmpm9oz_7_i/requirements.txt'\n",
      "2024-07-23 08:14:42,659 sagemaker.remote_function INFO     Successfully uploaded dependencies and pre execution scripts to 's3://sagemaker-us-east-1-398333718380/from-idea-to-prod-pipeline-23-07-51-02/from-idea-to-prod-preprocess/2024-07-23-08-14-38-368/pre_exec_script_and_dependencies'\n"
     ]
    },
    {
     "data": {
      "text/plain": [
       "{'PipelineArn': 'arn:aws:sagemaker:us-east-1:398333718380:pipeline/from-idea-to-prod-pipeline-23-07-51-02',\n",
       " 'ResponseMetadata': {'RequestId': '48de489f-79d2-44e3-b8c9-326b0b682616',\n",
       "  'HTTPStatusCode': 200,\n",
       "  'HTTPHeaders': {'x-amzn-requestid': '48de489f-79d2-44e3-b8c9-326b0b682616',\n",
       "   'content-type': 'application/x-amz-json-1.1',\n",
       "   'content-length': '106',\n",
       "   'date': 'Tue, 23 Jul 2024 08:14:44 GMT'},\n",
       "  'RetryAttempts': 0}}"
      ]
     },
     "execution_count": 49,
     "metadata": {},
     "output_type": "execute_result"
    }
   ],
   "source": [
    "# update the pipeline\n",
    "pipeline.upsert(role_arn=sm_role, parallelism_config=ParallelismConfiguration(5).to_request())"
   ]
  },
  {
   "cell_type": "markdown",
   "id": "7a6dfdbc-af2f-4555-8750-6f4c36e0a981",
   "metadata": {},
   "source": [
    "The new pipeline contains now the steps for data and model quality checks and executing batch transform:\n",
    "![](img/pipeline-graph-with-transform.png)"
   ]
  },
  {
   "cell_type": "markdown",
   "id": "2ea41f01-21f6-4154-8fb4-42bf3f0d6524",
   "metadata": {},
   "source": [
    "### Execute the new pipeline\n",
    "The first time the pipeline runs the parameters `skip_check_...` and `register_new_baseline_...` need to be set to default values `(True, True)` so that the quality checks are skipped and newly calculated baselines are registered for the model version."
   ]
  },
  {
   "cell_type": "code",
   "execution_count": 60,
   "id": "82845760-890e-4db2-9a21-af99f9134a22",
   "metadata": {},
   "outputs": [
    {
     "data": {
      "text/plain": [
       "{'PipelineArn': 'arn:aws:sagemaker:us-east-1:446490546198:pipeline/mlops-pk-proj-1-pipeline-24-19-09-00',\n",
       " 'PipelineExecutionArn': 'arn:aws:sagemaker:us-east-1:446490546198:pipeline/mlops-pk-proj-1-pipeline-24-19-09-00/execution/mr8zfe31f81t',\n",
       " 'PipelineExecutionDisplayName': 'execution-1727211866654',\n",
       " 'PipelineExecutionStatus': 'Executing',\n",
       " 'CreationTime': datetime.datetime(2024, 9, 24, 21, 4, 26, 585000, tzinfo=tzlocal()),\n",
       " 'LastModifiedTime': datetime.datetime(2024, 9, 24, 21, 4, 26, 585000, tzinfo=tzlocal()),\n",
       " 'CreatedBy': {'UserProfileArn': 'arn:aws:sagemaker:us-east-1:446490546198:user-profile/d-fkrqwhxrpnws/default-20240919T173153',\n",
       "  'UserProfileName': 'default-20240919T173153',\n",
       "  'DomainId': 'd-fkrqwhxrpnws',\n",
       "  'IamIdentity': {'Arn': 'arn:aws:sts::446490546198:assumed-role/AmazonSageMaker-ExecutionRole-20240919T173156/SageMaker',\n",
       "   'PrincipalId': 'AROAWP5HJCALJJYC7YPRQ:SageMaker'}},\n",
       " 'LastModifiedBy': {'UserProfileArn': 'arn:aws:sagemaker:us-east-1:446490546198:user-profile/d-fkrqwhxrpnws/default-20240919T173153',\n",
       "  'UserProfileName': 'default-20240919T173153',\n",
       "  'DomainId': 'd-fkrqwhxrpnws',\n",
       "  'IamIdentity': {'Arn': 'arn:aws:sts::446490546198:assumed-role/AmazonSageMaker-ExecutionRole-20240919T173156/SageMaker',\n",
       "   'PrincipalId': 'AROAWP5HJCALJJYC7YPRQ:SageMaker'}},\n",
       " 'ResponseMetadata': {'RequestId': '7a461ad5-003d-4dd3-8a94-6f4385b64e8c',\n",
       "  'HTTPStatusCode': 200,\n",
       "  'HTTPHeaders': {'x-amzn-requestid': '7a461ad5-003d-4dd3-8a94-6f4385b64e8c',\n",
       "   'content-type': 'application/x-amz-json-1.1',\n",
       "   'content-length': '1137',\n",
       "   'date': 'Tue, 24 Sep 2024 21:04:26 GMT'},\n",
       "  'RetryAttempts': 0}}"
      ]
     },
     "execution_count": 60,
     "metadata": {},
     "output_type": "execute_result"
    }
   ],
   "source": [
    "pipeline_execution = pipeline.start()\n",
    "pipeline_execution.describe()"
   ]
  },
  {
   "cell_type": "code",
   "execution_count": 61,
   "id": "5f75aa4f-9199-47fd-9f6d-239b2e85139b",
   "metadata": {},
   "outputs": [
    {
     "data": {
      "text/plain": [
       "[{'StepName': 'mlops-pk-proj-1-preprocess',\n",
       "  'StartTime': datetime.datetime(2024, 9, 24, 21, 4, 27, 918000, tzinfo=tzlocal()),\n",
       "  'StepStatus': 'Executing',\n",
       "  'Metadata': {'TrainingJob': {'Arn': 'arn:aws:sagemaker:us-east-1:446490546198:training-job/preprocess-mr8zfe31f81t-JGVjjQZpNh'}},\n",
       "  'AttemptCount': 1}]"
      ]
     },
     "execution_count": 61,
     "metadata": {},
     "output_type": "execute_result"
    }
   ],
   "source": [
    "# Uncomment if you would like to wait in the notebook until this execution completes\n",
    "# pipeline_execution.wait() \n",
    "pipeline_execution.list_steps()"
   ]
  },
  {
   "cell_type": "markdown",
   "id": "a49118c7-f123-4983-a12f-c38060e27669",
   "metadata": {},
   "source": [
    "If you'd like to execute the pipeline one more time, you can set the `SkipDataQualityCheck` parameter to `True` to run the data quality check by comparing the generated baseline with the input dataset and model output."
   ]
  },
  {
   "cell_type": "code",
   "execution_count": 52,
   "id": "55436e93-6602-409a-8cfb-d833892c11bb",
   "metadata": {},
   "outputs": [],
   "source": [
    "# Uncomment if you would like to start one more execution\n",
    "# pipeline_execution = pipeline.start(\n",
    "#     parameters=dict(\n",
    "#         SkipDataQualityCheck=False,\n",
    "#     )\n",
    "# )"
   ]
  },
  {
   "cell_type": "markdown",
   "id": "5d527786-0c93-4592-8d91-4f2c95ec691b",
   "metadata": {},
   "source": [
    "### Additional features of SageMaker Pipelines\n",
    "Feel free to explore more useful features of SageMaker Pipelines on your own, such as [selective execution of pipeline steps](https://docs.aws.amazon.com/sagemaker/latest/dg/pipelines-selective-ex.html), [cross-account support](https://docs.aws.amazon.com/sagemaker/latest/dg/build-and-manage-xaccount.html), [scheduled pipeline runs](https://docs.aws.amazon.com/sagemaker/latest/dg/pipeline-eventbridge.html), or [local mode](https://docs.aws.amazon.com/sagemaker/latest/dg/pipelines-local-mode.html).\n",
    "\n",
    "If you need to add more monitoring functionality to the pipeline, you can use the [`MonitorBatchTransformStep`](https://sagemaker.readthedocs.io/en/stable/workflows/pipelines/sagemaker.workflow.pipelines.html#sagemaker.workflow.monitor_batch_transform_step.MonitorBatchTransformStep) to combine a transform step with quality checks, bias detection, and explainability report."
   ]
  },
  {
   "cell_type": "markdown",
   "id": "d4252f74-aeea-488b-8628-9dacd566384b",
   "metadata": {
    "tags": []
   },
   "source": [
    "---"
   ]
  },
  {
   "cell_type": "markdown",
   "id": "f43e4252-719c-4cde-b88f-6eb1b729a955",
   "metadata": {},
   "source": [
    "## Optional: add a feature store\n",
    "In this section you're going to use SageMaker Feature Store to manage features and the dataset for model training. \n",
    "\n",
    "<div class=\"alert alert-info\"> This section is optional and not required for course of the workshop. You can stop here and go to the next notebook.</div>"
   ]
  },
  {
   "cell_type": "code",
   "execution_count": 53,
   "id": "cc1d68f4-4bd2-44e7-8dbd-742e05152760",
   "metadata": {
    "tags": []
   },
   "outputs": [],
   "source": [
    "from sagemaker.feature_store.feature_group import FeatureGroup\n",
    "from sagemaker.feature_store.inputs import TableFormatEnum\n",
    "from sagemaker.feature_store.feature_processor import CSVDataSource, feature_processor, to_pipeline\n",
    "from sagemaker.remote_function import remote\n",
    "from sagemaker.workflow.function_step import step\n",
    "import numpy as np\n",
    "import pandas as pd\n",
    "from sklearn.preprocessing import MinMaxScaler\n",
    "from datetime import datetime, timezone, date\n",
    "from time import gmtime, strftime, sleep\n",
    "import time"
   ]
  },
  {
   "cell_type": "code",
   "execution_count": 54,
   "id": "46fe3378-740f-4e46-98fd-490ef17d1834",
   "metadata": {
    "tags": []
   },
   "outputs": [],
   "source": [
    "%store -r "
   ]
  },
  {
   "cell_type": "code",
   "execution_count": 55,
   "id": "63a84977-e63c-4fd6-a643-2bc2d039229b",
   "metadata": {
    "tags": []
   },
   "outputs": [],
   "source": [
    "session = sagemaker.Session()\n",
    "project = \"from-idea-to-prod\"\n",
    "current_timestamp = strftime('%d-%H-%M-%S', gmtime())"
   ]
  },
  {
   "cell_type": "code",
   "execution_count": 56,
   "id": "9d62fd49-01ac-41bb-b3ea-6b640e509188",
   "metadata": {
    "tags": []
   },
   "outputs": [
    {
     "name": "stdout",
     "output_type": "stream",
     "text": [
      "Stored 'feature_store_bucket_prefix' (str)\n"
     ]
    }
   ],
   "source": [
    "feature_store_bucket_prefix = 'from-idea-to-prod/feature-store'\n",
    "%store feature_store_bucket_prefix"
   ]
  },
  {
   "cell_type": "markdown",
   "id": "70e101dd-d211-4389-9c8d-61f9513110fe",
   "metadata": {},
   "source": [
    "### Transform raw data into training-ready features\n",
    "First transform raw data into features in order to be able to extract the schema from the dataset. You need the data schema for definition of a feature group."
   ]
  },
  {
   "cell_type": "code",
   "execution_count": 57,
   "id": "f41c8373-3b55-4c75-94d5-7b48f50ac56e",
   "metadata": {
    "tags": []
   },
   "outputs": [
    {
     "data": {
      "text/html": [
       "<div>\n",
       "<style scoped>\n",
       "    .dataframe tbody tr th:only-of-type {\n",
       "        vertical-align: middle;\n",
       "    }\n",
       "\n",
       "    .dataframe tbody tr th {\n",
       "        vertical-align: top;\n",
       "    }\n",
       "\n",
       "    .dataframe thead th {\n",
       "        text-align: right;\n",
       "    }\n",
       "</style>\n",
       "<table border=\"1\" class=\"dataframe\">\n",
       "  <thead>\n",
       "    <tr style=\"text-align: right;\">\n",
       "      <th></th>\n",
       "      <th>age</th>\n",
       "      <th>job</th>\n",
       "      <th>marital</th>\n",
       "      <th>education</th>\n",
       "      <th>default</th>\n",
       "      <th>housing</th>\n",
       "      <th>loan</th>\n",
       "      <th>contact</th>\n",
       "      <th>month</th>\n",
       "      <th>day_of_week</th>\n",
       "      <th>duration</th>\n",
       "      <th>campaign</th>\n",
       "      <th>pdays</th>\n",
       "      <th>previous</th>\n",
       "      <th>poutcome</th>\n",
       "      <th>emp.var.rate</th>\n",
       "      <th>cons.price.idx</th>\n",
       "      <th>cons.conf.idx</th>\n",
       "      <th>euribor3m</th>\n",
       "      <th>nr.employed</th>\n",
       "      <th>y</th>\n",
       "    </tr>\n",
       "  </thead>\n",
       "  <tbody>\n",
       "    <tr>\n",
       "      <th>0</th>\n",
       "      <td>56</td>\n",
       "      <td>housemaid</td>\n",
       "      <td>married</td>\n",
       "      <td>basic.4y</td>\n",
       "      <td>no</td>\n",
       "      <td>no</td>\n",
       "      <td>no</td>\n",
       "      <td>telephone</td>\n",
       "      <td>may</td>\n",
       "      <td>mon</td>\n",
       "      <td>261</td>\n",
       "      <td>1</td>\n",
       "      <td>999</td>\n",
       "      <td>0</td>\n",
       "      <td>nonexistent</td>\n",
       "      <td>1.1</td>\n",
       "      <td>93.994</td>\n",
       "      <td>-36.4</td>\n",
       "      <td>4.857</td>\n",
       "      <td>5191.0</td>\n",
       "      <td>no</td>\n",
       "    </tr>\n",
       "    <tr>\n",
       "      <th>1</th>\n",
       "      <td>57</td>\n",
       "      <td>services</td>\n",
       "      <td>married</td>\n",
       "      <td>high.school</td>\n",
       "      <td>unknown</td>\n",
       "      <td>no</td>\n",
       "      <td>no</td>\n",
       "      <td>telephone</td>\n",
       "      <td>may</td>\n",
       "      <td>mon</td>\n",
       "      <td>149</td>\n",
       "      <td>1</td>\n",
       "      <td>999</td>\n",
       "      <td>0</td>\n",
       "      <td>nonexistent</td>\n",
       "      <td>1.1</td>\n",
       "      <td>93.994</td>\n",
       "      <td>-36.4</td>\n",
       "      <td>4.857</td>\n",
       "      <td>5191.0</td>\n",
       "      <td>no</td>\n",
       "    </tr>\n",
       "    <tr>\n",
       "      <th>2</th>\n",
       "      <td>37</td>\n",
       "      <td>services</td>\n",
       "      <td>married</td>\n",
       "      <td>high.school</td>\n",
       "      <td>no</td>\n",
       "      <td>yes</td>\n",
       "      <td>no</td>\n",
       "      <td>telephone</td>\n",
       "      <td>may</td>\n",
       "      <td>mon</td>\n",
       "      <td>226</td>\n",
       "      <td>1</td>\n",
       "      <td>999</td>\n",
       "      <td>0</td>\n",
       "      <td>nonexistent</td>\n",
       "      <td>1.1</td>\n",
       "      <td>93.994</td>\n",
       "      <td>-36.4</td>\n",
       "      <td>4.857</td>\n",
       "      <td>5191.0</td>\n",
       "      <td>no</td>\n",
       "    </tr>\n",
       "    <tr>\n",
       "      <th>3</th>\n",
       "      <td>40</td>\n",
       "      <td>admin.</td>\n",
       "      <td>married</td>\n",
       "      <td>basic.6y</td>\n",
       "      <td>no</td>\n",
       "      <td>no</td>\n",
       "      <td>no</td>\n",
       "      <td>telephone</td>\n",
       "      <td>may</td>\n",
       "      <td>mon</td>\n",
       "      <td>151</td>\n",
       "      <td>1</td>\n",
       "      <td>999</td>\n",
       "      <td>0</td>\n",
       "      <td>nonexistent</td>\n",
       "      <td>1.1</td>\n",
       "      <td>93.994</td>\n",
       "      <td>-36.4</td>\n",
       "      <td>4.857</td>\n",
       "      <td>5191.0</td>\n",
       "      <td>no</td>\n",
       "    </tr>\n",
       "    <tr>\n",
       "      <th>4</th>\n",
       "      <td>56</td>\n",
       "      <td>services</td>\n",
       "      <td>married</td>\n",
       "      <td>high.school</td>\n",
       "      <td>no</td>\n",
       "      <td>no</td>\n",
       "      <td>yes</td>\n",
       "      <td>telephone</td>\n",
       "      <td>may</td>\n",
       "      <td>mon</td>\n",
       "      <td>307</td>\n",
       "      <td>1</td>\n",
       "      <td>999</td>\n",
       "      <td>0</td>\n",
       "      <td>nonexistent</td>\n",
       "      <td>1.1</td>\n",
       "      <td>93.994</td>\n",
       "      <td>-36.4</td>\n",
       "      <td>4.857</td>\n",
       "      <td>5191.0</td>\n",
       "      <td>no</td>\n",
       "    </tr>\n",
       "    <tr>\n",
       "      <th>...</th>\n",
       "      <td>...</td>\n",
       "      <td>...</td>\n",
       "      <td>...</td>\n",
       "      <td>...</td>\n",
       "      <td>...</td>\n",
       "      <td>...</td>\n",
       "      <td>...</td>\n",
       "      <td>...</td>\n",
       "      <td>...</td>\n",
       "      <td>...</td>\n",
       "      <td>...</td>\n",
       "      <td>...</td>\n",
       "      <td>...</td>\n",
       "      <td>...</td>\n",
       "      <td>...</td>\n",
       "      <td>...</td>\n",
       "      <td>...</td>\n",
       "      <td>...</td>\n",
       "      <td>...</td>\n",
       "      <td>...</td>\n",
       "      <td>...</td>\n",
       "    </tr>\n",
       "    <tr>\n",
       "      <th>41183</th>\n",
       "      <td>73</td>\n",
       "      <td>retired</td>\n",
       "      <td>married</td>\n",
       "      <td>professional.course</td>\n",
       "      <td>no</td>\n",
       "      <td>yes</td>\n",
       "      <td>no</td>\n",
       "      <td>cellular</td>\n",
       "      <td>nov</td>\n",
       "      <td>fri</td>\n",
       "      <td>334</td>\n",
       "      <td>1</td>\n",
       "      <td>999</td>\n",
       "      <td>0</td>\n",
       "      <td>nonexistent</td>\n",
       "      <td>-1.1</td>\n",
       "      <td>94.767</td>\n",
       "      <td>-50.8</td>\n",
       "      <td>1.028</td>\n",
       "      <td>4963.6</td>\n",
       "      <td>yes</td>\n",
       "    </tr>\n",
       "    <tr>\n",
       "      <th>41184</th>\n",
       "      <td>46</td>\n",
       "      <td>blue-collar</td>\n",
       "      <td>married</td>\n",
       "      <td>professional.course</td>\n",
       "      <td>no</td>\n",
       "      <td>no</td>\n",
       "      <td>no</td>\n",
       "      <td>cellular</td>\n",
       "      <td>nov</td>\n",
       "      <td>fri</td>\n",
       "      <td>383</td>\n",
       "      <td>1</td>\n",
       "      <td>999</td>\n",
       "      <td>0</td>\n",
       "      <td>nonexistent</td>\n",
       "      <td>-1.1</td>\n",
       "      <td>94.767</td>\n",
       "      <td>-50.8</td>\n",
       "      <td>1.028</td>\n",
       "      <td>4963.6</td>\n",
       "      <td>no</td>\n",
       "    </tr>\n",
       "    <tr>\n",
       "      <th>41185</th>\n",
       "      <td>56</td>\n",
       "      <td>retired</td>\n",
       "      <td>married</td>\n",
       "      <td>university.degree</td>\n",
       "      <td>no</td>\n",
       "      <td>yes</td>\n",
       "      <td>no</td>\n",
       "      <td>cellular</td>\n",
       "      <td>nov</td>\n",
       "      <td>fri</td>\n",
       "      <td>189</td>\n",
       "      <td>2</td>\n",
       "      <td>999</td>\n",
       "      <td>0</td>\n",
       "      <td>nonexistent</td>\n",
       "      <td>-1.1</td>\n",
       "      <td>94.767</td>\n",
       "      <td>-50.8</td>\n",
       "      <td>1.028</td>\n",
       "      <td>4963.6</td>\n",
       "      <td>no</td>\n",
       "    </tr>\n",
       "    <tr>\n",
       "      <th>41186</th>\n",
       "      <td>44</td>\n",
       "      <td>technician</td>\n",
       "      <td>married</td>\n",
       "      <td>professional.course</td>\n",
       "      <td>no</td>\n",
       "      <td>no</td>\n",
       "      <td>no</td>\n",
       "      <td>cellular</td>\n",
       "      <td>nov</td>\n",
       "      <td>fri</td>\n",
       "      <td>442</td>\n",
       "      <td>1</td>\n",
       "      <td>999</td>\n",
       "      <td>0</td>\n",
       "      <td>nonexistent</td>\n",
       "      <td>-1.1</td>\n",
       "      <td>94.767</td>\n",
       "      <td>-50.8</td>\n",
       "      <td>1.028</td>\n",
       "      <td>4963.6</td>\n",
       "      <td>yes</td>\n",
       "    </tr>\n",
       "    <tr>\n",
       "      <th>41187</th>\n",
       "      <td>74</td>\n",
       "      <td>retired</td>\n",
       "      <td>married</td>\n",
       "      <td>professional.course</td>\n",
       "      <td>no</td>\n",
       "      <td>yes</td>\n",
       "      <td>no</td>\n",
       "      <td>cellular</td>\n",
       "      <td>nov</td>\n",
       "      <td>fri</td>\n",
       "      <td>239</td>\n",
       "      <td>3</td>\n",
       "      <td>999</td>\n",
       "      <td>1</td>\n",
       "      <td>failure</td>\n",
       "      <td>-1.1</td>\n",
       "      <td>94.767</td>\n",
       "      <td>-50.8</td>\n",
       "      <td>1.028</td>\n",
       "      <td>4963.6</td>\n",
       "      <td>no</td>\n",
       "    </tr>\n",
       "  </tbody>\n",
       "</table>\n",
       "<p>41188 rows × 21 columns</p>\n",
       "</div>"
      ],
      "text/plain": [
       "       age          job  marital            education  default housing loan  \\\n",
       "0       56    housemaid  married             basic.4y       no      no   no   \n",
       "1       57     services  married          high.school  unknown      no   no   \n",
       "2       37     services  married          high.school       no     yes   no   \n",
       "3       40       admin.  married             basic.6y       no      no   no   \n",
       "4       56     services  married          high.school       no      no  yes   \n",
       "...    ...          ...      ...                  ...      ...     ...  ...   \n",
       "41183   73      retired  married  professional.course       no     yes   no   \n",
       "41184   46  blue-collar  married  professional.course       no      no   no   \n",
       "41185   56      retired  married    university.degree       no     yes   no   \n",
       "41186   44   technician  married  professional.course       no      no   no   \n",
       "41187   74      retired  married  professional.course       no     yes   no   \n",
       "\n",
       "         contact month day_of_week  duration  campaign  pdays  previous  \\\n",
       "0      telephone   may         mon       261         1    999         0   \n",
       "1      telephone   may         mon       149         1    999         0   \n",
       "2      telephone   may         mon       226         1    999         0   \n",
       "3      telephone   may         mon       151         1    999         0   \n",
       "4      telephone   may         mon       307         1    999         0   \n",
       "...          ...   ...         ...       ...       ...    ...       ...   \n",
       "41183   cellular   nov         fri       334         1    999         0   \n",
       "41184   cellular   nov         fri       383         1    999         0   \n",
       "41185   cellular   nov         fri       189         2    999         0   \n",
       "41186   cellular   nov         fri       442         1    999         0   \n",
       "41187   cellular   nov         fri       239         3    999         1   \n",
       "\n",
       "          poutcome  emp.var.rate  cons.price.idx  cons.conf.idx  euribor3m  \\\n",
       "0      nonexistent           1.1          93.994          -36.4      4.857   \n",
       "1      nonexistent           1.1          93.994          -36.4      4.857   \n",
       "2      nonexistent           1.1          93.994          -36.4      4.857   \n",
       "3      nonexistent           1.1          93.994          -36.4      4.857   \n",
       "4      nonexistent           1.1          93.994          -36.4      4.857   \n",
       "...            ...           ...             ...            ...        ...   \n",
       "41183  nonexistent          -1.1          94.767          -50.8      1.028   \n",
       "41184  nonexistent          -1.1          94.767          -50.8      1.028   \n",
       "41185  nonexistent          -1.1          94.767          -50.8      1.028   \n",
       "41186  nonexistent          -1.1          94.767          -50.8      1.028   \n",
       "41187      failure          -1.1          94.767          -50.8      1.028   \n",
       "\n",
       "       nr.employed    y  \n",
       "0           5191.0   no  \n",
       "1           5191.0   no  \n",
       "2           5191.0   no  \n",
       "3           5191.0   no  \n",
       "4           5191.0   no  \n",
       "...            ...  ...  \n",
       "41183       4963.6  yes  \n",
       "41184       4963.6   no  \n",
       "41185       4963.6   no  \n",
       "41186       4963.6  yes  \n",
       "41187       4963.6   no  \n",
       "\n",
       "[41188 rows x 21 columns]"
      ]
     },
     "execution_count": 57,
     "metadata": {},
     "output_type": "execute_result"
    }
   ],
   "source": [
    "# Load original raw data\n",
    "df_data = pd.read_csv(dataset_file_local_path, sep=\";\")\n",
    "pd.set_option(\"display.max_columns\", 500)\n",
    "df_data"
   ]
  },
  {
   "cell_type": "markdown",
   "id": "b2887120-c164-4b78-90c5-ede89722b9f5",
   "metadata": {},
   "source": [
    "Apply feature engineering to the raw data:"
   ]
  },
  {
   "cell_type": "code",
   "execution_count": 58,
   "id": "f39290b0-12ef-4c96-9c76-cfb68671e8b2",
   "metadata": {
    "tags": []
   },
   "outputs": [],
   "source": [
    "target_col = \"y\"\n",
    "\n",
    "# Indicator variable to capture when pdays takes a value of 999\n",
    "df_data[\"no_previous_contact\"] = np.where(df_data[\"pdays\"] == 999, 1, 0)\n",
    "\n",
    "# Indicator for individuals not actively employed\n",
    "df_data[\"not_working\"] = np.where(\n",
    "    np.in1d(df_data[\"job\"], [\"student\", \"retired\", \"unemployed\"]), 1, 0\n",
    ")\n",
    "\n",
    "# remove unnecessary data\n",
    "df_model_data = df_data.drop(\n",
    "    [\"duration\", \"emp.var.rate\", \"cons.price.idx\", \"cons.conf.idx\", \"euribor3m\", \"nr.employed\"],\n",
    "    axis=1,\n",
    ")\n",
    "\n",
    "bins = [18, 30, 40, 50, 60, 70, 90]\n",
    "labels = ['18-29', '30-39', '40-49', '50-59', '60-69', '70-plus']\n",
    "\n",
    "df_model_data['age_range'] = pd.cut(df_model_data.age, bins, labels=labels, include_lowest=True)\n",
    "df_model_data = pd.concat([df_model_data, pd.get_dummies(df_model_data['age_range'], prefix='age', dtype=int)], axis=1)\n",
    "df_model_data.drop('age', axis=1, inplace=True)\n",
    "df_model_data.drop('age_range', axis=1, inplace=True)\n",
    "\n",
    "scaled_features = ['pdays', 'previous', 'campaign']\n",
    "df_model_data[scaled_features] = MinMaxScaler().fit_transform(df_model_data[scaled_features])\n",
    "\n",
    "df_model_data = pd.get_dummies(df_model_data, dtype=int)  # Convert categorical variables to sets of indicators\n",
    "\n",
    "# Replace \"y_no\" and \"y_yes\" with a single label column, and bring it to the front:\n",
    "df_model_data = pd.concat(\n",
    "    [\n",
    "        df_model_data[\"y_yes\"].rename(target_col),\n",
    "        df_model_data.drop([\"y_no\", \"y_yes\"], axis=1),\n",
    "    ],\n",
    "    axis=1,\n",
    ")"
   ]
  },
  {
   "cell_type": "code",
   "execution_count": 59,
   "id": "fed45a86-8f00-4e1b-a2c7-acec0fe622e1",
   "metadata": {
    "tags": []
   },
   "outputs": [],
   "source": [
    "def generate_event_timestamp():\n",
    "    # naive datetime representing local time\n",
    "    naive_dt = datetime.now()\n",
    "    # take timezone into account\n",
    "    aware_dt = naive_dt.astimezone()\n",
    "    # time in UTC\n",
    "    utc_dt = aware_dt.astimezone(timezone.utc)\n",
    "    # transform to ISO-8601 format\n",
    "    event_time = utc_dt.isoformat(timespec='milliseconds')\n",
    "    event_time = event_time.replace('+00:00', 'Z')\n",
    "    return event_time"
   ]
  },
  {
   "cell_type": "markdown",
   "id": "db4d29a2-8b82-4961-bbf0-4b655abb8101",
   "metadata": {},
   "source": [
    "<div style=\"border: 4px solid coral; text-align: center; margin: auto;\">\n",
    "Add `event_time` and `record_id` columns to the dataset as these two fields are required for each feature group:\n",
    "</div>"
   ]
  },
  {
   "cell_type": "code",
   "execution_count": 60,
   "id": "ca22a358-de8e-4ac5-b036-54f35ec20cab",
   "metadata": {
    "tags": []
   },
   "outputs": [],
   "source": [
    "df_model_data['event_time'] = generate_event_timestamp()\n",
    "df_model_data['record_id'] = [f'R{i}' for i in range(len(df_model_data))]"
   ]
  },
  {
   "cell_type": "markdown",
   "id": "69e9181d-aa22-42af-b9fd-d057d8b24cd1",
   "metadata": {},
   "source": [
    "Feature names cannot contain '.' and cannot end on '_'. Also remove '-' from the column names when converting column names:"
   ]
  },
  {
   "cell_type": "code",
   "execution_count": 61,
   "id": "8b9b4220-e3e6-4abe-a193-5b9bb5030a1b",
   "metadata": {
    "tags": []
   },
   "outputs": [],
   "source": [
    "def convert_col_name(c):\n",
    "    return c.replace('.', '_').replace('-', '_').rstrip('_')"
   ]
  },
  {
   "cell_type": "code",
   "execution_count": 62,
   "id": "6d233973-f8d3-488f-9f92-44cbb5f34382",
   "metadata": {
    "tags": []
   },
   "outputs": [],
   "source": [
    "df_model_data = df_model_data.rename(columns=convert_col_name)\n",
    "df_model_data = df_model_data.convert_dtypes(infer_objects=True, convert_boolean=False)\n",
    "df_model_data['record_id'] = df_model_data['record_id'].astype('string')\n",
    "df_model_data['event_time'] = df_model_data['event_time'].astype('string')"
   ]
  },
  {
   "cell_type": "code",
   "execution_count": 63,
   "id": "4ef70777-a343-487a-b087-b220734acbe6",
   "metadata": {
    "tags": []
   },
   "outputs": [
    {
     "data": {
      "text/plain": [
       "y                                Int64\n",
       "campaign                       Float64\n",
       "pdays                          Float64\n",
       "previous                       Float64\n",
       "no_previous_contact              Int64\n",
       "                             ...      \n",
       "poutcome_failure                 Int64\n",
       "poutcome_nonexistent             Int64\n",
       "poutcome_success                 Int64\n",
       "event_time              string[python]\n",
       "record_id               string[python]\n",
       "Length: 67, dtype: object"
      ]
     },
     "execution_count": 63,
     "metadata": {},
     "output_type": "execute_result"
    }
   ],
   "source": [
    "df_model_data.dtypes"
   ]
  },
  {
   "cell_type": "code",
   "execution_count": 64,
   "id": "958e8afb-9761-4624-b4eb-72b9d5a6be3b",
   "metadata": {
    "tags": []
   },
   "outputs": [
    {
     "data": {
      "text/plain": [
       "Index(['y', 'campaign', 'pdays', 'previous', 'no_previous_contact',\n",
       "       'not_working', 'age_18_29', 'age_30_39', 'age_40_49', 'age_50_59',\n",
       "       'age_60_69', 'age_70_plus', 'job_admin', 'job_blue_collar',\n",
       "       'job_entrepreneur', 'job_housemaid', 'job_management', 'job_retired',\n",
       "       'job_self_employed', 'job_services', 'job_student', 'job_technician',\n",
       "       'job_unemployed', 'job_unknown', 'marital_divorced', 'marital_married',\n",
       "       'marital_single', 'marital_unknown', 'education_basic_4y',\n",
       "       'education_basic_6y', 'education_basic_9y', 'education_high_school',\n",
       "       'education_illiterate', 'education_professional_course',\n",
       "       'education_university_degree', 'education_unknown', 'default_no',\n",
       "       'default_unknown', 'default_yes', 'housing_no', 'housing_unknown',\n",
       "       'housing_yes', 'loan_no', 'loan_unknown', 'loan_yes',\n",
       "       'contact_cellular', 'contact_telephone', 'month_apr', 'month_aug',\n",
       "       'month_dec', 'month_jul', 'month_jun', 'month_mar', 'month_may',\n",
       "       'month_nov', 'month_oct', 'month_sep', 'day_of_week_fri',\n",
       "       'day_of_week_mon', 'day_of_week_thu', 'day_of_week_tue',\n",
       "       'day_of_week_wed', 'poutcome_failure', 'poutcome_nonexistent',\n",
       "       'poutcome_success', 'event_time', 'record_id'],\n",
       "      dtype='object')"
      ]
     },
     "execution_count": 64,
     "metadata": {},
     "output_type": "execute_result"
    }
   ],
   "source": [
    "df_model_data.columns"
   ]
  },
  {
   "cell_type": "code",
   "execution_count": 65,
   "id": "a388370e-4596-4968-8358-c26d9a44d03a",
   "metadata": {
    "tags": []
   },
   "outputs": [
    {
     "data": {
      "text/html": [
       "<div>\n",
       "<style scoped>\n",
       "    .dataframe tbody tr th:only-of-type {\n",
       "        vertical-align: middle;\n",
       "    }\n",
       "\n",
       "    .dataframe tbody tr th {\n",
       "        vertical-align: top;\n",
       "    }\n",
       "\n",
       "    .dataframe thead th {\n",
       "        text-align: right;\n",
       "    }\n",
       "</style>\n",
       "<table border=\"1\" class=\"dataframe\">\n",
       "  <thead>\n",
       "    <tr style=\"text-align: right;\">\n",
       "      <th></th>\n",
       "      <th>y</th>\n",
       "      <th>campaign</th>\n",
       "      <th>pdays</th>\n",
       "      <th>previous</th>\n",
       "      <th>no_previous_contact</th>\n",
       "      <th>not_working</th>\n",
       "      <th>age_18_29</th>\n",
       "      <th>age_30_39</th>\n",
       "      <th>age_40_49</th>\n",
       "      <th>age_50_59</th>\n",
       "      <th>age_60_69</th>\n",
       "      <th>age_70_plus</th>\n",
       "      <th>job_admin</th>\n",
       "      <th>job_blue_collar</th>\n",
       "      <th>job_entrepreneur</th>\n",
       "      <th>job_housemaid</th>\n",
       "      <th>job_management</th>\n",
       "      <th>job_retired</th>\n",
       "      <th>job_self_employed</th>\n",
       "      <th>job_services</th>\n",
       "      <th>job_student</th>\n",
       "      <th>job_technician</th>\n",
       "      <th>job_unemployed</th>\n",
       "      <th>job_unknown</th>\n",
       "      <th>marital_divorced</th>\n",
       "      <th>marital_married</th>\n",
       "      <th>marital_single</th>\n",
       "      <th>marital_unknown</th>\n",
       "      <th>education_basic_4y</th>\n",
       "      <th>education_basic_6y</th>\n",
       "      <th>education_basic_9y</th>\n",
       "      <th>education_high_school</th>\n",
       "      <th>education_illiterate</th>\n",
       "      <th>education_professional_course</th>\n",
       "      <th>education_university_degree</th>\n",
       "      <th>education_unknown</th>\n",
       "      <th>default_no</th>\n",
       "      <th>default_unknown</th>\n",
       "      <th>default_yes</th>\n",
       "      <th>housing_no</th>\n",
       "      <th>housing_unknown</th>\n",
       "      <th>housing_yes</th>\n",
       "      <th>loan_no</th>\n",
       "      <th>loan_unknown</th>\n",
       "      <th>loan_yes</th>\n",
       "      <th>contact_cellular</th>\n",
       "      <th>contact_telephone</th>\n",
       "      <th>month_apr</th>\n",
       "      <th>month_aug</th>\n",
       "      <th>month_dec</th>\n",
       "      <th>month_jul</th>\n",
       "      <th>month_jun</th>\n",
       "      <th>month_mar</th>\n",
       "      <th>month_may</th>\n",
       "      <th>month_nov</th>\n",
       "      <th>month_oct</th>\n",
       "      <th>month_sep</th>\n",
       "      <th>day_of_week_fri</th>\n",
       "      <th>day_of_week_mon</th>\n",
       "      <th>day_of_week_thu</th>\n",
       "      <th>day_of_week_tue</th>\n",
       "      <th>day_of_week_wed</th>\n",
       "      <th>poutcome_failure</th>\n",
       "      <th>poutcome_nonexistent</th>\n",
       "      <th>poutcome_success</th>\n",
       "      <th>event_time</th>\n",
       "      <th>record_id</th>\n",
       "    </tr>\n",
       "  </thead>\n",
       "  <tbody>\n",
       "    <tr>\n",
       "      <th>0</th>\n",
       "      <td>0</td>\n",
       "      <td>0.0</td>\n",
       "      <td>1.0</td>\n",
       "      <td>0.0</td>\n",
       "      <td>1</td>\n",
       "      <td>0</td>\n",
       "      <td>0</td>\n",
       "      <td>0</td>\n",
       "      <td>0</td>\n",
       "      <td>1</td>\n",
       "      <td>0</td>\n",
       "      <td>0</td>\n",
       "      <td>0</td>\n",
       "      <td>0</td>\n",
       "      <td>0</td>\n",
       "      <td>1</td>\n",
       "      <td>0</td>\n",
       "      <td>0</td>\n",
       "      <td>0</td>\n",
       "      <td>0</td>\n",
       "      <td>0</td>\n",
       "      <td>0</td>\n",
       "      <td>0</td>\n",
       "      <td>0</td>\n",
       "      <td>0</td>\n",
       "      <td>1</td>\n",
       "      <td>0</td>\n",
       "      <td>0</td>\n",
       "      <td>1</td>\n",
       "      <td>0</td>\n",
       "      <td>0</td>\n",
       "      <td>0</td>\n",
       "      <td>0</td>\n",
       "      <td>0</td>\n",
       "      <td>0</td>\n",
       "      <td>0</td>\n",
       "      <td>1</td>\n",
       "      <td>0</td>\n",
       "      <td>0</td>\n",
       "      <td>1</td>\n",
       "      <td>0</td>\n",
       "      <td>0</td>\n",
       "      <td>1</td>\n",
       "      <td>0</td>\n",
       "      <td>0</td>\n",
       "      <td>0</td>\n",
       "      <td>1</td>\n",
       "      <td>0</td>\n",
       "      <td>0</td>\n",
       "      <td>0</td>\n",
       "      <td>0</td>\n",
       "      <td>0</td>\n",
       "      <td>0</td>\n",
       "      <td>1</td>\n",
       "      <td>0</td>\n",
       "      <td>0</td>\n",
       "      <td>0</td>\n",
       "      <td>0</td>\n",
       "      <td>1</td>\n",
       "      <td>0</td>\n",
       "      <td>0</td>\n",
       "      <td>0</td>\n",
       "      <td>0</td>\n",
       "      <td>1</td>\n",
       "      <td>0</td>\n",
       "      <td>2024-07-23T08:19:44.197Z</td>\n",
       "      <td>R0</td>\n",
       "    </tr>\n",
       "    <tr>\n",
       "      <th>1</th>\n",
       "      <td>0</td>\n",
       "      <td>0.0</td>\n",
       "      <td>1.0</td>\n",
       "      <td>0.0</td>\n",
       "      <td>1</td>\n",
       "      <td>0</td>\n",
       "      <td>0</td>\n",
       "      <td>0</td>\n",
       "      <td>0</td>\n",
       "      <td>1</td>\n",
       "      <td>0</td>\n",
       "      <td>0</td>\n",
       "      <td>0</td>\n",
       "      <td>0</td>\n",
       "      <td>0</td>\n",
       "      <td>0</td>\n",
       "      <td>0</td>\n",
       "      <td>0</td>\n",
       "      <td>0</td>\n",
       "      <td>1</td>\n",
       "      <td>0</td>\n",
       "      <td>0</td>\n",
       "      <td>0</td>\n",
       "      <td>0</td>\n",
       "      <td>0</td>\n",
       "      <td>1</td>\n",
       "      <td>0</td>\n",
       "      <td>0</td>\n",
       "      <td>0</td>\n",
       "      <td>0</td>\n",
       "      <td>0</td>\n",
       "      <td>1</td>\n",
       "      <td>0</td>\n",
       "      <td>0</td>\n",
       "      <td>0</td>\n",
       "      <td>0</td>\n",
       "      <td>0</td>\n",
       "      <td>1</td>\n",
       "      <td>0</td>\n",
       "      <td>1</td>\n",
       "      <td>0</td>\n",
       "      <td>0</td>\n",
       "      <td>1</td>\n",
       "      <td>0</td>\n",
       "      <td>0</td>\n",
       "      <td>0</td>\n",
       "      <td>1</td>\n",
       "      <td>0</td>\n",
       "      <td>0</td>\n",
       "      <td>0</td>\n",
       "      <td>0</td>\n",
       "      <td>0</td>\n",
       "      <td>0</td>\n",
       "      <td>1</td>\n",
       "      <td>0</td>\n",
       "      <td>0</td>\n",
       "      <td>0</td>\n",
       "      <td>0</td>\n",
       "      <td>1</td>\n",
       "      <td>0</td>\n",
       "      <td>0</td>\n",
       "      <td>0</td>\n",
       "      <td>0</td>\n",
       "      <td>1</td>\n",
       "      <td>0</td>\n",
       "      <td>2024-07-23T08:19:44.197Z</td>\n",
       "      <td>R1</td>\n",
       "    </tr>\n",
       "    <tr>\n",
       "      <th>2</th>\n",
       "      <td>0</td>\n",
       "      <td>0.0</td>\n",
       "      <td>1.0</td>\n",
       "      <td>0.0</td>\n",
       "      <td>1</td>\n",
       "      <td>0</td>\n",
       "      <td>0</td>\n",
       "      <td>1</td>\n",
       "      <td>0</td>\n",
       "      <td>0</td>\n",
       "      <td>0</td>\n",
       "      <td>0</td>\n",
       "      <td>0</td>\n",
       "      <td>0</td>\n",
       "      <td>0</td>\n",
       "      <td>0</td>\n",
       "      <td>0</td>\n",
       "      <td>0</td>\n",
       "      <td>0</td>\n",
       "      <td>1</td>\n",
       "      <td>0</td>\n",
       "      <td>0</td>\n",
       "      <td>0</td>\n",
       "      <td>0</td>\n",
       "      <td>0</td>\n",
       "      <td>1</td>\n",
       "      <td>0</td>\n",
       "      <td>0</td>\n",
       "      <td>0</td>\n",
       "      <td>0</td>\n",
       "      <td>0</td>\n",
       "      <td>1</td>\n",
       "      <td>0</td>\n",
       "      <td>0</td>\n",
       "      <td>0</td>\n",
       "      <td>0</td>\n",
       "      <td>1</td>\n",
       "      <td>0</td>\n",
       "      <td>0</td>\n",
       "      <td>0</td>\n",
       "      <td>0</td>\n",
       "      <td>1</td>\n",
       "      <td>1</td>\n",
       "      <td>0</td>\n",
       "      <td>0</td>\n",
       "      <td>0</td>\n",
       "      <td>1</td>\n",
       "      <td>0</td>\n",
       "      <td>0</td>\n",
       "      <td>0</td>\n",
       "      <td>0</td>\n",
       "      <td>0</td>\n",
       "      <td>0</td>\n",
       "      <td>1</td>\n",
       "      <td>0</td>\n",
       "      <td>0</td>\n",
       "      <td>0</td>\n",
       "      <td>0</td>\n",
       "      <td>1</td>\n",
       "      <td>0</td>\n",
       "      <td>0</td>\n",
       "      <td>0</td>\n",
       "      <td>0</td>\n",
       "      <td>1</td>\n",
       "      <td>0</td>\n",
       "      <td>2024-07-23T08:19:44.197Z</td>\n",
       "      <td>R2</td>\n",
       "    </tr>\n",
       "    <tr>\n",
       "      <th>3</th>\n",
       "      <td>0</td>\n",
       "      <td>0.0</td>\n",
       "      <td>1.0</td>\n",
       "      <td>0.0</td>\n",
       "      <td>1</td>\n",
       "      <td>0</td>\n",
       "      <td>0</td>\n",
       "      <td>1</td>\n",
       "      <td>0</td>\n",
       "      <td>0</td>\n",
       "      <td>0</td>\n",
       "      <td>0</td>\n",
       "      <td>1</td>\n",
       "      <td>0</td>\n",
       "      <td>0</td>\n",
       "      <td>0</td>\n",
       "      <td>0</td>\n",
       "      <td>0</td>\n",
       "      <td>0</td>\n",
       "      <td>0</td>\n",
       "      <td>0</td>\n",
       "      <td>0</td>\n",
       "      <td>0</td>\n",
       "      <td>0</td>\n",
       "      <td>0</td>\n",
       "      <td>1</td>\n",
       "      <td>0</td>\n",
       "      <td>0</td>\n",
       "      <td>0</td>\n",
       "      <td>1</td>\n",
       "      <td>0</td>\n",
       "      <td>0</td>\n",
       "      <td>0</td>\n",
       "      <td>0</td>\n",
       "      <td>0</td>\n",
       "      <td>0</td>\n",
       "      <td>1</td>\n",
       "      <td>0</td>\n",
       "      <td>0</td>\n",
       "      <td>1</td>\n",
       "      <td>0</td>\n",
       "      <td>0</td>\n",
       "      <td>1</td>\n",
       "      <td>0</td>\n",
       "      <td>0</td>\n",
       "      <td>0</td>\n",
       "      <td>1</td>\n",
       "      <td>0</td>\n",
       "      <td>0</td>\n",
       "      <td>0</td>\n",
       "      <td>0</td>\n",
       "      <td>0</td>\n",
       "      <td>0</td>\n",
       "      <td>1</td>\n",
       "      <td>0</td>\n",
       "      <td>0</td>\n",
       "      <td>0</td>\n",
       "      <td>0</td>\n",
       "      <td>1</td>\n",
       "      <td>0</td>\n",
       "      <td>0</td>\n",
       "      <td>0</td>\n",
       "      <td>0</td>\n",
       "      <td>1</td>\n",
       "      <td>0</td>\n",
       "      <td>2024-07-23T08:19:44.197Z</td>\n",
       "      <td>R3</td>\n",
       "    </tr>\n",
       "    <tr>\n",
       "      <th>4</th>\n",
       "      <td>0</td>\n",
       "      <td>0.0</td>\n",
       "      <td>1.0</td>\n",
       "      <td>0.0</td>\n",
       "      <td>1</td>\n",
       "      <td>0</td>\n",
       "      <td>0</td>\n",
       "      <td>0</td>\n",
       "      <td>0</td>\n",
       "      <td>1</td>\n",
       "      <td>0</td>\n",
       "      <td>0</td>\n",
       "      <td>0</td>\n",
       "      <td>0</td>\n",
       "      <td>0</td>\n",
       "      <td>0</td>\n",
       "      <td>0</td>\n",
       "      <td>0</td>\n",
       "      <td>0</td>\n",
       "      <td>1</td>\n",
       "      <td>0</td>\n",
       "      <td>0</td>\n",
       "      <td>0</td>\n",
       "      <td>0</td>\n",
       "      <td>0</td>\n",
       "      <td>1</td>\n",
       "      <td>0</td>\n",
       "      <td>0</td>\n",
       "      <td>0</td>\n",
       "      <td>0</td>\n",
       "      <td>0</td>\n",
       "      <td>1</td>\n",
       "      <td>0</td>\n",
       "      <td>0</td>\n",
       "      <td>0</td>\n",
       "      <td>0</td>\n",
       "      <td>1</td>\n",
       "      <td>0</td>\n",
       "      <td>0</td>\n",
       "      <td>1</td>\n",
       "      <td>0</td>\n",
       "      <td>0</td>\n",
       "      <td>0</td>\n",
       "      <td>0</td>\n",
       "      <td>1</td>\n",
       "      <td>0</td>\n",
       "      <td>1</td>\n",
       "      <td>0</td>\n",
       "      <td>0</td>\n",
       "      <td>0</td>\n",
       "      <td>0</td>\n",
       "      <td>0</td>\n",
       "      <td>0</td>\n",
       "      <td>1</td>\n",
       "      <td>0</td>\n",
       "      <td>0</td>\n",
       "      <td>0</td>\n",
       "      <td>0</td>\n",
       "      <td>1</td>\n",
       "      <td>0</td>\n",
       "      <td>0</td>\n",
       "      <td>0</td>\n",
       "      <td>0</td>\n",
       "      <td>1</td>\n",
       "      <td>0</td>\n",
       "      <td>2024-07-23T08:19:44.197Z</td>\n",
       "      <td>R4</td>\n",
       "    </tr>\n",
       "  </tbody>\n",
       "</table>\n",
       "</div>"
      ],
      "text/plain": [
       "   y  campaign  pdays  previous  no_previous_contact  not_working  age_18_29  \\\n",
       "0  0       0.0    1.0       0.0                    1            0          0   \n",
       "1  0       0.0    1.0       0.0                    1            0          0   \n",
       "2  0       0.0    1.0       0.0                    1            0          0   \n",
       "3  0       0.0    1.0       0.0                    1            0          0   \n",
       "4  0       0.0    1.0       0.0                    1            0          0   \n",
       "\n",
       "   age_30_39  age_40_49  age_50_59  age_60_69  age_70_plus  job_admin  \\\n",
       "0          0          0          1          0            0          0   \n",
       "1          0          0          1          0            0          0   \n",
       "2          1          0          0          0            0          0   \n",
       "3          1          0          0          0            0          1   \n",
       "4          0          0          1          0            0          0   \n",
       "\n",
       "   job_blue_collar  job_entrepreneur  job_housemaid  job_management  \\\n",
       "0                0                 0              1               0   \n",
       "1                0                 0              0               0   \n",
       "2                0                 0              0               0   \n",
       "3                0                 0              0               0   \n",
       "4                0                 0              0               0   \n",
       "\n",
       "   job_retired  job_self_employed  job_services  job_student  job_technician  \\\n",
       "0            0                  0             0            0               0   \n",
       "1            0                  0             1            0               0   \n",
       "2            0                  0             1            0               0   \n",
       "3            0                  0             0            0               0   \n",
       "4            0                  0             1            0               0   \n",
       "\n",
       "   job_unemployed  job_unknown  marital_divorced  marital_married  \\\n",
       "0               0            0                 0                1   \n",
       "1               0            0                 0                1   \n",
       "2               0            0                 0                1   \n",
       "3               0            0                 0                1   \n",
       "4               0            0                 0                1   \n",
       "\n",
       "   marital_single  marital_unknown  education_basic_4y  education_basic_6y  \\\n",
       "0               0                0                   1                   0   \n",
       "1               0                0                   0                   0   \n",
       "2               0                0                   0                   0   \n",
       "3               0                0                   0                   1   \n",
       "4               0                0                   0                   0   \n",
       "\n",
       "   education_basic_9y  education_high_school  education_illiterate  \\\n",
       "0                   0                      0                     0   \n",
       "1                   0                      1                     0   \n",
       "2                   0                      1                     0   \n",
       "3                   0                      0                     0   \n",
       "4                   0                      1                     0   \n",
       "\n",
       "   education_professional_course  education_university_degree  \\\n",
       "0                              0                            0   \n",
       "1                              0                            0   \n",
       "2                              0                            0   \n",
       "3                              0                            0   \n",
       "4                              0                            0   \n",
       "\n",
       "   education_unknown  default_no  default_unknown  default_yes  housing_no  \\\n",
       "0                  0           1                0            0           1   \n",
       "1                  0           0                1            0           1   \n",
       "2                  0           1                0            0           0   \n",
       "3                  0           1                0            0           1   \n",
       "4                  0           1                0            0           1   \n",
       "\n",
       "   housing_unknown  housing_yes  loan_no  loan_unknown  loan_yes  \\\n",
       "0                0            0        1             0         0   \n",
       "1                0            0        1             0         0   \n",
       "2                0            1        1             0         0   \n",
       "3                0            0        1             0         0   \n",
       "4                0            0        0             0         1   \n",
       "\n",
       "   contact_cellular  contact_telephone  month_apr  month_aug  month_dec  \\\n",
       "0                 0                  1          0          0          0   \n",
       "1                 0                  1          0          0          0   \n",
       "2                 0                  1          0          0          0   \n",
       "3                 0                  1          0          0          0   \n",
       "4                 0                  1          0          0          0   \n",
       "\n",
       "   month_jul  month_jun  month_mar  month_may  month_nov  month_oct  \\\n",
       "0          0          0          0          1          0          0   \n",
       "1          0          0          0          1          0          0   \n",
       "2          0          0          0          1          0          0   \n",
       "3          0          0          0          1          0          0   \n",
       "4          0          0          0          1          0          0   \n",
       "\n",
       "   month_sep  day_of_week_fri  day_of_week_mon  day_of_week_thu  \\\n",
       "0          0                0                1                0   \n",
       "1          0                0                1                0   \n",
       "2          0                0                1                0   \n",
       "3          0                0                1                0   \n",
       "4          0                0                1                0   \n",
       "\n",
       "   day_of_week_tue  day_of_week_wed  poutcome_failure  poutcome_nonexistent  \\\n",
       "0                0                0                 0                     1   \n",
       "1                0                0                 0                     1   \n",
       "2                0                0                 0                     1   \n",
       "3                0                0                 0                     1   \n",
       "4                0                0                 0                     1   \n",
       "\n",
       "   poutcome_success                event_time record_id  \n",
       "0                 0  2024-07-23T08:19:44.197Z        R0  \n",
       "1                 0  2024-07-23T08:19:44.197Z        R1  \n",
       "2                 0  2024-07-23T08:19:44.197Z        R2  \n",
       "3                 0  2024-07-23T08:19:44.197Z        R3  \n",
       "4                 0  2024-07-23T08:19:44.197Z        R4  "
      ]
     },
     "execution_count": 65,
     "metadata": {},
     "output_type": "execute_result"
    }
   ],
   "source": [
    "df_model_data.head()"
   ]
  },
  {
   "cell_type": "code",
   "execution_count": 66,
   "id": "cecd4de7-8d8f-4b1d-b16b-671a33cedfd8",
   "metadata": {
    "tags": []
   },
   "outputs": [
    {
     "data": {
      "text/plain": [
       "(41188, 67)"
      ]
     },
     "execution_count": 66,
     "metadata": {},
     "output_type": "execute_result"
    }
   ],
   "source": [
    "df_model_data.shape"
   ]
  },
  {
   "cell_type": "code",
   "execution_count": 67,
   "id": "6602ddca-cb2b-4381-bac5-ac653a2adac8",
   "metadata": {
    "tags": []
   },
   "outputs": [],
   "source": [
    "df_model_data.to_csv('./data/feature_dataset.csv', index=False)"
   ]
  },
  {
   "cell_type": "code",
   "execution_count": 68,
   "id": "de5dddb9-467c-4ff3-8903-c782ae0a94ed",
   "metadata": {
    "tags": []
   },
   "outputs": [],
   "source": [
    "record_count = len(df_model_data)"
   ]
  },
  {
   "cell_type": "code",
   "execution_count": 69,
   "id": "20e5fbc1-3ee0-4e76-a3f1-1e3fdf9aed85",
   "metadata": {
    "tags": []
   },
   "outputs": [
    {
     "data": {
      "text/plain": [
       "41188"
      ]
     },
     "execution_count": 69,
     "metadata": {},
     "output_type": "execute_result"
    }
   ],
   "source": [
    "record_count"
   ]
  },
  {
   "cell_type": "markdown",
   "id": "15454a42-b7f1-4bf8-8fb5-71358819cf23",
   "metadata": {},
   "source": [
    "### Create a feature group\n",
    "Now is everything ready to create a feature group with the dataset schema."
   ]
  },
  {
   "cell_type": "code",
   "execution_count": 70,
   "id": "900eb526-ea42-4a09-85c4-883c6d6d6ba7",
   "metadata": {
    "tags": []
   },
   "outputs": [],
   "source": [
    "dataset_feature_group_name = f'{project}-{current_timestamp}'"
   ]
  },
  {
   "cell_type": "code",
   "execution_count": 71,
   "id": "ce75080b-c1c8-477c-8b07-76350de12ea1",
   "metadata": {
    "tags": []
   },
   "outputs": [
    {
     "name": "stdout",
     "output_type": "stream",
     "text": [
      "Stored 'dataset_feature_group_name' (str)\n"
     ]
    }
   ],
   "source": [
    "%store dataset_feature_group_name"
   ]
  },
  {
   "cell_type": "code",
   "execution_count": 72,
   "id": "791d46f8-f7dd-4799-b66d-c08f82b4b2eb",
   "metadata": {
    "tags": []
   },
   "outputs": [],
   "source": [
    "dataset_feature_group = FeatureGroup(name=dataset_feature_group_name, sagemaker_session=session)"
   ]
  },
  {
   "cell_type": "code",
   "execution_count": 73,
   "id": "40b09632-0ca0-4186-94f8-04d373926030",
   "metadata": {
    "tags": []
   },
   "outputs": [
    {
     "data": {
      "text/plain": [
       "[FeatureDefinition(feature_name='y', feature_type=<FeatureTypeEnum.INTEGRAL: 'Integral'>, collection_type=None),\n",
       " FeatureDefinition(feature_name='campaign', feature_type=<FeatureTypeEnum.FRACTIONAL: 'Fractional'>, collection_type=None),\n",
       " FeatureDefinition(feature_name='pdays', feature_type=<FeatureTypeEnum.FRACTIONAL: 'Fractional'>, collection_type=None),\n",
       " FeatureDefinition(feature_name='previous', feature_type=<FeatureTypeEnum.FRACTIONAL: 'Fractional'>, collection_type=None),\n",
       " FeatureDefinition(feature_name='no_previous_contact', feature_type=<FeatureTypeEnum.INTEGRAL: 'Integral'>, collection_type=None),\n",
       " FeatureDefinition(feature_name='not_working', feature_type=<FeatureTypeEnum.INTEGRAL: 'Integral'>, collection_type=None),\n",
       " FeatureDefinition(feature_name='age_18_29', feature_type=<FeatureTypeEnum.INTEGRAL: 'Integral'>, collection_type=None),\n",
       " FeatureDefinition(feature_name='age_30_39', feature_type=<FeatureTypeEnum.INTEGRAL: 'Integral'>, collection_type=None),\n",
       " FeatureDefinition(feature_name='age_40_49', feature_type=<FeatureTypeEnum.INTEGRAL: 'Integral'>, collection_type=None),\n",
       " FeatureDefinition(feature_name='age_50_59', feature_type=<FeatureTypeEnum.INTEGRAL: 'Integral'>, collection_type=None),\n",
       " FeatureDefinition(feature_name='age_60_69', feature_type=<FeatureTypeEnum.INTEGRAL: 'Integral'>, collection_type=None),\n",
       " FeatureDefinition(feature_name='age_70_plus', feature_type=<FeatureTypeEnum.INTEGRAL: 'Integral'>, collection_type=None),\n",
       " FeatureDefinition(feature_name='job_admin', feature_type=<FeatureTypeEnum.INTEGRAL: 'Integral'>, collection_type=None),\n",
       " FeatureDefinition(feature_name='job_blue_collar', feature_type=<FeatureTypeEnum.INTEGRAL: 'Integral'>, collection_type=None),\n",
       " FeatureDefinition(feature_name='job_entrepreneur', feature_type=<FeatureTypeEnum.INTEGRAL: 'Integral'>, collection_type=None),\n",
       " FeatureDefinition(feature_name='job_housemaid', feature_type=<FeatureTypeEnum.INTEGRAL: 'Integral'>, collection_type=None),\n",
       " FeatureDefinition(feature_name='job_management', feature_type=<FeatureTypeEnum.INTEGRAL: 'Integral'>, collection_type=None),\n",
       " FeatureDefinition(feature_name='job_retired', feature_type=<FeatureTypeEnum.INTEGRAL: 'Integral'>, collection_type=None),\n",
       " FeatureDefinition(feature_name='job_self_employed', feature_type=<FeatureTypeEnum.INTEGRAL: 'Integral'>, collection_type=None),\n",
       " FeatureDefinition(feature_name='job_services', feature_type=<FeatureTypeEnum.INTEGRAL: 'Integral'>, collection_type=None),\n",
       " FeatureDefinition(feature_name='job_student', feature_type=<FeatureTypeEnum.INTEGRAL: 'Integral'>, collection_type=None),\n",
       " FeatureDefinition(feature_name='job_technician', feature_type=<FeatureTypeEnum.INTEGRAL: 'Integral'>, collection_type=None),\n",
       " FeatureDefinition(feature_name='job_unemployed', feature_type=<FeatureTypeEnum.INTEGRAL: 'Integral'>, collection_type=None),\n",
       " FeatureDefinition(feature_name='job_unknown', feature_type=<FeatureTypeEnum.INTEGRAL: 'Integral'>, collection_type=None),\n",
       " FeatureDefinition(feature_name='marital_divorced', feature_type=<FeatureTypeEnum.INTEGRAL: 'Integral'>, collection_type=None),\n",
       " FeatureDefinition(feature_name='marital_married', feature_type=<FeatureTypeEnum.INTEGRAL: 'Integral'>, collection_type=None),\n",
       " FeatureDefinition(feature_name='marital_single', feature_type=<FeatureTypeEnum.INTEGRAL: 'Integral'>, collection_type=None),\n",
       " FeatureDefinition(feature_name='marital_unknown', feature_type=<FeatureTypeEnum.INTEGRAL: 'Integral'>, collection_type=None),\n",
       " FeatureDefinition(feature_name='education_basic_4y', feature_type=<FeatureTypeEnum.INTEGRAL: 'Integral'>, collection_type=None),\n",
       " FeatureDefinition(feature_name='education_basic_6y', feature_type=<FeatureTypeEnum.INTEGRAL: 'Integral'>, collection_type=None),\n",
       " FeatureDefinition(feature_name='education_basic_9y', feature_type=<FeatureTypeEnum.INTEGRAL: 'Integral'>, collection_type=None),\n",
       " FeatureDefinition(feature_name='education_high_school', feature_type=<FeatureTypeEnum.INTEGRAL: 'Integral'>, collection_type=None),\n",
       " FeatureDefinition(feature_name='education_illiterate', feature_type=<FeatureTypeEnum.INTEGRAL: 'Integral'>, collection_type=None),\n",
       " FeatureDefinition(feature_name='education_professional_course', feature_type=<FeatureTypeEnum.INTEGRAL: 'Integral'>, collection_type=None),\n",
       " FeatureDefinition(feature_name='education_university_degree', feature_type=<FeatureTypeEnum.INTEGRAL: 'Integral'>, collection_type=None),\n",
       " FeatureDefinition(feature_name='education_unknown', feature_type=<FeatureTypeEnum.INTEGRAL: 'Integral'>, collection_type=None),\n",
       " FeatureDefinition(feature_name='default_no', feature_type=<FeatureTypeEnum.INTEGRAL: 'Integral'>, collection_type=None),\n",
       " FeatureDefinition(feature_name='default_unknown', feature_type=<FeatureTypeEnum.INTEGRAL: 'Integral'>, collection_type=None),\n",
       " FeatureDefinition(feature_name='default_yes', feature_type=<FeatureTypeEnum.INTEGRAL: 'Integral'>, collection_type=None),\n",
       " FeatureDefinition(feature_name='housing_no', feature_type=<FeatureTypeEnum.INTEGRAL: 'Integral'>, collection_type=None),\n",
       " FeatureDefinition(feature_name='housing_unknown', feature_type=<FeatureTypeEnum.INTEGRAL: 'Integral'>, collection_type=None),\n",
       " FeatureDefinition(feature_name='housing_yes', feature_type=<FeatureTypeEnum.INTEGRAL: 'Integral'>, collection_type=None),\n",
       " FeatureDefinition(feature_name='loan_no', feature_type=<FeatureTypeEnum.INTEGRAL: 'Integral'>, collection_type=None),\n",
       " FeatureDefinition(feature_name='loan_unknown', feature_type=<FeatureTypeEnum.INTEGRAL: 'Integral'>, collection_type=None),\n",
       " FeatureDefinition(feature_name='loan_yes', feature_type=<FeatureTypeEnum.INTEGRAL: 'Integral'>, collection_type=None),\n",
       " FeatureDefinition(feature_name='contact_cellular', feature_type=<FeatureTypeEnum.INTEGRAL: 'Integral'>, collection_type=None),\n",
       " FeatureDefinition(feature_name='contact_telephone', feature_type=<FeatureTypeEnum.INTEGRAL: 'Integral'>, collection_type=None),\n",
       " FeatureDefinition(feature_name='month_apr', feature_type=<FeatureTypeEnum.INTEGRAL: 'Integral'>, collection_type=None),\n",
       " FeatureDefinition(feature_name='month_aug', feature_type=<FeatureTypeEnum.INTEGRAL: 'Integral'>, collection_type=None),\n",
       " FeatureDefinition(feature_name='month_dec', feature_type=<FeatureTypeEnum.INTEGRAL: 'Integral'>, collection_type=None),\n",
       " FeatureDefinition(feature_name='month_jul', feature_type=<FeatureTypeEnum.INTEGRAL: 'Integral'>, collection_type=None),\n",
       " FeatureDefinition(feature_name='month_jun', feature_type=<FeatureTypeEnum.INTEGRAL: 'Integral'>, collection_type=None),\n",
       " FeatureDefinition(feature_name='month_mar', feature_type=<FeatureTypeEnum.INTEGRAL: 'Integral'>, collection_type=None),\n",
       " FeatureDefinition(feature_name='month_may', feature_type=<FeatureTypeEnum.INTEGRAL: 'Integral'>, collection_type=None),\n",
       " FeatureDefinition(feature_name='month_nov', feature_type=<FeatureTypeEnum.INTEGRAL: 'Integral'>, collection_type=None),\n",
       " FeatureDefinition(feature_name='month_oct', feature_type=<FeatureTypeEnum.INTEGRAL: 'Integral'>, collection_type=None),\n",
       " FeatureDefinition(feature_name='month_sep', feature_type=<FeatureTypeEnum.INTEGRAL: 'Integral'>, collection_type=None),\n",
       " FeatureDefinition(feature_name='day_of_week_fri', feature_type=<FeatureTypeEnum.INTEGRAL: 'Integral'>, collection_type=None),\n",
       " FeatureDefinition(feature_name='day_of_week_mon', feature_type=<FeatureTypeEnum.INTEGRAL: 'Integral'>, collection_type=None),\n",
       " FeatureDefinition(feature_name='day_of_week_thu', feature_type=<FeatureTypeEnum.INTEGRAL: 'Integral'>, collection_type=None),\n",
       " FeatureDefinition(feature_name='day_of_week_tue', feature_type=<FeatureTypeEnum.INTEGRAL: 'Integral'>, collection_type=None),\n",
       " FeatureDefinition(feature_name='day_of_week_wed', feature_type=<FeatureTypeEnum.INTEGRAL: 'Integral'>, collection_type=None),\n",
       " FeatureDefinition(feature_name='poutcome_failure', feature_type=<FeatureTypeEnum.INTEGRAL: 'Integral'>, collection_type=None),\n",
       " FeatureDefinition(feature_name='poutcome_nonexistent', feature_type=<FeatureTypeEnum.INTEGRAL: 'Integral'>, collection_type=None),\n",
       " FeatureDefinition(feature_name='poutcome_success', feature_type=<FeatureTypeEnum.INTEGRAL: 'Integral'>, collection_type=None),\n",
       " FeatureDefinition(feature_name='event_time', feature_type=<FeatureTypeEnum.STRING: 'String'>, collection_type=None),\n",
       " FeatureDefinition(feature_name='record_id', feature_type=<FeatureTypeEnum.STRING: 'String'>, collection_type=None)]"
      ]
     },
     "execution_count": 73,
     "metadata": {},
     "output_type": "execute_result"
    }
   ],
   "source": [
    "# use the DataFrame to extract the feature group definitions\n",
    "dataset_feature_group.load_feature_definitions(data_frame=df_model_data)"
   ]
  },
  {
   "cell_type": "code",
   "execution_count": 74,
   "id": "453b4a61-4605-4618-a471-2c46298aa9b4",
   "metadata": {
    "tags": []
   },
   "outputs": [],
   "source": [
    "def wait_for_feature_group_creation_complete(feature_group):\n",
    "    status = feature_group.describe().get('FeatureGroupStatus')\n",
    "    print(f'Initial status: {status}')\n",
    "    while status == 'Creating':\n",
    "        print(f'Waiting for feature group: {feature_group.name} to be created ...')\n",
    "        time.sleep(5)\n",
    "        status = feature_group.describe().get('FeatureGroupStatus')\n",
    "    if status != 'Created':\n",
    "        raise SystemExit(f'Failed to create feature group {feature_group.name}: {status}')\n",
    "    print(f'FeatureGroup {feature_group.name} was successfully created.')"
   ]
  },
  {
   "cell_type": "code",
   "execution_count": 75,
   "id": "573280f8-6a7f-430e-a037-162db0d80694",
   "metadata": {
    "tags": []
   },
   "outputs": [
    {
     "data": {
      "text/plain": [
       "{'FeatureGroupArn': 'arn:aws:sagemaker:us-east-1:398333718380:feature-group/from-idea-to-prod-23-08-19-42',\n",
       " 'ResponseMetadata': {'RequestId': '53897f8e-bcf2-4b45-885f-9054a860a30a',\n",
       "  'HTTPStatusCode': 200,\n",
       "  'HTTPHeaders': {'x-amzn-requestid': '53897f8e-bcf2-4b45-885f-9054a860a30a',\n",
       "   'content-type': 'application/x-amz-json-1.1',\n",
       "   'content-length': '106',\n",
       "   'date': 'Tue, 23 Jul 2024 08:19:50 GMT'},\n",
       "  'RetryAttempts': 0}}"
      ]
     },
     "execution_count": 75,
     "metadata": {},
     "output_type": "execute_result"
    }
   ],
   "source": [
    "dataset_feature_group.create(\n",
    "    s3_uri=f's3://{bucket_name}/{feature_store_bucket_prefix}', \n",
    "    record_identifier_name='record_id', \n",
    "    event_time_feature_name='event_time', \n",
    "    role_arn=sm_role, \n",
    "    enable_online_store=False,\n",
    "    table_format=TableFormatEnum.ICEBERG \n",
    ")"
   ]
  },
  {
   "cell_type": "markdown",
   "id": "dfc59c18-db14-4563-9578-a1bec1161039",
   "metadata": {},
   "source": [
    "<div style=\"border: 4px solid coral; text-align: center; margin: auto;\">\n",
    "Wait until the feature group is created and ready for use. It takes less then a minute.\n",
    "</div>"
   ]
  },
  {
   "cell_type": "code",
   "execution_count": 76,
   "id": "baa4ac82-e982-4f74-917c-25b78292a587",
   "metadata": {
    "tags": []
   },
   "outputs": [
    {
     "name": "stdout",
     "output_type": "stream",
     "text": [
      "Initial status: Creating\n",
      "Waiting for feature group: from-idea-to-prod-23-08-19-42 to be created ...\n",
      "Waiting for feature group: from-idea-to-prod-23-08-19-42 to be created ...\n",
      "Waiting for feature group: from-idea-to-prod-23-08-19-42 to be created ...\n",
      "Waiting for feature group: from-idea-to-prod-23-08-19-42 to be created ...\n",
      "Waiting for feature group: from-idea-to-prod-23-08-19-42 to be created ...\n",
      "FeatureGroup from-idea-to-prod-23-08-19-42 was successfully created.\n"
     ]
    }
   ],
   "source": [
    "wait_for_feature_group_creation_complete(dataset_feature_group)"
   ]
  },
  {
   "cell_type": "markdown",
   "id": "997639b9-26bb-40a0-bf92-9d38e344932e",
   "metadata": {},
   "source": [
    "If you run this workshop in your own account or in any account not provisioned via an AWS-led event, you might have issues with creation of a feature group because of permission setup. Follow this [feature group creation troubleshooting guide](https://repost.aws/knowledge-center/sagemaker-featuregroup-troubleshooting). Permission issues are most often connected to missing LakeFormation permissions for the SageMaker execution role. You need to grant access rights to the database `sagemaker_featurestore` to the SageMaker execution role."
   ]
  },
  {
   "cell_type": "code",
   "execution_count": 77,
   "id": "64184cff-44ed-49a4-8364-ffc755e6b01c",
   "metadata": {
    "tags": []
   },
   "outputs": [
    {
     "data": {
      "text/plain": [
       "{'FeatureGroupArn': 'arn:aws:sagemaker:us-east-1:398333718380:feature-group/from-idea-to-prod-23-08-19-42',\n",
       " 'FeatureGroupName': 'from-idea-to-prod-23-08-19-42',\n",
       " 'RecordIdentifierFeatureName': 'record_id',\n",
       " 'EventTimeFeatureName': 'event_time',\n",
       " 'FeatureDefinitions': [{'FeatureName': 'y', 'FeatureType': 'Integral'},\n",
       "  {'FeatureName': 'campaign', 'FeatureType': 'Fractional'},\n",
       "  {'FeatureName': 'pdays', 'FeatureType': 'Fractional'},\n",
       "  {'FeatureName': 'previous', 'FeatureType': 'Fractional'},\n",
       "  {'FeatureName': 'no_previous_contact', 'FeatureType': 'Integral'},\n",
       "  {'FeatureName': 'not_working', 'FeatureType': 'Integral'},\n",
       "  {'FeatureName': 'age_18_29', 'FeatureType': 'Integral'},\n",
       "  {'FeatureName': 'age_30_39', 'FeatureType': 'Integral'},\n",
       "  {'FeatureName': 'age_40_49', 'FeatureType': 'Integral'},\n",
       "  {'FeatureName': 'age_50_59', 'FeatureType': 'Integral'},\n",
       "  {'FeatureName': 'age_60_69', 'FeatureType': 'Integral'},\n",
       "  {'FeatureName': 'age_70_plus', 'FeatureType': 'Integral'},\n",
       "  {'FeatureName': 'job_admin', 'FeatureType': 'Integral'},\n",
       "  {'FeatureName': 'job_blue_collar', 'FeatureType': 'Integral'},\n",
       "  {'FeatureName': 'job_entrepreneur', 'FeatureType': 'Integral'},\n",
       "  {'FeatureName': 'job_housemaid', 'FeatureType': 'Integral'},\n",
       "  {'FeatureName': 'job_management', 'FeatureType': 'Integral'},\n",
       "  {'FeatureName': 'job_retired', 'FeatureType': 'Integral'},\n",
       "  {'FeatureName': 'job_self_employed', 'FeatureType': 'Integral'},\n",
       "  {'FeatureName': 'job_services', 'FeatureType': 'Integral'},\n",
       "  {'FeatureName': 'job_student', 'FeatureType': 'Integral'},\n",
       "  {'FeatureName': 'job_technician', 'FeatureType': 'Integral'},\n",
       "  {'FeatureName': 'job_unemployed', 'FeatureType': 'Integral'},\n",
       "  {'FeatureName': 'job_unknown', 'FeatureType': 'Integral'},\n",
       "  {'FeatureName': 'marital_divorced', 'FeatureType': 'Integral'},\n",
       "  {'FeatureName': 'marital_married', 'FeatureType': 'Integral'},\n",
       "  {'FeatureName': 'marital_single', 'FeatureType': 'Integral'},\n",
       "  {'FeatureName': 'marital_unknown', 'FeatureType': 'Integral'},\n",
       "  {'FeatureName': 'education_basic_4y', 'FeatureType': 'Integral'},\n",
       "  {'FeatureName': 'education_basic_6y', 'FeatureType': 'Integral'},\n",
       "  {'FeatureName': 'education_basic_9y', 'FeatureType': 'Integral'},\n",
       "  {'FeatureName': 'education_high_school', 'FeatureType': 'Integral'},\n",
       "  {'FeatureName': 'education_illiterate', 'FeatureType': 'Integral'},\n",
       "  {'FeatureName': 'education_professional_course', 'FeatureType': 'Integral'},\n",
       "  {'FeatureName': 'education_university_degree', 'FeatureType': 'Integral'},\n",
       "  {'FeatureName': 'education_unknown', 'FeatureType': 'Integral'},\n",
       "  {'FeatureName': 'default_no', 'FeatureType': 'Integral'},\n",
       "  {'FeatureName': 'default_unknown', 'FeatureType': 'Integral'},\n",
       "  {'FeatureName': 'default_yes', 'FeatureType': 'Integral'},\n",
       "  {'FeatureName': 'housing_no', 'FeatureType': 'Integral'},\n",
       "  {'FeatureName': 'housing_unknown', 'FeatureType': 'Integral'},\n",
       "  {'FeatureName': 'housing_yes', 'FeatureType': 'Integral'},\n",
       "  {'FeatureName': 'loan_no', 'FeatureType': 'Integral'},\n",
       "  {'FeatureName': 'loan_unknown', 'FeatureType': 'Integral'},\n",
       "  {'FeatureName': 'loan_yes', 'FeatureType': 'Integral'},\n",
       "  {'FeatureName': 'contact_cellular', 'FeatureType': 'Integral'},\n",
       "  {'FeatureName': 'contact_telephone', 'FeatureType': 'Integral'},\n",
       "  {'FeatureName': 'month_apr', 'FeatureType': 'Integral'},\n",
       "  {'FeatureName': 'month_aug', 'FeatureType': 'Integral'},\n",
       "  {'FeatureName': 'month_dec', 'FeatureType': 'Integral'},\n",
       "  {'FeatureName': 'month_jul', 'FeatureType': 'Integral'},\n",
       "  {'FeatureName': 'month_jun', 'FeatureType': 'Integral'},\n",
       "  {'FeatureName': 'month_mar', 'FeatureType': 'Integral'},\n",
       "  {'FeatureName': 'month_may', 'FeatureType': 'Integral'},\n",
       "  {'FeatureName': 'month_nov', 'FeatureType': 'Integral'},\n",
       "  {'FeatureName': 'month_oct', 'FeatureType': 'Integral'},\n",
       "  {'FeatureName': 'month_sep', 'FeatureType': 'Integral'},\n",
       "  {'FeatureName': 'day_of_week_fri', 'FeatureType': 'Integral'},\n",
       "  {'FeatureName': 'day_of_week_mon', 'FeatureType': 'Integral'},\n",
       "  {'FeatureName': 'day_of_week_thu', 'FeatureType': 'Integral'},\n",
       "  {'FeatureName': 'day_of_week_tue', 'FeatureType': 'Integral'},\n",
       "  {'FeatureName': 'day_of_week_wed', 'FeatureType': 'Integral'},\n",
       "  {'FeatureName': 'poutcome_failure', 'FeatureType': 'Integral'},\n",
       "  {'FeatureName': 'poutcome_nonexistent', 'FeatureType': 'Integral'},\n",
       "  {'FeatureName': 'poutcome_success', 'FeatureType': 'Integral'},\n",
       "  {'FeatureName': 'event_time', 'FeatureType': 'String'},\n",
       "  {'FeatureName': 'record_id', 'FeatureType': 'String'}],\n",
       " 'CreationTime': datetime.datetime(2024, 7, 23, 8, 19, 50, 784000, tzinfo=tzlocal()),\n",
       " 'OfflineStoreConfig': {'S3StorageConfig': {'S3Uri': 's3://sagemaker-us-east-1-398333718380/from-idea-to-prod/feature-store',\n",
       "   'ResolvedOutputS3Uri': 's3://sagemaker-us-east-1-398333718380/from-idea-to-prod/feature-store/398333718380/sagemaker/us-east-1/offline-store/from-idea-to-prod-23-08-19-42-1721722790/data'},\n",
       "  'DisableGlueTableCreation': False,\n",
       "  'DataCatalogConfig': {'TableName': 'from_idea_to_prod_23_08_19_42_1721722790',\n",
       "   'Catalog': 'AwsDataCatalog',\n",
       "   'Database': 'SageMaker_FeatureStore'},\n",
       "  'TableFormat': 'Iceberg'},\n",
       " 'ThroughputConfig': {'ThroughputMode': 'OnDemand'},\n",
       " 'RoleArn': 'arn:aws:iam::398333718380:role/cfnstudiodomain-SageMakerExecutionRole-8XQVuLUFsn6g',\n",
       " 'FeatureGroupStatus': 'Created',\n",
       " 'ResponseMetadata': {'RequestId': 'f996960f-fb42-4466-a643-4ca1740a5c77',\n",
       "  'HTTPStatusCode': 200,\n",
       "  'HTTPHeaders': {'x-amzn-requestid': 'f996960f-fb42-4466-a643-4ca1740a5c77',\n",
       "   'content-type': 'application/x-amz-json-1.1',\n",
       "   'content-length': '5172',\n",
       "   'date': 'Tue, 23 Jul 2024 08:22:37 GMT'},\n",
       "  'RetryAttempts': 0}}"
      ]
     },
     "execution_count": 77,
     "metadata": {},
     "output_type": "execute_result"
    }
   ],
   "source": [
    "dataset_feature_group.describe()"
   ]
  },
  {
   "cell_type": "markdown",
   "id": "a383fb27-7132-4439-bab4-b805be36d3c7",
   "metadata": {},
   "source": [
    "The feature group is ready for use. Now you need to ingest data into it."
   ]
  },
  {
   "cell_type": "markdown",
   "id": "26346cd4-47fe-4129-ac28-de16a30175fb",
   "metadata": {},
   "source": [
    "### Ingest data into the feature group via a SageMaker pipeline\n",
    "Same as in the previous section you're going to use [`@step`](https://docs.aws.amazon.com/sagemaker/latest/dg/pipelines-step-decorator-create-pipeline.html) decorator to create a feature ingestion pipeline.\n",
    "\n",
    "Compile all previous feature transformation and ingestion code into a remote function. You use the Python SDK [`FeatureGroup.ingest()`](https://sagemaker.readthedocs.io/en/stable/api/prep_data/feature_store.html#sagemaker.feature_store.feature_group.FeatureGroup.ingest) method to ingest the content of a pandas DataFrame to a feature group."
   ]
  },
  {
   "cell_type": "code",
   "execution_count": 78,
   "id": "9cef1bb5-eae3-4066-b0f1-8968ba795ffa",
   "metadata": {
    "tags": []
   },
   "outputs": [],
   "source": [
    "@step(name=f'{project}-fs-ingest')\n",
    "def process_and_ingest(\n",
    "    input_s3_url,\n",
    "    feature_group_name,\n",
    "):\n",
    "    from sagemaker.feature_store.feature_group import FeatureGroup\n",
    "    import numpy as np\n",
    "    import pandas as pd\n",
    "    from sklearn.preprocessing import MinMaxScaler\n",
    "    from datetime import datetime, timezone, date\n",
    "\n",
    "    def generate_event_timestamp():\n",
    "        # naive datetime representing local time\n",
    "        naive_dt = datetime.now()\n",
    "        # take timezone into account\n",
    "        aware_dt = naive_dt.astimezone()\n",
    "        # time in UTC\n",
    "        utc_dt = aware_dt.astimezone(timezone.utc)\n",
    "        # transform to ISO-8601 format\n",
    "        event_time = utc_dt.isoformat(timespec='milliseconds')\n",
    "        event_time = event_time.replace('+00:00', 'Z')\n",
    "        return event_time\n",
    "    \n",
    "    def convert_col_name(c):\n",
    "        return c.replace('.', '_').replace('-', '_').rstrip('_')\n",
    "        \n",
    "    # Download data from S3\n",
    "    df_data = pd.read_csv(input_s3_url, sep=\";\")\n",
    "    \n",
    "    target_col = \"y\"\n",
    "    \n",
    "    # Indicator variable to capture when pdays takes a value of 999\n",
    "    df_data[\"no_previous_contact\"] = np.where(df_data[\"pdays\"] == 999, 1, 0)\n",
    "\n",
    "    # Indicator for individuals not actively employed\n",
    "    df_data[\"not_working\"] = np.where(\n",
    "        np.in1d(df_data[\"job\"], [\"student\", \"retired\", \"unemployed\"]), 1, 0\n",
    "    )\n",
    "\n",
    "    # remove unnecessary data\n",
    "    df_model_data = df_data.drop(\n",
    "        [\"duration\", \"emp.var.rate\", \"cons.price.idx\", \"cons.conf.idx\", \"euribor3m\", \"nr.employed\"],\n",
    "        axis=1,\n",
    "    )\n",
    "\n",
    "    bins = [18, 30, 40, 50, 60, 70, 90]\n",
    "    labels = ['18-29', '30-39', '40-49', '50-59', '60-69', '70-plus']\n",
    "\n",
    "    df_model_data['age_range'] = pd.cut(df_model_data.age, bins, labels=labels, include_lowest=True)\n",
    "    df_model_data = pd.concat([df_model_data, pd.get_dummies(df_model_data['age_range'], prefix='age', dtype=int)], axis=1)\n",
    "    df_model_data.drop('age', axis=1, inplace=True)\n",
    "    df_model_data.drop('age_range', axis=1, inplace=True)\n",
    "\n",
    "    scaled_features = ['pdays', 'previous', 'campaign']\n",
    "    df_model_data[scaled_features] = MinMaxScaler().fit_transform(df_model_data[scaled_features])\n",
    "\n",
    "    df_model_data = pd.get_dummies(df_model_data, dtype=int)  # Convert categorical variables to sets of indicators\n",
    "\n",
    "    # Replace \"y_no\" and \"y_yes\" with a single label column, and bring it to the front:\n",
    "    df_model_data = pd.concat(\n",
    "        [\n",
    "            df_model_data[\"y_yes\"].rename(target_col),\n",
    "            df_model_data.drop([\"y_no\", \"y_yes\"], axis=1),\n",
    "        ],\n",
    "        axis=1,\n",
    "    )\n",
    "    \n",
    "    df_model_data['event_time'] = generate_event_timestamp()\n",
    "    df_model_data['record_id'] = [f'R{i}' for i in range(len(df_model_data))]\n",
    "    \n",
    "    df_model_data = df_model_data.rename(columns=convert_col_name)\n",
    "    \n",
    "    df_model_data = df_model_data.convert_dtypes(infer_objects=True, convert_boolean=False)\n",
    "    df_model_data['record_id'] = df_model_data['record_id'].astype('string')\n",
    "    df_model_data['event_time'] = df_model_data['event_time'].astype('string')\n",
    "    \n",
    "    # Ingest data into the feature group\n",
    "    dataset_feature_group = FeatureGroup(name=feature_group_name, sagemaker_session=sagemaker.Session())\n",
    "    \n",
    "    print(f'Ingesting data into feature group: {dataset_feature_group.name} ...')\n",
    "    dataset_feature_group.ingest(data_frame=df_model_data, max_processes=4, wait=True)\n",
    "    print(f'{len(df_model_data)} customer records ingested into feature group: {dataset_feature_group.name}')\n",
    "    \n",
    "    return dataset_feature_group.describe()['FeatureGroupArn']"
   ]
  },
  {
   "cell_type": "code",
   "execution_count": 79,
   "id": "be39ac38-52d6-4b92-b26b-f8d5e0491000",
   "metadata": {
    "tags": []
   },
   "outputs": [],
   "source": [
    "# Create parameters for the feature store ingestion pipeline\n",
    "input_s3_url_param = ParameterString(\n",
    "    name=\"InputDataUrl\",\n",
    "    default_value=input_s3_url,\n",
    ")\n",
    "\n",
    "feature_group_name_param = ParameterString(\n",
    "    name=\"FeatureGroupName\",\n",
    "    default_value=dataset_feature_group.describe()['FeatureGroupArn'],\n",
    ")"
   ]
  },
  {
   "cell_type": "code",
   "execution_count": 80,
   "id": "518070fc-fdeb-42f2-9f22-586eeef57163",
   "metadata": {
    "tags": []
   },
   "outputs": [],
   "source": [
    "# Create a pipeline with an ingest step\n",
    "pipeline_fs_ingest = Pipeline(\n",
    "    name=f\"{pipeline_name}-fs-ingest\",\n",
    "    parameters=[\n",
    "        input_s3_url_param,\n",
    "        feature_group_name_param\n",
    "    ],\n",
    "    steps=[\n",
    "        process_and_ingest(\n",
    "            input_s3_url=input_s3_url_param,\n",
    "            feature_group_name=feature_group_name_param,\n",
    "        )\n",
    "    ]\n",
    ")"
   ]
  },
  {
   "cell_type": "code",
   "execution_count": 81,
   "id": "785d6603-9308-4ed7-883d-ac86fb05255d",
   "metadata": {
    "tags": []
   },
   "outputs": [
    {
     "name": "stdout",
     "output_type": "stream",
     "text": [
      "sagemaker.config INFO - Applied value from config key = SageMaker.PythonSDK.Modules.RemoteFunction.Dependencies\n",
      "sagemaker.config INFO - Applied value from config key = SageMaker.PythonSDK.Modules.RemoteFunction.IncludeLocalWorkDir\n",
      "sagemaker.config INFO - Applied value from config key = SageMaker.PythonSDK.Modules.RemoteFunction.CustomFileFilter.IgnoreNamePatterns\n",
      "sagemaker.config INFO - Applied value from config key = SageMaker.PythonSDK.Modules.RemoteFunction.InstanceType\n"
     ]
    },
    {
     "name": "stderr",
     "output_type": "stream",
     "text": [
      "2024-07-23 08:22:45,566 sagemaker.remote_function INFO     Uploading serialized function code to s3://sagemaker-us-east-1-398333718380/from-idea-to-prod-pipeline-23-07-51-02-fs-ingest/from-idea-to-prod-fs-ingest/2024-07-23-08-22-42-844/function\n",
      "2024-07-23 08:22:45,636 sagemaker.remote_function INFO     Uploading serialized function arguments to s3://sagemaker-us-east-1-398333718380/from-idea-to-prod-pipeline-23-07-51-02-fs-ingest/from-idea-to-prod-fs-ingest/2024-07-23-08-22-42-844/arguments\n",
      "2024-07-23 08:22:45,825 sagemaker.remote_function INFO     Copied dependencies file at './requirements.txt' to '/tmp/tmp8x7l1sbu/requirements.txt'\n",
      "2024-07-23 08:22:45,851 sagemaker.remote_function INFO     Successfully uploaded dependencies and pre execution scripts to 's3://sagemaker-us-east-1-398333718380/from-idea-to-prod-pipeline-23-07-51-02-fs-ingest/from-idea-to-prod-fs-ingest/2024-07-23-08-22-42-844/pre_exec_script_and_dependencies'\n",
      "2024-07-23 08:22:45,914 sagemaker.remote_function INFO     Copied user workspace to '/tmp/tmpb7wslo3b/temp_workspace/sagemaker_remote_function_workspace'\n",
      "2024-07-23 08:22:48,280 sagemaker.remote_function INFO     Successfully created workdir archive at '/tmp/tmpb7wslo3b/workspace.zip'\n",
      "2024-07-23 08:22:49,065 sagemaker.remote_function INFO     Successfully uploaded workdir to 's3://sagemaker-us-east-1-398333718380/from-idea-to-prod-pipeline-23-07-51-02-fs-ingest/sm_rf_user_ws/2024-07-23-08-22-42-844/workspace.zip'\n",
      "WARNING:sagemaker.workflow.utilities:Popping out 'TrainingJobName' from the pipeline definition by default since it will be overridden at pipeline execution time. Please utilize the PipelineDefinitionConfig to persist this field in the pipeline definition if desired.\n"
     ]
    },
    {
     "data": {
      "text/plain": [
       "{'PipelineArn': 'arn:aws:sagemaker:us-east-1:398333718380:pipeline/from-idea-to-prod-pipeline-23-07-51-02-fs-ingest',\n",
       " 'ResponseMetadata': {'RequestId': 'ea487fc1-28f3-4c9d-8534-6d33d3cf2830',\n",
       "  'HTTPStatusCode': 200,\n",
       "  'HTTPHeaders': {'x-amzn-requestid': 'ea487fc1-28f3-4c9d-8534-6d33d3cf2830',\n",
       "   'content-type': 'application/x-amz-json-1.1',\n",
       "   'content-length': '116',\n",
       "   'date': 'Tue, 23 Jul 2024 08:22:48 GMT'},\n",
       "  'RetryAttempts': 0}}"
      ]
     },
     "execution_count": 81,
     "metadata": {},
     "output_type": "execute_result"
    }
   ],
   "source": [
    "pipeline_fs_ingest.upsert(role_arn=sm_role)"
   ]
  },
  {
   "attachments": {},
   "cell_type": "markdown",
   "id": "07d8388d-e51e-46bb-bc69-043da7ed84f5",
   "metadata": {},
   "source": [
    "Here is your ingestion pipeline consisting of one step. In your real-world projects you can add data quality check and metadata update steps:\n",
    "\n",
    "![](img/fs-ingest-pipeline.png)"
   ]
  },
  {
   "cell_type": "code",
   "execution_count": 82,
   "id": "a8e9e71b-2f80-4d81-800b-3fd122a6c9e5",
   "metadata": {
    "tags": []
   },
   "outputs": [],
   "source": [
    "execution_fs_ingest = pipeline_fs_ingest.start()"
   ]
  },
  {
   "cell_type": "code",
   "execution_count": 83,
   "id": "65b16f27-5591-47b3-b7a9-11de8c829ce0",
   "metadata": {
    "tags": []
   },
   "outputs": [
    {
     "data": {
      "text/plain": [
       "{'PipelineArn': 'arn:aws:sagemaker:us-east-1:398333718380:pipeline/from-idea-to-prod-pipeline-23-07-51-02-fs-ingest',\n",
       " 'PipelineExecutionArn': 'arn:aws:sagemaker:us-east-1:398333718380:pipeline/from-idea-to-prod-pipeline-23-07-51-02-fs-ingest/execution/ct7dpqaasgoi',\n",
       " 'PipelineExecutionDisplayName': 'execution-1721722969662',\n",
       " 'PipelineExecutionStatus': 'Executing',\n",
       " 'CreationTime': datetime.datetime(2024, 7, 23, 8, 22, 49, 598000, tzinfo=tzlocal()),\n",
       " 'LastModifiedTime': datetime.datetime(2024, 7, 23, 8, 22, 49, 598000, tzinfo=tzlocal()),\n",
       " 'CreatedBy': {'UserProfileArn': 'arn:aws:sagemaker:us-east-1:398333718380:user-profile/d-wxmppmljqkj5/studio-user-e44b6ca0',\n",
       "  'UserProfileName': 'studio-user-e44b6ca0',\n",
       "  'DomainId': 'd-wxmppmljqkj5',\n",
       "  'IamIdentity': {'Arn': 'arn:aws:sts::398333718380:assumed-role/cfnstudiodomain-SageMakerExecutionRole-8XQVuLUFsn6g/SageMaker',\n",
       "   'PrincipalId': 'AROAVZPUKF5WKKEP4HOKD:SageMaker'}},\n",
       " 'LastModifiedBy': {'UserProfileArn': 'arn:aws:sagemaker:us-east-1:398333718380:user-profile/d-wxmppmljqkj5/studio-user-e44b6ca0',\n",
       "  'UserProfileName': 'studio-user-e44b6ca0',\n",
       "  'DomainId': 'd-wxmppmljqkj5',\n",
       "  'IamIdentity': {'Arn': 'arn:aws:sts::398333718380:assumed-role/cfnstudiodomain-SageMakerExecutionRole-8XQVuLUFsn6g/SageMaker',\n",
       "   'PrincipalId': 'AROAVZPUKF5WKKEP4HOKD:SageMaker'}},\n",
       " 'ResponseMetadata': {'RequestId': '7760cc74-69fa-454b-b0d3-454c0f84d3f0',\n",
       "  'HTTPStatusCode': 200,\n",
       "  'HTTPHeaders': {'x-amzn-requestid': '7760cc74-69fa-454b-b0d3-454c0f84d3f0',\n",
       "   'content-type': 'application/x-amz-json-1.1',\n",
       "   'content-length': '1161',\n",
       "   'date': 'Tue, 23 Jul 2024 08:22:49 GMT'},\n",
       "  'RetryAttempts': 0}}"
      ]
     },
     "execution_count": 83,
     "metadata": {},
     "output_type": "execute_result"
    }
   ],
   "source": [
    "execution_fs_ingest.describe()"
   ]
  },
  {
   "cell_type": "markdown",
   "id": "01d84bb8-c4b3-44a6-864d-785b099ccf63",
   "metadata": {},
   "source": [
    "<div class=\"alert alert-info\">You need to wait until the pipeline completes and ingested features into the feature group. The execution takes about 5 minuntes.</div>"
   ]
  },
  {
   "cell_type": "code",
   "execution_count": 84,
   "id": "01456d7c-8b70-45ae-95fa-223347d238c2",
   "metadata": {
    "tags": []
   },
   "outputs": [
    {
     "data": {
      "text/plain": [
       "[{'StepName': 'from-idea-to-prod-fs-ingest',\n",
       "  'StartTime': datetime.datetime(2024, 7, 23, 8, 22, 50, 668000, tzinfo=tzlocal()),\n",
       "  'EndTime': datetime.datetime(2024, 7, 23, 8, 28, 4, 808000, tzinfo=tzlocal()),\n",
       "  'StepStatus': 'Succeeded',\n",
       "  'Metadata': {'TrainingJob': {'Arn': 'arn:aws:sagemaker:us-east-1:398333718380:training-job/pipelines-ct7dpqaasgoi-from-idea-to-prod-fs-JI9MpOy0kE'}},\n",
       "  'AttemptCount': 1}]"
      ]
     },
     "execution_count": 84,
     "metadata": {},
     "output_type": "execute_result"
    }
   ],
   "source": [
    "# You need to wait until the feature ingestion pipeline execution completes\n",
    "execution_fs_ingest.wait()\n",
    "execution_fs_ingest.list_steps()"
   ]
  },
  {
   "cell_type": "code",
   "execution_count": 85,
   "id": "7676a276-4aaf-4ef2-a18f-1a44fdb8bb7e",
   "metadata": {
    "tags": []
   },
   "outputs": [],
   "source": [
    "assert execution_fs_ingest.list_steps()[0]['StepStatus'] == 'Succeeded', 'Ingestion pipepline execution status must be Succeeded!'"
   ]
  },
  {
   "cell_type": "markdown",
   "id": "d8c8202e-12e7-4933-bf8a-bbabeb584e18",
   "metadata": {},
   "source": [
    "### Feature Store in the Studio UI\n",
    "You can explore feature store and feature groups in the Studio UI. Navigate to **Data** > **Feature Store**:\n",
    "\n",
    "![](img/feature-store-studio-ui.png)\n",
    "\n",
    "In the UI you can explore features, feature group metadata, see sample queries, and associated pipeline executions."
   ]
  },
  {
   "cell_type": "markdown",
   "id": "3dd1cba0-e18d-4833-87de-dd24dfe95386",
   "metadata": {},
   "source": [
    "### Retrieve ingested features from the feature group\n",
    "\n",
    "There are many approaches to extract features from the offline feature store. For example, you can use [Amazon Athena query](https://docs.aws.amazon.com/sagemaker/latest/dg/feature-store-create-a-dataset.html#feature-store-athena-sample-queries) to query and join data stored in the offline store, or you can use [Offline Store Python SDK](https://docs.aws.amazon.com/sagemaker/latest/dg/feature-store-create-a-dataset.html#feature-store-dataset-python-sdk). You're going to use Python SDK to extract features and create a dataset for the model building pipeline.\n",
    "\n",
    "<div style=\"border: 4px solid coral; text-align: center; margin: auto;\">\n",
    "    <p style=\" text-align: center; margin: auto;\">Ingestion to the offline store is buffered and it takes up to 15 minutes for data to appear in the feature group. After features are ingested and available in the offline store, you can query them and create datasets for model training and scoring.\n",
    "    </p>\n",
    "</div>\n"
   ]
  },
  {
   "cell_type": "code",
   "execution_count": 86,
   "id": "e2ce438a-b1bf-47b4-82aa-5ebfb604244b",
   "metadata": {
    "tags": []
   },
   "outputs": [],
   "source": [
    "sagemaker_client = boto3.client('sagemaker')\n",
    "output_location = f's3://{bucket_name}/{feature_store_bucket_prefix}/offline-store/query_results/'"
   ]
  },
  {
   "cell_type": "code",
   "execution_count": 87,
   "id": "685accaa-3679-4e40-95b1-4263826e108d",
   "metadata": {
    "tags": []
   },
   "outputs": [],
   "source": [
    "def get_historical_record_count(fg):\n",
    "    fs_query = dataset_feature_group.athena_query()\n",
    "    query_string = f'SELECT COUNT(*) FROM \"' + fs_query.table_name + f'\"'\n",
    "    output_location =  f's3://{bucket_name}/{feature_store_bucket_prefix}/offline-store/query_results/'\n",
    "\n",
    "    fs_query.run(query_string=query_string, output_location=output_location)\n",
    "    fs_query.wait()\n",
    "    fs_df = fs_query.as_dataframe()\n",
    "    \n",
    "    return fs_df.iat[0, 0]"
   ]
  },
  {
   "cell_type": "markdown",
   "id": "045f9b69-79bf-4056-bea4-afbb0ab88f77",
   "metadata": {},
   "source": [
    "<div class=\"alert alert-info\">The next code cell waits until features appeared in the offline store. It might take up to 15 minutes. If you have already ingested features before, the cell will exit after the first query.</div>"
   ]
  },
  {
   "cell_type": "code",
   "execution_count": 88,
   "id": "295ef2b7-dbb8-4078-aa37-c0c46831a9db",
   "metadata": {
    "tags": []
   },
   "outputs": [
    {
     "name": "stderr",
     "output_type": "stream",
     "text": [
      "INFO:sagemaker:Query cd392516-f5d6-419a-a6fe-30e31b656274 is being executed.\n",
      "INFO:sagemaker:Query cd392516-f5d6-419a-a6fe-30e31b656274 successfully executed.\n"
     ]
    },
    {
     "name": "stdout",
     "output_type": "stream",
     "text": [
      "Total number of historical record in the from-idea-to-prod-23-08-19-42: 41188\n",
      "[41188 feature records are available in offline store for from-idea-to-prod-23-08-19-42 feature group]\n"
     ]
    }
   ],
   "source": [
    "# Before accessing the feature data you need to check if the offline feature store was populated\n",
    "offline_store_contents = None\n",
    "while offline_store_contents is None:    \n",
    "    fs_record_count = get_historical_record_count(dataset_feature_group)\n",
    "    print(f\"Total number of historical record in the {dataset_feature_group.name}: {fs_record_count}\")\n",
    "\n",
    "    if fs_record_count >= record_count:\n",
    "        print(f'[{fs_record_count} feature records are available in offline store for {dataset_feature_group.name} feature group]')\n",
    "        offline_store_contents = fs_record_count\n",
    "    else:\n",
    "        print('[Waiting for data arrives in offline store ...]')\n",
    "        time.sleep(60)"
   ]
  },
  {
   "cell_type": "markdown",
   "id": "153ad7d5-d1fc-4c6b-9dce-fdf8407b05ec",
   "metadata": {},
   "source": [
    "#### Use the Amazon SageMaker Python SDK (DatasetBuilder) to query the feature store\n",
    "This section demonstrates how to use [`DatasetBuilder`](https://sagemaker.readthedocs.io/en/stable/api/prep_data/feature_store.html#sagemaker.feature_store.dataset_builder.DatasetBuilder) to get data from feature groups. Refer to the [Developer Guide](https://docs.aws.amazon.com/sagemaker/latest/dg/feature-store-create-a-dataset.html) for detailed examples."
   ]
  },
  {
   "cell_type": "code",
   "execution_count": 89,
   "id": "b2c0f0ab-1f41-40e8-9292-02d8a7137694",
   "metadata": {
    "tags": []
   },
   "outputs": [],
   "source": [
    "from sagemaker.feature_store.feature_store import FeatureStore"
   ]
  },
  {
   "cell_type": "code",
   "execution_count": 90,
   "id": "aa8f54a5-7d0a-4a62-875b-1f2a84723eb6",
   "metadata": {
    "tags": []
   },
   "outputs": [],
   "source": [
    "region = boto3.Session().region_name\n",
    "boto_session = boto3.Session(region_name=region)\n",
    "\n",
    "s3_client = boto3.client('s3', region_name=region)\n",
    "sagemaker_client = boto_session.client(service_name=\"sagemaker\", region_name=region)\n",
    "featurestore_runtime = boto_session.client(service_name=\"sagemaker-featurestore-runtime\",region_name=region)"
   ]
  },
  {
   "cell_type": "code",
   "execution_count": 91,
   "id": "6ad74743-b383-4706-bc6c-75b9004beb7f",
   "metadata": {
    "tags": []
   },
   "outputs": [],
   "source": [
    "# Create FeatureStore session object\n",
    "feature_store_session = sagemaker.Session(\n",
    "    boto_session=boto_session,\n",
    "    sagemaker_client=sagemaker_client,\n",
    "    sagemaker_featurestore_runtime_client=featurestore_runtime,\n",
    ")\n",
    "\n",
    "feature_store = FeatureStore(sagemaker_session=feature_store_session)"
   ]
  },
  {
   "cell_type": "code",
   "execution_count": 92,
   "id": "fe96e430-7370-41d6-acbb-8fd38acda684",
   "metadata": {
    "tags": []
   },
   "outputs": [],
   "source": [
    "included_feature_names = [f.feature_name for f in dataset_feature_group.feature_definitions]"
   ]
  },
  {
   "cell_type": "code",
   "execution_count": 93,
   "id": "3b9feb8f-8c4d-4621-b558-7d634df694e0",
   "metadata": {
    "tags": []
   },
   "outputs": [],
   "source": [
    "# Create dataset builder to retrieve the most recent version of each record\n",
    "builder = feature_store.create_dataset(\n",
    "    base=dataset_feature_group,\n",
    "    # included_feature_names=included_feature_names,\n",
    "    output_path=output_location,\n",
    ").with_number_of_recent_records_by_record_identifier(1)"
   ]
  },
  {
   "cell_type": "code",
   "execution_count": 94,
   "id": "6daad11c-4a6b-4c68-b2c4-95d04202ab9a",
   "metadata": {
    "tags": []
   },
   "outputs": [
    {
     "name": "stderr",
     "output_type": "stream",
     "text": [
      "INFO:sagemaker:Query 75e67702-d227-4f14-b1ae-03648a00b6fa is being executed.\n",
      "INFO:sagemaker:Query 75e67702-d227-4f14-b1ae-03648a00b6fa successfully executed.\n"
     ]
    }
   ],
   "source": [
    "df_dataset, query = builder.to_dataframe()"
   ]
  },
  {
   "cell_type": "code",
   "execution_count": 95,
   "id": "2dacb90a-0880-4ba3-9ddd-e0e779e05ab7",
   "metadata": {
    "tags": []
   },
   "outputs": [
    {
     "data": {
      "text/html": [
       "<div>\n",
       "<style scoped>\n",
       "    .dataframe tbody tr th:only-of-type {\n",
       "        vertical-align: middle;\n",
       "    }\n",
       "\n",
       "    .dataframe tbody tr th {\n",
       "        vertical-align: top;\n",
       "    }\n",
       "\n",
       "    .dataframe thead th {\n",
       "        text-align: right;\n",
       "    }\n",
       "</style>\n",
       "<table border=\"1\" class=\"dataframe\">\n",
       "  <thead>\n",
       "    <tr style=\"text-align: right;\">\n",
       "      <th></th>\n",
       "      <th>y</th>\n",
       "      <th>campaign</th>\n",
       "      <th>pdays</th>\n",
       "      <th>previous</th>\n",
       "      <th>no_previous_contact</th>\n",
       "      <th>not_working</th>\n",
       "      <th>age_18_29</th>\n",
       "      <th>age_30_39</th>\n",
       "      <th>age_40_49</th>\n",
       "      <th>age_50_59</th>\n",
       "      <th>age_60_69</th>\n",
       "      <th>age_70_plus</th>\n",
       "      <th>job_admin</th>\n",
       "      <th>job_blue_collar</th>\n",
       "      <th>job_entrepreneur</th>\n",
       "      <th>job_housemaid</th>\n",
       "      <th>job_management</th>\n",
       "      <th>job_retired</th>\n",
       "      <th>job_self_employed</th>\n",
       "      <th>job_services</th>\n",
       "      <th>job_student</th>\n",
       "      <th>job_technician</th>\n",
       "      <th>job_unemployed</th>\n",
       "      <th>job_unknown</th>\n",
       "      <th>marital_divorced</th>\n",
       "      <th>marital_married</th>\n",
       "      <th>marital_single</th>\n",
       "      <th>marital_unknown</th>\n",
       "      <th>education_basic_4y</th>\n",
       "      <th>education_basic_6y</th>\n",
       "      <th>education_basic_9y</th>\n",
       "      <th>education_high_school</th>\n",
       "      <th>education_illiterate</th>\n",
       "      <th>education_professional_course</th>\n",
       "      <th>education_university_degree</th>\n",
       "      <th>education_unknown</th>\n",
       "      <th>default_no</th>\n",
       "      <th>default_unknown</th>\n",
       "      <th>default_yes</th>\n",
       "      <th>housing_no</th>\n",
       "      <th>housing_unknown</th>\n",
       "      <th>housing_yes</th>\n",
       "      <th>loan_no</th>\n",
       "      <th>loan_unknown</th>\n",
       "      <th>loan_yes</th>\n",
       "      <th>contact_cellular</th>\n",
       "      <th>contact_telephone</th>\n",
       "      <th>month_apr</th>\n",
       "      <th>month_aug</th>\n",
       "      <th>month_dec</th>\n",
       "      <th>month_jul</th>\n",
       "      <th>month_jun</th>\n",
       "      <th>month_mar</th>\n",
       "      <th>month_may</th>\n",
       "      <th>month_nov</th>\n",
       "      <th>month_oct</th>\n",
       "      <th>month_sep</th>\n",
       "      <th>day_of_week_fri</th>\n",
       "      <th>day_of_week_mon</th>\n",
       "      <th>day_of_week_thu</th>\n",
       "      <th>day_of_week_tue</th>\n",
       "      <th>day_of_week_wed</th>\n",
       "      <th>poutcome_failure</th>\n",
       "      <th>poutcome_nonexistent</th>\n",
       "      <th>poutcome_success</th>\n",
       "      <th>event_time</th>\n",
       "      <th>record_id</th>\n",
       "    </tr>\n",
       "  </thead>\n",
       "  <tbody>\n",
       "    <tr>\n",
       "      <th>0</th>\n",
       "      <td>0</td>\n",
       "      <td>0.000000</td>\n",
       "      <td>1.0</td>\n",
       "      <td>0.000000</td>\n",
       "      <td>1</td>\n",
       "      <td>0</td>\n",
       "      <td>0</td>\n",
       "      <td>0</td>\n",
       "      <td>1</td>\n",
       "      <td>0</td>\n",
       "      <td>0</td>\n",
       "      <td>0</td>\n",
       "      <td>0</td>\n",
       "      <td>1</td>\n",
       "      <td>0</td>\n",
       "      <td>0</td>\n",
       "      <td>0</td>\n",
       "      <td>0</td>\n",
       "      <td>0</td>\n",
       "      <td>0</td>\n",
       "      <td>0</td>\n",
       "      <td>0</td>\n",
       "      <td>0</td>\n",
       "      <td>0</td>\n",
       "      <td>1</td>\n",
       "      <td>0</td>\n",
       "      <td>0</td>\n",
       "      <td>0</td>\n",
       "      <td>1</td>\n",
       "      <td>0</td>\n",
       "      <td>0</td>\n",
       "      <td>0</td>\n",
       "      <td>0</td>\n",
       "      <td>0</td>\n",
       "      <td>0</td>\n",
       "      <td>0</td>\n",
       "      <td>1</td>\n",
       "      <td>0</td>\n",
       "      <td>0</td>\n",
       "      <td>1</td>\n",
       "      <td>0</td>\n",
       "      <td>0</td>\n",
       "      <td>1</td>\n",
       "      <td>0</td>\n",
       "      <td>0</td>\n",
       "      <td>1</td>\n",
       "      <td>0</td>\n",
       "      <td>0</td>\n",
       "      <td>0</td>\n",
       "      <td>0</td>\n",
       "      <td>0</td>\n",
       "      <td>0</td>\n",
       "      <td>0</td>\n",
       "      <td>1</td>\n",
       "      <td>0</td>\n",
       "      <td>0</td>\n",
       "      <td>0</td>\n",
       "      <td>0</td>\n",
       "      <td>0</td>\n",
       "      <td>0</td>\n",
       "      <td>1</td>\n",
       "      <td>0</td>\n",
       "      <td>0</td>\n",
       "      <td>1</td>\n",
       "      <td>0</td>\n",
       "      <td>2024-07-23T08:25:56.469Z</td>\n",
       "      <td>R30895</td>\n",
       "    </tr>\n",
       "    <tr>\n",
       "      <th>1</th>\n",
       "      <td>0</td>\n",
       "      <td>0.000000</td>\n",
       "      <td>1.0</td>\n",
       "      <td>0.000000</td>\n",
       "      <td>1</td>\n",
       "      <td>0</td>\n",
       "      <td>0</td>\n",
       "      <td>0</td>\n",
       "      <td>1</td>\n",
       "      <td>0</td>\n",
       "      <td>0</td>\n",
       "      <td>0</td>\n",
       "      <td>0</td>\n",
       "      <td>0</td>\n",
       "      <td>0</td>\n",
       "      <td>0</td>\n",
       "      <td>0</td>\n",
       "      <td>0</td>\n",
       "      <td>0</td>\n",
       "      <td>0</td>\n",
       "      <td>0</td>\n",
       "      <td>1</td>\n",
       "      <td>0</td>\n",
       "      <td>0</td>\n",
       "      <td>0</td>\n",
       "      <td>0</td>\n",
       "      <td>1</td>\n",
       "      <td>0</td>\n",
       "      <td>0</td>\n",
       "      <td>0</td>\n",
       "      <td>0</td>\n",
       "      <td>0</td>\n",
       "      <td>0</td>\n",
       "      <td>1</td>\n",
       "      <td>0</td>\n",
       "      <td>0</td>\n",
       "      <td>0</td>\n",
       "      <td>1</td>\n",
       "      <td>0</td>\n",
       "      <td>1</td>\n",
       "      <td>0</td>\n",
       "      <td>0</td>\n",
       "      <td>1</td>\n",
       "      <td>0</td>\n",
       "      <td>0</td>\n",
       "      <td>0</td>\n",
       "      <td>1</td>\n",
       "      <td>0</td>\n",
       "      <td>0</td>\n",
       "      <td>0</td>\n",
       "      <td>0</td>\n",
       "      <td>0</td>\n",
       "      <td>0</td>\n",
       "      <td>1</td>\n",
       "      <td>0</td>\n",
       "      <td>0</td>\n",
       "      <td>0</td>\n",
       "      <td>0</td>\n",
       "      <td>1</td>\n",
       "      <td>0</td>\n",
       "      <td>0</td>\n",
       "      <td>0</td>\n",
       "      <td>0</td>\n",
       "      <td>1</td>\n",
       "      <td>0</td>\n",
       "      <td>2024-07-23T08:25:56.469Z</td>\n",
       "      <td>R45</td>\n",
       "    </tr>\n",
       "    <tr>\n",
       "      <th>2</th>\n",
       "      <td>0</td>\n",
       "      <td>0.018182</td>\n",
       "      <td>1.0</td>\n",
       "      <td>0.142857</td>\n",
       "      <td>1</td>\n",
       "      <td>0</td>\n",
       "      <td>0</td>\n",
       "      <td>1</td>\n",
       "      <td>0</td>\n",
       "      <td>0</td>\n",
       "      <td>0</td>\n",
       "      <td>0</td>\n",
       "      <td>1</td>\n",
       "      <td>0</td>\n",
       "      <td>0</td>\n",
       "      <td>0</td>\n",
       "      <td>0</td>\n",
       "      <td>0</td>\n",
       "      <td>0</td>\n",
       "      <td>0</td>\n",
       "      <td>0</td>\n",
       "      <td>0</td>\n",
       "      <td>0</td>\n",
       "      <td>0</td>\n",
       "      <td>0</td>\n",
       "      <td>1</td>\n",
       "      <td>0</td>\n",
       "      <td>0</td>\n",
       "      <td>0</td>\n",
       "      <td>0</td>\n",
       "      <td>0</td>\n",
       "      <td>0</td>\n",
       "      <td>0</td>\n",
       "      <td>0</td>\n",
       "      <td>1</td>\n",
       "      <td>0</td>\n",
       "      <td>1</td>\n",
       "      <td>0</td>\n",
       "      <td>0</td>\n",
       "      <td>0</td>\n",
       "      <td>0</td>\n",
       "      <td>1</td>\n",
       "      <td>1</td>\n",
       "      <td>0</td>\n",
       "      <td>0</td>\n",
       "      <td>1</td>\n",
       "      <td>0</td>\n",
       "      <td>0</td>\n",
       "      <td>0</td>\n",
       "      <td>0</td>\n",
       "      <td>0</td>\n",
       "      <td>0</td>\n",
       "      <td>0</td>\n",
       "      <td>1</td>\n",
       "      <td>0</td>\n",
       "      <td>0</td>\n",
       "      <td>0</td>\n",
       "      <td>0</td>\n",
       "      <td>0</td>\n",
       "      <td>0</td>\n",
       "      <td>1</td>\n",
       "      <td>0</td>\n",
       "      <td>1</td>\n",
       "      <td>0</td>\n",
       "      <td>0</td>\n",
       "      <td>2024-07-23T08:25:56.469Z</td>\n",
       "      <td>R30986</td>\n",
       "    </tr>\n",
       "    <tr>\n",
       "      <th>3</th>\n",
       "      <td>0</td>\n",
       "      <td>0.036364</td>\n",
       "      <td>1.0</td>\n",
       "      <td>0.000000</td>\n",
       "      <td>1</td>\n",
       "      <td>0</td>\n",
       "      <td>0</td>\n",
       "      <td>1</td>\n",
       "      <td>0</td>\n",
       "      <td>0</td>\n",
       "      <td>0</td>\n",
       "      <td>0</td>\n",
       "      <td>1</td>\n",
       "      <td>0</td>\n",
       "      <td>0</td>\n",
       "      <td>0</td>\n",
       "      <td>0</td>\n",
       "      <td>0</td>\n",
       "      <td>0</td>\n",
       "      <td>0</td>\n",
       "      <td>0</td>\n",
       "      <td>0</td>\n",
       "      <td>0</td>\n",
       "      <td>0</td>\n",
       "      <td>0</td>\n",
       "      <td>0</td>\n",
       "      <td>1</td>\n",
       "      <td>0</td>\n",
       "      <td>0</td>\n",
       "      <td>0</td>\n",
       "      <td>0</td>\n",
       "      <td>0</td>\n",
       "      <td>0</td>\n",
       "      <td>0</td>\n",
       "      <td>1</td>\n",
       "      <td>0</td>\n",
       "      <td>1</td>\n",
       "      <td>0</td>\n",
       "      <td>0</td>\n",
       "      <td>0</td>\n",
       "      <td>0</td>\n",
       "      <td>1</td>\n",
       "      <td>1</td>\n",
       "      <td>0</td>\n",
       "      <td>0</td>\n",
       "      <td>1</td>\n",
       "      <td>0</td>\n",
       "      <td>0</td>\n",
       "      <td>1</td>\n",
       "      <td>0</td>\n",
       "      <td>0</td>\n",
       "      <td>0</td>\n",
       "      <td>0</td>\n",
       "      <td>0</td>\n",
       "      <td>0</td>\n",
       "      <td>0</td>\n",
       "      <td>0</td>\n",
       "      <td>0</td>\n",
       "      <td>0</td>\n",
       "      <td>0</td>\n",
       "      <td>0</td>\n",
       "      <td>1</td>\n",
       "      <td>0</td>\n",
       "      <td>1</td>\n",
       "      <td>0</td>\n",
       "      <td>2024-07-23T08:25:56.469Z</td>\n",
       "      <td>R20819</td>\n",
       "    </tr>\n",
       "    <tr>\n",
       "      <th>4</th>\n",
       "      <td>0</td>\n",
       "      <td>0.000000</td>\n",
       "      <td>1.0</td>\n",
       "      <td>0.000000</td>\n",
       "      <td>1</td>\n",
       "      <td>0</td>\n",
       "      <td>0</td>\n",
       "      <td>1</td>\n",
       "      <td>0</td>\n",
       "      <td>0</td>\n",
       "      <td>0</td>\n",
       "      <td>0</td>\n",
       "      <td>0</td>\n",
       "      <td>1</td>\n",
       "      <td>0</td>\n",
       "      <td>0</td>\n",
       "      <td>0</td>\n",
       "      <td>0</td>\n",
       "      <td>0</td>\n",
       "      <td>0</td>\n",
       "      <td>0</td>\n",
       "      <td>0</td>\n",
       "      <td>0</td>\n",
       "      <td>0</td>\n",
       "      <td>0</td>\n",
       "      <td>0</td>\n",
       "      <td>1</td>\n",
       "      <td>0</td>\n",
       "      <td>1</td>\n",
       "      <td>0</td>\n",
       "      <td>0</td>\n",
       "      <td>0</td>\n",
       "      <td>0</td>\n",
       "      <td>0</td>\n",
       "      <td>0</td>\n",
       "      <td>0</td>\n",
       "      <td>1</td>\n",
       "      <td>0</td>\n",
       "      <td>0</td>\n",
       "      <td>1</td>\n",
       "      <td>0</td>\n",
       "      <td>0</td>\n",
       "      <td>0</td>\n",
       "      <td>0</td>\n",
       "      <td>1</td>\n",
       "      <td>1</td>\n",
       "      <td>0</td>\n",
       "      <td>0</td>\n",
       "      <td>0</td>\n",
       "      <td>0</td>\n",
       "      <td>0</td>\n",
       "      <td>0</td>\n",
       "      <td>0</td>\n",
       "      <td>1</td>\n",
       "      <td>0</td>\n",
       "      <td>0</td>\n",
       "      <td>0</td>\n",
       "      <td>0</td>\n",
       "      <td>0</td>\n",
       "      <td>1</td>\n",
       "      <td>0</td>\n",
       "      <td>0</td>\n",
       "      <td>0</td>\n",
       "      <td>1</td>\n",
       "      <td>0</td>\n",
       "      <td>2024-07-23T08:25:56.469Z</td>\n",
       "      <td>R31788</td>\n",
       "    </tr>\n",
       "    <tr>\n",
       "      <th>...</th>\n",
       "      <td>...</td>\n",
       "      <td>...</td>\n",
       "      <td>...</td>\n",
       "      <td>...</td>\n",
       "      <td>...</td>\n",
       "      <td>...</td>\n",
       "      <td>...</td>\n",
       "      <td>...</td>\n",
       "      <td>...</td>\n",
       "      <td>...</td>\n",
       "      <td>...</td>\n",
       "      <td>...</td>\n",
       "      <td>...</td>\n",
       "      <td>...</td>\n",
       "      <td>...</td>\n",
       "      <td>...</td>\n",
       "      <td>...</td>\n",
       "      <td>...</td>\n",
       "      <td>...</td>\n",
       "      <td>...</td>\n",
       "      <td>...</td>\n",
       "      <td>...</td>\n",
       "      <td>...</td>\n",
       "      <td>...</td>\n",
       "      <td>...</td>\n",
       "      <td>...</td>\n",
       "      <td>...</td>\n",
       "      <td>...</td>\n",
       "      <td>...</td>\n",
       "      <td>...</td>\n",
       "      <td>...</td>\n",
       "      <td>...</td>\n",
       "      <td>...</td>\n",
       "      <td>...</td>\n",
       "      <td>...</td>\n",
       "      <td>...</td>\n",
       "      <td>...</td>\n",
       "      <td>...</td>\n",
       "      <td>...</td>\n",
       "      <td>...</td>\n",
       "      <td>...</td>\n",
       "      <td>...</td>\n",
       "      <td>...</td>\n",
       "      <td>...</td>\n",
       "      <td>...</td>\n",
       "      <td>...</td>\n",
       "      <td>...</td>\n",
       "      <td>...</td>\n",
       "      <td>...</td>\n",
       "      <td>...</td>\n",
       "      <td>...</td>\n",
       "      <td>...</td>\n",
       "      <td>...</td>\n",
       "      <td>...</td>\n",
       "      <td>...</td>\n",
       "      <td>...</td>\n",
       "      <td>...</td>\n",
       "      <td>...</td>\n",
       "      <td>...</td>\n",
       "      <td>...</td>\n",
       "      <td>...</td>\n",
       "      <td>...</td>\n",
       "      <td>...</td>\n",
       "      <td>...</td>\n",
       "      <td>...</td>\n",
       "      <td>...</td>\n",
       "      <td>...</td>\n",
       "    </tr>\n",
       "    <tr>\n",
       "      <th>41183</th>\n",
       "      <td>0</td>\n",
       "      <td>0.181818</td>\n",
       "      <td>1.0</td>\n",
       "      <td>0.000000</td>\n",
       "      <td>1</td>\n",
       "      <td>0</td>\n",
       "      <td>0</td>\n",
       "      <td>0</td>\n",
       "      <td>1</td>\n",
       "      <td>0</td>\n",
       "      <td>0</td>\n",
       "      <td>0</td>\n",
       "      <td>0</td>\n",
       "      <td>0</td>\n",
       "      <td>0</td>\n",
       "      <td>0</td>\n",
       "      <td>0</td>\n",
       "      <td>0</td>\n",
       "      <td>0</td>\n",
       "      <td>1</td>\n",
       "      <td>0</td>\n",
       "      <td>0</td>\n",
       "      <td>0</td>\n",
       "      <td>0</td>\n",
       "      <td>0</td>\n",
       "      <td>1</td>\n",
       "      <td>0</td>\n",
       "      <td>0</td>\n",
       "      <td>0</td>\n",
       "      <td>0</td>\n",
       "      <td>0</td>\n",
       "      <td>0</td>\n",
       "      <td>0</td>\n",
       "      <td>1</td>\n",
       "      <td>0</td>\n",
       "      <td>0</td>\n",
       "      <td>1</td>\n",
       "      <td>0</td>\n",
       "      <td>0</td>\n",
       "      <td>0</td>\n",
       "      <td>0</td>\n",
       "      <td>1</td>\n",
       "      <td>1</td>\n",
       "      <td>0</td>\n",
       "      <td>0</td>\n",
       "      <td>1</td>\n",
       "      <td>0</td>\n",
       "      <td>0</td>\n",
       "      <td>1</td>\n",
       "      <td>0</td>\n",
       "      <td>0</td>\n",
       "      <td>0</td>\n",
       "      <td>0</td>\n",
       "      <td>0</td>\n",
       "      <td>0</td>\n",
       "      <td>0</td>\n",
       "      <td>0</td>\n",
       "      <td>0</td>\n",
       "      <td>0</td>\n",
       "      <td>1</td>\n",
       "      <td>0</td>\n",
       "      <td>0</td>\n",
       "      <td>0</td>\n",
       "      <td>1</td>\n",
       "      <td>0</td>\n",
       "      <td>2024-07-23T08:25:56.469Z</td>\n",
       "      <td>R23666</td>\n",
       "    </tr>\n",
       "    <tr>\n",
       "      <th>41184</th>\n",
       "      <td>0</td>\n",
       "      <td>0.200000</td>\n",
       "      <td>1.0</td>\n",
       "      <td>0.000000</td>\n",
       "      <td>1</td>\n",
       "      <td>0</td>\n",
       "      <td>1</td>\n",
       "      <td>0</td>\n",
       "      <td>0</td>\n",
       "      <td>0</td>\n",
       "      <td>0</td>\n",
       "      <td>0</td>\n",
       "      <td>0</td>\n",
       "      <td>0</td>\n",
       "      <td>0</td>\n",
       "      <td>0</td>\n",
       "      <td>0</td>\n",
       "      <td>0</td>\n",
       "      <td>0</td>\n",
       "      <td>0</td>\n",
       "      <td>0</td>\n",
       "      <td>1</td>\n",
       "      <td>0</td>\n",
       "      <td>0</td>\n",
       "      <td>0</td>\n",
       "      <td>0</td>\n",
       "      <td>1</td>\n",
       "      <td>0</td>\n",
       "      <td>0</td>\n",
       "      <td>0</td>\n",
       "      <td>0</td>\n",
       "      <td>1</td>\n",
       "      <td>0</td>\n",
       "      <td>0</td>\n",
       "      <td>0</td>\n",
       "      <td>0</td>\n",
       "      <td>1</td>\n",
       "      <td>0</td>\n",
       "      <td>0</td>\n",
       "      <td>0</td>\n",
       "      <td>0</td>\n",
       "      <td>1</td>\n",
       "      <td>1</td>\n",
       "      <td>0</td>\n",
       "      <td>0</td>\n",
       "      <td>1</td>\n",
       "      <td>0</td>\n",
       "      <td>0</td>\n",
       "      <td>1</td>\n",
       "      <td>0</td>\n",
       "      <td>0</td>\n",
       "      <td>0</td>\n",
       "      <td>0</td>\n",
       "      <td>0</td>\n",
       "      <td>0</td>\n",
       "      <td>0</td>\n",
       "      <td>0</td>\n",
       "      <td>0</td>\n",
       "      <td>0</td>\n",
       "      <td>1</td>\n",
       "      <td>0</td>\n",
       "      <td>0</td>\n",
       "      <td>0</td>\n",
       "      <td>1</td>\n",
       "      <td>0</td>\n",
       "      <td>2024-07-23T08:25:56.469Z</td>\n",
       "      <td>R23693</td>\n",
       "    </tr>\n",
       "    <tr>\n",
       "      <th>41185</th>\n",
       "      <td>0</td>\n",
       "      <td>0.000000</td>\n",
       "      <td>1.0</td>\n",
       "      <td>0.000000</td>\n",
       "      <td>1</td>\n",
       "      <td>0</td>\n",
       "      <td>0</td>\n",
       "      <td>1</td>\n",
       "      <td>0</td>\n",
       "      <td>0</td>\n",
       "      <td>0</td>\n",
       "      <td>0</td>\n",
       "      <td>0</td>\n",
       "      <td>0</td>\n",
       "      <td>0</td>\n",
       "      <td>0</td>\n",
       "      <td>0</td>\n",
       "      <td>0</td>\n",
       "      <td>0</td>\n",
       "      <td>0</td>\n",
       "      <td>0</td>\n",
       "      <td>0</td>\n",
       "      <td>0</td>\n",
       "      <td>1</td>\n",
       "      <td>0</td>\n",
       "      <td>1</td>\n",
       "      <td>0</td>\n",
       "      <td>0</td>\n",
       "      <td>0</td>\n",
       "      <td>0</td>\n",
       "      <td>0</td>\n",
       "      <td>0</td>\n",
       "      <td>0</td>\n",
       "      <td>0</td>\n",
       "      <td>0</td>\n",
       "      <td>1</td>\n",
       "      <td>0</td>\n",
       "      <td>1</td>\n",
       "      <td>0</td>\n",
       "      <td>0</td>\n",
       "      <td>0</td>\n",
       "      <td>1</td>\n",
       "      <td>1</td>\n",
       "      <td>0</td>\n",
       "      <td>0</td>\n",
       "      <td>0</td>\n",
       "      <td>1</td>\n",
       "      <td>0</td>\n",
       "      <td>0</td>\n",
       "      <td>0</td>\n",
       "      <td>0</td>\n",
       "      <td>0</td>\n",
       "      <td>0</td>\n",
       "      <td>1</td>\n",
       "      <td>0</td>\n",
       "      <td>0</td>\n",
       "      <td>0</td>\n",
       "      <td>0</td>\n",
       "      <td>0</td>\n",
       "      <td>1</td>\n",
       "      <td>0</td>\n",
       "      <td>0</td>\n",
       "      <td>0</td>\n",
       "      <td>1</td>\n",
       "      <td>0</td>\n",
       "      <td>2024-07-23T08:25:56.469Z</td>\n",
       "      <td>R3269</td>\n",
       "    </tr>\n",
       "    <tr>\n",
       "      <th>41186</th>\n",
       "      <td>0</td>\n",
       "      <td>0.018182</td>\n",
       "      <td>1.0</td>\n",
       "      <td>0.000000</td>\n",
       "      <td>1</td>\n",
       "      <td>0</td>\n",
       "      <td>1</td>\n",
       "      <td>0</td>\n",
       "      <td>0</td>\n",
       "      <td>0</td>\n",
       "      <td>0</td>\n",
       "      <td>0</td>\n",
       "      <td>0</td>\n",
       "      <td>0</td>\n",
       "      <td>0</td>\n",
       "      <td>0</td>\n",
       "      <td>0</td>\n",
       "      <td>0</td>\n",
       "      <td>0</td>\n",
       "      <td>1</td>\n",
       "      <td>0</td>\n",
       "      <td>0</td>\n",
       "      <td>0</td>\n",
       "      <td>0</td>\n",
       "      <td>0</td>\n",
       "      <td>0</td>\n",
       "      <td>1</td>\n",
       "      <td>0</td>\n",
       "      <td>0</td>\n",
       "      <td>0</td>\n",
       "      <td>0</td>\n",
       "      <td>1</td>\n",
       "      <td>0</td>\n",
       "      <td>0</td>\n",
       "      <td>0</td>\n",
       "      <td>0</td>\n",
       "      <td>1</td>\n",
       "      <td>0</td>\n",
       "      <td>0</td>\n",
       "      <td>1</td>\n",
       "      <td>0</td>\n",
       "      <td>0</td>\n",
       "      <td>1</td>\n",
       "      <td>0</td>\n",
       "      <td>0</td>\n",
       "      <td>0</td>\n",
       "      <td>1</td>\n",
       "      <td>0</td>\n",
       "      <td>0</td>\n",
       "      <td>0</td>\n",
       "      <td>0</td>\n",
       "      <td>0</td>\n",
       "      <td>0</td>\n",
       "      <td>1</td>\n",
       "      <td>0</td>\n",
       "      <td>0</td>\n",
       "      <td>0</td>\n",
       "      <td>0</td>\n",
       "      <td>0</td>\n",
       "      <td>1</td>\n",
       "      <td>0</td>\n",
       "      <td>0</td>\n",
       "      <td>0</td>\n",
       "      <td>1</td>\n",
       "      <td>0</td>\n",
       "      <td>2024-07-23T08:25:56.469Z</td>\n",
       "      <td>R3394</td>\n",
       "    </tr>\n",
       "    <tr>\n",
       "      <th>41187</th>\n",
       "      <td>0</td>\n",
       "      <td>0.000000</td>\n",
       "      <td>1.0</td>\n",
       "      <td>0.000000</td>\n",
       "      <td>1</td>\n",
       "      <td>0</td>\n",
       "      <td>0</td>\n",
       "      <td>1</td>\n",
       "      <td>0</td>\n",
       "      <td>0</td>\n",
       "      <td>0</td>\n",
       "      <td>0</td>\n",
       "      <td>0</td>\n",
       "      <td>0</td>\n",
       "      <td>0</td>\n",
       "      <td>0</td>\n",
       "      <td>0</td>\n",
       "      <td>0</td>\n",
       "      <td>0</td>\n",
       "      <td>0</td>\n",
       "      <td>0</td>\n",
       "      <td>1</td>\n",
       "      <td>0</td>\n",
       "      <td>0</td>\n",
       "      <td>0</td>\n",
       "      <td>1</td>\n",
       "      <td>0</td>\n",
       "      <td>0</td>\n",
       "      <td>0</td>\n",
       "      <td>0</td>\n",
       "      <td>0</td>\n",
       "      <td>1</td>\n",
       "      <td>0</td>\n",
       "      <td>0</td>\n",
       "      <td>0</td>\n",
       "      <td>0</td>\n",
       "      <td>1</td>\n",
       "      <td>0</td>\n",
       "      <td>0</td>\n",
       "      <td>0</td>\n",
       "      <td>0</td>\n",
       "      <td>1</td>\n",
       "      <td>1</td>\n",
       "      <td>0</td>\n",
       "      <td>0</td>\n",
       "      <td>0</td>\n",
       "      <td>1</td>\n",
       "      <td>0</td>\n",
       "      <td>1</td>\n",
       "      <td>0</td>\n",
       "      <td>0</td>\n",
       "      <td>0</td>\n",
       "      <td>0</td>\n",
       "      <td>0</td>\n",
       "      <td>0</td>\n",
       "      <td>0</td>\n",
       "      <td>0</td>\n",
       "      <td>1</td>\n",
       "      <td>0</td>\n",
       "      <td>0</td>\n",
       "      <td>0</td>\n",
       "      <td>0</td>\n",
       "      <td>0</td>\n",
       "      <td>1</td>\n",
       "      <td>0</td>\n",
       "      <td>2024-07-23T08:25:56.469Z</td>\n",
       "      <td>R23948</td>\n",
       "    </tr>\n",
       "  </tbody>\n",
       "</table>\n",
       "<p>41188 rows × 67 columns</p>\n",
       "</div>"
      ],
      "text/plain": [
       "       y  campaign  pdays  previous  no_previous_contact  not_working  \\\n",
       "0      0  0.000000    1.0  0.000000                    1            0   \n",
       "1      0  0.000000    1.0  0.000000                    1            0   \n",
       "2      0  0.018182    1.0  0.142857                    1            0   \n",
       "3      0  0.036364    1.0  0.000000                    1            0   \n",
       "4      0  0.000000    1.0  0.000000                    1            0   \n",
       "...   ..       ...    ...       ...                  ...          ...   \n",
       "41183  0  0.181818    1.0  0.000000                    1            0   \n",
       "41184  0  0.200000    1.0  0.000000                    1            0   \n",
       "41185  0  0.000000    1.0  0.000000                    1            0   \n",
       "41186  0  0.018182    1.0  0.000000                    1            0   \n",
       "41187  0  0.000000    1.0  0.000000                    1            0   \n",
       "\n",
       "       age_18_29  age_30_39  age_40_49  age_50_59  age_60_69  age_70_plus  \\\n",
       "0              0          0          1          0          0            0   \n",
       "1              0          0          1          0          0            0   \n",
       "2              0          1          0          0          0            0   \n",
       "3              0          1          0          0          0            0   \n",
       "4              0          1          0          0          0            0   \n",
       "...          ...        ...        ...        ...        ...          ...   \n",
       "41183          0          0          1          0          0            0   \n",
       "41184          1          0          0          0          0            0   \n",
       "41185          0          1          0          0          0            0   \n",
       "41186          1          0          0          0          0            0   \n",
       "41187          0          1          0          0          0            0   \n",
       "\n",
       "       job_admin  job_blue_collar  job_entrepreneur  job_housemaid  \\\n",
       "0              0                1                 0              0   \n",
       "1              0                0                 0              0   \n",
       "2              1                0                 0              0   \n",
       "3              1                0                 0              0   \n",
       "4              0                1                 0              0   \n",
       "...          ...              ...               ...            ...   \n",
       "41183          0                0                 0              0   \n",
       "41184          0                0                 0              0   \n",
       "41185          0                0                 0              0   \n",
       "41186          0                0                 0              0   \n",
       "41187          0                0                 0              0   \n",
       "\n",
       "       job_management  job_retired  job_self_employed  job_services  \\\n",
       "0                   0            0                  0             0   \n",
       "1                   0            0                  0             0   \n",
       "2                   0            0                  0             0   \n",
       "3                   0            0                  0             0   \n",
       "4                   0            0                  0             0   \n",
       "...               ...          ...                ...           ...   \n",
       "41183               0            0                  0             1   \n",
       "41184               0            0                  0             0   \n",
       "41185               0            0                  0             0   \n",
       "41186               0            0                  0             1   \n",
       "41187               0            0                  0             0   \n",
       "\n",
       "       job_student  job_technician  job_unemployed  job_unknown  \\\n",
       "0                0               0               0            0   \n",
       "1                0               1               0            0   \n",
       "2                0               0               0            0   \n",
       "3                0               0               0            0   \n",
       "4                0               0               0            0   \n",
       "...            ...             ...             ...          ...   \n",
       "41183            0               0               0            0   \n",
       "41184            0               1               0            0   \n",
       "41185            0               0               0            1   \n",
       "41186            0               0               0            0   \n",
       "41187            0               1               0            0   \n",
       "\n",
       "       marital_divorced  marital_married  marital_single  marital_unknown  \\\n",
       "0                     1                0               0                0   \n",
       "1                     0                0               1                0   \n",
       "2                     0                1               0                0   \n",
       "3                     0                0               1                0   \n",
       "4                     0                0               1                0   \n",
       "...                 ...              ...             ...              ...   \n",
       "41183                 0                1               0                0   \n",
       "41184                 0                0               1                0   \n",
       "41185                 0                1               0                0   \n",
       "41186                 0                0               1                0   \n",
       "41187                 0                1               0                0   \n",
       "\n",
       "       education_basic_4y  education_basic_6y  education_basic_9y  \\\n",
       "0                       1                   0                   0   \n",
       "1                       0                   0                   0   \n",
       "2                       0                   0                   0   \n",
       "3                       0                   0                   0   \n",
       "4                       1                   0                   0   \n",
       "...                   ...                 ...                 ...   \n",
       "41183                   0                   0                   0   \n",
       "41184                   0                   0                   0   \n",
       "41185                   0                   0                   0   \n",
       "41186                   0                   0                   0   \n",
       "41187                   0                   0                   0   \n",
       "\n",
       "       education_high_school  education_illiterate  \\\n",
       "0                          0                     0   \n",
       "1                          0                     0   \n",
       "2                          0                     0   \n",
       "3                          0                     0   \n",
       "4                          0                     0   \n",
       "...                      ...                   ...   \n",
       "41183                      0                     0   \n",
       "41184                      1                     0   \n",
       "41185                      0                     0   \n",
       "41186                      1                     0   \n",
       "41187                      1                     0   \n",
       "\n",
       "       education_professional_course  education_university_degree  \\\n",
       "0                                  0                            0   \n",
       "1                                  1                            0   \n",
       "2                                  0                            1   \n",
       "3                                  0                            1   \n",
       "4                                  0                            0   \n",
       "...                              ...                          ...   \n",
       "41183                              1                            0   \n",
       "41184                              0                            0   \n",
       "41185                              0                            0   \n",
       "41186                              0                            0   \n",
       "41187                              0                            0   \n",
       "\n",
       "       education_unknown  default_no  default_unknown  default_yes  \\\n",
       "0                      0           1                0            0   \n",
       "1                      0           0                1            0   \n",
       "2                      0           1                0            0   \n",
       "3                      0           1                0            0   \n",
       "4                      0           1                0            0   \n",
       "...                  ...         ...              ...          ...   \n",
       "41183                  0           1                0            0   \n",
       "41184                  0           1                0            0   \n",
       "41185                  1           0                1            0   \n",
       "41186                  0           1                0            0   \n",
       "41187                  0           1                0            0   \n",
       "\n",
       "       housing_no  housing_unknown  housing_yes  loan_no  loan_unknown  \\\n",
       "0               1                0            0        1             0   \n",
       "1               1                0            0        1             0   \n",
       "2               0                0            1        1             0   \n",
       "3               0                0            1        1             0   \n",
       "4               1                0            0        0             0   \n",
       "...           ...              ...          ...      ...           ...   \n",
       "41183           0                0            1        1             0   \n",
       "41184           0                0            1        1             0   \n",
       "41185           0                0            1        1             0   \n",
       "41186           1                0            0        1             0   \n",
       "41187           0                0            1        1             0   \n",
       "\n",
       "       loan_yes  contact_cellular  contact_telephone  month_apr  month_aug  \\\n",
       "0             0                 1                  0          0          0   \n",
       "1             0                 0                  1          0          0   \n",
       "2             0                 1                  0          0          0   \n",
       "3             0                 1                  0          0          1   \n",
       "4             1                 1                  0          0          0   \n",
       "...         ...               ...                ...        ...        ...   \n",
       "41183         0                 1                  0          0          1   \n",
       "41184         0                 1                  0          0          1   \n",
       "41185         0                 0                  1          0          0   \n",
       "41186         0                 0                  1          0          0   \n",
       "41187         0                 0                  1          0          1   \n",
       "\n",
       "       month_dec  month_jul  month_jun  month_mar  month_may  month_nov  \\\n",
       "0              0          0          0          0          1          0   \n",
       "1              0          0          0          0          1          0   \n",
       "2              0          0          0          0          1          0   \n",
       "3              0          0          0          0          0          0   \n",
       "4              0          0          0          0          1          0   \n",
       "...          ...        ...        ...        ...        ...        ...   \n",
       "41183          0          0          0          0          0          0   \n",
       "41184          0          0          0          0          0          0   \n",
       "41185          0          0          0          0          1          0   \n",
       "41186          0          0          0          0          1          0   \n",
       "41187          0          0          0          0          0          0   \n",
       "\n",
       "       month_oct  month_sep  day_of_week_fri  day_of_week_mon  \\\n",
       "0              0          0                0                0   \n",
       "1              0          0                0                1   \n",
       "2              0          0                0                0   \n",
       "3              0          0                0                0   \n",
       "4              0          0                0                0   \n",
       "...          ...        ...              ...              ...   \n",
       "41183          0          0                0                0   \n",
       "41184          0          0                0                0   \n",
       "41185          0          0                0                0   \n",
       "41186          0          0                0                0   \n",
       "41187          0          0                1                0   \n",
       "\n",
       "       day_of_week_thu  day_of_week_tue  day_of_week_wed  poutcome_failure  \\\n",
       "0                    0                1                0                 0   \n",
       "1                    0                0                0                 0   \n",
       "2                    0                1                0                 1   \n",
       "3                    0                0                1                 0   \n",
       "4                    1                0                0                 0   \n",
       "...                ...              ...              ...               ...   \n",
       "41183                1                0                0                 0   \n",
       "41184                1                0                0                 0   \n",
       "41185                1                0                0                 0   \n",
       "41186                1                0                0                 0   \n",
       "41187                0                0                0                 0   \n",
       "\n",
       "       poutcome_nonexistent  poutcome_success                event_time  \\\n",
       "0                         1                 0  2024-07-23T08:25:56.469Z   \n",
       "1                         1                 0  2024-07-23T08:25:56.469Z   \n",
       "2                         0                 0  2024-07-23T08:25:56.469Z   \n",
       "3                         1                 0  2024-07-23T08:25:56.469Z   \n",
       "4                         1                 0  2024-07-23T08:25:56.469Z   \n",
       "...                     ...               ...                       ...   \n",
       "41183                     1                 0  2024-07-23T08:25:56.469Z   \n",
       "41184                     1                 0  2024-07-23T08:25:56.469Z   \n",
       "41185                     1                 0  2024-07-23T08:25:56.469Z   \n",
       "41186                     1                 0  2024-07-23T08:25:56.469Z   \n",
       "41187                     1                 0  2024-07-23T08:25:56.469Z   \n",
       "\n",
       "      record_id  \n",
       "0        R30895  \n",
       "1           R45  \n",
       "2        R30986  \n",
       "3        R20819  \n",
       "4        R31788  \n",
       "...         ...  \n",
       "41183    R23666  \n",
       "41184    R23693  \n",
       "41185     R3269  \n",
       "41186     R3394  \n",
       "41187    R23948  \n",
       "\n",
       "[41188 rows x 67 columns]"
      ]
     },
     "execution_count": 95,
     "metadata": {},
     "output_type": "execute_result"
    }
   ],
   "source": [
    "df_dataset"
   ]
  },
  {
   "cell_type": "markdown",
   "id": "dc77c3d3-881c-47fe-ad90-ddd0eb6ba9e9",
   "metadata": {},
   "source": [
    "### Integrate a feature group in a model building pipeline\n",
    "So far you ingested all transformed features into the feature store. As the last step in this notebook you need to adapt the model building pipeline to use the transformed features from the feature group instead of loading and transforming a raw data file from an S3 bucket."
   ]
  },
  {
   "cell_type": "markdown",
   "id": "b69ff2c7-f979-42d6-ba8e-854ae6b5a24b",
   "metadata": {},
   "source": [
    "The code for feature exraction from the feature store and preparing datasets for training, test, validation, and quality baseline is in the Python file `extract.py` in the folder `./pipeline_steps`. \n",
    "Note, there is no feature processing code in the script because all feature engineering is done before ingesting features into feature store. "
   ]
  },
  {
   "cell_type": "code",
   "execution_count": 96,
   "id": "cee0f3a6-1c61-43b6-8536-37824bc8cdb5",
   "metadata": {},
   "outputs": [],
   "source": [
    "# Python function code is in the local files\n",
    "from pipeline_steps.extract import prepare_datasets"
   ]
  },
  {
   "cell_type": "code",
   "execution_count": 97,
   "id": "efc774c1-af6a-4693-b776-ac87e9dd35cc",
   "metadata": {},
   "outputs": [
    {
     "name": "stderr",
     "output_type": "stream",
     "text": [
      "2024/07/23 09:30:24 INFO mlflow.tracking.fluent: Experiment with name 'local-test-23-08-19-42' does not exist. Creating a new experiment.\n",
      "INFO:sagemaker:Query 88fefea5-f5cf-490d-abd2-eaa03bcba221 is being executed.\n",
      "INFO:sagemaker:Query 88fefea5-f5cf-490d-abd2-eaa03bcba221 successfully executed.\n"
     ]
    },
    {
     "name": "stdout",
     "output_type": "stream",
     "text": [
      "Extracted 41188 rows from the feature group from-idea-to-prod-23-08-19-42\n"
     ]
    },
    {
     "name": "stderr",
     "output_type": "stream",
     "text": [
      "/opt/conda/lib/python3.10/site-packages/mlflow/data/dataset_source_registry.py:150: UserWarning: Failed to determine whether UCVolumeDatasetSource can resolve source information for 's3://sagemaker-us-east-1-398333718380/from-idea-to-prod/xgboost'. Exception: \n",
      "  return _dataset_source_registry.resolve(\n",
      "/opt/conda/lib/python3.10/site-packages/mlflow/types/utils.py:394: UserWarning: Hint: Inferred schema contains integer column(s). Integer columns in Python cannot represent missing values. If your input data contains missing values at inference time, it will be encoded as floats and will cause a schema enforcement error. The best way to avoid this problem is to infer the model schema based on a realistic data sample (training dataset) that includes missing values. Alternatively, you can declare integer columns as doubles (float64) whenever these columns may have missing values. See `Handling Integers With Missing Values <https://www.mlflow.org/docs/latest/models.html#handling-integers-with-missing-values>`_ for more details.\n",
      "  warnings.warn(\n",
      "/opt/conda/lib/python3.10/site-packages/numpy/core/fromnumeric.py:59: FutureWarning: 'DataFrame.swapaxes' is deprecated and will be removed in a future version. Please use 'DataFrame.transpose' instead.\n",
      "  return bound(*args, **kwds)\n"
     ]
    },
    {
     "name": "stdout",
     "output_type": "stream",
     "text": [
      "Data split > train:(28831, 65) | validation:(8238, 65) | test:(4119, 65)\n",
      "Datasets are uploaded to S3: s3://sagemaker-us-east-1-398333718380/from-idea-to-prod/xgboost. Exiting.\n"
     ]
    },
    {
     "data": {
      "text/plain": [
       "{'train_data': 's3://sagemaker-us-east-1-398333718380/from-idea-to-prod/xgboost/train/train.csv',\n",
       " 'validation_data': 's3://sagemaker-us-east-1-398333718380/from-idea-to-prod/xgboost/validation/validation.csv',\n",
       " 'test_x_data': 's3://sagemaker-us-east-1-398333718380/from-idea-to-prod/xgboost/test/test_x.csv',\n",
       " 'test_y_data': 's3://sagemaker-us-east-1-398333718380/from-idea-to-prod/xgboost/test/test_y.csv',\n",
       " 'baseline_data': 's3://sagemaker-us-east-1-398333718380/from-idea-to-prod/xgboost/baseline/baseline.csv',\n",
       " 'experiment_name': 'local-test-23-08-19-42',\n",
       " 'pipeline_run_id': ''}"
      ]
     },
     "execution_count": 97,
     "metadata": {},
     "output_type": "execute_result"
    }
   ],
   "source": [
    "# Run the function locally to verify everything works\n",
    "r_extract = prepare_datasets(\n",
    "    feature_group_name=dataset_feature_group_name,\n",
    "    output_s3_prefix=output_s3_prefix,\n",
    "    query_output_s3_path=output_location,\n",
    "    tracking_server_arn=mlflow_arn,\n",
    "    experiment_name=f\"local-test-{current_timestamp}\"\n",
    ")\n",
    "r_extract"
   ]
  },
  {
   "cell_type": "markdown",
   "id": "bbdab255-972b-4c44-b777-1ff3fbfd91fb",
   "metadata": {},
   "source": [
    "You've just tested this script locally, now let's integrate it into the model building pipeline. The next cell contains the full script for pipeline building.\n",
    "\n",
    "For clarity, the batch monitoring and quality monitoring steps are omitted from this pipeline. Feel free to add these steps using the code from the section **Add a batch transform and quality checks to the pipeline**."
   ]
  },
  {
   "cell_type": "code",
   "execution_count": 98,
   "id": "e3f495c8-af62-48e7-a01f-4934fe309ce2",
   "metadata": {},
   "outputs": [
    {
     "name": "stderr",
     "output_type": "stream",
     "text": [
      "2024/07/23 09:30:36 INFO mlflow.tracking.fluent: Experiment with name 'from-idea-to-prod-fs-pipeline-23-08-19-42' does not exist. Creating a new experiment.\n",
      "/opt/conda/lib/python3.10/site-packages/sagemaker/workflow/pipeline_context.py:332: UserWarning: Running within a PipelineSession, there will be No Wait, No Logs, and No Job being started.\n",
      "  warnings.warn(\n"
     ]
    }
   ],
   "source": [
    "session = PipelineSession()\n",
    "experiment_name = f\"{project}-fs-pipeline-{current_timestamp}\"\n",
    "mlflow.set_experiment(experiment_name)\n",
    "\n",
    "# extract features from the feature store step\n",
    "step_extract_featureset = step(\n",
    "    prepare_datasets, \n",
    "    instance_type=process_instance_type_param,\n",
    "    name=f\"{project}-extract-featureset\",\n",
    "    keep_alive_period_in_seconds=3600,\n",
    ")(\n",
    "    feature_group_name=feature_group_name_param,\n",
    "    output_s3_prefix=output_s3_prefix,\n",
    "    query_output_s3_path=output_location,\n",
    "    tracking_server_arn=tracking_server_arn_param,\n",
    "    experiment_name=experiment_name,\n",
    "    pipeline_run_name=ExecutionVariables.PIPELINE_EXECUTION_ID,\n",
    ")\n",
    "\n",
    "cache_config = CacheConfig(\n",
    "        enable_caching=True,\n",
    "        expire_after=\"P30d\" # 30-day\n",
    "    )\n",
    "\n",
    "# train step\n",
    "step_train = TrainingStep(\n",
    "    name=f\"{project}-train\",\n",
    "    step_args=get_xgb_estimator(\n",
    "        session=session,\n",
    "        instance_type=train_instance_type_param,\n",
    "        output_s3_url=output_s3_url,\n",
    "        base_job_name=f\"{project}-train\",\n",
    "    ).fit(\n",
    "        {\n",
    "            \"train\": TrainingInput(\n",
    "                step_extract_featureset['train_data'],\n",
    "                content_type=\"text/csv\",\n",
    "            ),\n",
    "            \"validation\": TrainingInput(\n",
    "                step_extract_featureset['validation_data'],\n",
    "                content_type=\"text/csv\",\n",
    "            ),\n",
    "        }\n",
    "    ),\n",
    "    cache_config=cache_config,\n",
    ")    \n",
    "\n",
    "# evaluate step\n",
    "step_evaluate = step(\n",
    "    evaluate,\n",
    "    instance_type=process_instance_type_param,\n",
    "    name=f\"{project}-evaluate\",\n",
    "    keep_alive_period_in_seconds=3600,\n",
    ")(\n",
    "    test_x_data_s3_path=step_extract_featureset['test_x_data'],\n",
    "    test_y_data_s3_path=step_extract_featureset['test_y_data'],\n",
    "    model_s3_path=step_train.properties.ModelArtifacts.S3ModelArtifacts,\n",
    "    output_s3_prefix=output_s3_prefix,\n",
    "    tracking_server_arn=tracking_server_arn_param,\n",
    "    experiment_name=step_extract_featureset['experiment_name'],\n",
    "    pipeline_run_id=step_extract_featureset['pipeline_run_id'],\n",
    ")\n",
    "\n",
    "# register model step\n",
    "step_register = step(\n",
    "        register,\n",
    "        name=f\"{project}-register\",\n",
    "        keep_alive_period_in_seconds=3600,\n",
    "    )(\n",
    "        training_job_name=step_train.properties.TrainingJobName,\n",
    "        model_package_group_name=model_package_group_name_param,\n",
    "        model_approval_status=model_approval_status_param,\n",
    "        evaluation_result=step_evaluate['evaluation_result'],\n",
    "        output_s3_prefix=output_s3_url,\n",
    "        tracking_server_arn=tracking_server_arn_param,\n",
    "        experiment_name=step_extract_featureset['experiment_name'],\n",
    "        pipeline_run_id=step_extract_featureset['pipeline_run_id'],\n",
    "    )\n",
    "\n",
    "# fail the pipeline execution step\n",
    "step_fail = FailStep(\n",
    "    name=f\"{project}-fail\",\n",
    "    error_message=Join(on=\" \", values=[\"Execution failed due to AUC Score < \", test_score_threshold_param]),\n",
    ")\n",
    "\n",
    "# condition to check in the condition step\n",
    "condition_gte = ConditionGreaterThanOrEqualTo(\n",
    "        left=step_evaluate['evaluation_result']['classification_metrics']['auc_score']['value'],  \n",
    "        right=test_score_threshold_param,\n",
    ")\n",
    "\n",
    "# conditional register step\n",
    "step_conditional_register = ConditionStep(\n",
    "    name=f\"{project}-check-metrics\",\n",
    "    conditions=[condition_gte],\n",
    "    if_steps=[step_register],\n",
    "    else_steps=[step_fail],\n",
    ")\n",
    "\n",
    "# Create a pipeline object\n",
    "pipeline_feature_store = Pipeline(\n",
    "    name=f\"{pipeline_name}-fs\",\n",
    "    parameters=[\n",
    "        feature_group_name_param,\n",
    "        process_instance_type_param,\n",
    "        train_instance_type_param,\n",
    "        model_approval_status_param,\n",
    "        test_score_threshold_param,\n",
    "        model_package_group_name_param,\n",
    "        tracking_server_arn_param,\n",
    "    ],\n",
    "    steps=[step_conditional_register],\n",
    "    pipeline_definition_config=PipelineDefinitionConfig(use_custom_job_prefix=True)\n",
    ")"
   ]
  },
  {
   "cell_type": "code",
   "execution_count": 99,
   "id": "bf38bf7c-f5a1-4b74-9b5b-7f461c8978bb",
   "metadata": {},
   "outputs": [
    {
     "name": "stdout",
     "output_type": "stream",
     "text": [
      "sagemaker.config INFO - Applied value from config key = SageMaker.PythonSDK.Modules.RemoteFunction.Dependencies\n",
      "sagemaker.config INFO - Applied value from config key = SageMaker.PythonSDK.Modules.RemoteFunction.IncludeLocalWorkDir\n",
      "sagemaker.config INFO - Applied value from config key = SageMaker.PythonSDK.Modules.RemoteFunction.CustomFileFilter.IgnoreNamePatterns\n",
      "sagemaker.config INFO - Applied value from config key = SageMaker.PythonSDK.Modules.RemoteFunction.InstanceType\n"
     ]
    },
    {
     "name": "stderr",
     "output_type": "stream",
     "text": [
      "2024-07-23 09:30:41,941 sagemaker.remote_function INFO     Uploading serialized function code to s3://sagemaker-us-east-1-398333718380/from-idea-to-prod-pipeline-23-07-51-02-fs/from-idea-to-prod-register/2024-07-23-09-30-39-637/function\n",
      "2024-07-23 09:30:42,003 sagemaker.remote_function INFO     Uploading serialized function arguments to s3://sagemaker-us-east-1-398333718380/from-idea-to-prod-pipeline-23-07-51-02-fs/from-idea-to-prod-register/2024-07-23-09-30-39-637/arguments\n",
      "2024-07-23 09:30:42,322 sagemaker.remote_function INFO     Copied dependencies file at './requirements.txt' to '/tmp/tmprzoqzi62/requirements.txt'\n",
      "2024-07-23 09:30:42,350 sagemaker.remote_function INFO     Successfully uploaded dependencies and pre execution scripts to 's3://sagemaker-us-east-1-398333718380/from-idea-to-prod-pipeline-23-07-51-02-fs/from-idea-to-prod-register/2024-07-23-09-30-39-637/pre_exec_script_and_dependencies'\n",
      "2024-07-23 09:30:42,402 sagemaker.remote_function INFO     Copied user workspace to '/tmp/tmpkfi1uu5m/temp_workspace/sagemaker_remote_function_workspace'\n",
      "2024-07-23 09:30:44,561 sagemaker.remote_function INFO     Successfully created workdir archive at '/tmp/tmpkfi1uu5m/workspace.zip'\n",
      "2024-07-23 09:30:45,405 sagemaker.remote_function INFO     Successfully uploaded workdir to 's3://sagemaker-us-east-1-398333718380/from-idea-to-prod-pipeline-23-07-51-02-fs/sm_rf_user_ws/2024-07-23-09-30-39-637/workspace.zip'\n"
     ]
    },
    {
     "name": "stdout",
     "output_type": "stream",
     "text": [
      "sagemaker.config INFO - Applied value from config key = SageMaker.PythonSDK.Modules.RemoteFunction.Dependencies\n",
      "sagemaker.config INFO - Applied value from config key = SageMaker.PythonSDK.Modules.RemoteFunction.IncludeLocalWorkDir\n",
      "sagemaker.config INFO - Applied value from config key = SageMaker.PythonSDK.Modules.RemoteFunction.CustomFileFilter.IgnoreNamePatterns\n"
     ]
    },
    {
     "name": "stderr",
     "output_type": "stream",
     "text": [
      "2024-07-23 09:30:47,858 sagemaker.remote_function INFO     Uploading serialized function code to s3://sagemaker-us-east-1-398333718380/from-idea-to-prod-pipeline-23-07-51-02-fs/from-idea-to-prod-evaluate/2024-07-23-09-30-39-637/function\n",
      "2024-07-23 09:30:47,994 sagemaker.remote_function INFO     Uploading serialized function arguments to s3://sagemaker-us-east-1-398333718380/from-idea-to-prod-pipeline-23-07-51-02-fs/from-idea-to-prod-evaluate/2024-07-23-09-30-39-637/arguments\n",
      "2024-07-23 09:30:48,112 sagemaker.remote_function INFO     Copied dependencies file at './requirements.txt' to '/tmp/tmpf9up7rq6/requirements.txt'\n",
      "2024-07-23 09:30:48,136 sagemaker.remote_function INFO     Successfully uploaded dependencies and pre execution scripts to 's3://sagemaker-us-east-1-398333718380/from-idea-to-prod-pipeline-23-07-51-02-fs/from-idea-to-prod-evaluate/2024-07-23-09-30-39-637/pre_exec_script_and_dependencies'\n"
     ]
    },
    {
     "name": "stdout",
     "output_type": "stream",
     "text": [
      "sagemaker.config INFO - Applied value from config key = SageMaker.PythonSDK.Modules.RemoteFunction.Dependencies\n",
      "sagemaker.config INFO - Applied value from config key = SageMaker.PythonSDK.Modules.RemoteFunction.IncludeLocalWorkDir\n",
      "sagemaker.config INFO - Applied value from config key = SageMaker.PythonSDK.Modules.RemoteFunction.CustomFileFilter.IgnoreNamePatterns\n"
     ]
    },
    {
     "name": "stderr",
     "output_type": "stream",
     "text": [
      "2024-07-23 09:30:50,501 sagemaker.remote_function INFO     Uploading serialized function code to s3://sagemaker-us-east-1-398333718380/from-idea-to-prod-pipeline-23-07-51-02-fs/from-idea-to-prod-extract-featureset/2024-07-23-09-30-39-637/function\n",
      "2024-07-23 09:30:50,554 sagemaker.remote_function INFO     Uploading serialized function arguments to s3://sagemaker-us-east-1-398333718380/from-idea-to-prod-pipeline-23-07-51-02-fs/from-idea-to-prod-extract-featureset/2024-07-23-09-30-39-637/arguments\n",
      "2024-07-23 09:30:50,688 sagemaker.remote_function INFO     Copied dependencies file at './requirements.txt' to '/tmp/tmpcqrumiak/requirements.txt'\n",
      "2024-07-23 09:30:50,709 sagemaker.remote_function INFO     Successfully uploaded dependencies and pre execution scripts to 's3://sagemaker-us-east-1-398333718380/from-idea-to-prod-pipeline-23-07-51-02-fs/from-idea-to-prod-extract-featureset/2024-07-23-09-30-39-637/pre_exec_script_and_dependencies'\n"
     ]
    },
    {
     "data": {
      "text/plain": [
       "{'PipelineArn': 'arn:aws:sagemaker:us-east-1:398333718380:pipeline/from-idea-to-prod-pipeline-23-07-51-02-fs',\n",
       " 'ResponseMetadata': {'RequestId': '226426b6-9ab5-41f8-9c96-309dc97e4ffe',\n",
       "  'HTTPStatusCode': 200,\n",
       "  'HTTPHeaders': {'x-amzn-requestid': '226426b6-9ab5-41f8-9c96-309dc97e4ffe',\n",
       "   'content-type': 'application/x-amz-json-1.1',\n",
       "   'content-length': '109',\n",
       "   'date': 'Tue, 23 Jul 2024 09:30:51 GMT'},\n",
       "  'RetryAttempts': 0}}"
      ]
     },
     "execution_count": 99,
     "metadata": {},
     "output_type": "execute_result"
    }
   ],
   "source": [
    "pipeline_feature_store.upsert(role_arn=sm_role)"
   ]
  },
  {
   "cell_type": "markdown",
   "id": "dd536adc-6624-4e46-98c2-5159045dbff7",
   "metadata": {},
   "source": [
    "The new pipeline looks exactly the same as the first pipeline but has a featureset extraction step instead of feature engineering - `from-idea-to-prod-extract-featureset`:\n",
    "\n",
    "![](img/pipeline-fs-graph.png)"
   ]
  },
  {
   "cell_type": "markdown",
   "id": "00c9d895-666e-4d01-8d87-1318fdafe2a9",
   "metadata": {},
   "source": [
    "### Execute a new pipeline"
   ]
  },
  {
   "cell_type": "code",
   "execution_count": 100,
   "id": "26e82aaa-72f7-4d79-8aac-2025b3e25f37",
   "metadata": {},
   "outputs": [],
   "source": [
    "execution_feature_store = pipeline_feature_store.start()"
   ]
  },
  {
   "cell_type": "code",
   "execution_count": 101,
   "id": "fcc5f4ad-736a-419a-88c0-9fde3356e058",
   "metadata": {},
   "outputs": [],
   "source": [
    "# Uncomment these two lines if you'd like to wait until execution is done\n",
    "# execution_feature_store.wait()\n",
    "# execution_feature_store.list_steps()"
   ]
  },
  {
   "cell_type": "markdown",
   "id": "da456c67-e0bc-441c-8f04-5e55bd1ac5d5",
   "metadata": {},
   "source": [
    "## Further reading: use Feature Processor for feature transformation and ingestion\n",
    "SageMaker provides you with a Spark-based [Feature Processor SDK](https://sagemaker.readthedocs.io/en/stable/api/prep_data/feature_store.html#feature-processor-decorator) with which you can transform and ingest data from batch data sources into your feature groups. Read through the description and examples in the [Developer Guide](https://docs.aws.amazon.com/sagemaker/latest/dg/feature-store-feature-processing.html).\n",
    "\n",
    "Refer to a more detailed example of feature processor in [feature store feature processor](https://github.com/aws/amazon-sagemaker-examples/blob/main/sagemaker-featurestore/feature_store_feature_processor.ipynb) notebook."
   ]
  },
  {
   "cell_type": "markdown",
   "id": "51bac953-1d16-47b4-939b-c8f9f2966c0e",
   "metadata": {},
   "source": [
    "## Summary\n",
    "In this notebook you've built three SageMaker pipelines:\n",
    "- An initial model building pipeline with data processing, model training, model evaluation, and conditional model registration steps\n",
    "- Next version of this pipeline with data and model quality monitoring and batch transform\n",
    "- A feature engineering and ingestion into the SageMaker Feature Store pipeline\n",
    "- An adapted version of the initial pipeline with the data processing step replaced by the featureset extraction step."
   ]
  },
  {
   "cell_type": "markdown",
   "id": "0749da96-9b82-465c-8328-eecd515d23a7",
   "metadata": {},
   "source": [
    "---"
   ]
  },
  {
   "cell_type": "markdown",
   "id": "9c1eb4e6-6010-49c3-ada7-9935bf8644b8",
   "metadata": {},
   "source": [
    "## Continue with the workshop flow\n",
    "After finishing this lab, you can continue with the step 4 and 5 [notebooks](04-sagemaker-project.ipynb) or go directly to the step 6 [notebook](06-monitoring.ipynb):\n",
    "\n",
    "- **Step 4 and 5 notebooks**: Use SageMaker Projects to implement CI/CD automation pipelines for model build and deployment\n",
    "\n",
    "- **Step 6 notebooks**: Data and model quality monitoring"
   ]
  },
  {
   "cell_type": "markdown",
   "id": "eaf9dea1-ec92-4a28-8523-31c990c274a4",
   "metadata": {},
   "source": [
    "## Further development ideas for your real-world projects\n",
    "- Add [bias detection and model explainability](https://docs.aws.amazon.com/sagemaker/latest/dg/build-and-manage-steps.html#step-type-clarify-check) steps. Add model metrics calculated by [SageMaker Clarify](https://docs.aws.amazon.com/sagemaker/latest/dg/clarify-configure-processing-jobs.html) to the model metadata in the model registry\n",
    "- Add event-driven launching of the ML pipeline as soon as a new dataset is uploaded to an Amazon S3 bucket. You can use [Amazon EventBridge integeration](https://docs.aws.amazon.com/sagemaker/latest/dg/pipeline-eventbridge.html#pipeline-eventbridge-schedule) to implement various event-driven workflows\n",
    "- Use a designated IAM execution role for the pipeline execution\n",
    "- Add data encryption by using S3 bucket encryption and AWS KMS keys for container EBS volume encryption"
   ]
  },
  {
   "cell_type": "markdown",
   "id": "7f8f9efc-0920-4077-bd58-9f5514550412",
   "metadata": {},
   "source": [
    "## Additional resources\n",
    "- [Automate Machine Learning Workflows](https://aws.amazon.com/getting-started/hands-on/machine-learning-tutorial-mlops-automate-ml-workflows/)\n",
    "- [Amazon SageMaker Feature Store workshop](https://github.com/aws-samples/amazon-sagemaker-feature-store-end-to-end-workshop)\n",
    "- [Amazon SageMaker Model Building Pipeline](https://github.com/aws/sagemaker-python-sdk/blob/master/doc/amazon_sagemaker_model_building_pipeline.rst)\n",
    "- [MLOPs With SageMaker Pipelines Step Decorator](https://towardsaws.com/mlops-with-sagemaker-pipelines-step-decorator-bb63fce88846)"
   ]
  },
  {
   "cell_type": "markdown",
   "id": "874abcd0-2241-4118-9191-011215b861cd",
   "metadata": {},
   "source": [
    "# Shutdown kernel"
   ]
  },
  {
   "cell_type": "code",
   "execution_count": null,
   "id": "139bfea5-a835-4adc-81f0-e5355bf53a97",
   "metadata": {},
   "outputs": [],
   "source": [
    "%%html\n",
    "\n",
    "<p><b>Shutting down your kernel for this notebook to release resources.</b></p>\n",
    "<button class=\"sm-command-button\" data-commandlinker-command=\"kernelmenu:shutdown\" style=\"display:none;\">Shutdown Kernel</button>\n",
    "        \n",
    "<script>\n",
    "try {\n",
    "    els = document.getElementsByClassName(\"sm-command-button\");\n",
    "    els[0].click();\n",
    "}\n",
    "catch(err) {\n",
    "    // NoOp\n",
    "}    \n",
    "</script>"
   ]
  }
 ],
 "metadata": {
  "availableInstances": [
   {
    "_defaultOrder": 0,
    "_isFastLaunch": true,
    "category": "General purpose",
    "gpuNum": 0,
    "hideHardwareSpecs": false,
    "memoryGiB": 4,
    "name": "ml.t3.medium",
    "vcpuNum": 2
   },
   {
    "_defaultOrder": 1,
    "_isFastLaunch": false,
    "category": "General purpose",
    "gpuNum": 0,
    "hideHardwareSpecs": false,
    "memoryGiB": 8,
    "name": "ml.t3.large",
    "vcpuNum": 2
   },
   {
    "_defaultOrder": 2,
    "_isFastLaunch": false,
    "category": "General purpose",
    "gpuNum": 0,
    "hideHardwareSpecs": false,
    "memoryGiB": 16,
    "name": "ml.t3.xlarge",
    "vcpuNum": 4
   },
   {
    "_defaultOrder": 3,
    "_isFastLaunch": false,
    "category": "General purpose",
    "gpuNum": 0,
    "hideHardwareSpecs": false,
    "memoryGiB": 32,
    "name": "ml.t3.2xlarge",
    "vcpuNum": 8
   },
   {
    "_defaultOrder": 4,
    "_isFastLaunch": true,
    "category": "General purpose",
    "gpuNum": 0,
    "hideHardwareSpecs": false,
    "memoryGiB": 8,
    "name": "ml.m5.large",
    "vcpuNum": 2
   },
   {
    "_defaultOrder": 5,
    "_isFastLaunch": false,
    "category": "General purpose",
    "gpuNum": 0,
    "hideHardwareSpecs": false,
    "memoryGiB": 16,
    "name": "ml.m5.xlarge",
    "vcpuNum": 4
   },
   {
    "_defaultOrder": 6,
    "_isFastLaunch": false,
    "category": "General purpose",
    "gpuNum": 0,
    "hideHardwareSpecs": false,
    "memoryGiB": 32,
    "name": "ml.m5.2xlarge",
    "vcpuNum": 8
   },
   {
    "_defaultOrder": 7,
    "_isFastLaunch": false,
    "category": "General purpose",
    "gpuNum": 0,
    "hideHardwareSpecs": false,
    "memoryGiB": 64,
    "name": "ml.m5.4xlarge",
    "vcpuNum": 16
   },
   {
    "_defaultOrder": 8,
    "_isFastLaunch": false,
    "category": "General purpose",
    "gpuNum": 0,
    "hideHardwareSpecs": false,
    "memoryGiB": 128,
    "name": "ml.m5.8xlarge",
    "vcpuNum": 32
   },
   {
    "_defaultOrder": 9,
    "_isFastLaunch": false,
    "category": "General purpose",
    "gpuNum": 0,
    "hideHardwareSpecs": false,
    "memoryGiB": 192,
    "name": "ml.m5.12xlarge",
    "vcpuNum": 48
   },
   {
    "_defaultOrder": 10,
    "_isFastLaunch": false,
    "category": "General purpose",
    "gpuNum": 0,
    "hideHardwareSpecs": false,
    "memoryGiB": 256,
    "name": "ml.m5.16xlarge",
    "vcpuNum": 64
   },
   {
    "_defaultOrder": 11,
    "_isFastLaunch": false,
    "category": "General purpose",
    "gpuNum": 0,
    "hideHardwareSpecs": false,
    "memoryGiB": 384,
    "name": "ml.m5.24xlarge",
    "vcpuNum": 96
   },
   {
    "_defaultOrder": 12,
    "_isFastLaunch": false,
    "category": "General purpose",
    "gpuNum": 0,
    "hideHardwareSpecs": false,
    "memoryGiB": 8,
    "name": "ml.m5d.large",
    "vcpuNum": 2
   },
   {
    "_defaultOrder": 13,
    "_isFastLaunch": false,
    "category": "General purpose",
    "gpuNum": 0,
    "hideHardwareSpecs": false,
    "memoryGiB": 16,
    "name": "ml.m5d.xlarge",
    "vcpuNum": 4
   },
   {
    "_defaultOrder": 14,
    "_isFastLaunch": false,
    "category": "General purpose",
    "gpuNum": 0,
    "hideHardwareSpecs": false,
    "memoryGiB": 32,
    "name": "ml.m5d.2xlarge",
    "vcpuNum": 8
   },
   {
    "_defaultOrder": 15,
    "_isFastLaunch": false,
    "category": "General purpose",
    "gpuNum": 0,
    "hideHardwareSpecs": false,
    "memoryGiB": 64,
    "name": "ml.m5d.4xlarge",
    "vcpuNum": 16
   },
   {
    "_defaultOrder": 16,
    "_isFastLaunch": false,
    "category": "General purpose",
    "gpuNum": 0,
    "hideHardwareSpecs": false,
    "memoryGiB": 128,
    "name": "ml.m5d.8xlarge",
    "vcpuNum": 32
   },
   {
    "_defaultOrder": 17,
    "_isFastLaunch": false,
    "category": "General purpose",
    "gpuNum": 0,
    "hideHardwareSpecs": false,
    "memoryGiB": 192,
    "name": "ml.m5d.12xlarge",
    "vcpuNum": 48
   },
   {
    "_defaultOrder": 18,
    "_isFastLaunch": false,
    "category": "General purpose",
    "gpuNum": 0,
    "hideHardwareSpecs": false,
    "memoryGiB": 256,
    "name": "ml.m5d.16xlarge",
    "vcpuNum": 64
   },
   {
    "_defaultOrder": 19,
    "_isFastLaunch": false,
    "category": "General purpose",
    "gpuNum": 0,
    "hideHardwareSpecs": false,
    "memoryGiB": 384,
    "name": "ml.m5d.24xlarge",
    "vcpuNum": 96
   },
   {
    "_defaultOrder": 20,
    "_isFastLaunch": false,
    "category": "General purpose",
    "gpuNum": 0,
    "hideHardwareSpecs": true,
    "memoryGiB": 0,
    "name": "ml.geospatial.interactive",
    "supportedImageNames": [
     "sagemaker-geospatial-v1-0"
    ],
    "vcpuNum": 0
   },
   {
    "_defaultOrder": 21,
    "_isFastLaunch": true,
    "category": "Compute optimized",
    "gpuNum": 0,
    "hideHardwareSpecs": false,
    "memoryGiB": 4,
    "name": "ml.c5.large",
    "vcpuNum": 2
   },
   {
    "_defaultOrder": 22,
    "_isFastLaunch": false,
    "category": "Compute optimized",
    "gpuNum": 0,
    "hideHardwareSpecs": false,
    "memoryGiB": 8,
    "name": "ml.c5.xlarge",
    "vcpuNum": 4
   },
   {
    "_defaultOrder": 23,
    "_isFastLaunch": false,
    "category": "Compute optimized",
    "gpuNum": 0,
    "hideHardwareSpecs": false,
    "memoryGiB": 16,
    "name": "ml.c5.2xlarge",
    "vcpuNum": 8
   },
   {
    "_defaultOrder": 24,
    "_isFastLaunch": false,
    "category": "Compute optimized",
    "gpuNum": 0,
    "hideHardwareSpecs": false,
    "memoryGiB": 32,
    "name": "ml.c5.4xlarge",
    "vcpuNum": 16
   },
   {
    "_defaultOrder": 25,
    "_isFastLaunch": false,
    "category": "Compute optimized",
    "gpuNum": 0,
    "hideHardwareSpecs": false,
    "memoryGiB": 72,
    "name": "ml.c5.9xlarge",
    "vcpuNum": 36
   },
   {
    "_defaultOrder": 26,
    "_isFastLaunch": false,
    "category": "Compute optimized",
    "gpuNum": 0,
    "hideHardwareSpecs": false,
    "memoryGiB": 96,
    "name": "ml.c5.12xlarge",
    "vcpuNum": 48
   },
   {
    "_defaultOrder": 27,
    "_isFastLaunch": false,
    "category": "Compute optimized",
    "gpuNum": 0,
    "hideHardwareSpecs": false,
    "memoryGiB": 144,
    "name": "ml.c5.18xlarge",
    "vcpuNum": 72
   },
   {
    "_defaultOrder": 28,
    "_isFastLaunch": false,
    "category": "Compute optimized",
    "gpuNum": 0,
    "hideHardwareSpecs": false,
    "memoryGiB": 192,
    "name": "ml.c5.24xlarge",
    "vcpuNum": 96
   },
   {
    "_defaultOrder": 29,
    "_isFastLaunch": true,
    "category": "Accelerated computing",
    "gpuNum": 1,
    "hideHardwareSpecs": false,
    "memoryGiB": 16,
    "name": "ml.g4dn.xlarge",
    "vcpuNum": 4
   },
   {
    "_defaultOrder": 30,
    "_isFastLaunch": false,
    "category": "Accelerated computing",
    "gpuNum": 1,
    "hideHardwareSpecs": false,
    "memoryGiB": 32,
    "name": "ml.g4dn.2xlarge",
    "vcpuNum": 8
   },
   {
    "_defaultOrder": 31,
    "_isFastLaunch": false,
    "category": "Accelerated computing",
    "gpuNum": 1,
    "hideHardwareSpecs": false,
    "memoryGiB": 64,
    "name": "ml.g4dn.4xlarge",
    "vcpuNum": 16
   },
   {
    "_defaultOrder": 32,
    "_isFastLaunch": false,
    "category": "Accelerated computing",
    "gpuNum": 1,
    "hideHardwareSpecs": false,
    "memoryGiB": 128,
    "name": "ml.g4dn.8xlarge",
    "vcpuNum": 32
   },
   {
    "_defaultOrder": 33,
    "_isFastLaunch": false,
    "category": "Accelerated computing",
    "gpuNum": 4,
    "hideHardwareSpecs": false,
    "memoryGiB": 192,
    "name": "ml.g4dn.12xlarge",
    "vcpuNum": 48
   },
   {
    "_defaultOrder": 34,
    "_isFastLaunch": false,
    "category": "Accelerated computing",
    "gpuNum": 1,
    "hideHardwareSpecs": false,
    "memoryGiB": 256,
    "name": "ml.g4dn.16xlarge",
    "vcpuNum": 64
   },
   {
    "_defaultOrder": 35,
    "_isFastLaunch": false,
    "category": "Accelerated computing",
    "gpuNum": 1,
    "hideHardwareSpecs": false,
    "memoryGiB": 61,
    "name": "ml.p3.2xlarge",
    "vcpuNum": 8
   },
   {
    "_defaultOrder": 36,
    "_isFastLaunch": false,
    "category": "Accelerated computing",
    "gpuNum": 4,
    "hideHardwareSpecs": false,
    "memoryGiB": 244,
    "name": "ml.p3.8xlarge",
    "vcpuNum": 32
   },
   {
    "_defaultOrder": 37,
    "_isFastLaunch": false,
    "category": "Accelerated computing",
    "gpuNum": 8,
    "hideHardwareSpecs": false,
    "memoryGiB": 488,
    "name": "ml.p3.16xlarge",
    "vcpuNum": 64
   },
   {
    "_defaultOrder": 38,
    "_isFastLaunch": false,
    "category": "Accelerated computing",
    "gpuNum": 8,
    "hideHardwareSpecs": false,
    "memoryGiB": 768,
    "name": "ml.p3dn.24xlarge",
    "vcpuNum": 96
   },
   {
    "_defaultOrder": 39,
    "_isFastLaunch": false,
    "category": "Memory Optimized",
    "gpuNum": 0,
    "hideHardwareSpecs": false,
    "memoryGiB": 16,
    "name": "ml.r5.large",
    "vcpuNum": 2
   },
   {
    "_defaultOrder": 40,
    "_isFastLaunch": false,
    "category": "Memory Optimized",
    "gpuNum": 0,
    "hideHardwareSpecs": false,
    "memoryGiB": 32,
    "name": "ml.r5.xlarge",
    "vcpuNum": 4
   },
   {
    "_defaultOrder": 41,
    "_isFastLaunch": false,
    "category": "Memory Optimized",
    "gpuNum": 0,
    "hideHardwareSpecs": false,
    "memoryGiB": 64,
    "name": "ml.r5.2xlarge",
    "vcpuNum": 8
   },
   {
    "_defaultOrder": 42,
    "_isFastLaunch": false,
    "category": "Memory Optimized",
    "gpuNum": 0,
    "hideHardwareSpecs": false,
    "memoryGiB": 128,
    "name": "ml.r5.4xlarge",
    "vcpuNum": 16
   },
   {
    "_defaultOrder": 43,
    "_isFastLaunch": false,
    "category": "Memory Optimized",
    "gpuNum": 0,
    "hideHardwareSpecs": false,
    "memoryGiB": 256,
    "name": "ml.r5.8xlarge",
    "vcpuNum": 32
   },
   {
    "_defaultOrder": 44,
    "_isFastLaunch": false,
    "category": "Memory Optimized",
    "gpuNum": 0,
    "hideHardwareSpecs": false,
    "memoryGiB": 384,
    "name": "ml.r5.12xlarge",
    "vcpuNum": 48
   },
   {
    "_defaultOrder": 45,
    "_isFastLaunch": false,
    "category": "Memory Optimized",
    "gpuNum": 0,
    "hideHardwareSpecs": false,
    "memoryGiB": 512,
    "name": "ml.r5.16xlarge",
    "vcpuNum": 64
   },
   {
    "_defaultOrder": 46,
    "_isFastLaunch": false,
    "category": "Memory Optimized",
    "gpuNum": 0,
    "hideHardwareSpecs": false,
    "memoryGiB": 768,
    "name": "ml.r5.24xlarge",
    "vcpuNum": 96
   },
   {
    "_defaultOrder": 47,
    "_isFastLaunch": false,
    "category": "Accelerated computing",
    "gpuNum": 1,
    "hideHardwareSpecs": false,
    "memoryGiB": 16,
    "name": "ml.g5.xlarge",
    "vcpuNum": 4
   },
   {
    "_defaultOrder": 48,
    "_isFastLaunch": false,
    "category": "Accelerated computing",
    "gpuNum": 1,
    "hideHardwareSpecs": false,
    "memoryGiB": 32,
    "name": "ml.g5.2xlarge",
    "vcpuNum": 8
   },
   {
    "_defaultOrder": 49,
    "_isFastLaunch": false,
    "category": "Accelerated computing",
    "gpuNum": 1,
    "hideHardwareSpecs": false,
    "memoryGiB": 64,
    "name": "ml.g5.4xlarge",
    "vcpuNum": 16
   },
   {
    "_defaultOrder": 50,
    "_isFastLaunch": false,
    "category": "Accelerated computing",
    "gpuNum": 1,
    "hideHardwareSpecs": false,
    "memoryGiB": 128,
    "name": "ml.g5.8xlarge",
    "vcpuNum": 32
   },
   {
    "_defaultOrder": 51,
    "_isFastLaunch": false,
    "category": "Accelerated computing",
    "gpuNum": 1,
    "hideHardwareSpecs": false,
    "memoryGiB": 256,
    "name": "ml.g5.16xlarge",
    "vcpuNum": 64
   },
   {
    "_defaultOrder": 52,
    "_isFastLaunch": false,
    "category": "Accelerated computing",
    "gpuNum": 4,
    "hideHardwareSpecs": false,
    "memoryGiB": 192,
    "name": "ml.g5.12xlarge",
    "vcpuNum": 48
   },
   {
    "_defaultOrder": 53,
    "_isFastLaunch": false,
    "category": "Accelerated computing",
    "gpuNum": 4,
    "hideHardwareSpecs": false,
    "memoryGiB": 384,
    "name": "ml.g5.24xlarge",
    "vcpuNum": 96
   },
   {
    "_defaultOrder": 54,
    "_isFastLaunch": false,
    "category": "Accelerated computing",
    "gpuNum": 8,
    "hideHardwareSpecs": false,
    "memoryGiB": 768,
    "name": "ml.g5.48xlarge",
    "vcpuNum": 192
   },
   {
    "_defaultOrder": 55,
    "_isFastLaunch": false,
    "category": "Accelerated computing",
    "gpuNum": 8,
    "hideHardwareSpecs": false,
    "memoryGiB": 1152,
    "name": "ml.p4d.24xlarge",
    "vcpuNum": 96
   },
   {
    "_defaultOrder": 56,
    "_isFastLaunch": false,
    "category": "Accelerated computing",
    "gpuNum": 8,
    "hideHardwareSpecs": false,
    "memoryGiB": 1152,
    "name": "ml.p4de.24xlarge",
    "vcpuNum": 96
   },
   {
    "_defaultOrder": 57,
    "_isFastLaunch": false,
    "category": "Accelerated computing",
    "gpuNum": 0,
    "hideHardwareSpecs": false,
    "memoryGiB": 32,
    "name": "ml.trn1.2xlarge",
    "vcpuNum": 8
   },
   {
    "_defaultOrder": 58,
    "_isFastLaunch": false,
    "category": "Accelerated computing",
    "gpuNum": 0,
    "hideHardwareSpecs": false,
    "memoryGiB": 512,
    "name": "ml.trn1.32xlarge",
    "vcpuNum": 128
   },
   {
    "_defaultOrder": 59,
    "_isFastLaunch": false,
    "category": "Accelerated computing",
    "gpuNum": 0,
    "hideHardwareSpecs": false,
    "memoryGiB": 512,
    "name": "ml.trn1n.32xlarge",
    "vcpuNum": 128
   }
  ],
  "instance_type": "ml.t3.medium",
  "kernelspec": {
   "display_name": "Python 3 (ipykernel)",
   "language": "python",
   "name": "python3"
  },
  "language_info": {
   "codemirror_mode": {
    "name": "ipython",
    "version": 3
   },
   "file_extension": ".py",
   "mimetype": "text/x-python",
   "name": "python",
   "nbconvert_exporter": "python",
   "pygments_lexer": "ipython3",
   "version": "3.11.9"
  }
 },
 "nbformat": 4,
 "nbformat_minor": 5
}
